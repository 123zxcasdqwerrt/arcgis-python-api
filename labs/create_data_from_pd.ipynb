{
 "cells": [
  {
   "cell_type": "code",
   "execution_count": 3,
   "metadata": {},
   "outputs": [
    {
     "name": "stdout",
     "output_type": "stream",
     "text": [
      "Please enter password: ········\n",
      "Successfully logged in to browns.maps.arcgis.com as johnnyDev\n"
     ]
    }
   ],
   "source": [
    "import getpass\n",
    "import arcgis.features as features\n",
    "import arcgis.geometry as geometry\n",
    "from arcgis.gis import GIS\n",
    "\n",
    "password = getpass.getpass(\"Please enter password: \")\n",
    "gis = GIS('https://browns.maps.arcgis.com', 'johnnyDev', password)\n",
    "print(\"Successfully logged in to {} as {}\".format(gis.properties.urlKey + '.' + gis.properties.customBaseUrl,\n",
    "                                                 gis.users.me.username))"
   ]
  },
  {
   "cell_type": "markdown",
   "metadata": {},
   "source": [
    "#### Steps\n",
    " 1. search for the item that you previusly made with the Create Layer tool\n",
    " 2. the search returns a list of items, so retrieve the item\n",
    " 3. retrieve the Feature Layer item with layers property of the item\n",
    " 4. print values to ensure you have the layer"
   ]
  },
  {
   "cell_type": "code",
   "execution_count": 7,
   "metadata": {},
   "outputs": [
    {
     "name": "stdout",
     "output_type": "stream",
     "text": [
      "griffith_park_cltool is a Feature Layer\n"
     ]
    }
   ],
   "source": [
    "feature_item = gis.content.search(query=\"\"\"title: \"Griffith Park*\" \"\"\", \n",
    "                                  item_type=\"Feature Service\")\n",
    "griffith_item = feature_item[0]\n",
    "griffith_lyr = griffith_item.layers[0]\n",
    "print(\"{} is a {}\".format(griffith_lyr.properties.name, griffith_lyr.properties.type))"
   ]
  },
  {
   "cell_type": "markdown",
   "metadata": {},
   "source": [
    "#### Step\n",
    " 1. load csv file with coordinate values and attributes for new features into a pandas dataframe"
   ]
  },
  {
   "cell_type": "code",
   "execution_count": 8,
   "metadata": {},
   "outputs": [
    {
     "data": {
      "text/html": [
       "<div>\n",
       "<table border=\"1\" class=\"dataframe\">\n",
       "  <thead>\n",
       "    <tr style=\"text-align: right;\">\n",
       "      <th></th>\n",
       "      <th>Name</th>\n",
       "      <th>Type</th>\n",
       "      <th>Surface</th>\n",
       "      <th>Latitude</th>\n",
       "      <th>Longitude</th>\n",
       "    </tr>\n",
       "  </thead>\n",
       "  <tbody>\n",
       "    <tr>\n",
       "      <th>0</th>\n",
       "      <td>Griffith Park</td>\n",
       "      <td>Entrance</td>\n",
       "      <td>Concrete</td>\n",
       "      <td>34.136555</td>\n",
       "      <td>-118.294197</td>\n",
       "    </tr>\n",
       "    <tr>\n",
       "      <th>1</th>\n",
       "      <td>Hollywood Sign</td>\n",
       "      <td>Attraction</td>\n",
       "      <td>Mountainous</td>\n",
       "      <td>34.134021</td>\n",
       "      <td>-118.323865</td>\n",
       "    </tr>\n",
       "    <tr>\n",
       "      <th>2</th>\n",
       "      <td>Paramount Pictures</td>\n",
       "      <td>Attraction</td>\n",
       "      <td>Concrete</td>\n",
       "      <td>34.085423</td>\n",
       "      <td>-118.321341</td>\n",
       "    </tr>\n",
       "  </tbody>\n",
       "</table>\n",
       "</div>"
      ],
      "text/plain": [
       "                 Name         Type       Surface   Latitude   Longitude\n",
       "0       Griffith Park     Entrance      Concrete  34.136555 -118.294197\n",
       "1      Hollywood Sign   Attraction   Mountainous  34.134021 -118.323865\n",
       "2  Paramount Pictures   Attraction      Concrete  34.085423 -118.321341"
      ]
     },
     "execution_count": 8,
     "metadata": {},
     "output_type": "execute_result"
    }
   ],
   "source": [
    "import pandas\n",
    "feat_records = pandas.read_csv(r'C:\\Data\\CSV\\la_area_values.csv')\n",
    "feat_records"
   ]
  },
  {
   "cell_type": "markdown",
   "metadata": {},
   "source": [
    "#### Steps\n",
    " 1. Construct list of Point objects, and a list of attribute dictionaries from the dataframe"
   ]
  },
  {
   "cell_type": "code",
   "execution_count": 18,
   "metadata": {
    "collapsed": true
   },
   "outputs": [],
   "source": [
    "pts = []\n",
    "atts = []\n",
    "for index, row in feat_records.iterrows():\n",
    "    pt = geometry.Point({'x': float(row['Longitude']),\n",
    "                    'y': float(row['Latitude']),\n",
    "                    'spatialReference': {'wkid': 4236}\n",
    "                   })\n",
    "    att = {'name' : str(row['Name']),\n",
    "          'type': str(row['Type']),\n",
    "          'surface': str(row['Surface']),\n",
    "          'OBJECTID': int(index) + 1\n",
    "          }\n",
    "    atts.append(att)\n",
    "    pts.append(pt)"
   ]
  },
  {
   "cell_type": "markdown",
   "metadata": {},
   "source": [
    "#### Steps\n",
    " 1. Build a list of features from the Point and Attribute lists"
   ]
  },
  {
   "cell_type": "code",
   "execution_count": 19,
   "metadata": {
    "collapsed": true
   },
   "outputs": [],
   "source": [
    "feats = []\n",
    "for i in range(0, 3):\n",
    "    feat = features.Feature(geometry=pts[i], attributes=atts[i])\n",
    "    feats.append(feat)"
   ]
  },
  {
   "cell_type": "code",
   "execution_count": null,
   "metadata": {
    "collapsed": true
   },
   "outputs": [],
   "source": [
    "#from arcgis.features import FeatureSet"
   ]
  },
  {
   "cell_type": "code",
   "execution_count": null,
   "metadata": {
    "collapsed": true
   },
   "outputs": [],
   "source": [
    "#fset = FeatureSet(features=feats)\n",
    "#fset.fields"
   ]
  },
  {
   "cell_type": "code",
   "execution_count": null,
   "metadata": {
    "collapsed": true
   },
   "outputs": [],
   "source": [
    "#f.geometry"
   ]
  },
  {
   "cell_type": "code",
   "execution_count": null,
   "metadata": {
    "collapsed": true
   },
   "outputs": [],
   "source": [
    "#for f in feats:\n",
    "#    map1.draw(f.geometry)"
   ]
  },
  {
   "cell_type": "markdown",
   "metadata": {},
   "source": [
    "#### Steps\n",
    "1. Use the edit_features function to add the list of features to the empty layer created above"
   ]
  },
  {
   "cell_type": "code",
   "execution_count": 24,
   "metadata": {},
   "outputs": [
    {
     "data": {
      "text/plain": [
       "{'addResults': [{'globalId': None, 'objectId': 4, 'success': True},\n",
       "  {'globalId': None, 'objectId': 5, 'success': True},\n",
       "  {'globalId': None, 'objectId': 6, 'success': True}],\n",
       " 'deleteResults': [],\n",
       " 'updateResults': []}"
      ]
     },
     "execution_count": 24,
     "metadata": {},
     "output_type": "execute_result"
    }
   ],
   "source": [
    "griffith_lyr.edit_features(adds=feats) # feats should be a list? doc says 'array'? np array?"
   ]
  },
  {
   "cell_type": "markdown",
   "metadata": {},
   "source": [
    "#### Steps\n",
    "1. Assign a variable to a map widget\n",
    "2. Add the layer to the map"
   ]
  },
  {
   "cell_type": "code",
   "execution_count": 25,
   "metadata": {},
   "outputs": [
    {
     "data": {
      "application/vnd.jupyter.widget-view+json": {
       "model_id": "f1d01e9294f64d16951a5f07f21e7466"
      }
     },
     "metadata": {},
     "output_type": "display_data"
    }
   ],
   "source": [
    "map2 = gis.map('Los Angeles', 10)\n",
    "map2"
   ]
  },
  {
   "cell_type": "code",
   "execution_count": 26,
   "metadata": {
    "collapsed": true
   },
   "outputs": [],
   "source": [
    "map2.add_layer(griffith_lyr)"
   ]
  },
  {
   "cell_type": "code",
   "execution_count": null,
   "metadata": {
    "collapsed": true
   },
   "outputs": [],
   "source": [
    "# from arcgis import geocoding\n",
    "\n",
    "# def find_addr(map2, g):\n",
    "#     try:\n",
    "#         #geocoded = geocoding.reverse_geocode(g)\n",
    "#         #print(geocoded['address']['Match_addr'])\n",
    "#         print(str(g))\n",
    "#         map2.draw(g)\n",
    "#     except:\n",
    "#         print(\"Couldn't match address. Try another place...\")"
   ]
  },
  {
   "cell_type": "code",
   "execution_count": null,
   "metadata": {
    "collapsed": true
   },
   "outputs": [],
   "source": [
    "# map2.on_click(find_addr)"
   ]
  }
 ],
 "metadata": {
  "anaconda-cloud": {},
  "kernelspec": {
   "display_name": "Python [default]",
   "language": "python",
   "name": "python3"
  },
  "language_info": {
   "codemirror_mode": {
    "name": "ipython",
    "version": 3
   },
   "file_extension": ".py",
   "mimetype": "text/x-python",
   "name": "python",
   "nbconvert_exporter": "python",
   "pygments_lexer": "ipython3",
   "version": "3.5.3"
  }
 },
 "nbformat": 4,
 "nbformat_minor": 2
}
