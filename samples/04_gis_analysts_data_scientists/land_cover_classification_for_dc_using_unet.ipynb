{
 "cells": [
  {
   "cell_type": "markdown",
   "metadata": {},
   "source": [
    "# Land Cover Classification for Washington D.C. using Satellite Imagery and Deep Learning\n",
    "> * 🔬 Data Science\n",
    "* 🥠 Deep Learning and pixel-based classification"
   ]
  },
  {
   "cell_type": "markdown",
   "metadata": {
    "toc": true
   },
   "source": [
    "<h1>Table of Contents<span class=\"tocSkip\"></span></h1>\n",
    "<div class=\"toc\"><ul class=\"toc-item\"><li><span><a href=\"#Introduction-and-objective\" data-toc-modified-id=\"Introduction-and-objective-1\">Introduction and objective</a></span></li><li><span><a href=\"#Part-1---export-training-data-for-deep-learning\" data-toc-modified-id=\"Part-1---export-training-data-for-deep-learning-2\">Part 1 - export training data for deep learning</a></span><ul class=\"toc-item\"><li><span><a href=\"#Import-ArcGIS-API-for-Python-and-get-connected-to-your-GIS\" data-toc-modified-id=\"Import-ArcGIS-API-for-Python-and-get-connected-to-your-GIS-2.1\">Import ArcGIS API for Python and get connected to your GIS</a></span></li><li><span><a href=\"#Prepare-data-that-will-be-used-for-training-data-export\" data-toc-modified-id=\"Prepare-data-that-will-be-used-for-training-data-export-2.2\">Prepare data that will be used for training data export</a></span></li><li><span><a href=\"#Specify-a-folder-name-in-raster-store-that-will-be-used-to-store-our-training-data\" data-toc-modified-id=\"Specify-a-folder-name-in-raster-store-that-will-be-used-to-store-our-training-data-2.3\">Specify a folder name in raster store that will be used to store our training data</a></span></li><li><span><a href=\"#Export-training-data-using-arcgis.learn\" data-toc-modified-id=\"Export-training-data-using-arcgis.learn-2.4\">Export training data using <code>arcgis.learn</code></a></span></li></ul></li><li><span><a href=\"#Part-2---model-training\" data-toc-modified-id=\"Part-2---model-training-3\">Part 2 - model training</a></span><ul class=\"toc-item\"><li><span><a href=\"#Visualize-training-data\" data-toc-modified-id=\"Visualize-training-data-3.1\">Visualize training data</a></span></li><li><span><a href=\"#Load-model-architecture\" data-toc-modified-id=\"Load-model-architecture-3.2\">Load model architecture</a></span></li><li><span><a href=\"#Train-a-model-through-learning-rate-tuning-and-transfer-learning\" data-toc-modified-id=\"Train-a-model-through-learning-rate-tuning-and-transfer-learning-3.3\">Train a model through learning rate tuning and transfer learning</a></span></li><li><span><a href=\"#Visualize-classification-results-in-validation-set\" data-toc-modified-id=\"Visualize-classification-results-in-validation-set-3.4\">Visualize classification results in validation set</a></span></li></ul></li><li><span><a href=\"#Part-3---deployment-and-inference\" data-toc-modified-id=\"Part-3---deployment-and-inference-4\">Part 3 - deployment and inference</a></span><ul class=\"toc-item\"><li><span><a href=\"#Locate-model-package\" data-toc-modified-id=\"Locate-model-package-4.1\">Locate model package</a></span></li><li><span><a href=\"#Model-inference\" data-toc-modified-id=\"Model-inference-4.2\">Model inference</a></span></li></ul></li><li><span><a href=\"#Visualize-land-cover-classification-on-map\" data-toc-modified-id=\"Visualize-land-cover-classification-on-map-5\">Visualize land cover classification on map</a></span></li><li><span><a href=\"#Conclusion\" data-toc-modified-id=\"Conclusion-6\">Conclusion</a></span></li><li><span><a href=\"#References\" data-toc-modified-id=\"References-7\">References</a></span></li></ul></div>"
   ]
  },
  {
   "cell_type": "markdown",
   "metadata": {},
   "source": [
    "## Introduction and objective"
   ]
  },
  {
   "cell_type": "markdown",
   "metadata": {},
   "source": [
    "Land cover classification has been one of the most common tasks in remote sensing as it is the foundation for many global and environmental applications. Traditionally, people have been using algorithms like maximum likelihood classifier, SVM, random forest, and object-based classification. The recent success of AI brings new opportunity to this field. This notebook showcases an end-to-end to land cover classification workflow using ArcGIS API for Python. The workflow consists of three major steps: (1) extract training data, (2) train a deep learning **image segmentation** model, (3) deploy the model for inference and create maps. To better illustrate this process, we will use NAIP imagery and high-resolution labeled data provided by the [Chesapeake Conservancy land cover project](https://chesapeakeconservancy.org/conservation-innovation-center/high-resolution-data/land-cover-data-project/).\n",
    "<img src=\"./data/img/intro_kent.png\" height=\"700\" width = \"700\">\n",
    "<center> Figure 1. A subset of of the labeled data for Kent county, Delaware"
   ]
  },
  {
   "cell_type": "markdown",
   "metadata": {},
   "source": [
    "## Part 1 - export training data for deep learning"
   ]
  },
  {
   "cell_type": "markdown",
   "metadata": {},
   "source": [
    "### Import ArcGIS API for Python and get connected to your GIS"
   ]
  },
  {
   "cell_type": "code",
   "execution_count": 1,
   "metadata": {},
   "outputs": [],
   "source": [
    "from arcgis import GIS"
   ]
  },
  {
   "cell_type": "code",
   "execution_count": 2,
   "metadata": {},
   "outputs": [],
   "source": [
    "gis = GIS(\"https://datascienceadv.esri.com/portal\", \"portaladmin\", \"Roll.Tide2019\")"
   ]
  },
  {
   "cell_type": "markdown",
   "metadata": {},
   "source": [
    "### Prepare data that will be used for training data export"
   ]
  },
  {
   "cell_type": "markdown",
   "metadata": {},
   "source": [
    "To export training data, we need a _labeled imagery layer_ that contains the class label for each location, and a _raster input_ that contains all the original pixels and band information. In this land cover classification case, we will be using a subset of the one-meter resolution Washington D.C. dataset as the labeled imagery layer and USA NAIP Imagery: Color Infrared as the raster input."
   ]
  },
  {
   "cell_type": "code",
   "execution_count": 3,
   "metadata": {},
   "outputs": [
    {
     "data": {
      "text/html": [
       "<div class=\"item_container\" style=\"height: auto; overflow: hidden; border: 1px solid #cfcfcf; border-radius: 2px; background: #f6fafa; line-height: 1.21429em; padding: 10px;\">\n",
       "                    <div class=\"item_left\" style=\"width: 210px; float: left;\">\n",
       "                       <a href='https://datascienceadv.esri.com/portal/home/item.html?id=2cd63227da854eae8bce4e5ed5834c0a' target='_blank'>\n",
       "                        <img src='https://datascienceadv.esri.com/portal/portalimages/desktopapp.png' class=\"itemThumbnail\">\n",
       "                       </a>\n",
       "                    </div>\n",
       "\n",
       "                    <div class=\"item_right\"     style=\"float: none; width: auto; overflow: hidden;\">\n",
       "                        <a href='https://datascienceadv.esri.com/portal/home/item.html?id=2cd63227da854eae8bce4e5ed5834c0a' target='_blank'><b>KENT_10001_ProjectRaster</b>\n",
       "                        </a>\n",
       "                        <br/>Unet<img src='https://datascienceadv.esri.com/portal/home/js/jsapi/esri/css/images/item_type_icons/imagery16.png' style=\"vertical-align:middle;\">Imagery Layer by portaladmin\n",
       "                        <br/>Last Modified: May 08, 2019\n",
       "                        <br/>0 comments, 1 views\n",
       "                    </div>\n",
       "                </div>\n",
       "                "
      ],
      "text/plain": [
       "<Item title:\"KENT_10001_ProjectRaster\" type:Imagery Layer owner:portaladmin>"
      ]
     },
     "execution_count": 3,
     "metadata": {},
     "output_type": "execute_result"
    }
   ],
   "source": [
    "labels = gis.content.search(\"KENT_10001_ProjectRaster\")[0]\n",
    "labels"
   ]
  },
  {
   "cell_type": "code",
   "execution_count": 6,
   "metadata": {},
   "outputs": [
    {
     "data": {
      "application/vnd.jupyter.widget-view+json": {
       "model_id": "1976a77a701040bab792f8de274b6d37",
       "version_major": 2,
       "version_minor": 0
      },
      "text/plain": [
       "MapView(layout=Layout(height='400px', width='100%'))"
      ]
     },
     "metadata": {},
     "output_type": "display_data"
    },
    {
     "data": {
      "text/html": [
       "<div class=\"map-static-img-preview-da60cadd-a6ee-446a-9dd2-eb8a3ee782ac\"><img src=\"\"></img></div>"
      ],
      "text/plain": [
       "<IPython.core.display.HTML object>"
      ]
     },
     "metadata": {},
     "output_type": "display_data"
    }
   ],
   "source": [
    "m = gis.map(\"Kent county, Delaware\")\n",
    "m"
   ]
  },
  {
   "cell_type": "code",
   "execution_count": 7,
   "metadata": {},
   "outputs": [],
   "source": [
    "m.add_layer(labels)"
   ]
  },
  {
   "cell_type": "markdown",
   "metadata": {},
   "source": [
    "Now let's retrieve the NAIP image layer."
   ]
  },
  {
   "cell_type": "code",
   "execution_count": 13,
   "metadata": {},
   "outputs": [
    {
     "data": {
      "text/html": [
       "<div class=\"item_container\" style=\"height: auto; overflow: hidden; border: 1px solid #cfcfcf; border-radius: 2px; background: #f6fafa; line-height: 1.21429em; padding: 10px;\">\n",
       "                    <div class=\"item_left\" style=\"width: 210px; float: left;\">\n",
       "                       <a href='https://datascienceadv.esri.com/portal/home/item.html?id=7a91c4a25a334e07a3e360e95049b7d2' target='_blank'>\n",
       "                        <img src='data:image/png;base64,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' width='200' height='133' class=\"itemThumbnail\">\n",
       "                       </a>\n",
       "                    </div>\n",
       "\n",
       "                    <div class=\"item_right\"     style=\"float: none; width: auto; overflow: hidden;\">\n",
       "                        <a href='https://datascienceadv.esri.com/portal/home/item.html?id=7a91c4a25a334e07a3e360e95049b7d2' target='_blank'><b>Interpretació d'imatges (Madur)</b>\n",
       "                        </a>\n",
       "                        <br/>Creeu una aplicació per visualitzar i interpretar millor les capes d'imatges del vostre mapa web, amb eines per detectar canvis, prendre mesures, registrar ubicacions, etc.<img src='https://datascienceadv.esri.com/portal/home/js/jsapi/esri/css/images/item_type_icons/layers16.png' style=\"vertical-align:middle;\">Web Mapping Application by esri_ca\n",
       "                        <br/>Last Modified: May 18, 2018\n",
       "                        <br/>0 comments, 0 views\n",
       "                    </div>\n",
       "                </div>\n",
       "                "
      ],
      "text/plain": [
       "<Item title:\"Interpretació d'imatges (Madur)\" type:Web Mapping Application owner:esri_ca>"
      ]
     },
     "execution_count": 13,
     "metadata": {},
     "output_type": "execute_result"
    }
   ],
   "source": [
    "naip_item = gis.content.search(\"naip\", outside_org=True)[0]\n",
    "naip_item"
   ]
  },
  {
   "cell_type": "code",
   "execution_count": null,
   "metadata": {},
   "outputs": [],
   "source": [
    "from arcgis.raster.functions import extract_band\n",
    "\n",
    "naiplayer = naip_item.layers[0]\n",
    "naiplayer"
   ]
  },
  {
   "cell_type": "code",
   "execution_count": null,
   "metadata": {},
   "outputs": [],
   "source": [
    "m.add_layer(naiplayer)"
   ]
  },
  {
   "cell_type": "markdown",
   "metadata": {},
   "source": [
    "###  Specify a folder name in raster store that will be used to store our training data"
   ]
  },
  {
   "cell_type": "markdown",
   "metadata": {},
   "source": [
    "Make sure a raster store is ready on your raster analytics image server. This is where where the output subimages, also called chips, labels and metadata files are going to be stored."
   ]
  },
  {
   "cell_type": "code",
   "execution_count": 14,
   "metadata": {},
   "outputs": [],
   "source": [
    "from arcgis.raster import analytics"
   ]
  },
  {
   "cell_type": "code",
   "execution_count": 15,
   "metadata": {},
   "outputs": [
    {
     "data": {
      "text/plain": [
       "<DatastoreManager for https://datascienceadv.esri.com/server/admin>"
      ]
     },
     "execution_count": 15,
     "metadata": {},
     "output_type": "execute_result"
    }
   ],
   "source": [
    "ds = analytics.get_datastores(gis=gis)\n",
    "ds"
   ]
  },
  {
   "cell_type": "code",
   "execution_count": 16,
   "metadata": {},
   "outputs": [
    {
     "data": {
      "text/plain": [
       "[<Datastore title:\"/nosqlDatabases/AGSDataStore_bigdata_bds_4c9tuc3o\" type:\"nosql\">,\n",
       " <Datastore title:\"/nosqlDatabases/AGSDataStore_nosqldb_tcs_l6mh5mhm\" type:\"nosql\">,\n",
       " <Datastore title:\"/enterpriseDatabases/AGSDataStore_ds_b6108wk9\" type:\"egdb\">,\n",
       " <Datastore title:\"/rasterStores/LocalRasterStore\" type:\"rasterStore\">]"
      ]
     },
     "execution_count": 16,
     "metadata": {},
     "output_type": "execute_result"
    }
   ],
   "source": [
    "ds.search()"
   ]
  },
  {
   "cell_type": "code",
   "execution_count": 17,
   "metadata": {},
   "outputs": [
    {
     "data": {
      "text/plain": [
       "<Datastore title:\"/rasterStores/LocalRasterStore\" type:\"rasterStore\">"
      ]
     },
     "execution_count": 17,
     "metadata": {},
     "output_type": "execute_result"
    }
   ],
   "source": [
    "rasterstore = ds.get(\"/rasterStores/LocalRasterStore\")\n",
    "rasterstore"
   ]
  },
  {
   "cell_type": "code",
   "execution_count": 23,
   "metadata": {},
   "outputs": [
    {
     "data": {
      "text/plain": [
       "'/landcover/kent/pro24kent'"
      ]
     },
     "execution_count": 23,
     "metadata": {},
     "output_type": "execute_result"
    }
   ],
   "source": [
    "samplefolder = \"landcover/kent/pro24kent\"\n",
    "samplefolder"
   ]
  },
  {
   "cell_type": "markdown",
   "metadata": {},
   "source": [
    "### Export training data using `arcgis.learn`"
   ]
  },
  {
   "cell_type": "markdown",
   "metadata": {},
   "source": [
    "With the feature class and raster layer, we are now ready to export training data using the export_training_data() method in arcgis.learn module. In addtion to feature class, raster layer, and output folder, we also need to speficy a few other parameters such as tile_size (size of the image chips), strid_size (distance to move in the X when creating the next image chip), chip_format (TIFF, PNG, or JPEG), metadata format (how we are going to store those bounding boxes). More detail can be found [here](https://pro.arcgis.com/en/pro-app/tool-reference/image-analyst/export-training-data-for-deep-learning.htm). \n",
    "\n",
    "Depending on the size of your data, tile and stride size, and computing resources, this opertation can take 15mins~2hrs in our experiment. Also, do not re-run it if you already run it once unless you would like to update the setting."
   ]
  },
  {
   "cell_type": "code",
   "execution_count": null,
   "metadata": {},
   "outputs": [],
   "source": [
    "import arcgis\n",
    "from arcgis import learn\n",
    "arcgis.env.verbose = True"
   ]
  },
  {
   "cell_type": "code",
   "execution_count": null,
   "metadata": {},
   "outputs": [],
   "source": [
    "export = learn.export_training_data(input_raster=naiplayer,\n",
    "                                           output_location=samplefolder,\n",
    "                                           input_class_data=labels, \n",
    "                                           chip_format=\"PNG\", \n",
    "                                           tile_size={\"x\":400,\"y\":400}, \n",
    "                                           stride_size={\"x\":0,\"y\":0}, \n",
    "                                           metadata_format=\"Classified_Tiles\",                                        \n",
    "                                           context={\"startIndex\": 0, \"exportAllTiles\": False},\n",
    "                                           gis = gis)"
   ]
  },
  {
   "cell_type": "markdown",
   "metadata": {},
   "source": [
    "Now let's get into the raster store and look at what has been generated and exported."
   ]
  },
  {
   "cell_type": "code",
   "execution_count": null,
   "metadata": {
    "scrolled": false
   },
   "outputs": [],
   "source": [
    "from arcgis.raster.analytics import list_datastore_content\n",
    "\n",
    "samples = list_datastore_content(rasterstore.datapath + '/' + samplefolder + \"/images\", filter = \"*png\")\n",
    "# print out the first five chips/subimages\n",
    "samples[0:5]"
   ]
  },
  {
   "cell_type": "code",
   "execution_count": null,
   "metadata": {},
   "outputs": [],
   "source": [
    "labels = list_datastore_content(rasterstore.datapath + '/' + samplefolder + \"/labels\", filter = \"*xml\")\n",
    "# print out the labels/bounding boxes for the first five chips\n",
    "labels[0:5]"
   ]
  },
  {
   "cell_type": "markdown",
   "metadata": {},
   "source": [
    "We can also create a image layer using one of this images and look at what it looks like. Note that a chip may or may not have a bounding box in it and one chip might have multiple boxes as well."
   ]
  },
  {
   "cell_type": "markdown",
   "metadata": {},
   "source": [
    "## Part 2 - model training"
   ]
  },
  {
   "cell_type": "markdown",
   "metadata": {},
   "source": [
    "If you've already done part 1, you should already have both the training chips and swimming pool labels. Please change the path to your own export training data folder that contains \"images\" and \"labels\" folder."
   ]
  },
  {
   "cell_type": "code",
   "execution_count": 25,
   "metadata": {},
   "outputs": [],
   "source": [
    "from arcgis.learn import UnetClassifier, prepare_data"
   ]
  },
  {
   "cell_type": "code",
   "execution_count": 26,
   "metadata": {},
   "outputs": [],
   "source": [
    "data_path = r'/arcgis/directories/rasterstore/landcover/kent/pro24kent/'"
   ]
  },
  {
   "cell_type": "code",
   "execution_count": null,
   "metadata": {},
   "outputs": [],
   "source": [
    "data = prepare_data(data_path, batch_size=8)"
   ]
  },
  {
   "cell_type": "markdown",
   "metadata": {},
   "source": [
    "### Visualize training data\n",
    "To get a sense of what the training data looks like, `arcgis.learn.show_batch()` method randomly picks a few training chips and visualize them."
   ]
  },
  {
   "cell_type": "code",
   "execution_count": null,
   "metadata": {},
   "outputs": [],
   "source": [
    "data.show_batch()"
   ]
  },
  {
   "cell_type": "markdown",
   "metadata": {},
   "source": [
    "### Load model architecture\n",
    "We will be using U-net [1], one of the well-recogonized image segmentation algorithm, for our land cover classification. U-Net is designed like an auto-encoder. It has an encoding path (“contracting”) paired with a decoding path (“expanding”) which gives it the “U” shape. However, in contrast to the autoencoder, U-Net predicts a pixelwise segmentation map of the input image rather than classifying the input image as a whole. For each pixel in the original image, it asks the question: “To which class does this pixel belong?”. U-Net passes the feature maps from each level of the contracting path over to the analogous level in the expanding path.  These are similar to residual connections in a ResNet type model, and allow the classifier to consider features at various scales and complexities to make its decision."
   ]
  },
  {
   "cell_type": "markdown",
   "metadata": {},
   "source": [
    "<img src=\"./data/img/unet.png\" height=\"600\" width = \"600\">\n",
    "<center>Architecture of a Unet model [1]</center>"
   ]
  },
  {
   "cell_type": "code",
   "execution_count": null,
   "metadata": {},
   "outputs": [],
   "source": [
    "model = UnetClassifier(data)"
   ]
  },
  {
   "cell_type": "markdown",
   "metadata": {},
   "source": [
    "### Train a model through learning rate tuning and transfer learning\n",
    "[Learning rate](https://en.wikipedia.org/wiki/Stochastic_gradient_descent) is one of the most important hyperparameters in model training. Here we explore a range of learning rate to guide us to choose the best one."
   ]
  },
  {
   "cell_type": "code",
   "execution_count": null,
   "metadata": {},
   "outputs": [],
   "source": [
    "ssd.lr_find()"
   ]
  },
  {
   "cell_type": "markdown",
   "metadata": {},
   "source": [
    "Based on the learning rate plot above, we can see that the loss starts going down from 1e-4. Therefore, we set learning rate to be a range from 1e-4 to 3e-3, which means we will apply smaller rates to the first few layers and larger rates for the last few layers, and intermediate rates for middle layers, which is the idea of transfer learning. Let's start with 10 epochs for the sake of time."
   ]
  },
  {
   "cell_type": "code",
   "execution_count": null,
   "metadata": {},
   "outputs": [],
   "source": [
    "ssd.fit(10, lr=slice(1e-5, 1e-4))"
   ]
  },
  {
   "cell_type": "markdown",
   "metadata": {},
   "source": [
    "### Visualize classification results in validation set\n",
    "Now we have the model, let's look at how the model performs. Here we plot out 5 rows of images and a threshold of 0.3. Threshold is a measure of probablity that a swimming pool exists. Higher value meas more confidence."
   ]
  },
  {
   "cell_type": "code",
   "execution_count": null,
   "metadata": {
    "scrolled": false
   },
   "outputs": [],
   "source": [
    "ssd.show_results(thresh=0.3)"
   ]
  },
  {
   "cell_type": "markdown",
   "metadata": {},
   "source": [
    "As we can see, with only 10 epochs, we are already seeing reasonable results. Further improvment can be acheived through more sophisticated hyperparameter tuning. Let's save the model for further training or inference later. The model should be saved into a models folder in your folder. By default, it will be saved into your `data_path` that you specified in the very beginning of this notebook."
   ]
  },
  {
   "cell_type": "code",
   "execution_count": null,
   "metadata": {},
   "outputs": [],
   "source": [
    "ssd.save('5x5-10-deploy')"
   ]
  },
  {
   "cell_type": "markdown",
   "metadata": {},
   "source": [
    "## Part 3 - deployment and inference"
   ]
  },
  {
   "cell_type": "markdown",
   "metadata": {},
   "source": [
    "### Locate model package\n",
    "If you have finished Part 2 of this notebook series, you should have a models folder saved already. The model package is the \"5x5-50.zip\" zip file in the folder.\n",
    "The the model package file includes several files:\n",
    "1. A model definition file with the extension .emd which includes information like model framework (e.g. tensorflow, pytorch). ArcGIS will need it to interpret your model.\n",
    "2. A model file in binary format that we have developed in Part 2.\n",
    "3. If your framework is not supported yet, a custom python raster function has to be added as well.\n",
    "Third, get the deep learning model package file path. _Please change it to your own path_."
   ]
  },
  {
   "cell_type": "code",
   "execution_count": null,
   "metadata": {},
   "outputs": [],
   "source": [
    "model_package = \"Path_To_Your_Model_Package\""
   ]
  },
  {
   "cell_type": "code",
   "execution_count": null,
   "metadata": {},
   "outputs": [],
   "source": [
    "detect_objects_model_package = gis.content.add(item_properties={\"type\":\"Deep Learning Package\",\n",
    "                                                                \"typeKeywords\":\"Deep Learning, Raster\",\n",
    "                                                                \"title\":\"Land_Cover_DC_DL_Model\",\n",
    "                                                                \"tags\":\"deeplearning\", 'overwrite':'True'}, \n",
    "                                               data=model_package)"
   ]
  },
  {
   "cell_type": "code",
   "execution_count": null,
   "metadata": {},
   "outputs": [],
   "source": [
    "detect_objects_model_package"
   ]
  },
  {
   "cell_type": "markdown",
   "metadata": {},
   "source": [
    "Now we are ready to install the mode. Installation of the deep learning model item will unpack the model definition file, model file and the inference function script, and copy them to \"trusted\" location under the Raster Analytic Image Server site's system directory. "
   ]
  },
  {
   "cell_type": "code",
   "execution_count": null,
   "metadata": {},
   "outputs": [],
   "source": [
    "from arcgis.learn import Model, list_models"
   ]
  },
  {
   "cell_type": "code",
   "execution_count": null,
   "metadata": {},
   "outputs": [],
   "source": [
    "detect_objects_model = Model(detect_objects_model_package)"
   ]
  },
  {
   "cell_type": "code",
   "execution_count": null,
   "metadata": {},
   "outputs": [],
   "source": [
    "detect_objects_model.install()"
   ]
  },
  {
   "cell_type": "code",
   "execution_count": null,
   "metadata": {},
   "outputs": [],
   "source": [
    "detect_objects_model.query_info()"
   ]
  },
  {
   "cell_type": "markdown",
   "metadata": {},
   "source": [
    "### Model inference\n",
    "To test our model, let's get a raster image with some swimming pools."
   ]
  },
  {
   "cell_type": "code",
   "execution_count": null,
   "metadata": {},
   "outputs": [],
   "source": [
    "from arcgis.learn import detect_objects"
   ]
  },
  {
   "cell_type": "code",
   "execution_count": null,
   "metadata": {},
   "outputs": [],
   "source": [
    "out_objects = detect_objects(input_raster=naiplayer.url,\n",
    "                             model=detect_objects_model,\n",
    "                             output_name=\"pooldetection_full_redlands\",\n",
    "                             context={'cellSize': 0.42, 'processorType': 'GPU'},\n",
    "                             gis=gis)\n",
    "\n",
    "out_objects"
   ]
  },
  {
   "cell_type": "markdown",
   "metadata": {},
   "source": [
    "## Visualize land cover classification on map"
   ]
  },
  {
   "cell_type": "code",
   "execution_count": null,
   "metadata": {},
   "outputs": [],
   "source": [
    "result_map = gis.map('Redlands, CA')\n",
    "result_map.basemap='satellite'\n",
    "result_map.add_layer(out_objects)\n",
    "result_map"
   ]
  },
  {
   "cell_type": "markdown",
   "metadata": {},
   "source": [
    "## Conclusion\n",
    "In thise notebook, we have covered a lot of ground. In part 1, we discussed how to export training data for deep learning using ArcGIS python API and what the output looks like. In part 2, we demonstrated how to prepare the input data, train a object detection model, visualize the results, as well as apply the model to an unseen image using the deep learning module in ArcGIS API for Python. Then we covered how to install and publish this model and make it production-ready in part 3.\n",
    "\n",
    "## References\n",
    "[1] Olaf Ronneberger, Philipp Fischer, Thomas Brox: U-Net: Convolutional Networks for Biomedical Image Segmentation, 2015; <a href='https://arxiv.org/abs/1505.04597'>arXiv:1505.04597</a>."
   ]
  }
 ],
 "metadata": {
  "kernelspec": {
   "display_name": "Python 3",
   "language": "python",
   "name": "python3"
  },
  "language_info": {
   "codemirror_mode": {
    "name": "ipython",
    "version": 3
   },
   "file_extension": ".py",
   "mimetype": "text/x-python",
   "name": "python",
   "nbconvert_exporter": "python",
   "pygments_lexer": "ipython3",
   "version": "3.7.2"
  },
  "toc": {
   "base_numbering": 1,
   "nav_menu": {},
   "number_sections": false,
   "sideBar": true,
   "skip_h1_title": true,
   "title_cell": "Table of Contents",
   "title_sidebar": "Contents",
   "toc_cell": true,
   "toc_position": {
    "height": "687px",
    "left": "427px",
    "top": "210px",
    "width": "336px"
   },
   "toc_section_display": true,
   "toc_window_display": true
  }
 },
 "nbformat": 4,
 "nbformat_minor": 2
}
