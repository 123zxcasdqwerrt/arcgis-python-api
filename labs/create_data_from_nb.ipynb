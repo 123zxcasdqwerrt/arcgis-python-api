{
 "cells": [
  {
   "cell_type": "code",
   "execution_count": 1,
   "metadata": {},
   "outputs": [
    {
     "name": "stdout",
     "output_type": "stream",
     "text": [
      "Please enter password: ········\n",
      "Successfully logged in to browns.maps.arcgis.com as johnnyDev\n"
     ]
    }
   ],
   "source": [
    "import getpass\n",
    "from arcgis.gis import GIS\n",
    "from arcgis import geocoding\n",
    "\n",
    "password = getpass.getpass(\"Please enter password: \")\n",
    "gis = GIS('https://browns.maps.arcgis.com', 'johnnyDev', password)\n",
    "print(\"Successfully logged in to {} as {}\".format(gis.properties.urlKey + '.' + gis.properties.customBaseUrl,\n",
    "                                                 gis.users.me.username))"
   ]
  },
  {
   "cell_type": "code",
   "execution_count": 25,
   "metadata": {},
   "outputs": [
    {
     "data": {
      "application/vnd.jupyter.widget-view+json": {
       "model_id": "8682d282eada4f26b06fed0dd34563c5"
      }
     },
     "metadata": {},
     "output_type": "display_data"
    },
    {
     "name": "stdout",
     "output_type": "stream",
     "text": [
      "<class 'list'>\n"
     ]
    }
   ],
   "source": [
    "map1 = gis.map('Los Angeles', 10)\n",
    "map1"
   ]
  },
  {
   "cell_type": "code",
   "execution_count": 8,
   "metadata": {},
   "outputs": [
    {
     "data": {
      "text/plain": [
       "[<Item title:\"Griffith Park for Notebook\" type:Feature Layer Collection owner:johnnyDev>,\n",
       " <Item title:\"Griffith Park CLTool\" type:Feature Layer Collection owner:johnnyDev>]"
      ]
     },
     "execution_count": 8,
     "metadata": {},
     "output_type": "execute_result"
    }
   ],
   "source": [
    "# retrieve feature layer to add attributes to\n",
    "# search for feature layers\n",
    "flyr_search_results = gis.content.search(query=\"\"\"title: \"Griffith*\" AND \n",
    "                                         type: \"Feature Service\" \"\"\", \n",
    "                                         max_items=10)\n",
    "flyr_search_results"
   ]
  },
  {
   "cell_type": "code",
   "execution_count": 9,
   "metadata": {},
   "outputs": [
    {
     "data": {
      "text/plain": [
       "'griffith_park_for_notebook'"
      ]
     },
     "execution_count": 9,
     "metadata": {},
     "output_type": "execute_result"
    }
   ],
   "source": [
    "# retrieve the fl collection item, then the list of \n",
    "# layers from the layers property, and the layer you want\n",
    "flyr_collection_item = flyr_search_results[0]\n",
    "flayers = flyr_collection_item.layers\n",
    "flayer = flayers[0]\n",
    "flayer.properties.name"
   ]
  },
  {
   "cell_type": "code",
   "execution_count": 26,
   "metadata": {
    "collapsed": true
   },
   "outputs": [],
   "source": [
    "from arcgis import geocoding\n",
    "from arcgis import geometry\n",
    "from arcgis import features\n",
    "\n",
    "def find_addr(map1, g):\n",
    "    try:\n",
    "        #geocoded = geocoding.reverse_geocode(g)\n",
    "        #print(geocoded['address']['Match_addr'])\n",
    "        pt = geometry.Point(g)\n",
    "        feat = features.Feature(geometry=pt)\n",
    "        flayer.edit[feat]\n",
    "        map1.draw(pt)\n",
    "    except:\n",
    "        print(\"Couldn't match address. Try another place...\")\n",
    "\n",
    "def pop_layer(map1, g):\n",
    "    feat_list = []\n",
    "    pt = geometry.Point(g)\n",
    "    feat_list.append(features.Feature(geometry=pt))\n",
    "    return feat_list"
   ]
  },
  {
   "cell_type": "code",
   "execution_count": 27,
   "metadata": {
    "collapsed": true
   },
   "outputs": [],
   "source": [
    "map1.on_click(find_addr)"
   ]
  },
  {
   "cell_type": "code",
   "execution_count": 20,
   "metadata": {
    "collapsed": true
   },
   "outputs": [],
   "source": [
    "map1.clear_graphics()"
   ]
  },
  {
   "cell_type": "code",
   "execution_count": null,
   "metadata": {
    "collapsed": true
   },
   "outputs": [],
   "source": [
    "map1.add_layer(flayer)"
   ]
  }
 ],
 "metadata": {
  "anaconda-cloud": {},
  "kernelspec": {
   "display_name": "Python 3",
   "language": "python",
   "name": "python3"
  },
  "language_info": {
   "codemirror_mode": {
    "name": "ipython",
    "version": 3
   },
   "file_extension": ".py",
   "mimetype": "text/x-python",
   "name": "python",
   "nbconvert_exporter": "python",
   "pygments_lexer": "ipython3",
   "version": "3.5.3"
  }
 },
 "nbformat": 4,
 "nbformat_minor": 2
}
