{
 "cells": [
  {
   "cell_type": "markdown",
   "metadata": {},
   "source": [
    "## How can I update layers in my web map to use HTTPS?\n",
    "\n",
    "As the owner or administrator of a web map, you can update all layers in the web map to use HTTPS.  This can be done either by the GUI on ArcGIS Online from the Settings tab of the map's item page or through the ArcGIS API for Python. It is recommended that you access all layers using HTTPS, which encrypts the information in the layer when it's transmitted over the Internet.\n",
    "\n",
    "When you update the layers in your map to use HTTPS, ArcGIS Online inspects each layer in the map to determine whether it needs to be updated to HTTPS. If any layers are found to use HTTP, ArcGIS Online attempts to make a request to the same layer using HTTPS and updates the map and any associated layer items you own or administer. If a layer does not support HTTPS, you are notified of this fact and the layer is not updated in the map. If you are notified that the layer does not support HTTPS, contact the owner of the layer, who can either configure the layer to support HTTPS or provide an alternative resource.\n",
    "\n",
    "When you attempt to update layers in your map to use HTTPS, any custom symbols that use HTTP are automatically updated to use HTTPS if the source of the custom symbols supports it. Other layer customizations, such as images embedded in pop-ups, are not updated to HTTPS. To update these references to use HTTPS, open the layer (or map) in Map Viewer and update the references there."
   ]
  },
  {
   "cell_type": "code",
   "execution_count": 29,
   "metadata": {},
   "outputs": [],
   "source": [
    "from arcgis.gis import GIS\n",
    "from arcgis.gis import Item"
   ]
  },
  {
   "cell_type": "markdown",
   "metadata": {},
   "source": [
    "### Connect to the GIS"
   ]
  },
  {
   "cell_type": "code",
   "execution_count": null,
   "metadata": {},
   "outputs": [],
   "source": [
    "gis = GIS(url=\"https://python.playground.esri.com/portal\",\n",
    "          username=\"arcgis_python\")"
   ]
  },
  {
   "cell_type": "markdown",
   "metadata": {},
   "source": [
    "### Copy the Item for the Demo"
   ]
  },
  {
   "cell_type": "code",
   "execution_count": 37,
   "metadata": {},
   "outputs": [],
   "source": [
    "wm = gis.content.get(\"722f8121d63242b98366e012e4431e13\")\n",
    "wm = wm.copy(title=\"%s - ALL HTTPS\" % wm.title)"
   ]
  },
  {
   "cell_type": "code",
   "execution_count": 38,
   "metadata": {},
   "outputs": [
    {
     "data": {
      "text/html": [
       "<div class=\"item_container\" style=\"height: auto; overflow: hidden; border: 1px solid #cfcfcf; border-radius: 2px; background: #f6fafa; line-height: 1.21429em; padding: 10px;\">\n",
       "                    <div class=\"item_left\" style=\"width: 210px; float: left;\">\n",
       "                       <a href='https://python.playground.esri.com/portal/home/item.html?id=0f7b6918356f4e29b3e27ac102a269ca' target='_blank'>\n",
       "                        <img src='https://python.playground.esri.com/portal/portalimages/desktopapp.png' class=\"itemThumbnail\">\n",
       "                       </a>\n",
       "                    </div>\n",
       "\n",
       "                    <div class=\"item_right\"     style=\"float: none; width: auto; overflow: hidden;\">\n",
       "                        <a href='https://python.playground.esri.com/portal/home/item.html?id=0f7b6918356f4e29b3e27ac102a269ca' target='_blank'><b>HTTPtoHTTPSExample - ALL HTTPS</b>\n",
       "                        </a>\n",
       "                        <br/>Converts Service from HTTP to HTTPS<img src='https://python.playground.esri.com/portal/home/js/jsapi/esri/css/images/item_type_icons/maps16.png' style=\"vertical-align:middle;\">Web Map by andrew\n",
       "                        <br/>Last Modified: April 12, 2018\n",
       "                        <br/>0 comments, 0 views\n",
       "                    </div>\n",
       "                </div>\n",
       "                "
      ],
      "text/plain": [
       "<Item title:\"HTTPtoHTTPSExample - ALL HTTPS\" type:Web Map owner:andrew>"
      ]
     },
     "execution_count": 38,
     "metadata": {},
     "output_type": "execute_result"
    }
   ],
   "source": [
    "wm"
   ]
  },
  {
   "cell_type": "markdown",
   "metadata": {},
   "source": [
    "### Updating the HTTP Scheme to HTTPS Scheme\n",
    "\n",
    "The code below walks the operational layers and checks if the service can be updated to HTTPS."
   ]
  },
  {
   "cell_type": "code",
   "execution_count": 33,
   "metadata": {},
   "outputs": [],
   "source": [
    "import json\n",
    "from arcgis.features import FeatureLayer\n",
    "from arcgis.raster import ImageryLayer\n",
    "from arcgis.mapping import MapImageLayer, VectorTileLayer\n",
    "def update_http_to_https(wm):\n",
    "     \"\"\"\n",
    "     Updates an Item's JSON by Changing All HTTP Scheme to HTTPS.\n",
    "     \n",
    "     ============   =====================================\n",
    "     **Inputs**     **Description**\n",
    "     ------------   -------------------------------------\n",
    "     wm             Required Item. Must be a Web Map Item.\n",
    "     ============   =====================================\n",
    "     \n",
    "     :returns: boolean\n",
    "     \"\"\"\n",
    "\n",
    "     if wm.type == 'Web Map':\n",
    "          data = wm.get_data()\n",
    "          if 'operationalLayers' in data:\n",
    "               for lyr in data['operationalLayers']:\n",
    "                    if 'url' in lyr:\n",
    "                         url = lyr['url']\n",
    "                         if url.lower().find(\"http://\") > -1:\n",
    "                              try:\n",
    "                                   if lyr['layerType'] == 'ArcGISFeatureLayer':\n",
    "                                        url = url.replace(\"http://\", \"https://\")\n",
    "                                        fl = FeatureLayer(url, gis=gis)\n",
    "                                        fl.properties\n",
    "                                   elif lyr['layerType'] == 'ArcGISTiledMapServiceLayer':\n",
    "                                        url = url.replace(\"http://\", \"https://\")\n",
    "                                        fl = MapImageLayer(url, gis=gis)\n",
    "                                        fl.properties\n",
    "                                   elif lyr['layerType'] == 'ArcGISImageServiceLayer':\n",
    "                                        url = url.replace(\"http://\", \"https://\")\n",
    "                                        fl = ImageryLayer(url, gis=gis)\n",
    "                                        fl.properties\n",
    "                                   lyr['url'] = url\n",
    "                              except:\n",
    "                                   print(\"HTTPS is not supported on %s\" % lyr['url'])\n",
    "                              else:\n",
    "                                   print(\"Updated service to: %s\" % lyr['url'])\n",
    "                    else:\n",
    "                         print(\"Cannot update layer: %s\" % lyr)\n",
    "\n",
    "               wm.update({\"text\" : json.dumps(data)})\n",
    "     return True"
   ]
  },
  {
   "cell_type": "code",
   "execution_count": 34,
   "metadata": {},
   "outputs": [
    {
     "name": "stdout",
     "output_type": "stream",
     "text": [
      "Cannot update layer: {'layerType': 'VectorTileLayer', 'type': 'VectorTileLayer', 'opacity': 1, 'itemId': 'aacf0898e01144f7b3f981ab18fc3626', 'title': 'World_earthquakes_2010', 'visibility': True, 'id': 'VectorTile_7217', 'styleUrl': 'http://python.playground.esri.com/server/rest/services/Hosted/World_earthquakes_2010/VectorTileServer/resources/styles/root.json'}\n",
      "Updated service to: https://python.playground.esri.com/server/rest/services/Hosted/earthquakes/FeatureServer/0\n"
     ]
    },
    {
     "data": {
      "text/plain": [
       "True"
      ]
     },
     "execution_count": 34,
     "metadata": {},
     "output_type": "execute_result"
    }
   ],
   "source": [
    "update_http_to_https(wm)"
   ]
  },
  {
   "cell_type": "code",
   "execution_count": 35,
   "metadata": {},
   "outputs": [
    {
     "data": {
      "application/vnd.jupyter.widget-view+json": {
       "model_id": "49a2dd4ba5c64d34ada92a882b5bcb81"
      }
     },
     "metadata": {},
     "output_type": "display_data"
    }
   ],
   "source": [
    "from arcgis.mapping import WebMap\n",
    "WebMap(wm)"
   ]
  },
  {
   "cell_type": "markdown",
   "metadata": {},
   "source": [
    "We now have a copy of a web map that is HTTPS verse the default version that has HTTP service URLs."
   ]
  }
 ],
 "metadata": {
  "kernelspec": {
   "display_name": "Python 3",
   "language": "python",
   "name": "python3"
  },
  "language_info": {
   "codemirror_mode": {
    "name": "ipython",
    "version": 3
   },
   "file_extension": ".py",
   "mimetype": "text/x-python",
   "name": "python",
   "nbconvert_exporter": "python",
   "pygments_lexer": "ipython3",
   "version": "3.5.3"
  }
 },
 "nbformat": 4,
 "nbformat_minor": 2
}
