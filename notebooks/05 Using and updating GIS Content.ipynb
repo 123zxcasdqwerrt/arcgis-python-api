{
 "cells": [
  {
   "cell_type": "markdown",
   "metadata": {},
   "source": [
    "The GIS is a warehouse of geographic content and services. arcgis includes several classes to make use of the content and services.\n",
    "\n",
    "To get to the content, we use the <b><code>gis.content.search()</code></b> method:"
   ]
  },
  {
   "cell_type": "code",
   "execution_count": 14,
   "metadata": {
    "collapsed": false
   },
   "outputs": [],
   "source": [
    "from arcgis.gis import *\n",
    "gis = GIS()"
   ]
  },
  {
   "cell_type": "markdown",
   "metadata": {},
   "source": [
    "We can search for basemaps, such as the Stamen watercolor basemap:"
   ]
  },
  {
   "cell_type": "code",
   "execution_count": 15,
   "metadata": {
    "collapsed": true
   },
   "outputs": [],
   "source": [
    "stamenbasemap = gis.content.search('watercolor')[0]"
   ]
  },
  {
   "cell_type": "code",
   "execution_count": 16,
   "metadata": {
    "collapsed": false
   },
   "outputs": [
    {
     "data": {
      "text/html": [
       "<div class=\"item_container\">\n",
       "                    <div class=\"item_left\">\n",
       "                       <a href='http://www.arcgis.com/home/item.html?id=80003c63c97548899d858fc3c380370f' target='_blank'>\n",
       "                        <img src='http://www.arcgis.com/sharing/rest/content/items/80003c63c97548899d858fc3c380370f/info/thumbnail/watercolorthumb.png' class=\"itemThumbnail\">\n",
       "                       </a>\n",
       "                    </div>\n",
       "        \n",
       "                    <div class=\"item_right\">\n",
       "                        <a href='http://www.arcgis.com/home/item.html?id=80003c63c97548899d858fc3c380370f' target='_blank'><b>Stamen Watercolor</b>\n",
       "                        </a>\n",
       "                        <br>Stamen's Watercolor tileset<img src='http://www.arcgis.com/home/js/jsapi/esri/css/images/item_type_icons/maps16.png' style=\"vertical-align:middle;\">Web Map by cartogeek\n",
       "                        <br>Last Modified: April 01, 2013\n",
       "                        <br>0 comments, 10,156 views\n",
       "                    </div>\n",
       "                </div>\n",
       "                "
      ],
      "text/plain": [
       "{}"
      ]
     },
     "execution_count": 16,
     "metadata": {},
     "output_type": "execute_result"
    }
   ],
   "source": [
    "stamenbasemap"
   ]
  },
  {
   "cell_type": "markdown",
   "metadata": {},
   "source": [
    "We can then use this basemap item to create a Map in arcgis:"
   ]
  },
  {
   "cell_type": "code",
   "execution_count": 13,
   "metadata": {
    "collapsed": false
   },
   "outputs": [],
   "source": [
    "from arcgis.viz import MapView\n",
    "map = MapView()"
   ]
  },
  {
   "cell_type": "code",
   "execution_count": 7,
   "metadata": {
    "collapsed": true
   },
   "outputs": [],
   "source": [
    "map"
   ]
  },
  {
   "cell_type": "markdown",
   "metadata": {},
   "source": [
    "The GIS also contains other services such as geocoders. We can search for the Esri World Geocoder item..."
   ]
  },
  {
   "cell_type": "code",
   "execution_count": 6,
   "metadata": {
    "collapsed": false
   },
   "outputs": [
    {
     "data": {
      "text/html": [
       "<div class=\"item_container\">\n",
       "                    <div class=\"item_left\">\n",
       "                       <a href='http://www.arcgis.com/home/item.html?id=3f51ed8c307d4ffb87fd48280db28803' target='_blank'>\n",
       "                        <img src='http://www.arcgis.com/sharing/rest/content/items/3f51ed8c307d4ffb87fd48280db28803/info/thumbnail/ago_downloaded.png' class=\"itemThumbnail\">\n",
       "                       </a>\n",
       "                    </div>\n",
       "        \n",
       "                    <div class=\"item_right\">\n",
       "                        <a href='http://www.arcgis.com/home/item.html?id=3f51ed8c307d4ffb87fd48280db28803' target='_blank'><b>ArcGIS Runtime SDK</b>\n",
       "                        </a>\n",
       "                        <br>Map of Beta Community Participants who tested ArcGIS Runtime SDK<img src='http://www.arcgis.com/home/js/jsapi/esri/css/images/item_type_icons/maps16.png' style=\"vertical-align:middle;\">Web Map by astauffer\n",
       "                        <br>Last Modified: March 02, 2012\n",
       "                        <br>0 comments, 238,153 views\n",
       "                    </div>\n",
       "                </div>\n",
       "                "
      ],
      "text/plain": [
       "{}"
      ]
     },
     "metadata": {},
     "output_type": "display_data"
    },
    {
     "data": {
      "text/html": [
       "<div class=\"item_container\">\n",
       "                    <div class=\"item_left\">\n",
       "                       <a href='http://www.arcgis.com/home/item.html?id=0cc796a9c56e477088afc73dece04a52' target='_blank'>\n",
       "                        <img src='http://www.arcgis.com/sharing/rest/content/items/0cc796a9c56e477088afc73dece04a52/info/thumbnail/thumbnail.png' class=\"itemThumbnail\">\n",
       "                       </a>\n",
       "                    </div>\n",
       "        \n",
       "                    <div class=\"item_right\">\n",
       "                        <a href='http://www.arcgis.com/home/item.html?id=0cc796a9c56e477088afc73dece04a52' target='_blank'><b>World_Undersea_Cables</b>\n",
       "                        </a>\n",
       "                        <br>Undersea cables at a global scale<img src='http://www.arcgis.com/home/js/jsapi/esri/css/images/item_type_icons/mapimages16.png' style=\"vertical-align:middle;\">Map Service by josundwa_GC\n",
       "                        <br>Last Modified: July 11, 2013\n",
       "                        <br>0 comments, 42,241 views\n",
       "                    </div>\n",
       "                </div>\n",
       "                "
      ],
      "text/plain": [
       "{}"
      ]
     },
     "metadata": {},
     "output_type": "display_data"
    },
    {
     "data": {
      "text/html": [
       "<div class=\"item_container\">\n",
       "                    <div class=\"item_left\">\n",
       "                       <a href='http://www.arcgis.com/home/item.html?id=305f2e55e67f4389bef269669fc2e284' target='_blank'>\n",
       "                        <img src='http://www.arcgis.com/sharing/rest/content/items/305f2e55e67f4389bef269669fc2e284/info/thumbnail/geocoding_world.jpg' class=\"itemThumbnail\">\n",
       "                       </a>\n",
       "                    </div>\n",
       "        \n",
       "                    <div class=\"item_right\">\n",
       "                        <a href='http://www.arcgis.com/home/item.html?id=305f2e55e67f4389bef269669fc2e284' target='_blank'><b>World Geocoding</b>\n",
       "                        </a>\n",
       "                        <br>The World Geocoding Service finds addresses and places in all supported countries around the world in a single geocoding service.<img src='http://www.arcgis.com/home/js/jsapi/esri/css/images/item_type_icons/layers16.png' style=\"vertical-align:middle;\">Geocoding Service by esri\n",
       "                        <br>Last Modified: January 08, 2015\n",
       "                        <br>5 comments, 35,933 views\n",
       "                    </div>\n",
       "                </div>\n",
       "                "
      ],
      "text/plain": [
       "{}"
      ]
     },
     "metadata": {},
     "output_type": "display_data"
    }
   ],
   "source": [
    "from IPython.display import display\n",
    "geocoderitems = gis.content.search('world geocoding',max_items=3)\n",
    "for item in geocoderitems:\n",
    "    display(item)"
   ]
  },
  {
   "cell_type": "code",
   "execution_count": 8,
   "metadata": {
    "collapsed": false
   },
   "outputs": [],
   "source": [
    "geocoderitem = geocoderitems[2]"
   ]
  },
  {
   "cell_type": "markdown",
   "metadata": {},
   "source": [
    "... and create and use a Geocoder instance with this item:"
   ]
  },
  {
   "cell_type": "code",
   "execution_count": 9,
   "metadata": {
    "collapsed": false
   },
   "outputs": [],
   "source": [
    "from arcgis.tools import Geocoder\n",
    "geocoder = Geocoder(geocoderitem)"
   ]
  },
  {
   "cell_type": "code",
   "execution_count": 10,
   "metadata": {
    "collapsed": true
   },
   "outputs": [],
   "source": [
    "map.zoom=13"
   ]
  },
  {
   "cell_type": "code",
   "execution_count": 11,
   "metadata": {
    "collapsed": true
   },
   "outputs": [],
   "source": [
    "map.center = geocoder.find_best_match(\"Times Square\")"
   ]
  },
  {
   "cell_type": "code",
   "execution_count": 12,
   "metadata": {
    "collapsed": false
   },
   "outputs": [],
   "source": [
    "scene = gis.content.search('pictometry', 'web scene')[0]"
   ]
  },
  {
   "cell_type": "code",
   "execution_count": 33,
   "metadata": {
    "collapsed": false
   },
   "outputs": [
    {
     "data": {
      "text/html": [
       "<div class=\"item_container\">\n",
       "                    <div class=\"item_left\">\n",
       "                       <a href='http://www.arcgis.com/home/item.html?id=3e17e7850ccf44c688970300fa3fa5f0' target='_blank'>\n",
       "                        <img src='http://www.arcgis.com/sharing/rest/content/items/3e17e7850ccf44c688970300fa3fa5f0/info/thumbnail/ago_downloaded.png' class=\"itemThumbnail\">\n",
       "                       </a>\n",
       "                    </div>\n",
       "        \n",
       "                    <div class=\"item_right\">\n",
       "                        <a href='http://www.arcgis.com/home/item.html?id=3e17e7850ccf44c688970300fa3fa5f0' target='_blank'><b>Pictometry 3D Scene</b>\n",
       "                        </a>\n",
       "                        <br>Pictometry 3D Scene with Indianapolis and Philadelphia 3D Scene Layers<img src='http://www.arcgis.com/home/js/jsapi/esri/css/images/item_type_icons/webscene16.png' style=\"vertical-align:middle;\">Web Scene by whitepeterj\n",
       "                        <br>Last Modified: September 11, 2015\n",
       "                        <br>2 comments, 4,613 views\n",
       "                    </div>\n",
       "                </div>\n",
       "                "
      ],
      "text/plain": [
       "{}"
      ]
     },
     "execution_count": 33,
     "metadata": {},
     "output_type": "execute_result"
    }
   ],
   "source": [
    "scene"
   ]
  },
  {
   "cell_type": "code",
   "execution_count": 35,
   "metadata": {
    "collapsed": false
   },
   "outputs": [],
   "source": [
    "from arcgis.viz import *\n",
    "picwebscene = WebScene(scene)"
   ]
  },
  {
   "cell_type": "code",
   "execution_count": 36,
   "metadata": {
    "collapsed": false
   },
   "outputs": [
    {
     "data": {
      "text/html": [
       "<iframe width=960 height=600 src=\"http://www.arcgis.com/home/webscene/viewer.html?webscene=3e17e7850ccf44c688970300fa3fa5f0\"/>"
      ],
      "text/plain": [
       "WebScene([('operationalLayers', [OrderedDict([('url', 'http://scenesampleserverdev.arcgis.com/arcgis/rest/services/Hosted/Buildings_Philadelphia/SceneServer/layers/0'), ('title', 'Philadelphia 3D Pictometry'), ('id', '14f89254c32-layer-11'), ('layerType', 'ArcGISSceneServiceLayer'), ('visibility', True), ('opacity', 1), ('itemId', 'edb35a635df244afa33bc056319d7e82')]), OrderedDict([('url', 'http://scenesampleserverdev.arcgis.com/arcgis/rest/services/Hosted/buildings_Indianapolis/SceneServer/layers/0'), ('title', 'Indianapolis 3D Pictometry'), ('id', '14f891a6725-layer-13'), ('layerType', 'ArcGISSceneServiceLayer'), ('visibility', True), ('opacity', 1), ('itemId', 'd5271294f1e04ac9acc5b36feaab7859')])]), ('baseMap', OrderedDict([('id', 'basemap_9'), ('title', 'Imagery'), ('baseMapLayers', [OrderedDict([('id', '14e74359f2a-layer-19'), ('url', 'http://services.arcgisonline.com/ArcGIS/rest/services/World_Imagery/MapServer'), ('layerType', 'ArcGISTiledMapServiceLayer')])]), ('elevationLayers', [OrderedDict([('id', 'globalElevation'), ('url', 'http://elevation3d.arcgis.com/arcgis/rest/services/WorldElevation3D/Terrain3D/ImageServer'), ('layerType', 'ArcGISTiledElevationServiceLayer')])]), ('transparency', 0)])), ('version', '1.2'), ('authoringApp', 'WebSceneViewer'), ('authoringAppVersion', '3.9.0.0'), ('initialState', OrderedDict([('viewpoint', OrderedDict([('scale', 1588.075888373615), ('rotation', 358.1781412386661), ('targetGeometry', OrderedDict([('x', -9590779.911086407), ('y', 4831653.916431), ('spatialReference', OrderedDict([('wkid', 102100), ('latestWkid', 3857)])), ('z', 252.47562109213322)])), ('camera', OrderedDict([('position', OrderedDict([('x', -9590793.306173058), ('y', 4831232.804184133), ('spatialReference', OrderedDict([('wkid', 102100), ('latestWkid', 3857)])), ('z', 428.2976299840957)])), ('heading', 1.8218587613339123), ('tilt', 61.5036340357798)]))])), ('environment', OrderedDict([('lighting', OrderedDict([('datetime', 1426441477000), ('displayUTCOffset', -5)]))]))])), ('presentation', OrderedDict([('slides', [OrderedDict([('id', 'slide_7'), ('title', OrderedDict([('text', 'Conseco Field House')])), ('thumbnail', OrderedDict([('url', 'data:image/jpeg;base64,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')])), ('description', OrderedDict([('text', '')])), ('baseMap', OrderedDict([('id', 'basemap_9'), ('title', 'Imagery'), ('baseMapLayers', [OrderedDict([('id', '14e74359f2a-layer-19'), ('url', 'http://services.arcgisonline.com/ArcGIS/rest/services/World_Imagery/MapServer'), ('layerType', 'ArcGISTiledMapServiceLayer')])]), ('transparency', 0)])), ('viewpoint', OrderedDict([('scale', 1588.075888373615), ('rotation', 358.1781412386661), ('targetGeometry', OrderedDict([('x', -9590779.911086407), ('y', 4831653.916431), ('spatialReference', OrderedDict([('wkid', 102100), ('latestWkid', 3857)])), ('z', 252.47562109213322)])), ('camera', OrderedDict([('position', OrderedDict([('x', -9590793.306173058), ('y', 4831232.804184133), ('spatialReference', OrderedDict([('wkid', 102100), ('latestWkid', 3857)])), ('z', 428.2976299840957)])), ('heading', 1.8218587613339123), ('tilt', 61.5036340357798)]))])), ('visibleLayers', [OrderedDict([('id', '14f891a6725-layer-13')])]), ('environment', OrderedDict([('lighting', OrderedDict([('datetime', 1426441477000), ('displayUTCOffset', -5)]))]))]), OrderedDict([('id', 'slide_4'), ('title', OrderedDict([('text', 'Lucas Oil Stadium Indy')])), ('thumbnail', OrderedDict([('url', 'data:image/jpeg;base64,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')])), ('description', OrderedDict([('text', '')])), ('baseMap', OrderedDict([('id', 'basemap_9'), ('title', 'Imagery'), ('baseMapLayers', [OrderedDict([('id', '14e74359f2a-layer-19'), ('url', 'http://services.arcgisonline.com/ArcGIS/rest/services/World_Imagery/MapServer'), ('layerType', 'ArcGISTiledMapServiceLayer')])]), ('transparency', 0)])), ('viewpoint', OrderedDict([('scale', 2751.5068104760276), ('rotation', 336.31585528659633), ('targetGeometry', OrderedDict([('x', -9591696.406421097), ('y', 4831102.743669567), ('spatialReference', OrderedDict([('wkid', 102100), ('latestWkid', 3857)])), ('z', 294.1688319882378)])), ('camera', OrderedDict([('position', OrderedDict([('x', -9592067.714026341), ('y', 4830256.287783012), ('spatialReference', OrderedDict([('wkid', 102100), ('latestWkid', 3857)])), ('z', 467.3754588570446)])), ('heading', 23.684144713403676), ('tilt', 76.29867298224373)]))])), ('visibleLayers', [OrderedDict([('id', '14e97221cc0-layer-13')]), OrderedDict([('id', '14f891a6725-layer-13')])]), ('environment', OrderedDict([('lighting', OrderedDict([('datetime', 1426441480000), ('displayUTCOffset', -5)]))]))]), OrderedDict([('id', 'slide_5'), ('title', OrderedDict([('text', 'Soldiers and Sailors Monument Indy')])), ('thumbnail', OrderedDict([('url', 'data:image/jpeg;base64,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')])), ('description', OrderedDict([('text', '')])), ('baseMap', OrderedDict([('id', 'basemap_9'), ('title', 'Imagery'), ('baseMapLayers', [OrderedDict([('id', '14e74359f2a-layer-19'), ('url', 'http://services.arcgisonline.com/ArcGIS/rest/services/World_Imagery/MapServer'), ('layerType', 'ArcGISTiledMapServiceLayer')])]), ('transparency', 0)])), ('viewpoint', OrderedDict([('scale', 1579.7781909206522), ('rotation', 9.085384323910603), ('targetGeometry', OrderedDict([('x', -9591055.191444213), ('y', 4832420.999314821), ('spatialReference', OrderedDict([('wkid', 102100), ('latestWkid', 3857)])), ('z', 217.9998519970104)])), ('camera', OrderedDict([('position', OrderedDict([('x', -9590977.883367054), ('y', 4831937.571238508), ('spatialReference', OrderedDict([('wkid', 102100), ('latestWkid', 3857)])), ('z', 404.2494788290933)])), ('heading', 350.9146156760894), ('tilt', 63.66679761372125)]))])), ('visibleLayers', [OrderedDict([('id', '14e97221cc0-layer-13')]), OrderedDict([('id', '14f891a6725-layer-13')])]), ('environment', OrderedDict([('lighting', OrderedDict([('datetime', 1426441478000), ('displayUTCOffset', -5)]))]))]), OrderedDict([('id', 'slide_8'), ('title', OrderedDict([('text', 'Indiana State Capitol')])), ('thumbnail', OrderedDict([('url', 'data:image/jpeg;base64,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')])), ('description', OrderedDict([('text', '')])), ('baseMap', OrderedDict([('id', 'basemap_9'), ('title', 'Imagery'), ('baseMapLayers', [OrderedDict([('id', '14e74359f2a-layer-19'), ('url', 'http://services.arcgisonline.com/ArcGIS/rest/services/World_Imagery/MapServer'), ('layerType', 'ArcGISTiledMapServiceLayer')])]), ('transparency', 0)])), ('viewpoint', OrderedDict([('scale', 1937.8417289665088), ('rotation', 329.9841990648155), ('targetGeometry', OrderedDict([('x', -9591602.913915588), ('y', 4832285.107970817), ('spatialReference', OrderedDict([('wkid', 102100), ('latestWkid', 3857)])), ('z', 241.5347172357142)])), ('camera', OrderedDict([('position', OrderedDict([('x', -9591918.52279319), ('y', 4831738.825304815), ('spatialReference', OrderedDict([('wkid', 102100), ('latestWkid', 3857)])), ('z', 391.38633763883263)])), ('heading', 30.015800935184455), ('tilt', 72.82719125667914)]))])), ('visibleLayers', [OrderedDict([('id', '14f89254c32-layer-11')]), OrderedDict([('id', '14f891a6725-layer-13')])]), ('environment', OrderedDict([('lighting', OrderedDict([('datetime', 1426441480000), ('displayUTCOffset', -5)]))]))]), OrderedDict([('id', 'slide_6'), ('title', OrderedDict([('text', 'NCAA Hall of Champions Indy')])), ('thumbnail', OrderedDict([('url', 'data:image/jpeg;base64,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')])), ('description', OrderedDict([('text', '')])), ('baseMap', OrderedDict([('id', 'basemap_9'), ('title', 'Imagery'), ('baseMapLayers', [OrderedDict([('id', '14e74359f2a-layer-19'), ('url', 'http://services.arcgisonline.com/ArcGIS/rest/services/World_Imagery/MapServer'), ('layerType', 'ArcGISTiledMapServiceLayer')])]), ('transparency', 0)])), ('viewpoint', OrderedDict([('scale', 1263.2136397354318), ('rotation', 297.19728026786817), ('targetGeometry', OrderedDict([('x', -9592511.365077902), ('y', 4832319.014032669), ('spatialReference', OrderedDict([('wkid', 102100), ('latestWkid', 3857)])), ('z', 223.69492281693965)])), ('camera', OrderedDict([('position', OrderedDict([('x', -9592877.078513974), ('y', 4832131.093278604), ('spatialReference', OrderedDict([('wkid', 102100), ('latestWkid', 3857)])), ('z', 337.0077287713066)])), ('heading', 62.80271973213181), ('tilt', 70.27483889405474)]))])), ('visibleLayers', [OrderedDict([('id', '14e97221cc0-layer-13')]), OrderedDict([('id', '14f891a6725-layer-13')])]), ('environment', OrderedDict([('lighting', OrderedDict([('datetime', 1426441482000), ('displayUTCOffset', -5)]))]))]), OrderedDict([('id', 'slide_1'), ('title', OrderedDict([('text', 'Philadelphia 1')])), ('thumbnail', OrderedDict([('url', 'data:image/jpeg;base64,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')])), ('description', OrderedDict([('text', '')])), ('baseMap', OrderedDict([('id', 'basemap_9'), ('title', 'Imagery'), ('baseMapLayers', [OrderedDict([('id', '14e74359f2a-layer-19'), ('url', 'http://services.arcgisonline.com/ArcGIS/rest/services/World_Imagery/MapServer'), ('layerType', 'ArcGISTiledMapServiceLayer')])]), ('transparency', 0)])), ('viewpoint', OrderedDict([('scale', 2443.276608312287), ('rotation', 172.76592526585605), ('targetGeometry', OrderedDict([('x', -8365660.9427736765), ('y', 4858524.093387235), ('spatialReference', OrderedDict([('wkid', 102100), ('latestWkid', 3857)])), ('z', 25.659299762919545)])), ('camera', OrderedDict([('position', OrderedDict([('x', -8365563.6651348015), ('y', 4859290.489584681), ('spatialReference', OrderedDict([('wkid', 102100), ('latestWkid', 3857)])), ('z', 344.31153739150614)])), ('heading', 187.23407473414395), ('tilt', 61.715079942048014)]))])), ('visibleLayers', [OrderedDict([('id', '14e97221cc0-layer-13')]), OrderedDict([('id', '14e9722339a-layer-15')])]), ('environment', OrderedDict([('lighting', OrderedDict([('datetime', 1426438836000), ('displayUTCOffset', -5)]))]))]), OrderedDict([('id', 'slide_2'), ('title', OrderedDict([('text', 'Philadelphia 2')])), ('thumbnail', OrderedDict([('url', 'data:image/jpeg;base64,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')])), ('description', OrderedDict([('text', '')])), ('baseMap', OrderedDict([('id', 'basemap_9'), ('title', 'Imagery'), ('baseMapLayers', [OrderedDict([('id', '14e74359f2a-layer-19'), ('url', 'http://services.arcgisonline.com/ArcGIS/rest/services/World_Imagery/MapServer'), ('layerType', 'ArcGISTiledMapServiceLayer')])]), ('transparency', 0)])), ('viewpoint', OrderedDict([('scale', 2134.951024596053), ('rotation', 170.7071517792744), ('targetGeometry', OrderedDict([('x', -8367152.916243642), ('y', 4859118.043294732), ('spatialReference', OrderedDict([('wkid', 102100), ('latestWkid', 3857)])), ('z', 72.03279469255358)])), ('camera', OrderedDict([('position', OrderedDict([('x', -8367048.678593091), ('y', 4859755.104256326), ('spatialReference', OrderedDict([('wkid', 102100), ('latestWkid', 3857)])), ('z', 388.92824613582343)])), ('heading', 189.2928482207256), ('tilt', 57.36273827518245)]))])), ('visibleLayers', [OrderedDict([('id', '14e97221cc0-layer-13')]), OrderedDict([('id', '14e9722339a-layer-15')])]), ('environment', OrderedDict([('lighting', OrderedDict([('datetime', 1426438839000), ('displayUTCOffset', -5)]))]))]), OrderedDict([('id', 'slide_3'), ('title', OrderedDict([('text', 'Philadelphia 3')])), ('thumbnail', OrderedDict([('url', 'data:image/jpeg;base64,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')])), ('description', OrderedDict([('text', '')])), ('baseMap', OrderedDict([('id', 'basemap_9'), ('title', 'Imagery'), ('baseMapLayers', [OrderedDict([('id', '14e74359f2a-layer-19'), ('url', 'http://services.arcgisonline.com/ArcGIS/rest/services/World_Imagery/MapServer'), ('layerType', 'ArcGISTiledMapServiceLayer')])]), ('transparency', 0)])), ('viewpoint', OrderedDict([('scale', 3056.161268932366), ('rotation', 359.99991172211696), ('targetGeometry', OrderedDict([('x', -8366584.067496052), ('y', 4858540.328557897), ('spatialReference', OrderedDict([('wkid', 102100), ('latestWkid', 3857)])), ('z', 61.307495527900755)])), ('camera', OrderedDict([('position', OrderedDict([('x', -8366584.069171715), ('y', 4857452.849483311), ('spatialReference', OrderedDict([('wkid', 102100), ('latestWkid', 3857)])), ('z', 173.2562990197912)])), ('heading', 8.827788303256526e-05), ('tilt', 82.34871412822598)]))])), ('visibleLayers', [OrderedDict([('id', '14e97221cc0-layer-13')]), OrderedDict([('id', '14e9722339a-layer-15')])]), ('environment', OrderedDict([('lighting', OrderedDict([('datetime', 1426438838000), ('displayUTCOffset', -5)]))]))])])]))])"
      ]
     },
     "execution_count": 36,
     "metadata": {},
     "output_type": "execute_result"
    }
   ],
   "source": [
    "picwebscene"
   ]
  },
  {
   "cell_type": "markdown",
   "metadata": {},
   "source": [
    "The GIS contains several different types of content and arcgis provides the API to use, modify and update it."
   ]
  },
  {
   "cell_type": "code",
   "execution_count": 37,
   "metadata": {
    "collapsed": true
   },
   "outputs": [],
   "source": [
    "portal = GIS(\"https://dev04875.esri.com/arcgis\", \"portaladmin\", \"portaladmin\")"
   ]
  },
  {
   "cell_type": "code",
   "execution_count": 38,
   "metadata": {
    "collapsed": true
   },
   "outputs": [],
   "source": [
    "mapitem = portal.content.search('World Cities', 'web map')[0]"
   ]
  },
  {
   "cell_type": "code",
   "execution_count": 40,
   "metadata": {
    "collapsed": false
   },
   "outputs": [
    {
     "data": {
      "text/html": [
       "<div class=\"item_container\">\n",
       "                    <div class=\"item_left\">\n",
       "                       <a href='https://dev04875.esri.com/arcgis/home/item.html?id=83aa1e614894406a93fffd8b1cbab7a6' target='_blank'>\n",
       "                        <img src='data:image/png;base64,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' width='200' height='133' class=\"itemThumbnail\">\n",
       "                       </a>\n",
       "                    </div>\n",
       "        \n",
       "                    <div class=\"item_right\">\n",
       "                        <a href='https://dev04875.esri.com/arcgis/home/item.html?id=83aa1e614894406a93fffd8b1cbab7a6' target='_blank'><b>World Cities</b>\n",
       "                        </a>\n",
       "                        <br><img src='http://www.arcgis.com/home/js/jsapi/esri/css/images/item_type_icons/maps16.png' style=\"vertical-align:middle;\">Web Map by portaladmin\n",
       "                        <br>Last Modified: October 28, 2015\n",
       "                        <br>0 comments, 0 views\n",
       "                    </div>\n",
       "                </div>\n",
       "                "
      ],
      "text/plain": [
       "{}"
      ]
     },
     "execution_count": 40,
     "metadata": {},
     "output_type": "execute_result"
    }
   ],
   "source": [
    "mapitem"
   ]
  },
  {
   "cell_type": "code",
   "execution_count": 42,
   "metadata": {
    "collapsed": true
   },
   "outputs": [],
   "source": [
    "webmap = WebMap(mapitem)"
   ]
  },
  {
   "cell_type": "code",
   "execution_count": 44,
   "metadata": {
    "collapsed": false
   },
   "outputs": [
    {
     "data": {
      "text/html": [
       "<iframe width=960 height=600 src=\"https://dev04875.esri.com/arcgis/home/webmap/viewer.html?webmap=83aa1e614894406a93fffd8b1cbab7a6\"/>"
      ],
      "text/plain": [
       "WebMap([('operationalLayers', [OrderedDict([('id', 'SampleWorldCities_5070'), ('layerType', 'ArcGISMapServiceLayer'), ('url', 'https://dev04875.esri.com/arcgis/rest/services/SampleWorldCities/MapServer'), ('visibility', True), ('opacity', 1), ('title', 'SampleWorldCities'), ('itemId', 'f9c3178f1e6f46cc93afd2dea6750a68')])]), ('baseMap', OrderedDict([('baseMapLayers', [OrderedDict([('id', 'defaultBasemap'), ('layerType', 'ArcGISTiledMapServiceLayer'), ('opacity', 1), ('visibility', True), ('url', 'http://services.arcgisonline.com/ArcGIS/rest/services/World_Topo_Map/MapServer')])]), ('title', 'Topographic')])), ('spatialReference', OrderedDict([('wkid', 102100), ('latestWkid', 3857)])), ('authoringApp', 'WebMapViewer'), ('authoringAppVersion', '3.8'), ('version', '2.2')])"
      ]
     },
     "execution_count": 44,
     "metadata": {},
     "output_type": "execute_result"
    }
   ],
   "source": [
    "webmap"
   ]
  },
  {
   "cell_type": "markdown",
   "metadata": {},
   "source": [
    "Uncomment the lines below to replace  old server url with new server url (or vice versa). The changes can be saved back to the webmap item using webmap.update():"
   ]
  },
  {
   "cell_type": "code",
   "execution_count": 43,
   "metadata": {
    "collapsed": false
   },
   "outputs": [
    {
     "name": "stdout",
     "output_type": "stream",
     "text": [
      "https://dev04875.esri.com/arcgis/rest/services/SampleWorldCities/MapServer\n"
     ]
    }
   ],
   "source": [
    "oldserver = 'dev00930.esri.com'\n",
    "newserver = 'dev04875.esri.com'\n",
    "\n",
    "for lyr in  webmap['operationalLayers']:\n",
    "    if 'url' in lyr:\n",
    "        print(lyr['url'])\n",
    "        #lyr['url'] = lyr['url'].replace(oldserver, newserver)\n",
    "        #lyr['url'] = lyr['url'].replace(newserver, oldserver)\n",
    "\n",
    "#webmap.update()"
   ]
  }
 ],
 "metadata": {
  "kernelspec": {
   "display_name": "Python 3",
   "language": "python",
   "name": "python3"
  },
  "language_info": {
   "codemirror_mode": {
    "name": "ipython",
    "version": 3
   },
   "file_extension": ".py",
   "mimetype": "text/x-python",
   "name": "python",
   "nbconvert_exporter": "python",
   "pygments_lexer": "ipython3",
   "version": "3.4.3"
  }
 },
 "nbformat": 4,
 "nbformat_minor": 0
}
