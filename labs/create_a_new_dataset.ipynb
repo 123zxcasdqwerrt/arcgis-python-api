{
 "cells": [
  {
   "cell_type": "code",
   "execution_count": null,
   "metadata": {},
   "outputs": [],
   "source": [
    "import getpass\n",
    "import arcgis.features as features\n",
    "import arcgis.geometry as geometry\n",
    "from arcgis.gis import GIS\n",
    "\n",
    "password = getpass.getpass(\"Please enter password: \")\n",
    "gis = GIS('https://browns.maps.arcgis.com', 'johnnyDev', password)\n",
    "print(\"Successfully logged in to {} as {}\".format(gis.properties.urlKey + '.' + gis.properties.customBaseUrl,\n",
    "                                                 gis.users.me.username))"
   ]
  },
  {
   "cell_type": "code",
   "execution_count": null,
   "metadata": {},
   "outputs": [],
   "source": [
    "# search for the item that you previusly made with the Create Layer tool\n",
    "feature_item = gis.content.search(query=\"\"\"title: \"Griffith Park*\" \"\"\", \n",
    "                                  item_type=\"Feature Service\")\n",
    "# the search returns a list of items, so retrieve the item\n",
    "griffith_item = feature_item[0]\n",
    "# retrive the Feature Layer item with layers property of the item\n",
    "griffith_lyr = griffith_item.layers[0]\n",
    "# print values to ensure you have the layer\n",
    "print(\"{} is a {}\".format(griffith_lyr.properties.name, griffith_lyr.properties.type))"
   ]
  },
  {
   "cell_type": "code",
   "execution_count": null,
   "metadata": {},
   "outputs": [],
   "source": [
    "# load csv file with coordinate values and attributes for new features into a pandas dataframe\n",
    "import pandas\n",
    "feat_records = pandas.read_csv(r'/Users/john3092/Projects/DevLabs/la_area_values.csv')\n",
    "feat_records"
   ]
  },
  {
   "cell_type": "code",
   "execution_count": null,
   "metadata": {},
   "outputs": [],
   "source": [
    "float(row['Longitude'])"
   ]
  },
  {
   "cell_type": "code",
   "execution_count": null,
   "metadata": {
    "collapsed": true
   },
   "outputs": [],
   "source": [
    "# create a variable for the spatial reference\n",
    "sr = {'wkid': 4236}\n",
    "\n",
    "# construct points and attributes lists from the dataframe\n",
    "pts = []\n",
    "atts = []\n",
    "for index, row in feat_records.iterrows():\n",
    "    pt = geometry.Point({'x': float(row['Longitude']),\n",
    "                    'y': float(row['Latitude']),\n",
    "                    'spatialReference': sr\n",
    "                   })\n",
    "    att = {'name' : str(row['Name']),\n",
    "          'type': str(row['Type']),\n",
    "          'surface': str(row['Surface'])\n",
    "#           'OBJECTID': index + 1\n",
    "          }\n",
    "    atts.append(att)\n",
    "    pts.append(pt)"
   ]
  },
  {
   "cell_type": "code",
   "execution_count": null,
   "metadata": {},
   "outputs": [],
   "source": [
    "pts[0]"
   ]
  },
  {
   "cell_type": "code",
   "execution_count": null,
   "metadata": {
    "collapsed": true
   },
   "outputs": [],
   "source": [
    "feats = []\n",
    "for i in range(0, 3):\n",
    "    feat = features.Feature(geometry=pts[i], attributes=atts[i])\n",
    "    feats.append(feat)"
   ]
  },
  {
   "cell_type": "code",
   "execution_count": null,
   "metadata": {},
   "outputs": [],
   "source": [
    "feats[0]"
   ]
  },
  {
   "cell_type": "code",
   "execution_count": null,
   "metadata": {},
   "outputs": [],
   "source": [
    "f1 = feats[2]\n",
    "f1.as_dict"
   ]
  },
  {
   "cell_type": "code",
   "execution_count": null,
   "metadata": {},
   "outputs": [],
   "source": [
    "for feat in feats:\n",
    "    print(feat.get_value('name'))"
   ]
  },
  {
   "cell_type": "code",
   "execution_count": null,
   "metadata": {},
   "outputs": [],
   "source": [
    "map1 = gis.map('Los Angeles')\n",
    "map1"
   ]
  },
  {
   "cell_type": "code",
   "execution_count": null,
   "metadata": {
    "collapsed": true
   },
   "outputs": [],
   "source": [
    "from arcgis.features import FeatureSet"
   ]
  },
  {
   "cell_type": "code",
   "execution_count": null,
   "metadata": {},
   "outputs": [],
   "source": [
    "fset = FeatureSet(features=feats)\n",
    "fset.fields"
   ]
  },
  {
   "cell_type": "code",
   "execution_count": null,
   "metadata": {
    "collapsed": true
   },
   "outputs": [],
   "source": [
    "f.geometry"
   ]
  },
  {
   "cell_type": "code",
   "execution_count": null,
   "metadata": {
    "collapsed": true
   },
   "outputs": [],
   "source": [
    "for f in feats:\n",
    "    map1.draw(f.geometry)"
   ]
  },
  {
   "cell_type": "code",
   "execution_count": null,
   "metadata": {},
   "outputs": [],
   "source": [
    "griffith_lyr.edit_features(adds=feats) # feats should be a list? doc says 'array'? np array?"
   ]
  },
  {
   "cell_type": "code",
   "execution_count": null,
   "metadata": {},
   "outputs": [],
   "source": [
    "map2 = gis.map('Los Angeles', 10)\n",
    "map2"
   ]
  },
  {
   "cell_type": "code",
   "execution_count": null,
   "metadata": {
    "collapsed": true
   },
   "outputs": [],
   "source": [
    "map2.add_layer(griffith_lyr)"
   ]
  },
  {
   "cell_type": "code",
   "execution_count": null,
   "metadata": {
    "collapsed": true
   },
   "outputs": [],
   "source": [
    "from arcgis import geocoding\n",
    "\n",
    "def find_addr(map2, g):\n",
    "    try:\n",
    "        #geocoded = geocoding.reverse_geocode(g)\n",
    "        #print(geocoded['address']['Match_addr'])\n",
    "        print(str(g))\n",
    "        map2.draw(g)\n",
    "    except:\n",
    "        print(\"Couldn't match address. Try another place...\")"
   ]
  },
  {
   "cell_type": "code",
   "execution_count": null,
   "metadata": {
    "collapsed": true
   },
   "outputs": [],
   "source": [
    "map2.on_click(find_addr)"
   ]
  },
  {
   "cell_type": "code",
   "execution_count": null,
   "metadata": {
    "collapsed": true
   },
   "outputs": [],
   "source": []
  }
 ],
 "metadata": {
  "anaconda-cloud": {},
  "kernelspec": {
   "display_name": "Python [default]",
   "language": "python",
   "name": "python3"
  },
  "language_info": {
   "codemirror_mode": {
    "name": "ipython",
    "version": 3
   },
   "file_extension": ".py",
   "mimetype": "text/x-python",
   "name": "python",
   "nbconvert_exporter": "python",
   "pygments_lexer": "ipython3",
   "version": "3.5.3"
  }
 },
 "nbformat": 4,
 "nbformat_minor": 2
}
