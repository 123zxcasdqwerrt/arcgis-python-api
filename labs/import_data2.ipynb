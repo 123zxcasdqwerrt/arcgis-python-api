{
 "cells": [
  {
   "cell_type": "markdown",
   "metadata": {},
   "source": [
    "*Important note\n",
    "The code in the cell immediately below must be run before the Import Data Lab cells will run. It is the ArcGIS APIfor Python code you wrote for the Download Data lab. The LA_Hub_Datasets.zip directory from which you import data is only available in a single notebook.esri.com session."
   ]
  },
  {
   "cell_type": "code",
   "execution_count": null,
   "metadata": {
    "collapsed": true
   },
   "outputs": [],
   "source": [
    "# from arcgis.gis import *\n",
    "# import os\n",
    "# from zipfile import ZipFile\n",
    "\n",
    "# public_data_item_id = 'a04933c045714492bda6886f355416f2'\n",
    "\n",
    "# anon_gis = GIS()\n",
    "\n",
    "# data_item = anon_gis.content.get(public_data_item_id)\n",
    "# data_item\n",
    "\n",
    "# data_item.download(save_path = r'./')\n",
    "\n",
    "# zf = ZipFile(r'./LA_Hub_Datasets.zip')\n",
    "# zf.extractall(path=r'./LA_Hub_datasets')\n",
    "\n",
    "# file_list = os.listdir(r'./LA_Hub_datasets/')\n",
    "# file_list"
   ]
  },
  {
   "cell_type": "markdown",
   "metadata": {},
   "source": [
    "#### The Import Data Lab"
   ]
  },
  {
   "cell_type": "code",
   "execution_count": null,
   "metadata": {
    "collapsed": true
   },
   "outputs": [],
   "source": [
    "import getpass\n",
    "\n",
    "password = getpass.getpass(\"Enter password, please: \")\n",
    "dev_gis = GIS('https://arcgis.com', 'johnnyDev', password)"
   ]
  },
  {
   "cell_type": "code",
   "execution_count": null,
   "metadata": {
    "collapsed": true
   },
   "outputs": [],
   "source": [
    "parks_properties = {'title': 'Parks and Open Space',\n",
    "                   'tags': 'parks, open data, devlabs',\n",
    "                   'type': 'Shapefile'}\n",
    "parks_shp = dev_gis.content.add(parks_properties,\n",
    "                               data='./LA_Hub_datasets/Parks and Open Space.zip')"
   ]
  },
  {
   "cell_type": "code",
   "execution_count": null,
   "metadata": {
    "collapsed": true
   },
   "outputs": [],
   "source": [
    "parks_shp"
   ]
  },
  {
   "cell_type": "code",
   "execution_count": null,
   "metadata": {
    "collapsed": true
   },
   "outputs": [],
   "source": [
    "parks_feature_layer = parks_shp.publish()"
   ]
  },
  {
   "cell_type": "code",
   "execution_count": null,
   "metadata": {
    "collapsed": true
   },
   "outputs": [],
   "source": [
    "parks_feature_layer.url"
   ]
  }
 ],
 "metadata": {
  "kernelspec": {
   "display_name": "Python 3",
   "language": "python",
   "name": "python3"
  },
  "language_info": {
   "codemirror_mode": {
    "name": "ipython",
    "version": 3
   },
   "file_extension": ".py",
   "mimetype": "text/x-python",
   "name": "python",
   "nbconvert_exporter": "python",
   "pygments_lexer": "ipython3",
   "version": "3.6.1"
  }
 },
 "nbformat": 4,
 "nbformat_minor": 2
}
