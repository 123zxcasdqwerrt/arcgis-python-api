{
 "cells": [
  {
   "cell_type": "markdown",
   "metadata": {},
   "source": [
    "# HTML table to Pandas Data Frame to Portal Item\n",
    "\n",
    "Often we read informative articles that present data in a tabular form. If such data contained location information, it would be much more insightful if presented as a cartographic map. Thus this sample shows how Pandas can be used to extract data from a table within a web page (in this case, a Wikipedia article) and how it can be then brought into the GIS for further analysis and visualization.\n",
    "\n",
    "**Note**: to run this sample, you need a few extra libraries in your conda environment. If you don't have the libraries, install them by running the following commands from cmd.exe or your shell\n",
    "\n",
    "```\n",
    "conda install lxml\n",
    "conda install html5lib\n",
    "conda install beautifulsoup4\n",
    "conda install matplotlib```"
   ]
  },
  {
   "cell_type": "code",
   "execution_count": 1,
   "metadata": {},
   "outputs": [],
   "source": [
    "import pandas as pd"
   ]
  },
  {
   "cell_type": "markdown",
   "metadata": {},
   "source": [
    "Let us read the Wikipedia article on [Estimated number of guns per capita by country](https://en.wikipedia.org/wiki/Number_of_guns_per_capita_by_country) as a pandas data frame object"
   ]
  },
  {
   "cell_type": "code",
   "execution_count": 2,
   "metadata": {},
   "outputs": [],
   "source": [
    "df = pd.read_html(\"https://en.wikipedia.org/wiki/Number_of_guns_per_capita_by_country\")[0]"
   ]
  },
  {
   "cell_type": "markdown",
   "metadata": {},
   "source": [
    "Let us process the table by dropping some unncessary columns"
   ]
  },
  {
   "cell_type": "code",
   "execution_count": 3,
   "metadata": {},
   "outputs": [],
   "source": [
    "df.columns = df.iloc[0]\n",
    "df = df.reindex(df.index.drop(0))\n",
    "df = df.reindex(df.index.drop(1))\n",
    "df = df.drop(df.columns[0], axis=1)"
   ]
  },
  {
   "cell_type": "code",
   "execution_count": 4,
   "metadata": {},
   "outputs": [
    {
     "data": {
      "text/html": [
       "<div>\n",
       "<style scoped>\n",
       "    .dataframe tbody tr th:only-of-type {\n",
       "        vertical-align: middle;\n",
       "    }\n",
       "\n",
       "    .dataframe tbody tr th {\n",
       "        vertical-align: top;\n",
       "    }\n",
       "\n",
       "    .dataframe thead th {\n",
       "        text-align: right;\n",
       "    }\n",
       "</style>\n",
       "<table border=\"1\" class=\"dataframe\">\n",
       "  <thead>\n",
       "    <tr style=\"text-align: right;\">\n",
       "      <th></th>\n",
       "      <th>Country (or dependent territory, subnational area, etc.)</th>\n",
       "      <th>Estimate of civilian firearms per 100 persons</th>\n",
       "      <th>Region</th>\n",
       "      <th>Subregion</th>\n",
       "      <th>Population 2017</th>\n",
       "      <th>Estimate of firearms in civilian possession</th>\n",
       "      <th>Computation method</th>\n",
       "      <th>Registered firearms</th>\n",
       "      <th>Unregistered firearms</th>\n",
       "      <th>Notes</th>\n",
       "    </tr>\n",
       "  </thead>\n",
       "  <tbody>\n",
       "    <tr>\n",
       "      <th>2</th>\n",
       "      <td>United States</td>\n",
       "      <td>120.5</td>\n",
       "      <td>Americas</td>\n",
       "      <td>Northern America</td>\n",
       "      <td>326474000</td>\n",
       "      <td>393347000</td>\n",
       "      <td>1</td>\n",
       "      <td>1073743</td>\n",
       "      <td>392273257</td>\n",
       "      <td>[note 2]</td>\n",
       "    </tr>\n",
       "    <tr>\n",
       "      <th>3</th>\n",
       "      <td>Falkland Islands</td>\n",
       "      <td>62.1</td>\n",
       "      <td>Americas</td>\n",
       "      <td>South America</td>\n",
       "      <td>3000</td>\n",
       "      <td>2000</td>\n",
       "      <td>2</td>\n",
       "      <td>1705</td>\n",
       "      <td>295</td>\n",
       "      <td>NaN</td>\n",
       "    </tr>\n",
       "    <tr>\n",
       "      <th>4</th>\n",
       "      <td>Yemen</td>\n",
       "      <td>52.8</td>\n",
       "      <td>Asia</td>\n",
       "      <td>Western Asia</td>\n",
       "      <td>28120000</td>\n",
       "      <td>14859000</td>\n",
       "      <td>2</td>\n",
       "      <td>NaN</td>\n",
       "      <td>NaN</td>\n",
       "      <td>NaN</td>\n",
       "    </tr>\n",
       "    <tr>\n",
       "      <th>5</th>\n",
       "      <td>New Caledonia</td>\n",
       "      <td>42.5</td>\n",
       "      <td>Oceania</td>\n",
       "      <td>Melanesia</td>\n",
       "      <td>270000</td>\n",
       "      <td>115000</td>\n",
       "      <td>2</td>\n",
       "      <td>55000</td>\n",
       "      <td>60000</td>\n",
       "      <td>NaN</td>\n",
       "    </tr>\n",
       "    <tr>\n",
       "      <th>6</th>\n",
       "      <td>Montenegro</td>\n",
       "      <td>39.1</td>\n",
       "      <td>Europe</td>\n",
       "      <td>Southern Europe</td>\n",
       "      <td>626000</td>\n",
       "      <td>245000</td>\n",
       "      <td>3</td>\n",
       "      <td>103536</td>\n",
       "      <td>141464</td>\n",
       "      <td>NaN</td>\n",
       "    </tr>\n",
       "  </tbody>\n",
       "</table>\n",
       "</div>"
      ],
      "text/plain": [
       "0 Country (or dependent territory, subnational area, etc.)  \\\n",
       "2                                      United States         \n",
       "3                                   Falkland Islands         \n",
       "4                                              Yemen         \n",
       "5                                      New Caledonia         \n",
       "6                                         Montenegro         \n",
       "\n",
       "0 Estimate of civilian firearms per 100 persons    Region         Subregion  \\\n",
       "2                                         120.5  Americas  Northern America   \n",
       "3                                          62.1  Americas     South America   \n",
       "4                                          52.8      Asia      Western Asia   \n",
       "5                                          42.5   Oceania         Melanesia   \n",
       "6                                          39.1    Europe   Southern Europe   \n",
       "\n",
       "0 Population 2017 Estimate of firearms in civilian possession  \\\n",
       "2       326474000                                   393347000   \n",
       "3            3000                                        2000   \n",
       "4        28120000                                    14859000   \n",
       "5          270000                                      115000   \n",
       "6          626000                                      245000   \n",
       "\n",
       "0 Computation method Registered firearms Unregistered firearms     Notes  \n",
       "2                  1             1073743             392273257  [note 2]  \n",
       "3                  2                1705                   295       NaN  \n",
       "4                  2                 NaN                   NaN       NaN  \n",
       "5                  2               55000                 60000       NaN  \n",
       "6                  3              103536                141464       NaN  "
      ]
     },
     "execution_count": 4,
     "metadata": {},
     "output_type": "execute_result"
    }
   ],
   "source": [
    "df.head()"
   ]
  },
  {
   "cell_type": "markdown",
   "metadata": {},
   "source": [
    "If you notice, the `Estimate of civilian firearms per 100 persons` for United States is not a proper integer. We can correct is as below"
   ]
  },
  {
   "cell_type": "code",
   "execution_count": 5,
   "metadata": {},
   "outputs": [],
   "source": [
    "df.iloc[0,1] = 120.5"
   ]
  },
  {
   "cell_type": "code",
   "execution_count": 6,
   "metadata": {},
   "outputs": [
    {
     "data": {
      "text/plain": [
       "0\n",
       "Country (or dependent territory, subnational area, etc.)    object\n",
       "Estimate of civilian firearms per 100 persons               object\n",
       "Region                                                      object\n",
       "Subregion                                                   object\n",
       "Population 2017                                             object\n",
       "Estimate of firearms in civilian possession                 object\n",
       "Computation method                                          object\n",
       "Registered firearms                                         object\n",
       "Unregistered firearms                                       object\n",
       "Notes                                                       object\n",
       "dtype: object"
      ]
     },
     "execution_count": 6,
     "metadata": {},
     "output_type": "execute_result"
    }
   ],
   "source": [
    "df.dtypes"
   ]
  },
  {
   "cell_type": "markdown",
   "metadata": {},
   "source": [
    "However, we cannot change every incorrect data entry if the table is large. Further we need the `Guns per 100 Residents` column in numeric format. Hence let us convert it and while doing so, convert incorrect values to `NaN` which stands for Not a Number"
   ]
  },
  {
   "cell_type": "code",
   "execution_count": 7,
   "metadata": {},
   "outputs": [
    {
     "data": {
      "text/html": [
       "<div>\n",
       "<style scoped>\n",
       "    .dataframe tbody tr th:only-of-type {\n",
       "        vertical-align: middle;\n",
       "    }\n",
       "\n",
       "    .dataframe tbody tr th {\n",
       "        vertical-align: top;\n",
       "    }\n",
       "\n",
       "    .dataframe thead th {\n",
       "        text-align: right;\n",
       "    }\n",
       "</style>\n",
       "<table border=\"1\" class=\"dataframe\">\n",
       "  <thead>\n",
       "    <tr style=\"text-align: right;\">\n",
       "      <th></th>\n",
       "      <th>Country (or dependent territory, subnational area, etc.)</th>\n",
       "      <th>Estimate of civilian firearms per 100 persons</th>\n",
       "      <th>Region</th>\n",
       "      <th>Subregion</th>\n",
       "      <th>Population 2017</th>\n",
       "      <th>Estimate of firearms in civilian possession</th>\n",
       "      <th>Computation method</th>\n",
       "      <th>Registered firearms</th>\n",
       "      <th>Unregistered firearms</th>\n",
       "      <th>Notes</th>\n",
       "    </tr>\n",
       "  </thead>\n",
       "  <tbody>\n",
       "    <tr>\n",
       "      <th>2</th>\n",
       "      <td>United States</td>\n",
       "      <td>120.5</td>\n",
       "      <td>Americas</td>\n",
       "      <td>Northern America</td>\n",
       "      <td>326474000</td>\n",
       "      <td>393347000</td>\n",
       "      <td>1</td>\n",
       "      <td>1073743</td>\n",
       "      <td>392273257</td>\n",
       "      <td>[note 2]</td>\n",
       "    </tr>\n",
       "    <tr>\n",
       "      <th>3</th>\n",
       "      <td>Falkland Islands</td>\n",
       "      <td>62.1</td>\n",
       "      <td>Americas</td>\n",
       "      <td>South America</td>\n",
       "      <td>3000</td>\n",
       "      <td>2000</td>\n",
       "      <td>2</td>\n",
       "      <td>1705</td>\n",
       "      <td>295</td>\n",
       "      <td>NaN</td>\n",
       "    </tr>\n",
       "    <tr>\n",
       "      <th>4</th>\n",
       "      <td>Yemen</td>\n",
       "      <td>52.8</td>\n",
       "      <td>Asia</td>\n",
       "      <td>Western Asia</td>\n",
       "      <td>28120000</td>\n",
       "      <td>14859000</td>\n",
       "      <td>2</td>\n",
       "      <td>NaN</td>\n",
       "      <td>NaN</td>\n",
       "      <td>NaN</td>\n",
       "    </tr>\n",
       "    <tr>\n",
       "      <th>5</th>\n",
       "      <td>New Caledonia</td>\n",
       "      <td>42.5</td>\n",
       "      <td>Oceania</td>\n",
       "      <td>Melanesia</td>\n",
       "      <td>270000</td>\n",
       "      <td>115000</td>\n",
       "      <td>2</td>\n",
       "      <td>55000</td>\n",
       "      <td>60000</td>\n",
       "      <td>NaN</td>\n",
       "    </tr>\n",
       "    <tr>\n",
       "      <th>6</th>\n",
       "      <td>Montenegro</td>\n",
       "      <td>39.1</td>\n",
       "      <td>Europe</td>\n",
       "      <td>Southern Europe</td>\n",
       "      <td>626000</td>\n",
       "      <td>245000</td>\n",
       "      <td>3</td>\n",
       "      <td>103536</td>\n",
       "      <td>141464</td>\n",
       "      <td>NaN</td>\n",
       "    </tr>\n",
       "  </tbody>\n",
       "</table>\n",
       "</div>"
      ],
      "text/plain": [
       "0 Country (or dependent territory, subnational area, etc.)  \\\n",
       "2                                      United States         \n",
       "3                                   Falkland Islands         \n",
       "4                                              Yemen         \n",
       "5                                      New Caledonia         \n",
       "6                                         Montenegro         \n",
       "\n",
       "0  Estimate of civilian firearms per 100 persons    Region         Subregion  \\\n",
       "2                                          120.5  Americas  Northern America   \n",
       "3                                           62.1  Americas     South America   \n",
       "4                                           52.8      Asia      Western Asia   \n",
       "5                                           42.5   Oceania         Melanesia   \n",
       "6                                           39.1    Europe   Southern Europe   \n",
       "\n",
       "0 Population 2017 Estimate of firearms in civilian possession  \\\n",
       "2       326474000                                   393347000   \n",
       "3            3000                                        2000   \n",
       "4        28120000                                    14859000   \n",
       "5          270000                                      115000   \n",
       "6          626000                                      245000   \n",
       "\n",
       "0 Computation method Registered firearms Unregistered firearms     Notes  \n",
       "2                  1             1073743             392273257  [note 2]  \n",
       "3                  2                1705                   295       NaN  \n",
       "4                  2                 NaN                   NaN       NaN  \n",
       "5                  2               55000                 60000       NaN  \n",
       "6                  3              103536                141464       NaN  "
      ]
     },
     "execution_count": 7,
     "metadata": {},
     "output_type": "execute_result"
    }
   ],
   "source": [
    "converted_column = pd.to_numeric(df[\"Estimate of civilian firearms per 100 persons\"], errors = 'coerce')\n",
    "df['Estimate of civilian firearms per 100 persons'] = converted_column\n",
    "df.head()"
   ]
  },
  {
   "cell_type": "markdown",
   "metadata": {},
   "source": [
    "## Plot as a map\n",
    "Let us connect to our GIS to geocode this data and present it as a map"
   ]
  },
  {
   "cell_type": "code",
   "execution_count": 8,
   "metadata": {},
   "outputs": [],
   "source": [
    "from arcgis.gis import GIS\n",
    "import json\n",
    "\n",
    "gis = GIS(\"https://www.arcgis.com\", \"arcgis_python\", \"P@ssword123\")"
   ]
  },
  {
   "cell_type": "code",
   "execution_count": 9,
   "metadata": {},
   "outputs": [],
   "source": [
    "fc = gis.content.import_data(df, {\"CountryCode\":\"Country__or_dependent_territory__subnational_area__etc__\"})"
   ]
  },
  {
   "cell_type": "code",
   "execution_count": 10,
   "metadata": {},
   "outputs": [],
   "source": [
    "map1 = gis.map('UK')"
   ]
  },
  {
   "cell_type": "code",
   "execution_count": 11,
   "metadata": {},
   "outputs": [
    {
     "data": {
      "application/vnd.jupyter.widget-view+json": {
       "model_id": "7ab9faf50d3f4a42a5c5b4dd0c5ad5e7",
       "version_major": 2,
       "version_minor": 0
      },
      "text/plain": [
       "MapView(layout=Layout(height='400px', width='100%'))"
      ]
     },
     "metadata": {},
     "output_type": "display_data"
    },
    {
     "data": {
      "text/html": [
       "<div class=\"map-static-img-preview-e9188c3c-0e36-417c-bb31-f9dd8b95293d\"><img src=\"\"></img></div>"
      ],
      "text/plain": [
       "<IPython.core.display.HTML object>"
      ]
     },
     "metadata": {},
     "output_type": "display_data"
    }
   ],
   "source": [
    "map1"
   ]
  },
  {
   "cell_type": "markdown",
   "metadata": {},
   "source": [
    "Let us us smart mapping to render the points with varying sizes representing the number of guns per 100 residents"
   ]
  },
  {
   "cell_type": "code",
   "execution_count": 12,
   "metadata": {},
   "outputs": [],
   "source": [
    "map1.add_layer(fc, {\"renderer\":\"ClassedSizeRenderer\",\n",
    "               \"field_name\": \"Estimate_of_civilian_firearms_per_100_persons\"})"
   ]
  },
  {
   "cell_type": "markdown",
   "metadata": {},
   "source": [
    "Let us publish this layer as a **feature collection** item in our GIS"
   ]
  },
  {
   "cell_type": "code",
   "execution_count": 13,
   "metadata": {},
   "outputs": [],
   "source": [
    "item_properties = {\n",
    "    \"title\": \"Worldwide Firearms ownership\",\n",
    "    \"tags\" : \"guns,violence\",\n",
    "    \"snippet\": \" GSR Worldwide firearms ownership\",\n",
    "    \"description\": \"test description\",\n",
    "    \"text\": json.dumps({\"featureCollection\": {\"layers\": [dict(fc.layer)]}}),\n",
    "    \"type\": \"Feature Collection\",\n",
    "    \"typeKeywords\": \"Data, Feature Collection, Singlelayer\",\n",
    "    \"extent\" : \"-102.5272,-41.7886,172.5967,64.984\"\n",
    "}\n",
    "\n",
    "item = gis.content.add(item_properties)"
   ]
  },
  {
   "cell_type": "markdown",
   "metadata": {},
   "source": [
    "Let us search for this item"
   ]
  },
  {
   "cell_type": "code",
   "execution_count": 14,
   "metadata": {},
   "outputs": [
    {
     "data": {
      "text/html": [
       "<div class=\"item_container\" style=\"height: auto; overflow: hidden; border: 1px solid #cfcfcf; border-radius: 2px; background: #f6fafa; line-height: 1.21429em; padding: 10px;\">\n",
       "                    <div class=\"item_left\" style=\"width: 210px; float: left;\">\n",
       "                       <a href='https://geosaurus.maps.arcgis.com/home/item.html?id=dbe2955cd25a46a9b3d5f2d016c142f0' target='_blank'>\n",
       "                        <img src='http://static.arcgis.com/images/desktopapp.png' class=\"itemThumbnail\">\n",
       "                       </a>\n",
       "                    </div>\n",
       "\n",
       "                    <div class=\"item_right\"     style=\"float: none; width: auto; overflow: hidden;\">\n",
       "                        <a href='https://geosaurus.maps.arcgis.com/home/item.html?id=dbe2955cd25a46a9b3d5f2d016c142f0' target='_blank'><b>Worldwide Firearms ownership</b>\n",
       "                        </a>\n",
       "                        <br/> GSR Worldwide firearms ownership<img src='https://geosaurus.maps.arcgis.com/home/js/jsapi/esri/css/images/item_type_icons/features16.png' style=\"vertical-align:middle;\">Feature Collection by arcgis_python\n",
       "                        <br/>Last Modified: February 19, 2019\n",
       "                        <br/>0 comments, 0 views\n",
       "                    </div>\n",
       "                </div>\n",
       "                "
      ],
      "text/plain": [
       "<Item title:\"Worldwide Firearms ownership\" type:Feature Collection owner:arcgis_python>"
      ]
     },
     "execution_count": 14,
     "metadata": {},
     "output_type": "execute_result"
    }
   ],
   "source": [
    "search_result = gis.content.search(\"Worldwide Firearms ownership\")\n",
    "search_result[0]"
   ]
  }
 ],
 "metadata": {
  "anaconda-cloud": {},
  "kernelspec": {
   "display_name": "Python 3",
   "language": "python",
   "name": "python3"
  },
  "language_info": {
   "codemirror_mode": {
    "name": "ipython",
    "version": 3
   },
   "file_extension": ".py",
   "mimetype": "text/x-python",
   "name": "python",
   "nbconvert_exporter": "python",
   "pygments_lexer": "ipython3",
   "version": "3.6.8"
  }
 },
 "nbformat": 4,
 "nbformat_minor": 1
}
