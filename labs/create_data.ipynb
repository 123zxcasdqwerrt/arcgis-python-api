{
 "cells": [
  {
   "cell_type": "code",
   "execution_count": null,
   "metadata": {
    "collapsed": false
   },
   "outputs": [],
   "source": [
    "import getpass\n",
    "from arcgis.gis import GIS\n",
    "from arcgis import geocoding\n",
    "\n",
    "password = getpass.getpass(\"Please enter password: \")\n",
    "gis = GIS('https://browns.maps.arcgis.com', 'johnnyDev', password)\n",
    "print(\"Successfully logged in to {} as {}\".format(gis.properties.urlKey + '.' + gis.properties.customBaseUrl,\n",
    "                                                 gis.users.me.username))"
   ]
  },
  {
   "cell_type": "code",
   "execution_count": null,
   "metadata": {
    "collapsed": false
   },
   "outputs": [],
   "source": [
    "map1 = gis.map('Los Angeles', 10)\n",
    "map1"
   ]
  },
  {
   "cell_type": "code",
   "execution_count": null,
   "metadata": {
    "collapsed": false
   },
   "outputs": [],
   "source": [
    "# retrieve feature layer to add attributes to\n",
    "# search for feature layers\n",
    "flyr_search_results = gis.content.search(query=\"\"\"title: \"Griffith*\" AND \n",
    "                                         type: \"Feature Service\" \"\"\", \n",
    "                                         max_items=10)\n",
    "flyr_search_results"
   ]
  },
  {
   "cell_type": "code",
   "execution_count": null,
   "metadata": {
    "collapsed": false
   },
   "outputs": [],
   "source": [
    "# retrieve the fl collection item, then the list of \n",
    "# layers from the layers property, and the layer you want\n",
    "flyr_collection_item = flyr_search_results[0]\n",
    "flayers = flyr_collection_item.layers\n",
    "flayer = flayers[0]\n",
    "flayer.properties.name"
   ]
  },
  {
   "cell_type": "code",
   "execution_count": null,
   "metadata": {
    "collapsed": true
   },
   "outputs": [],
   "source": [
    "#from arcgis import geocoding\n",
    "from arcgis import geometry\n",
    "from arcgis import features\n",
    "\n",
    "def create_feature(map1, g):\n",
    "    try:\n",
    "        oid = 1\n",
    "        #geocoded = geocoding.reverse_geocode(g)\n",
    "        #print(geocoded['address']['Match_addr'])\n",
    "        pt = geometry.Point(g)\n",
    "        feat = features.Feature(geometry=pt, attributes={'OBJECTID': oid})\n",
    "        flayer.edit_features(adds=[feat])\n",
    "        print(str(g))\n",
    "        map1.draw(g)\n",
    "        oid += 1\n",
    "    except:\n",
    "        print(\"Couldn't match address. Try another place...\")"
   ]
  },
  {
   "cell_type": "code",
   "execution_count": null,
   "metadata": {
    "collapsed": true
   },
   "outputs": [],
   "source": [
    "map1.on_click(create_feature)"
   ]
  },
  {
   "cell_type": "code",
   "execution_count": null,
   "metadata": {
    "collapsed": true
   },
   "outputs": [],
   "source": [
    "map1.clear_graphics()"
   ]
  },
  {
   "cell_type": "code",
   "execution_count": null,
   "metadata": {
    "collapsed": true
   },
   "outputs": [],
   "source": [
    "map1.add_layer(flayer)"
   ]
  }
 ],
 "metadata": {
  "anaconda-cloud": {},
  "kernelspec": {
   "display_name": "Python 3",
   "language": "python",
   "name": "python3"
  },
  "language_info": {
   "codemirror_mode": {
    "name": "ipython",
    "version": 3
   },
   "file_extension": ".py",
   "mimetype": "text/x-python",
   "name": "python",
   "nbconvert_exporter": "python",
   "pygments_lexer": "ipython3",
   "version": "3.5.2"
  }
 },
 "nbformat": 4,
 "nbformat_minor": 2
}
