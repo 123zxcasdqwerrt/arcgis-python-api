{
 "cells": [
  {
   "cell_type": "code",
   "execution_count": 1,
   "metadata": {
    "collapsed": true
   },
   "outputs": [],
   "source": [
    "from arcgis.gis import *\n",
    "import arcgis.svc"
   ]
  },
  {
   "cell_type": "code",
   "execution_count": 2,
   "metadata": {
    "collapsed": false
   },
   "outputs": [],
   "source": [
    "gis = GIS(\"http://geonuma.maps.arcgis.com/\", \"geonuma\", rot13(\"rzre12yq\"))"
   ]
  },
  {
   "cell_type": "code",
   "execution_count": 3,
   "metadata": {
    "collapsed": false
   },
   "outputs": [],
   "source": [
    "fss = gis.content.search(\"Find Locations in TrolleyStations\", \"Feature Service\", max_items=1)"
   ]
  },
  {
   "cell_type": "code",
   "execution_count": 4,
   "metadata": {
    "collapsed": false
   },
   "outputs": [
    {
     "data": {
      "text/html": [
       "<div class=\"item_container\">\n",
       "                    <div class=\"item_left\">\n",
       "                       <a href='http://geonuma.maps.arcgis.com//home/item.html?id=a0398dbce6ff4fe38124f4e91f4aca73' target='_blank'>\n",
       "                        <img src='data:image/png;base64,iVBORw0KGgoAAAANSUhEUgAAAMgAAACFCAIAAACR/CB7AAAACXBIWXMAAA7EAAAOxAGVKw4bAAACZElEQVR4nO3csU0jQRiAUXO6JsgpgIxuKIJCKIJuyCiAnDK4AMnivAcEt9/saPe90NGP5vOMvR5x9f7+foK1/dp6APZJWCSERUJYJIRFQlgkhEVCWCSERUJYJIRFQlgkhEVCWCSERUJYJIRFQlgkhEVCWCSERUJYJIRFQlgkhEVCWCR+bz3Ayu7uHy9eeX562GSSswlHGuBqT/+74e7+8frm9uLFt9eXDRdywpHG2M9R+M8lPJ1O1ze3yz1jjAlHGmYnO9ZXS3g2fpOYcKQxPt4ze/iM9eMSjjfhSGOc//D9HIXfm/D0mXCk//T57XSUsKhdbNLCYgXLo19YJI4S1oRfwSYcaUV7COv56eHt9WXrKf4y4UiD7SGs008LucneMOFII+0krNPXC7nhEk440jA7efJ+NuEvvhOOVLj4Yri3sNiQB6QkPh/9dixW9nH0rxzWQT5P8KM1wzrspTaWVvuMdeRLbSytE9b314+0dUArhHXYS218Y9DjBpvW0XiORUJYJIRFYlBYnmYdzQphudTG0jo71sEvtbG02lF45EttLPkRmoRrMyQ8biAhLBLCIiEsEsIiISwSwiIhLBLCIiEsEsIiISwSwiIhLBLCIiEsEsIiISwSwiIhLBLCIiEsEsIiISwSwiIhLBLCIiEsEsIiISwSwiIhLBLCIiEsEsIiISwSwiIhLBLCIiEsEsIiISwSwiIhLBLCIiEsEsIiISwSwiIhLBLCIiEsEsIiISwSwiIhLBLCIiEsEsIiISwSwiIhLBLCIiEsEsIiISwSwiIhLBLCIiEsEsIiISwSwiIhLBJ/AD87xL0OBCorAAAAAElFTkSuQmCC' width='200' height='133' class=\"itemThumbnail\">\n",
       "                       </a>\n",
       "                    </div>\n",
       "        \n",
       "                    <div class=\"item_right\">\n",
       "                        <a href='http://geonuma.maps.arcgis.com//home/item.html?id=a0398dbce6ff4fe38124f4e91f4aca73' target='_blank'><b>Find Locations in TrolleyStations</b>\n",
       "                        </a>\n",
       "                        <br>Analysis Feature Service generated from Find Existing Locations<img src='http://www.arcgis.com/home/js/jsapi/esri/css/images/item_type_icons/featureshosted16.png' style=\"vertical-align:middle;\">Feature Service by geonuma\n",
       "                        <br>Last Modified: September 12, 2015\n",
       "                        <br>0 comments, 10 views\n",
       "                    </div>\n",
       "                </div>\n",
       "                "
      ],
      "text/plain": [
       "{'access': 'private',\n",
       " 'accessInformation': None,\n",
       " 'appCategories': [],\n",
       " 'avgRating': 0,\n",
       " 'banner': None,\n",
       " 'commentsEnabled': True,\n",
       " 'created': 1442046483000,\n",
       " 'culture': 'en-us',\n",
       " 'description': \"Feature Service generated from running the Find Existing Locations solutions for  TrolleyStations.<div><i><u>Expression</u>  TrolleyStations where CITY is 'San Diego' </i></div>\",\n",
       " 'documentation': None,\n",
       " 'extent': [[-117.15816976040333, 32.770285129279145],\n",
       "  [-117.05678320249174, 32.78095224293446]],\n",
       " 'guid': None,\n",
       " 'id': 'a0398dbce6ff4fe38124f4e91f4aca73',\n",
       " 'industries': [],\n",
       " 'itemControl': 'admin',\n",
       " 'languages': [],\n",
       " 'largeThumbnail': None,\n",
       " 'licenseInfo': None,\n",
       " 'listed': False,\n",
       " 'modified': 1442046514000,\n",
       " 'name': 'Find Locations in TrolleyStations',\n",
       " 'numComments': 0,\n",
       " 'numRatings': 0,\n",
       " 'numViews': 10,\n",
       " 'owner': 'geonuma',\n",
       " 'ownerFolder': None,\n",
       " 'properties': {'jobId': 'jfa29714b80b34758b4e78a98104fa5c0',\n",
       "  'jobStatus': 'completed',\n",
       "  'jobType': 'GPServer',\n",
       "  'jobUrl': 'http://analysis5.arcgis.com/arcgis/rest/services/tasks/GPServer/FindExistingLocations/jobs/jfa29714b80b34758b4e78a98104fa5c0'},\n",
       " 'protected': False,\n",
       " 'screenshots': [],\n",
       " 'size': 57344,\n",
       " 'snippet': 'Analysis Feature Service generated from Find Existing Locations',\n",
       " 'spatialReference': None,\n",
       " 'tags': ['Analysis Result', 'Find Existing Locations', 'TrolleyStations'],\n",
       " 'thumbnail': 'thumbnail/ago_downloaded.png',\n",
       " 'title': 'Find Locations in TrolleyStations',\n",
       " 'type': 'Feature Service',\n",
       " 'typeKeywords': ['ArcGIS Server',\n",
       "  'Data',\n",
       "  'Feature Access',\n",
       "  'Feature Service',\n",
       "  'Service',\n",
       "  'Singlelayer',\n",
       "  'Hosted Service'],\n",
       " 'url': 'http://services5.arcgis.com/Es83aWbO0yPr35zG/arcgis/rest/services/Find Locations in TrolleyStations/FeatureServer'}"
      ]
     },
     "metadata": {},
     "output_type": "display_data"
    }
   ],
   "source": [
    "for fs in fss:\n",
    "    display(fs)"
   ]
  },
  {
   "cell_type": "code",
   "execution_count": 5,
   "metadata": {
    "collapsed": false
   },
   "outputs": [
    {
     "name": "stdout",
     "output_type": "stream",
     "text": [
      "URL of Feature Service: http://services5.arcgis.com/Es83aWbO0yPr35zG/arcgis/rest/services/Find Locations in TrolleyStations/FeatureServer\n"
     ]
    }
   ],
   "source": [
    "trolleystations = FeatureService(fss[0])"
   ]
  },
  {
   "cell_type": "code",
   "execution_count": 6,
   "metadata": {
    "collapsed": false
   },
   "outputs": [
    {
     "name": "stdout",
     "output_type": "stream",
     "text": [
      "[{'type': 'Feature Layer', 'url': 'http://services5.arcgis.com/Es83aWbO0yPr35zG/arcgis/rest/services/Find%20Locations%20in%20TrolleyStations/FeatureServer/0'}]\n"
     ]
    }
   ],
   "source": [
    "print(trolleystations.layers)"
   ]
  },
  {
   "cell_type": "code",
   "execution_count": 7,
   "metadata": {
    "collapsed": true
   },
   "outputs": [],
   "source": [
    "map = MapView()"
   ]
  },
  {
   "cell_type": "code",
   "execution_count": 8,
   "metadata": {
    "collapsed": true
   },
   "outputs": [],
   "source": [
    "map"
   ]
  },
  {
   "cell_type": "code",
   "execution_count": 9,
   "metadata": {
    "collapsed": false
   },
   "outputs": [],
   "source": [
    "map.add_layer(trolleystations)"
   ]
  },
  {
   "cell_type": "code",
   "execution_count": 11,
   "metadata": {
    "collapsed": false
   },
   "outputs": [
    {
     "name": "stdout",
     "output_type": "stream",
     "text": [
      "Submitting analysis job...\n",
      "{'jobStatus': 'esriJobSubmitted', 'messages': [], 'results': {}, 'inputs': {}, 'jobId': 'jd2bb6c4cae85483599c5cebe4e77847a'}\n",
      "{'jobStatus': 'esriJobExecuting', 'messages': [], 'results': {}, 'inputs': {}, 'jobId': 'jd2bb6c4cae85483599c5cebe4e77847a'}\n",
      "{'jobStatus': 'esriJobExecuting', 'messages': [], 'results': {}, 'inputs': {}, 'jobId': 'jd2bb6c4cae85483599c5cebe4e77847a'}\n",
      "{'jobStatus': 'esriJobExecuting', 'messages': [], 'results': {}, 'inputs': {}, 'jobId': 'jd2bb6c4cae85483599c5cebe4e77847a'}\n",
      "{'jobStatus': 'esriJobSucceeded', 'messages': [], 'results': {'bufferLayer': {'paramUrl': 'results/bufferLayer'}}, 'inputs': {}, 'jobId': 'jd2bb6c4cae85483599c5cebe4e77847a'}\n",
      "{'bufferLayer': {'url': 'http://services5.arcgis.com/Es83aWbO0yPr35zG/arcgis/rest/services/buffer_layer2/FeatureServer/0', 'itemId': '5ee8f995f10e43e487f0b35519a464e9'}}\n"
     ]
    }
   ],
   "source": [
    "buffer_layer = gis.analysis.create_buffers(trolleystations, [1,2,3], units=\"Miles\", dissolve_type=\"Dissolve\", output_service=\"buffer_layer2\")\n"
   ]
  },
  {
   "cell_type": "code",
   "execution_count": 12,
   "metadata": {
    "collapsed": false
   },
   "outputs": [
    {
     "name": "stdout",
     "output_type": "stream",
     "text": [
      "URL of Feature Service: http://services5.arcgis.com/Es83aWbO0yPr35zG/arcgis/rest/services/buffer_layer2/FeatureServer\n"
     ]
    }
   ],
   "source": [
    "map.add_layer(buffer_layer)"
   ]
  },
  {
   "cell_type": "code",
   "execution_count": null,
   "metadata": {
    "collapsed": true
   },
   "outputs": [],
   "source": []
  }
 ],
 "metadata": {
  "kernelspec": {
   "display_name": "Python 3",
   "language": "python",
   "name": "python3"
  },
  "language_info": {
   "codemirror_mode": {
    "name": "ipython",
    "version": 3
   },
   "file_extension": ".py",
   "mimetype": "text/x-python",
   "name": "python",
   "nbconvert_exporter": "python",
   "pygments_lexer": "ipython3",
   "version": "3.4.3"
  }
 },
 "nbformat": 4,
 "nbformat_minor": 0
}
