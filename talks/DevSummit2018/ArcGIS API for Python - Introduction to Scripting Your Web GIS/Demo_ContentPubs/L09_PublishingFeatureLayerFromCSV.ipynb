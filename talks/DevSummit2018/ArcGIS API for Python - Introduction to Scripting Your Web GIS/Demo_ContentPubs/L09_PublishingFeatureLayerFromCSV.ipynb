{
 "cells": [
  {
   "cell_type": "code",
   "execution_count": 1,
   "metadata": {},
   "outputs": [
    {
     "name": "stdout",
     "output_type": "stream",
     "text": [
      "Enter password: ········\n",
      "Connected to browns.maps.arcgis.com\n"
     ]
    }
   ],
   "source": [
    "from arcgis.gis import GIS\n",
    "import getpass\n",
    "\n",
    "password = getpass.getpass(\"Enter password: \")\n",
    "gis = GIS(\"https://www.arcgis.com\", \"johnnyDev\", password)\n",
    "print(\"Connected to {}\".format(gis.properties.urlKey + \".\" + gis.properties.customBaseUrl))"
   ]
  },
  {
   "cell_type": "code",
   "execution_count": 2,
   "metadata": {},
   "outputs": [],
   "source": [
    "csv_path = r\"/Users/john3092/Projects/DevSummits/PreCon2017/ArcGIS API for Python pre-con 5/datasets/NYC_Emergency_Response_Incidents_PointsXY.csv\"\n",
    "csv_properties={'title':'Emergency Response Incidents NYC ',\n",
    "                'description':'Emergency Response Incidents in Manhattan',\n",
    "                'tags':'nyc, Emergency Response'}\n",
    "thumbnail_path = r\"/Users/john3092/Projects/DevSummits/PS_2018/imgs/emer_response.jpg\"\n",
    "\n",
    "Emergency_Response_Incidents_csv_item = gis.content.add(item_properties=csv_properties, data=csv_path,\n",
    "                                     thumbnail = thumbnail_path)"
   ]
  },
  {
   "cell_type": "code",
   "execution_count": 3,
   "metadata": {},
   "outputs": [
    {
     "data": {
      "text/html": [
       "<div class=\"item_container\" style=\"height: auto; overflow: hidden; border: 1px solid #cfcfcf; border-radius: 2px; background: #f6fafa; line-height: 1.21429em; padding: 10px;\">\n",
       "                    <div class=\"item_left\" style=\"width: 210px; float: left;\">\n",
       "                       <a href='https://browns.maps.arcgis.com/home/item.html?id=c18af31912f04859997265703e4ef858' target='_blank'>\n",
       "                        <img src='data:image/png;base64,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' width='200' height='133' class=\"itemThumbnail\">\n",
       "                       </a>\n",
       "                    </div>\n",
       "\n",
       "                    <div class=\"item_right\"     style=\"float: none; width: auto; overflow: hidden;\">\n",
       "                        <a href='https://browns.maps.arcgis.com/home/item.html?id=c18af31912f04859997265703e4ef858' target='_blank'><b>Emergency Response Incidents NYC </b>\n",
       "                        </a>\n",
       "                        <br/><img src='https://browns.maps.arcgis.com/home/js/jsapi/esri/css/images/item_type_icons/layers16.png' style=\"vertical-align:middle;\">CSV by johnnyDev\n",
       "                        <br/>Last Modified: March 08, 2018\n",
       "                        <br/>0 comments, 0 views\n",
       "                    </div>\n",
       "                </div>\n",
       "                "
      ],
      "text/plain": [
       "<Item title:\"Emergency Response Incidents NYC \" type:CSV owner:johnnyDev>"
      ]
     },
     "execution_count": 3,
     "metadata": {},
     "output_type": "execute_result"
    }
   ],
   "source": [
    "Emergency_Response_Incidents_csv_item"
   ]
  },
  {
   "cell_type": "code",
   "execution_count": 4,
   "metadata": {},
   "outputs": [],
   "source": [
    "Emergency_Response_Incidents_feature_layer_item = Emergency_Response_Incidents_csv_item.publish()"
   ]
  },
  {
   "cell_type": "code",
   "execution_count": 5,
   "metadata": {},
   "outputs": [
    {
     "data": {
      "text/html": [
       "<div class=\"item_container\" style=\"height: auto; overflow: hidden; border: 1px solid #cfcfcf; border-radius: 2px; background: #f6fafa; line-height: 1.21429em; padding: 10px;\">\n",
       "                    <div class=\"item_left\" style=\"width: 210px; float: left;\">\n",
       "                       <a href='https://browns.maps.arcgis.com/home/item.html?id=cd435cf2dec24cc6bc35cd4b19a78b06' target='_blank'>\n",
       "                        <img src='data:image/png;base64,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' width='200' height='133' class=\"itemThumbnail\">\n",
       "                       </a>\n",
       "                    </div>\n",
       "\n",
       "                    <div class=\"item_right\"     style=\"float: none; width: auto; overflow: hidden;\">\n",
       "                        <a href='https://browns.maps.arcgis.com/home/item.html?id=cd435cf2dec24cc6bc35cd4b19a78b06' target='_blank'><b>Emergency Response Incidents NYC </b>\n",
       "                        </a>\n",
       "                        <br/><img src='https://browns.maps.arcgis.com/home/js/jsapi/esri/css/images/item_type_icons/featureshosted16.png' style=\"vertical-align:middle;\">Feature Layer Collection by johnnyDev\n",
       "                        <br/>Last Modified: March 08, 2018\n",
       "                        <br/>0 comments, 0 views\n",
       "                    </div>\n",
       "                </div>\n",
       "                "
      ],
      "text/plain": [
       "<Item title:\"Emergency Response Incidents NYC \" type:Feature Layer Collection owner:johnnyDev>"
      ]
     },
     "execution_count": 5,
     "metadata": {},
     "output_type": "execute_result"
    }
   ],
   "source": [
    "Emergency_Response_Incidents_feature_layer_item"
   ]
  },
  {
   "cell_type": "code",
   "execution_count": 6,
   "metadata": {},
   "outputs": [
    {
     "data": {
      "text/plain": [
       "[<Item title:\"Emergency Response Incidents NYC \" type:Feature Layer Collection owner:johnnyDev>]"
      ]
     },
     "execution_count": 6,
     "metadata": {},
     "output_type": "execute_result"
    }
   ],
   "source": [
    "search_result = gis.content.search('title:Emergency Response Incidents NYC',\n",
    "                                  item_type = 'Feature Layer')\n",
    "search_result"
   ]
  },
  {
   "cell_type": "code",
   "execution_count": 7,
   "metadata": {},
   "outputs": [
    {
     "data": {
      "application/vnd.jupyter.widget-view+json": {
       "model_id": "051a2315e7dc49deb5216fdfbc6a9d85"
      }
     },
     "metadata": {},
     "output_type": "display_data"
    }
   ],
   "source": [
    "map1 = gis.map('New York')\n",
    "Response_Incidents_item = search_result[0]\n",
    "map1.add_layer(Response_Incidents_item)\n",
    "map1"
   ]
  },
  {
   "cell_type": "code",
   "execution_count": null,
   "metadata": {},
   "outputs": [],
   "source": []
  }
 ],
 "metadata": {
  "kernelspec": {
   "display_name": "Python 3",
   "language": "python",
   "name": "python3"
  },
  "language_info": {
   "codemirror_mode": {
    "name": "ipython",
    "version": 3
   },
   "file_extension": ".py",
   "mimetype": "text/x-python",
   "name": "python",
   "nbconvert_exporter": "python",
   "pygments_lexer": "ipython3",
   "version": "3.6.4"
  }
 },
 "nbformat": 4,
 "nbformat_minor": 2
}
