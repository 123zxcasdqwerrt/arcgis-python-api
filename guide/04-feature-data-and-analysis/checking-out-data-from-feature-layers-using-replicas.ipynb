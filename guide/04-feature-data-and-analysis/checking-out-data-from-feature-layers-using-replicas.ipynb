{
 "cells": [
  {
   "cell_type": "markdown",
   "metadata": {},
   "source": [
    "# Sync overview\n",
    "\n",
    "Feature layers includes a `Sync` capability, which when enabled, allows client applications to take feature layers offline, perform edits and sync it back to the layer. When you checkout some features and store it offline in the client, you call that a `replica`. The `FeatureLayerCollection` class under the `features` module allows users to create and work with replicas. The workflow of using sync involves these three operations:\n",
    "- Create replica\n",
    "- Synchronize replica\n",
    "- Unregister replica\n",
    "\n",
    "To learn more about this feature, refer to the [documentation here](http://resources.arcgis.com/en/help/arcgis-rest-api/index.html#//02r300000112000000)"
   ]
  },
  {
   "cell_type": "markdown",
   "metadata": {},
   "source": [
    "## Checking out data from feature layers using replicas\n",
    "To create a replica, we need a feature layer that is sync enabled. We can use the `syncEnabled` property of a `FeatureLayer` object to verify that. Further the `syncCapabilities` property returns a dictionary with fine grained sync capabilities"
   ]
  },
  {
   "cell_type": "code",
   "execution_count": 1,
   "metadata": {},
   "outputs": [],
   "source": [
    "# connect to a GIS\n",
    "from arcgis.gis import GIS\n",
    "import arcgis.features\n",
    "gis = GIS() # connect to www.arcgis.com anonymously. \n",
    "            # we will use a public sync enabled feature layer"
   ]
  },
  {
   "cell_type": "markdown",
   "metadata": {},
   "source": [
    "To create and work with replicas, we need to create a `FeatureLayerCollection` object. A `FeatureLayerCollection` object can be created from either a feature layer `Item` or directly using a feature service URL.\n",
    "\n",
    "Here, we will connect to a sample service by esri with URL `https://sampleserver6.arcgisonline.com/arcgis/rest/services/Sync/WildfireSync/FeatureServer/` "
   ]
  },
  {
   "cell_type": "code",
   "execution_count": 2,
   "metadata": {},
   "outputs": [],
   "source": [
    "url = 'https://sampleserver6.arcgisonline.com/arcgis/rest/services/Sync/WildfireSync/FeatureServer/'\n",
    "wildfire_flc = arcgis.features.FeatureLayerCollection(url, gis)"
   ]
  },
  {
   "cell_type": "code",
   "execution_count": 3,
   "metadata": {},
   "outputs": [
    {
     "data": {
      "text/plain": [
       "arcgis.features.layer.FeatureLayerCollection"
      ]
     },
     "execution_count": 3,
     "metadata": {},
     "output_type": "execute_result"
    }
   ],
   "source": [
    "type(wildfire_flc)"
   ]
  },
  {
   "cell_type": "markdown",
   "metadata": {},
   "source": [
    "### Verify if sync is enabled\n",
    "\n",
    "Accessing the `layers` property on a `FeatureLayerCollection` returns a list of `FeatureLayer` objects. We can create a replica of one of these or all of these layers"
   ]
  },
  {
   "cell_type": "code",
   "execution_count": 4,
   "metadata": {},
   "outputs": [
    {
     "data": {
      "text/plain": [
       "[<FeatureLayer url:\"https://sampleserver6.arcgisonline.com/arcgis/rest/services/Sync/WildfireSync/FeatureServer//0\">,\n",
       " <FeatureLayer url:\"https://sampleserver6.arcgisonline.com/arcgis/rest/services/Sync/WildfireSync/FeatureServer//1\">,\n",
       " <FeatureLayer url:\"https://sampleserver6.arcgisonline.com/arcgis/rest/services/Sync/WildfireSync/FeatureServer//2\">]"
      ]
     },
     "execution_count": 4,
     "metadata": {},
     "output_type": "execute_result"
    }
   ],
   "source": [
    "wildfire_flc.layers"
   ]
  },
  {
   "cell_type": "code",
   "execution_count": 5,
   "metadata": {},
   "outputs": [
    {
     "data": {
      "text/plain": [
       "True"
      ]
     },
     "execution_count": 5,
     "metadata": {},
     "output_type": "execute_result"
    }
   ],
   "source": [
    "# query syncEnabled property to verify is sync is enabled\n",
    "wildfire_flc.properties.syncEnabled"
   ]
  },
  {
   "cell_type": "code",
   "execution_count": 6,
   "metadata": {},
   "outputs": [
    {
     "data": {
      "text/plain": [
       "{\n",
       "  \"supportsRegisteringExistingData\": true,\n",
       "  \"supportsSyncDirectionControl\": true,\n",
       "  \"supportsPerLayerSync\": true,\n",
       "  \"supportsPerReplicaSync\": false,\n",
       "  \"supportsRollbackOnFailure\": false,\n",
       "  \"supportsAsync\": true,\n",
       "  \"supportsAttachmentsSyncDirection\": true,\n",
       "  \"supportsSyncModelNone\": true\n",
       "}"
      ]
     },
     "execution_count": 6,
     "metadata": {},
     "output_type": "execute_result"
    }
   ],
   "source": [
    "# query the syncCapabilities property to view fine grained capabilities\n",
    "wildfire_flc.properties.syncCapabilities"
   ]
  },
  {
   "cell_type": "markdown",
   "metadata": {},
   "source": [
    "### List existing replicas\n",
    "\n",
    "The `replicas` property on a `FeatureLayerCollection` object returns you a `SyncManager` object. You would work with this manager object for all your sync workflows.\n",
    "\n",
    "You can find if any replicas were created earlier on this layer by calling `get_list()` method on the `SyncManager` object."
   ]
  },
  {
   "cell_type": "code",
   "execution_count": 7,
   "metadata": {},
   "outputs": [
    {
     "data": {
      "text/plain": [
       "2180"
      ]
     },
     "execution_count": 7,
     "metadata": {},
     "output_type": "execute_result"
    }
   ],
   "source": [
    "replica_list = wildfire_flc.replicas.get_list()\n",
    "len(replica_list)"
   ]
  },
  {
   "cell_type": "markdown",
   "metadata": {},
   "source": [
    "As you can see, there are plenty of replicas on this layer. Let us view one of it"
   ]
  },
  {
   "cell_type": "code",
   "execution_count": 8,
   "metadata": {},
   "outputs": [
    {
     "data": {
      "text/plain": [
       "{'replicaName': 'Ags_Fs_1543141555952',\n",
       " 'replicaID': 'A2A63918-F35D-4441-8AE8-693A672F4BED'}"
      ]
     },
     "execution_count": 8,
     "metadata": {},
     "output_type": "execute_result"
    }
   ],
   "source": [
    "replica_list[0]"
   ]
  },
  {
   "cell_type": "markdown",
   "metadata": {},
   "source": [
    "### Create a replica\n",
    "Now, let us create our own replica of this feature layer. The `create()` method accepts a number of parameters allowing you to adjust what needs to be replicated and customize other options. For more information on this operation, refer to the [documentation here](http://resources.arcgis.com/en/help/arcgis-rest-api/index.html#//02r3000000rp000000).\n",
    "\n",
    "The full capability of the sync operation allows you to check out data from a feature layer, make edits and sync the deltas (changes) back to the server and update the features. This is popular in use cases which involve client applications such as ArcGIS Runtime or ArcGIS Desktop applications check out data, go offline (such as in areas where network connectivity is limited), make edits, then synchronize the data back to the server and update the features. The capability allows multiple clients to do this in parallel, thus enabling a large data collection effort.\n",
    "\n",
    "However, if your purpose of a replica is only to check out the data (one directional), then you can verify if the `extract` capability is enabled on the feature layer and create a replica that is just meant for data check out. We will see this use case below:"
   ]
  },
  {
   "cell_type": "code",
   "execution_count": 9,
   "metadata": {},
   "outputs": [
    {
     "data": {
      "text/plain": [
       "'Create,Delete,Query,Sync,Update,Uploads,Editing'"
      ]
     },
     "execution_count": 9,
     "metadata": {},
     "output_type": "execute_result"
    }
   ],
   "source": [
    "# list all capabilities\n",
    "wildfire_flc.properties.capabilities"
   ]
  },
  {
   "cell_type": "markdown",
   "metadata": {},
   "source": [
    "This layer has disabled 'Extract'. Hence let us search for a different layer"
   ]
  },
  {
   "cell_type": "code",
   "execution_count": 10,
   "metadata": {},
   "outputs": [],
   "source": [
    "portal_gis = GIS(\"portal url\", \"username\", \"password\")\n",
    "search_result = portal_gis.content.search(\"Chennai Precipitation\", \"Feature Layer\")"
   ]
  },
  {
   "cell_type": "code",
   "execution_count": null,
   "metadata": {},
   "outputs": [],
   "source": [
    "search_result[0]"
   ]
  },
  {
   "cell_type": "markdown",
   "metadata": {},
   "source": [
    "Let us create a `FeatureLayerCollection` object from this item"
   ]
  },
  {
   "cell_type": "code",
   "execution_count": 12,
   "metadata": {},
   "outputs": [
    {
     "data": {
      "text/plain": [
       "arcgis.features.layer.FeatureLayerCollection"
      ]
     },
     "execution_count": 12,
     "metadata": {},
     "output_type": "execute_result"
    }
   ],
   "source": [
    "precip_flc = arcgis.features.FeatureLayerCollection.fromitem(search_result[0])\n",
    "type(precip_flc)"
   ]
  },
  {
   "cell_type": "markdown",
   "metadata": {},
   "source": [
    "#### Verify Extract capability"
   ]
  },
  {
   "cell_type": "code",
   "execution_count": 13,
   "metadata": {},
   "outputs": [
    {
     "data": {
      "text/plain": [
       "'Create,Editing,Query,Update,Uploads,Delete,Sync,Extract'"
      ]
     },
     "execution_count": 13,
     "metadata": {},
     "output_type": "execute_result"
    }
   ],
   "source": [
    "precip_flc.properties.capabilities"
   ]
  },
  {
   "cell_type": "markdown",
   "metadata": {},
   "source": [
    "This is a suitable feature layer (since `Sync` and `Extract` are both enabled as seen in the capabilities), let us extract the data into a file geodatabase and store it in local file system"
   ]
  },
  {
   "cell_type": "code",
   "execution_count": 14,
   "metadata": {},
   "outputs": [],
   "source": [
    "precip_flc = arcgis.features.FeatureLayerCollection.fromitem(search_result[0])"
   ]
  },
  {
   "cell_type": "markdown",
   "metadata": {},
   "source": [
    "`geometry_filter1` is a spatial filter class object from arcgis.geometry.filters module to filter results by a spatial relationship with geometry (in this case, using the full extents of the AOI)"
   ]
  },
  {
   "cell_type": "code",
   "execution_count": 15,
   "metadata": {},
   "outputs": [
    {
     "data": {
      "text/plain": [
       "{'transportType': 'esriTransportTypeURL',\n",
       " 'replicaName': 'arcgis_python_api_precip',\n",
       " 'responseType': 'esriReplicaResponseTypeData',\n",
       " 'replicaID': '9780E293-DC4B-4C67-9008-13E68B1CBE56',\n",
       " 'targetType': 'server',\n",
       " 'layerServerGens': [{'id': 0, 'serverGen': 1553296111649, 'serverSibGen': 0}],\n",
       " 'resultUrl': 'https://datascienceqa.esri.com/server/rest/directories/arcgisjobs/system/synctoolsex_gpserver/j1105966f005f497ca6f821c2a7c8ea06/scratch/_ags_dataBB7806F3C64D4FE5BA3D0D02536E37BF.geodatabase',\n",
       " 'submissionTime': 1553296111000,\n",
       " 'lastUpdatedTime': 1553296113000,\n",
       " 'status': 'Completed'}"
      ]
     },
     "execution_count": 15,
     "metadata": {},
     "output_type": "execute_result"
    }
   ],
   "source": [
    "geometry_filter1 = {\n",
    "                        'geometry':'8608022.3,1006191.2,8937015.9,1498443.1',\n",
    "                        'geometryType':'esriGeometryEnvelope'\n",
    "                    }\n",
    "\n",
    "replica1 = precip_flc.replicas.create(replica_name = 'arcgis_python_api_precip',\n",
    "                                      layers='0',\n",
    "                                      geometry_filter=geometry_filter1,\n",
    "                                      sync_model=\"perLayer\",\n",
    "                                      target_type=\"server\",\n",
    "                                      data_format=\"sqlite\",\n",
    "                                      out_path=r'/arcgis/home')\n",
    "replica1"
   ]
  },
  {
   "cell_type": "markdown",
   "metadata": {},
   "source": [
    "Thus, we were able to checkout data from this feature layer into a file geodatabase. Clients can use this data in any way they wish, for instance, publish it as another feature layer to a different portal or just store it for archival."
   ]
  },
  {
   "cell_type": "markdown",
   "metadata": {},
   "source": [
    "## Removing replicas\n",
    "\n",
    "The sync operation is expensive on the resources of your web GIS. Hence, it is a good maintenance practice to remove unnecessary replicas. An ArcGIS admin could use the ArcGIS Python API to script and automate the process of scanning all feature layers and removing stale replicas on each of them.\n",
    "\n",
    "A replica can be removed by calling the `unregister()` method and passing the id of a replica that needs to be removed."
   ]
  },
  {
   "cell_type": "code",
   "execution_count": 16,
   "metadata": {},
   "outputs": [],
   "source": [
    "# Let us query all the replicas registered on the ports feature layer from before\n",
    "replica_list = precip_flc.replicas.get_list()"
   ]
  },
  {
   "cell_type": "code",
   "execution_count": 18,
   "metadata": {},
   "outputs": [
    {
     "name": "stdout",
     "output_type": "stream",
     "text": [
      "{'replicaName': 'arcgis_python_api_precip', 'replicaID': '9780E293-DC4B-4C67-9008-13E68B1CBE56'}\n"
     ]
    }
   ],
   "source": [
    "for r in replica_list:\n",
    "    print(r)"
   ]
  },
  {
   "cell_type": "markdown",
   "metadata": {},
   "source": [
    "There are more than a few. I only want to remove the replicas that were registered 10 minutes ago. But, your search criteria could be any other. \n",
    "\n",
    "We will loop through each of the replicas returned and use the `get()` method to get detailed information about these replicas and look a `creationDate` property."
   ]
  },
  {
   "cell_type": "markdown",
   "metadata": {},
   "source": [
    "Before looping, let us take a deeper look at one of these replicas by calling the `get()` method:"
   ]
  },
  {
   "cell_type": "code",
   "execution_count": 19,
   "metadata": {},
   "outputs": [
    {
     "data": {
      "text/plain": [
       "{'replicaName': 'arcgis_python_api_precip',\n",
       " 'replicaID': '9780E293-DC4B-4C67-9008-13E68B1CBE56',\n",
       " 'replicaOwner': 'portaladmin',\n",
       " 'spatialReference': {'wkid': 102100, 'latestWkid': 3857},\n",
       " 'layerServerGens': [{'id': 0, 'serverGen': 1553296111649, 'serverSibGen': 0}],\n",
       " 'creationDate': 1553296111649,\n",
       " 'lastSyncDate': 1553296111649,\n",
       " 'syncModel': 'perLayer',\n",
       " 'targetType': 'server',\n",
       " 'syncDirection': 'download',\n",
       " 'returnsAttachments': False,\n",
       " 'returnAttachments': False,\n",
       " 'attachmentsSyncDirection': 'none',\n",
       " 'spatialRel': 'esriSpatialRelIntersects',\n",
       " 'geometry': {'xmin': 8608022.3,\n",
       "  'ymin': 1006191.2,\n",
       "  'xmax': 8937015.9,\n",
       "  'ymax': 1498443.1,\n",
       "  'spatialReference': {'wkid': 102100, 'latestWkid': 3857}},\n",
       " 'layers': [{'id': 0,\n",
       "   'queryOption': 'useFilter',\n",
       "   'useGeometry': True,\n",
       "   'includeRelated': True,\n",
       "   'where': ''}]}"
      ]
     },
     "execution_count": 19,
     "metadata": {},
     "output_type": "execute_result"
    }
   ],
   "source": [
    "replica1 = precip_flc.replicas.get(replica_list[0]['replicaID'])\n",
    "replica1"
   ]
  },
  {
   "cell_type": "markdown",
   "metadata": {},
   "source": [
    "The `creationDate` key is retured as unix epoch time. We need to convert it to local time for processing:"
   ]
  },
  {
   "cell_type": "code",
   "execution_count": 20,
   "metadata": {},
   "outputs": [
    {
     "data": {
      "text/plain": [
       "time.struct_time(tm_year=2019, tm_mon=3, tm_mday=22, tm_hour=16, tm_min=8, tm_sec=31, tm_wday=4, tm_yday=81, tm_isdst=1)"
      ]
     },
     "execution_count": 20,
     "metadata": {},
     "output_type": "execute_result"
    }
   ],
   "source": [
    "import time\n",
    "time.localtime(replica1['creationDate']/1000) #dividing by 1000 to convert micro seconds to seconds"
   ]
  },
  {
   "cell_type": "markdown",
   "metadata": {},
   "source": [
    "To determine those replicas that were created 10 mins earlier, let us create an epoch timestamp for 10 mins before now and find those replicas whose time stamps are lower than this"
   ]
  },
  {
   "cell_type": "code",
   "execution_count": 21,
   "metadata": {},
   "outputs": [
    {
     "data": {
      "text/plain": [
       "1553296175.2278485"
      ]
     },
     "execution_count": 21,
     "metadata": {},
     "output_type": "execute_result"
    }
   ],
   "source": [
    "ten_min_earlier_epoch = time.time() - 10\n",
    "ten_min_earlier_epoch"
   ]
  },
  {
   "cell_type": "code",
   "execution_count": 22,
   "metadata": {},
   "outputs": [
    {
     "name": "stdout",
     "output_type": "stream",
     "text": [
      "{'replica_id': '9780E293-DC4B-4C67-9008-13E68B1CBE56', 'creationDate': 1553296111.649}\n"
     ]
    }
   ],
   "source": [
    "import time\n",
    "removal_list = []\n",
    "for r in replica_list:\n",
    "    temp_r = precip_flc.replicas.get(r['replicaID'])\n",
    "    temp_dict = {'replica_id': r['replicaID'],\n",
    "                'creationDate':temp_r['creationDate']/1000}\n",
    "    \n",
    "    #check\n",
    "    if temp_dict['creationDate'] < ten_min_earlier_epoch:\n",
    "        removal_list.append(temp_dict)\n",
    "        print(temp_dict)"
   ]
  },
  {
   "cell_type": "markdown",
   "metadata": {},
   "source": [
    "Let us loop through each of these replicas and remove them using the `unregister()` method:"
   ]
  },
  {
   "cell_type": "code",
   "execution_count": 23,
   "metadata": {},
   "outputs": [
    {
     "name": "stdout",
     "output_type": "stream",
     "text": [
      "{'success': True}\n"
     ]
    }
   ],
   "source": [
    "for r in removal_list:\n",
    "    result = precip_flc.replicas.unregister(r['replica_id'])\n",
    "    print(result)"
   ]
  }
 ],
 "metadata": {
  "anaconda-cloud": {},
  "kernelspec": {
   "display_name": "Python 3",
   "language": "python",
   "name": "python3"
  },
  "language_info": {
   "codemirror_mode": {
    "name": "ipython",
    "version": 3
   },
   "file_extension": ".py",
   "mimetype": "text/x-python",
   "name": "python",
   "nbconvert_exporter": "python",
   "pygments_lexer": "ipython3",
   "version": "3.6.8"
  }
 },
 "nbformat": 4,
 "nbformat_minor": 1
}
