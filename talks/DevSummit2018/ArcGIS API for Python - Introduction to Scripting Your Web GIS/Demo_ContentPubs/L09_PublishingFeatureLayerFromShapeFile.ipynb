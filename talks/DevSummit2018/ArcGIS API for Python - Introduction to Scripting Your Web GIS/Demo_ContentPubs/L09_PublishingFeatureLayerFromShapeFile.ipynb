{
 "cells": [
  {
   "cell_type": "code",
   "execution_count": 1,
   "metadata": {},
   "outputs": [
    {
     "name": "stdout",
     "output_type": "stream",
     "text": [
      "Enter password: ········\n",
      "Connected to browns.maps.arcgis.com\n"
     ]
    }
   ],
   "source": [
    "from arcgis.gis import GIS\n",
    "import getpass\n",
    "\n",
    "password = getpass.getpass(\"Enter password: \")\n",
    "g = GIS(\"https://www.arcgis.com\", \"johnnyDev\", password)\n",
    "print(\"Connected to {}\".format(g.properties.urlKey + \".\" + g.properties.customBaseUrl))"
   ]
  },
  {
   "cell_type": "code",
   "execution_count": 2,
   "metadata": {},
   "outputs": [],
   "source": [
    "data = r\"/Users/john3092/Projects/DevSummits/PreCon2017/ArcGIS API for Python pre-con 5/datasets/NYC_BoroughBoundaries_PolygonShapefile.zip\"\n",
    "shpfile = g.content.add({}, data)"
   ]
  },
  {
   "cell_type": "code",
   "execution_count": 3,
   "metadata": {},
   "outputs": [
    {
     "data": {
      "text/html": [
       "<div class=\"item_container\" style=\"height: auto; overflow: hidden; border: 1px solid #cfcfcf; border-radius: 2px; background: #f6fafa; line-height: 1.21429em; padding: 10px;\">\n",
       "                    <div class=\"item_left\" style=\"width: 210px; float: left;\">\n",
       "                       <a href='https://browns.maps.arcgis.com/home/item.html?id=942de968e9854416b5afa6ee836e06be' target='_blank'>\n",
       "                        <img src='http://static.arcgis.com/images/desktopapp.png' class=\"itemThumbnail\">\n",
       "                       </a>\n",
       "                    </div>\n",
       "\n",
       "                    <div class=\"item_right\"     style=\"float: none; width: auto; overflow: hidden;\">\n",
       "                        <a href='https://browns.maps.arcgis.com/home/item.html?id=942de968e9854416b5afa6ee836e06be' target='_blank'><b>NYC_BoroughBoundaries_PolygonShapefile</b>\n",
       "                        </a>\n",
       "                        <br/><img src='https://browns.maps.arcgis.com/home/js/jsapi/esri/css/images/item_type_icons/datafiles16.png' style=\"vertical-align:middle;\">Shapefile by johnnyDev\n",
       "                        <br/>Last Modified: March 08, 2018\n",
       "                        <br/>0 comments, 0 views\n",
       "                    </div>\n",
       "                </div>\n",
       "                "
      ],
      "text/plain": [
       "<Item title:\"NYC_BoroughBoundaries_PolygonShapefile\" type:Shapefile owner:johnnyDev>"
      ]
     },
     "execution_count": 3,
     "metadata": {},
     "output_type": "execute_result"
    }
   ],
   "source": [
    "shpfile"
   ]
  },
  {
   "cell_type": "markdown",
   "metadata": {},
   "source": [
    "## This just finished"
   ]
  },
  {
   "cell_type": "code",
   "execution_count": 4,
   "metadata": {},
   "outputs": [],
   "source": [
    "published_service = shpfile.publish()"
   ]
  },
  {
   "cell_type": "code",
   "execution_count": 5,
   "metadata": {},
   "outputs": [
    {
     "data": {
      "text/html": [
       "<div class=\"item_container\" style=\"height: auto; overflow: hidden; border: 1px solid #cfcfcf; border-radius: 2px; background: #f6fafa; line-height: 1.21429em; padding: 10px;\">\n",
       "                    <div class=\"item_left\" style=\"width: 210px; float: left;\">\n",
       "                       <a href='https://browns.maps.arcgis.com/home/item.html?id=44de1576344343a6bb2ce36bc0c127bd' target='_blank'>\n",
       "                        <img src='http://static.arcgis.com/images/desktopapp.png' class=\"itemThumbnail\">\n",
       "                       </a>\n",
       "                    </div>\n",
       "\n",
       "                    <div class=\"item_right\"     style=\"float: none; width: auto; overflow: hidden;\">\n",
       "                        <a href='https://browns.maps.arcgis.com/home/item.html?id=44de1576344343a6bb2ce36bc0c127bd' target='_blank'><b>NYC_BoroughBoundaries_PolygonShapefile</b>\n",
       "                        </a>\n",
       "                        <br/><img src='https://browns.maps.arcgis.com/home/js/jsapi/esri/css/images/item_type_icons/featureshosted16.png' style=\"vertical-align:middle;\">Feature Layer Collection by johnnyDev\n",
       "                        <br/>Last Modified: March 08, 2018\n",
       "                        <br/>0 comments, 0 views\n",
       "                    </div>\n",
       "                </div>\n",
       "                "
      ],
      "text/plain": [
       "<Item title:\"NYC_BoroughBoundaries_PolygonShapefile\" type:Feature Layer Collection owner:johnnyDev>"
      ]
     },
     "metadata": {},
     "output_type": "display_data"
    }
   ],
   "source": [
    "display(published_service)"
   ]
  },
  {
   "cell_type": "code",
   "execution_count": 6,
   "metadata": {},
   "outputs": [
    {
     "data": {
      "text/plain": [
       "[<Item title:\"NYC_BoroughBoundaries_PolygonShapefile\" type:Feature Layer Collection owner:johnnyDev>]"
      ]
     },
     "execution_count": 6,
     "metadata": {},
     "output_type": "execute_result"
    }
   ],
   "source": [
    "search_result = g.content.search('title: NYC_BoroughBoundaries_PolygonShapefile',\n",
    "                                  item_type = 'Feature Layer')\n",
    "search_result"
   ]
  },
  {
   "cell_type": "code",
   "execution_count": 7,
   "metadata": {},
   "outputs": [
    {
     "data": {
      "application/vnd.jupyter.widget-view+json": {
       "model_id": "ce2ace00d85646eb96ba17d47a4c7a9b"
      }
     },
     "metadata": {},
     "output_type": "display_data"
    }
   ],
   "source": [
    "map1 = g.map('New York')\n",
    "NYCBoroughs_item = search_result[0]\n",
    "map1.add_layer(NYCBoroughs_item)\n",
    "map1"
   ]
  },
  {
   "cell_type": "code",
   "execution_count": null,
   "metadata": {},
   "outputs": [],
   "source": []
  }
 ],
 "metadata": {
  "kernelspec": {
   "display_name": "Python 3",
   "language": "python",
   "name": "python3"
  },
  "language_info": {
   "codemirror_mode": {
    "name": "ipython",
    "version": 3
   },
   "file_extension": ".py",
   "mimetype": "text/x-python",
   "name": "python",
   "nbconvert_exporter": "python",
   "pygments_lexer": "ipython3",
   "version": "3.6.4"
  }
 },
 "nbformat": 4,
 "nbformat_minor": 2
}
