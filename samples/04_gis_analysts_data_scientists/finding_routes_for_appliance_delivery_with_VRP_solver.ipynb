{
 "cells": [
  {
   "cell_type": "markdown",
   "metadata": {},
   "source": [
    "# Finding routes for appliance delivery with Vehicle Routing Problem Solver\n"
   ]
  },
  {
   "cell_type": "markdown",
   "metadata": {},
   "source": [
    "The network module of the ArcGIS API for Python can be used to solve different types of network analysis operations. For example, an appliance delivery company wants to serve multiple customers in a day using several delivery drivers, a health inspection company needs to schedule inspection visits for the inspectors. The problem that is common to these examples is called vehicle routing problem (VRP). Each such problem requires to determine which orders should be serviced by which vehicle/driver and in what sequence, so the total operating cost is minimized and the routes are operational. In addition, the VRP solver can solve more specific problems because numerous options are available, such as matching vehicle capacities with order quantities, giving breaks to drivers, and pairing orders so they are serviced by the same route.\n",
    "\n",
    "In this sample, we find a solution for an appliance delivery company to find routes for two vehicles which start from the warehouse and return to the same, at the end of the working day. We will find optimized routes given a set of orders to serve and a set of vehicles with constraints. All we need to do is pass in the `depot` locations, `route` (vehicle/driver) details, the `order` locations, and specify additional properties for `orders`.  The VRP service will return `routes` with directions. Once you have the results, you can add the `routes` to a map, display the turn-by-turn directions, or integrate them further into your application. To learn more about the capabilities of the routing and directions services, please visit the [documentation](http://desktop.arcgis.com/en/arcmap/latest/extensions/network-analyst/vehicle-routing-problem.htm#)."
   ]
  },
  {
   "cell_type": "markdown",
   "metadata": {},
   "source": [
    "**Note** :If you run the tutorial using ArcGIS Online, 2 [credits](http://pro.arcgis.com/en/pro-app/tool-reference/appendices/geoprocessing-tools-that-use-credits.htm#ESRI_SECTION2_5FAF16DB9F044F78AF164A22752A9A7F) will be consumed."
   ]
  },
  {
   "cell_type": "markdown",
   "metadata": {},
   "source": [
    "As a first step, let's import required libraries and establish a connection to your organization which could be an ArcGIS Online organization or an ArcGIS Enterprise. If you dont have an ArcGIS account, [get ArcGIS Trial](https://www.esri.com/en-us/arcgis/trial)."
   ]
  },
  {
   "cell_type": "code",
   "execution_count": 1,
   "metadata": {},
   "outputs": [],
   "source": [
    "import arcgis\n",
    "from arcgis.gis import GIS\n",
    "import pandas as pd\n",
    "import datetime\n",
    "import getpass\n",
    "from IPython.display import HTML\n",
    "\n",
    "from arcgis import geocoding\n",
    "from arcgis.features import Feature, FeatureSet"
   ]
  },
  {
   "cell_type": "code",
   "execution_count": 2,
   "metadata": {},
   "outputs": [],
   "source": [
    "portal_url = 'https://www.arcgis.com'\n",
    "#connect to your GIS\n",
    "user_name = 'arcgis_python' # '<user_name>'\n",
    "password = 'P@ssword123' #'<password>'\n",
    "my_gis = GIS(portal_url, user_name, password)"
   ]
  },
  {
   "cell_type": "markdown",
   "metadata": {},
   "source": [
    "To solve the Vehicle Routing Problem, we need `orders` layer with stop information, `depots` layer with the warehouse location information from where the routes start and `routes` table with constraints on routes like maximum total time the driver can work etc.\n",
    "To provide this information to the service, different types of inputs are supported as listed below:\n",
    "\n",
    "- Csv file\n",
    "- Address information to geocode or reverse geocode\n",
    "- Json file with attribute names and values\n",
    "\n",
    "Let us see how to get the layer from each of these input types."
   ]
  },
  {
   "cell_type": "markdown",
   "metadata": {},
   "source": [
    "### Create orders layer with csv file:\n",
    "Use this parameter to specify the orders the routes should visit. An order can represent a delivery (for example, furniture delivery), a pickup (such as an airport shuttle bus picking up a passenger), or some type of service or inspection (a tree trimming job or building inspection, for instance). When specifying the orders, you can specify additional properties for orders using attributes, such as their names, service times, time windows, pickup or delivery quantities etc.\n",
    "\n",
    "Orders csv file has an `Address` column. So, we convert orders csv to a SpatialDataFrame using the address values to geocode order locations.To perform the geocode operations, we imported the geocoding module of the ArcGIS API."
   ]
  },
  {
   "cell_type": "code",
   "execution_count": 3,
   "metadata": {},
   "outputs": [],
   "source": [
    "orders_csv = \"data/orders.csv\"\n",
    "\n",
    "# Read the csv file and convert the data to feature set\n",
    "orders_df = pd.read_csv(orders_csv)\n",
    "orders_sdf = arcgis.features.SpatialDataFrame.from_df(orders_df, \"Address\")\n",
    "orders_fs = orders_sdf.to_featureset()"
   ]
  },
  {
   "cell_type": "code",
   "execution_count": 4,
   "metadata": {},
   "outputs": [
    {
     "data": {
      "text/html": [
       "<div>\n",
       "<style scoped>\n",
       "    .dataframe tbody tr th:only-of-type {\n",
       "        vertical-align: middle;\n",
       "    }\n",
       "\n",
       "    .dataframe tbody tr th {\n",
       "        vertical-align: top;\n",
       "    }\n",
       "\n",
       "    .dataframe thead th {\n",
       "        text-align: right;\n",
       "    }\n",
       "</style>\n",
       "<table border=\"1\" class=\"dataframe\">\n",
       "  <thead>\n",
       "    <tr style=\"text-align: right;\">\n",
       "      <th></th>\n",
       "      <th>Address</th>\n",
       "      <th>SHAPE</th>\n",
       "    </tr>\n",
       "  </thead>\n",
       "  <tbody>\n",
       "    <tr>\n",
       "      <th>0</th>\n",
       "      <td>602 Murray Cir, Sausalito, CA 94965</td>\n",
       "      <td>{'x': -122.47768037299994, 'y': 37.83653954200...</td>\n",
       "    </tr>\n",
       "    <tr>\n",
       "      <th>1</th>\n",
       "      <td>340 Stockton St, San Francisco, CA 94108</td>\n",
       "      <td>{'x': -122.40684618399996, 'y': 37.78912147200...</td>\n",
       "    </tr>\n",
       "    <tr>\n",
       "      <th>2</th>\n",
       "      <td>3619 Balboa St, San Francisco, CA 94121</td>\n",
       "      <td>{'x': -122.49772171699999, 'y': 37.77567151400...</td>\n",
       "    </tr>\n",
       "  </tbody>\n",
       "</table>\n",
       "</div>"
      ],
      "text/plain": [
       "                                    Address  \\\n",
       "0       602 Murray Cir, Sausalito, CA 94965   \n",
       "1  340 Stockton St, San Francisco, CA 94108   \n",
       "2   3619 Balboa St, San Francisco, CA 94121   \n",
       "\n",
       "                                               SHAPE  \n",
       "0  {'x': -122.47768037299994, 'y': 37.83653954200...  \n",
       "1  {'x': -122.40684618399996, 'y': 37.78912147200...  \n",
       "2  {'x': -122.49772171699999, 'y': 37.77567151400...  "
      ]
     },
     "execution_count": 4,
     "metadata": {},
     "output_type": "execute_result"
    }
   ],
   "source": [
    "orders_sdf.head(3)"
   ]
  },
  {
   "cell_type": "markdown",
   "metadata": {},
   "source": [
    "### Create routes layer with csv file:"
   ]
  },
  {
   "cell_type": "markdown",
   "metadata": {},
   "source": [
    "A route specifies vehicle and driver characteristics. A route can have start and end depot service times, a fixed or flexible starting time, time-based operating costs, distance-based operating costs, multiple capacities, various constraints on a driver’s workday, and so on. When specifying the routes, you can set properties for each one by using attributes. Attributes in the csv are explained below.\n",
    "\n",
    "`Name`- The name of the route\n",
    "\n",
    "`StartDepotName`- The name of the starting depot for the route. This field is a foreign key to the Name field in Depots.\n",
    "\n",
    "`EndDepotName`-  The name of the ending depot for the route. This field is a foreign key to the Name field in the Depots class.\n",
    "\n",
    "`EarliestStartTime`- The earliest allowable starting time for the route. \n",
    "\n",
    "`LatestStartTime`- The latest allowable starting time for the route.\n",
    "\n",
    "`Capacities`- The maximum capacity of the vehicle.\n",
    "\n",
    "`CostPerUnitTime`- The monetary cost incurred per unit of work time, for the total route duration, including travel times as well as service times and wait times at orders, depots, and breaks.\n",
    "\n",
    "`MaxOrderCount`- The maximum allowable number of orders on the route.\n",
    "\n",
    "`MaxTotalTime`- The maximum allowable route duration.\n",
    "\n",
    "`AssignmentRule`- This field specifies the rule for assigning the order to a route for example, Exclude, Preserve route, Preserve rooute with relative sequence, override etc, please read [documentation](https://esri.github.io/arcgis-python-api/apidoc/html/arcgis.network.analysis.html#solve-vehicle-routing-problem) for more details. \n",
    "\n",
    "To get a featureset from dataframe, we convert the CSV to a pandas data frame using read_csv function. Note that in our CSV, `EarliestStartTime` and `LatestStartTime` values are represented as strings denoting time in the local time zone of the computer. So we need to parse these values as date-time values which we accomplish by specifying to_datetime function as the datetime parser.\n",
    "\n",
    "When calling `arcgis.network.analysis.solve_vehicle_routing_problem` function we need to pass the datetime values in milliseconds since epoch. The `routes_df` dataframe stores these values as datetime type. We convert from datetime to int64 datatype which stores the values in nano seconds. We then convert those to milliseconds.\n"
   ]
  },
  {
   "cell_type": "code",
   "execution_count": 5,
   "metadata": {
    "scrolled": false
   },
   "outputs": [],
   "source": [
    "routes_csv = \"data/routes.csv\"\n",
    "\n",
    "# Read the csv file\n",
    "routes_df = pd.read_csv(routes_csv, parse_dates=[\"EarliestStartTime\", \"LatestStartTime\"], date_parser=pd.to_datetime)\n",
    "routes_df[\"EarliestStartTime\"] = routes_df[\"EarliestStartTime\"].astype(\"int64\") / 10 ** 6\n",
    "routes_df[\"LatestStartTime\"] = routes_df[\"LatestStartTime\"].astype(\"int64\") / 10 ** 6\n",
    "routes_fs = arcgis.features.FeatureSet.from_dataframe(routes_df)"
   ]
  },
  {
   "cell_type": "code",
   "execution_count": 6,
   "metadata": {},
   "outputs": [
    {
     "data": {
      "text/html": [
       "<div>\n",
       "<style scoped>\n",
       "    .dataframe tbody tr th:only-of-type {\n",
       "        vertical-align: middle;\n",
       "    }\n",
       "\n",
       "    .dataframe tbody tr th {\n",
       "        vertical-align: top;\n",
       "    }\n",
       "\n",
       "    .dataframe thead th {\n",
       "        text-align: right;\n",
       "    }\n",
       "</style>\n",
       "<table border=\"1\" class=\"dataframe\">\n",
       "  <thead>\n",
       "    <tr style=\"text-align: right;\">\n",
       "      <th></th>\n",
       "      <th>ObjectID</th>\n",
       "      <th>Name</th>\n",
       "      <th>StartDepotName</th>\n",
       "      <th>EndDepotName</th>\n",
       "      <th>EarliestStartTime</th>\n",
       "      <th>LatestStartTime</th>\n",
       "      <th>Capacities</th>\n",
       "      <th>CostPerUnitTime</th>\n",
       "      <th>MaxOrderCount</th>\n",
       "      <th>MaxTotalTime</th>\n",
       "      <th>AssignmentRule</th>\n",
       "    </tr>\n",
       "  </thead>\n",
       "  <tbody>\n",
       "    <tr>\n",
       "      <th>0</th>\n",
       "      <td>1</td>\n",
       "      <td>Route1</td>\n",
       "      <td>Warehouse</td>\n",
       "      <td>Warehouse</td>\n",
       "      <td>-2.209133e+12</td>\n",
       "      <td>-2.209126e+12</td>\n",
       "      <td>6</td>\n",
       "      <td>20</td>\n",
       "      <td>6</td>\n",
       "      <td>150</td>\n",
       "      <td>1</td>\n",
       "    </tr>\n",
       "    <tr>\n",
       "      <th>1</th>\n",
       "      <td>2</td>\n",
       "      <td>Route2</td>\n",
       "      <td>Warehouse</td>\n",
       "      <td>Warehouse</td>\n",
       "      <td>-2.209133e+12</td>\n",
       "      <td>-2.209126e+12</td>\n",
       "      <td>6</td>\n",
       "      <td>20</td>\n",
       "      <td>6</td>\n",
       "      <td>150</td>\n",
       "      <td>1</td>\n",
       "    </tr>\n",
       "  </tbody>\n",
       "</table>\n",
       "</div>"
      ],
      "text/plain": [
       "   ObjectID    Name StartDepotName EndDepotName  EarliestStartTime  \\\n",
       "0         1  Route1      Warehouse    Warehouse      -2.209133e+12   \n",
       "1         2  Route2      Warehouse    Warehouse      -2.209133e+12   \n",
       "\n",
       "   LatestStartTime  Capacities  CostPerUnitTime  MaxOrderCount  MaxTotalTime  \\\n",
       "0    -2.209126e+12           6               20              6           150   \n",
       "1    -2.209126e+12           6               20              6           150   \n",
       "\n",
       "   AssignmentRule  \n",
       "0               1  \n",
       "1               1  "
      ]
     },
     "execution_count": 6,
     "metadata": {},
     "output_type": "execute_result"
    }
   ],
   "source": [
    "routes_df"
   ]
  },
  {
   "cell_type": "markdown",
   "metadata": {},
   "source": [
    "### Create depots layer with csv file:\n",
    "Use this parameter to specify a location that a vehicle departs from at the beginning of its workday and returns to, at the end of the workday. Vehicles are loaded (for deliveries) or unloaded (for pickups) at depots at the start of the route.\n",
    "\n",
    "Depots CSV file has depot locations in columns called `Latitude` (representing Y values) and `Longitude` (representing X values). So, we convert depots CSV to a SpatialDataFrame using the X and Y values. We need to reverse geocode these locations as these are provided in latitude/longitude format. Depots must have `Name` values because the `StartDepotName` and `EndDepotName` attributes of the `routes` parameter reference the names you specify here. "
   ]
  },
  {
   "cell_type": "code",
   "execution_count": 7,
   "metadata": {},
   "outputs": [
    {
     "data": {
      "text/html": [
       "<div>\n",
       "<style scoped>\n",
       "    .dataframe tbody tr th:only-of-type {\n",
       "        vertical-align: middle;\n",
       "    }\n",
       "\n",
       "    .dataframe tbody tr th {\n",
       "        vertical-align: top;\n",
       "    }\n",
       "\n",
       "    .dataframe thead th {\n",
       "        text-align: right;\n",
       "    }\n",
       "</style>\n",
       "<table border=\"1\" class=\"dataframe\">\n",
       "  <thead>\n",
       "    <tr style=\"text-align: right;\">\n",
       "      <th></th>\n",
       "      <th>Name</th>\n",
       "      <th>SHAPE</th>\n",
       "    </tr>\n",
       "  </thead>\n",
       "  <tbody>\n",
       "    <tr>\n",
       "      <th>0</th>\n",
       "      <td>Warehouse</td>\n",
       "      <td>{'x': -122.39383000000001, 'y': 37.797505, 'sp...</td>\n",
       "    </tr>\n",
       "  </tbody>\n",
       "</table>\n",
       "</div>"
      ],
      "text/plain": [
       "        Name                                              SHAPE\n",
       "0  Warehouse  {'x': -122.39383000000001, 'y': 37.797505, 'sp..."
      ]
     },
     "execution_count": 7,
     "metadata": {},
     "output_type": "execute_result"
    }
   ],
   "source": [
    "depots_csv = \"data/depots.csv\"\n",
    "\n",
    "# Read the csv file and convert the data to feature set\n",
    "depots_df = pd.read_csv(depots_csv)\n",
    "depots_sdf = arcgis.features.SpatialDataFrame.from_xy(depots_df, \"Longitude\", \"Latitude\")\n",
    "depots_sdf = depots_sdf.drop(axis=1, labels=[\"Longitude\", \"Latitude\"])\n",
    "depots_fs = depots_sdf.to_featureset()\n",
    "depots_sdf"
   ]
  },
  {
   "cell_type": "markdown",
   "metadata": {},
   "source": [
    "\n",
    "### Draw the `depots` and `orders` in map.\n",
    "To visualize the `orders` and `depots` layer in the map, create a map as done below. The layer can also be drawn with suitable symbol, size and color with draw service in map. The green dots represent stops location to service and the orange square represents the depot from where `routes` should start."
   ]
  },
  {
   "cell_type": "code",
   "execution_count": 8,
   "metadata": {},
   "outputs": [
    {
     "data": {
      "application/vnd.jupyter.widget-view+json": {
       "model_id": "4449dabe3e424776b8679e24802d0217",
       "version_major": 2,
       "version_minor": 0
      },
      "text/plain": [
       "MapView(basemaps=['dark-gray', 'dark-gray-vector', 'gray', 'gray-vector', 'hybrid', 'national-geographic', 'oc…"
      ]
     },
     "metadata": {},
     "output_type": "display_data"
    }
   ],
   "source": [
    "# Create a map instance to visualize inputs in map\n",
    "map_view_inputs = my_gis.map('San Fransisco, United States', zoomlevel=10)\n",
    "map_view_inputs"
   ]
  },
  {
   "cell_type": "code",
   "execution_count": 9,
   "metadata": {},
   "outputs": [],
   "source": [
    "# Visualize order and depot locations with symbology\n",
    "map_view_inputs.draw(orders_fs, symbol={\"type\": \"esriSMS\",\"style\": \"esriSMSCircle\",\"color\": [76,115,0,255],\"size\": 8})\n",
    "map_view_inputs.draw(depots_fs, symbol={\"type\": \"esriSMS\",\"style\": \"esriSMSSquare\",\"color\": [255,115,0,255], \"size\": 10})"
   ]
  },
  {
   "cell_type": "markdown",
   "metadata": {},
   "source": [
    "Alternatively, if the input data is provided in different formats, we could still create layers from those data. In practice, there might not always be csv files for all the inputs. It could be just a list of addresses or the inputs are feed from an automated script or server output in JSON format from REST API.\n",
    "\n",
    "Let's see how to convert each of input type to featureset to provide as input directly to the VRP service.\n",
    "\n",
    "### Create depots layer by geocoding the location\n",
    "\n",
    "If we know address of depot, we would geocode the address to get the feature set to input that to the VRP solver as follows."
   ]
  },
  {
   "cell_type": "code",
   "execution_count": 10,
   "metadata": {
    "scrolled": true
   },
   "outputs": [
    {
     "data": {
      "text/html": [
       "<div>\n",
       "<style scoped>\n",
       "    .dataframe tbody tr th:only-of-type {\n",
       "        vertical-align: middle;\n",
       "    }\n",
       "\n",
       "    .dataframe tbody tr th {\n",
       "        vertical-align: top;\n",
       "    }\n",
       "\n",
       "    .dataframe thead th {\n",
       "        text-align: right;\n",
       "    }\n",
       "</style>\n",
       "<table border=\"1\" class=\"dataframe\">\n",
       "  <thead>\n",
       "    <tr style=\"text-align: right;\">\n",
       "      <th></th>\n",
       "      <th>AddBldg</th>\n",
       "      <th>AddNum</th>\n",
       "      <th>AddNumFrom</th>\n",
       "      <th>AddNumTo</th>\n",
       "      <th>AddRange</th>\n",
       "      <th>Addr_type</th>\n",
       "      <th>BldgName</th>\n",
       "      <th>BldgType</th>\n",
       "      <th>Block</th>\n",
       "      <th>City</th>\n",
       "      <th>...</th>\n",
       "      <th>UnitName</th>\n",
       "      <th>UnitType</th>\n",
       "      <th>X</th>\n",
       "      <th>Xmax</th>\n",
       "      <th>Xmin</th>\n",
       "      <th>Y</th>\n",
       "      <th>Ymax</th>\n",
       "      <th>Ymin</th>\n",
       "      <th>Zone</th>\n",
       "      <th>SHAPE</th>\n",
       "    </tr>\n",
       "  </thead>\n",
       "  <tbody>\n",
       "    <tr>\n",
       "      <th>0</th>\n",
       "      <td></td>\n",
       "      <td>98</td>\n",
       "      <td>2</td>\n",
       "      <td>98</td>\n",
       "      <td>2-98</td>\n",
       "      <td>StreetAddress</td>\n",
       "      <td></td>\n",
       "      <td></td>\n",
       "      <td></td>\n",
       "      <td>San Francisco</td>\n",
       "      <td>...</td>\n",
       "      <td></td>\n",
       "      <td></td>\n",
       "      <td>-122.39383</td>\n",
       "      <td>-122.39283</td>\n",
       "      <td>-122.39483</td>\n",
       "      <td>37.797505</td>\n",
       "      <td>37.798505</td>\n",
       "      <td>37.796505</td>\n",
       "      <td></td>\n",
       "      <td>{'x': -122.39383026489244, 'y': 37.79750484973...</td>\n",
       "    </tr>\n",
       "  </tbody>\n",
       "</table>\n",
       "<p>1 rows × 59 columns</p>\n",
       "</div>"
      ],
      "text/plain": [
       "  AddBldg AddNum AddNumFrom AddNumTo AddRange      Addr_type BldgName  \\\n",
       "0             98          2       98     2-98  StreetAddress            \n",
       "\n",
       "  BldgType Block           City  \\\n",
       "0                 San Francisco   \n",
       "\n",
       "                         ...                         UnitName  UnitType  \\\n",
       "0                        ...                                              \n",
       "\n",
       "           X       Xmax       Xmin          Y       Ymax       Ymin Zone  \\\n",
       "0 -122.39383 -122.39283 -122.39483  37.797505  37.798505  37.796505        \n",
       "\n",
       "                                               SHAPE  \n",
       "0  {'x': -122.39383026489244, 'y': 37.79750484973...  \n",
       "\n",
       "[1 rows x 59 columns]"
      ]
     },
     "execution_count": 10,
     "metadata": {},
     "output_type": "execute_result"
    }
   ],
   "source": [
    "depot_geocoded_fs = geocoding.geocode(\"2-98 Pier 1, San Francisco, California, 94111\", as_featureset=True, max_locations=1)\n",
    "depot_geocoded_fs.df\n"
   ]
  },
  {
   "cell_type": "markdown",
   "metadata": {},
   "source": [
    "### Create routes layer with JSON file\n",
    "If we have json files for inputs, without needing to parse it, we could feed that to from_json service of FeatureSet and we would get feature set to input to the [VRP service](https://developers.arcgis.com/rest/network/api-reference/vehicle-routing-problem-service.htm#ESRI_SECTION3_E65DBEE0F0BF46EB946A63A2537137C5)."
   ]
  },
  {
   "cell_type": "code",
   "execution_count": 11,
   "metadata": {},
   "outputs": [
    {
     "data": {
      "text/plain": [
       "'{\"features\": [{\"attributes\": {\"StartDepotName\": \"Warehouse\", \"EndDepotName\": \"Warehouse\", \"EarliestStartTime\": -2209132800000, \"LatestStartTime\": -2209125600000, \"Capacities\": \"6\", \"CostPerUnitTime\": 20, \"MaxOrderCount\": 6, \"MaxTotalTime\": 150, \"AssignmentRule\": 1, \"Name\": \"Route1\"}}, {\"attributes\": {\"StartDepotName\": \"Warehouse\", \"EndDepotName\": \"Warehouse\", \"EarliestStartTime\": -2209132800000, \"LatestStartTime\": -2209125600000, \"Capacities\": \"6\", \"CostPerUnitTime\": 20, \"MaxOrderCount\": 6, \"MaxTotalTime\": 150, \"AssignmentRule\": 1, \"Name\": \"Route2\"}}]}'"
      ]
     },
     "execution_count": 11,
     "metadata": {},
     "output_type": "execute_result"
    }
   ],
   "source": [
    "import json\n",
    "with open(\"data/Routes_fset.json\") as f:\n",
    "    df1 = json.load(f)\n",
    "routes_string = json.dumps(df1)    \n",
    "routes_fset = FeatureSet.from_json(routes_string)\n",
    "routes_string"
   ]
  },
  {
   "cell_type": "markdown",
   "metadata": {},
   "source": [
    "## Solve VRP\n",
    "Once you have all the inputs as featuresets, you can pass inputs converted from different formats. For example, depot could be a featureset geocoded from address, `orders` and `routes` could be read from csv files to convert to featureset. As result to the solve, we get routes with geometry. If we need driving directions for navigation, `populate_directions` must be set to true. "
   ]
  },
  {
   "cell_type": "code",
   "execution_count": 12,
   "metadata": {},
   "outputs": [
    {
     "name": "stdout",
     "output_type": "stream",
     "text": [
      "Analysis succeeded? True\n"
     ]
    }
   ],
   "source": [
    "today = datetime.datetime.now()\n",
    "results = arcgis.network.analysis.solve_vehicle_routing_problem(orders= orders_fs,\n",
    "                                                         depots = depots_fs,\n",
    "                                                         routes = routes_fs, \n",
    "                                                         save_route_data='true',\n",
    "                                                         populate_directions='true',\n",
    "                                                         travel_mode=\"Driving Time\",\n",
    "                                                         default_date=today\n",
    "                                                            )\n",
    "print('Analysis succeeded? {}'.format(results.solve_succeeded))"
   ]
  },
  {
   "cell_type": "markdown",
   "metadata": {},
   "source": [
    "## Result\n",
    "Let's have a look at the output routes in the dataframe. Description about the fields returned for each route can be read in the [documentation](https://developers.arcgis.com/rest/network/api-reference/vehicle-routing-problem-service.htm#ESRI_SECTION3_E65DBEE0F0BF46EB946A63A2537137C5). Some fields shown in the output are:\n",
    "\n",
    "`Name`- The name of the route.\n",
    "\n",
    "`OrderCount`- The number of orders assigned to the route.\n",
    "\n",
    "`StartTime`- The starting time of the route. \n",
    "\n",
    "`EndTime`- The ending time of the route.\n",
    "\n",
    "`StartTimeUTC`- The start time of the route in UTC time.\n",
    "\n",
    "`EndTimeUTC`- The end time of the route in UTC time.\n",
    "\n",
    "`TotalCost`- The total operating cost of the route, which is the sum of the following attribute values: FixedCost, RegularTimeCost, OvertimeCost, and DistanceCost.\n",
    "\n",
    "`TotalDistance`- The total travel distance for the route. \n",
    "\n",
    "`TotalTime`- The total route duration. \n",
    "\n",
    "`TotalTravelTime`- The total travel time for the route. \n",
    "\n",
    "The time values returned from VRP service are in milliseconds from epoch, we need to convert those to datetime format. From the output table, Route1 starts at 8 am, the total time duration for the route is 126 minutes and the total distance for the route is around 60 miles and Route1 services 4 orders."
   ]
  },
  {
   "cell_type": "code",
   "execution_count": 13,
   "metadata": {
    "scrolled": false
   },
   "outputs": [
    {
     "data": {
      "text/html": [
       "<div>\n",
       "<style scoped>\n",
       "    .dataframe tbody tr th:only-of-type {\n",
       "        vertical-align: middle;\n",
       "    }\n",
       "\n",
       "    .dataframe tbody tr th {\n",
       "        vertical-align: top;\n",
       "    }\n",
       "\n",
       "    .dataframe thead th {\n",
       "        text-align: right;\n",
       "    }\n",
       "</style>\n",
       "<table border=\"1\" class=\"dataframe\">\n",
       "  <thead>\n",
       "    <tr style=\"text-align: right;\">\n",
       "      <th></th>\n",
       "      <th>Name</th>\n",
       "      <th>OrderCount</th>\n",
       "      <th>StartTime</th>\n",
       "      <th>EndTime</th>\n",
       "      <th>TotalCost</th>\n",
       "      <th>TotalDistance</th>\n",
       "      <th>TotalTime</th>\n",
       "      <th>TotalTravelTime</th>\n",
       "      <th>StartTimeUTC</th>\n",
       "      <th>EndTimeUTC</th>\n",
       "    </tr>\n",
       "  </thead>\n",
       "  <tbody>\n",
       "    <tr>\n",
       "      <th>0</th>\n",
       "      <td>Route1</td>\n",
       "      <td>4</td>\n",
       "      <td>2019-02-01 08:00:00</td>\n",
       "      <td>2019-02-01 10:06:29.334</td>\n",
       "      <td>2529.777919</td>\n",
       "      <td>59.962888</td>\n",
       "      <td>126.488896</td>\n",
       "      <td>126.488896</td>\n",
       "      <td>2019-02-01 16:00:00</td>\n",
       "      <td>2019-02-01 18:06:29.334</td>\n",
       "    </tr>\n",
       "    <tr>\n",
       "      <th>1</th>\n",
       "      <td>Route2</td>\n",
       "      <td>6</td>\n",
       "      <td>2019-02-01 08:00:00</td>\n",
       "      <td>2019-02-01 10:19:29.334</td>\n",
       "      <td>2789.777896</td>\n",
       "      <td>63.424312</td>\n",
       "      <td>139.488895</td>\n",
       "      <td>139.488895</td>\n",
       "      <td>2019-02-01 16:00:00</td>\n",
       "      <td>2019-02-01 18:19:29.334</td>\n",
       "    </tr>\n",
       "  </tbody>\n",
       "</table>\n",
       "</div>"
      ],
      "text/plain": [
       "     Name  OrderCount           StartTime                 EndTime  \\\n",
       "0  Route1           4 2019-02-01 08:00:00 2019-02-01 10:06:29.334   \n",
       "1  Route2           6 2019-02-01 08:00:00 2019-02-01 10:19:29.334   \n",
       "\n",
       "     TotalCost  TotalDistance   TotalTime  TotalTravelTime  \\\n",
       "0  2529.777919      59.962888  126.488896       126.488896   \n",
       "1  2789.777896      63.424312  139.488895       139.488895   \n",
       "\n",
       "         StartTimeUTC              EndTimeUTC  \n",
       "0 2019-02-01 16:00:00 2019-02-01 18:06:29.334  \n",
       "1 2019-02-01 16:00:00 2019-02-01 18:19:29.334  "
      ]
     },
     "execution_count": 13,
     "metadata": {},
     "output_type": "execute_result"
    }
   ],
   "source": [
    "# Display the output routes in a pandas dataframe.\n",
    "out_routes_df = results.out_routes.df\n",
    "\n",
    "out_routes_df[\"StartTime\"] = pd.to_datetime(out_routes_df[\"StartTime\"]/(10 ** 3), unit='s')\n",
    "out_routes_df[\"EndTime\"] = pd.to_datetime(out_routes_df[\"EndTime\"]/(10 ** 3), unit='s')\n",
    "out_routes_df[\"StartTimeUTC\"] = pd.to_datetime(out_routes_df[\"StartTimeUTC\"]/(10 ** 3), unit='s')\n",
    "out_routes_df[\"EndTimeUTC\"] = pd.to_datetime(out_routes_df[\"EndTimeUTC\"]/(10 ** 3), unit='s')\n",
    "\n",
    "out_routes_df[['Name','OrderCount','StartTime','EndTime','TotalCost','TotalDistance','TotalTime','TotalTravelTime','StartTimeUTC','EndTimeUTC']]"
   ]
  },
  {
   "cell_type": "markdown",
   "metadata": {},
   "source": [
    "The information about stops sequence and which routes will service the stops, let's read out_stops output table. Relevant attributes from the table are:\n",
    "\n",
    "`Name`- The name of the stop.\n",
    "\n",
    "`RouteName`- The name of the route that makes the stop.\n",
    "\n",
    "`Sequence`- The relative sequence in which the assigned route visits the stop.\n",
    "\n",
    "`ArriveTime`- The time of day when the route arrives at the stop. The time-of-day value for this attribute is in the time zone in which the stop is located.\n",
    "\n",
    "`DepartTime`- The time of day when the route departs from the stop. The time-of-day value for this attribute is in the time zone in which the stop is located.\n",
    "\n",
    "Similar to routes table, it has time values in milliseconds from epoch, we will convert those values to date time format. \n",
    "\n",
    "In the table, Route1 starts at 2019-01-17 08:00:00.000 from Warehouse, and arrives at the stop 6 located at '10264 San Pablo Ave, El Cerrito, CA 94530', at 2019-02-01 08:28 local time."
   ]
  },
  {
   "cell_type": "code",
   "execution_count": 14,
   "metadata": {},
   "outputs": [
    {
     "data": {
      "text/html": [
       "<div>\n",
       "<style scoped>\n",
       "    .dataframe tbody tr th:only-of-type {\n",
       "        vertical-align: middle;\n",
       "    }\n",
       "\n",
       "    .dataframe tbody tr th {\n",
       "        vertical-align: top;\n",
       "    }\n",
       "\n",
       "    .dataframe thead th {\n",
       "        text-align: right;\n",
       "    }\n",
       "</style>\n",
       "<table border=\"1\" class=\"dataframe\">\n",
       "  <thead>\n",
       "    <tr style=\"text-align: right;\">\n",
       "      <th></th>\n",
       "      <th>Name</th>\n",
       "      <th>RouteName</th>\n",
       "      <th>Sequence</th>\n",
       "      <th>ArriveTime</th>\n",
       "      <th>DepartTime</th>\n",
       "    </tr>\n",
       "    <tr>\n",
       "      <th>ObjectID</th>\n",
       "      <th></th>\n",
       "      <th></th>\n",
       "      <th></th>\n",
       "      <th></th>\n",
       "      <th></th>\n",
       "    </tr>\n",
       "  </thead>\n",
       "  <tbody>\n",
       "    <tr>\n",
       "      <th>1</th>\n",
       "      <td>602 Murray Cir, Sausalito, CA 94965</td>\n",
       "      <td>Route2</td>\n",
       "      <td>6</td>\n",
       "      <td>2019-02-01 09:23:10.476</td>\n",
       "      <td>2019-02-01 09:23:10.476</td>\n",
       "    </tr>\n",
       "    <tr>\n",
       "      <th>2</th>\n",
       "      <td>340 Stockton St, San Francisco, CA 94108</td>\n",
       "      <td>Route2</td>\n",
       "      <td>2</td>\n",
       "      <td>2019-02-01 08:07:15.649</td>\n",
       "      <td>2019-02-01 08:07:15.649</td>\n",
       "    </tr>\n",
       "    <tr>\n",
       "      <th>3</th>\n",
       "      <td>3619 Balboa St, San Francisco, CA 94121</td>\n",
       "      <td>Route2</td>\n",
       "      <td>5</td>\n",
       "      <td>2019-02-01 09:04:08.574</td>\n",
       "      <td>2019-02-01 09:04:08.574</td>\n",
       "    </tr>\n",
       "    <tr>\n",
       "      <th>4</th>\n",
       "      <td>1274 El Camino Real, San Bruno, CA 94066</td>\n",
       "      <td>Route2</td>\n",
       "      <td>3</td>\n",
       "      <td>2019-02-01 08:29:29.406</td>\n",
       "      <td>2019-02-01 08:29:29.406</td>\n",
       "    </tr>\n",
       "    <tr>\n",
       "      <th>5</th>\n",
       "      <td>625 Monterey Blvd, San Francisco, CA 94127</td>\n",
       "      <td>Route2</td>\n",
       "      <td>4</td>\n",
       "      <td>2019-02-01 08:46:53.711</td>\n",
       "      <td>2019-02-01 08:46:53.711</td>\n",
       "    </tr>\n",
       "    <tr>\n",
       "      <th>6</th>\n",
       "      <td>10264 San Pablo Ave, El Cerrito, CA 94530</td>\n",
       "      <td>Route1</td>\n",
       "      <td>2</td>\n",
       "      <td>2019-02-01 08:28:40.228</td>\n",
       "      <td>2019-02-01 08:28:40.228</td>\n",
       "    </tr>\n",
       "    <tr>\n",
       "      <th>7</th>\n",
       "      <td>1517 Shattuck Ave, Berkeley, CA 94709</td>\n",
       "      <td>Route1</td>\n",
       "      <td>3</td>\n",
       "      <td>2019-02-01 08:41:29.440</td>\n",
       "      <td>2019-02-01 08:41:29.440</td>\n",
       "    </tr>\n",
       "    <tr>\n",
       "      <th>8</th>\n",
       "      <td>3800 San Leandro St, Oakland, CA 94601</td>\n",
       "      <td>Route1</td>\n",
       "      <td>5</td>\n",
       "      <td>2019-02-01 09:34:53.322</td>\n",
       "      <td>2019-02-01 09:34:53.322</td>\n",
       "    </tr>\n",
       "    <tr>\n",
       "      <th>9</th>\n",
       "      <td>125 E Sir Francis Drake Blvd, Larkspur, CA 94939</td>\n",
       "      <td>Route2</td>\n",
       "      <td>7</td>\n",
       "      <td>2019-02-01 09:42:04.252</td>\n",
       "      <td>2019-02-01 09:42:04.252</td>\n",
       "    </tr>\n",
       "    <tr>\n",
       "      <th>10</th>\n",
       "      <td>32 Lafayette Cir, Lafayette, CA 94549</td>\n",
       "      <td>Route1</td>\n",
       "      <td>4</td>\n",
       "      <td>2019-02-01 09:09:11.330</td>\n",
       "      <td>2019-02-01 09:09:11.330</td>\n",
       "    </tr>\n",
       "    <tr>\n",
       "      <th>11</th>\n",
       "      <td>Warehouse</td>\n",
       "      <td>Route1</td>\n",
       "      <td>1</td>\n",
       "      <td>2019-02-01 08:00:00.000</td>\n",
       "      <td>2019-02-01 08:00:00.000</td>\n",
       "    </tr>\n",
       "    <tr>\n",
       "      <th>12</th>\n",
       "      <td>Warehouse</td>\n",
       "      <td>Route1</td>\n",
       "      <td>6</td>\n",
       "      <td>2019-02-01 10:06:29.334</td>\n",
       "      <td>2019-02-01 10:06:29.334</td>\n",
       "    </tr>\n",
       "    <tr>\n",
       "      <th>13</th>\n",
       "      <td>Warehouse</td>\n",
       "      <td>Route2</td>\n",
       "      <td>1</td>\n",
       "      <td>2019-02-01 08:00:00.000</td>\n",
       "      <td>2019-02-01 08:00:00.000</td>\n",
       "    </tr>\n",
       "    <tr>\n",
       "      <th>14</th>\n",
       "      <td>Warehouse</td>\n",
       "      <td>Route2</td>\n",
       "      <td>8</td>\n",
       "      <td>2019-02-01 10:19:29.334</td>\n",
       "      <td>2019-02-01 10:19:29.334</td>\n",
       "    </tr>\n",
       "  </tbody>\n",
       "</table>\n",
       "</div>"
      ],
      "text/plain": [
       "                                                      Name RouteName  \\\n",
       "ObjectID                                                               \n",
       "1                      602 Murray Cir, Sausalito, CA 94965    Route2   \n",
       "2                 340 Stockton St, San Francisco, CA 94108    Route2   \n",
       "3                  3619 Balboa St, San Francisco, CA 94121    Route2   \n",
       "4                 1274 El Camino Real, San Bruno, CA 94066    Route2   \n",
       "5               625 Monterey Blvd, San Francisco, CA 94127    Route2   \n",
       "6                10264 San Pablo Ave, El Cerrito, CA 94530    Route1   \n",
       "7                    1517 Shattuck Ave, Berkeley, CA 94709    Route1   \n",
       "8                   3800 San Leandro St, Oakland, CA 94601    Route1   \n",
       "9         125 E Sir Francis Drake Blvd, Larkspur, CA 94939    Route2   \n",
       "10                   32 Lafayette Cir, Lafayette, CA 94549    Route1   \n",
       "11                                               Warehouse    Route1   \n",
       "12                                               Warehouse    Route1   \n",
       "13                                               Warehouse    Route2   \n",
       "14                                               Warehouse    Route2   \n",
       "\n",
       "          Sequence              ArriveTime              DepartTime  \n",
       "ObjectID                                                            \n",
       "1                6 2019-02-01 09:23:10.476 2019-02-01 09:23:10.476  \n",
       "2                2 2019-02-01 08:07:15.649 2019-02-01 08:07:15.649  \n",
       "3                5 2019-02-01 09:04:08.574 2019-02-01 09:04:08.574  \n",
       "4                3 2019-02-01 08:29:29.406 2019-02-01 08:29:29.406  \n",
       "5                4 2019-02-01 08:46:53.711 2019-02-01 08:46:53.711  \n",
       "6                2 2019-02-01 08:28:40.228 2019-02-01 08:28:40.228  \n",
       "7                3 2019-02-01 08:41:29.440 2019-02-01 08:41:29.440  \n",
       "8                5 2019-02-01 09:34:53.322 2019-02-01 09:34:53.322  \n",
       "9                7 2019-02-01 09:42:04.252 2019-02-01 09:42:04.252  \n",
       "10               4 2019-02-01 09:09:11.330 2019-02-01 09:09:11.330  \n",
       "11               1 2019-02-01 08:00:00.000 2019-02-01 08:00:00.000  \n",
       "12               6 2019-02-01 10:06:29.334 2019-02-01 10:06:29.334  \n",
       "13               1 2019-02-01 08:00:00.000 2019-02-01 08:00:00.000  \n",
       "14               8 2019-02-01 10:19:29.334 2019-02-01 10:19:29.334  "
      ]
     },
     "execution_count": 14,
     "metadata": {},
     "output_type": "execute_result"
    }
   ],
   "source": [
    "out_stops_df = results.out_stops.df\n",
    "# Convert time values to data time format.\n",
    "out_stops_df[\"ArriveTime\"] = pd.to_datetime(out_stops_df[\"ArriveTime\"]/(10 ** 3), unit='s')\n",
    "out_stops_df[\"ArriveTimeUTC\"] = pd.to_datetime(out_stops_df[\"ArriveTimeUTC\"]/(10 ** 3), unit='s')\n",
    "out_stops_df[\"DepartTime\"] = pd.to_datetime(out_stops_df[\"DepartTime\"]/(10 ** 3), unit='s')\n",
    "out_stops_df[\"DepartTimeUTC\"] = pd.to_datetime(out_stops_df[\"DepartTimeUTC\"]/(10 ** 3), unit='s')\n",
    "out_stops_df[['Name','RouteName','Sequence','ArriveTime','DepartTime']]"
   ]
  },
  {
   "cell_type": "markdown",
   "metadata": {},
   "source": [
    "Now, let us visualize the results on a map."
   ]
  },
  {
   "cell_type": "code",
   "execution_count": 15,
   "metadata": {},
   "outputs": [
    {
     "data": {
      "application/vnd.jupyter.widget-view+json": {
       "model_id": "e5bbd5c9929e4f38862115ed45678c49",
       "version_major": 2,
       "version_minor": 0
      },
      "text/plain": [
       "MapView(basemaps=['dark-gray', 'dark-gray-vector', 'gray', 'gray-vector', 'hybrid', 'national-geographic', 'oc…"
      ]
     },
     "metadata": {},
     "output_type": "display_data"
    }
   ],
   "source": [
    "# Create a map instance to visualize outputs in map\n",
    "map_view_outputs = my_gis.map('San Fransisco, United States', zoomlevel=10)\n",
    "map_view_outputs"
   ]
  },
  {
   "cell_type": "code",
   "execution_count": 16,
   "metadata": {},
   "outputs": [],
   "source": [
    "#Visusalize the inputsn with different symbols\n",
    "map_view_outputs.draw(orders_fs, symbol={\"type\": \"esriSMS\",\"style\": \"esriSMSCircle\",\"color\": [76,115,0,255],\"size\": 8})\n",
    "map_view_outputs.draw(depots_fs, symbol={\"type\": \"esriSMS\",\"style\": \"esriSMSSquare\",\"color\": [255,115,0,255], \"size\": 10})\n",
    "#Visualize the first route\n",
    "out_routes_flist = []\n",
    "out_routes_flist.append(results.out_routes.features[0])\n",
    "out_routes_fset = []\n",
    "out_routes_fset = FeatureSet(out_routes_flist)\n",
    "map_view_outputs.draw(out_routes_fset, symbol={\"type\": \"esriSLS\",\"style\": \"esriSLSSolid\",\"color\": [0,100,240,255],\"size\":10})\n",
    "#Visualize the second route\n",
    "out_routes_flist = []\n",
    "out_routes_flist.append(results.out_routes.features[1])\n",
    "out_routes_fset = []\n",
    "out_routes_fset = FeatureSet(out_routes_flist)\n",
    "map_view_outputs.draw(out_routes_fset, symbol={\"type\": \"esriSLS\",\"style\": \"esriSLSSolid\",\"color\": [255,0,0,255],\"size\":10})"
   ]
  },
  {
   "cell_type": "markdown",
   "metadata": {},
   "source": [
    "Save the route data from result to local disk, which would then be used to upload to online portal to share with drivers eventually and share the routes in ArcGIS online on the portal. Individual routes are saved as route layers which could then be opened in navigator with directions(if you solve with 'populate_directions'=true')"
   ]
  },
  {
   "cell_type": "code",
   "execution_count": 17,
   "metadata": {},
   "outputs": [],
   "source": [
    "route_data = results.out_route_data.download()\n",
    "route_data_item = my_gis.content.add({\"type\": \"File Geodatabase\"}, route_data)"
   ]
  },
  {
   "cell_type": "markdown",
   "metadata": {},
   "source": [
    "Create route layers from the route data. This will create route layers in the online portal which could then be shared with drivers, so they would be able to open this in navigator."
   ]
  },
  {
   "cell_type": "code",
   "execution_count": 18,
   "metadata": {
    "scrolled": false
   },
   "outputs": [
    {
     "data": {
      "text/plain": [
       "'https://geosaurus.maps.arcgis.com/home/item.html?id=fa6ba39ed7904729bb7f3b7eb2763587'"
      ]
     },
     "metadata": {},
     "output_type": "display_data"
    },
    {
     "data": {
      "text/html": [
       "<div class=\"item_container\" style=\"height: auto; overflow: hidden; border: 1px solid #cfcfcf; border-radius: 2px; background: #f6fafa; line-height: 1.21429em; padding: 10px;\">\n",
       "                    <div class=\"item_left\" style=\"width: 210px; float: left;\">\n",
       "                       <a href='https://geosaurus.maps.arcgis.com/home/item.html?id=fa6ba39ed7904729bb7f3b7eb2763587' target='_blank'>\n",
       "                        <img src='http://static.arcgis.com/images/desktopapp.png' class=\"itemThumbnail\">\n",
       "                       </a>\n",
       "                    </div>\n",
       "\n",
       "                    <div class=\"item_right\"     style=\"float: none; width: auto; overflow: hidden;\">\n",
       "                        <a href='https://geosaurus.maps.arcgis.com/home/item.html?id=fa6ba39ed7904729bb7f3b7eb2763587' target='_blank'><b>Route1</b>\n",
       "                        </a>\n",
       "                        <br/>Route and directions for Route1<img src='https://geosaurus.maps.arcgis.com/home/js/jsapi/esri/css/images/item_type_icons/features16.png' style=\"vertical-align:middle;\">Feature Collection by arcgis_python\n",
       "                        <br/>Last Modified: February 01, 2019\n",
       "                        <br/>0 comments, 0 views\n",
       "                    </div>\n",
       "                </div>\n",
       "                "
      ],
      "text/plain": [
       "<Item title:\"Route1\" type:Feature Collection owner:arcgis_python>"
      ]
     },
     "metadata": {},
     "output_type": "display_data"
    },
    {
     "data": {
      "text/plain": [
       "'https://geosaurus.maps.arcgis.com/home/item.html?id=ff86f5a8a7ef49cabb621f309e8a676a'"
      ]
     },
     "metadata": {},
     "output_type": "display_data"
    },
    {
     "data": {
      "text/html": [
       "<div class=\"item_container\" style=\"height: auto; overflow: hidden; border: 1px solid #cfcfcf; border-radius: 2px; background: #f6fafa; line-height: 1.21429em; padding: 10px;\">\n",
       "                    <div class=\"item_left\" style=\"width: 210px; float: left;\">\n",
       "                       <a href='https://geosaurus.maps.arcgis.com/home/item.html?id=ff86f5a8a7ef49cabb621f309e8a676a' target='_blank'>\n",
       "                        <img src='http://static.arcgis.com/images/desktopapp.png' class=\"itemThumbnail\">\n",
       "                       </a>\n",
       "                    </div>\n",
       "\n",
       "                    <div class=\"item_right\"     style=\"float: none; width: auto; overflow: hidden;\">\n",
       "                        <a href='https://geosaurus.maps.arcgis.com/home/item.html?id=ff86f5a8a7ef49cabb621f309e8a676a' target='_blank'><b>Route2</b>\n",
       "                        </a>\n",
       "                        <br/>Route and directions for Route2<img src='https://geosaurus.maps.arcgis.com/home/js/jsapi/esri/css/images/item_type_icons/features16.png' style=\"vertical-align:middle;\">Feature Collection by arcgis_python\n",
       "                        <br/>Last Modified: February 01, 2019\n",
       "                        <br/>0 comments, 0 views\n",
       "                    </div>\n",
       "                </div>\n",
       "                "
      ],
      "text/plain": [
       "<Item title:\"Route2\" type:Feature Collection owner:arcgis_python>"
      ]
     },
     "metadata": {},
     "output_type": "display_data"
    }
   ],
   "source": [
    "route_layers = arcgis.features.analysis.create_route_layers(route_data_item, delete_route_data_item=True)\n",
    "for route_layer in route_layers:\n",
    "    route_layer.share(org=True)\n",
    "    display(route_layer.homepage)\n",
    "    display(route_layer)"
   ]
  },
  {
   "cell_type": "markdown",
   "metadata": {},
   "source": [
    "The network module of the ArcGIS API for Python allows you to solve a Vehicle Routing Problem and other network problems with necessary business constraints. Learn more about how to solve VRP with business constraints [here](https://esri.github.io/arcgis-python-api/apidoc/html/arcgis.network.analysis.html#solve-vehicle-routing-problem)."
   ]
  }
 ],
 "metadata": {
  "kernelspec": {
   "display_name": "Python 3",
   "language": "python",
   "name": "python3"
  },
  "language_info": {
   "codemirror_mode": {
    "name": "ipython",
    "version": 3
   },
   "file_extension": ".py",
   "mimetype": "text/x-python",
   "name": "python",
   "nbconvert_exporter": "python",
   "pygments_lexer": "ipython3",
   "version": "3.6.5"
  }
 },
 "nbformat": 4,
 "nbformat_minor": 2
}
