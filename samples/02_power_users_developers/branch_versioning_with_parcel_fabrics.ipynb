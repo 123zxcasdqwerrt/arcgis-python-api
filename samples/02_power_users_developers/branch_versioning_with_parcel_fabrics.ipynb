{
 "cells": [
  {
   "cell_type": "code",
   "execution_count": 1,
   "source": [
    "from arcgis import GIS\r\n",
    "from arcgis.features import _version"
   ],
   "outputs": [],
   "metadata": {}
  },
  {
   "cell_type": "markdown",
   "source": [
    "### Parcel Fabric Feature Service\r\n",
    "A Parcel Fabric feature service consists of at least 5 endpoints (SOEs)\r\n",
    "- Mapping (.../MapServer)\r\n",
    "- Feature Access (.../FeatureServer)\r\n",
    "- Version Management (.../VersionManagementServer)\r\n",
    "- Validation (.../ValidationServer)\r\n",
    "- Parcel Fabric (../ParcelFabricServer)\r\n",
    "\r\n",
    "Most Parcel Fabric editing operations will make use of the Feature Access, Version Management and Parcel Fabric endpoints.  \r\n",
    "\r\n",
    "At a high level, a typical parcel editing workflow will look like:\r\n",
    "\r\n",
    "1. Create a branch version to isolate edits from the default version. (Version Management)\r\n",
    "2. Start an edit session (Version Management)\r\n",
    "3. Create a new parcel Record feature (Feature Access)\r\n",
    "4. Edit one or more parcels (merge, divide, copy lines, etc.) (Parcel Fabric)\r\n",
    "5. Reconcile the current branch version with the default version. (Version Management)\r\n",
    "6. Post changes from the current version to the default version. (Version Management)\r\n",
    "7. Stop the edit session. (Version Management)\r\n",
    "8. Delete the version. (Version Management)\r\n",
    "\r\n",
    "Based on this example, it is obvious that understanding versioned, multi-user editing is critical.  The following samples will demonstrate how to list versions, create versions, start and stop edit sessions and reconcile and post edits."
   ],
   "metadata": {}
  },
  {
   "cell_type": "code",
   "execution_count": 2,
   "source": [
    "base_server_url = \"https://myserver.domain.com/web_adaptor/rest/services/WashingtonCountyLSA/\"\r\n",
    "gis = GIS(\"https://myserver.domain.com/web_adaptor/\", \"username\", \"pass.word\", verify_cert=False)"
   ],
   "outputs": [],
   "metadata": {}
  },
  {
   "cell_type": "markdown",
   "source": [
    "### Access branch versions via Version Management Server"
   ],
   "metadata": {}
  },
  {
   "cell_type": "code",
   "execution_count": 14,
   "source": [
    "version_management_server_url = f\"{base_server_url}/VersionManagementServer\"\r\n",
    "vms = _version.VersionManager(version_management_server_url, gis)\r\n",
    "vms.properties"
   ],
   "outputs": [
    {
     "output_type": "execute_result",
     "data": {
      "text/plain": [
       "{\n",
       "  \"name\": \"Version Management Server\",\n",
       "  \"type\": \"Map Server Extension\",\n",
       "  \"defaultVersionName\": \"sde.DEFAULT\",\n",
       "  \"defaultVersionGuid\": \"{BD3F4817-9A00-41AC-B0CC-58F78DBAE0A1}\",\n",
       "  \"capabilities\": {\n",
       "    \"supportsConflictDetectionByAttribute\": true,\n",
       "    \"supportsPartialPost\": true,\n",
       "    \"supportsDifferencesFromMoment\": true,\n",
       "    \"supportsDifferencesWithLayers\": true\n",
       "  }\n",
       "}"
      ]
     },
     "metadata": {},
     "execution_count": 14
    }
   ],
   "metadata": {}
  },
  {
   "cell_type": "markdown",
   "source": [
    "#### Get all versions"
   ],
   "metadata": {}
  },
  {
   "cell_type": "code",
   "execution_count": 15,
   "source": [
    "versions = vms.all\r\n",
    "versions"
   ],
   "outputs": [
    {
     "output_type": "execute_result",
     "data": {
      "text/plain": [
       "[<Version sde.DEFAULT @ {BD3F4817-9A00-41AC-B0CC-58F78DBAE0A1}>,\n",
       " <Version admin.waco_lsa_analyze @ {B2752859-D811-4C9C-B6F9-9650713CFDB2}>,\n",
       " <Version admin.gen_fabric_links @ {80FF6200-ACB2-477F-B79C-188A61EB1C9A}>,\n",
       " <Version admin.generate_fabric_links @ {D31E7834-134E-4C91-A54B-736D78714172}>]"
      ]
     },
     "metadata": {},
     "execution_count": 15
    }
   ],
   "metadata": {}
  },
  {
   "cell_type": "markdown",
   "source": [
    "#### Create a version"
   ],
   "metadata": {}
  },
  {
   "cell_type": "code",
   "execution_count": 16,
   "source": [
    "new_version_name = \"fabric_editor_1\"\r\n",
    "vms.create(new_version_name)"
   ],
   "outputs": [
    {
     "output_type": "execute_result",
     "data": {
      "text/plain": [
       "True"
      ]
     },
     "metadata": {},
     "execution_count": 16
    }
   ],
   "metadata": {}
  },
  {
   "cell_type": "markdown",
   "source": [
    "### Access the Version Management Server through the Parcel Fabric FeatureLayerCollection object\r\n",
    "\r\n",
    "The version property in a parcel fabric FeatureLayerCollection (FLC) creates a VersionManager object to create, update and use versions.  \r\n",
    "\r\n",
    "The FeatureServer endpoint is used to create a FeatureLayerCollection.  More on the contents of a parcel fabric FLC in other demos."
   ],
   "metadata": {}
  },
  {
   "cell_type": "code",
   "execution_count": 17,
   "source": [
    "from arcgis.features.layer import FeatureLayerCollection\r\n",
    "parcel_fabric_feature_server_url = f\"{base_server_url}/FeatureServer\"\r\n",
    "parcel_fabric_flc = FeatureLayerCollection(parcel_fabric_feature_server_url, gis)\r\n",
    "\r\n",
    "# print the version names from the FLC's versions property:\r\n",
    "vms_from_flc = parcel_fabric_flc.versions\r\n",
    "[print(v.properties.versionName) for v in vms_from_flc.all]"
   ],
   "outputs": [
    {
     "output_type": "stream",
     "name": "stdout",
     "text": [
      "sde.DEFAULT\n",
      "admin.waco_lsa_analyze\n",
      "admin.gen_fabric_links\n",
      "admin.generate_fabric_links\n",
      "admin.fabric_editor_1\n"
     ]
    },
    {
     "output_type": "execute_result",
     "data": {
      "text/plain": [
       "[None, None, None, None, None]"
      ]
     },
     "metadata": {},
     "execution_count": 17
    }
   ],
   "metadata": {}
  },
  {
   "cell_type": "markdown",
   "source": [
    "### Branch Versioning Edit Sessions\n",
    "\n",
    "A branch versioning edit session is act of obtaining shared and exclusive locks on the feature class to prevent corruption in the branch version.\n",
    "\n",
    "`version.startReading` will set a shared lock on the version which prevents another session from obtaining an exclusive lock.  Other sessions can still access the version as read-only.\n",
    "\n",
    "`version.startEditing` will set the exclusive lock which will prevent write access and write access to the version.\n",
    "\n",
    "Keeping track of where one is within the edit sessions is made simple with a built in context manager."
   ],
   "metadata": {}
  },
  {
   "cell_type": "code",
   "execution_count": 18,
   "source": [
    "from arcgis.features import _parcel\r\n",
    "parcel_fabric_manager_url = f\"{base_server_url}/ParcelFabricServer\"\r\n",
    "\r\n",
    "# start a 'read' session to acquire a shared lock and \r\n",
    "# get a branch version by its name\r\n",
    "with vms.get(\"admin.generate_fabric_links\", \"read\") as version:\r\n",
    "    parcel_fabric_manager = _parcel.ParcelFabricManager(\r\n",
    "        parcel_fabric_manager_url, \r\n",
    "        gis, \r\n",
    "        version, \r\n",
    "        parcel_fabric_flc)\r\n",
    "\r\n",
    "    # do parcel fabric or other feature service editing within the version\r\n",
    "    # i.e. parcel_fabric_manager.copy_lines_to_parcel_type(...)\r\n",
    "\r\n",
    "parcel_fabric_manager.properties"
   ],
   "outputs": [
    {
     "output_type": "execute_result",
     "data": {
      "text/plain": [
       "{\n",
       "  \"name\": \"Parcel Fabric Server\",\n",
       "  \"type\": \"Map Server Extension\",\n",
       "  \"ParcelFabricLayers\": 1\n",
       "}"
      ]
     },
     "metadata": {},
     "execution_count": 18
    }
   ],
   "metadata": {}
  },
  {
   "cell_type": "markdown",
   "source": [
    "#### Recocile, Post and Delete the version\r\n",
    "\r\n",
    "When editing is complete, the new features can be posted from the new branch version to the default version.  In this workflow, Reconcile must occur first.  Once posted, the version can optionally be deleted."
   ],
   "metadata": {}
  },
  {
   "cell_type": "code",
   "execution_count": 19,
   "source": [
    "version = vms.get(f\"admin.{new_version_name}\")\r\n",
    "\r\n",
    "# version.reconcile()\r\n",
    "# version.post\r\n",
    "\r\n",
    "version.delete()"
   ],
   "outputs": [
    {
     "output_type": "execute_result",
     "data": {
      "text/plain": [
       "True"
      ]
     },
     "metadata": {},
     "execution_count": 19
    }
   ],
   "metadata": {}
  },
  {
   "cell_type": "markdown",
   "source": [
    "### Documentation\n",
    "\n",
    "[ArcGIS Python API - Version Manager](https://developers.arcgis.com/python/api-reference/arcgis.features.managers.html#versionmanager)\n",
    "\n",
    "[ArcGIS Python API - Parcel Fabric Manager](https://developers.arcgis.com/python/api-reference/arcgis.features.managers.html#parcelfabricmanager)\n",
    "\n",
    "[ArcGIS REST API - VersionManagementServer](https://developers.arcgis.com/rest/services-reference/enterprise/version-management-service.htm)\n",
    "\n",
    "[ArcGIS REST API - ParcelFabricServer](https://developers.arcgis.com/rest/services-reference/enterprise/overview-of-parcel-fabric-sevices.htm)\n",
    "\n",
    "[ArcGIS Pro - Branch Versioning Scenarios](https://pro.arcgis.com/en/pro-app/latest/help/data/geodatabases/overview/branch-version-scenarios.htm)"
   ],
   "metadata": {}
  },
  {
   "cell_type": "code",
   "execution_count": null,
   "source": [],
   "outputs": [],
   "metadata": {}
  }
 ],
 "metadata": {
  "interpreter": {
   "hash": "3ec7365f029c0271ef64d13dd7112b33803c4eb4bcfd1477ee827987865a2476"
  },
  "kernelspec": {
   "name": "python3",
   "display_name": "Python 3.7.10 64-bit ('geosaurus_dev_env': conda)"
  },
  "language_info": {
   "codemirror_mode": {
    "name": "ipython",
    "version": 3
   },
   "file_extension": ".py",
   "mimetype": "text/x-python",
   "name": "python",
   "nbconvert_exporter": "python",
   "pygments_lexer": "ipython3",
   "version": "3.7.10"
  }
 },
 "nbformat": 4,
 "nbformat_minor": 5
}