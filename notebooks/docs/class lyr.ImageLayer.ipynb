{
 "cells": [
  {
   "cell_type": "markdown",
   "metadata": {},
   "source": [
    "##The ImageLayer class"
   ]
  },
  {
   "cell_type": "markdown",
   "metadata": {},
   "source": [
    "<hr/>"
   ]
  },
  {
   "cell_type": "markdown",
   "metadata": {},
   "source": [
    "<code><b>class lyr.ImageLayer<b>(<i>item</i>)</code>"
   ]
  },
  {
   "cell_type": "markdown",
   "metadata": {},
   "source": [
    "Bases: OrderedDict\n",
    "\n",
    "Represents an ArcGIS image layer.\n",
    "\n",
    "The image layer is backed by an image service.\n",
    "\n",
    "The image layer is represented as a Python dictionary, and provides access to image service parameters such as rasterFunctionInfos."
   ]
  },
  {
   "cell_type": "code",
   "execution_count": 2,
   "metadata": {
    "collapsed": false
   },
   "outputs": [
    {
     "data": {
      "text/html": [
       "<div class=\"item_container\">\n",
       "                    <div class=\"item_left\">\n",
       "                       <a href='http://www.arcgis.com/home/item.html?id=a5fef63517cd4a099b437e55713d3d54' target='_blank'>\n",
       "                        <img src='http://www.arcgis.com/sharing/rest/content/items/a5fef63517cd4a099b437e55713d3d54/info/thumbnail/Imagery.png' class=\"itemThumbnail\">\n",
       "                       </a>\n",
       "                    </div>\n",
       "        \n",
       "                    <div class=\"item_right\">\n",
       "                        <a href='http://www.arcgis.com/home/item.html?id=a5fef63517cd4a099b437e55713d3d54' target='_blank'><b>Imagery</b>\n",
       "                        </a>\n",
       "                        <br>This LYR file combines the World Imagery map service and World Transportation and World Boundaries and Places reference overlay services in one convenient group layer<img src='http://www.arcgis.com/home/js/jsapi/esri/css/images/item_type_icons/layers16.png' style=\"vertical-align:middle;\">Layer by esri\n",
       "                        <br>Last Modified: January 16, 2012\n",
       "                        <br>2 comments, 322,191 views\n",
       "                    </div>\n",
       "                </div>\n",
       "                "
      ],
      "text/plain": [
       "{}"
      ]
     },
     "metadata": {},
     "output_type": "display_data"
    },
    {
     "data": {
      "text/html": [
       "<div class=\"item_container\">\n",
       "                    <div class=\"item_left\">\n",
       "                       <a href='http://www.arcgis.com/home/item.html?id=4ca13f0e4e29403fa68c46d188c4be73' target='_blank'>\n",
       "                        <img src='http://www.arcgis.com/sharing/rest/content/items/4ca13f0e4e29403fa68c46d188c4be73/info/thumbnail/ago_downloaded.jpg' class=\"itemThumbnail\">\n",
       "                       </a>\n",
       "                    </div>\n",
       "        \n",
       "                    <div class=\"item_right\">\n",
       "                        <a href='http://www.arcgis.com/home/item.html?id=4ca13f0e4e29403fa68c46d188c4be73' target='_blank'><b>Landsat 8 Views</b>\n",
       "                        </a>\n",
       "                        <br>Landsat 8 OLI, 30m Multispectral 8 band scenes with visual renderings and indices. Updated daily.<img src='http://www.arcgis.com/home/js/jsapi/esri/css/images/item_type_icons/imagery16.png' style=\"vertical-align:middle;\">Image Service by esri\n",
       "                        <br>Last Modified: October 22, 2015\n",
       "                        <br>0 comments, 101,496 views\n",
       "                    </div>\n",
       "                </div>\n",
       "                "
      ],
      "text/plain": [
       "{}"
      ]
     },
     "metadata": {},
     "output_type": "display_data"
    }
   ],
   "source": [
    "#Example: Loading an image service from the GIS and visualizing it using MapView widget\n",
    "\n",
    "from arcgis.gis import *\n",
    "from arcgis.lyr import *\n",
    "from arcgis.viz import *\n",
    "from IPython.display import display\n",
    "\n",
    "gis = GIS()\n",
    "items = gis.content.search(\"Landsat 8 Views\", max_items=2)\n",
    "for item in items:\n",
    "    display(item)"
   ]
  },
  {
   "cell_type": "code",
   "execution_count": 3,
   "metadata": {
    "collapsed": false
   },
   "outputs": [
    {
     "name": "stdout",
     "output_type": "stream",
     "text": [
      "http://landsat2.arcgis.com/arcgis/rest/services/Landsat8_Views/ImageServer\n"
     ]
    }
   ],
   "source": [
    "landsat = items[1]\n",
    "imglyr = ImageLayer(landsat)"
   ]
  },
  {
   "cell_type": "markdown",
   "metadata": {},
   "source": [
    "We can access properties of the ImageLayer. Eg. accessing the raster functions published with the layer:"
   ]
  },
  {
   "cell_type": "code",
   "execution_count": 4,
   "metadata": {
    "collapsed": false
   },
   "outputs": [
    {
     "name": "stdout",
     "output_type": "stream",
     "text": [
      "Agriculture with DRA\n",
      "Bathymetric with DRA\n",
      "Color Infrared with DRA\n",
      "Natural Color with DRA\n",
      "Short-wave Infrared with DRA\n",
      "Geology with DRA\n",
      "Agriculture\n",
      "Bathymetric\n",
      "Color Infrared\n",
      "Geology\n",
      "Natural Color\n",
      "Short-wave Infrared\n",
      "NDVI Colorized\n",
      "Normalized Difference Moisture Index Colorized\n",
      "NDVI Raw\n",
      "NBR Raw\n",
      "None\n"
     ]
    }
   ],
   "source": [
    "for fn in imglyr['rasterFunctionInfos']:\n",
    "    print(fn['name'])"
   ]
  },
  {
   "cell_type": "markdown",
   "metadata": {},
   "source": [
    "We can visualize an image layer using the map widget:"
   ]
  },
  {
   "cell_type": "code",
   "execution_count": 5,
   "metadata": {
    "collapsed": true
   },
   "outputs": [],
   "source": [
    "map = gis.map(\"Pallikaranai\", 13)\n",
    "map"
   ]
  },
  {
   "cell_type": "code",
   "execution_count": 6,
   "metadata": {
    "collapsed": true
   },
   "outputs": [],
   "source": [
    "map.add_layer(imglyr)"
   ]
  },
  {
   "cell_type": "markdown",
   "metadata": {},
   "source": [
    "In the example below, we visualize the different raster functions published with the image service by cycling through the raster functions:"
   ]
  },
  {
   "cell_type": "code",
   "execution_count": 7,
   "metadata": {
    "collapsed": false
   },
   "outputs": [
    {
     "name": "stdout",
     "output_type": "stream",
     "text": [
      "Agriculture with DRA\n",
      "Bathymetric with DRA\n",
      "Color Infrared with DRA\n",
      "Natural Color with DRA\n",
      "Short-wave Infrared with DRA\n",
      "Geology with DRA\n"
     ]
    }
   ],
   "source": [
    "import time\n",
    "\n",
    "for fn in imglyr['rasterFunctionInfos'][:6]:\n",
    "    print(fn['name'])\n",
    "    map.remove_layers()\n",
    "    map.add_layer(imglyr, {\"imageServiceParameters\" :{ \"renderingRule\": { \"rasterFunction\": fn['name']}}})\n",
    "    time.sleep(5)"
   ]
  },
  {
   "cell_type": "markdown",
   "metadata": {},
   "source": [
    "We can also apply a **raster function chain** composed as a Python dictionary and apply it to the image service:"
   ]
  },
  {
   "cell_type": "code",
   "execution_count": 9,
   "metadata": {
    "collapsed": false
   },
   "outputs": [],
   "source": [
    "raster_fn = {\n",
    "               \"rasterFunction\": \"Stretch\",\n",
    "               \"rasterFunctionArguments\":{\n",
    "                    \"Raster\":{\n",
    "                        \"rasterFunction\": \"ExtractBand\",\n",
    "                        \"rasterFunctionArguments\":{\"BandIds\": [4,5,3]}\n",
    "                    },\n",
    "                    \"StretchType\": 6,\n",
    "                    \"DRA\": True,\n",
    "                    \"Gamma\": [1,1,1],\n",
    "                    \"UseGamma\": True\n",
    "                },\n",
    "               \"outputPixelType\":\"U8\"\n",
    "              }\n",
    "\n"
   ]
  },
  {
   "cell_type": "code",
   "execution_count": 10,
   "metadata": {
    "collapsed": false
   },
   "outputs": [
    {
     "name": "stdout",
     "output_type": "stream",
     "text": [
      "http://landsat2.arcgis.com/arcgis/rest/services/Landsat8_Views/ImageServer\n"
     ]
    }
   ],
   "source": [
    "map.add_layer(landsat, {\"imageServiceParameters\" :{ \"renderingRule\": raster_fn }})"
   ]
  },
  {
   "cell_type": "markdown",
   "metadata": {},
   "source": [
    "<hr>"
   ]
  }
 ],
 "metadata": {
  "kernelspec": {
   "display_name": "Python 3",
   "language": "python",
   "name": "python3"
  },
  "language_info": {
   "codemirror_mode": {
    "name": "ipython",
    "version": 3
   },
   "file_extension": ".py",
   "mimetype": "text/x-python",
   "name": "python",
   "nbconvert_exporter": "python",
   "pygments_lexer": "ipython3",
   "version": "3.4.3"
  }
 },
 "nbformat": 4,
 "nbformat_minor": 0
}
