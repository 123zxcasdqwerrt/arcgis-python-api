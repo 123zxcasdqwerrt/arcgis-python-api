{
 "cells": [
  {
   "cell_type": "markdown",
   "metadata": {
    "slideshow": {
     "slide_type": "slide"
    }
   },
   "source": [
    "# Part 4 - Enriching Data Collections and Spatially Enabled Dataframe"
   ]
  },
  {
   "cell_type": "markdown",
   "metadata": {
    "toc": true
   },
   "source": [
    "<h1>Table of Contents<span class=\"tocSkip\"></span></h1>\n",
    "<div class=\"toc\"><ul class=\"toc-item\"><li><span><a href=\"#Data-Collections-and-GeoEnrichment-coverage\" data-toc-modified-id=\"Data-Collections-and-GeoEnrichment-coverage-1\"><span class=\"toc-item-num\">1&nbsp;&nbsp;</span>Data Collections and GeoEnrichment coverage</a></span><ul class=\"toc-item\"><li><span><a href=\"#List-Countries-with-GeoEnrichment-Data\" data-toc-modified-id=\"List-Countries-with-GeoEnrichment-Data-1.1\"><span class=\"toc-item-num\">1.1&nbsp;&nbsp;</span>List Countries with GeoEnrichment Data</a></span></li><li><span><a href=\"#Data-Collections-for-U.S.\" data-toc-modified-id=\"Data-Collections-for-U.S.-1.2\"><span class=\"toc-item-num\">1.2&nbsp;&nbsp;</span>Data Collections for U.S.</a></span><ul class=\"toc-item\"><li><span><a href=\"#Unique-Data-Collections-for-U.S.\" data-toc-modified-id=\"Unique-Data-Collections-for-U.S.-1.2.1\"><span class=\"toc-item-num\">1.2.1&nbsp;&nbsp;</span>Unique Data Collections for U.S.</a></span></li><li><span><a href=\"#Data-Collections-by-Socio-demographic-Factors\" data-toc-modified-id=\"Data-Collections-by-Socio-demographic-Factors-1.2.2\"><span class=\"toc-item-num\">1.2.2&nbsp;&nbsp;</span>Data Collections by Socio-demographic Factors</a></span></li><li><span><a href=\"#Analysis-variables-for-Data-Collections\" data-toc-modified-id=\"Analysis-variables-for-Data-Collections-1.2.3\"><span class=\"toc-item-num\">1.2.3&nbsp;&nbsp;</span>Analysis variables for Data Collections</a></span></li></ul></li><li><span><a href=\"#Data-Collections-for-Another-Country\" data-toc-modified-id=\"Data-Collections-for-Another-Country-1.3\"><span class=\"toc-item-num\">1.3&nbsp;&nbsp;</span>Data Collections for Another Country</a></span><ul class=\"toc-item\"><li><span><a href=\"#Unique-Data-Collections-for-New-Zealand\" data-toc-modified-id=\"Unique-Data-Collections-for-New-Zealand-1.3.1\"><span class=\"toc-item-num\">1.3.1&nbsp;&nbsp;</span>Unique Data Collections for New Zealand</a></span></li><li><span><a href=\"#Data-Collections-for-Socio-demographic-Factors\" data-toc-modified-id=\"Data-Collections-for-Socio-demographic-Factors-1.3.2\"><span class=\"toc-item-num\">1.3.2&nbsp;&nbsp;</span>Data Collections for Socio-demographic Factors</a></span></li><li><span><a href=\"#Analysis-variables-for-Data-Collections\" data-toc-modified-id=\"Analysis-variables-for-Data-Collections-1.3.3\"><span class=\"toc-item-num\">1.3.3&nbsp;&nbsp;</span>Analysis variables for Data Collections</a></span></li></ul></li><li><span><a href=\"#Perform-Enrichment-using-Data-Collections-and-Analysis-Variables\" data-toc-modified-id=\"Perform-Enrichment-using-Data-Collections-and-Analysis-Variables-1.4\"><span class=\"toc-item-num\">1.4&nbsp;&nbsp;</span>Perform Enrichment using Data Collections and Analysis Variables</a></span><ul class=\"toc-item\"><li><span><a href=\"#Enrich-using-Data-Collections\" data-toc-modified-id=\"Enrich-using-Data-Collections-1.4.1\"><span class=\"toc-item-num\">1.4.1&nbsp;&nbsp;</span>Enrich using Data Collections</a></span></li><li><span><a href=\"#Enrich-using-Analysis-Variables\" data-toc-modified-id=\"Enrich-using-Analysis-Variables-1.4.2\"><span class=\"toc-item-num\">1.4.2&nbsp;&nbsp;</span>Enrich using Analysis Variables</a></span></li></ul></li></ul></li><li><span><a href=\"#Enriching-Spatially-Enabled-Dataframes\" data-toc-modified-id=\"Enriching-Spatially-Enabled-Dataframes-2\"><span class=\"toc-item-num\">2&nbsp;&nbsp;</span>Enriching Spatially Enabled Dataframes</a></span></li><li><span><a href=\"#Conclusion\" data-toc-modified-id=\"Conclusion-3\"><span class=\"toc-item-num\">3&nbsp;&nbsp;</span>Conclusion</a></span></li></ul></div>"
   ]
  },
  {
   "cell_type": "markdown",
   "metadata": {},
   "source": [
    "## Data Collections and GeoEnrichment coverage\n",
    "\n",
    "As described earlier, a data collection is a preassembled list of attributes that will be used to enrich the input features. Collection attributes can describe various types of information, such as demographic characteristics and geographic context of the locations or areas submitted as input features. \n",
    "\n",
    "Some data collections (such as default) can be used in all supported countries. Other data collections may only be available in one or a collection of countries. [Data Browser](https://doc.arcgis.com/en/esri-demographics/data/data-browser.htm) can be used to examine the entire global listing of variables, and associated datasets for each country."
   ]
  },
  {
   "cell_type": "markdown",
   "metadata": {},
   "source": [
    "<div class=\"embed-container\"><iframe frameborder=\"false\" scrolling=\"no\" width=\"800\" height=\"600\" marginheight=\"0\" marginwidth=\"0\" \n",
    "src=\"https://la.arcgis.com/databrowser/index.html\"></iframe></div>"
   ]
  },
  {
   "cell_type": "markdown",
   "metadata": {},
   "source": [
    "### List Countries with GeoEnrichment Data"
   ]
  },
  {
   "cell_type": "markdown",
   "metadata": {
    "slideshow": {
     "slide_type": "subslide"
    }
   },
   "source": [
    "The `get_countries()` method can be used to query the countries for which there is GeoEnrichment data. You get back a list of `Country` object. You can query the properties of each `Country` object. This list can also be viewed [here](https://developers.arcgis.com/rest/geoenrichment/api-reference/geoenrichment-coverage.htm)."
   ]
  },
  {
   "cell_type": "code",
   "execution_count": 1,
   "metadata": {},
   "outputs": [],
   "source": [
    "# Import Libraries\n",
    "from arcgis.gis import GIS\n",
    "from arcgis.geoenrichment import *"
   ]
  },
  {
   "cell_type": "code",
   "execution_count": 2,
   "metadata": {},
   "outputs": [],
   "source": [
    "# Create a GIS Connection\n",
    "gis = GIS(\"https://datascienceqa.esri.com/portal\", \"portaladmin\", \"esri.agp\", verify_cert=False)"
   ]
  },
  {
   "cell_type": "code",
   "execution_count": 14,
   "metadata": {
    "slideshow": {
     "slide_type": "fragment"
    }
   },
   "outputs": [
    {
     "name": "stdout",
     "output_type": "stream",
     "text": [
      "Number of countries for which GeoEnrichment data is available: 136\n"
     ]
    },
    {
     "data": {
      "text/plain": [
       "[<Country name:Albania>,\n",
       " <Country name:Algeria>,\n",
       " <Country name:Andorra>,\n",
       " <Country name:Angola>,\n",
       " <Country name:Argentina>,\n",
       " <Country name:Armenia>,\n",
       " <Country name:Aruba>,\n",
       " <Country name:Australia>,\n",
       " <Country name:Austria>,\n",
       " <Country name:Azerbaijan>]"
      ]
     },
     "execution_count": 14,
     "metadata": {},
     "output_type": "execute_result"
    }
   ],
   "source": [
    "countries = get_countries()\n",
    "print(\"Number of countries for which GeoEnrichment data is available: \" + str(len(countries)))\n",
    "\n",
    "#print a few countries for a sample\n",
    "countries[0:10]"
   ]
  },
  {
   "cell_type": "markdown",
   "metadata": {},
   "source": [
    "### Data Collections for U.S.\n",
    "\n",
    "The `data_collections` property of a `Country` object lists its available data collections and analysis variables under each data collection as a Pandas dataframe.\n",
    "\n",
    "The `Country` class can be used to discover the data collections for a country. When working with a particular country, you will find it convenient to get a reference to it using the `Country.get()` method."
   ]
  },
  {
   "cell_type": "code",
   "execution_count": 6,
   "metadata": {},
   "outputs": [
    {
     "data": {
      "text/plain": [
       "arcgis.geoenrichment.enrichment.Country"
      ]
     },
     "execution_count": 6,
     "metadata": {},
     "output_type": "execute_result"
    }
   ],
   "source": [
    "# Get US as a country\n",
    "usa = Country.get('US')\n",
    "type(usa)"
   ]
  },
  {
   "cell_type": "code",
   "execution_count": 19,
   "metadata": {},
   "outputs": [
    {
     "data": {
      "text/html": [
       "<div>\n",
       "<style scoped>\n",
       "    .dataframe tbody tr th:only-of-type {\n",
       "        vertical-align: middle;\n",
       "    }\n",
       "\n",
       "    .dataframe tbody tr th {\n",
       "        vertical-align: top;\n",
       "    }\n",
       "\n",
       "    .dataframe thead th {\n",
       "        text-align: right;\n",
       "    }\n",
       "</style>\n",
       "<table border=\"1\" class=\"dataframe\">\n",
       "  <thead>\n",
       "    <tr style=\"text-align: right;\">\n",
       "      <th></th>\n",
       "      <th>analysisVariable</th>\n",
       "      <th>alias</th>\n",
       "      <th>fieldCategory</th>\n",
       "      <th>vintage</th>\n",
       "    </tr>\n",
       "    <tr>\n",
       "      <th>dataCollectionID</th>\n",
       "      <th></th>\n",
       "      <th></th>\n",
       "      <th></th>\n",
       "      <th></th>\n",
       "    </tr>\n",
       "  </thead>\n",
       "  <tbody>\n",
       "    <tr>\n",
       "      <th>1yearincrements</th>\n",
       "      <td>1yearincrements.AGE0_CY</td>\n",
       "      <td>2020 Population Age &lt;1</td>\n",
       "      <td>2020 Age: 1 Year Increments (Esri)</td>\n",
       "      <td>2020</td>\n",
       "    </tr>\n",
       "    <tr>\n",
       "      <th>1yearincrements</th>\n",
       "      <td>1yearincrements.AGE1_CY</td>\n",
       "      <td>2020 Population Age 1</td>\n",
       "      <td>2020 Age: 1 Year Increments (Esri)</td>\n",
       "      <td>2020</td>\n",
       "    </tr>\n",
       "    <tr>\n",
       "      <th>1yearincrements</th>\n",
       "      <td>1yearincrements.AGE2_CY</td>\n",
       "      <td>2020 Population Age 2</td>\n",
       "      <td>2020 Age: 1 Year Increments (Esri)</td>\n",
       "      <td>2020</td>\n",
       "    </tr>\n",
       "    <tr>\n",
       "      <th>1yearincrements</th>\n",
       "      <td>1yearincrements.AGE3_CY</td>\n",
       "      <td>2020 Population Age 3</td>\n",
       "      <td>2020 Age: 1 Year Increments (Esri)</td>\n",
       "      <td>2020</td>\n",
       "    </tr>\n",
       "    <tr>\n",
       "      <th>1yearincrements</th>\n",
       "      <td>1yearincrements.AGE4_CY</td>\n",
       "      <td>2020 Population Age 4</td>\n",
       "      <td>2020 Age: 1 Year Increments (Esri)</td>\n",
       "      <td>2020</td>\n",
       "    </tr>\n",
       "  </tbody>\n",
       "</table>\n",
       "</div>"
      ],
      "text/plain": [
       "                         analysisVariable                   alias  \\\n",
       "dataCollectionID                                                    \n",
       "1yearincrements   1yearincrements.AGE0_CY  2020 Population Age <1   \n",
       "1yearincrements   1yearincrements.AGE1_CY   2020 Population Age 1   \n",
       "1yearincrements   1yearincrements.AGE2_CY   2020 Population Age 2   \n",
       "1yearincrements   1yearincrements.AGE3_CY   2020 Population Age 3   \n",
       "1yearincrements   1yearincrements.AGE4_CY   2020 Population Age 4   \n",
       "\n",
       "                                       fieldCategory vintage  \n",
       "dataCollectionID                                              \n",
       "1yearincrements   2020 Age: 1 Year Increments (Esri)    2020  \n",
       "1yearincrements   2020 Age: 1 Year Increments (Esri)    2020  \n",
       "1yearincrements   2020 Age: 1 Year Increments (Esri)    2020  \n",
       "1yearincrements   2020 Age: 1 Year Increments (Esri)    2020  \n",
       "1yearincrements   2020 Age: 1 Year Increments (Esri)    2020  "
      ]
     },
     "execution_count": 19,
     "metadata": {},
     "output_type": "execute_result"
    }
   ],
   "source": [
    "usa_df = usa.data_collections\n",
    "\n",
    "# print a few rows of the DataFrame\n",
    "usa_df.head()"
   ]
  },
  {
   "cell_type": "code",
   "execution_count": 20,
   "metadata": {},
   "outputs": [
    {
     "data": {
      "text/plain": [
       "(17608, 4)"
      ]
     },
     "execution_count": 20,
     "metadata": {},
     "output_type": "execute_result"
    }
   ],
   "source": [
    "usa_df.shape"
   ]
  },
  {
   "cell_type": "markdown",
   "metadata": {},
   "source": [
    "#### Unique Data Collections for U.S."
   ]
  },
  {
   "cell_type": "markdown",
   "metadata": {},
   "source": [
    "Each data collection and analysis variable has a unique ID. When calling the `enrich()` method (explained earlier in this guide) these analysis variables can be passed in the `data_collections` and `analysis_variables` parameters.\n",
    "\n",
    "As an example, here we see a subset of the data collections for US showing 2 different data collections and multiple analysis variables for each collection."
   ]
  },
  {
   "cell_type": "code",
   "execution_count": 13,
   "metadata": {},
   "outputs": [
    {
     "data": {
      "text/html": [
       "<div>\n",
       "<style scoped>\n",
       "    .dataframe tbody tr th:only-of-type {\n",
       "        vertical-align: middle;\n",
       "    }\n",
       "\n",
       "    .dataframe tbody tr th {\n",
       "        vertical-align: top;\n",
       "    }\n",
       "\n",
       "    .dataframe thead th {\n",
       "        text-align: right;\n",
       "    }\n",
       "</style>\n",
       "<table border=\"1\" class=\"dataframe\">\n",
       "  <thead>\n",
       "    <tr style=\"text-align: right;\">\n",
       "      <th></th>\n",
       "      <th>analysisVariable</th>\n",
       "      <th>alias</th>\n",
       "      <th>fieldCategory</th>\n",
       "      <th>vintage</th>\n",
       "    </tr>\n",
       "    <tr>\n",
       "      <th>dataCollectionID</th>\n",
       "      <th></th>\n",
       "      <th></th>\n",
       "      <th></th>\n",
       "      <th></th>\n",
       "    </tr>\n",
       "  </thead>\n",
       "  <tbody>\n",
       "    <tr>\n",
       "      <th>1yearincrements</th>\n",
       "      <td>1yearincrements.FAGE75_FY</td>\n",
       "      <td>2025 Females Age 75</td>\n",
       "      <td>2025 Age: 1 Year Increments (Esri)</td>\n",
       "      <td>2025</td>\n",
       "    </tr>\n",
       "    <tr>\n",
       "      <th>1yearincrements</th>\n",
       "      <td>1yearincrements.FAGE76_FY</td>\n",
       "      <td>2025 Females Age 76</td>\n",
       "      <td>2025 Age: 1 Year Increments (Esri)</td>\n",
       "      <td>2025</td>\n",
       "    </tr>\n",
       "    <tr>\n",
       "      <th>1yearincrements</th>\n",
       "      <td>1yearincrements.FAGE77_FY</td>\n",
       "      <td>2025 Females Age 77</td>\n",
       "      <td>2025 Age: 1 Year Increments (Esri)</td>\n",
       "      <td>2025</td>\n",
       "    </tr>\n",
       "    <tr>\n",
       "      <th>1yearincrements</th>\n",
       "      <td>1yearincrements.FAGE78_FY</td>\n",
       "      <td>2025 Females Age 78</td>\n",
       "      <td>2025 Age: 1 Year Increments (Esri)</td>\n",
       "      <td>2025</td>\n",
       "    </tr>\n",
       "    <tr>\n",
       "      <th>1yearincrements</th>\n",
       "      <td>1yearincrements.FAGE79_FY</td>\n",
       "      <td>2025 Females Age 79</td>\n",
       "      <td>2025 Age: 1 Year Increments (Esri)</td>\n",
       "      <td>2025</td>\n",
       "    </tr>\n",
       "    <tr>\n",
       "      <th>...</th>\n",
       "      <td>...</td>\n",
       "      <td>...</td>\n",
       "      <td>...</td>\n",
       "      <td>...</td>\n",
       "    </tr>\n",
       "    <tr>\n",
       "      <th>5yearincrements</th>\n",
       "      <td>5yearincrements.MEDAGE_CY</td>\n",
       "      <td>2020 Median Age</td>\n",
       "      <td>2020 Age: 5 Year Increments (Esri)</td>\n",
       "      <td>2020</td>\n",
       "    </tr>\n",
       "    <tr>\n",
       "      <th>5yearincrements</th>\n",
       "      <td>5yearincrements.MALES_CY</td>\n",
       "      <td>2020 Male Population</td>\n",
       "      <td>2020 Age: 5 Year Increments (Esri)</td>\n",
       "      <td>2020</td>\n",
       "    </tr>\n",
       "    <tr>\n",
       "      <th>5yearincrements</th>\n",
       "      <td>5yearincrements.MALE0_CY</td>\n",
       "      <td>2020 Males Age 0-4</td>\n",
       "      <td>2020 Age: 5 Year Increments (Esri)</td>\n",
       "      <td>2020</td>\n",
       "    </tr>\n",
       "    <tr>\n",
       "      <th>5yearincrements</th>\n",
       "      <td>5yearincrements.MALE5_CY</td>\n",
       "      <td>2020 Males Age 5-9</td>\n",
       "      <td>2020 Age: 5 Year Increments (Esri)</td>\n",
       "      <td>2020</td>\n",
       "    </tr>\n",
       "    <tr>\n",
       "      <th>5yearincrements</th>\n",
       "      <td>5yearincrements.MALE10_CY</td>\n",
       "      <td>2020 Males Age 10-14</td>\n",
       "      <td>2020 Age: 5 Year Increments (Esri)</td>\n",
       "      <td>2020</td>\n",
       "    </tr>\n",
       "  </tbody>\n",
       "</table>\n",
       "<p>100 rows × 4 columns</p>\n",
       "</div>"
      ],
      "text/plain": [
       "                           analysisVariable                 alias  \\\n",
       "dataCollectionID                                                    \n",
       "1yearincrements   1yearincrements.FAGE75_FY   2025 Females Age 75   \n",
       "1yearincrements   1yearincrements.FAGE76_FY   2025 Females Age 76   \n",
       "1yearincrements   1yearincrements.FAGE77_FY   2025 Females Age 77   \n",
       "1yearincrements   1yearincrements.FAGE78_FY   2025 Females Age 78   \n",
       "1yearincrements   1yearincrements.FAGE79_FY   2025 Females Age 79   \n",
       "...                                     ...                   ...   \n",
       "5yearincrements   5yearincrements.MEDAGE_CY       2020 Median Age   \n",
       "5yearincrements    5yearincrements.MALES_CY  2020 Male Population   \n",
       "5yearincrements    5yearincrements.MALE0_CY    2020 Males Age 0-4   \n",
       "5yearincrements    5yearincrements.MALE5_CY    2020 Males Age 5-9   \n",
       "5yearincrements   5yearincrements.MALE10_CY  2020 Males Age 10-14   \n",
       "\n",
       "                                       fieldCategory vintage  \n",
       "dataCollectionID                                              \n",
       "1yearincrements   2025 Age: 1 Year Increments (Esri)    2025  \n",
       "1yearincrements   2025 Age: 1 Year Increments (Esri)    2025  \n",
       "1yearincrements   2025 Age: 1 Year Increments (Esri)    2025  \n",
       "1yearincrements   2025 Age: 1 Year Increments (Esri)    2025  \n",
       "1yearincrements   2025 Age: 1 Year Increments (Esri)    2025  \n",
       "...                                              ...     ...  \n",
       "5yearincrements   2020 Age: 5 Year Increments (Esri)    2020  \n",
       "5yearincrements   2020 Age: 5 Year Increments (Esri)    2020  \n",
       "5yearincrements   2020 Age: 5 Year Increments (Esri)    2020  \n",
       "5yearincrements   2020 Age: 5 Year Increments (Esri)    2020  \n",
       "5yearincrements   2020 Age: 5 Year Increments (Esri)    2020  \n",
       "\n",
       "[100 rows x 4 columns]"
      ]
     },
     "execution_count": 13,
     "metadata": {},
     "output_type": "execute_result"
    }
   ],
   "source": [
    "usa_df.iloc[500:600,:]"
   ]
  },
  {
   "cell_type": "markdown",
   "metadata": {},
   "source": [
    "Let's get a list of unique data collections that are available for U.S. "
   ]
  },
  {
   "cell_type": "code",
   "execution_count": 82,
   "metadata": {},
   "outputs": [
    {
     "data": {
      "text/plain": [
       "['1yearincrements',\n",
       " '5yearincrements',\n",
       " 'ACS_Housing_Summary_rep',\n",
       " 'ACS_Population_Summary_rep',\n",
       " 'Age',\n",
       " 'AgeDependency',\n",
       " 'Age_50_Profile_rep',\n",
       " 'Age_by_Sex_Profile_rep',\n",
       " 'Age_by_Sex_by_Race_Profile_rep',\n",
       " 'AtRisk',\n",
       " 'AutomobilesAutomotiveProducts',\n",
       " 'Automotive_Aftermarket_Expenditures_rep',\n",
       " 'BabyProductsToysGames',\n",
       " 'Business_Summary_rep',\n",
       " 'CivicActivitiesPoliticalAffiliation',\n",
       " 'ClothingShoesAccessories',\n",
       " 'Community_Profile_rep',\n",
       " 'DaytimePopulation',\n",
       " 'Demographic_and_Income_Comparison_Profile_rep',\n",
       " 'Demographic_and_Income_Profile_rep',\n",
       " 'Disposable_Income_Profile_rep',\n",
       " 'ElectronicsInternet',\n",
       " 'Electronics_and_Internet_Market_Potential_rep',\n",
       " 'EmploymentUnemployment',\n",
       " 'Executive_Summary_rep',\n",
       " 'Finances_Market_Potential_rep',\n",
       " 'FinancialInsurance',\n",
       " 'Financial_Expenditures_rep',\n",
       " 'Generations',\n",
       " 'Graphic_Profile_rep',\n",
       " 'GroceryAlcoholicBeverages',\n",
       " 'Health',\n",
       " 'HealthPersonalCare',\n",
       " 'HealthPersonalCareCEX',\n",
       " 'Health_and_Beauty_Market_Potential_rep',\n",
       " 'HistoricalHouseholds',\n",
       " 'HistoricalHousing',\n",
       " 'HistoricalPopulation',\n",
       " 'HomeImprovementGardenLawn',\n",
       " 'House_and_Home_Expenditures_rep',\n",
       " 'HouseholdGoodsFurnitureAppliances',\n",
       " 'Household_Budget_Expenditures_rep',\n",
       " 'Household_Income_Profile_rep',\n",
       " 'HouseholdsByIncome',\n",
       " 'HousingHousehold',\n",
       " 'Housing_Profile_rep',\n",
       " 'Infrastructure',\n",
       " 'InternetComputerUsage',\n",
       " 'KeyGlobalFacts',\n",
       " 'KeyUSFacts',\n",
       " 'LandCover',\n",
       " 'LandscapeFacts',\n",
       " 'LeisureActivitiesLifestyle',\n",
       " 'LifeInsurancePensions',\n",
       " 'Market_Profile_rep',\n",
       " 'MediaMagazinesNewspapers',\n",
       " 'MediaRadioOtherAudio',\n",
       " 'MediaTVViewing',\n",
       " 'Medical_Expenditures_rep',\n",
       " 'Net_Worth_Profile_rep',\n",
       " 'OwnerRenter',\n",
       " 'PetsPetProducts',\n",
       " 'Pets_and_Products_Market_Potential_rep',\n",
       " 'PhonesYellowPages',\n",
       " 'Policy',\n",
       " 'PsychographicsAdvertising',\n",
       " 'PublicLands',\n",
       " 'RaceAndEthnicity',\n",
       " 'Recreation_Expenditures_rep',\n",
       " 'Restaurant_Market_Potential_rep',\n",
       " 'Retail_Goods_and_Services_Expenditures_rep',\n",
       " 'Retail_MarketPlace_Profile_rep',\n",
       " 'Retail_Market_Potential_rep',\n",
       " 'Soils',\n",
       " 'SpendingTotal',\n",
       " 'Sports_and_Leisure_Market_Potential_rep',\n",
       " 'TapestryHouseholdsProjections',\n",
       " 'TapestryNEW',\n",
       " 'Tapestry_Segmentation_Area_Profile_rep',\n",
       " 'TravelCEX',\n",
       " 'WaterWetlands',\n",
       " 'Wealth',\n",
       " '_2010_Census_Profile_rep',\n",
       " 'agebyracebysex',\n",
       " 'basicFactsForMobileApps',\n",
       " 'businesses',\n",
       " 'classofworker',\n",
       " 'clothing',\n",
       " 'commute',\n",
       " 'crime',\n",
       " 'disability',\n",
       " 'disposableincome',\n",
       " 'education',\n",
       " 'educationalattainment',\n",
       " 'employees',\n",
       " 'entertainment',\n",
       " 'financial',\n",
       " 'food',\n",
       " 'foodstampsSNAP',\n",
       " 'gender',\n",
       " 'groupquarters',\n",
       " 'healthinsurancecoverage',\n",
       " 'heatingfuel',\n",
       " 'hispanicorigin',\n",
       " 'homevalue',\n",
       " 'householdincome',\n",
       " 'households',\n",
       " 'householdsbyageofhouseholder',\n",
       " 'householdsbyraceofhouseholder',\n",
       " 'householdsbysize',\n",
       " 'householdtotals',\n",
       " 'householdtype',\n",
       " 'housingbyageofhouseholder',\n",
       " 'housingbyraceofhouseholder',\n",
       " 'housingbysize',\n",
       " 'housingcosts',\n",
       " 'housingunittotals',\n",
       " 'incomebyage',\n",
       " 'industry',\n",
       " 'industrybynaicscode',\n",
       " 'industrybysiccode',\n",
       " 'language',\n",
       " 'lifemodegroupsNEW',\n",
       " 'maritalstatustotals',\n",
       " 'miscellaneous',\n",
       " 'networth',\n",
       " 'occupation',\n",
       " 'population',\n",
       " 'populationtotals',\n",
       " 'presenceofchildren',\n",
       " 'raceandhispanicorigin',\n",
       " 'restaurants',\n",
       " 'retailmarketplace',\n",
       " 'sales',\n",
       " 'schoolenrollment',\n",
       " 'shopping',\n",
       " 'spendingFactsForMobileApps',\n",
       " 'sports',\n",
       " 'tapestryadultsNEW',\n",
       " 'tapestryhouseholdsNEW',\n",
       " 'transportation',\n",
       " 'travelMPI',\n",
       " 'unitsinstructure',\n",
       " 'urbanizationgroupsNEW',\n",
       " 'vacant',\n",
       " 'vehiclesavailable',\n",
       " 'veterans',\n",
       " 'women',\n",
       " 'yearbuilt',\n",
       " 'yearmovedin']"
      ]
     },
     "execution_count": 82,
     "metadata": {},
     "output_type": "execute_result"
    }
   ],
   "source": [
    "list(usa_df.index.unique())"
   ]
  },
  {
   "cell_type": "markdown",
   "metadata": {},
   "source": [
    "*United States has 150 unique data collections.*\n"
   ]
  },
  {
   "cell_type": "markdown",
   "metadata": {},
   "source": [
    "Looking at `fieldCategory` is a great way to clearly understand what the data collection is about. However, to query a data collection its unique ID (`dataCollectionID`) must be used.\n",
    "\n",
    "Let's look at the `fieldCategory` column for all data collections in US."
   ]
  },
  {
   "cell_type": "code",
   "execution_count": 47,
   "metadata": {},
   "outputs": [
    {
     "data": {
      "text/plain": [
       "array(['2020 Age: 1 Year Increments (Esri)',\n",
       "       '2025 Age: 1 Year Increments (Esri)',\n",
       "       '2010 Age: 1 Year Increments (U.S. Census)',\n",
       "       '2020 Age: 5 Year Increments (Esri)',\n",
       "       '2025 Age: 5 Year Increments (Esri)',\n",
       "       '2010 Age: 5 Year Increments (U.S. Census)',\n",
       "       '2014-2018 Key Demographic Indicators (ACS)',\n",
       "       '2014-2018 Mortgage Status (ACS)', '2014-2018 Contract Rent (ACS)',\n",
       "       '2014-2018 Year Householder Moved In (ACS)',\n",
       "       '2014-2018 Year Structure Built (ACS)',\n",
       "       '2014-2018 School Enrollment (ACS)',\n",
       "       '2014-2018 Language Spoken at Home (ACS)',\n",
       "       '2014-2018 Journey to Work (ACS)',\n",
       "       '2014-2018 Females by Age of Children and Employment Status (ACS)',\n",
       "       '2014-2018 Ratio of Income to Poverty (ACS)',\n",
       "       '2014-2018 Income (ACS)',\n",
       "       '2014-2018 Veteran Status and Military Service (ACS)',\n",
       "       '2014-2018 Disability Status (ACS)',\n",
       "       '2014-2018 Health Insurance Coverage (ACS)',\n",
       "       '2014-2018 Population 65+ by Relationship and Household Type (ACS)',\n",
       "       '2014-2018 Households by Type and Size and Age (ACS)',\n",
       "       '2014-2018 Gross Rent (ACS)', '2020 Age Dependency (Esri)',\n",
       "       '2025 Age Dependency (Esri)', '2020 Income by Age (Esri)',\n",
       "       '2025 Income by Age (Esri)',\n",
       "       '2020 Race and Hispanic Origin (Esri)',\n",
       "       '2025 Key Demographic Indicators (Esri)',\n",
       "       '2010 Population (U.S. Census)', '2010 Households (U.S. Census)',\n",
       "       '2014-2018 Poverty Status (ACS)',\n",
       "       '2014-2018 Population by Language Spoken at Home (ACS)',\n",
       "       '2014-2018 Household Income (ACS)',\n",
       "       '2014-2018 Households by Vehicles Available (ACS)',\n",
       "       '2014-2018 Vehicles Available (ACS)',\n",
       "       '2020 Tapestry Market Segmentation (Households)',\n",
       "       '2020 Key Demographic Indicators (Esri)', '2020 Income (Esri)',\n",
       "       '2020 Pets & Products (Market Potential)',\n",
       "       '2020 Automobiles & Other Vehicles (Market Potential)',\n",
       "       '2020 Phones & Service (Market Potential)',\n",
       "       '2020 Internet (Market Potential)',\n",
       "       '2020 Media - Magazines & Newspapers (Market Potential)',\n",
       "       '2020 Tapestry Market Segmentation (Adults)',\n",
       "       '2020 Automotive Products & Maintenance (Market Potential)',\n",
       "       '2020 Transportation - Local (Consumer Spending)',\n",
       "       '2020 Baby Products (Market Potential)',\n",
       "       '2020 Toys & Games (Market Potential)',\n",
       "       '2020 Civic Activities & Political Affiliation (Market Potential)',\n",
       "       '2020 Clothing & Accessories (Market Potential)',\n",
       "       '2020 Shoes (Market Potential)', '2020 Home Value (Esri)',\n",
       "       '2025 Race and Hispanic Origin (Esri)', '2025 Income (Esri)',\n",
       "       '2025 Home Value (Esri)',\n",
       "       '2010 Race and Hispanic Origin (U.S. Census)',\n",
       "       '2010 Housing (U.S. Census)', '2020 Educational Attainment (Esri)',\n",
       "       '2020 Marital Status (Esri)', '2020 Labor Force (Esri)',\n",
       "       '2020 Apparel (Consumer Spending)',\n",
       "       '2020 Education (Consumer Spending)',\n",
       "       '2020 Entertainment/Recreation (Consumer Spending)',\n",
       "       '2020 Health Care (Consumer Spending)',\n",
       "       '2020 Household Goods (Consumer Spending)',\n",
       "       '2020 Housing (Consumer Spending)',\n",
       "       '2020 Miscellaneous Expenses (Consumer Spending)',\n",
       "       '2020 Personal Care (Consumer Spending)',\n",
       "       '2020 Total Expenditures (Consumer Spending)',\n",
       "       '2020 Travel (Consumer Spending)',\n",
       "       '2020 Daytime Population (Esri)', nan,\n",
       "       '2020 Disposable Income by Age (Esri)',\n",
       "       '2020 Electronics (Market Potential)',\n",
       "       '2020 Finances (Market Potential)',\n",
       "       '2020 Insurance (Market Potential)',\n",
       "       '2020 Financial (Consumer Spending)',\n",
       "       '2020 Population by Generation (Esri)',\n",
       "       '2025 Population by Generation (Esri)',\n",
       "       '2020 Beverage Consumption (Alcohol) (Market Potential)',\n",
       "       '2020 Groceries (Market Potential)',\n",
       "       '2020 Grocery Shopping (Market Potential)',\n",
       "       '2025 Health Care (Consumer Spending)',\n",
       "       '2020 Business Summary by SIC', '2020 Health (Market Potential)',\n",
       "       '2020 Personal Care Products & Services (Market Potential)',\n",
       "       '2020 Smoking (Market Potential)',\n",
       "       '2025 Personal Care (Consumer Spending)',\n",
       "       '2020 Household Time Series (Esri)',\n",
       "       '2020 Housing Unit Time Series (Esri)',\n",
       "       '2020 Population Time Series (Esri)',\n",
       "       '2020 Garden/Lawn & Tools (Market Potential)',\n",
       "       '2020 Home Improvement & Services (Market Potential)',\n",
       "       '2020 Shopping (Market Potential)',\n",
       "       '2020 Household Services (Consumer Spending)',\n",
       "       '2020 Household Furnishings & Appliances (Market Potential)',\n",
       "       '2020 Household Products (Market Potential)',\n",
       "       '2020 Alcoholic Beverages (Consumer Spending)',\n",
       "       '2020 Life Insurance/Pensions (Consumer Spending)',\n",
       "       '2025 Housing (Consumer Spending)',\n",
       "       '2025 Household Services (Consumer Spending)',\n",
       "       '2025 Household Goods (Consumer Spending)',\n",
       "       'Landscape Analyst Variables',\n",
       "       '2014-2018 Computer and Internet Service (ACS)',\n",
       "       'Key Demographic Indicators', 'Age: 5 Year Increments',\n",
       "       '2000 Data in 2010 Geography (U.S. Census)',\n",
       "       '2020 Books & Cards (Market Potential)',\n",
       "       '2020 Leisure Activities/Lifestyle (Market Potential)',\n",
       "       '2025 Life Insurance/Pensions (Consumer Spending)',\n",
       "       '2020 Media - Radio & Other Audio (Market Potential)',\n",
       "       '2020 Media - TV Viewing (Market Potential)',\n",
       "       '2020 Net Worth (Esri)', '2020 Net Worth by Age (Esri)',\n",
       "       '2020 Media - Yellow Pages (Market Potential)',\n",
       "       '2020 Population (Esri)',\n",
       "       '2020 Psychographics & Advertising (Market Potential)',\n",
       "       '2020 Restaurants (Market Potential)',\n",
       "       '2020 Food at Home - Bakery Products (Consumer Spending)',\n",
       "       '2020 Food at Home - Dairy/Fruit/Vegs (Consumer Spending)',\n",
       "       '2020 Food at Home - Meat/Poultry/Fish/Eggs (Consumer Spending)',\n",
       "       '2020 Food at Home - Nonalcoholic Bev (Consumer Spending)',\n",
       "       '2020 Food at Home - Snacks/Other (Consumer Spending)',\n",
       "       '2020 Disposable Income (Esri)',\n",
       "       '2025 Total Expenditures (Consumer Spending)',\n",
       "       '2025 Tapestry Market Segmentation (Households)',\n",
       "       '2025 Travel (Consumer Spending)',\n",
       "       '2010 Average Household Size (U.S. Census)',\n",
       "       '2010 Households by Size (U.S. Census)',\n",
       "       '2010 Households by Age of Householder (U.S. Census)',\n",
       "       '2010 Households by Race/Hispanic Origin (U.S. Census)',\n",
       "       '2010 Housing by Race/Hispanic Origin (U.S. Census)',\n",
       "       '2010 Vacant Housing Units (U.S. Census)',\n",
       "       '2010 Age by Sex by Race (U.S. Census)',\n",
       "       '2025 Age by Sex by Race (Esri)', '2020 Age by Sex by Race (Esri)',\n",
       "       '2019 Tapestry Market Segmentation (Households)',\n",
       "       '2019 Key Demographic Indicators (Esri)',\n",
       "       '2019 Age: 5 Year Increments (Esri)',\n",
       "       '2019 Key Mobile Facts (Esri)', '2019 Income (Esri)',\n",
       "       '2019 Labor Force by Industry (Esri)',\n",
       "       '2020 Business Summary by NAICS',\n",
       "       '2014-2018 Class of Worker (ACS)',\n",
       "       '2025 Apparel (Consumer Spending)', '2020 Crime Indexes (AGS)',\n",
       "       '2020 Crime Aggregates', '2020 Other (Esri)',\n",
       "       '2025 Education (Consumer Spending)',\n",
       "       '2025 Entertainment/Recreation (Consumer Spending)',\n",
       "       '2025 Financial (Consumer Spending)',\n",
       "       '2025 Miscellaneous Expenses (Consumer Spending)',\n",
       "       '2020 Dining Out (Consumer Spending)',\n",
       "       '2025 Alcoholic Beverages (Consumer Spending)',\n",
       "       '2025 Dining Out (Consumer Spending)',\n",
       "       '2025 Food at Home - Bakery Products (Consumer Spending)',\n",
       "       '2025 Food at Home - Dairy/Fruit/Vegs (Consumer Spending)',\n",
       "       '2025 Food at Home - Meat/Poultry/Fish/Eggs (Consumer Spending)',\n",
       "       '2025 Food at Home - Nonalcoholic Bev (Consumer Spending)',\n",
       "       '2025 Food at Home - Snacks/Other (Consumer Spending)',\n",
       "       '2010 Group Quarters Population (U.S. Census)',\n",
       "       '2014-2018 Heating Fuel (ACS)',\n",
       "       '2010 Housing by Size (U.S. Census)',\n",
       "       '2010 Households by Type (U.S. Census)',\n",
       "       '2010 Population by Relationship and Household Type (U.S. Census)',\n",
       "       '2010 Housing by Age of Householder (U.S. Census)',\n",
       "       '2010 Households by Type and Children (U.S. Census)',\n",
       "       '2017 Retail MarketPlace',\n",
       "       '2020 Convenience Stores (Market Potential)',\n",
       "       '2020 Key Mobile Spending Facts (Esri)',\n",
       "       '2020 Sports (Market Potential)',\n",
       "       '2025 Transportation - Local (Consumer Spending)',\n",
       "       '2020 Travel (Market Potential)',\n",
       "       '2014-2018 Housing Units in Structure (ACS)'], dtype=object)"
      ]
     },
     "execution_count": 47,
     "metadata": {},
     "output_type": "execute_result"
    }
   ],
   "source": [
    "usa_df.fieldCategory.unique()"
   ]
  },
  {
   "cell_type": "markdown",
   "metadata": {},
   "source": [
    "#### Data Collections by Socio-demographic Factors"
   ]
  },
  {
   "cell_type": "markdown",
   "metadata": {},
   "source": [
    "You can filter the `data_collections` to get collections for a specific factor using Pandas expressions. Let's loook at data collections for different `socio-demographic factors` such as `Age, Population, Income`."
   ]
  },
  {
   "cell_type": "markdown",
   "metadata": {},
   "source": [
    "__Data Collections for Age__"
   ]
  },
  {
   "cell_type": "code",
   "execution_count": 104,
   "metadata": {},
   "outputs": [
    {
     "data": {
      "text/plain": [
       "array(['2019 Age: 1 Year Increments (Esri)',\n",
       "       '2024 Age: 1 Year Increments (Esri)',\n",
       "       '2010 Age: 1 Year Increments (U.S. Census)',\n",
       "       '2019 Age: 5 Year Increments (Esri)',\n",
       "       '2024 Age: 5 Year Increments (Esri)',\n",
       "       '2010 Age: 5 Year Increments (U.S. Census)',\n",
       "       '2014-2018 Females by Age of Children and Employment Status (ACS)',\n",
       "       '2014-2018 Households by Type and Size and Age (ACS)',\n",
       "       '2019 Age Dependency (Esri)', '2024 Age Dependency (Esri)',\n",
       "       '2019 Income by Age (Esri)', '2024 Income by Age (Esri)',\n",
       "       '2019 Disposable Income by Age (Esri)', 'Age: 5 Year Increments',\n",
       "       '2019 Net Worth by Age (Esri)',\n",
       "       '2010 Households by Age of Householder (U.S. Census)',\n",
       "       '2010 Age by Sex by Race (U.S. Census)',\n",
       "       '2024 Age by Sex by Race (Esri)', '2019 Age by Sex by Race (Esri)',\n",
       "       '2010 Housing by Age of Householder (U.S. Census)'], dtype=object)"
      ]
     },
     "execution_count": 104,
     "metadata": {},
     "output_type": "execute_result"
    }
   ],
   "source": [
    "Age_Collections = usa_df['fieldCategory'].str.contains('Age', na=False)\n",
    "usa_df[Age_Collections].fieldCategory.unique()"
   ]
  },
  {
   "cell_type": "markdown",
   "metadata": {},
   "source": [
    "__Data Collections for Population__"
   ]
  },
  {
   "cell_type": "code",
   "execution_count": 106,
   "metadata": {},
   "outputs": [
    {
     "data": {
      "text/plain": [
       "array(['2014-2018 Population 65+ by Relationship and Household Type (ACS)',\n",
       "       '2010 Population (U.S. Census)',\n",
       "       '2014-2018 Population by Language Spoken at Home (ACS)',\n",
       "       '2019 Daytime Population (Esri)',\n",
       "       '2019 Population by Generation (Esri)',\n",
       "       '2024 Population by Generation (Esri)',\n",
       "       '2019 Population Time Series (Esri)', '2019 Population (Esri)',\n",
       "       '2010 Group Quarters Population (U.S. Census)',\n",
       "       '2010 Population by Relationship and Household Type (U.S. Census)'],\n",
       "      dtype=object)"
      ]
     },
     "execution_count": 106,
     "metadata": {},
     "output_type": "execute_result"
    }
   ],
   "source": [
    "Pop_Collections = usa_df['fieldCategory'].str.contains('Population', na=False)\n",
    "usa_df[Pop_Collections].fieldCategory.unique()"
   ]
  },
  {
   "cell_type": "markdown",
   "metadata": {},
   "source": [
    "__Data Collections for Income__"
   ]
  },
  {
   "cell_type": "code",
   "execution_count": 28,
   "metadata": {},
   "outputs": [
    {
     "data": {
      "text/plain": [
       "Index(['1yearincrements', '5yearincrements', 'ACS_Housing_Summary_rep',\n",
       "       'ACS_Population_Summary_rep', 'Age', 'AgeDependency',\n",
       "       'Age_50_Profile_rep', 'Age_by_Sex_Profile_rep',\n",
       "       'Age_by_Sex_by_Race_Profile_rep', 'AtRisk',\n",
       "       ...\n",
       "       'transportation', 'travelMPI', 'unitsinstructure',\n",
       "       'urbanizationgroupsNEW', 'vacant', 'vehiclesavailable', 'veterans',\n",
       "       'women', 'yearbuilt', 'yearmovedin'],\n",
       "      dtype='object', name='dataCollectionID', length=150)"
      ]
     },
     "execution_count": 28,
     "metadata": {},
     "output_type": "execute_result"
    }
   ],
   "source": [
    "Income_Collections = usa_df['fieldCategory'].str.contains('Income', na=False)\n",
    "Income_Collections.index.unique()"
   ]
  },
  {
   "cell_type": "markdown",
   "metadata": {},
   "source": [
    "As mentioned earlier, using a `data_collections` unique ID (`dataCollectionID`) is the best way to further query a data collection. Let's look at the `dataCollectionID` for various Income data collections."
   ]
  },
  {
   "cell_type": "code",
   "execution_count": 21,
   "metadata": {},
   "outputs": [
    {
     "data": {
      "text/plain": [
       "Index(['ACS_Population_Summary_rep', 'Age_50_Profile_rep', 'AtRisk',\n",
       "       'Community_Profile_rep',\n",
       "       'Demographic_and_Income_Comparison_Profile_rep',\n",
       "       'Demographic_and_Income_Profile_rep', 'Disposable_Income_Profile_rep',\n",
       "       'Graphic_Profile_rep', 'Health', 'Household_Income_Profile_rep',\n",
       "       'KeyUSFacts', 'Market_Profile_rep', 'Policy',\n",
       "       'Retail_MarketPlace_Profile_rep', 'Wealth', 'basicFactsForMobileApps',\n",
       "       'disposableincome', 'foodstampsSNAP', 'householdincome', 'households',\n",
       "       'incomebyage', 'population'],\n",
       "      dtype='object', name='dataCollectionID')"
      ]
     },
     "execution_count": 21,
     "metadata": {},
     "output_type": "execute_result"
    }
   ],
   "source": [
    "usa_df[Income_Collections].index.unique()"
   ]
  },
  {
   "cell_type": "markdown",
   "metadata": {},
   "source": [
    "#### Analysis variables for Data Collections\n",
    "Once we know the data collection we would like to use, we can look at all the unique variables available in that data collection using its unique ID. Let's discover `analysisVariables` for some of the data collections."
   ]
  },
  {
   "cell_type": "markdown",
   "metadata": {},
   "source": [
    "__Analysis variables for `Age` data collection__"
   ]
  },
  {
   "cell_type": "code",
   "execution_count": 22,
   "metadata": {},
   "outputs": [
    {
     "data": {
      "text/plain": [
       "array(['Age.MALE0', 'Age.MALE5', 'Age.MALE10', 'Age.MALE15', 'Age.MALE20',\n",
       "       'Age.MALE25', 'Age.MALE30', 'Age.MALE35', 'Age.MALE40',\n",
       "       'Age.MALE45', 'Age.MALE50', 'Age.MALE55', 'Age.MALE60',\n",
       "       'Age.MALE65', 'Age.MALE70', 'Age.MALE75', 'Age.MALE80',\n",
       "       'Age.MALE85', 'Age.FEM0', 'Age.FEM5', 'Age.FEM10', 'Age.FEM15',\n",
       "       'Age.FEM20', 'Age.FEM25', 'Age.FEM30', 'Age.FEM35', 'Age.FEM40',\n",
       "       'Age.FEM45', 'Age.FEM50', 'Age.FEM55', 'Age.FEM60', 'Age.FEM65',\n",
       "       'Age.FEM70', 'Age.FEM75', 'Age.FEM80', 'Age.FEM85'], dtype=object)"
      ]
     },
     "execution_count": 22,
     "metadata": {},
     "output_type": "execute_result"
    }
   ],
   "source": [
    "usa_df.loc['Age']['analysisVariable'].unique()"
   ]
  },
  {
   "cell_type": "markdown",
   "metadata": {},
   "source": [
    "__Analysis variables for `Age_by_Sex_by_Race_Profile_rep` data collection__"
   ]
  },
  {
   "cell_type": "code",
   "execution_count": 27,
   "metadata": {},
   "outputs": [
    {
     "data": {
      "text/plain": [
       "array(['Age_by_Sex_by_Race_Profile_rep.MEDMAGE_CY',\n",
       "       'Age_by_Sex_by_Race_Profile_rep.MEDFAGE_CY',\n",
       "       'Age_by_Sex_by_Race_Profile_rep.TOTPOP_FY',\n",
       "       'Age_by_Sex_by_Race_Profile_rep.TOTHH_FY',\n",
       "       'Age_by_Sex_by_Race_Profile_rep.POPGRWCYFY',\n",
       "       'Age_by_Sex_by_Race_Profile_rep.HHGRWCYFY',\n",
       "       'Age_by_Sex_by_Race_Profile_rep.MEDAGE_FY',\n",
       "       'Age_by_Sex_by_Race_Profile_rep.MEDMAGE_FY',\n",
       "       'Age_by_Sex_by_Race_Profile_rep.MEDFAGE_FY',\n",
       "       'Age_by_Sex_by_Race_Profile_rep.TOTPOP10',\n",
       "       'Age_by_Sex_by_Race_Profile_rep.MEDAGE10',\n",
       "       'Age_by_Sex_by_Race_Profile_rep.MEDMAGE10',\n",
       "       'Age_by_Sex_by_Race_Profile_rep.MEDFAGE10',\n",
       "       'Age_by_Sex_by_Race_Profile_rep.TOTHH10'], dtype=object)"
      ]
     },
     "execution_count": 27,
     "metadata": {},
     "output_type": "execute_result"
    }
   ],
   "source": [
    "usa_df.loc['Age_by_Sex_by_Race_Profile_rep']['analysisVariable'].unique()"
   ]
  },
  {
   "cell_type": "markdown",
   "metadata": {},
   "source": [
    "__Analysis variables for `DaytimePopulation` data collection__"
   ]
  },
  {
   "cell_type": "code",
   "execution_count": 33,
   "metadata": {},
   "outputs": [
    {
     "data": {
      "text/plain": [
       "array(['DaytimePopulation.DPOP_CY', 'DaytimePopulation.DPOPWRK_CY',\n",
       "       'DaytimePopulation.DPOPRES_CY', 'DaytimePopulation.DPOPDENSCY'],\n",
       "      dtype=object)"
      ]
     },
     "execution_count": 33,
     "metadata": {},
     "output_type": "execute_result"
    }
   ],
   "source": [
    "usa_df.loc['DaytimePopulation']['analysisVariable'].unique()"
   ]
  },
  {
   "cell_type": "markdown",
   "metadata": {},
   "source": [
    "### Data Collections for Another Country"
   ]
  },
  {
   "cell_type": "markdown",
   "metadata": {},
   "source": [
    "Let's look at data collections for New Zealand.\n",
    "\n",
    "The `Country` class can be used to discover the data collections for a country. When working with a particular country, you will find it convenient to get a reference to it using the `Country.get()` method."
   ]
  },
  {
   "cell_type": "code",
   "execution_count": 59,
   "metadata": {},
   "outputs": [
    {
     "data": {
      "text/plain": [
       "arcgis.geoenrichment.enrichment.Country"
      ]
     },
     "execution_count": 59,
     "metadata": {},
     "output_type": "execute_result"
    }
   ],
   "source": [
    "# Get US as a country\n",
    "nz = Country.get('New Zealand')\n",
    "type(nz)"
   ]
  },
  {
   "cell_type": "code",
   "execution_count": 60,
   "metadata": {},
   "outputs": [
    {
     "data": {
      "text/html": [
       "<div>\n",
       "<style scoped>\n",
       "    .dataframe tbody tr th:only-of-type {\n",
       "        vertical-align: middle;\n",
       "    }\n",
       "\n",
       "    .dataframe tbody tr th {\n",
       "        vertical-align: top;\n",
       "    }\n",
       "\n",
       "    .dataframe thead th {\n",
       "        text-align: right;\n",
       "    }\n",
       "</style>\n",
       "<table border=\"1\" class=\"dataframe\">\n",
       "  <thead>\n",
       "    <tr style=\"text-align: right;\">\n",
       "      <th></th>\n",
       "      <th>analysisVariable</th>\n",
       "      <th>alias</th>\n",
       "      <th>fieldCategory</th>\n",
       "      <th>vintage</th>\n",
       "    </tr>\n",
       "    <tr>\n",
       "      <th>dataCollectionID</th>\n",
       "      <th></th>\n",
       "      <th></th>\n",
       "      <th></th>\n",
       "      <th></th>\n",
       "    </tr>\n",
       "  </thead>\n",
       "  <tbody>\n",
       "    <tr>\n",
       "      <th>15YearIncrements</th>\n",
       "      <td>15YearIncrements.PAGE01_CY</td>\n",
       "      <td>2018 Total Population Age 0-14</td>\n",
       "      <td>2018 Population Totals (MBR)</td>\n",
       "      <td>2018</td>\n",
       "    </tr>\n",
       "    <tr>\n",
       "      <th>15YearIncrements</th>\n",
       "      <td>15YearIncrements.PAGE02_CY</td>\n",
       "      <td>2018 Total Population Age 15-29</td>\n",
       "      <td>2018 Population Totals (MBR)</td>\n",
       "      <td>2018</td>\n",
       "    </tr>\n",
       "    <tr>\n",
       "      <th>15YearIncrements</th>\n",
       "      <td>15YearIncrements.PAGE03_CY</td>\n",
       "      <td>2018 Total Population Age 30-44</td>\n",
       "      <td>2018 Population Totals (MBR)</td>\n",
       "      <td>2018</td>\n",
       "    </tr>\n",
       "    <tr>\n",
       "      <th>15YearIncrements</th>\n",
       "      <td>15YearIncrements.PAGE04_CY</td>\n",
       "      <td>2018 Total Population Age 45-59</td>\n",
       "      <td>2018 Population Totals (MBR)</td>\n",
       "      <td>2018</td>\n",
       "    </tr>\n",
       "    <tr>\n",
       "      <th>15YearIncrements</th>\n",
       "      <td>15YearIncrements.PAGE05_CY</td>\n",
       "      <td>2018 Total Population Age 60+</td>\n",
       "      <td>2018 Population Totals (MBR)</td>\n",
       "      <td>2018</td>\n",
       "    </tr>\n",
       "  </tbody>\n",
       "</table>\n",
       "</div>"
      ],
      "text/plain": [
       "                            analysisVariable                            alias  \\\n",
       "dataCollectionID                                                                \n",
       "15YearIncrements  15YearIncrements.PAGE01_CY   2018 Total Population Age 0-14   \n",
       "15YearIncrements  15YearIncrements.PAGE02_CY  2018 Total Population Age 15-29   \n",
       "15YearIncrements  15YearIncrements.PAGE03_CY  2018 Total Population Age 30-44   \n",
       "15YearIncrements  15YearIncrements.PAGE04_CY  2018 Total Population Age 45-59   \n",
       "15YearIncrements  15YearIncrements.PAGE05_CY    2018 Total Population Age 60+   \n",
       "\n",
       "                                 fieldCategory vintage  \n",
       "dataCollectionID                                        \n",
       "15YearIncrements  2018 Population Totals (MBR)    2018  \n",
       "15YearIncrements  2018 Population Totals (MBR)    2018  \n",
       "15YearIncrements  2018 Population Totals (MBR)    2018  \n",
       "15YearIncrements  2018 Population Totals (MBR)    2018  \n",
       "15YearIncrements  2018 Population Totals (MBR)    2018  "
      ]
     },
     "execution_count": 60,
     "metadata": {},
     "output_type": "execute_result"
    }
   ],
   "source": [
    "nz_df = nz.data_collections\n",
    "\n",
    "# print a few rows of the DataFrame\n",
    "nz_df.head()"
   ]
  },
  {
   "cell_type": "code",
   "execution_count": 61,
   "metadata": {},
   "outputs": [
    {
     "data": {
      "text/plain": [
       "(191, 4)"
      ]
     },
     "execution_count": 61,
     "metadata": {},
     "output_type": "execute_result"
    }
   ],
   "source": [
    "nz_df.shape"
   ]
  },
  {
   "cell_type": "markdown",
   "metadata": {},
   "source": [
    "#### Unique Data Collections for New Zealand"
   ]
  },
  {
   "cell_type": "markdown",
   "metadata": {},
   "source": [
    "Let's get a list of unique data collections that are available for New Zealand"
   ]
  },
  {
   "cell_type": "code",
   "execution_count": 62,
   "metadata": {},
   "outputs": [
    {
     "data": {
      "text/plain": [
       "Index(['15YearIncrements', 'EducationalAttainment', 'Gender',\n",
       "       'HouseholdTotals', 'HouseholdsbyIncome', 'HouseholdsbyType', 'KeyFacts',\n",
       "       'KeyGlobalFacts', 'MaritalStatus', 'PopulationTotals',\n",
       "       'PurchasingPower', 'Spending'],\n",
       "      dtype='object', name='dataCollectionID')"
      ]
     },
     "execution_count": 62,
     "metadata": {},
     "output_type": "execute_result"
    }
   ],
   "source": [
    "nz_df.index.unique()"
   ]
  },
  {
   "cell_type": "markdown",
   "metadata": {},
   "source": [
    "New Zealand has 12 unique data collections.\n",
    "\n",
    "We can look at the `fieldCategory` column to understand each category better."
   ]
  },
  {
   "cell_type": "code",
   "execution_count": 49,
   "metadata": {},
   "outputs": [
    {
     "data": {
      "text/plain": [
       "array(['2018 Population Totals (MBR)',\n",
       "       '2018 Male Population Totals (MBR)',\n",
       "       '2018 Female Population Totals (MBR)',\n",
       "       '2018 Educational Attainment (MBR)', '2018 Household Totals (MBR)',\n",
       "       '2018 Households by Income (MBR)', '2018 Households by Type (MBR)',\n",
       "       '2018 Marital Status (MBR)', '2018 Purchasing Power (MBR)',\n",
       "       'Key Demographic Indicators', 'Age: 5 Year Increments',\n",
       "       '2018 Food & Beverage Expenditures (MBR)',\n",
       "       '2018 Alcoholic Beverage Expenditures (MBR)',\n",
       "       '2018 Tobacco Expenditures (MBR)',\n",
       "       '2018 Clothing Expenditures (MBR)',\n",
       "       '2018 Footwear Expenditures (MBR)',\n",
       "       '2018 Furniture & Furnishing Expenditures (MBR)',\n",
       "       '2018 Household Textiles Expenditures (MBR)',\n",
       "       '2018 Household Appliances Expenditures (MBR)',\n",
       "       '2018 Household Utensils Expenditures (MBR)',\n",
       "       '2018 House & Garden Expenditures (MBR)',\n",
       "       '2018 Household Maintenance Expenditures (MBR)',\n",
       "       '2018 Medical Products & Supplies Expenditures (MBR)',\n",
       "       '2018 Consumer Electronics Expenditures (MBR)',\n",
       "       '2018 Recreation & Culture Durable Expenditures (MBR)',\n",
       "       '2018 Entertainment Expenditures (MBR)',\n",
       "       '2018 Recreational & Cultural Service Expenditures (MBR)',\n",
       "       '2018 Books & Stationery Expenditures (MBR)',\n",
       "       '2018 Catering Services Expenditures (MBR)',\n",
       "       '2018 Personal Care Expenditures (MBR)',\n",
       "       '2018 Jewelry & Personal Effects Expenditures (MBR)'], dtype=object)"
      ]
     },
     "execution_count": 49,
     "metadata": {},
     "output_type": "execute_result"
    }
   ],
   "source": [
    "nz_df.fieldCategory.unique()"
   ]
  },
  {
   "cell_type": "markdown",
   "metadata": {},
   "source": [
    "Looking at `fieldCategory` is a great way to clearly understand what the data collection is about. However, to query a data collection its unique ID (`dataCollectionID`) must be used."
   ]
  },
  {
   "cell_type": "markdown",
   "metadata": {},
   "source": [
    "#### Data Collections for Socio-demographic Factors"
   ]
  },
  {
   "cell_type": "markdown",
   "metadata": {},
   "source": [
    "New Zealand has fewer `data_collections` compared to U.S. Let's loook at data collections for `Key Facts, Education and Spending`."
   ]
  },
  {
   "cell_type": "markdown",
   "metadata": {},
   "source": [
    "__Data Collection for Key Facts__"
   ]
  },
  {
   "cell_type": "code",
   "execution_count": 66,
   "metadata": {},
   "outputs": [
    {
     "data": {
      "text/html": [
       "<div>\n",
       "<style scoped>\n",
       "    .dataframe tbody tr th:only-of-type {\n",
       "        vertical-align: middle;\n",
       "    }\n",
       "\n",
       "    .dataframe tbody tr th {\n",
       "        vertical-align: top;\n",
       "    }\n",
       "\n",
       "    .dataframe thead th {\n",
       "        text-align: right;\n",
       "    }\n",
       "</style>\n",
       "<table border=\"1\" class=\"dataframe\">\n",
       "  <thead>\n",
       "    <tr style=\"text-align: right;\">\n",
       "      <th></th>\n",
       "      <th>analysisVariable</th>\n",
       "      <th>alias</th>\n",
       "      <th>fieldCategory</th>\n",
       "      <th>vintage</th>\n",
       "    </tr>\n",
       "    <tr>\n",
       "      <th>dataCollectionID</th>\n",
       "      <th></th>\n",
       "      <th></th>\n",
       "      <th></th>\n",
       "      <th></th>\n",
       "    </tr>\n",
       "  </thead>\n",
       "  <tbody>\n",
       "    <tr>\n",
       "      <th>KeyGlobalFacts</th>\n",
       "      <td>KeyGlobalFacts.TOTPOP</td>\n",
       "      <td>Total Population</td>\n",
       "      <td>Key Demographic Indicators</td>\n",
       "      <td>NaN</td>\n",
       "    </tr>\n",
       "    <tr>\n",
       "      <th>KeyGlobalFacts</th>\n",
       "      <td>KeyGlobalFacts.TOTHH</td>\n",
       "      <td>Total Households</td>\n",
       "      <td>Key Demographic Indicators</td>\n",
       "      <td>NaN</td>\n",
       "    </tr>\n",
       "    <tr>\n",
       "      <th>KeyGlobalFacts</th>\n",
       "      <td>KeyGlobalFacts.AVGHHSZ</td>\n",
       "      <td>Average Household Size</td>\n",
       "      <td>Key Demographic Indicators</td>\n",
       "      <td>NaN</td>\n",
       "    </tr>\n",
       "    <tr>\n",
       "      <th>KeyGlobalFacts</th>\n",
       "      <td>KeyGlobalFacts.TOTMALES</td>\n",
       "      <td>Male Population</td>\n",
       "      <td>Age: 5 Year Increments</td>\n",
       "      <td>NaN</td>\n",
       "    </tr>\n",
       "    <tr>\n",
       "      <th>KeyGlobalFacts</th>\n",
       "      <td>KeyGlobalFacts.TOTFEMALES</td>\n",
       "      <td>Female Population</td>\n",
       "      <td>Age: 5 Year Increments</td>\n",
       "      <td>NaN</td>\n",
       "    </tr>\n",
       "  </tbody>\n",
       "</table>\n",
       "</div>"
      ],
      "text/plain": [
       "                           analysisVariable                   alias  \\\n",
       "dataCollectionID                                                      \n",
       "KeyGlobalFacts        KeyGlobalFacts.TOTPOP        Total Population   \n",
       "KeyGlobalFacts         KeyGlobalFacts.TOTHH        Total Households   \n",
       "KeyGlobalFacts       KeyGlobalFacts.AVGHHSZ  Average Household Size   \n",
       "KeyGlobalFacts      KeyGlobalFacts.TOTMALES         Male Population   \n",
       "KeyGlobalFacts    KeyGlobalFacts.TOTFEMALES       Female Population   \n",
       "\n",
       "                               fieldCategory vintage  \n",
       "dataCollectionID                                      \n",
       "KeyGlobalFacts    Key Demographic Indicators     NaN  \n",
       "KeyGlobalFacts    Key Demographic Indicators     NaN  \n",
       "KeyGlobalFacts    Key Demographic Indicators     NaN  \n",
       "KeyGlobalFacts        Age: 5 Year Increments     NaN  \n",
       "KeyGlobalFacts        Age: 5 Year Increments     NaN  "
      ]
     },
     "execution_count": 66,
     "metadata": {},
     "output_type": "execute_result"
    }
   ],
   "source": [
    "nz_df.loc['KeyGlobalFacts']"
   ]
  },
  {
   "cell_type": "markdown",
   "metadata": {},
   "source": [
    "__Data Collection for Education__"
   ]
  },
  {
   "cell_type": "code",
   "execution_count": 67,
   "metadata": {},
   "outputs": [
    {
     "data": {
      "text/html": [
       "<div>\n",
       "<style scoped>\n",
       "    .dataframe tbody tr th:only-of-type {\n",
       "        vertical-align: middle;\n",
       "    }\n",
       "\n",
       "    .dataframe tbody tr th {\n",
       "        vertical-align: top;\n",
       "    }\n",
       "\n",
       "    .dataframe thead th {\n",
       "        text-align: right;\n",
       "    }\n",
       "</style>\n",
       "<table border=\"1\" class=\"dataframe\">\n",
       "  <thead>\n",
       "    <tr style=\"text-align: right;\">\n",
       "      <th></th>\n",
       "      <th>analysisVariable</th>\n",
       "      <th>alias</th>\n",
       "      <th>fieldCategory</th>\n",
       "      <th>vintage</th>\n",
       "    </tr>\n",
       "    <tr>\n",
       "      <th>dataCollectionID</th>\n",
       "      <th></th>\n",
       "      <th></th>\n",
       "      <th></th>\n",
       "      <th></th>\n",
       "    </tr>\n",
       "  </thead>\n",
       "  <tbody>\n",
       "    <tr>\n",
       "      <th>EducationalAttainment</th>\n",
       "      <td>EducationalAttainment.EDUC01A_CY</td>\n",
       "      <td>2018 Pop 15+/Edu: No Qualification</td>\n",
       "      <td>2018 Educational Attainment (MBR)</td>\n",
       "      <td>2018</td>\n",
       "    </tr>\n",
       "    <tr>\n",
       "      <th>EducationalAttainment</th>\n",
       "      <td>EducationalAttainment.EDUC02A_CY</td>\n",
       "      <td>2018 Pop 15+/Edu: Level 1</td>\n",
       "      <td>2018 Educational Attainment (MBR)</td>\n",
       "      <td>2018</td>\n",
       "    </tr>\n",
       "    <tr>\n",
       "      <th>EducationalAttainment</th>\n",
       "      <td>EducationalAttainment.EDUC03A_CY</td>\n",
       "      <td>2018 Pop 15+/Edu: Level 2</td>\n",
       "      <td>2018 Educational Attainment (MBR)</td>\n",
       "      <td>2018</td>\n",
       "    </tr>\n",
       "    <tr>\n",
       "      <th>EducationalAttainment</th>\n",
       "      <td>EducationalAttainment.EDUC04A_CY</td>\n",
       "      <td>2018 Pop 15+/Edu: Level 3</td>\n",
       "      <td>2018 Educational Attainment (MBR)</td>\n",
       "      <td>2018</td>\n",
       "    </tr>\n",
       "    <tr>\n",
       "      <th>EducationalAttainment</th>\n",
       "      <td>EducationalAttainment.EDUC05A_CY</td>\n",
       "      <td>2018 Pop 15+/Edu: Level 4</td>\n",
       "      <td>2018 Educational Attainment (MBR)</td>\n",
       "      <td>2018</td>\n",
       "    </tr>\n",
       "    <tr>\n",
       "      <th>EducationalAttainment</th>\n",
       "      <td>EducationalAttainment.EDUC06A_CY</td>\n",
       "      <td>2018 Pop 15+/Edu: Level 5 or 6</td>\n",
       "      <td>2018 Educational Attainment (MBR)</td>\n",
       "      <td>2018</td>\n",
       "    </tr>\n",
       "    <tr>\n",
       "      <th>EducationalAttainment</th>\n",
       "      <td>EducationalAttainment.EDUC07_CY</td>\n",
       "      <td>2018 Pop 15+/Edu: Bachelor or Level 7</td>\n",
       "      <td>2018 Educational Attainment (MBR)</td>\n",
       "      <td>2018</td>\n",
       "    </tr>\n",
       "    <tr>\n",
       "      <th>EducationalAttainment</th>\n",
       "      <td>EducationalAttainment.EDUC08_CY</td>\n",
       "      <td>2018 Pop 15+/Edu: Postgrad/Honors</td>\n",
       "      <td>2018 Educational Attainment (MBR)</td>\n",
       "      <td>2018</td>\n",
       "    </tr>\n",
       "    <tr>\n",
       "      <th>EducationalAttainment</th>\n",
       "      <td>EducationalAttainment.EDUC09_CY</td>\n",
       "      <td>2018 Pop 15+/Edu: Master's</td>\n",
       "      <td>2018 Educational Attainment (MBR)</td>\n",
       "      <td>2018</td>\n",
       "    </tr>\n",
       "    <tr>\n",
       "      <th>EducationalAttainment</th>\n",
       "      <td>EducationalAttainment.EDUC10_CY</td>\n",
       "      <td>2018 Pop 15+/Edu: Doctorate</td>\n",
       "      <td>2018 Educational Attainment (MBR)</td>\n",
       "      <td>2018</td>\n",
       "    </tr>\n",
       "    <tr>\n",
       "      <th>EducationalAttainment</th>\n",
       "      <td>EducationalAttainment.EDUC11_CY</td>\n",
       "      <td>2018 Pop 15+/Edu: Overseas Secondary</td>\n",
       "      <td>2018 Educational Attainment (MBR)</td>\n",
       "      <td>2018</td>\n",
       "    </tr>\n",
       "    <tr>\n",
       "      <th>EducationalAttainment</th>\n",
       "      <td>EducationalAttainment.EDUC12_CY</td>\n",
       "      <td>2018 Pop 15+/Edu: Not Elsewhere included</td>\n",
       "      <td>2018 Educational Attainment (MBR)</td>\n",
       "      <td>2018</td>\n",
       "    </tr>\n",
       "  </tbody>\n",
       "</table>\n",
       "</div>"
      ],
      "text/plain": [
       "                                       analysisVariable  \\\n",
       "dataCollectionID                                          \n",
       "EducationalAttainment  EducationalAttainment.EDUC01A_CY   \n",
       "EducationalAttainment  EducationalAttainment.EDUC02A_CY   \n",
       "EducationalAttainment  EducationalAttainment.EDUC03A_CY   \n",
       "EducationalAttainment  EducationalAttainment.EDUC04A_CY   \n",
       "EducationalAttainment  EducationalAttainment.EDUC05A_CY   \n",
       "EducationalAttainment  EducationalAttainment.EDUC06A_CY   \n",
       "EducationalAttainment   EducationalAttainment.EDUC07_CY   \n",
       "EducationalAttainment   EducationalAttainment.EDUC08_CY   \n",
       "EducationalAttainment   EducationalAttainment.EDUC09_CY   \n",
       "EducationalAttainment   EducationalAttainment.EDUC10_CY   \n",
       "EducationalAttainment   EducationalAttainment.EDUC11_CY   \n",
       "EducationalAttainment   EducationalAttainment.EDUC12_CY   \n",
       "\n",
       "                                                          alias  \\\n",
       "dataCollectionID                                                  \n",
       "EducationalAttainment        2018 Pop 15+/Edu: No Qualification   \n",
       "EducationalAttainment                 2018 Pop 15+/Edu: Level 1   \n",
       "EducationalAttainment                 2018 Pop 15+/Edu: Level 2   \n",
       "EducationalAttainment                 2018 Pop 15+/Edu: Level 3   \n",
       "EducationalAttainment                 2018 Pop 15+/Edu: Level 4   \n",
       "EducationalAttainment            2018 Pop 15+/Edu: Level 5 or 6   \n",
       "EducationalAttainment     2018 Pop 15+/Edu: Bachelor or Level 7   \n",
       "EducationalAttainment         2018 Pop 15+/Edu: Postgrad/Honors   \n",
       "EducationalAttainment                2018 Pop 15+/Edu: Master's   \n",
       "EducationalAttainment               2018 Pop 15+/Edu: Doctorate   \n",
       "EducationalAttainment      2018 Pop 15+/Edu: Overseas Secondary   \n",
       "EducationalAttainment  2018 Pop 15+/Edu: Not Elsewhere included   \n",
       "\n",
       "                                           fieldCategory vintage  \n",
       "dataCollectionID                                                  \n",
       "EducationalAttainment  2018 Educational Attainment (MBR)    2018  \n",
       "EducationalAttainment  2018 Educational Attainment (MBR)    2018  \n",
       "EducationalAttainment  2018 Educational Attainment (MBR)    2018  \n",
       "EducationalAttainment  2018 Educational Attainment (MBR)    2018  \n",
       "EducationalAttainment  2018 Educational Attainment (MBR)    2018  \n",
       "EducationalAttainment  2018 Educational Attainment (MBR)    2018  \n",
       "EducationalAttainment  2018 Educational Attainment (MBR)    2018  \n",
       "EducationalAttainment  2018 Educational Attainment (MBR)    2018  \n",
       "EducationalAttainment  2018 Educational Attainment (MBR)    2018  \n",
       "EducationalAttainment  2018 Educational Attainment (MBR)    2018  \n",
       "EducationalAttainment  2018 Educational Attainment (MBR)    2018  \n",
       "EducationalAttainment  2018 Educational Attainment (MBR)    2018  "
      ]
     },
     "execution_count": 67,
     "metadata": {},
     "output_type": "execute_result"
    }
   ],
   "source": [
    "nz_df.loc['EducationalAttainment']"
   ]
  },
  {
   "cell_type": "markdown",
   "metadata": {},
   "source": [
    "__Data Collection for Spending__"
   ]
  },
  {
   "cell_type": "code",
   "execution_count": 68,
   "metadata": {},
   "outputs": [
    {
     "data": {
      "text/html": [
       "<div>\n",
       "<style scoped>\n",
       "    .dataframe tbody tr th:only-of-type {\n",
       "        vertical-align: middle;\n",
       "    }\n",
       "\n",
       "    .dataframe tbody tr th {\n",
       "        vertical-align: top;\n",
       "    }\n",
       "\n",
       "    .dataframe thead th {\n",
       "        text-align: right;\n",
       "    }\n",
       "</style>\n",
       "<table border=\"1\" class=\"dataframe\">\n",
       "  <thead>\n",
       "    <tr style=\"text-align: right;\">\n",
       "      <th></th>\n",
       "      <th>analysisVariable</th>\n",
       "      <th>alias</th>\n",
       "      <th>fieldCategory</th>\n",
       "      <th>vintage</th>\n",
       "    </tr>\n",
       "    <tr>\n",
       "      <th>dataCollectionID</th>\n",
       "      <th></th>\n",
       "      <th></th>\n",
       "      <th></th>\n",
       "      <th></th>\n",
       "    </tr>\n",
       "  </thead>\n",
       "  <tbody>\n",
       "    <tr>\n",
       "      <th>Spending</th>\n",
       "      <td>Spending.CS01_CY</td>\n",
       "      <td>2018 Food &amp; Beverage: Total</td>\n",
       "      <td>2018 Food &amp; Beverage Expenditures (MBR)</td>\n",
       "      <td>2018</td>\n",
       "    </tr>\n",
       "    <tr>\n",
       "      <th>Spending</th>\n",
       "      <td>Spending.CS01PRM_CY</td>\n",
       "      <td>2018 Food &amp; Beverage: Per Mill</td>\n",
       "      <td>2018 Food &amp; Beverage Expenditures (MBR)</td>\n",
       "      <td>2018</td>\n",
       "    </tr>\n",
       "    <tr>\n",
       "      <th>Spending</th>\n",
       "      <td>Spending.CSPC01_CY</td>\n",
       "      <td>2018 Food &amp; Beverage: Per Capita</td>\n",
       "      <td>2018 Food &amp; Beverage Expenditures (MBR)</td>\n",
       "      <td>2018</td>\n",
       "    </tr>\n",
       "    <tr>\n",
       "      <th>Spending</th>\n",
       "      <td>Spending.CS01IDX_CY</td>\n",
       "      <td>2018 Food &amp; Beverage: Index</td>\n",
       "      <td>2018 Food &amp; Beverage Expenditures (MBR)</td>\n",
       "      <td>2018</td>\n",
       "    </tr>\n",
       "    <tr>\n",
       "      <th>Spending</th>\n",
       "      <td>Spending.CS02_CY</td>\n",
       "      <td>2018 Alcoholic Beverage: Total</td>\n",
       "      <td>2018 Alcoholic Beverage Expenditures (MBR)</td>\n",
       "      <td>2018</td>\n",
       "    </tr>\n",
       "    <tr>\n",
       "      <th>...</th>\n",
       "      <td>...</td>\n",
       "      <td>...</td>\n",
       "      <td>...</td>\n",
       "      <td>...</td>\n",
       "    </tr>\n",
       "    <tr>\n",
       "      <th>Spending</th>\n",
       "      <td>Spending.CS19IDX_CY</td>\n",
       "      <td>2018 Personal Care: Index</td>\n",
       "      <td>2018 Personal Care Expenditures (MBR)</td>\n",
       "      <td>2018</td>\n",
       "    </tr>\n",
       "    <tr>\n",
       "      <th>Spending</th>\n",
       "      <td>Spending.CS20_CY</td>\n",
       "      <td>2018 Personal Effects: Total</td>\n",
       "      <td>2018 Jewelry &amp; Personal Effects Expenditures (...</td>\n",
       "      <td>2018</td>\n",
       "    </tr>\n",
       "    <tr>\n",
       "      <th>Spending</th>\n",
       "      <td>Spending.CS20PRM_CY</td>\n",
       "      <td>2018 Personal Effects: Per Mill</td>\n",
       "      <td>2018 Jewelry &amp; Personal Effects Expenditures (...</td>\n",
       "      <td>2018</td>\n",
       "    </tr>\n",
       "    <tr>\n",
       "      <th>Spending</th>\n",
       "      <td>Spending.CSPC20_CY</td>\n",
       "      <td>2018 Personal Effects: Per Capita</td>\n",
       "      <td>2018 Jewelry &amp; Personal Effects Expenditures (...</td>\n",
       "      <td>2018</td>\n",
       "    </tr>\n",
       "    <tr>\n",
       "      <th>Spending</th>\n",
       "      <td>Spending.CS20IDX_CY</td>\n",
       "      <td>2018 Personal Effects: Index</td>\n",
       "      <td>2018 Jewelry &amp; Personal Effects Expenditures (...</td>\n",
       "      <td>2018</td>\n",
       "    </tr>\n",
       "  </tbody>\n",
       "</table>\n",
       "<p>80 rows × 4 columns</p>\n",
       "</div>"
      ],
      "text/plain": [
       "                     analysisVariable                              alias  \\\n",
       "dataCollectionID                                                           \n",
       "Spending             Spending.CS01_CY        2018 Food & Beverage: Total   \n",
       "Spending          Spending.CS01PRM_CY     2018 Food & Beverage: Per Mill   \n",
       "Spending           Spending.CSPC01_CY   2018 Food & Beverage: Per Capita   \n",
       "Spending          Spending.CS01IDX_CY        2018 Food & Beverage: Index   \n",
       "Spending             Spending.CS02_CY     2018 Alcoholic Beverage: Total   \n",
       "...                               ...                                ...   \n",
       "Spending          Spending.CS19IDX_CY          2018 Personal Care: Index   \n",
       "Spending             Spending.CS20_CY       2018 Personal Effects: Total   \n",
       "Spending          Spending.CS20PRM_CY    2018 Personal Effects: Per Mill   \n",
       "Spending           Spending.CSPC20_CY  2018 Personal Effects: Per Capita   \n",
       "Spending          Spending.CS20IDX_CY       2018 Personal Effects: Index   \n",
       "\n",
       "                                                      fieldCategory vintage  \n",
       "dataCollectionID                                                             \n",
       "Spending                    2018 Food & Beverage Expenditures (MBR)    2018  \n",
       "Spending                    2018 Food & Beverage Expenditures (MBR)    2018  \n",
       "Spending                    2018 Food & Beverage Expenditures (MBR)    2018  \n",
       "Spending                    2018 Food & Beverage Expenditures (MBR)    2018  \n",
       "Spending                 2018 Alcoholic Beverage Expenditures (MBR)    2018  \n",
       "...                                                             ...     ...  \n",
       "Spending                      2018 Personal Care Expenditures (MBR)    2018  \n",
       "Spending          2018 Jewelry & Personal Effects Expenditures (...    2018  \n",
       "Spending          2018 Jewelry & Personal Effects Expenditures (...    2018  \n",
       "Spending          2018 Jewelry & Personal Effects Expenditures (...    2018  \n",
       "Spending          2018 Jewelry & Personal Effects Expenditures (...    2018  \n",
       "\n",
       "[80 rows x 4 columns]"
      ]
     },
     "execution_count": 68,
     "metadata": {},
     "output_type": "execute_result"
    }
   ],
   "source": [
    "nz_df.loc['Spending']"
   ]
  },
  {
   "cell_type": "markdown",
   "metadata": {},
   "source": [
    "#### Analysis variables for Data Collections\n",
    "Once we know the data collection we would like to use, we can look at all the unique variables available in that data collection using its unique ID. Let's discover `analysisVariables` for some of the data collections we looked at earlier."
   ]
  },
  {
   "cell_type": "markdown",
   "metadata": {},
   "source": [
    "__Analysis variables for `KeyGlobalFacts` data collection__"
   ]
  },
  {
   "cell_type": "code",
   "execution_count": 70,
   "metadata": {},
   "outputs": [
    {
     "data": {
      "text/plain": [
       "array(['KeyGlobalFacts.TOTPOP', 'KeyGlobalFacts.TOTHH',\n",
       "       'KeyGlobalFacts.AVGHHSZ', 'KeyGlobalFacts.TOTMALES',\n",
       "       'KeyGlobalFacts.TOTFEMALES'], dtype=object)"
      ]
     },
     "execution_count": 70,
     "metadata": {},
     "output_type": "execute_result"
    }
   ],
   "source": [
    "nz_df.loc['KeyGlobalFacts']['analysisVariable'].unique()"
   ]
  },
  {
   "cell_type": "markdown",
   "metadata": {},
   "source": [
    "__Analysis variables for `EducationalAttainment` data collection__"
   ]
  },
  {
   "cell_type": "code",
   "execution_count": 71,
   "metadata": {},
   "outputs": [
    {
     "data": {
      "text/plain": [
       "array(['EducationalAttainment.EDUC01A_CY',\n",
       "       'EducationalAttainment.EDUC02A_CY',\n",
       "       'EducationalAttainment.EDUC03A_CY',\n",
       "       'EducationalAttainment.EDUC04A_CY',\n",
       "       'EducationalAttainment.EDUC05A_CY',\n",
       "       'EducationalAttainment.EDUC06A_CY',\n",
       "       'EducationalAttainment.EDUC07_CY',\n",
       "       'EducationalAttainment.EDUC08_CY',\n",
       "       'EducationalAttainment.EDUC09_CY',\n",
       "       'EducationalAttainment.EDUC10_CY',\n",
       "       'EducationalAttainment.EDUC11_CY',\n",
       "       'EducationalAttainment.EDUC12_CY'], dtype=object)"
      ]
     },
     "execution_count": 71,
     "metadata": {},
     "output_type": "execute_result"
    }
   ],
   "source": [
    "nz_df.loc['EducationalAttainment']['analysisVariable'].unique()"
   ]
  },
  {
   "cell_type": "markdown",
   "metadata": {},
   "source": [
    "__Analysis variables for `Spending` data collection__"
   ]
  },
  {
   "cell_type": "code",
   "execution_count": 72,
   "metadata": {},
   "outputs": [
    {
     "data": {
      "text/plain": [
       "array(['Spending.CS01_CY', 'Spending.CS01PRM_CY', 'Spending.CSPC01_CY',\n",
       "       'Spending.CS01IDX_CY', 'Spending.CS02_CY', 'Spending.CS02PRM_CY',\n",
       "       'Spending.CSPC02_CY', 'Spending.CS02IDX_CY', 'Spending.CS03_CY',\n",
       "       'Spending.CS03PRM_CY', 'Spending.CSPC03_CY', 'Spending.CS03IDX_CY',\n",
       "       'Spending.CS04_CY', 'Spending.CS04PRM_CY', 'Spending.CSPC04_CY',\n",
       "       'Spending.CS04IDX_CY', 'Spending.CS05_CY', 'Spending.CS05PRM_CY',\n",
       "       'Spending.CSPC05_CY', 'Spending.CS05IDX_CY', 'Spending.CS06_CY',\n",
       "       'Spending.CS06PRM_CY', 'Spending.CSPC06_CY', 'Spending.CS06IDX_CY',\n",
       "       'Spending.CS07_CY', 'Spending.CS07PRM_CY', 'Spending.CSPC07_CY',\n",
       "       'Spending.CS07IDX_CY', 'Spending.CS08_CY', 'Spending.CS08PRM_CY',\n",
       "       'Spending.CSPC08_CY', 'Spending.CS08IDX_CY', 'Spending.CS09_CY',\n",
       "       'Spending.CS09PRM_CY', 'Spending.CSPC09_CY', 'Spending.CS09IDX_CY',\n",
       "       'Spending.CS10_CY', 'Spending.CS10PRM_CY', 'Spending.CSPC10_CY',\n",
       "       'Spending.CS10IDX_CY', 'Spending.CS11_CY', 'Spending.CS11PRM_CY',\n",
       "       'Spending.CSPC11_CY', 'Spending.CS11IDX_CY', 'Spending.CS12_CY',\n",
       "       'Spending.CS12PRM_CY', 'Spending.CSPC12_CY', 'Spending.CS12IDX_CY',\n",
       "       'Spending.CS13_CY', 'Spending.CS13PRM_CY', 'Spending.CSPC13_CY',\n",
       "       'Spending.CS13IDX_CY', 'Spending.CS14_CY', 'Spending.CS14PRM_CY',\n",
       "       'Spending.CSPC14_CY', 'Spending.CS14IDX_CY', 'Spending.CS15_CY',\n",
       "       'Spending.CS15PRM_CY', 'Spending.CSPC15_CY', 'Spending.CS15IDX_CY',\n",
       "       'Spending.CS16_CY', 'Spending.CS16PRM_CY', 'Spending.CSPC16_CY',\n",
       "       'Spending.CS16IDX_CY', 'Spending.CS17_CY', 'Spending.CS17PRM_CY',\n",
       "       'Spending.CSPC17_CY', 'Spending.CS17IDX_CY', 'Spending.CS18_CY',\n",
       "       'Spending.CS18PRM_CY', 'Spending.CSPC18_CY', 'Spending.CS18IDX_CY',\n",
       "       'Spending.CS19_CY', 'Spending.CS19PRM_CY', 'Spending.CSPC19_CY',\n",
       "       'Spending.CS19IDX_CY', 'Spending.CS20_CY', 'Spending.CS20PRM_CY',\n",
       "       'Spending.CSPC20_CY', 'Spending.CS20IDX_CY'], dtype=object)"
      ]
     },
     "execution_count": 72,
     "metadata": {},
     "output_type": "execute_result"
    }
   ],
   "source": [
    "nz_df.loc['Spending']['analysisVariable'].unique()"
   ]
  },
  {
   "cell_type": "markdown",
   "metadata": {},
   "source": [
    "### Perform Enrichment using Data Collections and Analysis Variables"
   ]
  },
  {
   "cell_type": "markdown",
   "metadata": {},
   "source": [
    "Data Collections can be used to enrich various study areas. `data_collections` and `analysis_variables`  can be passed in the `enrich()` method. Details about enriching study areas can be found in `Enriching Study Areas` section. \n",
    "\n",
    "Let's look at a few similar examples of GeoEnrichment here."
   ]
  },
  {
   "cell_type": "markdown",
   "metadata": {},
   "source": [
    "#### Enrich using Data Collections"
   ]
  },
  {
   "cell_type": "markdown",
   "metadata": {},
   "source": [
    "__Enrich with `Age` data collection__\n",
    "\n",
    "Here we see an address being enriched by data from `Age` data collection."
   ]
  },
  {
   "cell_type": "code",
   "execution_count": 73,
   "metadata": {},
   "outputs": [],
   "source": [
    "# Enriching single address as single line imput\n",
    "age_coll = enrich(study_areas=[\"380 New York St Redlands CA 92373\"], \n",
    "                       data_collections=['Age'])"
   ]
  },
  {
   "cell_type": "code",
   "execution_count": 75,
   "metadata": {},
   "outputs": [
    {
     "data": {
      "text/html": [
       "<div>\n",
       "<style scoped>\n",
       "    .dataframe tbody tr th:only-of-type {\n",
       "        vertical-align: middle;\n",
       "    }\n",
       "\n",
       "    .dataframe tbody tr th {\n",
       "        vertical-align: top;\n",
       "    }\n",
       "\n",
       "    .dataframe thead th {\n",
       "        text-align: right;\n",
       "    }\n",
       "</style>\n",
       "<table border=\"1\" class=\"dataframe\">\n",
       "  <thead>\n",
       "    <tr style=\"text-align: right;\">\n",
       "      <th></th>\n",
       "      <th>ID</th>\n",
       "      <th>OBJECTID</th>\n",
       "      <th>sourceCountry</th>\n",
       "      <th>X</th>\n",
       "      <th>Y</th>\n",
       "      <th>areaType</th>\n",
       "      <th>bufferUnits</th>\n",
       "      <th>bufferUnitsAlias</th>\n",
       "      <th>bufferRadii</th>\n",
       "      <th>aggregationMethod</th>\n",
       "      <th>...</th>\n",
       "      <th>FEM45</th>\n",
       "      <th>FEM50</th>\n",
       "      <th>FEM55</th>\n",
       "      <th>FEM60</th>\n",
       "      <th>FEM65</th>\n",
       "      <th>FEM70</th>\n",
       "      <th>FEM75</th>\n",
       "      <th>FEM80</th>\n",
       "      <th>FEM85</th>\n",
       "      <th>SHAPE</th>\n",
       "    </tr>\n",
       "  </thead>\n",
       "  <tbody>\n",
       "    <tr>\n",
       "      <th>0</th>\n",
       "      <td>0</td>\n",
       "      <td>1</td>\n",
       "      <td>US</td>\n",
       "      <td>-117.194872</td>\n",
       "      <td>34.057237</td>\n",
       "      <td>RingBuffer</td>\n",
       "      <td>esriMiles</td>\n",
       "      <td>Miles</td>\n",
       "      <td>1</td>\n",
       "      <td>BlockApportionment:US.BlockGroups</td>\n",
       "      <td>...</td>\n",
       "      <td>376</td>\n",
       "      <td>398</td>\n",
       "      <td>374</td>\n",
       "      <td>340</td>\n",
       "      <td>310</td>\n",
       "      <td>262</td>\n",
       "      <td>153</td>\n",
       "      <td>98</td>\n",
       "      <td>129</td>\n",
       "      <td>{\"rings\": [[[-117.19487199429183, 34.071745616...</td>\n",
       "    </tr>\n",
       "  </tbody>\n",
       "</table>\n",
       "<p>1 rows × 50 columns</p>\n",
       "</div>"
      ],
      "text/plain": [
       "  ID  OBJECTID sourceCountry           X          Y    areaType bufferUnits  \\\n",
       "0  0         1            US -117.194872  34.057237  RingBuffer   esriMiles   \n",
       "\n",
       "  bufferUnitsAlias  bufferRadii                  aggregationMethod  ...  \\\n",
       "0            Miles            1  BlockApportionment:US.BlockGroups  ...   \n",
       "\n",
       "   FEM45  FEM50  FEM55  FEM60  FEM65  FEM70  FEM75  FEM80  FEM85  \\\n",
       "0    376    398    374    340    310    262    153     98    129   \n",
       "\n",
       "                                               SHAPE  \n",
       "0  {\"rings\": [[[-117.19487199429183, 34.071745616...  \n",
       "\n",
       "[1 rows x 50 columns]"
      ]
     },
     "execution_count": 75,
     "metadata": {},
     "output_type": "execute_result"
    }
   ],
   "source": [
    "age_coll"
   ]
  },
  {
   "cell_type": "code",
   "execution_count": 76,
   "metadata": {},
   "outputs": [
    {
     "data": {
      "text/plain": [
       "Index(['ID', 'OBJECTID', 'sourceCountry', 'X', 'Y', 'areaType', 'bufferUnits',\n",
       "       'bufferUnitsAlias', 'bufferRadii', 'aggregationMethod',\n",
       "       'populationToPolygonSizeRating', 'apportionmentConfidence', 'HasData',\n",
       "       'MALE0', 'MALE5', 'MALE10', 'MALE15', 'MALE20', 'MALE25', 'MALE30',\n",
       "       'MALE35', 'MALE40', 'MALE45', 'MALE50', 'MALE55', 'MALE60', 'MALE65',\n",
       "       'MALE70', 'MALE75', 'MALE80', 'MALE85', 'FEM0', 'FEM5', 'FEM10',\n",
       "       'FEM15', 'FEM20', 'FEM25', 'FEM30', 'FEM35', 'FEM40', 'FEM45', 'FEM50',\n",
       "       'FEM55', 'FEM60', 'FEM65', 'FEM70', 'FEM75', 'FEM80', 'FEM85', 'SHAPE'],\n",
       "      dtype='object')"
      ]
     },
     "execution_count": 76,
     "metadata": {},
     "output_type": "execute_result"
    }
   ],
   "source": [
    "age_coll.columns"
   ]
  },
  {
   "cell_type": "markdown",
   "metadata": {},
   "source": [
    "__Enrich with `Health` data collection__\n",
    "\n",
    "Here we see a zip code being enriched by data from Health data collection."
   ]
  },
  {
   "cell_type": "code",
   "execution_count": 78,
   "metadata": {},
   "outputs": [],
   "source": [
    "redlands = usa.subgeographies.states['California'].zip5['92373']"
   ]
  },
  {
   "cell_type": "code",
   "execution_count": 83,
   "metadata": {},
   "outputs": [],
   "source": [
    "redlands_df = enrich(study_areas=[redlands], data_collections=['Health'] )"
   ]
  },
  {
   "cell_type": "code",
   "execution_count": 84,
   "metadata": {},
   "outputs": [
    {
     "data": {
      "text/html": [
       "<div>\n",
       "<style scoped>\n",
       "    .dataframe tbody tr th:only-of-type {\n",
       "        vertical-align: middle;\n",
       "    }\n",
       "\n",
       "    .dataframe tbody tr th {\n",
       "        vertical-align: top;\n",
       "    }\n",
       "\n",
       "    .dataframe thead th {\n",
       "        text-align: right;\n",
       "    }\n",
       "</style>\n",
       "<table border=\"1\" class=\"dataframe\">\n",
       "  <thead>\n",
       "    <tr style=\"text-align: right;\">\n",
       "      <th></th>\n",
       "      <th>ID</th>\n",
       "      <th>OBJECTID</th>\n",
       "      <th>StdGeographyLevel</th>\n",
       "      <th>StdGeographyName</th>\n",
       "      <th>StdGeographyID</th>\n",
       "      <th>sourceCountry</th>\n",
       "      <th>aggregationMethod</th>\n",
       "      <th>populationToPolygonSizeRating</th>\n",
       "      <th>apportionmentConfidence</th>\n",
       "      <th>HasData</th>\n",
       "      <th>...</th>\n",
       "      <th>POP85_CY</th>\n",
       "      <th>POP18UP_CY</th>\n",
       "      <th>POP21UP_CY</th>\n",
       "      <th>MEDAGE_CY</th>\n",
       "      <th>HHU18C10</th>\n",
       "      <th>MEDHINC_CY</th>\n",
       "      <th>S27_BUS</th>\n",
       "      <th>S27_SALES</th>\n",
       "      <th>S27_EMP</th>\n",
       "      <th>SHAPE</th>\n",
       "    </tr>\n",
       "  </thead>\n",
       "  <tbody>\n",
       "    <tr>\n",
       "      <th>0</th>\n",
       "      <td>0</td>\n",
       "      <td>1</td>\n",
       "      <td>US.ZIP5</td>\n",
       "      <td>Redlands</td>\n",
       "      <td>92373</td>\n",
       "      <td>US</td>\n",
       "      <td>Query:US.ZIP5</td>\n",
       "      <td>2.191</td>\n",
       "      <td>2.576</td>\n",
       "      <td>1</td>\n",
       "      <td>...</td>\n",
       "      <td>1081</td>\n",
       "      <td>27277</td>\n",
       "      <td>26168</td>\n",
       "      <td>41.1</td>\n",
       "      <td>3942</td>\n",
       "      <td>83577</td>\n",
       "      <td>193</td>\n",
       "      <td>298594</td>\n",
       "      <td>4020</td>\n",
       "      <td>{\"rings\": [[[-117.13603999963594, 34.032169999...</td>\n",
       "    </tr>\n",
       "  </tbody>\n",
       "</table>\n",
       "<p>1 rows × 434 columns</p>\n",
       "</div>"
      ],
      "text/plain": [
       "  ID  OBJECTID StdGeographyLevel StdGeographyName StdGeographyID  \\\n",
       "0  0         1           US.ZIP5         Redlands          92373   \n",
       "\n",
       "  sourceCountry aggregationMethod  populationToPolygonSizeRating  \\\n",
       "0            US     Query:US.ZIP5                          2.191   \n",
       "\n",
       "   apportionmentConfidence  HasData  ...  POP85_CY  POP18UP_CY  POP21UP_CY  \\\n",
       "0                    2.576        1  ...      1081       27277       26168   \n",
       "\n",
       "   MEDAGE_CY  HHU18C10  MEDHINC_CY  S27_BUS  S27_SALES  S27_EMP  \\\n",
       "0       41.1      3942       83577      193     298594     4020   \n",
       "\n",
       "                                               SHAPE  \n",
       "0  {\"rings\": [[[-117.13603999963594, 34.032169999...  \n",
       "\n",
       "[1 rows x 434 columns]"
      ]
     },
     "execution_count": 84,
     "metadata": {},
     "output_type": "execute_result"
    }
   ],
   "source": [
    "redlands_df"
   ]
  },
  {
   "cell_type": "code",
   "execution_count": 85,
   "metadata": {},
   "outputs": [
    {
     "data": {
      "text/plain": [
       "Index(['ID', 'OBJECTID', 'StdGeographyLevel', 'StdGeographyName',\n",
       "       'StdGeographyID', 'sourceCountry', 'aggregationMethod',\n",
       "       'populationToPolygonSizeRating', 'apportionmentConfidence', 'HasData',\n",
       "       ...\n",
       "       'POP85_CY', 'POP18UP_CY', 'POP21UP_CY', 'MEDAGE_CY', 'HHU18C10',\n",
       "       'MEDHINC_CY', 'S27_BUS', 'S27_SALES', 'S27_EMP', 'SHAPE'],\n",
       "      dtype='object', length=434)"
      ]
     },
     "execution_count": 85,
     "metadata": {},
     "output_type": "execute_result"
    }
   ],
   "source": [
    "redlands_df.columns"
   ]
  },
  {
   "cell_type": "markdown",
   "metadata": {},
   "source": [
    "#### Enrich using Analysis Variables\n",
    "\n",
    "Data can be enriched by specifying specific analysis variables of a data collection with which we want to enrich our data. In this example, we will look at `analysis_variables` for Age `data_collection` and then use specific analysis variables to `enrich()` a study area."
   ]
  },
  {
   "cell_type": "code",
   "execution_count": 11,
   "metadata": {},
   "outputs": [
    {
     "data": {
      "text/plain": [
       "array(['Age.MALE0', 'Age.MALE5', 'Age.MALE10', 'Age.MALE15', 'Age.MALE20',\n",
       "       'Age.MALE25', 'Age.MALE30', 'Age.MALE35', 'Age.MALE40',\n",
       "       'Age.MALE45', 'Age.MALE50', 'Age.MALE55', 'Age.MALE60',\n",
       "       'Age.MALE65', 'Age.MALE70', 'Age.MALE75', 'Age.MALE80',\n",
       "       'Age.MALE85', 'Age.FEM0', 'Age.FEM5', 'Age.FEM10', 'Age.FEM15',\n",
       "       'Age.FEM20', 'Age.FEM25', 'Age.FEM30', 'Age.FEM35', 'Age.FEM40',\n",
       "       'Age.FEM45', 'Age.FEM50', 'Age.FEM55', 'Age.FEM60', 'Age.FEM65',\n",
       "       'Age.FEM70', 'Age.FEM75', 'Age.FEM80', 'Age.FEM85'], dtype=object)"
      ]
     },
     "execution_count": 11,
     "metadata": {},
     "output_type": "execute_result"
    }
   ],
   "source": [
    "# Unique analysis variables for Age data collection\n",
    "usa = Country.get('US')\n",
    "usa.data_collections.loc['Age']['analysisVariable'].unique()"
   ]
  },
  {
   "cell_type": "markdown",
   "metadata": {},
   "source": [
    "Now, we will enrich our study area with `Age.FEM45, Age.FEM55, Age.FEM65` variables"
   ]
  },
  {
   "cell_type": "code",
   "execution_count": 12,
   "metadata": {},
   "outputs": [
    {
     "data": {
      "text/html": [
       "<div>\n",
       "<style scoped>\n",
       "    .dataframe tbody tr th:only-of-type {\n",
       "        vertical-align: middle;\n",
       "    }\n",
       "\n",
       "    .dataframe tbody tr th {\n",
       "        vertical-align: top;\n",
       "    }\n",
       "\n",
       "    .dataframe thead th {\n",
       "        text-align: right;\n",
       "    }\n",
       "</style>\n",
       "<table border=\"1\" class=\"dataframe\">\n",
       "  <thead>\n",
       "    <tr style=\"text-align: right;\">\n",
       "      <th></th>\n",
       "      <th>ID</th>\n",
       "      <th>OBJECTID</th>\n",
       "      <th>sourceCountry</th>\n",
       "      <th>X</th>\n",
       "      <th>Y</th>\n",
       "      <th>areaType</th>\n",
       "      <th>bufferUnits</th>\n",
       "      <th>bufferUnitsAlias</th>\n",
       "      <th>bufferRadii</th>\n",
       "      <th>aggregationMethod</th>\n",
       "      <th>populationToPolygonSizeRating</th>\n",
       "      <th>apportionmentConfidence</th>\n",
       "      <th>HasData</th>\n",
       "      <th>FEM45</th>\n",
       "      <th>FEM55</th>\n",
       "      <th>FEM65</th>\n",
       "      <th>SHAPE</th>\n",
       "    </tr>\n",
       "  </thead>\n",
       "  <tbody>\n",
       "    <tr>\n",
       "      <th>0</th>\n",
       "      <td>0</td>\n",
       "      <td>1</td>\n",
       "      <td>US</td>\n",
       "      <td>-117.194872</td>\n",
       "      <td>34.057237</td>\n",
       "      <td>RingBuffer</td>\n",
       "      <td>esriMiles</td>\n",
       "      <td>Miles</td>\n",
       "      <td>1</td>\n",
       "      <td>BlockApportionment:US.BlockGroups</td>\n",
       "      <td>2.191</td>\n",
       "      <td>2.576</td>\n",
       "      <td>1</td>\n",
       "      <td>376</td>\n",
       "      <td>374</td>\n",
       "      <td>310</td>\n",
       "      <td>{\"rings\": [[[-117.19487199429183, 34.071745616...</td>\n",
       "    </tr>\n",
       "  </tbody>\n",
       "</table>\n",
       "</div>"
      ],
      "text/plain": [
       "  ID  OBJECTID sourceCountry           X          Y    areaType bufferUnits  \\\n",
       "0  0         1            US -117.194872  34.057237  RingBuffer   esriMiles   \n",
       "\n",
       "  bufferUnitsAlias  bufferRadii                  aggregationMethod  \\\n",
       "0            Miles            1  BlockApportionment:US.BlockGroups   \n",
       "\n",
       "   populationToPolygonSizeRating  apportionmentConfidence  HasData  FEM45  \\\n",
       "0                          2.191                    2.576        1    376   \n",
       "\n",
       "   FEM55  FEM65                                              SHAPE  \n",
       "0    374    310  {\"rings\": [[[-117.19487199429183, 34.071745616...  "
      ]
     },
     "execution_count": 12,
     "metadata": {},
     "output_type": "execute_result"
    }
   ],
   "source": [
    "enrich(study_areas=[\"380 New York St Redlands CA 92373\"], \n",
    "       analysis_variables=[\"Age.FEM45\",\"Age.FEM55\",\"Age.FEM65\"])"
   ]
  },
  {
   "cell_type": "markdown",
   "metadata": {},
   "source": [
    "## Enriching Spatially Enabled Dataframes"
   ]
  },
  {
   "cell_type": "markdown",
   "metadata": {},
   "source": [
    "One of the most common use case for GeoEnrichment is enriching existing data in feature layers. As a user, you may need to analyze and enrich your data that already exists in feature layers. Spatially Enabled DataFrame (SeDF) helps us bring the data from layer into a dataframe which can then be GeoEnriched. \n",
    "\n",
    "Let's look at an example using an existing layer of Covid-19 data at the state level."
   ]
  },
  {
   "cell_type": "code",
   "execution_count": 21,
   "metadata": {},
   "outputs": [
    {
     "name": "stdout",
     "output_type": "stream",
     "text": [
      "<Item title:\"COVID-19 Cases US\" type:Feature Layer Collection owner:CSSE_GISandData>\n"
     ]
    },
    {
     "data": {
      "text/plain": [
       "<FeatureLayer url:\"https://services1.arcgis.com/0MSEUqKaxRlEPj5g/arcgis/rest/services/ncov_cases_US/FeatureServer/0\">"
      ]
     },
     "execution_count": 21,
     "metadata": {},
     "output_type": "execute_result"
    }
   ],
   "source": [
    "# Get the layer\n",
    "gis = GIS(set_active=False)\n",
    "covid_item = gis.content.get('628578697fb24d8ea4c32fa0c5ae1843')\n",
    "print(covid_item)\n",
    "covid_layer = covid_item.layers[0]\n",
    "covid_layer"
   ]
  },
  {
   "cell_type": "markdown",
   "metadata": {},
   "source": [
    "We can query the layer as a dataframe and then use the dataframe for enrichment."
   ]
  },
  {
   "cell_type": "code",
   "execution_count": 22,
   "metadata": {},
   "outputs": [
    {
     "data": {
      "text/plain": [
       "(3238, 19)"
      ]
     },
     "execution_count": 22,
     "metadata": {},
     "output_type": "execute_result"
    }
   ],
   "source": [
    "covid_df = covid_layer.query(as_df=True)\n",
    "covid_df.shape"
   ]
  },
  {
   "cell_type": "markdown",
   "metadata": {},
   "source": [
    "To showcase GeoEnrichment, we will create a subset of the original data and then `enrich()` the subset."
   ]
  },
  {
   "cell_type": "code",
   "execution_count": 23,
   "metadata": {},
   "outputs": [
    {
     "data": {
      "text/plain": [
       "(100, 19)"
      ]
     },
     "execution_count": 23,
     "metadata": {},
     "output_type": "execute_result"
    }
   ],
   "source": [
    "# Create subset\n",
    "test_df = covid_df.iloc[:100].copy()\n",
    "test_df.shape"
   ]
  },
  {
   "cell_type": "code",
   "execution_count": 24,
   "metadata": {},
   "outputs": [
    {
     "data": {
      "text/plain": [
       "['point']"
      ]
     },
     "execution_count": 24,
     "metadata": {},
     "output_type": "execute_result"
    }
   ],
   "source": [
    "# Check geometry\n",
    "test_df.spatial.geometry_type"
   ]
  },
  {
   "cell_type": "markdown",
   "metadata": {},
   "source": [
    "A dataframe can be passed as a value to `study_areas` parameter of the `enrich()` method. Here we are enriching our dataframe with specific variables from `Age` data collection."
   ]
  },
  {
   "cell_type": "code",
   "execution_count": 25,
   "metadata": {},
   "outputs": [],
   "source": [
    "# Enrich dataframe\n",
    "new_df = enrich(study_areas=test_df, \n",
    "       analysis_variables=[\"Age.FEM45\",\"Age.FEM55\",\"Age.FEM65\"])"
   ]
  },
  {
   "cell_type": "code",
   "execution_count": 26,
   "metadata": {},
   "outputs": [
    {
     "data": {
      "text/html": [
       "<div>\n",
       "<style scoped>\n",
       "    .dataframe tbody tr th:only-of-type {\n",
       "        vertical-align: middle;\n",
       "    }\n",
       "\n",
       "    .dataframe tbody tr th {\n",
       "        vertical-align: top;\n",
       "    }\n",
       "\n",
       "    .dataframe thead th {\n",
       "        text-align: right;\n",
       "    }\n",
       "</style>\n",
       "<table border=\"1\" class=\"dataframe\">\n",
       "  <thead>\n",
       "    <tr style=\"text-align: right;\">\n",
       "      <th></th>\n",
       "      <th>ID</th>\n",
       "      <th>OBJECTID_0</th>\n",
       "      <th>sourceCountry</th>\n",
       "      <th>Long_</th>\n",
       "      <th>Recovered</th>\n",
       "      <th>Country_Region</th>\n",
       "      <th>FIPS</th>\n",
       "      <th>Last_Update</th>\n",
       "      <th>Combined_Key</th>\n",
       "      <th>ISO3</th>\n",
       "      <th>...</th>\n",
       "      <th>bufferUnitsAlias</th>\n",
       "      <th>bufferRadii</th>\n",
       "      <th>aggregationMethod</th>\n",
       "      <th>populationToPolygonSizeRating</th>\n",
       "      <th>apportionmentConfidence</th>\n",
       "      <th>HasData</th>\n",
       "      <th>FEM45</th>\n",
       "      <th>FEM55</th>\n",
       "      <th>FEM65</th>\n",
       "      <th>SHAPE</th>\n",
       "    </tr>\n",
       "  </thead>\n",
       "  <tbody>\n",
       "    <tr>\n",
       "      <th>0</th>\n",
       "      <td>0</td>\n",
       "      <td>1</td>\n",
       "      <td>US</td>\n",
       "      <td>-82.461707</td>\n",
       "      <td>0</td>\n",
       "      <td>US</td>\n",
       "      <td>45001</td>\n",
       "      <td>1595565300000</td>\n",
       "      <td>Abbeville, South Carolina, US</td>\n",
       "      <td>USA</td>\n",
       "      <td>...</td>\n",
       "      <td>Miles</td>\n",
       "      <td>1</td>\n",
       "      <td>BlockApportionment:US.BlockGroups</td>\n",
       "      <td>2.191</td>\n",
       "      <td>2.576</td>\n",
       "      <td>1</td>\n",
       "      <td>2</td>\n",
       "      <td>2</td>\n",
       "      <td>2</td>\n",
       "      <td>{\"rings\": [[[-82.46170657999994, 34.2378420028...</td>\n",
       "    </tr>\n",
       "    <tr>\n",
       "      <th>1</th>\n",
       "      <td>1</td>\n",
       "      <td>2</td>\n",
       "      <td>US</td>\n",
       "      <td>-92.414197</td>\n",
       "      <td>0</td>\n",
       "      <td>US</td>\n",
       "      <td>22001</td>\n",
       "      <td>1595565300000</td>\n",
       "      <td>Acadia, Louisiana, US</td>\n",
       "      <td>USA</td>\n",
       "      <td>...</td>\n",
       "      <td>Miles</td>\n",
       "      <td>1</td>\n",
       "      <td>BlockApportionment:US.BlockGroups</td>\n",
       "      <td>2.191</td>\n",
       "      <td>2.576</td>\n",
       "      <td>1</td>\n",
       "      <td>3</td>\n",
       "      <td>3</td>\n",
       "      <td>2</td>\n",
       "      <td>{\"rings\": [[[-92.41419697999997, 30.3095821536...</td>\n",
       "    </tr>\n",
       "    <tr>\n",
       "      <th>2</th>\n",
       "      <td>2</td>\n",
       "      <td>3</td>\n",
       "      <td>US</td>\n",
       "      <td>-75.632346</td>\n",
       "      <td>0</td>\n",
       "      <td>US</td>\n",
       "      <td>51001</td>\n",
       "      <td>1595565300000</td>\n",
       "      <td>Accomack, Virginia, US</td>\n",
       "      <td>USA</td>\n",
       "      <td>...</td>\n",
       "      <td>Miles</td>\n",
       "      <td>1</td>\n",
       "      <td>BlockApportionment:US.BlockGroups</td>\n",
       "      <td>2.191</td>\n",
       "      <td>2.576</td>\n",
       "      <td>1</td>\n",
       "      <td>14</td>\n",
       "      <td>16</td>\n",
       "      <td>14</td>\n",
       "      <td>{\"rings\": [[[-75.63234615, 37.781571251121655]...</td>\n",
       "    </tr>\n",
       "    <tr>\n",
       "      <th>3</th>\n",
       "      <td>3</td>\n",
       "      <td>4</td>\n",
       "      <td>US</td>\n",
       "      <td>-116.241552</td>\n",
       "      <td>0</td>\n",
       "      <td>US</td>\n",
       "      <td>16001</td>\n",
       "      <td>1595565300000</td>\n",
       "      <td>Ada, Idaho, US</td>\n",
       "      <td>USA</td>\n",
       "      <td>...</td>\n",
       "      <td>Miles</td>\n",
       "      <td>1</td>\n",
       "      <td>BlockApportionment:US.BlockGroups</td>\n",
       "      <td>2.191</td>\n",
       "      <td>2.576</td>\n",
       "      <td>1</td>\n",
       "      <td>0</td>\n",
       "      <td>0</td>\n",
       "      <td>0</td>\n",
       "      <td>{\"rings\": [[[-116.24155159999998, 43.467142851...</td>\n",
       "    </tr>\n",
       "    <tr>\n",
       "      <th>4</th>\n",
       "      <td>4</td>\n",
       "      <td>5</td>\n",
       "      <td>US</td>\n",
       "      <td>-94.471059</td>\n",
       "      <td>0</td>\n",
       "      <td>US</td>\n",
       "      <td>19001</td>\n",
       "      <td>1595565300000</td>\n",
       "      <td>Adair, Iowa, US</td>\n",
       "      <td>USA</td>\n",
       "      <td>...</td>\n",
       "      <td>Miles</td>\n",
       "      <td>1</td>\n",
       "      <td>BlockApportionment:US.BlockGroups</td>\n",
       "      <td>2.191</td>\n",
       "      <td>2.576</td>\n",
       "      <td>1</td>\n",
       "      <td>1</td>\n",
       "      <td>1</td>\n",
       "      <td>1</td>\n",
       "      <td>{\"rings\": [[[-94.47105873999998, 41.3452468224...</td>\n",
       "    </tr>\n",
       "  </tbody>\n",
       "</table>\n",
       "<p>5 rows × 31 columns</p>\n",
       "</div>"
      ],
      "text/plain": [
       "  ID  OBJECTID_0 sourceCountry       Long_  Recovered Country_Region   FIPS  \\\n",
       "0  0           1            US  -82.461707          0             US  45001   \n",
       "1  1           2            US  -92.414197          0             US  22001   \n",
       "2  2           3            US  -75.632346          0             US  51001   \n",
       "3  3           4            US -116.241552          0             US  16001   \n",
       "4  4           5            US  -94.471059          0             US  19001   \n",
       "\n",
       "     Last_Update                   Combined_Key ISO3  ... bufferUnitsAlias  \\\n",
       "0  1595565300000  Abbeville, South Carolina, US  USA  ...            Miles   \n",
       "1  1595565300000          Acadia, Louisiana, US  USA  ...            Miles   \n",
       "2  1595565300000         Accomack, Virginia, US  USA  ...            Miles   \n",
       "3  1595565300000                 Ada, Idaho, US  USA  ...            Miles   \n",
       "4  1595565300000                Adair, Iowa, US  USA  ...            Miles   \n",
       "\n",
       "   bufferRadii                  aggregationMethod  \\\n",
       "0            1  BlockApportionment:US.BlockGroups   \n",
       "1            1  BlockApportionment:US.BlockGroups   \n",
       "2            1  BlockApportionment:US.BlockGroups   \n",
       "3            1  BlockApportionment:US.BlockGroups   \n",
       "4            1  BlockApportionment:US.BlockGroups   \n",
       "\n",
       "   populationToPolygonSizeRating  apportionmentConfidence  HasData  FEM45  \\\n",
       "0                          2.191                    2.576        1      2   \n",
       "1                          2.191                    2.576        1      3   \n",
       "2                          2.191                    2.576        1     14   \n",
       "3                          2.191                    2.576        1      0   \n",
       "4                          2.191                    2.576        1      1   \n",
       "\n",
       "  FEM55  FEM65                                              SHAPE  \n",
       "0     2      2  {\"rings\": [[[-82.46170657999994, 34.2378420028...  \n",
       "1     3      2  {\"rings\": [[[-92.41419697999997, 30.3095821536...  \n",
       "2    16     14  {\"rings\": [[[-75.63234615, 37.781571251121655]...  \n",
       "3     0      0  {\"rings\": [[[-116.24155159999998, 43.467142851...  \n",
       "4     1      1  {\"rings\": [[[-94.47105873999998, 41.3452468224...  \n",
       "\n",
       "[5 rows x 31 columns]"
      ]
     },
     "execution_count": 26,
     "metadata": {},
     "output_type": "execute_result"
    }
   ],
   "source": [
    "new_df.head()"
   ]
  },
  {
   "cell_type": "code",
   "execution_count": 27,
   "metadata": {},
   "outputs": [
    {
     "data": {
      "text/plain": [
       "(91, 31)"
      ]
     },
     "execution_count": 27,
     "metadata": {},
     "output_type": "execute_result"
    }
   ],
   "source": [
    "# Check shape\n",
    "new_df.shape"
   ]
  },
  {
   "cell_type": "markdown",
   "metadata": {},
   "source": [
    "We can see that enrichment resulted in 91 records and 31 columns. There are some areas in our dataframe for which enrichment information is not available. Hence, we have 91 records instead of 100. Geoenrichment adds some additional columns along with the analysis variables we enriched for and so we see 31 columns. "
   ]
  },
  {
   "cell_type": "markdown",
   "metadata": {},
   "source": [
    "## Conclusion"
   ]
  },
  {
   "cell_type": "markdown",
   "metadata": {},
   "source": [
    "In this part of the `arcgis.geoenrichment` module guide series, you saw how `data_collections` property of a `Country` object lists its available `data_collections` and `analysis_variables`. You explored different data collections, their analysis variables and then enriched study areas using the same. Towards the end, you experienced how spatially enabled dataframes can be enriched.\n",
    "\n",
    "In the subsequent pages, you will learn about Generating Reports and Standard Geography Queries."
   ]
  }
 ],
 "metadata": {
  "anaconda-cloud": {},
  "kernelspec": {
   "display_name": "Python 3",
   "language": "python",
   "name": "python3"
  },
  "language_info": {
   "codemirror_mode": {
    "name": "ipython",
    "version": 3
   },
   "file_extension": ".py",
   "mimetype": "text/x-python",
   "name": "python",
   "nbconvert_exporter": "python",
   "pygments_lexer": "ipython3",
   "version": "3.8.3"
  },
  "livereveal": {
   "scroll": true
  },
  "toc": {
   "base_numbering": 1,
   "nav_menu": {},
   "number_sections": true,
   "sideBar": true,
   "skip_h1_title": true,
   "title_cell": "Table of Contents",
   "title_sidebar": "Contents",
   "toc_cell": true,
   "toc_position": {
    "height": "calc(100% - 180px)",
    "left": "10px",
    "top": "150px",
    "width": "274px"
   },
   "toc_section_display": true,
   "toc_window_display": true
  }
 },
 "nbformat": 4,
 "nbformat_minor": 2
}
