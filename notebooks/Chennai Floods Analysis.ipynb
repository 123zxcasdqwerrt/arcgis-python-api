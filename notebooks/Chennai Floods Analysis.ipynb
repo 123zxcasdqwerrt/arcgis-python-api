{
 "cells": [
  {
   "cell_type": "markdown",
   "metadata": {},
   "source": [
    "#Chennai Floods 2015 -  a geographic analysis\n",
    "\n",
    "On December 1–2, 2015, the Indian city of Chennai received more rainfall in 24 hours than it had seen on any day since 1901. The deluge followed a month of persistent monsoon rains that were already well above normal for the Indian state of Tamil Nadu. At least 250 people have died, several hundred have been critically injured, and thousands have been affected or displaced by the flooding that has ensued.\n"
   ]
  },
  {
   "cell_type": "markdown",
   "metadata": {},
   "source": [
    "<img src=\"http://eoimages.gsfc.nasa.gov/images/imagerecords/87000/87131/india_mrg_2015335-336.gif\">"
   ]
  },
  {
   "cell_type": "markdown",
   "metadata": {},
   "source": [
    "The animation above provides satellite-based estimates of rainfall over southeastern India on December 1–2, accumulating in 30–minute intervals. The rainfall data come from the Integrated Multi-Satellite Retrievals for GPM (IMERG), a product of the Global Precipitation Measurement mission. The brightest shades on the maps represent rainfall totals approaching 400 millimeters (16 inches) during the 48-hour period. These regional, remotely-sensed estimates may differ from the totals measured by ground-based weather stations. According to Hal Pierce, a scientist on the GPM team at NASA’s Goddard Space Flight Center, the highest rainfall totals exceeded 500 mm (20 inches) in an area just off the southeastern coast. \n",
    "\n",
    "[Source: NASA http://earthobservatory.nasa.gov/IOTD/view.php?id=87131]"
   ]
  },
  {
   "cell_type": "markdown",
   "metadata": {},
   "source": [
    "## Chennai Floods Explained"
   ]
  },
  {
   "cell_type": "code",
   "execution_count": 5,
   "metadata": {
    "collapsed": false
   },
   "outputs": [
    {
     "data": {
      "text/html": [
       "\n",
       "        <iframe\n",
       "            width=\"400\"\n",
       "            height=\"300\"\n",
       "            src=\"https://www.youtube.com/embed/x4dNIfx6HVs\"\n",
       "            frameborder=\"0\"\n",
       "            allowfullscreen\n",
       "        ></iframe>\n",
       "        "
      ],
      "text/plain": [
       "<IPython.lib.display.YouTubeVideo at 0x7b407f0>"
      ]
     },
     "execution_count": 5,
     "metadata": {},
     "output_type": "execute_result"
    }
   ],
   "source": [
    "from IPython.display import YouTubeVideo\n",
    "\n",
    "YouTubeVideo('x4dNIfx6HVs')"
   ]
  },
  {
   "cell_type": "markdown",
   "metadata": {},
   "source": [
    "The catastrophic flooding in Chennai is the result of the heaviest rain in several decades, which forced authorities to release a massive 30,000 cusecs from the Chembarambakkam reservoir into the Adyar river over two days, causing it to flood its banks and submerge neighbourhoods on both sides. It did not help that the Adyar’s stream is not very deep or wide, and its banks have been heavily encroached upon over the years.\n",
    "Similar flooding triggers were in action at Poondi and Puzhal reservoirs, and the Cooum river that winds its way through the city.\n",
    "While Chief Minister J Jayalalithaa said, during the earlier phase of heavy rain last month, that damage during the monsoon was “inevitable”, the fact remains that the mindless development of Chennai over the last two decades — <b>the filling up of lowlands and choking of stormwater drains and other exits for water — has played a major part in the escalation of the crisis.</b>\n",
    "\n",
    "[Source: Indian Express http://indianexpress.com/article/explained/why-is-chennai-under-water/#sthash.LlhnqM4B.dpuf]"
   ]
  },
  {
   "cell_type": "markdown",
   "metadata": {},
   "source": [
    "##How much rain and where?"
   ]
  },
  {
   "cell_type": "markdown",
   "metadata": {},
   "source": [
    "To get a sense of how much it rained and where, let's use rainfall data for December 2nd 2015, obtained from the Regional Meteorological Center in Chennai. The data is in chennai-rainfall.csv file, that we load into a Pandas data frame, and list its contents:"
   ]
  },
  {
   "cell_type": "code",
   "execution_count": 2,
   "metadata": {
    "collapsed": false
   },
   "outputs": [],
   "source": [
    "from arcgis.gis import *\n",
    "gis = GIS(\"https://deldev.maps.arcgis.com\", \"deldev\", rot13(\"Rzre12yq3\"))"
   ]
  },
  {
   "cell_type": "code",
   "execution_count": 3,
   "metadata": {
    "collapsed": false
   },
   "outputs": [
    {
     "data": {
      "text/html": [
       "<div>\n",
       "<table border=\"1\" class=\"dataframe\">\n",
       "  <thead>\n",
       "    <tr style=\"text-align: right;\">\n",
       "      <th></th>\n",
       "      <th>WEATHER STATION</th>\n",
       "      <th>LOCATION</th>\n",
       "      <th>RAINFALL</th>\n",
       "    </tr>\n",
       "  </thead>\n",
       "  <tbody>\n",
       "    <tr>\n",
       "      <th>0</th>\n",
       "      <td>TAMBARAM</td>\n",
       "      <td>TAMBARAM, TAMIL NADU</td>\n",
       "      <td>49</td>\n",
       "    </tr>\n",
       "    <tr>\n",
       "      <th>1</th>\n",
       "      <td>CHEMBARABAKKAM</td>\n",
       "      <td>CHEMBARABAKKAM, TAMIL NADU</td>\n",
       "      <td>47</td>\n",
       "    </tr>\n",
       "    <tr>\n",
       "      <th>2</th>\n",
       "      <td>MARAKKANAM</td>\n",
       "      <td>MARAKKANAM, TAMIL NADU</td>\n",
       "      <td>42</td>\n",
       "    </tr>\n",
       "    <tr>\n",
       "      <th>3</th>\n",
       "      <td>CHENGALPATTU</td>\n",
       "      <td>CHENGALPATTU, TAMIL NADU</td>\n",
       "      <td>39</td>\n",
       "    </tr>\n",
       "    <tr>\n",
       "      <th>4</th>\n",
       "      <td>PONNERI</td>\n",
       "      <td>PONNERI, TAMIL NADU</td>\n",
       "      <td>39</td>\n",
       "    </tr>\n",
       "  </tbody>\n",
       "</table>\n",
       "</div>"
      ],
      "text/plain": [
       "  WEATHER STATION                    LOCATION  RAINFALL\n",
       "0        TAMBARAM        TAMBARAM, TAMIL NADU        49\n",
       "1  CHEMBARABAKKAM  CHEMBARABAKKAM, TAMIL NADU        47\n",
       "2      MARAKKANAM      MARAKKANAM, TAMIL NADU        42\n",
       "3    CHENGALPATTU    CHENGALPATTU, TAMIL NADU        39\n",
       "4         PONNERI         PONNERI, TAMIL NADU        39"
      ]
     },
     "execution_count": 3,
     "metadata": {},
     "output_type": "execute_result"
    }
   ],
   "source": [
    "import pandas as pd\n",
    "df = pd.read_csv('chennai-rainfall.csv')\n",
    "df.head()"
   ]
  },
  {
   "cell_type": "markdown",
   "metadata": {},
   "source": [
    "Tabular data is hard to visualize, so let's bring in a map from our GIS to visualize the data:"
   ]
  },
  {
   "cell_type": "code",
   "execution_count": 4,
   "metadata": {
    "collapsed": false
   },
   "outputs": [],
   "source": [
    "from arcgis.viz import *\n",
    "\n",
    "map = MapView()\n",
    "map.center = gis.tools.geocoder.find_best_match(\"Tamil Nadu\")\n",
    "map.zoom = 7\n",
    "map"
   ]
  },
  {
   "cell_type": "markdown",
   "metadata": {},
   "source": [
    "We can import any Pandas data frame, with an Address field, as a layer in our GIS. We then add this layer to our map to see the locations of the weather stations from which the rainfall data was collected:"
   ]
  },
  {
   "cell_type": "code",
   "execution_count": 5,
   "metadata": {
    "collapsed": false
   },
   "outputs": [],
   "source": [
    "fc = gis.content.import_data(df, {\"Address\" : \"LOCATION\"})"
   ]
  },
  {
   "cell_type": "code",
   "execution_count": 6,
   "metadata": {
    "collapsed": true
   },
   "outputs": [],
   "source": [
    "map.add_layer(fc)"
   ]
  },
  {
   "cell_type": "markdown",
   "metadata": {},
   "source": [
    "We see that the weather stations are distributed fairly well across the state of Tamil Nadu. This will help us get a good idea of the rain and where it hit the most.\n",
    "\n",
    "To visualize how much rainfall earch location recorded, we can use a classed size renderer:"
   ]
  },
  {
   "cell_type": "code",
   "execution_count": 7,
   "metadata": {
    "collapsed": true
   },
   "outputs": [],
   "source": [
    "thematicmap = MapView()"
   ]
  },
  {
   "cell_type": "code",
   "execution_count": 8,
   "metadata": {
    "collapsed": true
   },
   "outputs": [],
   "source": [
    "thematicmap"
   ]
  },
  {
   "cell_type": "code",
   "execution_count": 9,
   "metadata": {
    "collapsed": false
   },
   "outputs": [],
   "source": [
    "thematicmap.center = gis.tools.geocoder.find_best_match(\"Tamil Nadu\")\n",
    "thematicmap.zoom = 7"
   ]
  },
  {
   "cell_type": "code",
   "execution_count": 10,
   "metadata": {
    "collapsed": false
   },
   "outputs": [],
   "source": [
    "thematicmap.add_layer(fc, { \"renderer\":\"ClassedSizeRenderer\", \"field_name\":\"RAINFALL\" })"
   ]
  },
  {
   "cell_type": "markdown",
   "metadata": {},
   "source": [
    "Rainfall is a continuous phenonmenon that affects the whole region, not just the locations of the weather stations. Based on the observed rainfall at the monitoring stations and their locations, we can interpolate and deduce the approximate rainfall across the whole region. We use the Interpolate Points tool from the GIS's spatial analysis service for this.\n",
    "\n",
    "The Interpolate Points tool uses <a href=\"http://desktop.arcgis.com/en/desktop/latest/guide-books/extensions/geostatistical-analyst/what-is-empirical-bayesian-kriging-.htm\">empirical Bayesian kriging</a> to perform the interpolation:"
   ]
  },
  {
   "cell_type": "code",
   "execution_count": 11,
   "metadata": {
    "collapsed": false
   },
   "outputs": [],
   "source": [
    "interpolated_rf = gis.tools.analysis.interpolate_points(fc, 'RAINFALL')"
   ]
  },
  {
   "cell_type": "code",
   "execution_count": 12,
   "metadata": {
    "collapsed": false
   },
   "outputs": [],
   "source": [
    "intmap = MapView()\n",
    "intmap.center = gis.tools.geocoder.find_best_match(\"Tamil Nadu\")\n",
    "intmap.zoom = 7\n",
    "intmap"
   ]
  },
  {
   "cell_type": "code",
   "execution_count": 13,
   "metadata": {
    "collapsed": true
   },
   "outputs": [],
   "source": [
    "intmap.add_layer(interpolated_rf['result_layer'])"
   ]
  },
  {
   "cell_type": "markdown",
   "metadata": {},
   "source": [
    "We see that rainfall was most severe in and around Chennai as well some parts of central Tamil Nadu."
   ]
  },
  {
   "cell_type": "markdown",
   "metadata": {},
   "source": [
    "##What caused the flooding in Chennai?"
   ]
  },
  {
   "cell_type": "markdown",
   "metadata": {},
   "source": [
    "\n",
    "###A wrong call that sank Chennai\n",
    "Much of the flooding and subsequent waterlogging was a consequence of the outflows from major reservoirs into swollen rivers and into the city following heavy rains. The <b>release of waters from the Chembarambakkam reservoir</b> in particular has received much attention. [Source: The Hindu, http://www.thehindu.com/news/cities/chennai/chennai-floods-a-wrong-call-that-sank-the-city/article7967371.ece]\n",
    "\n",
    "<img src=\"http://www.thehindu.com/multimedia/dynamic/02651/RedHills-graphic_j_2651019g.jpg\"/>"
   ]
  },
  {
   "cell_type": "code",
   "execution_count": 14,
   "metadata": {
    "collapsed": false
   },
   "outputs": [],
   "source": [
    "lakemap = MapView()\n",
    "lakemap.center = gis.tools.geocoder.find_best_match(\"Chennai, Tamil Nadu\")\n",
    "lakemap.zoom = 11\n",
    "lakemap.height='600px'\n",
    "lakemap"
   ]
  },
  {
   "cell_type": "markdown",
   "metadata": {},
   "source": [
    "Let's have look at the major lakes and water reservoirs that were filled to the brim in Chennai due the rains. We plot the locations of some of the reservoirs that had a large outflow during the rains:"
   ]
  },
  {
   "cell_type": "code",
   "execution_count": 15,
   "metadata": {
    "collapsed": false
   },
   "outputs": [],
   "source": [
    "lakemap.draw(gis.tools.geocoder.find_best_match(\"Chembarambakkam, Tamil Nadu\"), {\"title\": \"Chembarambakkam\", \"content\": \"Water reservoir\"})\n",
    "lakemap.draw(gis.tools.geocoder.find_best_match(\"Puzhal, Tamil Nadu\"), {\"title\": \"Puzhal\", \"content\": \"Water reservoir\"})\n",
    "lakemap.draw(gis.tools.geocoder.find_best_match(\"Moovur, Tamil Nadu\"), {\"title\": \"Poondi Lake \", \"content\": \"Water reservoir\"})"
   ]
  },
  {
   "cell_type": "markdown",
   "metadata": {},
   "source": [
    "To identify the flood prone areas, let's trace the path that the water would take when released from the lakes. To do this, we first bring in a layer of lakes in Chennai, and call the Trace Downstream analysis tool from the GIS:"
   ]
  },
  {
   "cell_type": "code",
   "execution_count": 16,
   "metadata": {
    "collapsed": true
   },
   "outputs": [],
   "source": [
    "chennailakes = gis.content.search(\"Chennai Lakes\", \"feature collection\")[0]"
   ]
  },
  {
   "cell_type": "code",
   "execution_count": 17,
   "metadata": {
    "collapsed": false
   },
   "outputs": [
    {
     "data": {
      "text/html": [
       "<div class=\"item_container\">\n",
       "                    <div class=\"item_left\">\n",
       "                       <a href='https://deldev.maps.arcgis.com/home/item.html?id=b98100970c744824b227a5e1ccd113c1' target='_blank'>\n",
       "                        <img src='data:image/png;base64,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' width='200' height='133' class=\"itemThumbnail\">\n",
       "                       </a>\n",
       "                    </div>\n",
       "        \n",
       "                    <div class=\"item_right\">\n",
       "                        <a href='https://deldev.maps.arcgis.com/home/item.html?id=b98100970c744824b227a5e1ccd113c1' target='_blank'><b>Chennai Lakes</b>\n",
       "                        </a>\n",
       "                        <br>Chennai Lakes<img src='http://www.arcgis.com/home/js/jsapi/esri/css/images/item_type_icons/features16.png' style=\"vertical-align:middle;\">Feature Collection by geonuma\n",
       "                        <br>Last Modified: December 12, 2015\n",
       "                        <br>0 comments, 145 views\n",
       "                    </div>\n",
       "                </div>\n",
       "                "
      ],
      "text/plain": [
       "{}"
      ]
     },
     "execution_count": 17,
     "metadata": {},
     "output_type": "execute_result"
    }
   ],
   "source": [
    "chennailakes"
   ]
  },
  {
   "cell_type": "code",
   "execution_count": 18,
   "metadata": {
    "collapsed": true
   },
   "outputs": [],
   "source": [
    "lakemap.add_layer(chennailakes)"
   ]
  },
  {
   "cell_type": "code",
   "execution_count": 19,
   "metadata": {
    "collapsed": false
   },
   "outputs": [],
   "source": [
    "flow_path = gis.tools.analysis.trace_downstream(chennailakes)"
   ]
  },
  {
   "cell_type": "code",
   "execution_count": 20,
   "metadata": {
    "collapsed": false
   },
   "outputs": [],
   "source": [
    "lakemap.add_layer(flow_path)"
   ]
  },
  {
   "cell_type": "markdown",
   "metadata": {},
   "source": [
    "The areas surrounding the trace paths are most prone to flooding and waterlogging. To identify the areas that were at risk, we buffer the traced flow paths by one mile in each direction and visualize it on the map. We see that large areas of the city of Chennai were susceptible to flooding and waterlogging."
   ]
  },
  {
   "cell_type": "code",
   "execution_count": 21,
   "metadata": {
    "collapsed": true
   },
   "outputs": [],
   "source": [
    "floodprone_buffer = gis.tools.analysis.create_buffers(flow_path, [ 1 ], units='Miles')"
   ]
  },
  {
   "cell_type": "code",
   "execution_count": 22,
   "metadata": {
    "collapsed": false
   },
   "outputs": [],
   "source": [
    "lakemap.add_layer(floodprone_buffer)"
   ]
  },
  {
   "cell_type": "markdown",
   "metadata": {
    "collapsed": true
   },
   "source": [
    "##Nature's fury or human made disaster?\n",
    "\n",
    "\"It is easy to attribute the devastation from unexpected flooding to the results of nature and climate change when in fact it is a result of poor planning and infrastructure. In Chennai, as in several cities across the country, we are experiencing the wanton destruction of our natural buffer zones—rivers, creeks, estuaries, marshlands, lakes—in the name of urban renewal and environmental conservation.\n",
    "\n",
    "The recent floods in Chennai are a fallout of real estate riding roughshod over the city’s waterbodies. Facilitated by an administration that tweaked and modified building rules and urban plans, the real estate boom has consumed the city’s lakes, ponds, tanks and large marshlands.\n",
    "\n",
    "The Ennore creek that used to be home to sprawling mangroves is fast disappearing with soil dredged from the sea being dumped there. The Kodungaiyur dump site in the Madhavaram–Manali wetlands is one of two municipal landfills that service the city. Velachery and Pallikaranai marshlands are a part of the Kovalam basin that was the southern-most of the four river basins for the city. Today, the slightest rains cause flooding and water stagnation in Velachery, home to the city’s largest mall, several other commercial and residential buildings, and also the site where low income communities were allocated land.\n",
    "The <b>Pallikaranai marshlands</b>, once a site for beautiful migratory birds, are now home to the second of the two landfills in the city where the garbage is rapidly leeching into the water and killing the delicate ecosystem.\"\n",
    "\n",
    "[Source: Chennai's Rain Check http://www.epw.in/commentary/chennais-rain-check.html]\n",
    "\n",
    "Let's see the human impact on Pallikaranai marshland over the last decade by comparing satellite images."
   ]
  },
  {
   "cell_type": "code",
   "execution_count": 23,
   "metadata": {
    "collapsed": false
   },
   "outputs": [
    {
     "data": {
      "text/html": [
       "<div class=\"item_container\">\n",
       "                    <div class=\"item_left\">\n",
       "                       <a href='https://deldev.maps.arcgis.com/home/item.html?id=64482ef4d29e413f9822c41348af3b08' target='_blank'>\n",
       "                        <img src='data:image/png;base64,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' width='200' height='133' class=\"itemThumbnail\">\n",
       "                       </a>\n",
       "                    </div>\n",
       "        \n",
       "                    <div class=\"item_right\">\n",
       "                        <a href='https://deldev.maps.arcgis.com/home/item.html?id=64482ef4d29e413f9822c41348af3b08' target='_blank'><b>Land / Water Boundary (453) 1990-2010 (Mature Support)</b>\n",
       "                        </a>\n",
       "                        <br>This image's band combination (4 5 3) offers added definition of land/water boundaries and highlights subtle details not readily apparent in the visible bands alone.<img src='http://www.arcgis.com/home/js/jsapi/esri/css/images/item_type_icons/imagery16.png' style=\"vertical-align:middle;\">Image Service by esri\n",
       "                        <br>Last Modified: January 13, 2016\n",
       "                        <br>0 comments, 228,971 views\n",
       "                    </div>\n",
       "                </div>\n",
       "                "
      ],
      "text/plain": [
       "{}"
      ]
     },
     "execution_count": 23,
     "metadata": {},
     "output_type": "execute_result"
    }
   ],
   "source": [
    "ls_water = gis.content.search(\"Land Water Boundary (453) 1990-2010\", max_items=1)[0]\n",
    "ls_water"
   ]
  },
  {
   "cell_type": "code",
   "execution_count": 24,
   "metadata": {
    "collapsed": false
   },
   "outputs": [],
   "source": [
    "waterboundary = ImageLayer(ls_water)"
   ]
  },
  {
   "cell_type": "code",
   "execution_count": 25,
   "metadata": {
    "collapsed": true
   },
   "outputs": [],
   "source": [
    "map = MapView()\n",
    "map.center = gis.tools.geocoder.find_best_match(\"Pallikaranai, Tamil Nadu, India\")\n",
    "map.zoom = 13\n",
    "map"
   ]
  },
  {
   "cell_type": "code",
   "execution_count": 26,
   "metadata": {
    "collapsed": true
   },
   "outputs": [],
   "source": [
    "map.add_layer(waterboundary)\n",
    "map.set_time_extent('1/1/1989 UTC', '1/1/1990 UTC')"
   ]
  },
  {
   "cell_type": "code",
   "execution_count": 27,
   "metadata": {
    "collapsed": true
   },
   "outputs": [],
   "source": [
    "map2 = MapView()\n",
    "map2.center = gis.tools.geocoder.find_best_match(\"Pallikaranai, Tamil Nadu, India\")\n",
    "map2.zoom = 13\n",
    "map2"
   ]
  },
  {
   "cell_type": "code",
   "execution_count": 28,
   "metadata": {
    "collapsed": true
   },
   "outputs": [],
   "source": [
    "map2.add_layer(waterboundary, { \"opacity\" : 1.0})"
   ]
  },
  {
   "cell_type": "code",
   "execution_count": 29,
   "metadata": {
    "collapsed": true
   },
   "outputs": [],
   "source": [
    "map2.set_time_extent('1/1/2009 UTC', '1/1/2010 UTC')"
   ]
  },
  {
   "cell_type": "markdown",
   "metadata": {},
   "source": [
    "The human impact on the marshland is all too apparent in the satellite images. \n",
    "\n",
    "\"Not long ago, it was a 50-square-kilometre water sprawl in the southern suburbs of Chennai. Now, it is 4.3 square kilometres – less than a tenth of its original. The growing finger of a garbage dump sticks out like a cancerous tumour in the northern part of the marshland.  Two major roads cut through the waterbody with few pitifully small culverts that are not up to the job of transferring the rain water flows from such a large catchment. The edges have been eaten into by institutes like the National Institute of Ocean Technology. Ironically, NIOT is an accredited consultant to prepare Environmental Impact Assessments on various subjects, including on the implications of constructing on waterbodies.\n",
    "\n",
    "Other portions of this wetland have been sacrificed to accommodate the IT corridor. But water offers no exemption to elite industry. Unmindful of the lofty intellectuals at work in the glass and steel buildings of the software parks, rainwater goes by habit to occupy its old haunts, bringing the back-office work of American banks to a grinding halt.\"\n",
    "\n",
    "[Source: http://scroll.in/article/769928/chennai-floods-are-not-a-natural-disaster-theyve-been-created-by-unrestrained-construction]"
   ]
  },
  {
   "cell_type": "markdown",
   "metadata": {},
   "source": [
    "#People who have been affected"
   ]
  },
  {
   "cell_type": "code",
   "execution_count": 34,
   "metadata": {
    "collapsed": false
   },
   "outputs": [],
   "source": [
    "chennaipop = gis.content.search(\"Chennai Population\", \"feature service\")[0]"
   ]
  },
  {
   "cell_type": "code",
   "execution_count": 35,
   "metadata": {
    "collapsed": false
   },
   "outputs": [
    {
     "data": {
      "text/html": [
       "<div class=\"item_container\">\n",
       "                    <div class=\"item_left\">\n",
       "                       <a href='https://deldev.maps.arcgis.com/home/item.html?id=414b69b31c524dc09580d59bd4dfb02b' target='_blank'>\n",
       "                        <img src='data:image/png;base64,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' width='200' height='133' class=\"itemThumbnail\">\n",
       "                       </a>\n",
       "                    </div>\n",
       "        \n",
       "                    <div class=\"item_right\">\n",
       "                        <a href='https://deldev.maps.arcgis.com/home/item.html?id=414b69b31c524dc09580d59bd4dfb02b' target='_blank'><b>Chennai Population</b>\n",
       "                        </a>\n",
       "                        <br>This map shows demographics for the Chennai area which have been affected by flooding in December 2015.<img src='http://www.arcgis.com/home/js/jsapi/esri/css/images/item_type_icons/featureshosted16.png' style=\"vertical-align:middle;\">Feature Service by lisa_berry\n",
       "                        <br>Last Modified: December 08, 2015\n",
       "                        <br>0 comments, 471 views\n",
       "                    </div>\n",
       "                </div>\n",
       "                "
      ],
      "text/plain": [
       "{}"
      ]
     },
     "execution_count": 35,
     "metadata": {},
     "output_type": "execute_result"
    }
   ],
   "source": [
    "chennaipop"
   ]
  },
  {
   "cell_type": "code",
   "execution_count": 36,
   "metadata": {
    "collapsed": false
   },
   "outputs": [],
   "source": [
    "popmap = gis.map(\"Tamil Nadu\", 7)"
   ]
  },
  {
   "cell_type": "code",
   "execution_count": 37,
   "metadata": {
    "collapsed": false
   },
   "outputs": [],
   "source": [
    "popmap"
   ]
  },
  {
   "cell_type": "code",
   "execution_count": 38,
   "metadata": {
    "collapsed": false
   },
   "outputs": [],
   "source": [
    "popmap.add_layer(chennaipop)"
   ]
  },
  {
   "cell_type": "markdown",
   "metadata": {},
   "source": [
    "The areas hardest hit by the rains and floods were also the most populated as the map shows."
   ]
  },
  {
   "cell_type": "code",
   "execution_count": 39,
   "metadata": {
    "collapsed": false
   },
   "outputs": [],
   "source": [
    "popdata = FeatureService(chennaipop).layers[0].query()"
   ]
  },
  {
   "cell_type": "code",
   "execution_count": 40,
   "metadata": {
    "collapsed": false
   },
   "outputs": [
    {
     "data": {
      "text/html": [
       "<div>\n",
       "<table border=\"1\" class=\"dataframe\">\n",
       "  <thead>\n",
       "    <tr style=\"text-align: right;\">\n",
       "      <th></th>\n",
       "      <th>AVGHHSZ_CY</th>\n",
       "      <th>Age_15_30</th>\n",
       "      <th>Age_30_45</th>\n",
       "      <th>Age_45_60</th>\n",
       "      <th>ENRICH_FID</th>\n",
       "      <th>FEMALES_CY</th>\n",
       "      <th>HasData</th>\n",
       "      <th>ID</th>\n",
       "      <th>ID_1</th>\n",
       "      <th>MALES_CY</th>\n",
       "      <th>NAME</th>\n",
       "      <th>OBJECTID</th>\n",
       "      <th>POPPRM_CY</th>\n",
       "      <th>PPPC_CY</th>\n",
       "      <th>TOTHH_CY</th>\n",
       "      <th>TOTPOP_60P</th>\n",
       "      <th>TOTPOP_CY</th>\n",
       "      <th>TOTPOP_U15</th>\n",
       "      <th>sourceCountry</th>\n",
       "      <th>geometry.rings</th>\n",
       "    </tr>\n",
       "  </thead>\n",
       "  <tbody>\n",
       "    <tr>\n",
       "      <th>0</th>\n",
       "      <td>4.17</td>\n",
       "      <td>88422</td>\n",
       "      <td>68297</td>\n",
       "      <td>47200</td>\n",
       "      <td>1</td>\n",
       "      <td>152876</td>\n",
       "      <td>1</td>\n",
       "      <td>33050001</td>\n",
       "      <td>0</td>\n",
       "      <td>151502</td>\n",
       "      <td>Arani</td>\n",
       "      <td>1</td>\n",
       "      <td>0.244</td>\n",
       "      <td>70473.05</td>\n",
       "      <td>72919</td>\n",
       "      <td>33083</td>\n",
       "      <td>304378</td>\n",
       "      <td>78115</td>\n",
       "      <td>IN</td>\n",
       "      <td>[[[8827199.1362, 1430635.7809], [8827377.3587,...</td>\n",
       "    </tr>\n",
       "    <tr>\n",
       "      <th>1</th>\n",
       "      <td>4.09</td>\n",
       "      <td>129428</td>\n",
       "      <td>99956</td>\n",
       "      <td>69094</td>\n",
       "      <td>2</td>\n",
       "      <td>231802</td>\n",
       "      <td>1</td>\n",
       "      <td>33050004</td>\n",
       "      <td>1</td>\n",
       "      <td>232397</td>\n",
       "      <td>Polur</td>\n",
       "      <td>2</td>\n",
       "      <td>0.372</td>\n",
       "      <td>53433.36</td>\n",
       "      <td>113137</td>\n",
       "      <td>48486</td>\n",
       "      <td>464199</td>\n",
       "      <td>114404</td>\n",
       "      <td>IN</td>\n",
       "      <td>[[[8806076.8194, 1431242.0543], [8805902.6044,...</td>\n",
       "    </tr>\n",
       "    <tr>\n",
       "      <th>2</th>\n",
       "      <td>4.22</td>\n",
       "      <td>126734</td>\n",
       "      <td>96990</td>\n",
       "      <td>64514</td>\n",
       "      <td>3</td>\n",
       "      <td>217140</td>\n",
       "      <td>1</td>\n",
       "      <td>33060001</td>\n",
       "      <td>2</td>\n",
       "      <td>220315</td>\n",
       "      <td>Gingee</td>\n",
       "      <td>3</td>\n",
       "      <td>0.350</td>\n",
       "      <td>52100.59</td>\n",
       "      <td>103631</td>\n",
       "      <td>43321</td>\n",
       "      <td>437455</td>\n",
       "      <td>117951</td>\n",
       "      <td>IN</td>\n",
       "      <td>[[[8832794.833, 1396138.2506], [8833315.8082, ...</td>\n",
       "    </tr>\n",
       "    <tr>\n",
       "      <th>3</th>\n",
       "      <td>4.00</td>\n",
       "      <td>16090</td>\n",
       "      <td>13083</td>\n",
       "      <td>8707</td>\n",
       "      <td>4</td>\n",
       "      <td>59844</td>\n",
       "      <td>1</td>\n",
       "      <td>28230009</td>\n",
       "      <td>3</td>\n",
       "      <td>61344</td>\n",
       "      <td>Tirupati (Rural)</td>\n",
       "      <td>4</td>\n",
       "      <td>0.097</td>\n",
       "      <td>86038.50</td>\n",
       "      <td>30305</td>\n",
       "      <td>6499</td>\n",
       "      <td>121188</td>\n",
       "      <td>14812</td>\n",
       "      <td>IN</td>\n",
       "      <td>[[[8837038.666, 1531353.3897], [8837103.6766, ...</td>\n",
       "    </tr>\n",
       "    <tr>\n",
       "      <th>4</th>\n",
       "      <td>4.07</td>\n",
       "      <td>37297</td>\n",
       "      <td>30324</td>\n",
       "      <td>20184</td>\n",
       "      <td>5</td>\n",
       "      <td>209428</td>\n",
       "      <td>1</td>\n",
       "      <td>28230017</td>\n",
       "      <td>4</td>\n",
       "      <td>210788</td>\n",
       "      <td>Tirupati (Urban)</td>\n",
       "      <td>5</td>\n",
       "      <td>0.336</td>\n",
       "      <td>109228.38</td>\n",
       "      <td>103187</td>\n",
       "      <td>15065</td>\n",
       "      <td>420216</td>\n",
       "      <td>34336</td>\n",
       "      <td>IN</td>\n",
       "      <td>[[[8847259.799, 1536517.5015], [8847121.5402, ...</td>\n",
       "    </tr>\n",
       "  </tbody>\n",
       "</table>\n",
       "</div>"
      ],
      "text/plain": [
       "   AVGHHSZ_CY  Age_15_30  Age_30_45  Age_45_60  ENRICH_FID  FEMALES_CY  \\\n",
       "0        4.17      88422      68297      47200           1      152876   \n",
       "1        4.09     129428      99956      69094           2      231802   \n",
       "2        4.22     126734      96990      64514           3      217140   \n",
       "3        4.00      16090      13083       8707           4       59844   \n",
       "4        4.07      37297      30324      20184           5      209428   \n",
       "\n",
       "   HasData        ID ID_1  MALES_CY              NAME  OBJECTID  POPPRM_CY  \\\n",
       "0        1  33050001    0    151502             Arani         1      0.244   \n",
       "1        1  33050004    1    232397             Polur         2      0.372   \n",
       "2        1  33060001    2    220315            Gingee         3      0.350   \n",
       "3        1  28230009    3     61344  Tirupati (Rural)         4      0.097   \n",
       "4        1  28230017    4    210788  Tirupati (Urban)         5      0.336   \n",
       "\n",
       "     PPPC_CY  TOTHH_CY  TOTPOP_60P  TOTPOP_CY  TOTPOP_U15 sourceCountry  \\\n",
       "0   70473.05     72919       33083     304378       78115            IN   \n",
       "1   53433.36    113137       48486     464199      114404            IN   \n",
       "2   52100.59    103631       43321     437455      117951            IN   \n",
       "3   86038.50     30305        6499     121188       14812            IN   \n",
       "4  109228.38    103187       15065     420216       34336            IN   \n",
       "\n",
       "                                      geometry.rings  \n",
       "0  [[[8827199.1362, 1430635.7809], [8827377.3587,...  \n",
       "1  [[[8806076.8194, 1431242.0543], [8805902.6044,...  \n",
       "2  [[[8832794.833, 1396138.2506], [8833315.8082, ...  \n",
       "3  [[[8837038.666, 1531353.3897], [8837103.6766, ...  \n",
       "4  [[[8847259.799, 1536517.5015], [8847121.5402, ...  "
      ]
     },
     "execution_count": 40,
     "metadata": {},
     "output_type": "execute_result"
    }
   ],
   "source": [
    "popdata.head()"
   ]
  },
  {
   "cell_type": "code",
   "execution_count": 41,
   "metadata": {
    "collapsed": false
   },
   "outputs": [
    {
     "data": {
      "text/html": [
       "<div>\n",
       "<table border=\"1\" class=\"dataframe\">\n",
       "  <thead>\n",
       "    <tr style=\"text-align: right;\">\n",
       "      <th></th>\n",
       "      <th>31</th>\n",
       "    </tr>\n",
       "  </thead>\n",
       "  <tbody>\n",
       "    <tr>\n",
       "      <th>AVGHHSZ_CY</th>\n",
       "      <td>4.01</td>\n",
       "    </tr>\n",
       "    <tr>\n",
       "      <th>Age_15_30</th>\n",
       "      <td>1291627</td>\n",
       "    </tr>\n",
       "    <tr>\n",
       "      <th>Age_30_45</th>\n",
       "      <td>1180692</td>\n",
       "    </tr>\n",
       "    <tr>\n",
       "      <th>Age_45_60</th>\n",
       "      <td>755891</td>\n",
       "    </tr>\n",
       "    <tr>\n",
       "      <th>ENRICH_FID</th>\n",
       "      <td>32</td>\n",
       "    </tr>\n",
       "    <tr>\n",
       "      <th>FEMALES_CY</th>\n",
       "      <td>2384546</td>\n",
       "    </tr>\n",
       "    <tr>\n",
       "      <th>HasData</th>\n",
       "      <td>1</td>\n",
       "    </tr>\n",
       "    <tr>\n",
       "      <th>ID</th>\n",
       "      <td>33020001</td>\n",
       "    </tr>\n",
       "    <tr>\n",
       "      <th>ID_1</th>\n",
       "      <td>4</td>\n",
       "    </tr>\n",
       "    <tr>\n",
       "      <th>MALES_CY</th>\n",
       "      <td>2410298</td>\n",
       "    </tr>\n",
       "    <tr>\n",
       "      <th>NAME</th>\n",
       "      <td>Chennai</td>\n",
       "    </tr>\n",
       "    <tr>\n",
       "      <th>OBJECTID</th>\n",
       "      <td>32</td>\n",
       "    </tr>\n",
       "    <tr>\n",
       "      <th>POPPRM_CY</th>\n",
       "      <td>3.838</td>\n",
       "    </tr>\n",
       "    <tr>\n",
       "      <th>PPPC_CY</th>\n",
       "      <td>187458.9</td>\n",
       "    </tr>\n",
       "    <tr>\n",
       "      <th>TOTHH_CY</th>\n",
       "      <td>1191796</td>\n",
       "    </tr>\n",
       "    <tr>\n",
       "      <th>TOTPOP_60P</th>\n",
       "      <td>463111</td>\n",
       "    </tr>\n",
       "    <tr>\n",
       "      <th>TOTPOP_CY</th>\n",
       "      <td>4794844</td>\n",
       "    </tr>\n",
       "    <tr>\n",
       "      <th>TOTPOP_U15</th>\n",
       "      <td>1013911</td>\n",
       "    </tr>\n",
       "    <tr>\n",
       "      <th>sourceCountry</th>\n",
       "      <td>IN</td>\n",
       "    </tr>\n",
       "    <tr>\n",
       "      <th>geometry.rings</th>\n",
       "      <td>[[[8934235.053, 1477301.5979], [8934239.3944, ...</td>\n",
       "    </tr>\n",
       "  </tbody>\n",
       "</table>\n",
       "</div>"
      ],
      "text/plain": [
       "                                                               31\n",
       "AVGHHSZ_CY                                                   4.01\n",
       "Age_15_30                                                 1291627\n",
       "Age_30_45                                                 1180692\n",
       "Age_45_60                                                  755891\n",
       "ENRICH_FID                                                     32\n",
       "FEMALES_CY                                                2384546\n",
       "HasData                                                         1\n",
       "ID                                                       33020001\n",
       "ID_1                                                            4\n",
       "MALES_CY                                                  2410298\n",
       "NAME                                                      Chennai\n",
       "OBJECTID                                                       32\n",
       "POPPRM_CY                                                   3.838\n",
       "PPPC_CY                                                  187458.9\n",
       "TOTHH_CY                                                  1191796\n",
       "TOTPOP_60P                                                 463111\n",
       "TOTPOP_CY                                                 4794844\n",
       "TOTPOP_U15                                                1013911\n",
       "sourceCountry                                                  IN\n",
       "geometry.rings  [[[8934235.053, 1477301.5979], [8934239.3944, ..."
      ]
     },
     "execution_count": 41,
     "metadata": {},
     "output_type": "execute_result"
    }
   ],
   "source": [
    "popdata[popdata.NAME == 'Chennai'].T"
   ]
  },
  {
   "cell_type": "markdown",
   "metadata": {},
   "source": [
    "#Flood Relief Camps\n",
    "\n",
    "To provide emergency assistance, the Tamil Nadu government has set up several flood relief camps in the flood affected areas. They provide food, shelter and the basic necessities to thousands of people displaced by the floods. The locations of the flood relief camps was obtained from http://cleanchennai.com/floodrelief/2015/12/09/relief-centers-as-on-8-dec-2015/ and published to the GIS as a layer, that is visualized below:"
   ]
  },
  {
   "cell_type": "code",
   "execution_count": 42,
   "metadata": {
    "collapsed": false
   },
   "outputs": [],
   "source": [
    "relief_centers = gis.content.search(\"Chennai Relief Centers\")[0]"
   ]
  },
  {
   "cell_type": "code",
   "execution_count": 43,
   "metadata": {
    "collapsed": false
   },
   "outputs": [],
   "source": [
    "reliefmap = MapView()\n",
    "reliefmap.center = gis.tools.geocoder.find_best_match(\"Madras\")\n",
    "reliefmap.zoom = 10\n",
    "reliefmap"
   ]
  },
  {
   "cell_type": "code",
   "execution_count": 44,
   "metadata": {
    "collapsed": false
   },
   "outputs": [],
   "source": [
    "reliefmap.add_layer(relief_centers)"
   ]
  },
  {
   "cell_type": "code",
   "execution_count": 45,
   "metadata": {
    "collapsed": false
   },
   "outputs": [
    {
     "data": {
      "text/html": [
       "<div>\n",
       "<table border=\"1\" class=\"dataframe\">\n",
       "  <thead>\n",
       "    <tr style=\"text-align: right;\">\n",
       "      <th></th>\n",
       "      <th>Contact_No</th>\n",
       "      <th>Division____No</th>\n",
       "      <th>FID</th>\n",
       "      <th>No_of_Centres</th>\n",
       "      <th>No_of_families</th>\n",
       "      <th>No_of_persons</th>\n",
       "      <th>Sl_No_</th>\n",
       "      <th>Zone_______No</th>\n",
       "      <th>_Locations</th>\n",
       "      <th>geometry.spatialReference.latestWkid</th>\n",
       "      <th>geometry.spatialReference.wkid</th>\n",
       "      <th>geometry.x</th>\n",
       "      <th>geometry.y</th>\n",
       "    </tr>\n",
       "  </thead>\n",
       "  <tbody>\n",
       "    <tr>\n",
       "      <th>0</th>\n",
       "      <td>Balamurali, 9445190311</td>\n",
       "      <td>10</td>\n",
       "      <td>1</td>\n",
       "      <td>10</td>\n",
       "      <td>65</td>\n",
       "      <td>200</td>\n",
       "      <td>1</td>\n",
       "      <td>I</td>\n",
       "      <td>Poonthotam School, Chennai</td>\n",
       "      <td>3857</td>\n",
       "      <td>102100</td>\n",
       "      <td>8919695.3342</td>\n",
       "      <td>1464332.8263</td>\n",
       "    </tr>\n",
       "    <tr>\n",
       "      <th>1</th>\n",
       "      <td>Jayakumar, 9445190302</td>\n",
       "      <td>2</td>\n",
       "      <td>2</td>\n",
       "      <td>NaN</td>\n",
       "      <td>200</td>\n",
       "      <td>600</td>\n",
       "      <td>2</td>\n",
       "      <td>NaN</td>\n",
       "      <td>St.Joseph church community Hall, Chennai</td>\n",
       "      <td>3857</td>\n",
       "      <td>102100</td>\n",
       "      <td>8936283.7041</td>\n",
       "      <td>1469202.8202</td>\n",
       "    </tr>\n",
       "    <tr>\n",
       "      <th>2</th>\n",
       "      <td>Jayakumar, 9445190302</td>\n",
       "      <td>2</td>\n",
       "      <td>3</td>\n",
       "      <td>NaN</td>\n",
       "      <td>75</td>\n",
       "      <td>250</td>\n",
       "      <td>3</td>\n",
       "      <td>NaN</td>\n",
       "      <td>Nehru Nagar chennai Middle school, Chennai</td>\n",
       "      <td>3857</td>\n",
       "      <td>102100</td>\n",
       "      <td>8916764.9546</td>\n",
       "      <td>1450941.6907</td>\n",
       "    </tr>\n",
       "    <tr>\n",
       "      <th>3</th>\n",
       "      <td>Shanmugam, 9445190301</td>\n",
       "      <td>7</td>\n",
       "      <td>4</td>\n",
       "      <td>NaN</td>\n",
       "      <td>15</td>\n",
       "      <td>50</td>\n",
       "      <td>4</td>\n",
       "      <td>NaN</td>\n",
       "      <td>Kalaimagal School, Chennai</td>\n",
       "      <td>3857</td>\n",
       "      <td>102100</td>\n",
       "      <td>8924034.0692</td>\n",
       "      <td>1462457.7992</td>\n",
       "    </tr>\n",
       "    <tr>\n",
       "      <th>4</th>\n",
       "      <td>Rameshkumar, 9445190304</td>\n",
       "      <td>4</td>\n",
       "      <td>5</td>\n",
       "      <td>NaN</td>\n",
       "      <td>100</td>\n",
       "      <td>300</td>\n",
       "      <td>5</td>\n",
       "      <td>NaN</td>\n",
       "      <td>Ramanathapuram School, Chennai</td>\n",
       "      <td>3857</td>\n",
       "      <td>102100</td>\n",
       "      <td>8919695.3342</td>\n",
       "      <td>1464332.8263</td>\n",
       "    </tr>\n",
       "  </tbody>\n",
       "</table>\n",
       "</div>"
      ],
      "text/plain": [
       "                Contact_No  Division____No  FID  No_of_Centres  \\\n",
       "0   Balamurali, 9445190311              10    1             10   \n",
       "1    Jayakumar, 9445190302               2    2            NaN   \n",
       "2    Jayakumar, 9445190302               2    3            NaN   \n",
       "3    Shanmugam, 9445190301               7    4            NaN   \n",
       "4  Rameshkumar, 9445190304               4    5            NaN   \n",
       "\n",
       "   No_of_families  No_of_persons  Sl_No_ Zone_______No  \\\n",
       "0              65            200       1             I   \n",
       "1             200            600       2           NaN   \n",
       "2              75            250       3           NaN   \n",
       "3              15             50       4           NaN   \n",
       "4             100            300       5           NaN   \n",
       "\n",
       "                                   _Locations  \\\n",
       "0                  Poonthotam School, Chennai   \n",
       "1    St.Joseph church community Hall, Chennai   \n",
       "2  Nehru Nagar chennai Middle school, Chennai   \n",
       "3                  Kalaimagal School, Chennai   \n",
       "4              Ramanathapuram School, Chennai   \n",
       "\n",
       "   geometry.spatialReference.latestWkid  geometry.spatialReference.wkid  \\\n",
       "0                                  3857                          102100   \n",
       "1                                  3857                          102100   \n",
       "2                                  3857                          102100   \n",
       "3                                  3857                          102100   \n",
       "4                                  3857                          102100   \n",
       "\n",
       "     geometry.x    geometry.y  \n",
       "0  8919695.3342  1464332.8263  \n",
       "1  8936283.7041  1469202.8202  \n",
       "2  8916764.9546  1450941.6907  \n",
       "3  8924034.0692  1462457.7992  \n",
       "4  8919695.3342  1464332.8263  "
      ]
     },
     "execution_count": 45,
     "metadata": {},
     "output_type": "execute_result"
    }
   ],
   "source": [
    "relief_data = FeatureCollection(relief_centers).to_df()\n",
    "relief_data.head()"
   ]
  },
  {
   "cell_type": "code",
   "execution_count": 46,
   "metadata": {
    "collapsed": false
   },
   "outputs": [
    {
     "data": {
      "text/plain": [
       "31478"
      ]
     },
     "execution_count": 46,
     "metadata": {},
     "output_type": "execute_result"
    }
   ],
   "source": [
    "relief_data['No_of_persons'].sum()"
   ]
  },
  {
   "cell_type": "code",
   "execution_count": 47,
   "metadata": {
    "collapsed": false
   },
   "outputs": [
    {
     "data": {
      "text/plain": [
       "count     136.000000\n",
       "mean      231.455882\n",
       "std       250.334202\n",
       "min        10.000000\n",
       "25%        60.000000\n",
       "50%       150.000000\n",
       "75%       300.000000\n",
       "max      1500.000000\n",
       "Name: No_of_persons, dtype: float64"
      ]
     },
     "execution_count": 47,
     "metadata": {},
     "output_type": "execute_result"
    }
   ],
   "source": [
    "relief_data['No_of_persons'].describe()"
   ]
  },
  {
   "cell_type": "code",
   "execution_count": 48,
   "metadata": {
    "collapsed": true
   },
   "outputs": [],
   "source": [
    "%matplotlib inline\n",
    "import matplotlib.pyplot as pd"
   ]
  },
  {
   "cell_type": "code",
   "execution_count": 49,
   "metadata": {
    "collapsed": false
   },
   "outputs": [
    {
     "data": {
      "text/plain": [
       "<matplotlib.axes._subplots.AxesSubplot at 0x9270828>"
      ]
     },
     "execution_count": 49,
     "metadata": {},
     "output_type": "execute_result"
    },
    {
     "data": {
      "image/png": "[encoded data removed]",
      "text/plain": [
       "<matplotlib.figure.Figure at 0xb74ba8>"
      ]
     },
     "metadata": {},
     "output_type": "display_data"
    }
   ],
   "source": [
    "relief_data['No_of_persons'].hist()"
   ]
  },
  {
   "cell_type": "code",
   "execution_count": 50,
   "metadata": {
    "collapsed": false
   },
   "outputs": [
    {
     "data": {
      "text/plain": [
       "(136, 13)"
      ]
     },
     "execution_count": 50,
     "metadata": {},
     "output_type": "execute_result"
    }
   ],
   "source": [
    "relief_data.shape"
   ]
  },
  {
   "cell_type": "markdown",
   "metadata": {},
   "source": [
    "As of 8th December, 2015, there were 31,478 people in the 136 relief camps. Let's aggregate them by the district the camp is located in:"
   ]
  },
  {
   "cell_type": "code",
   "execution_count": 51,
   "metadata": {
    "collapsed": false
   },
   "outputs": [],
   "source": [
    "res = gis.tools.analysis.aggregate_points(relief_centers, chennaipop, False, [\"No_of_persons Sum\"])"
   ]
  },
  {
   "cell_type": "code",
   "execution_count": 52,
   "metadata": {
    "collapsed": false
   },
   "outputs": [],
   "source": [
    "aggr_lyr = res['aggregated_layer']"
   ]
  },
  {
   "cell_type": "code",
   "execution_count": 53,
   "metadata": {
    "collapsed": true
   },
   "outputs": [],
   "source": [
    "reliefmap.add_layer(aggr_lyr, { \"renderer\": \"ClassedSizeRenderer\", \"field_name\":\"SUM_No_of_persons\"})"
   ]
  },
  {
   "cell_type": "code",
   "execution_count": 54,
   "metadata": {
    "collapsed": false
   },
   "outputs": [
    {
     "data": {
      "text/html": [
       "<div>\n",
       "<table border=\"1\" class=\"dataframe\">\n",
       "  <thead>\n",
       "    <tr style=\"text-align: right;\">\n",
       "      <th></th>\n",
       "      <th>SUM_No_of_persons</th>\n",
       "    </tr>\n",
       "    <tr>\n",
       "      <th>NAME</th>\n",
       "      <th></th>\n",
       "    </tr>\n",
       "  </thead>\n",
       "  <tbody>\n",
       "    <tr>\n",
       "      <th>Sriperumbudur</th>\n",
       "      <td>3155</td>\n",
       "    </tr>\n",
       "    <tr>\n",
       "      <th>Tambaram</th>\n",
       "      <td>950</td>\n",
       "    </tr>\n",
       "    <tr>\n",
       "      <th>Shollingalanur</th>\n",
       "      <td>1632</td>\n",
       "    </tr>\n",
       "    <tr>\n",
       "      <th>Chengalpattu</th>\n",
       "      <td>49</td>\n",
       "    </tr>\n",
       "    <tr>\n",
       "      <th>Poonamallee</th>\n",
       "      <td>2785</td>\n",
       "    </tr>\n",
       "    <tr>\n",
       "      <th>Ambattur</th>\n",
       "      <td>1886</td>\n",
       "    </tr>\n",
       "    <tr>\n",
       "      <th>Chennai</th>\n",
       "      <td>19765</td>\n",
       "    </tr>\n",
       "    <tr>\n",
       "      <th>Alandur</th>\n",
       "      <td>1256</td>\n",
       "    </tr>\n",
       "  </tbody>\n",
       "</table>\n",
       "</div>"
      ],
      "text/plain": [
       "                SUM_No_of_persons\n",
       "NAME                             \n",
       "Sriperumbudur                3155\n",
       "Tambaram                      950\n",
       "Shollingalanur               1632\n",
       "Chengalpattu                   49\n",
       "Poonamallee                  2785\n",
       "Ambattur                     1886\n",
       "Chennai                     19765\n",
       "Alandur                      1256"
      ]
     },
     "execution_count": 54,
     "metadata": {},
     "output_type": "execute_result"
    }
   ],
   "source": [
    "df = aggr_lyr.to_df()\n",
    "df2 = df[['NAME', 'SUM_No_of_persons']]\n",
    "df2.set_index('NAME', inplace=True)\n",
    "df2"
   ]
  },
  {
   "cell_type": "code",
   "execution_count": 55,
   "metadata": {
    "collapsed": false
   },
   "outputs": [
    {
     "data": {
      "text/plain": [
       "<matplotlib.axes._subplots.AxesSubplot at 0xa327588>"
      ]
     },
     "execution_count": 55,
     "metadata": {},
     "output_type": "execute_result"
    },
    {
     "data": {
      "image/png": "[encoded data removed]",
      "text/plain": [
       "<matplotlib.figure.Figure at 0xa403c8>"
      ]
     },
     "metadata": {},
     "output_type": "display_data"
    }
   ],
   "source": [
    "df2.plot(kind='bar')"
   ]
  },
  {
   "cell_type": "markdown",
   "metadata": {},
   "source": [
    "## Routing Emergency Supplies to Relief Camps"
   ]
  },
  {
   "cell_type": "markdown",
   "metadata": {},
   "source": [
    "A centralized center has been established at Nehru Stadium to organise the relief materials collected from various organizations and volunteers.  From there, the relief material is distributed to the needy flood affected people.\n",
    "\n",
    "The GIS provided routing tools that can help plan routes of the relief trucks from the center to relief camps:"
   ]
  },
  {
   "cell_type": "code",
   "execution_count": 56,
   "metadata": {
    "collapsed": true
   },
   "outputs": [],
   "source": [
    "routemap = MapView()\n",
    "routemap.center = gis.tools.geocoder.find_best_match(\"Madras\")\n",
    "routemap.zoom = 11\n",
    "routemap.height = '600px'\n",
    "routemap"
   ]
  },
  {
   "cell_type": "code",
   "execution_count": 57,
   "metadata": {
    "collapsed": true
   },
   "outputs": [],
   "source": [
    "nehru_stadium = gis.tools.geocoder.find_best_match('Jawaharlal Nehru Stadium, Chennai')\n",
    "routemap.draw(nehru_stadium, {\"title\": \"Nehru Stadium\", \"content\": \"Chennai Flood Relief Center\"})"
   ]
  },
  {
   "cell_type": "code",
   "execution_count": 58,
   "metadata": {
    "collapsed": false,
    "scrolled": false
   },
   "outputs": [
    {
     "name": "stderr",
     "output_type": "stream",
     "text": [
      "The following restriction attributes are not valid and were ignored: \"Roads Under Construction Prohibited, Avoid Unpaved Roads, Avoid Gates, Avoid Express Lanes, Avoid Carpool Roads\".\n",
      "The attribute name, \"Any Hazmat Prohibited\", used with parameter name, \"Restriction Usage\", is not valid and was ignored.\n",
      "The attribute name, \"Avoid Carpool Roads\", used with parameter name, \"Restriction Usage\", is not valid and was ignored.\n",
      "The attribute name, \"Avoid Express Lanes\", used with parameter name, \"Restriction Usage\", is not valid and was ignored.\n",
      "The attribute name, \"Avoid Gates\", used with parameter name, \"Restriction Usage\", is not valid and was ignored.\n",
      "The attribute name, \"Avoid Stairways\", used with parameter name, \"Restriction Usage\", is not valid and was ignored.\n",
      "The attribute name, \"Avoid Truck Restricted Roads\", used with parameter name, \"Restriction Usage\", is not valid and was ignored.\n",
      "The attribute name, \"Avoid Unpaved Roads\", used with parameter name, \"Restriction Usage\", is not valid and was ignored.\n",
      "The attribute name, \"Axle Count Restriction\", used with parameter name, \"Number of Axles\", is not valid and was ignored.\n",
      "The attribute name, \"Axle Count Restriction\", used with parameter name, \"Restriction Usage\", is not valid and was ignored.\n",
      "The attribute name, \"Driving a Bus\", used with parameter name, \"Restriction Usage\", is not valid and was ignored.\n",
      "The attribute name, \"Driving a Delivery Vehicle\", used with parameter name, \"Restriction Usage\", is not valid and was ignored.\n",
      "The attribute name, \"Driving a Taxi\", used with parameter name, \"Restriction Usage\", is not valid and was ignored.\n",
      "The attribute name, \"Driving an Emergency Vehicle\", used with parameter name, \"Restriction Usage\", is not valid and was ignored.\n",
      "The attribute name, \"Height Restriction\", used with parameter name, \"Restriction Usage\", is not valid and was ignored.\n",
      "The attribute name, \"Height Restriction\", used with parameter name, \"Vehicle Height (meters)\", is not valid and was ignored.\n",
      "The attribute name, \"Kingpin to Rear Axle Length Restriction\", used with parameter name, \"Restriction Usage\", is not valid and was ignored.\n",
      "The attribute name, \"Kingpin to Rear Axle Length Restriction\", used with parameter name, \"Vehicle Kingpin to Rear Axle Length (meters)\", is not valid and was ignored.\n",
      "The attribute name, \"Length Restriction\", used with parameter name, \"Restriction Usage\", is not valid and was ignored.\n",
      "The attribute name, \"Length Restriction\", used with parameter name, \"Vehicle Length (meters)\", is not valid and was ignored.\n",
      "The attribute name, \"Preferred for Pedestrians\", used with parameter name, \"Restriction Usage\", is not valid and was ignored.\n",
      "The attribute name, \"Riding a Motorcycle\", used with parameter name, \"Restriction Usage\", is not valid and was ignored.\n",
      "The attribute name, \"Roads Under Construction Prohibited\", used with parameter name, \"Restriction Usage\", is not valid and was ignored.\n",
      "The attribute name, \"Semi or Tractor with One or More Trailers Prohibited\", used with parameter name, \"Restriction Usage\", is not valid and was ignored.\n",
      "The attribute name, \"Single Axle Vehicles Prohibited\", used with parameter name, \"Restriction Usage\", is not valid and was ignored.\n",
      "The attribute name, \"Tandem Axle Vehicles Prohibited\", used with parameter name, \"Restriction Usage\", is not valid and was ignored.\n",
      "The attribute name, \"Truck with Trailers Restriction\", used with parameter name, \"Number of Trailers on Truck\", is not valid and was ignored.\n",
      "The attribute name, \"Truck with Trailers Restriction\", used with parameter name, \"Restriction Usage\", is not valid and was ignored.\n",
      "The attribute name, \"Use Preferred Hazmat Routes\", used with parameter name, \"Restriction Usage\", is not valid and was ignored.\n",
      "The attribute name, \"Use Preferred Truck Routes\", used with parameter name, \"Restriction Usage\", is not valid and was ignored.\n",
      "The attribute name, \"Weight Restriction\", used with parameter name, \"Restriction Usage\", is not valid and was ignored.\n",
      "The attribute name, \"Weight Restriction\", used with parameter name, \"Vehicle Weight (kilograms)\", is not valid and was ignored.\n",
      "The attribute name, \"Weight per Axle Restriction\", used with parameter name, \"Restriction Usage\", is not valid and was ignored.\n",
      "The attribute name, \"Weight per Axle Restriction\", used with parameter name, \"Vehicle Weight per Axle (kilograms)\", is not valid and was ignored.\n",
      "The attribute name, \"Width Restriction\", used with parameter name, \"Restriction Usage\", is not valid and was ignored.\n",
      "The attribute name, \"Width Restriction\", used with parameter name, \"Vehicle Width (meters)\", is not valid and was ignored.\n",
      "The following restriction attributes are not valid and were ignored: \"Roads Under Construction Prohibited, Avoid Unpaved Roads, Avoid Gates, Avoid Express Lanes, Avoid Carpool Roads\".\n",
      "Input field [OID] was not mapped to a field in the network analysis class \"Orders\".\n",
      "Input field [OID] was not mapped to a field in the network analysis class \"Depots\".\n",
      "Network elements with avoid-restrictions are traversed in the output (restriction attribute names: \"Avoid Private Roads\" \"Through Traffic Prohibited\").\n",
      "Some orders could not be routed due to violated constraints.\n",
      "Partial solution generated.\n",
      "{\"messageCode\": \"AO_100116\", \"message\": \"Only 10 out of 15 routes are needed to reach all stops. If you want to use more routes, run Plan Routes again but reduce the limits on the maximum number of stops or the total route time per vehicle.\", \"params\": {\"routesUsed\": 10, \"routeCount\": 15}}\n",
      "{\"messageCode\": \"AO_100115\", \"message\": \"Some stops were not assigned to any routes. Check the Violated Constraints field in the output unassigned stops layer for more information.\"}\n"
     ]
    }
   ],
   "source": [
    "routes = gis.tools.analysis.plan_routes(relief_centers, 15, 15, 1449984720000, nehru_stadium, stop_service_time=30)"
   ]
  },
  {
   "cell_type": "code",
   "execution_count": 59,
   "metadata": {
    "collapsed": true
   },
   "outputs": [],
   "source": [
    "routemap.add_layer(routes['routes_layer'])"
   ]
  },
  {
   "cell_type": "code",
   "execution_count": 60,
   "metadata": {
    "collapsed": true
   },
   "outputs": [],
   "source": [
    "routemap.add_layer(routes['assigned_stops_layer'])"
   ]
  },
  {
   "cell_type": "markdown",
   "metadata": {
    "collapsed": true
   },
   "source": [
    "Once the routes have been generated, they can be given to drivers, and used to ensure that relief material is promptly delivered to those in need and help alleviate the suffering they are going through, caused by this devastating flood."
   ]
  }
 ],
 "metadata": {
  "kernelspec": {
   "display_name": "Python 3",
   "language": "python",
   "name": "python3"
  }
 },
 "nbformat": 4,
 "nbformat_minor": 0
}
