{
 "cells": [
  {
   "cell_type": "markdown",
   "metadata": {},
   "source": [
    "# Multi-object Tracking using ObjectTracker"
   ]
  },
  {
   "cell_type": "markdown",
   "metadata": {},
   "source": [
    "Deep learning based Object Detection models in arcgis.learn can be used to detect objects of interest. The [Object detection with arcgis.learn](https://developers.arcgis.com/python/guide/object-detection/) guide details how we can train such models and use them to detect objects. Deep learning based Object Tracking models in arcgis.learn can be used to track objects, given the location of the target object in the first frame of the sequence. The [Track Objects using SiamMask](https://developers.arcgis.com/python/guide/track_objects_using_siammask/) guide details how we can train such models and use them to track objects. \n",
    "This guide describes the usage of **ObjectTracker** class in arcgis.learn which pairs Object Detection models and Object Tracking models to enable Deep Learning powered multi-object tracking.  "
   ]
  },
  {
   "cell_type": "markdown",
   "metadata": {},
   "source": [
    "<p align=\"center\"><img src=\"../../static/img/multi_object_tracking_using_object_tracker.gif\\\" /></p>\n",
    "\n",
    "<center>Figure 1. Example showing multi-object tracking using ObjectTracker</center>"
   ]
  },
  {
   "cell_type": "markdown",
   "metadata": {},
   "source": [
    "### Workflow Steps"
   ]
  },
  {
   "cell_type": "markdown",
   "metadata": {},
   "source": [
    "***Step 1*** Train Object Detector"
   ]
  },
  {
   "cell_type": "markdown",
   "metadata": {},
   "source": [
    "Based on the use-case, we select the appropriate object detection model from the list of models available in arcgis.learn. The steps outlined in the [Object detection with arcgis.learn](https://developers.arcgis.com/python/guide/object-detection/) guide are followed to train a model for the targeted use-case."
   ]
  },
  {
   "cell_type": "markdown",
   "metadata": {},
   "source": [
    "***Step 2*** Train Object Tracker"
   ]
  },
  {
   "cell_type": "markdown",
   "metadata": {},
   "source": [
    "Follow the steps outlined in [Track Objects using SiamMask]() guide to train an object tracking model for the targeted use-case."
   ]
  },
  {
   "cell_type": "markdown",
   "metadata": {},
   "source": [
    "***Step 3*** Initialize and track objects using **ObjectTracker**"
   ]
  },
  {
   "cell_type": "markdown",
   "metadata": {},
   "source": [
    "The ObjectTracker class lets us use Object Detector model trained in *Step 1* and Object Tracking model trained in *Step 2* together.\n",
    "We can load the trained models using their respective model classes and use the model instances to create an ObjectTracker instance. To use the ObjectTracker instance, initialize the required/optional parameters and call the init/update methods as described below."
   ]
  },
  {
   "cell_type": "markdown",
   "metadata": {},
   "source": [
    "## ObjectTracker implementation in `arcgis.learn`"
   ]
  },
  {
   "cell_type": "markdown",
   "metadata": {},
   "source": [
    "Import the Object Detection model class and Object Tracking model class from arcgis.learn module."
   ]
  },
  {
   "cell_type": "code",
   "execution_count": null,
   "metadata": {
    "scrolled": true
   },
   "outputs": [],
   "source": [
    "from arcgis.learn import <Object Detection Model>, <Object Tracking Model>"
   ]
  },
  {
   "cell_type": "markdown",
   "metadata": {},
   "source": [
    "**Note**: Object Detection Model refers to any of the object detection models available in arcgis.learn. Object Tracking Model refers to any of the object tracking models available in arcgis.learn"
   ]
  },
  {
   "cell_type": "markdown",
   "metadata": {},
   "source": [
    "Import the ObjectTracker class from arcgis.learn module."
   ]
  },
  {
   "cell_type": "code",
   "execution_count": null,
   "metadata": {},
   "outputs": [],
   "source": [
    "from arcgis.learn import ObjectTracker"
   ]
  },
  {
   "cell_type": "markdown",
   "metadata": {},
   "source": [
    "## Instantiate ObjectTracker"
   ]
  },
  {
   "cell_type": "code",
   "execution_count": null,
   "metadata": {},
   "outputs": [],
   "source": [
    "detection_model = <Object Detection Model>.from_model(DETECTION_MODEL_PATH)\n",
    "tracking_model = <Object Tracking Model>.from_model(TRACKING_MODEL_PATH)"
   ]
  },
  {
   "cell_type": "markdown",
   "metadata": {},
   "source": [
    "**Note**: DETECTION_MODEL_PATH refers to the path pointing to the trained object detection model obtained in step 1 of the workflow. TRACKING_MODEL_PATH refers to the path pointing to the trained object tracking model obtained in step 2 of the workflow."
   ]
  },
  {
   "cell_type": "markdown",
   "metadata": {},
   "source": [
    "## Initialize Tracker Options"
   ]
  },
  {
   "cell_type": "markdown",
   "metadata": {},
   "source": [
    "*Tracker Options* refers to a set of parameters which can be initialized to values based on the specific application. If not initialized, the parameters are set to default values."
   ]
  },
  {
   "cell_type": "markdown",
   "metadata": {},
   "source": [
    "* The parameters to be passed are as follows:\n",
    "    * `detection_interval`: Interval in frames at which the detector is invoked.\n",
    "    \n",
    "    * `detection_threshold`:  Lower threshold for selecting the detections.\n",
    "    \n",
    "    * `detect_track_failure`: Flag which enables/disables the logic to detect whether the object appearance has changed detection.\n",
    "    \n",
    "    * `recover_track`: Flag which enables/disables track recovery post failure.\n",
    "\n",
    "    * `stab_period`: Number of frames after which post processing starts.\n",
    "    \n",
    "    * `detect_fail_interval`: Number of frames after which to detect track failure.\n",
    "    \n",
    "    * `min_obj_size`: Size in pixels below which tracking is assumed to have failed.\n",
    "    \n",
    "    * `template_history`: Number of frames before the current frame at which template image is fetched.\n",
    "\n",
    "    * `status_history`: Number of frames over which status of the track is used to detect track failure.\n",
    "\n",
    "    * `status_fail_threshold`: Threshold for the ratio between number of frames for which object is searched for and the total number of frames which needs to be crossed for track failure detection.\n",
    "    \n",
    "    * `search_period`: Number of frames for which object is searched for before declaring object is lost.\n",
    "\n",
    "    * `knn_distance_ratio`: Threshold for ratio of the distances between template descriptor and the two best matched detection descriptor, used for filtering best matches.\n",
    "    \n",
    "    * `recover_conf_threshold`: Minimum confidence value over which recovery logic is enabled.\n",
    "    \n",
    "    * `recover_iou_threshold`: Minimum overlap between template and detection for successful recovery.   "
   ]
  },
  {
   "cell_type": "code",
   "execution_count": null,
   "metadata": {},
   "outputs": [],
   "source": [
    "tracker = ObjectTracker(tracking_model, detector=detection_model, tracker_options=TRACKER_OPTIONS)"
   ]
  },
  {
   "cell_type": "markdown",
   "metadata": {},
   "source": [
    "## init and update methods"
   ]
  },
  {
   "cell_type": "markdown",
   "metadata": {},
   "source": [
    "### Initialize objects"
   ]
  },
  {
   "cell_type": "markdown",
   "metadata": {},
   "source": [
    "This method helps in initializing detected object(s) using output of object detection model"
   ]
  },
  {
   "cell_type": "code",
   "execution_count": null,
   "metadata": {},
   "outputs": [],
   "source": [
    "tracks = tracker.init(frame)"
   ]
  },
  {
   "cell_type": "markdown",
   "metadata": {},
   "source": [
    "* The parameters to be passed are as follows:\n",
    "    * `frame`: Required numpy array. frame is used to initialize the objects to track..\n",
    "    \n",
    "    * `detections`: Optional list. A list of bounding box to intialize the tracks.\n",
    "    \n",
    "    * `labels`: Optional list. A list of labels corresponding to the detections.\n",
    "    \n",
    "    * `reset`: Optional flag. Indicates whether to reset the tracker and remove all existing tracks before initialization.\n",
    "    \n",
    "\n",
    "The method returns list of initialized tracks\n",
    "    \n",
    "**Note:** Each time detections and labels are passed, the length of the detections must match to the length of the tags."
   ]
  },
  {
   "cell_type": "markdown",
   "metadata": {},
   "source": [
    "### Update the location of objects"
   ]
  },
  {
   "cell_type": "markdown",
   "metadata": {},
   "source": [
    "This method helps in updating the location of objects and reinitializing object(s) "
   ]
  },
  {
   "cell_type": "code",
   "execution_count": null,
   "metadata": {},
   "outputs": [],
   "source": [
    "tracks = tracker.update(frame)"
   ]
  },
  {
   "cell_type": "markdown",
   "metadata": {},
   "source": [
    "* The parameters to be passed are as follows:\n",
    "    * `frame`: Required numpy array. frame is the current frame to be used to track the objects.\n",
    "\n",
    "The method returns list of updated tracks"
   ]
  },
  {
   "cell_type": "markdown",
   "metadata": {},
   "source": [
    "### Sample code"
   ]
  },
  {
   "cell_type": "markdown",
   "metadata": {},
   "source": [
    "The following code snippet reads frames from a video, processes them using ObjectTracker class APIs and writes the output annotations to a file."
   ]
  },
  {
   "cell_type": "code",
   "execution_count": null,
   "metadata": {},
   "outputs": [],
   "source": [
    "from arcgis.learn import ObjectTracker, <Object Detection Model>, <Object Tracking Model>\n",
    "import cv2\n",
    "\n",
    "detection_model = <Object Detection Model>.from_model(DETECTION_MODEL_PATH)\n",
    "tracking_model = <Object Tracking Model>.from_model(TRACKING_MODEL_PATH)\n",
    "\n",
    "tracker = ObjectTracker(tracking_model, detector=detection_model)\n",
    "\n",
    "cap = cv2.VideoCapture(str(INPUT_VIDEO_PATH))\n",
    "cap_write = cv2.VideoWriter(filename=OUTPUT_VIDEO_PATH, apiPreference=cv2.CAP_FFMPEG, \\\n",
    "                            fourcc=cv2.VideoWriter_fourcc(*'MJPG'), fps=30, frameSize=(1920, 1080))\n",
    "\n",
    "success, frame = cap.read()\n",
    "\n",
    "if success:\n",
    "    tracks = tracker.init(frame)\n",
    "    for track in tracks:\n",
    "        p1 = (int(track.bbox[0]), int(track.bbox[1]))\n",
    "        p2 = (int(track.bbox[0] + track.bbox[2]), int(track.bbox[1] + track.bbox[3]))\n",
    "        cv2.rectangle(frame, p1, p2, (0, 255, 0), 2, 1)\n",
    "    cap_write.write(frame)\n",
    "\n",
    "\n",
    "while cap.isOpened():\n",
    "    success, frame = cap.read()\n",
    "    tracks = tracker.update(frame)\n",
    "\n",
    "    for track in tracks:\n",
    "        p1 = (int(track.bbox[0]), int(track.bbox[1]))\n",
    "        p2 = (int(track.bbox[0] + track.bbox[2]), int(track.bbox[1] + track.bbox[3]))\n",
    "        cv2.rectangle(frame, p1, p2, (0, 0, 255), 2, 1)\n",
    "    cap_write.write(frame)\n",
    "\n",
    "    if not success:\n",
    "        break\n",
    "\n",
    "cap.release()"
   ]
  },
  {
   "cell_type": "markdown",
   "metadata": {},
   "source": [
    "## References"
   ]
  },
  {
   "cell_type": "markdown",
   "metadata": {},
   "source": [
    "ObjectTracker class API Reference [https://developers.arcgis.com/python/api-reference/arcgis.learn.toc.html#objecttracker ]"
   ]
  }
 ],
 "metadata": {
  "kernelspec": {
   "display_name": "Python 3",
   "language": "python",
   "name": "python3"
  },
  "language_info": {
   "codemirror_mode": {
    "name": "ipython",
    "version": 3
   },
   "file_extension": ".py",
   "mimetype": "text/x-python",
   "name": "python",
   "nbconvert_exporter": "python",
   "pygments_lexer": "ipython3",
   "version": "3.7.10"
  }
 },
 "nbformat": 4,
 "nbformat_minor": 4
}
