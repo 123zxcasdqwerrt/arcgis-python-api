{
 "cells": [
  {
   "cell_type": "markdown",
   "metadata": {},
   "source": [
    "# Install using Conda\n",
    "\n",
    "The ArcGIS Python API is distributed via conda.\n",
    "\n",
    "To learn more about conda, see the [getting started guide](http://conda.pydata.org/docs/get-started.html) for conda.\n",
    "\n",
    "## Get Conda\n",
    "Install the latest version of [Anaconda for Python](https://www.continuum.io/downloads), if you don't already have conda.\n",
    "\n",
    "## Install arcgis package\n",
    "Download and install ArcGIS Python API in your conda environment, using the following commands in cmd.exe or your shell:\n",
    "\n",
    "    conda install -c conda-forge ipywidgets\n",
    "    conda install -c geonuma arcgis\n",
    "    python -m arcgis.install\n",
    "    \n",
    "On Linux, use the following command instead (if you get a permission error with the last command):\n",
    "\n",
    "    sudo python -m arcgis.install\n",
    "\n",
    "You can now start using the ArcGIS Python API in your Python IDE of choice, or the Jupyter Notebook environment.\n",
    "\n",
    "## Start jupyter notebook\n",
    "To use the API in the jupyter notebook environment, use the following command in  cmd.exe or your shell:\n",
    "\n",
    "    jupyter notebook\n",
    "\n",
    "## Test your install\n",
    "Create a Python 3 notebook with these lines of code:\n",
    "\n",
    "    from arcgis.gis import *\n",
    "    gis = GIS()\n",
    "    gis.map()\n",
    "    \n",
    "If a map shows up, you're all set."
   ]
  }
 ],
 "metadata": {
  "kernelspec": {
   "display_name": "Python 3",
   "language": "python",
   "name": "python3"
  },
  "language_info": {
   "codemirror_mode": {
    "name": "ipython",
    "version": 3
   },
   "file_extension": ".py",
   "mimetype": "text/x-python",
   "name": "python",
   "nbconvert_exporter": "python",
   "pygments_lexer": "ipython3",
   "version": "3.5.1"
  },
  "widgets": {
   "state": {},
   "version": "1.1.2"
  }
 },
 "nbformat": 4,
 "nbformat_minor": 0
}
