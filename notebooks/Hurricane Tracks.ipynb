{
 "cells": [
  {
   "cell_type": "code",
   "execution_count": 18,
   "metadata": {
    "collapsed": true
   },
   "outputs": [],
   "source": [
    "gis = GIS(\"https://dev06999.esri.com/portal/\", \"admin\", \"changeit\")\n",
    "gae = GeoAnalyticsTools('https://dev06999.esri.com/server/rest/services/GeoAnalyticsTools/GPServer', gis)"
   ]
  },
  {
   "cell_type": "code",
   "execution_count": 19,
   "metadata": {
    "collapsed": false
   },
   "outputs": [
    {
     "name": "stdout",
     "output_type": "stream",
     "text": [
      "Submitted.\n",
      "Executing...\n",
      "Executing (Reconstruct Tracks): ReconstructTracks /server/datastores/bigDataFileShares/gae6/hurricanes # serial_num GEODESIC # # # # # #\n",
      "Start Time: Mon Dec 14 06:32:52 2015\n",
      "Using GPString param: /server/datastores/bigDataFileShares/gae6/hurricanes\n",
      "valid coordinate range : Envelope: [-400.0, -400.0, 9006799.25474099, 9006799.25474099]\n",
      "Writing to managed relational datastore (table=ReconstructTracks_j8dac76640de44bb0ac7f59122c86629f)\n",
      " * interval=1848-01-11 06:00:00.000 -> 1899-12-26 06:00:00.000\n",
      " * count=568\n",
      "Created feature service for result: http://Dev06999.esri.com/server/rest/services/Hosted/ReconstructTracks_j8dac76640de44bb0ac7f59122c86629f/FeatureServer\n",
      "Succeeded at Mon Dec 14 06:33:53 2015 (Elapsed Time: 1 minutes 0 seconds)\n",
      "{'out_features': {'url': 'http://Dev06999.esri.com/server/rest/services/Hosted/ReconstructTracks_j8dac76640de44bb0ac7f59122c86629f/FeatureServer/0'}}\n"
     ]
    },
    {
     "name": "stderr",
     "output_type": "stream",
     "text": [
      "Possible issues were found while reading 'in_features'\n",
      " * Some records have no time values or the time values were unable to be parsed\n",
      "      > [null,[1979260N16312,1979,16,NA,MM,UNNAMED,9/19/1979 12:00,TS,28.8,-51.5,30.0,0,atcf,17.071,-100.0,main,30000,30000],null,{\"x\":-51.5,\"y\":28.8}]\n",
      "      > [null,[1979260N16312,1979,16,NA,MM,UNNAMED,9/19/1979 18:00,TS,30.2,-51.5,30.0,0,atcf,17.071,-100.0,main,30000,30000],null,{\"x\":-51.5,\"y\":30.2}]\n",
      "      > [null,[1979260N16312,1979,16,NA,MM,UNNAMED,9/20/1979 0:00,TS,32.1,-51.2,30.0,0,atcf,17.071,-100.0,main,30000,30000],null,{\"x\":-51.2,\"y\":32.1}]\n"
     ]
    }
   ],
   "source": [
    "tracks = gae.reconstruct_tracks(\"/server/datastores/bigDataFileShares/gae6/hurricanes\", None, \"serial_num\", \"GEODESIC\", None, None)"
   ]
  },
  {
   "cell_type": "code",
   "execution_count": 20,
   "metadata": {
    "collapsed": true
   },
   "outputs": [],
   "source": [
    "map = MapView()"
   ]
  },
  {
   "cell_type": "code",
   "execution_count": 21,
   "metadata": {
    "collapsed": true
   },
   "outputs": [],
   "source": [
    "map"
   ]
  },
  {
   "cell_type": "code",
   "execution_count": 22,
   "metadata": {
    "collapsed": true
   },
   "outputs": [],
   "source": [
    "map.add_layer(tracks)"
   ]
  },
  {
   "cell_type": "code",
   "execution_count": 33,
   "metadata": {
    "collapsed": true
   },
   "outputs": [],
   "source": [
    "map.set_time_extent('1/1/1887 UTC', '1/1/1888 UTC')"
   ]
  }
 ],
 "metadata": {
  "kernelspec": {
   "display_name": "Python 3",
   "language": "python",
   "name": "python3"
  },
  "language_info": {
   "codemirror_mode": {
    "name": "ipython",
    "version": 3
   },
   "file_extension": ".py",
   "mimetype": "text/x-python",
   "name": "python",
   "nbconvert_exporter": "python",
   "pygments_lexer": "ipython3",
   "version": "3.4.3"
  }
 },
 "nbformat": 4,
 "nbformat_minor": 0
}
