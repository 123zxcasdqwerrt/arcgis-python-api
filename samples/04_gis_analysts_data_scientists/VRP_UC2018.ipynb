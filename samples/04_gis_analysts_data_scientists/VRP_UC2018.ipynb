{
 "cells": [
  {
   "cell_type": "markdown",
   "metadata": {},
   "source": [
    "# Appliance repair with Vehicle Routing Problem Solver\n"
   ]
  },
  {
   "cell_type": "markdown",
   "metadata": {},
   "source": [
    "In this tutorial, we will use the Python API for VRP to find optimized routes given a set of orders to serve and a set of vehicles with constraints. All you need to do is pass in the \"depot\" locations, \"route\" (vehicle) details, the \"order\" locations, and specify additional properties for orders. The service will return routes with directions. Once you have the results you can add the routes to a map, display the turn-by-turn directions, or integrate them further into your application. To learn more about the capabilities of the routing and directions services, please visit the documentation."
   ]
  },
  {
   "cell_type": "markdown",
   "metadata": {},
   "source": [
    "#### Import required libraries and initialise arcgis online portal."
   ]
  },
  {
   "cell_type": "code",
   "execution_count": 1,
   "metadata": {},
   "outputs": [],
   "source": [
    "import arcgis\n",
    "import pandas as pd\n",
    "import datetime\n",
    "import getpass\n",
    "from IPython.display import HTML\n",
    "\n",
    "from arcgis import geocoding\n",
    "from arcgis.features import Feature, FeatureSet"
   ]
  },
  {
   "cell_type": "code",
   "execution_count": 2,
   "metadata": {},
   "outputs": [
    {
     "name": "stdout",
     "output_type": "stream",
     "text": [
      "Enter ArcGIS Online user name:········\n",
      "Enter ArcGIS Online user password:········\n"
     ]
    }
   ],
   "source": [
    "portal_url = 'https://www.arcgis.com'\n",
    "username = getpass.getpass(\"Enter ArcGIS Online user name:\")\n",
    "password = getpass.getpass(\"Enter ArcGIS Online user password:\")\n",
    "\n",
    "my_gis = arcgis.GIS(portal_url, username, password)"
   ]
  },
  {
   "cell_type": "markdown",
   "metadata": {},
   "source": [
    "\n",
    "##### Draw map to visualize the inputs and results.\n"
   ]
  },
  {
   "cell_type": "code",
   "execution_count": 32,
   "metadata": {
    "scrolled": true
   },
   "outputs": [
    {
     "data": {
      "application/vnd.jupyter.widget-view+json": {
       "model_id": "a31612568b874aeabe570216a46ac384",
       "version_major": 2,
       "version_minor": 0
      },
      "text/plain": [
       "MapView(basemaps=['dark-gray', 'dark-gray-vector', 'gray', 'gray-vector', 'hybrid', 'national-geographic', 'oc…"
      ]
     },
     "metadata": {},
     "output_type": "display_data"
    }
   ],
   "source": [
    "# Create a map of San Fransisco, California.\n",
    "map_view = my_gis.map('San Fransisco, United States')\n",
    "#map_view.basemap = 'dark-gray'\n",
    "map_view"
   ]
  },
  {
   "cell_type": "markdown",
   "metadata": {},
   "source": [
    "### Types of inputs: \n",
    "- Geocode or reverse geocode\n",
    "- csv file\n",
    "- json file\n",
    "- online feature service\n"
   ]
  },
  {
   "cell_type": "markdown",
   "metadata": {},
   "source": [
    "Read csvs for orders, depots and routes."
   ]
  },
  {
   "cell_type": "code",
   "execution_count": 5,
   "metadata": {},
   "outputs": [],
   "source": [
    "orders_csv = \"orders.csv\"\n",
    "routes_csv = \"routes.csv\"\n",
    "depots_csv = \"depots.csv\""
   ]
  },
  {
   "cell_type": "markdown",
   "metadata": {},
   "source": [
    "#### Routes from csv:\n",
    "To get a featuresets from dataframe, we convert the CSV to a pandas data frame using read_csv function. Note that in our CSV, `EarliestStartTime` and `LatestStartTime` values are represented as strings denoting time in the local time zone of the computer. So we need to parse these values as date-time values which we accomplish by specifying to_datetime function as the datetime parser.\n",
    "\n",
    "When calling `arcgis.network.analysis.solve_vehicle_routing_problem` function we need to pass the datetime values in milliseconds since epoch. The `routes_df` dataframe stores these values as datetime type. We convert from datetime to int64 datatype which stores the values in nano seconds. So we convert them to milliseconds."
   ]
  },
  {
   "cell_type": "code",
   "execution_count": 6,
   "metadata": {
    "scrolled": false
   },
   "outputs": [
    {
     "data": {
      "text/html": [
       "<div>\n",
       "<style>\n",
       "    .dataframe thead tr:only-child th {\n",
       "        text-align: right;\n",
       "    }\n",
       "\n",
       "    .dataframe thead th {\n",
       "        text-align: left;\n",
       "    }\n",
       "\n",
       "    .dataframe tbody tr th {\n",
       "        vertical-align: top;\n",
       "    }\n",
       "</style>\n",
       "<table border=\"1\" class=\"dataframe\">\n",
       "  <thead>\n",
       "    <tr style=\"text-align: right;\">\n",
       "      <th></th>\n",
       "      <th>ObjectID</th>\n",
       "      <th>Name</th>\n",
       "      <th>Description</th>\n",
       "      <th>StartDepotName</th>\n",
       "      <th>EndDepotName</th>\n",
       "      <th>StartDepotServiceTime</th>\n",
       "      <th>EndDepotServiceTime</th>\n",
       "      <th>EarliestStartTime</th>\n",
       "      <th>LatestStartTime</th>\n",
       "      <th>ArriveDepartDelay</th>\n",
       "      <th>...</th>\n",
       "      <th>TotalTravelTime</th>\n",
       "      <th>TotalDistance</th>\n",
       "      <th>StartTime</th>\n",
       "      <th>EndTime</th>\n",
       "      <th>StartTimeUTC</th>\n",
       "      <th>EndTimeUTC</th>\n",
       "      <th>TotalWaitTime</th>\n",
       "      <th>TotalViolationTime</th>\n",
       "      <th>RenewalCount</th>\n",
       "      <th>TotalRenewalServiceTime</th>\n",
       "    </tr>\n",
       "  </thead>\n",
       "  <tbody>\n",
       "    <tr>\n",
       "      <th>0</th>\n",
       "      <td>1</td>\n",
       "      <td>Route1</td>\n",
       "      <td>NaN</td>\n",
       "      <td>Warehouse</td>\n",
       "      <td>Warehouse</td>\n",
       "      <td>NaN</td>\n",
       "      <td>30</td>\n",
       "      <td>-2.209133e+12</td>\n",
       "      <td>-2.209126e+12</td>\n",
       "      <td>NaN</td>\n",
       "      <td>...</td>\n",
       "      <td>91.949035</td>\n",
       "      <td>0</td>\n",
       "      <td>4/4/2018 8:00</td>\n",
       "      <td>4/4/2018 10:05</td>\n",
       "      <td>4/4/2018 8:00</td>\n",
       "      <td>4/4/2018 10:05</td>\n",
       "      <td>0</td>\n",
       "      <td>0</td>\n",
       "      <td>0</td>\n",
       "      <td>0</td>\n",
       "    </tr>\n",
       "    <tr>\n",
       "      <th>1</th>\n",
       "      <td>2</td>\n",
       "      <td>Route2</td>\n",
       "      <td>NaN</td>\n",
       "      <td>Warehouse</td>\n",
       "      <td>Warehouse</td>\n",
       "      <td>NaN</td>\n",
       "      <td>30</td>\n",
       "      <td>-2.209133e+12</td>\n",
       "      <td>-2.209126e+12</td>\n",
       "      <td>NaN</td>\n",
       "      <td>...</td>\n",
       "      <td>76.920945</td>\n",
       "      <td>0</td>\n",
       "      <td>4/4/2018 8:00</td>\n",
       "      <td>4/4/2018 9:49</td>\n",
       "      <td>4/4/2018 8:00</td>\n",
       "      <td>4/4/2018 9:49</td>\n",
       "      <td>0</td>\n",
       "      <td>0</td>\n",
       "      <td>0</td>\n",
       "      <td>0</td>\n",
       "    </tr>\n",
       "  </tbody>\n",
       "</table>\n",
       "<p>2 rows × 41 columns</p>\n",
       "</div>"
      ],
      "text/plain": [
       "   ObjectID    Name  Description StartDepotName EndDepotName  \\\n",
       "0         1  Route1          NaN      Warehouse    Warehouse   \n",
       "1         2  Route2          NaN      Warehouse    Warehouse   \n",
       "\n",
       "   StartDepotServiceTime  EndDepotServiceTime  EarliestStartTime  \\\n",
       "0                    NaN                   30      -2.209133e+12   \n",
       "1                    NaN                   30      -2.209133e+12   \n",
       "\n",
       "   LatestStartTime  ArriveDepartDelay           ...             \\\n",
       "0    -2.209126e+12                NaN           ...              \n",
       "1    -2.209126e+12                NaN           ...              \n",
       "\n",
       "   TotalTravelTime  TotalDistance      StartTime         EndTime  \\\n",
       "0        91.949035              0  4/4/2018 8:00  4/4/2018 10:05   \n",
       "1        76.920945              0  4/4/2018 8:00   4/4/2018 9:49   \n",
       "\n",
       "    StartTimeUTC      EndTimeUTC  TotalWaitTime  TotalViolationTime  \\\n",
       "0  4/4/2018 8:00  4/4/2018 10:05              0                   0   \n",
       "1  4/4/2018 8:00   4/4/2018 9:49              0                   0   \n",
       "\n",
       "   RenewalCount  TotalRenewalServiceTime  \n",
       "0             0                        0  \n",
       "1             0                        0  \n",
       "\n",
       "[2 rows x 41 columns]"
      ]
     },
     "execution_count": 6,
     "metadata": {},
     "output_type": "execute_result"
    }
   ],
   "source": [
    "routes_df = pd.read_csv(routes_csv, parse_dates=[\"EarliestStartTime\", \"LatestStartTime\"], date_parser=pd.to_datetime)\n",
    "routes_df[\"EarliestStartTime\"] = routes_df[\"EarliestStartTime\"].astype(\"int64\") / 10 ** 6\n",
    "routes_df[\"LatestStartTime\"] = routes_df[\"LatestStartTime\"].astype(\"int64\") / 10 ** 6\n",
    "routes_fs = arcgis.features.FeatureSet.from_dataframe(routes_df)\n",
    "routes_df"
   ]
  },
  {
   "cell_type": "markdown",
   "metadata": {},
   "source": [
    "#### Orders from csv :\n",
    "Orders CSV file has an `Address` column. So we convert orders CSV to a SpatialDataFrame using the address values to geocode order locations."
   ]
  },
  {
   "cell_type": "code",
   "execution_count": 7,
   "metadata": {
    "scrolled": true
   },
   "outputs": [
    {
     "data": {
      "text/html": [
       "<div>\n",
       "<style>\n",
       "    .dataframe thead tr:only-child th {\n",
       "        text-align: right;\n",
       "    }\n",
       "\n",
       "    .dataframe thead th {\n",
       "        text-align: left;\n",
       "    }\n",
       "\n",
       "    .dataframe tbody tr th {\n",
       "        vertical-align: top;\n",
       "    }\n",
       "</style>\n",
       "<table border=\"1\" class=\"dataframe\">\n",
       "  <thead>\n",
       "    <tr style=\"text-align: right;\">\n",
       "      <th></th>\n",
       "      <th>Address</th>\n",
       "      <th>SHAPE</th>\n",
       "    </tr>\n",
       "  </thead>\n",
       "  <tbody>\n",
       "    <tr>\n",
       "      <th>0</th>\n",
       "      <td>855 La Playa St, San Francisco, California, 94121</td>\n",
       "      <td>{'x': -122.51000717199997, 'y': 37.77222479500...</td>\n",
       "    </tr>\n",
       "    <tr>\n",
       "      <th>1</th>\n",
       "      <td>90 W Manor Dr, Pacifica, California, 94044</td>\n",
       "      <td>{'x': -122.49172837699996, 'y': 37.64931769600...</td>\n",
       "    </tr>\n",
       "    <tr>\n",
       "      <th>2</th>\n",
       "      <td>22 Plymouth Ave, Mill Valley, California, 94941</td>\n",
       "      <td>{'x': -122.53238122599998, 'y': 37.89567777300...</td>\n",
       "    </tr>\n",
       "    <tr>\n",
       "      <th>3</th>\n",
       "      <td>801-899 Curtis St, Albany, California, 94706</td>\n",
       "      <td>{'x': -122.28735777699995, 'y': 37.89263638200...</td>\n",
       "    </tr>\n",
       "    <tr>\n",
       "      <th>4</th>\n",
       "      <td>3-5 Camino Sobrante, Orinda, California, 94563</td>\n",
       "      <td>{'x': -122.19100216399994, 'y': 37.88477187500...</td>\n",
       "    </tr>\n",
       "    <tr>\n",
       "      <th>5</th>\n",
       "      <td>San Mateo Superior Court-Northern, 1050 Missio...</td>\n",
       "      <td>{'x': -122.43588998499996, 'y': 37.65866001100...</td>\n",
       "    </tr>\n",
       "    <tr>\n",
       "      <th>6</th>\n",
       "      <td>T.J. Maxx, 2250 S Shore Ctr, Alameda, CA, 9450...</td>\n",
       "      <td>{'x': -122.25356, 'y': 37.75719000000004}</td>\n",
       "    </tr>\n",
       "    <tr>\n",
       "      <th>7</th>\n",
       "      <td>6551-6599 Lucas Ave, Oakland, California, 94611</td>\n",
       "      <td>{'x': -122.20783054999998, 'y': 37.82559659900...</td>\n",
       "    </tr>\n",
       "    <tr>\n",
       "      <th>8</th>\n",
       "      <td>12 Kendell Ct, Sausalito, California, 94965</td>\n",
       "      <td>{'x': -122.50014094799997, 'y': 37.86147050300...</td>\n",
       "    </tr>\n",
       "    <tr>\n",
       "      <th>9</th>\n",
       "      <td>1595 Shafter Ave, San Francisco, California, 9...</td>\n",
       "      <td>{'x': -122.39053648299995, 'y': 37.73091304700...</td>\n",
       "    </tr>\n",
       "  </tbody>\n",
       "</table>\n",
       "</div>"
      ],
      "text/plain": [
       "                                             Address  \\\n",
       "0  855 La Playa St, San Francisco, California, 94121   \n",
       "1         90 W Manor Dr, Pacifica, California, 94044   \n",
       "2    22 Plymouth Ave, Mill Valley, California, 94941   \n",
       "3       801-899 Curtis St, Albany, California, 94706   \n",
       "4     3-5 Camino Sobrante, Orinda, California, 94563   \n",
       "5  San Mateo Superior Court-Northern, 1050 Missio...   \n",
       "6  T.J. Maxx, 2250 S Shore Ctr, Alameda, CA, 9450...   \n",
       "7    6551-6599 Lucas Ave, Oakland, California, 94611   \n",
       "8        12 Kendell Ct, Sausalito, California, 94965   \n",
       "9  1595 Shafter Ave, San Francisco, California, 9...   \n",
       "\n",
       "                                               SHAPE  \n",
       "0  {'x': -122.51000717199997, 'y': 37.77222479500...  \n",
       "1  {'x': -122.49172837699996, 'y': 37.64931769600...  \n",
       "2  {'x': -122.53238122599998, 'y': 37.89567777300...  \n",
       "3  {'x': -122.28735777699995, 'y': 37.89263638200...  \n",
       "4  {'x': -122.19100216399994, 'y': 37.88477187500...  \n",
       "5  {'x': -122.43588998499996, 'y': 37.65866001100...  \n",
       "6          {'x': -122.25356, 'y': 37.75719000000004}  \n",
       "7  {'x': -122.20783054999998, 'y': 37.82559659900...  \n",
       "8  {'x': -122.50014094799997, 'y': 37.86147050300...  \n",
       "9  {'x': -122.39053648299995, 'y': 37.73091304700...  "
      ]
     },
     "execution_count": 7,
     "metadata": {},
     "output_type": "execute_result"
    }
   ],
   "source": [
    "orders_df = pd.read_csv(orders_csv)\n",
    "orders_sdf = arcgis.features.SpatialDataFrame.from_df(orders_df, \"Address\")\n",
    "orders_fs = orders_sdf.to_featureset()\n",
    "orders_sdf"
   ]
  },
  {
   "cell_type": "markdown",
   "metadata": {},
   "source": [
    "#### Depots from csv:\n",
    "Depots CSV file has depot locations in columns called `Latitude` (representing Y values) and `Longitude` (representing X values). So we convert depots CSV to a SpatialDataFrame using the X and Y values."
   ]
  },
  {
   "cell_type": "code",
   "execution_count": 9,
   "metadata": {},
   "outputs": [
    {
     "data": {
      "text/html": [
       "<div>\n",
       "<style>\n",
       "    .dataframe thead tr:only-child th {\n",
       "        text-align: right;\n",
       "    }\n",
       "\n",
       "    .dataframe thead th {\n",
       "        text-align: left;\n",
       "    }\n",
       "\n",
       "    .dataframe tbody tr th {\n",
       "        vertical-align: top;\n",
       "    }\n",
       "</style>\n",
       "<table border=\"1\" class=\"dataframe\">\n",
       "  <thead>\n",
       "    <tr style=\"text-align: right;\">\n",
       "      <th></th>\n",
       "      <th>Name</th>\n",
       "      <th>SHAPE</th>\n",
       "    </tr>\n",
       "  </thead>\n",
       "  <tbody>\n",
       "    <tr>\n",
       "      <th>0</th>\n",
       "      <td>Warehouse</td>\n",
       "      <td>{'x': -122.39383000000001, 'spatialReference':...</td>\n",
       "    </tr>\n",
       "  </tbody>\n",
       "</table>\n",
       "</div>"
      ],
      "text/plain": [
       "        Name                                              SHAPE\n",
       "0  Warehouse  {'x': -122.39383000000001, 'spatialReference':..."
      ]
     },
     "execution_count": 9,
     "metadata": {},
     "output_type": "execute_result"
    }
   ],
   "source": [
    "depots_df = pd.read_csv(depots_csv)\n",
    "depots_sdf = arcgis.features.SpatialDataFrame.from_xy(depots_df, \"Longitude\", \"Latitude\")\n",
    "depots_sdf = depots_sdf.drop(axis=1, labels=[\"Longitude\", \"Latitude\"])\n",
    "depots_fs = depots_sdf.to_featureset()\n",
    "depots_sdf"
   ]
  },
  {
   "cell_type": "markdown",
   "metadata": {},
   "source": [
    "### Draw the `depots` and `orders` in map."
   ]
  },
  {
   "cell_type": "code",
   "execution_count": 33,
   "metadata": {
    "scrolled": true
   },
   "outputs": [
    {
     "data": {
      "application/vnd.jupyter.widget-view+json": {
       "model_id": "81792132abae40db8bc64fc91180d7c9",
       "version_major": 2,
       "version_minor": 0
      },
      "text/plain": [
       "MapView(basemaps=['dark-gray', 'dark-gray-vector', 'gray', 'gray-vector', 'hybrid', 'national-geographic', 'oc…"
      ]
     },
     "metadata": {},
     "output_type": "display_data"
    }
   ],
   "source": [
    "map_view_inputs = my_gis.map('San Fransisco, United States', zoomlevel=10)\n",
    "map_view_inputs"
   ]
  },
  {
   "cell_type": "code",
   "execution_count": 34,
   "metadata": {},
   "outputs": [],
   "source": [
    "map_view_inputs.draw(orders_fs, symbol={\"type\": \"esriSMS\",\"style\": \"esriSMSCircle\",\"color\": [76,115,0,255],\"size\": 8})\n",
    "map_view_inputs.draw(depots_fs, symbol={\"type\": \"esriSMS\",\"style\": \"esriSMSSquare\",\"color\": [255,115,0,255], \"size\": 10})"
   ]
  },
  {
   "cell_type": "markdown",
   "metadata": {},
   "source": [
    "### Input : Geocode the `depots` location with the address"
   ]
  },
  {
   "cell_type": "code",
   "execution_count": 35,
   "metadata": {},
   "outputs": [
    {
     "data": {
      "text/html": [
       "<div>\n",
       "<style>\n",
       "    .dataframe thead tr:only-child th {\n",
       "        text-align: right;\n",
       "    }\n",
       "\n",
       "    .dataframe thead th {\n",
       "        text-align: left;\n",
       "    }\n",
       "\n",
       "    .dataframe tbody tr th {\n",
       "        vertical-align: top;\n",
       "    }\n",
       "</style>\n",
       "<table border=\"1\" class=\"dataframe\">\n",
       "  <thead>\n",
       "    <tr style=\"text-align: right;\">\n",
       "      <th></th>\n",
       "      <th>AddBldg</th>\n",
       "      <th>AddNum</th>\n",
       "      <th>AddNumFrom</th>\n",
       "      <th>AddNumTo</th>\n",
       "      <th>AddRange</th>\n",
       "      <th>Addr_type</th>\n",
       "      <th>BldgName</th>\n",
       "      <th>BldgType</th>\n",
       "      <th>Block</th>\n",
       "      <th>City</th>\n",
       "      <th>...</th>\n",
       "      <th>UnitName</th>\n",
       "      <th>UnitType</th>\n",
       "      <th>X</th>\n",
       "      <th>Xmax</th>\n",
       "      <th>Xmin</th>\n",
       "      <th>Y</th>\n",
       "      <th>Ymax</th>\n",
       "      <th>Ymin</th>\n",
       "      <th>Zone</th>\n",
       "      <th>SHAPE</th>\n",
       "    </tr>\n",
       "  </thead>\n",
       "  <tbody>\n",
       "    <tr>\n",
       "      <th>0</th>\n",
       "      <td></td>\n",
       "      <td>98</td>\n",
       "      <td>2</td>\n",
       "      <td>98</td>\n",
       "      <td>2-98</td>\n",
       "      <td>StreetAddress</td>\n",
       "      <td></td>\n",
       "      <td></td>\n",
       "      <td></td>\n",
       "      <td>San Francisco</td>\n",
       "      <td>...</td>\n",
       "      <td></td>\n",
       "      <td></td>\n",
       "      <td>-122.39383</td>\n",
       "      <td>-122.39283</td>\n",
       "      <td>-122.39483</td>\n",
       "      <td>37.797505</td>\n",
       "      <td>37.798505</td>\n",
       "      <td>37.796505</td>\n",
       "      <td></td>\n",
       "      <td>{'x': -122.39383026489244, 'spatialReference':...</td>\n",
       "    </tr>\n",
       "  </tbody>\n",
       "</table>\n",
       "<p>1 rows × 59 columns</p>\n",
       "</div>"
      ],
      "text/plain": [
       "  AddBldg AddNum AddNumFrom AddNumTo AddRange      Addr_type BldgName  \\\n",
       "0             98          2       98     2-98  StreetAddress            \n",
       "\n",
       "  BldgType Block           City  \\\n",
       "0                 San Francisco   \n",
       "\n",
       "                         ...                         UnitName  UnitType  \\\n",
       "0                        ...                                              \n",
       "\n",
       "           X       Xmax       Xmin          Y       Ymax       Ymin Zone  \\\n",
       "0 -122.39383 -122.39283 -122.39483  37.797505  37.798505  37.796505        \n",
       "\n",
       "                                               SHAPE  \n",
       "0  {'x': -122.39383026489244, 'spatialReference':...  \n",
       "\n",
       "[1 rows x 59 columns]"
      ]
     },
     "execution_count": 35,
     "metadata": {},
     "output_type": "execute_result"
    }
   ],
   "source": [
    "depot_geocoded_fs = geocoding.geocode(\"2-98 Pier 1, San Francisco, California, 94111\", as_featureset=True, max_locations=1)\n",
    "depot_geocoded_fs.df\n"
   ]
  },
  {
   "cell_type": "markdown",
   "metadata": {},
   "source": [
    "### Input : JSON file\n",
    "If you have json files for all the inputs which could be found at the dev lab, you could save the json files on local disk and read those as below. "
   ]
  },
  {
   "cell_type": "code",
   "execution_count": 13,
   "metadata": {
    "scrolled": true
   },
   "outputs": [
    {
     "data": {
      "text/plain": [
       "'{\"features\": [{\"attributes\": {\"EarliestStartTime\": -2209132800000, \"OrderCount\": 6, \"CostPerUnitTime\": 20, \"Name\": \"Laurel\", \"MaxOrderCount\": 6, \"MaxTotalTime\": 200, \"Capacities\": \"6\", \"EndDepotName\": \"Warehouse\", \"LatestStartTime\": -2209125600000, \"StartDepotName\": \"Warehouse\", \"AssignmentRule\": 1, \"StartDepotServiceTime\": null, \"EndDepotServiceTime\": 30}}, {\"attributes\": {\"EarliestStartTime\": -2209132800000, \"OrderCount\": 6, \"CostPerUnitTime\": 20, \"Name\": \"Hardy\", \"MaxOrderCount\": 6, \"MaxTotalTime\": 200, \"Capacities\": \"6\", \"EndDepotName\": \"Warehouse\", \"LatestStartTime\": -2209125600000, \"StartDepotName\": \"Warehouse\", \"AssignmentRule\": 1, \"StartDepotServiceTime\": null, \"EndDepotServiceTime\": 30}}]}'"
      ]
     },
     "execution_count": 13,
     "metadata": {},
     "output_type": "execute_result"
    }
   ],
   "source": [
    "import json\n",
    "with open(\"Routes_fset.json\") as f:\n",
    "    df1 = json.load(f)\n",
    "routes_string = json.dumps(df1)    \n",
    "routes_fset = FeatureSet.from_json(routes_string)\n",
    "routes_string"
   ]
  },
  {
   "cell_type": "markdown",
   "metadata": {},
   "source": [
    "### Input: Online feature service\n",
    "Connect to the online portal to access feature collection. This is a collection of `orders`, `depots` and `routes`."
   ]
  },
  {
   "cell_type": "code",
   "execution_count": 14,
   "metadata": {},
   "outputs": [
    {
     "data": {
      "text/plain": [
       "<FeatureSet> 10 features"
      ]
     },
     "execution_count": 14,
     "metadata": {},
     "output_type": "execute_result"
    }
   ],
   "source": [
    "# Search for content named as 'VRP_Demo_UC2018_WebLayer'\n",
    "WebLayersUC_item = my_gis.content.search('title:\"VRP_Demo_UC2018_WebLayer\" type:Feature Service owner:\"shub8703\"')\n",
    "\n",
    "# Search with id\n",
    "#WebLayersUC = portal.content.get('04e9e0cd84df40a09a03b02b84cbd15d')\n",
    "\n",
    "WebLayersUC = WebLayersUC_item.pop()\n",
    "orders_feature_service = WebLayersUC.layers[0].query()\n",
    "orders_feature_service"
   ]
  },
  {
   "cell_type": "markdown",
   "metadata": {},
   "source": [
    "### Solve VRP\n",
    "You can pass inputs in different formats. For example, depot is geocoded from address, `orders` and `routes` are read from csv files saved on local disk."
   ]
  },
  {
   "cell_type": "code",
   "execution_count": 16,
   "metadata": {},
   "outputs": [
    {
     "name": "stderr",
     "output_type": "stream",
     "text": [
      "Network elements with avoid-restrictions are traversed in the output (restriction attribute names: \"Through Traffic Prohibited\").\n",
      "\n"
     ]
    },
    {
     "name": "stdout",
     "output_type": "stream",
     "text": [
      "Analysis succeeded? True\n"
     ]
    }
   ],
   "source": [
    "today = datetime.datetime.now()\n",
    "results = arcgis.network.analysis.solve_vehicle_routing_problem(orders= orders_fs,\n",
    "                                                         depots = depots_fs,\n",
    "                                                         routes = routes_fs, \n",
    "                                                         save_route_data='true',\n",
    "                                                         populate_directions='true',\n",
    "                                                         #travel_mode=\"Driving Time\",\n",
    "                                                         default_date=today)\n",
    "print('Analysis succeeded? {}'.format(results.solve_succeeded))"
   ]
  },
  {
   "cell_type": "markdown",
   "metadata": {},
   "source": [
    "### Result\n",
    "Let's have a look at the output routes in dataframe."
   ]
  },
  {
   "cell_type": "code",
   "execution_count": 17,
   "metadata": {
    "scrolled": false
   },
   "outputs": [
    {
     "data": {
      "text/html": [
       "<div>\n",
       "<style>\n",
       "    .dataframe thead tr:only-child th {\n",
       "        text-align: right;\n",
       "    }\n",
       "\n",
       "    .dataframe thead th {\n",
       "        text-align: left;\n",
       "    }\n",
       "\n",
       "    .dataframe tbody tr th {\n",
       "        vertical-align: top;\n",
       "    }\n",
       "</style>\n",
       "<table border=\"1\" class=\"dataframe\">\n",
       "  <thead>\n",
       "    <tr style=\"text-align: right;\">\n",
       "      <th></th>\n",
       "      <th>DistanceCost</th>\n",
       "      <th>EndTime</th>\n",
       "      <th>EndTimeUTC</th>\n",
       "      <th>Name</th>\n",
       "      <th>ObjectID</th>\n",
       "      <th>OrderCount</th>\n",
       "      <th>OvertimeCost</th>\n",
       "      <th>RegularTimeCost</th>\n",
       "      <th>RenewalCount</th>\n",
       "      <th>Shape_Length</th>\n",
       "      <th>...</th>\n",
       "      <th>TotalCost</th>\n",
       "      <th>TotalDistance</th>\n",
       "      <th>TotalOrderServiceTime</th>\n",
       "      <th>TotalRenewalServiceTime</th>\n",
       "      <th>TotalTime</th>\n",
       "      <th>TotalTravelTime</th>\n",
       "      <th>TotalViolationTime</th>\n",
       "      <th>TotalWaitTime</th>\n",
       "      <th>ViolatedConstraints</th>\n",
       "      <th>SHAPE</th>\n",
       "    </tr>\n",
       "  </thead>\n",
       "  <tbody>\n",
       "    <tr>\n",
       "      <th>0</th>\n",
       "      <td>0</td>\n",
       "      <td>1530873315219</td>\n",
       "      <td>1530898515219</td>\n",
       "      <td>Route1</td>\n",
       "      <td>1</td>\n",
       "      <td>4</td>\n",
       "      <td>0</td>\n",
       "      <td>3105.072862</td>\n",
       "      <td>0</td>\n",
       "      <td>1.020735</td>\n",
       "      <td>...</td>\n",
       "      <td>3105.072862</td>\n",
       "      <td>51.882818</td>\n",
       "      <td>0</td>\n",
       "      <td>0</td>\n",
       "      <td>155.253643</td>\n",
       "      <td>125.253643</td>\n",
       "      <td>0</td>\n",
       "      <td>0</td>\n",
       "      <td>None</td>\n",
       "      <td>{'paths': [[[-122.3949275, 37.79640750000004],...</td>\n",
       "    </tr>\n",
       "    <tr>\n",
       "      <th>1</th>\n",
       "      <td>0</td>\n",
       "      <td>1530873294780</td>\n",
       "      <td>1530898494780</td>\n",
       "      <td>Route2</td>\n",
       "      <td>2</td>\n",
       "      <td>6</td>\n",
       "      <td>0</td>\n",
       "      <td>3098.259971</td>\n",
       "      <td>0</td>\n",
       "      <td>0.876442</td>\n",
       "      <td>...</td>\n",
       "      <td>3098.259971</td>\n",
       "      <td>55.990276</td>\n",
       "      <td>0</td>\n",
       "      <td>0</td>\n",
       "      <td>154.912999</td>\n",
       "      <td>124.912999</td>\n",
       "      <td>0</td>\n",
       "      <td>0</td>\n",
       "      <td>None</td>\n",
       "      <td>{'paths': [[[-122.3949275, 37.79640750000004],...</td>\n",
       "    </tr>\n",
       "  </tbody>\n",
       "</table>\n",
       "<p>2 rows × 23 columns</p>\n",
       "</div>"
      ],
      "text/plain": [
       "   DistanceCost        EndTime     EndTimeUTC    Name  ObjectID  OrderCount  \\\n",
       "0             0  1530873315219  1530898515219  Route1         1           4   \n",
       "1             0  1530873294780  1530898494780  Route2         2           6   \n",
       "\n",
       "   OvertimeCost  RegularTimeCost  RenewalCount  Shape_Length  \\\n",
       "0             0      3105.072862             0      1.020735   \n",
       "1             0      3098.259971             0      0.876442   \n",
       "\n",
       "                         ...                            TotalCost  \\\n",
       "0                        ...                          3105.072862   \n",
       "1                        ...                          3098.259971   \n",
       "\n",
       "   TotalDistance  TotalOrderServiceTime  TotalRenewalServiceTime   TotalTime  \\\n",
       "0      51.882818                      0                        0  155.253643   \n",
       "1      55.990276                      0                        0  154.912999   \n",
       "\n",
       "   TotalTravelTime  TotalViolationTime  TotalWaitTime  ViolatedConstraints  \\\n",
       "0       125.253643                   0              0                 None   \n",
       "1       124.912999                   0              0                 None   \n",
       "\n",
       "                                               SHAPE  \n",
       "0  {'paths': [[[-122.3949275, 37.79640750000004],...  \n",
       "1  {'paths': [[[-122.3949275, 37.79640750000004],...  \n",
       "\n",
       "[2 rows x 23 columns]"
      ]
     },
     "execution_count": 17,
     "metadata": {},
     "output_type": "execute_result"
    }
   ],
   "source": [
    "# Display the output routes in a pandas dataframe.\n",
    "results.out_routes.df"
   ]
  },
  {
   "cell_type": "markdown",
   "metadata": {},
   "source": [
    "Now, let us visualize the results on a map."
   ]
  },
  {
   "cell_type": "code",
   "execution_count": 29,
   "metadata": {},
   "outputs": [
    {
     "data": {
      "application/vnd.jupyter.widget-view+json": {
       "model_id": "9a6d2a550a7b4f88b683538dbe872bd2",
       "version_major": 2,
       "version_minor": 0
      },
      "text/plain": [
       "MapView(basemaps=['dark-gray', 'dark-gray-vector', 'gray', 'gray-vector', 'hybrid', 'national-geographic', 'oc…"
      ]
     },
     "metadata": {},
     "output_type": "display_data"
    }
   ],
   "source": [
    "map_view_outputs = my_gis.map('San Fransisco, United States', zoomlevel=10)\n",
    "map_view_outputs\n"
   ]
  },
  {
   "cell_type": "code",
   "execution_count": 36,
   "metadata": {},
   "outputs": [],
   "source": [
    "#Visusalize the inputs\n",
    "map_view_outputs.draw(orders_fs, symbol={\"type\": \"esriSMS\",\"style\": \"esriSMSCircle\",\"color\": [76,115,0,255],\"size\": 8})\n",
    "map_view_outputs.draw(depots_fs, symbol={\"type\": \"esriSMS\",\"style\": \"esriSMSSquare\",\"color\": [255,115,0,255], \"size\": 10})\n",
    "#Visualize the first route\n",
    "out_routes_flist = []\n",
    "out_routes_flist.append(results.out_routes.features[0])\n",
    "out_routes_fset = []\n",
    "out_routes_fset = FeatureSet(out_routes_flist)\n",
    "map_view_outputs.draw(out_routes_fset, symbol={\"type\": \"esriSLS\",\"style\": \"esriSLSSolid\",\"color\": [0,100,240,255],\"size\":10})\n",
    "#Visualize the second route\n",
    "out_routes_flist = []\n",
    "out_routes_flist.append(results.out_routes.features[1])\n",
    "out_routes_fset = []\n",
    "out_routes_fset = FeatureSet(out_routes_flist)\n",
    "map_view_outputs.draw(out_routes_fset, symbol={\"type\": \"esriSLS\",\"style\": \"esriSLSSolid\",\"color\": [255,0,0,255],\"size\":10})"
   ]
  },
  {
   "cell_type": "markdown",
   "metadata": {},
   "source": [
    "Save the route data from result to local disk which would then be used to upload to onlie portal to share with drivers eventually and share the routes in arcgis online on the portal you have been using. Individual routes are saved as route layers which could then be opened in navigator with directions(if you solve with 'populate_directions'=true')"
   ]
  },
  {
   "cell_type": "code",
   "execution_count": 37,
   "metadata": {},
   "outputs": [],
   "source": [
    "route_data = results.out_route_data.download()\n",
    "route_data_item = my_gis.content.add({\"type\": \"File Geodatabase\"}, route_data)"
   ]
  },
  {
   "cell_type": "markdown",
   "metadata": {},
   "source": [
    "Create route layers from the route data. This will create route layers in the online portal which could then be shared with drivers so they would be able to open this navigator."
   ]
  },
  {
   "cell_type": "code",
   "execution_count": 38,
   "metadata": {
    "scrolled": true
   },
   "outputs": [
    {
     "data": {
      "text/plain": [
       "'https://transanalytics.maps.arcgis.com/home/item.html?id=9fc31dc91a2f4b58953d33bdf53584b4'"
      ]
     },
     "metadata": {},
     "output_type": "display_data"
    },
    {
     "data": {
      "text/html": [
       "<div class=\"item_container\" style=\"height: auto; overflow: hidden; border: 1px solid #cfcfcf; border-radius: 2px; background: #f6fafa; line-height: 1.21429em; padding: 10px;\">\n",
       "                    <div class=\"item_left\" style=\"width: 210px; float: left;\">\n",
       "                       <a href='https://transanalytics.maps.arcgis.com/home/item.html?id=9fc31dc91a2f4b58953d33bdf53584b4' target='_blank'>\n",
       "                        <img src='http://static.arcgis.com/images/desktopapp.png' class=\"itemThumbnail\">\n",
       "                       </a>\n",
       "                    </div>\n",
       "\n",
       "                    <div class=\"item_right\"     style=\"float: none; width: auto; overflow: hidden;\">\n",
       "                        <a href='https://transanalytics.maps.arcgis.com/home/item.html?id=9fc31dc91a2f4b58953d33bdf53584b4' target='_blank'><b>Route2</b>\n",
       "                        </a>\n",
       "                        <br/>Route and directions for Route2<img src='https://transanalytics.maps.arcgis.com/home/js/jsapi/esri/css/images/item_type_icons/features16.png' style=\"vertical-align:middle;\">Feature Collection by shub8703\n",
       "                        <br/>Last Modified: July 06, 2018\n",
       "                        <br/>0 comments, 0 views\n",
       "                    </div>\n",
       "                </div>\n",
       "                "
      ],
      "text/plain": [
       "<Item title:\"Route2\" type:Feature Collection owner:shub8703>"
      ]
     },
     "metadata": {},
     "output_type": "display_data"
    },
    {
     "data": {
      "text/plain": [
       "'https://transanalytics.maps.arcgis.com/home/item.html?id=4c9865b292364cc0848e2f472fdbe95e'"
      ]
     },
     "metadata": {},
     "output_type": "display_data"
    },
    {
     "data": {
      "text/html": [
       "<div class=\"item_container\" style=\"height: auto; overflow: hidden; border: 1px solid #cfcfcf; border-radius: 2px; background: #f6fafa; line-height: 1.21429em; padding: 10px;\">\n",
       "                    <div class=\"item_left\" style=\"width: 210px; float: left;\">\n",
       "                       <a href='https://transanalytics.maps.arcgis.com/home/item.html?id=4c9865b292364cc0848e2f472fdbe95e' target='_blank'>\n",
       "                        <img src='http://static.arcgis.com/images/desktopapp.png' class=\"itemThumbnail\">\n",
       "                       </a>\n",
       "                    </div>\n",
       "\n",
       "                    <div class=\"item_right\"     style=\"float: none; width: auto; overflow: hidden;\">\n",
       "                        <a href='https://transanalytics.maps.arcgis.com/home/item.html?id=4c9865b292364cc0848e2f472fdbe95e' target='_blank'><b>Route1</b>\n",
       "                        </a>\n",
       "                        <br/>Route and directions for Route1<img src='https://transanalytics.maps.arcgis.com/home/js/jsapi/esri/css/images/item_type_icons/features16.png' style=\"vertical-align:middle;\">Feature Collection by shub8703\n",
       "                        <br/>Last Modified: July 06, 2018\n",
       "                        <br/>0 comments, 0 views\n",
       "                    </div>\n",
       "                </div>\n",
       "                "
      ],
      "text/plain": [
       "<Item title:\"Route1\" type:Feature Collection owner:shub8703>"
      ]
     },
     "metadata": {},
     "output_type": "display_data"
    }
   ],
   "source": [
    "route_layers = arcgis.features.analysis.create_route_layers(route_data_item, delete_route_data_item=True)\n",
    "for route_layer in route_layers:\n",
    "    route_layer.share(org=True)\n",
    "    display(route_layer.homepage)\n",
    "    display(route_layer)"
   ]
  }
 ],
 "metadata": {
  "kernelspec": {
   "display_name": "Python 3",
   "language": "python",
   "name": "python3"
  },
  "language_info": {
   "codemirror_mode": {
    "name": "ipython",
    "version": 3
   },
   "file_extension": ".py",
   "mimetype": "text/x-python",
   "name": "python",
   "nbconvert_exporter": "python",
   "pygments_lexer": "ipython3",
   "version": "3.5.3"
  }
 },
 "nbformat": 4,
 "nbformat_minor": 2
}
