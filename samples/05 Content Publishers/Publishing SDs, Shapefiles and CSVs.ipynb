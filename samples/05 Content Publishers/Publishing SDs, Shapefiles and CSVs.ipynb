{
 "cells": [
  {
   "cell_type": "markdown",
   "metadata": {},
   "source": [
    "#Publishing scenarios\n",
    "\n",
    "This sample notebook shows how different types of GIS datasets can be added to the GIS, and published as layers."
   ]
  },
  {
   "cell_type": "code",
   "execution_count": 1,
   "metadata": {
    "collapsed": false
   },
   "outputs": [],
   "source": [
    "from arcgis.gis import *\n",
    "gis = GIS(\"https://dev06999.esri.com/portal\", \"admin\", \"changeit\")"
   ]
  },
  {
   "cell_type": "markdown",
   "metadata": {},
   "source": [
    "# Publish service definition files\n",
    "\n",
    "To publish a service definition file, we first add the .sd file to the Portal, and then call the publish() method:"
   ]
  },
  {
   "cell_type": "code",
   "execution_count": 2,
   "metadata": {
    "collapsed": false
   },
   "outputs": [],
   "source": [
    "data = \"C:\\\\xc\\\\Data\\SDs\\\\RedlandsFSOnly.sd\"\n",
    "item = gis.content.add({}, data)"
   ]
  },
  {
   "cell_type": "code",
   "execution_count": 3,
   "metadata": {
    "collapsed": false
   },
   "outputs": [],
   "source": [
    "item = gis.content.search('RedlandsFSOnly')[0]"
   ]
  },
  {
   "cell_type": "code",
   "execution_count": 4,
   "metadata": {
    "collapsed": false
   },
   "outputs": [
    {
     "data": {
      "text/html": [
       "<div class=\"item_container\" style=\"height: auto; overflow: hidden; border: 1px solid #cfcfcf; border-radius: 2px; background: #f6fafa; line-height: 1.21429em; padding: 10px;\">\n",
       "                    <div class=\"item_left\" style=\"width: 210px; float: left;\">\n",
       "                       <a href='https://dev06999.esri.com/portal/home/item.html?id=5d98755322f5498680d636468df071fa' target='_blank'>\n",
       "                        <img src='data:image/png;base64,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' width='200' height='133' class=\"itemThumbnail\">\n",
       "                       </a>\n",
       "                    </div>\n",
       "        \n",
       "                    <div class=\"item_right\"     style=\"float: none; width: auto; overflow: hidden;\">\n",
       "                        <a href='https://dev06999.esri.com/portal/home/item.html?id=5d98755322f5498680d636468df071fa' target='_blank'><b>RedlandsFSOnly</b>\n",
       "                        </a>\n",
       "                        <br>asdf dsafas<img src='http://www.arcgis.com/home/js/jsapi/esri/css/images/item_type_icons/layers16.png' style=\"vertical-align:middle;\">Service Definition by admin\n",
       "                        <br>Last Modified: June 05, 2016\n",
       "                        <br>0 comments, 0 views\n",
       "                    </div>\n",
       "                </div>\n",
       "                "
      ],
      "text/plain": [
       "<Item title:\"RedlandsFSOnly\" type:Service Definition owner:admin>"
      ]
     },
     "execution_count": 4,
     "metadata": {},
     "output_type": "execute_result"
    }
   ],
   "source": [
    "item"
   ]
  },
  {
   "cell_type": "code",
   "execution_count": 5,
   "metadata": {
    "collapsed": false
   },
   "outputs": [
    {
     "data": {
      "text/plain": [
       "'Service Definition'"
      ]
     },
     "execution_count": 5,
     "metadata": {},
     "output_type": "execute_result"
    }
   ],
   "source": [
    "item.type"
   ]
  },
  {
   "cell_type": "code",
   "execution_count": 6,
   "metadata": {
    "collapsed": false,
    "scrolled": false
   },
   "outputs": [
    {
     "name": "stdout",
     "output_type": "stream",
     "text": [
      "{'statusMessage': None, 'status': 'partial', 'itemId': '80a7d78a4aa744cfb44f95d229bb6813'}\n"
     ]
    }
   ],
   "source": [
    "ret = item.publish()"
   ]
  },
  {
   "cell_type": "code",
   "execution_count": 7,
   "metadata": {
    "collapsed": false
   },
   "outputs": [
    {
     "data": {
      "text/html": [
       "<div class=\"item_container\" style=\"height: auto; overflow: hidden; border: 1px solid #cfcfcf; border-radius: 2px; background: #f6fafa; line-height: 1.21429em; padding: 10px;\">\n",
       "                    <div class=\"item_left\" style=\"width: 210px; float: left;\">\n",
       "                       <a href='https://dev06999.esri.com/portal/home/item.html?id=80a7d78a4aa744cfb44f95d229bb6813' target='_blank'>\n",
       "                        <img src='data:image/png;base64,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' width='200' height='133' class=\"itemThumbnail\">\n",
       "                       </a>\n",
       "                    </div>\n",
       "        \n",
       "                    <div class=\"item_right\"     style=\"float: none; width: auto; overflow: hidden;\">\n",
       "                        <a href='https://dev06999.esri.com/portal/home/item.html?id=80a7d78a4aa744cfb44f95d229bb6813' target='_blank'><b>RedlandsFSOnly</b>\n",
       "                        </a>\n",
       "                        <br>asdf dsafas<img src='http://www.arcgis.com/home/js/jsapi/esri/css/images/item_type_icons/featureshosted16.png' style=\"vertical-align:middle;\">Feature Service by admin\n",
       "                        <br>Last Modified: June 05, 2016\n",
       "                        <br>0 comments, 0 views\n",
       "                    </div>\n",
       "                </div>\n",
       "                "
      ],
      "text/plain": [
       "<Item title:\"RedlandsFSOnly\" type:Feature Service owner:admin>"
      ]
     },
     "execution_count": 7,
     "metadata": {},
     "output_type": "execute_result"
    }
   ],
   "source": [
    "ret "
   ]
  },
  {
   "cell_type": "markdown",
   "metadata": {},
   "source": [
    "# Publish shapefile\n",
    "\n",
    "To publish a shapefile, we first add the zipped shapefile to the Portal, and then call the publish() method:"
   ]
  },
  {
   "cell_type": "code",
   "execution_count": 15,
   "metadata": {
    "collapsed": false
   },
   "outputs": [],
   "source": [
    "data = \"C:\\\\xc\\\\Data\\SDs\\\\states_21basic.zip\"\n",
    "shpfile = gis.content.add({}, data)"
   ]
  },
  {
   "cell_type": "markdown",
   "metadata": {},
   "source": [
    "itemId:ff10a67a8e9f4cd4a78c1835417d7223\n",
    "filetype:shapefile\n",
    "publishParameters:{\"hasStaticData\":true,\"name\":\"states_21basic\",\"maxRecordCount\":2000,\"layerInfo\":{\"capabilities\":\"Query\"}}"
   ]
  },
  {
   "cell_type": "code",
   "execution_count": 16,
   "metadata": {
    "collapsed": false
   },
   "outputs": [
    {
     "data": {
      "text/html": [
       "<div class=\"item_container\" style=\"height: auto; overflow: hidden; border: 1px solid #cfcfcf; border-radius: 2px; background: #f6fafa; line-height: 1.21429em; padding: 10px;\">\n",
       "                    <div class=\"item_left\" style=\"width: 210px; float: left;\">\n",
       "                       <a href='https://dev06999.esri.com/portal/home/item.html?id=e81a7aabf0fd4282a74d49d947e63e24' target='_blank'>\n",
       "                        <img src='http://static.arcgis.com/images/desktopapp.png' class=\"itemThumbnail\">\n",
       "                       </a>\n",
       "                    </div>\n",
       "        \n",
       "                    <div class=\"item_right\"     style=\"float: none; width: auto; overflow: hidden;\">\n",
       "                        <a href='https://dev06999.esri.com/portal/home/item.html?id=e81a7aabf0fd4282a74d49d947e63e24' target='_blank'><b>states_21basic</b>\n",
       "                        </a>\n",
       "                        <br><img src='http://www.arcgis.com/home/js/jsapi/esri/css/images/item_type_icons/datafiles16.png' style=\"vertical-align:middle;\">Shapefile by admin\n",
       "                        <br>Last Modified: June 05, 2016\n",
       "                        <br>0 comments, 0 views\n",
       "                    </div>\n",
       "                </div>\n",
       "                "
      ],
      "text/plain": [
       "<Item title:\"states_21basic\" type:Shapefile owner:admin>"
      ]
     },
     "execution_count": 16,
     "metadata": {},
     "output_type": "execute_result"
    }
   ],
   "source": [
    "shpfile"
   ]
  },
  {
   "cell_type": "code",
   "execution_count": 17,
   "metadata": {
    "collapsed": false
   },
   "outputs": [
    {
     "name": "stdout",
     "output_type": "stream",
     "text": [
      "{'statusMessage': None, 'status': 'partial', 'itemId': 'dfa211a704c9491eb5d3cff6477e53b0'}\n"
     ]
    },
    {
     "data": {
      "text/html": [
       "<div class=\"item_container\" style=\"height: auto; overflow: hidden; border: 1px solid #cfcfcf; border-radius: 2px; background: #f6fafa; line-height: 1.21429em; padding: 10px;\">\n",
       "                    <div class=\"item_left\" style=\"width: 210px; float: left;\">\n",
       "                       <a href='https://dev06999.esri.com/portal/home/item.html?id=dfa211a704c9491eb5d3cff6477e53b0' target='_blank'>\n",
       "                        <img src='http://static.arcgis.com/images/desktopapp.png' class=\"itemThumbnail\">\n",
       "                       </a>\n",
       "                    </div>\n",
       "        \n",
       "                    <div class=\"item_right\"     style=\"float: none; width: auto; overflow: hidden;\">\n",
       "                        <a href='https://dev06999.esri.com/portal/home/item.html?id=dfa211a704c9491eb5d3cff6477e53b0' target='_blank'><b>states_21basic</b>\n",
       "                        </a>\n",
       "                        <br><img src='http://www.arcgis.com/home/js/jsapi/esri/css/images/item_type_icons/featureshosted16.png' style=\"vertical-align:middle;\">Feature Service by admin\n",
       "                        <br>Last Modified: June 05, 2016\n",
       "                        <br>0 comments, 0 views\n",
       "                    </div>\n",
       "                </div>\n",
       "                "
      ],
      "text/plain": [
       "<Item title:\"states_21basic\" type:Feature Service owner:admin>"
      ]
     },
     "execution_count": 17,
     "metadata": {},
     "output_type": "execute_result"
    }
   ],
   "source": [
    "shpfile.publish()"
   ]
  },
  {
   "cell_type": "markdown",
   "metadata": {},
   "source": [
    "#Publish CSV file\n",
    "\n",
    "To publish a CSV file, we first add the .csv file to the Portal, and then call the publish() method to publish it as a layer:"
   ]
  },
  {
   "cell_type": "code",
   "execution_count": 18,
   "metadata": {
    "collapsed": false
   },
   "outputs": [],
   "source": [
    "gis = GIS(\"http://deldev.maps.arcgis.com\", \"demo_deldev\", \"P@ssw0rd\")"
   ]
  },
  {
   "cell_type": "code",
   "execution_count": 20,
   "metadata": {
    "collapsed": false
   },
   "outputs": [],
   "source": [
    "data = 'chennai-rainfall.csv'\n",
    "\n",
    "csvfile = gis.content.add({}, data)"
   ]
  },
  {
   "cell_type": "code",
   "execution_count": 21,
   "metadata": {
    "collapsed": false
   },
   "outputs": [
    {
     "data": {
      "text/html": [
       "<div class=\"item_container\" style=\"height: auto; overflow: hidden; border: 1px solid #cfcfcf; border-radius: 2px; background: #f6fafa; line-height: 1.21429em; padding: 10px;\">\n",
       "                    <div class=\"item_left\" style=\"width: 210px; float: left;\">\n",
       "                       <a href='http://deldev.maps.arcgis.com/home/item.html?id=a9f78267e7b1455fac32c2235c025606' target='_blank'>\n",
       "                        <img src='http://static.arcgis.com/images/desktopapp.png' class=\"itemThumbnail\">\n",
       "                       </a>\n",
       "                    </div>\n",
       "        \n",
       "                    <div class=\"item_right\"     style=\"float: none; width: auto; overflow: hidden;\">\n",
       "                        <a href='http://deldev.maps.arcgis.com/home/item.html?id=a9f78267e7b1455fac32c2235c025606' target='_blank'><b>chennai-rainfall</b>\n",
       "                        </a>\n",
       "                        <br><img src='http://www.arcgis.com/home/js/jsapi/esri/css/images/item_type_icons/layers16.png' style=\"vertical-align:middle;\">CSV by demo_deldev\n",
       "                        <br>Last Modified: June 05, 2016\n",
       "                        <br>0 comments, 0 views\n",
       "                    </div>\n",
       "                </div>\n",
       "                "
      ],
      "text/plain": [
       "<Item title:\"chennai-rainfall\" type:CSV owner:demo_deldev>"
      ]
     },
     "execution_count": 21,
     "metadata": {},
     "output_type": "execute_result"
    }
   ],
   "source": [
    "csvfile"
   ]
  },
  {
   "cell_type": "code",
   "execution_count": 22,
   "metadata": {
    "collapsed": false
   },
   "outputs": [
    {
     "name": "stdout",
     "output_type": "stream",
     "text": [
      "{'statusMessage': 'Job Status for jobId: 468f3274-ea64-4dc7-916b-85f5e9f7f6b9', 'status': 'processing', 'itemId': '89019cfa449c44339b83f48ba8a873be'}\n"
     ]
    }
   ],
   "source": [
    "csvlyr = csvfile.publish(None, {\"Address\":\"LOCATION\"})"
   ]
  },
  {
   "cell_type": "code",
   "execution_count": 23,
   "metadata": {
    "collapsed": false
   },
   "outputs": [
    {
     "data": {
      "text/html": [
       "<div class=\"item_container\" style=\"height: auto; overflow: hidden; border: 1px solid #cfcfcf; border-radius: 2px; background: #f6fafa; line-height: 1.21429em; padding: 10px;\">\n",
       "                    <div class=\"item_left\" style=\"width: 210px; float: left;\">\n",
       "                       <a href='http://deldev.maps.arcgis.com/home/item.html?id=89019cfa449c44339b83f48ba8a873be' target='_blank'>\n",
       "                        <img src='http://static.arcgis.com/images/desktopapp.png' class=\"itemThumbnail\">\n",
       "                       </a>\n",
       "                    </div>\n",
       "        \n",
       "                    <div class=\"item_right\"     style=\"float: none; width: auto; overflow: hidden;\">\n",
       "                        <a href='http://deldev.maps.arcgis.com/home/item.html?id=89019cfa449c44339b83f48ba8a873be' target='_blank'><b>chennai-rainfall</b>\n",
       "                        </a>\n",
       "                        <br><img src='http://www.arcgis.com/home/js/jsapi/esri/css/images/item_type_icons/featureshosted16.png' style=\"vertical-align:middle;\">Feature Service by demo_deldev\n",
       "                        <br>Last Modified: June 05, 2016\n",
       "                        <br>0 comments, 0 views\n",
       "                    </div>\n",
       "                </div>\n",
       "                "
      ],
      "text/plain": [
       "<Item title:\"chennai-rainfall\" type:Feature Service owner:demo_deldev>"
      ]
     },
     "execution_count": 23,
     "metadata": {},
     "output_type": "execute_result"
    }
   ],
   "source": [
    "csvlyr"
   ]
  }
 ],
 "metadata": {
  "kernelspec": {
   "display_name": "Python 3",
   "language": "python",
   "name": "python3"
  },
  "language_info": {
   "codemirror_mode": {
    "name": "ipython",
    "version": 3
   },
   "file_extension": ".py",
   "mimetype": "text/x-python",
   "name": "python",
   "nbconvert_exporter": "python",
   "pygments_lexer": "ipython3",
   "version": "3.4.4"
  }
 },
 "nbformat": 4,
 "nbformat_minor": 0
}
