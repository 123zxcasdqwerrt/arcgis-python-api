{
 "cells": [
  {
   "cell_type": "markdown",
   "metadata": {},
   "source": [
    "# How AutoDL Works"
   ]
  },
  {
   "cell_type": "markdown",
   "metadata": {},
   "source": [
    "# Table of contents"
   ]
  },
  {
   "cell_type": "markdown",
   "metadata": {},
   "source": [
    "- [Introduction](#Introduction)\n",
    "- [Implementation in arcgis.learn](#Implementation)\n",
    "    - [Imports](#imports)\n",
    "    - [Prepare data](#prepare)\n",
    "- [Train networks using AutoDL](#AutoDL)\n",
    "    - [AutoDL Training modes](#ModesAutoDL)\n",
    "- [Supported methods in AutoDL](#MethodsAutoDL)\n",
    "    - [Supported Classification Models](#scm)\n",
    "    - [Supported Detection Models](#sdm)\n",
    "    - [fit](#fit)\n",
    "    - [Score](#score)\n",
    "    - [Show Results](#results)\n",
    "    - [MIOU](#miou)\n",
    "    - [Average Precision Score](#aps)\n",
    "    \n",
    "- [What is ImageryModel](#ImageryModel)\n",
    "    - [Load the model](#imLoad)\n",
    "    - [Learning rate](#imLR)\n",
    "    - [Train the model](#imFit)\n",
    "    - [Save the model](#imSave)"
   ]
  },
  {
   "cell_type": "markdown",
   "metadata": {},
   "source": [
    "# Introduction\n",
    "<a id='Introduction'></a> "
   ]
  },
  {
   "cell_type": "markdown",
   "metadata": {},
   "source": [
    "This guide explains the steps for training and evaluation of multiple network architectures supported by `arcgis.learn` API.\n",
    "The `arcgis.learn` API currently supports more than 30 deep learning networks to solve different problems, more specifically for object detetcion task only, API provides 4 deep learning networks along with MMDetection class that in turn supports more than twenty object detection networks. Similarly for pixel classification task API provides support for 11 deep learning networks in which MMSegmentation class supports more than twenty pixel classification networks.\n",
    "\n",
    "To train a deep learning network using the `arcgis.learn` API, one must follow the complete pipeline that involves data preprocessing, network selection, hyper parameter tuning and network selection/evaluation based on the performance of the network. This can sometime become a difficult task for a user to iteratively run all the networks to compare the performance and selecting which network works best with the given data. \n",
    "\n",
    "AutoDL class automatically trains all the supported network with the given data within the provided time limit and comes up with a performance tally of all the networks which will provide a fair idea of the best performing network, the AutoDL class also saves all the networks during the training process which can be used later for fine tuning to enhance the network performance.\n"
   ]
  },
  {
   "cell_type": "markdown",
   "metadata": {},
   "source": [
    "### AutoDL supported Networks"
   ]
  },
  {
   "cell_type": "markdown",
   "metadata": {},
   "source": [
    "**Object Detection**\n",
    "\n",
    "- SingleShotDetector\n",
    "- RetinaNet\n",
    "- FasterRCNN\n",
    "- YOLOv3\n",
    "- MMDetection:\n",
    "    - atss\n",
    "    - carafe\n",
    "    - cascade_rcnn\n",
    "    - cascade_rpn\n",
    "    - dcn\n",
    "\n",
    "**Pixel Classification**\n",
    "\n",
    "- DeepLab\n",
    "- UnetClassifier\n",
    "- PSPNetClassifier\n",
    "    - ann\n",
    "    - apcnet\n",
    "    - ccnet\n",
    "    - cgnet\n",
    "    - deeplabv3\n"
   ]
  },
  {
   "cell_type": "markdown",
   "metadata": {},
   "source": [
    "# Implementation in `arcgis.learn`\n",
    "<a id='Implementation'></a> "
   ]
  },
  {
   "cell_type": "markdown",
   "metadata": {},
   "source": [
    "Let's see how AutoDL class works with `arcgis.learn`"
   ]
  },
  {
   "cell_type": "markdown",
   "metadata": {},
   "source": [
    "## Imports\n",
    "<a id='imports'></a>"
   ]
  },
  {
   "cell_type": "code",
   "execution_count": null,
   "metadata": {},
   "outputs": [],
   "source": [
    "from arcgis.learn import AutoDL, prepare_data, ImageryModel"
   ]
  },
  {
   "cell_type": "markdown",
   "metadata": {},
   "source": [
    "## Prepare data\n",
    "<a id='prepare'></a>"
   ]
  },
  {
   "cell_type": "markdown",
   "metadata": {},
   "source": [
    "Prepare data for AutoDL class using prepare_data() in `arcgis.learn`"
   ]
  },
  {
   "cell_type": "code",
   "execution_count": null,
   "metadata": {},
   "outputs": [],
   "source": [
    "data = prepare_data(\"path_to_data_folder\", batch_size=2)"
   ]
  },
  {
   "cell_type": "markdown",
   "metadata": {},
   "source": [
    "# Train networks using AutoDL\n",
    "<a id='AutoDL'></a>"
   ]
  },
  {
   "cell_type": "markdown",
   "metadata": {},
   "source": [
    "AutoDL class accepts the following paramters:\n",
    "\n",
    "- `data` (Required Paramter): Returned data object from `prepare_data` function in the previous step.\n",
    "    \n",
    "- `total_time_limit` (Optional parameter):\n",
    "    The total time limit in hours for AutoDL to train and evaluate the networks. This parameter becomes important when time is the main constraint to the user. The AutoDL class calculates the number of chips that can be processed in the given time from the prepared databunch.\n",
    "    \n",
    "    \n",
    "- `mode` (Optional Parameter): Can be \"basic\" or \"advanced\".\n",
    "\n",
    "    - _basic_ : To to be used when the user wants to train all selected networks.\n",
    "    - _advanced_ : To be used when the user additionally wants to tune hyper parameters of two best performing models from basic mode.\n",
    "    \n",
    "\n",
    "- `networks` (Optional Parameter):\n",
    "    The list of models that will be used in the training process. If the user does not provides the parameter value the AutoDL class selects all the supported networks, however user can select one or multiple networks by passing the network name in a list.\n",
    "\n",
    "    - _Supported Object Detection models_\n",
    "        - SingleShotDetector, RetinaNet, FasterRCNN, YOLOv3, MMDetection\n",
    "    - _Supported Object Detection models_\n",
    "        - DeepLab, UnetClassifier, PSPNetClassifier, MMSegmentation\n",
    "        \n",
    "\n",
    "- `verbose` (Optional Parameter): Optional Boolean.\n",
    "    To be used to display logs while training the networks. This parameter displays the progress with time and becomes important in case of any failure, user can use the logs to check which, when and why network training failed."
   ]
  },
  {
   "cell_type": "markdown",
   "metadata": {},
   "source": [
    "### AutoDL Training modes\n",
    "<a id='ModesAutoDL'></a>"
   ]
  },
  {
   "cell_type": "markdown",
   "metadata": {},
   "source": [
    "- **Basic**\n",
    "    - In this mode we iterate through all the supported networks exactly once with the default backbone, train it with the passed data and calculate the network performance. At the end of each iteration the function will save the model to the disk. Maximum number of epochs to train each network is 20, however if the remaining time left to process the network is less than than the expected time, the program will automatically calculate the maximum number of epochs to train the network.\n",
    "    \n",
    "    \n",
    "- **Advanced**\n",
    "    - To be used when the user wants to tune hyper parameters of two best performing networks from basic mode.This mode will divide the total time into two halfs. In the first half it works as basic mode where it will iterate through all the supported networks exactly once. In the second half it checks for two best performing networks. The program then trains the selected networks with different supported backbones. At the end of each iteration the function will save the model to the disk. Maximum number of epochs to train each network is 20, however if the remaining time left to process the network is less than the expected time(minimum time required to train the network) , the program will automatically calculate the number of epochs to train the network.\n",
    " "
   ]
  },
  {
   "cell_type": "code",
   "execution_count": null,
   "metadata": {},
   "outputs": [],
   "source": [
    "dl = AutoDL(data, total_time_limit=5,verbose=True, mode=\"advanced\")"
   ]
  },
  {
   "cell_type": "markdown",
   "metadata": {},
   "source": [
    "When AutoDL class is initialized, it calculates the number of images that can be processed in the given time and the time required to process the entire data. The output of the cell above can be used to analyze and update the `total_time_limit` and `networks` parameters while initializing the class.\n",
    "\n",
    "**Here is an example of the output**\n",
    "\n",
    "- Given time to process the dataset is: 5.0 hours\n",
    "- Number of images that can be processed in the given time: 290\n",
    "- Time required to process the entire dataset of 3000 images is 52 hours\n",
    "\n",
    "It explains how many images can be processed to train all the selected network in the selected mode within the given time and also provides an estimate of time that AutoDL will take to train all the selected network with the entire dataset."
   ]
  },
  {
   "cell_type": "markdown",
   "metadata": {},
   "source": [
    "# Supported methods in AutoDL\n",
    "<a id='MethodsAutoDL'></a>"
   ]
  },
  {
   "cell_type": "markdown",
   "metadata": {},
   "source": [
    "### Supported Classification Models\n",
    "<a id='scm'></a>"
   ]
  },
  {
   "cell_type": "code",
   "execution_count": null,
   "metadata": {},
   "outputs": [],
   "source": [
    "dl.supported_classification_models()"
   ]
  },
  {
   "cell_type": "markdown",
   "metadata": {},
   "source": [
    "The output of this function will be a list of supported pixel classification models by `AutoDL` class"
   ]
  },
  {
   "cell_type": "markdown",
   "metadata": {},
   "source": [
    "### Supported Detection Models\n",
    "<a id='sdm'></a>"
   ]
  },
  {
   "cell_type": "code",
   "execution_count": null,
   "metadata": {},
   "outputs": [],
   "source": [
    "dl.supported_detection_models()"
   ]
  },
  {
   "cell_type": "markdown",
   "metadata": {},
   "source": [
    "The output of this function will be a list of supported object detection models by AutoDL class"
   ]
  },
  {
   "cell_type": "markdown",
   "metadata": {},
   "source": [
    "### Fit\n",
    "<a id='fit'></a>"
   ]
  },
  {
   "cell_type": "markdown",
   "metadata": {},
   "source": [
    "The `fit` method will be used to train all the selected networks automatically within the provided time limit"
   ]
  },
  {
   "cell_type": "code",
   "execution_count": null,
   "metadata": {},
   "outputs": [],
   "source": [
    "dl.fit()"
   ]
  },
  {
   "cell_type": "markdown",
   "metadata": {},
   "source": [
    "### Score\n",
    "<a id='score'></a>"
   ]
  },
  {
   "cell_type": "markdown",
   "metadata": {},
   "source": [
    "This method will return a dataframe that will show the model's accuracy with train/valid loss, dice(for pixel classification), learning rate used to train the model, train time and backbone."
   ]
  },
  {
   "cell_type": "code",
   "execution_count": null,
   "metadata": {},
   "outputs": [],
   "source": [
    "dl.score()"
   ]
  },
  {
   "cell_type": "markdown",
   "metadata": {},
   "source": [
    "### Show Results \n",
    "<a id='results'></a>"
   ]
  },
  {
   "cell_type": "markdown",
   "metadata": {},
   "source": [
    "This method will display the results for the best performing model"
   ]
  },
  {
   "cell_type": "code",
   "execution_count": null,
   "metadata": {},
   "outputs": [],
   "source": [
    "dl.show_results()"
   ]
  },
  {
   "cell_type": "markdown",
   "metadata": {},
   "source": [
    "### MIOU \n",
    "<a id='miou'></a>"
   ]
  },
  {
   "cell_type": "markdown",
   "metadata": {},
   "source": [
    "MIOU is mean of intersection over union, this method calculates mean IOU on the validation set for each class. This function is only supported by pixel classification models."
   ]
  },
  {
   "cell_type": "code",
   "execution_count": null,
   "metadata": {},
   "outputs": [],
   "source": [
    "dl.mIOU()"
   ]
  },
  {
   "cell_type": "markdown",
   "metadata": {},
   "source": [
    "### Average Precision Score \n",
    "<a id='aps'></a>"
   ]
  },
  {
   "cell_type": "markdown",
   "metadata": {},
   "source": [
    "This method computes the average of the precision on the validation set for each class. This function is only supported by object detection models."
   ]
  },
  {
   "cell_type": "code",
   "execution_count": null,
   "metadata": {},
   "outputs": [],
   "source": [
    "dl.average_precision_score()"
   ]
  },
  {
   "cell_type": "markdown",
   "metadata": {},
   "source": [
    "# What is ImageryModel\n",
    "<a id='ImageryModel'></a>"
   ]
  },
  {
   "cell_type": "markdown",
   "metadata": {},
   "source": [
    "Once the best performing network is identified it can be further fine tuned using the `ImageryModel` class, this class supports methods that can be used to load, fine-tune and save the model for further use."
   ]
  },
  {
   "cell_type": "code",
   "execution_count": null,
   "metadata": {},
   "outputs": [],
   "source": [
    "im = ImageryModel()"
   ]
  },
  {
   "cell_type": "markdown",
   "metadata": {},
   "source": [
    "### Load the model\n",
    "<a id='imLoad'></a>"
   ]
  },
  {
   "cell_type": "markdown",
   "metadata": {},
   "source": [
    "- `load` method is used to load a saved model from the disk using `AutoDL` class, it accepts the following parameters:\n",
    "    - path: Path to the ESRI Model Definition (.emd) file\n",
    "    - data: Returned data object from prepare_data function"
   ]
  },
  {
   "cell_type": "code",
   "execution_count": null,
   "metadata": {},
   "outputs": [],
   "source": [
    "im.load(\"path_to_emd_file\", data)"
   ]
  },
  {
   "cell_type": "markdown",
   "metadata": {},
   "source": [
    "### Learning rate Load the model\n",
    "<a id='imLR'></a>"
   ]
  },
  {
   "cell_type": "markdown",
   "metadata": {},
   "source": [
    "`lr_find` runs the Learning Rate Finder. Helps in choosing the optimum learning rate for training the model."
   ]
  },
  {
   "cell_type": "code",
   "execution_count": null,
   "metadata": {},
   "outputs": [],
   "source": [
    "im.lr_find()"
   ]
  },
  {
   "cell_type": "markdown",
   "metadata": {},
   "source": [
    "### Train the model\n",
    "<a id='imfit'></a>"
   ]
  },
  {
   "cell_type": "markdown",
   "metadata": {},
   "source": [
    "The loaded model can be trained further using the fit method. This method trains the model for the specified number of epochs while using the specified learning rates."
   ]
  },
  {
   "cell_type": "code",
   "execution_count": null,
   "metadata": {},
   "outputs": [],
   "source": [
    "im.fit(10)"
   ]
  },
  {
   "cell_type": "markdown",
   "metadata": {},
   "source": [
    "### Save the model \n",
    "<a id='imSave'></a>"
   ]
  },
  {
   "cell_type": "markdown",
   "metadata": {},
   "source": [
    "This method saves the model weights, creates an Esri Model Definition and Deep Learning Package zip for deployment to Image Server or ArcGIS Pro."
   ]
  },
  {
   "cell_type": "code",
   "execution_count": null,
   "metadata": {},
   "outputs": [],
   "source": [
    "im.save(\"path_to_save_model\")"
   ]
  },
  {
   "cell_type": "markdown",
   "metadata": {},
   "source": [
    "## Conclusion "
   ]
  },
  {
   "cell_type": "markdown",
   "metadata": {},
   "source": [
    "This guide explains how AutoDL class can be used to automate multiple deeplearning models supported by `arcgis.learn` API. For every step in the workflow, we define a function and talk about its usage. This guide can be a starting point for developers to train and evaluate multiple `arcgis.learn` supported model's performace."
   ]
  },
  {
   "cell_type": "markdown",
   "metadata": {},
   "source": [
    "For more information about the API, please go to the <a href=\"https://developers.arcgis.com/python/api-reference/arcgis.learn.toc.html#autodl\">API reference</a>"
   ]
  }
 ],
 "metadata": {
  "kernelspec": {
   "display_name": "Python 3",
   "language": "python",
   "name": "python3"
  },
  "language_info": {
   "codemirror_mode": {
    "name": "ipython",
    "version": 3
   },
   "file_extension": ".py",
   "mimetype": "text/x-python",
   "name": "python",
   "nbconvert_exporter": "python",
   "pygments_lexer": "ipython3",
   "version": "3.9.11"
  }
 },
 "nbformat": 4,
 "nbformat_minor": 4
}
