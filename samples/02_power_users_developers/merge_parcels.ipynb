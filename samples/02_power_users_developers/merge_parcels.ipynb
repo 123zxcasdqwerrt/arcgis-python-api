{
 "cells": [
  {
   "cell_type": "code",
   "execution_count": 1,
   "source": [
    "from arcgis import GIS\r\n",
    "from arcgis.features._version import VersionManager\r\n",
    "from arcgis.features._parcel import ParcelFabricManager\r\n",
    "from arcgis.features.layer import FeatureLayer\r\n",
    "from arcgis.features.layer import FeatureLayerCollection"
   ],
   "outputs": [],
   "metadata": {}
  },
  {
   "cell_type": "code",
   "execution_count": 2,
   "source": [
    "base_server_url = \"https://myserver.domain.com/web_adaptor/rest/services/WashingtonCountyLSA/\"\r\n",
    "gis = GIS(\"https://myserver.domain.com/web_adaptor/\", \"username\", \"pass.word\", verify_cert=False)\r\n",
    "\r\n",
    "# generate the enpoint urls for feature server, version management and parcel fabric\r\n",
    "service_endpoints = [\"FeatureServer\", \"ParcelFabricServer\", \"VersionManagementServer\"]                    \r\n",
    "service_urls = {url: base_server_url + url for url in service_endpoints}"
   ],
   "outputs": [],
   "metadata": {}
  },
  {
   "cell_type": "markdown",
   "source": [
    "Merge Parcels\n",
    "\n",
    "Merge combines two or more parent parcels into one new child parcel. Merge sums up legal areas of parent parcels to the new child parcel legal area. \n",
    "\n",
    "When merge is called with the `record` argument, the Merge function will update the new parcel's CreatedByRecord field with the GlobalID of the record.  It will also update the original feature's RetiredByRecord with the same GlobalID value.\n",
    "\n",
    "This notebook will demonstrate:\n",
    "\n",
    "1. Creating a branch version\n",
    "2. Creating a new parcel record\n",
    "3. Querying for parcels to merge\n",
    "4. Merging the parcels."
   ],
   "metadata": {}
  },
  {
   "cell_type": "markdown",
   "source": [
    "#### Create a new branch version"
   ],
   "metadata": {}
  },
  {
   "cell_type": "code",
   "execution_count": 3,
   "source": [
    "parcel_fabric_flc = FeatureLayerCollection(service_urls[\"FeatureServer\"], gis)\r\n",
    "version_management_server = parcel_fabric_flc.versions\r\n",
    "\r\n",
    "new_version_name = \"merge_version_1\"\r\n",
    "version_management_server.get(f\"admin.{new_version_name}\").delete()\r\n",
    "\r\n",
    "version_management_server.create(new_version_name)\r\n",
    "fq_version_name = version_management_server.get(f\"admin.{new_version_name}\").properties.versionName\r\n",
    "fq_version_name"
   ],
   "outputs": [
    {
     "output_type": "execute_result",
     "data": {
      "text/plain": [
       "'admin.merge_version_1'"
      ]
     },
     "metadata": {},
     "execution_count": 3
    }
   ],
   "metadata": {}
  },
  {
   "cell_type": "markdown",
   "source": [
    "#### Create a new parcel record\n",
    "This is the name of the legal record which states two parcels should be combined into one."
   ],
   "metadata": {}
  },
  {
   "cell_type": "code",
   "execution_count": 4,
   "source": [
    "# Get the URL of the Records feature layer\n",
    "records_fl_url = [n for n in parcel_fabric_flc.layers if n.properties.name == \"Records\"]\n",
    "records_fl_url = records_fl_url[0].url\n",
    "\n",
    "# A name for the new record\n",
    "new_record_name = \"ParcelRecord001\"\n",
    "\n",
    "# Record information with empty geometry.  The geometry is created during Build\n",
    "record_dict = {\n",
    "    \"attributes\": \n",
    "        {\"name\": new_record_name},\n",
    "    \"geometry\": None\n",
    "    }\n",
    "\n",
    "# Access the Records FeatureLayer object\n",
    "records_fl = FeatureLayer(records_fl_url, gis)\n",
    "\n",
    "# Create the new record within the new branch version\n",
    "new_record = records_fl.edit_features(\n",
    "            adds=[record_dict], gdb_version=fq_version_name)\n",
    "\n",
    "new_record"
   ],
   "outputs": [
    {
     "output_type": "execute_result",
     "data": {
      "text/plain": [
       "{'addResults': [{'objectId': 52129,\n",
       "   'globalId': '{48DB77A0-A531-4E39-9F8B-85CF8FF3E3C6}',\n",
       "   'success': True}],\n",
       " 'updateResults': [],\n",
       " 'deleteResults': []}"
      ]
     },
     "metadata": {},
     "execution_count": 4
    }
   ],
   "metadata": {}
  },
  {
   "cell_type": "code",
   "execution_count": 6,
   "source": [
    "# Get the globalID of the new record\n",
    "record_globalid = new_record[\"addResults\"][0][\"globalId\"]\n",
    "record_globalid"
   ],
   "outputs": [
    {
     "output_type": "execute_result",
     "data": {
      "text/plain": [
       "'{48DB77A0-A531-4E39-9F8B-85CF8FF3E3C6}'"
      ]
     },
     "metadata": {},
     "execution_count": 6
    }
   ],
   "metadata": {}
  },
  {
   "cell_type": "markdown",
   "source": [
    "#### Query parcels to merge\n",
    "\n",
    "The [Merge](https://developers.arcgis.com/python/api-reference/arcgis.features.managers.html#arcgis.features._parcel.ParcelFabricManager.merge) function takes an argument of parcel features in the following format:\n",
    "\n",
    "```\n",
    "[{\"id\":\"<parcelguid>\",\"layerId\":\"<layer_id>\"},{...}]\n",
    "```\n",
    "\n",
    "This can be accomplished by identifying the layer ID of the parcels and querying the parcels by their name (PIN, APN, etc) "
   ],
   "metadata": {}
  },
  {
   "cell_type": "code",
   "execution_count": 7,
   "source": [
    "# parcels to be queried and merged\n",
    "parcel_apns = [\"0031001\", \"0031002\"]"
   ],
   "outputs": [],
   "metadata": {}
  },
  {
   "cell_type": "code",
   "execution_count": 8,
   "source": [
    "# build up a WHERE IN clause to search for parcels\n",
    "where_clause = \"NAME in (\"\n",
    "for p in range(len(parcel_apns)):\n",
    "    where_clause += f\"'{str(parcel_apns[p])}',\"\n",
    "where_clause = where_clause[:-1] + \")\"\n",
    "\n",
    "where_clause"
   ],
   "outputs": [
    {
     "output_type": "execute_result",
     "data": {
      "text/plain": [
       "\"NAME in ('0031001','0031002')\""
      ]
     },
     "metadata": {},
     "execution_count": 8
    }
   ],
   "metadata": {}
  },
  {
   "cell_type": "code",
   "execution_count": 53,
   "source": [
    "# Get the URL of the parcel polygon feature layer\n",
    "parcel_fl_props = [n for n in parcel_fabric_flc.layers if n.properties.name == \"Tax_PF\"]\n",
    "parcels_fl_url = parcel_fl_props[0].url\n",
    "\n",
    "# Get the parcels feature layer\n",
    "parcels_fl = FeatureLayer(parcels_fl_url, gis)\n",
    "\n",
    "# query the features using the WHERE clause\n",
    "# use to_dict() to get access to attributes\n",
    "parcels_subset = parcels_fl.query(\n",
    "        where=where_clause,\n",
    "        out_fields=[\"GlobalID\"],\n",
    "        gdb_version=fq_version_name,\n",
    ")\n",
    "\n",
    "parcels_subset_dict = parcels_subset.to_dict()"
   ],
   "outputs": [],
   "metadata": {}
  },
  {
   "cell_type": "code",
   "execution_count": 58,
   "source": [
    "print([(a[\"attributes\"][\"OBJECTID\"], a[\"attributes\"][\"GlobalID\"]) \n",
    "       for a in parcels_subset_dict[\"features\"]])\n",
    "map = gis.map('Keowns, WI')\n",
    "map.draw(parcels_subset)\n",
    "map.zoom_to_layer(parcels_subset)\n",
    "map"
   ],
   "outputs": [
    {
     "output_type": "stream",
     "name": "stdout",
     "text": [
      "[(77, '{F736D9F3-DFD9-4FEE-A2E8-07352E74EBDF}'), (79, '{13CD345B-7C4F-41C7-A22D-24E4C6670D85}')]\n"
     ]
    },
    {
     "output_type": "display_data",
     "data": {
      "text/plain": [
       "MapView(layout=Layout(height='400px', width='100%'))"
      ],
      "application/vnd.jupyter.widget-view+json": {
       "model_id": "6422dca381f246ae91a333f8c7cdbdd4",
       "version_major": 2,
       "version_minor": 0
      }
     },
     "metadata": {}
    },
    {
     "output_type": "display_data",
     "data": {
      "text/plain": [
       "<IPython.core.display.HTML object>"
      ],
      "text/html": [
       "<div class=\"map-static-img-preview-dbda45e8-95ae-4b7e-a5a3-bc0900ba0ab8\"><img src=\"\"></img></div>"
      ]
     },
     "metadata": {}
    },
    {
     "output_type": "display_data",
     "data": {
      "text/plain": [
       "<IPython.core.display.HTML object>"
      ],
      "text/html": [
       "<div class=\"map-html-embed-preview-dbda45e8-95ae-4b7e-a5a3-bc0900ba0ab8\"></div>"
      ]
     },
     "metadata": {}
    }
   ],
   "metadata": {}
  },
  {
   "cell_type": "code",
   "execution_count": 52,
   "source": [
    "# Generate a list of dicts of {id: <globalid>, layerid: <layer_id>}\n",
    "parcels_to_merge = []\n",
    "\n",
    "parcels_fl_layerid = parcel_fl_props[0].properties.id\n",
    "\n",
    "for item in parcels_subset_dict[\"features\"]:\n",
    "    parcels_to_merge.append({\n",
    "        \"id\": item[\"attributes\"][\"GlobalID\"],\n",
    "        \"layerId\": parcels_fl_layerid\n",
    "    })\n",
    "\n",
    "parcels_to_merge"
   ],
   "outputs": [
    {
     "output_type": "execute_result",
     "data": {
      "text/plain": [
       "[{'id': '{F736D9F3-DFD9-4FEE-A2E8-07352E74EBDF}', 'layerId': 15},\n",
       " {'id': '{13CD345B-7C4F-41C7-A22D-24E4C6670D85}', 'layerId': 15}]"
      ]
     },
     "metadata": {},
     "execution_count": 52
    }
   ],
   "metadata": {}
  },
  {
   "cell_type": "markdown",
   "source": [
    "#### Merge the parcels\n",
    "- Create a simple dict of feature attributes to update merged parcel (optional)\n",
    "- Start an edit session in the new version\n",
    "- Get the ParcelManager object\n",
    "- Pass the required arguments to the ParcelManager.merge function"
   ],
   "metadata": {}
  },
  {
   "cell_type": "code",
   "execution_count": 12,
   "source": [
    "# Values to update the merged parcel attributes\n",
    "merged_parcel_name = \"0033004\"\n",
    "attributes = {\"type\": \"PropertySet\",\n",
    "                        \"propertySetItems\":\n",
    "                            [\"name\", merged_parcel_name,\n",
    "                            \"statedarea\", 18002]}\n",
    "\n",
    "# Start the edit session, get the ParcelFabricManager and merge\n",
    "with version_management_server.get(fq_version_name, \"read\") as version:\n",
    "    parcel_fabric = ParcelFabricManager(service_urls[\"ParcelFabricServer\"], \n",
    "                                        gis, \n",
    "                                        version, \n",
    "                                        parcel_fabric_flc\n",
    "        )\n",
    "\n",
    "    merge = parcel_fabric.merge(\n",
    "                        parent_parcels=parcels_to_merge,\n",
    "                        merge_record=record_globalid,\n",
    "                        target_parcel_type=15,\n",
    "                        default_area_unit=109405,\n",
    "                        merge_into=\"{00000000-0000-0000-0000-000000000000}\",\n",
    "                        attribute_overrides=attributes\n",
    "        )"
   ],
   "outputs": [],
   "metadata": {}
  },
  {
   "cell_type": "code",
   "execution_count": 34,
   "source": [
    "merged_feature = merge.get(\"serviceEdits\")[0].get(\"editedFeatures\").get(\"adds\")[0].get(\"attributes\")\n",
    "print(\"Name:\", merged_feature.get(\"Name\"))\n",
    "print(\"Stated Area\", merged_feature.get(\"StatedArea\"))"
   ],
   "outputs": [
    {
     "output_type": "stream",
     "name": "stdout",
     "text": [
      "Name: 0033004\n",
      "Stated Area 18002.0\n"
     ]
    }
   ],
   "metadata": {}
  },
  {
   "cell_type": "code",
   "execution_count": 46,
   "source": [
    "merged_parcel = parcels_fl.query(gdb_version=fq_version_name, where=f\"Name = '{merged_parcel_name}'\")\n",
    "map1 = gis.map('Keowns, WI')\n",
    "map1.draw(merged_parcel)\n",
    "map1.zoom_to_layer(merged_parcel)\n",
    "map1"
   ],
   "outputs": [
    {
     "output_type": "display_data",
     "data": {
      "text/plain": [
       "MapView(layout=Layout(height='400px', width='100%'))"
      ],
      "application/vnd.jupyter.widget-view+json": {
       "model_id": "e6bb5f7f077744eab2389a70fc04516a",
       "version_major": 2,
       "version_minor": 0
      }
     },
     "metadata": {}
    },
    {
     "output_type": "display_data",
     "data": {
      "text/plain": [
       "<IPython.core.display.HTML object>"
      ],
      "text/html": [
       "<div class=\"map-static-img-preview-6c9f1db3-a48a-492d-8c5a-30442fee2735\"><img src=\"\"></img></div>"
      ]
     },
     "metadata": {}
    },
    {
     "output_type": "display_data",
     "data": {
      "text/plain": [
       "<IPython.core.display.HTML object>"
      ],
      "text/html": [
       "<div class=\"map-html-embed-preview-6c9f1db3-a48a-492d-8c5a-30442fee2735\"></div>"
      ]
     },
     "metadata": {}
    }
   ],
   "metadata": {}
  },
  {
   "cell_type": "markdown",
   "source": [
    "### Documentation\n",
    "\n",
    "[ArcGIS Python API - ParcelFabricManager.merge](https://developers.arcgis.com/python/api-reference/arcgis.features.managers.html#arcgis.features._parcel.ParcelFabricManager.merge)\n",
    "\n",
    "[ArcGIS Python API - FeatureLayer](https://developers.arcgis.com/python/api-reference/arcgis.features.toc.html#featurelayer)\n",
    "\n",
    "[ArcGIS Python API - Query a FeatureLayer](https://developers.arcgis.com/python/guide/working-with-feature-layers-and-features/#Querying-feature-layers)\n",
    "\n",
    "[ArcGIS REST API - VersionManagementServer](https://developers.arcgis.com/rest/services-reference/enterprise/version-management-service.htm)\n",
    "\n",
    "[ArcGIS REST API - ParcelFabricServer](https://developers.arcgis.com/rest/services-reference/enterprise/overview-of-parcel-fabric-sevices.htm)\n",
    "\n",
    "[ArcGIS Pro - Parcel Fabric Data Model](https://pro.arcgis.com/en/pro-app/latest/help/data/parcel-editing/createaparcelfabric.htm)"
   ],
   "metadata": {}
  },
  {
   "cell_type": "markdown",
   "source": [],
   "metadata": {}
  }
 ],
 "metadata": {
  "interpreter": {
   "hash": "3ec7365f029c0271ef64d13dd7112b33803c4eb4bcfd1477ee827987865a2476"
  },
  "kernelspec": {
   "display_name": "Python 3",
   "language": "python",
   "name": "python3"
  },
  "language_info": {
   "codemirror_mode": {
    "name": "ipython",
    "version": 3
   },
   "file_extension": ".py",
   "mimetype": "text/x-python",
   "name": "python",
   "nbconvert_exporter": "python",
   "pygments_lexer": "ipython3",
   "version": "3.7.9"
  }
 },
 "nbformat": 4,
 "nbformat_minor": 2
}