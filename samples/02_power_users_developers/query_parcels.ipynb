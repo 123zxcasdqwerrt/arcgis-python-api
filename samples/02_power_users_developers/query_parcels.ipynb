{
 "cells": [
  {
   "cell_type": "code",
   "execution_count": 5,
   "source": [
    "from arcgis.gis import GIS\r\n",
    "from arcgis.features.layer import FeatureLayerCollection\r\n",
    "from arcgis.features.layer import FeatureLayer"
   ],
   "outputs": [],
   "metadata": {}
  },
  {
   "cell_type": "markdown",
   "source": [
    "### Parcel Feature Relationships and Querying\n",
    "\n",
    "The samples below demonstrate the following:\n",
    "\n",
    "1. How to query a feature layer\n",
    "2. How to find parcel features within a parcel record.\n",
    "3. How to find parcel features by an attribute.\n",
    "4. Build up a dict of parcel features for Parcel Fabric capabilities."
   ],
   "metadata": {}
  },
  {
   "cell_type": "markdown",
   "source": [
    "#### Records\n",
    "A Parcel Fabric contains a Records which represents the legal document information about a parcel or set of parcels.  The geometry of a record is the outer boundary of any parcel polygon features associated with a particular record.  The record feature and parcel feature(s) are related by GUID fields (GlobalID) in each."
   ],
   "metadata": {}
  },
  {
   "cell_type": "markdown",
   "source": [
    "<table style='float:left'><thead><th>Field Name</th><th>Type</th></thead><tbody><tr><td>GlobalID</td><td>GUID</td></tr></tbody>"
   ],
   "metadata": {}
  },
  {
   "cell_type": "markdown",
   "source": [
    "#### Parcel features\n",
    "A parcel type consists of a pair of feature classes.  \n",
    "- A polygon feature class representing the area of a parcel.\n",
    "- A COGO enabled line feature class representing the boundary of a parcel.\n",
    "\n",
    "Parcel features (both lines and polygons) relate to a Record and to themselves:"
   ],
   "metadata": {}
  },
  {
   "cell_type": "markdown",
   "source": [
    "<table style='float:left'><thead><th>Field Name</th><th>Type</th></thead><tbody><tr><td>CreatedByRecord</td><td>GUID</td></tr><tr><td>RetiredByRecord</td><td>GUID</td></tr></tbody>"
   ],
   "metadata": {}
  },
  {
   "cell_type": "code",
   "execution_count": 6,
   "source": [
    "base_server_url = \"https://myserver.domain.com/web_adaptor/rest/services/WashingtonCountyLSA/\"\r\n",
    "gis = GIS(\"https://myserver.domain.com/web_adaptor/\", \"username\", \"pass.word\", verify_cert=False)\r\n",
    "\r\n",
    "# generate the enpoint urls for feature server, version management and parcel fabric\r\n",
    "service_endpoints = [\"FeatureServer\", \"VersionManagementServer\"]                    \r\n",
    "service_urls = {url: base_server_url + url for url in service_endpoints}\r\n",
    "\r\n",
    "parcel_fabric_flc = FeatureLayerCollection(service_urls[\"FeatureServer\"], gis)"
   ],
   "outputs": [],
   "metadata": {}
  },
  {
   "cell_type": "code",
   "execution_count": 7,
   "source": [
    "# Get the URL of the Records feature layer\r\n",
    "records_fl_url = [n for n in parcel_fabric_flc.layers if n.properties.name == \"Records\"]\r\n",
    "records_fl_url = records_fl_url[0].url\r\n",
    "records_fl_url"
   ],
   "outputs": [
    {
     "output_type": "execute_result",
     "data": {
      "text/plain": [
       "'https://krennic.esri.com/server/rest/services/WashingtonCountyLSA/FeatureServer/1'"
      ]
     },
     "metadata": {},
     "execution_count": 7
    }
   ],
   "metadata": {}
  },
  {
   "cell_type": "markdown",
   "source": [
    "#### Find a parcel record by its name\n",
    "\n",
    "- Access the Records feature layer\n",
    "- Create a WHERE clause and list of fields to return\n",
    "- Query the records feature layer\n",
    "- Return the result as a spatial data frame\n",
    " "
   ],
   "metadata": {}
  },
  {
   "cell_type": "code",
   "execution_count": 8,
   "source": [
    "record_name = \"Record001\"         # name to search\n",
    "out_fields = [\"name\", \"globalId\"] # fields to return\n",
    "\n",
    "where = f\"name = '{record_name}'\"\n",
    "\n",
    "records_fl = FeatureLayer(records_fl_url, gis)\n",
    "record_row = records_fl.query(\n",
    "    where=where,\n",
    "    out_fields=out_fields,\n",
    ").sdf\n",
    "\n",
    "record_row"
   ],
   "outputs": [
    {
     "output_type": "execute_result",
     "data": {
      "text/plain": [
       "   OBJECTID       Name                                GlobalID  \\\n",
       "0       123  Record001  {4B753DC5-AEDD-4703-AE56-B236EBB5DEFB}   \n",
       "\n",
       "                                               SHAPE  \n",
       "0  {\"rings\": [[[2474616.7778283805, 503108.655806...  "
      ],
      "text/html": [
       "<div>\n",
       "<style scoped>\n",
       "    .dataframe tbody tr th:only-of-type {\n",
       "        vertical-align: middle;\n",
       "    }\n",
       "\n",
       "    .dataframe tbody tr th {\n",
       "        vertical-align: top;\n",
       "    }\n",
       "\n",
       "    .dataframe thead th {\n",
       "        text-align: right;\n",
       "    }\n",
       "</style>\n",
       "<table border=\"1\" class=\"dataframe\">\n",
       "  <thead>\n",
       "    <tr style=\"text-align: right;\">\n",
       "      <th></th>\n",
       "      <th>OBJECTID</th>\n",
       "      <th>Name</th>\n",
       "      <th>GlobalID</th>\n",
       "      <th>SHAPE</th>\n",
       "    </tr>\n",
       "  </thead>\n",
       "  <tbody>\n",
       "    <tr>\n",
       "      <th>0</th>\n",
       "      <td>123</td>\n",
       "      <td>Record001</td>\n",
       "      <td>{4B753DC5-AEDD-4703-AE56-B236EBB5DEFB}</td>\n",
       "      <td>{\"rings\": [[[2474616.7778283805, 503108.655806...</td>\n",
       "    </tr>\n",
       "  </tbody>\n",
       "</table>\n",
       "</div>"
      ]
     },
     "metadata": {},
     "execution_count": 8
    }
   ],
   "metadata": {}
  },
  {
   "cell_type": "markdown",
   "source": [
    "### Find parcel features by Record GlobalID\n",
    "In the cell above, the Records feature layer was queried by using its name.  The GlobalID value for 'Record001' is now available to use in a search for its associated parcel features.\n",
    "\n",
    "The proceeding cells will show the following:\n",
    "1. Extract the globalID of the record\n",
    "2. Access the parcel polygon feature layer\n",
    "3. Query the features in the parcels feature layer associated to the record\n",
    "\n",
    "`parcels(CreatedByRecord) = records(GlobalID)`\n",
    "\n",
    "4. Draw the subset on a map"
   ],
   "metadata": {}
  },
  {
   "cell_type": "code",
   "execution_count": 9,
   "source": [
    "record_globalid = record_row.at[0, \"GlobalID\"]\n",
    "record_globalid"
   ],
   "outputs": [
    {
     "output_type": "execute_result",
     "data": {
      "text/plain": [
       "'{4B753DC5-AEDD-4703-AE56-B236EBB5DEFB}'"
      ]
     },
     "metadata": {},
     "execution_count": 9
    }
   ],
   "metadata": {}
  },
  {
   "cell_type": "code",
   "execution_count": 10,
   "source": [
    "# Get the URL of the parcel polygon feature layer\n",
    "parcels_fl_url = [n for n in parcel_fabric_flc.layers if n.properties.name == \"Tax_PF\"]\n",
    "parcels_fl_url = parcels_fl_url[0].url\n",
    "parcels_fl_url"
   ],
   "outputs": [
    {
     "output_type": "execute_result",
     "data": {
      "text/plain": [
       "'https://krennic.esri.com/server/rest/services/WashingtonCountyLSA/FeatureServer/15'"
      ]
     },
     "metadata": {},
     "execution_count": 10
    }
   ],
   "metadata": {}
  },
  {
   "cell_type": "code",
   "execution_count": 11,
   "source": [
    "out_fields = [\"name\", \"globalId\"]\n",
    "where_clause = f\"CreatedByRecord = '{record_globalid}'\"\n",
    "parcels_fl = FeatureLayer(parcels_fl_url, gis)\n",
    "\n",
    "parcels_subset = parcels_fl.query(where=where_clause, out_fields=out_fields)\n",
    "parcels_subset"
   ],
   "outputs": [
    {
     "output_type": "execute_result",
     "data": {
      "text/plain": [
       "<FeatureSet> 12 features"
      ]
     },
     "metadata": {},
     "execution_count": 11
    }
   ],
   "metadata": {}
  },
  {
   "cell_type": "code",
   "execution_count": 12,
   "source": [
    "map = gis.map('USA', zoomlevel=16)\n",
    "map.draw(parcels_subset)\n",
    "map.zoom_to_layer(parcels_subset)\n",
    "map"
   ],
   "outputs": [
    {
     "output_type": "display_data",
     "data": {
      "text/plain": [
       "MapView(layout=Layout(height='400px', width='100%'))"
      ],
      "application/vnd.jupyter.widget-view+json": {
       "model_id": "92ce1584d00043d4b0bfaa531503df73",
       "version_major": 2,
       "version_minor": 0
      }
     },
     "metadata": {}
    },
    {
     "output_type": "display_data",
     "data": {
      "text/plain": [
       "<IPython.core.display.HTML object>"
      ],
      "text/html": [
       "<div class=\"map-static-img-preview-0565374e-add1-4a6d-88b0-ad9c6f3ddae9\"><img src=\"\"></img></div>"
      ]
     },
     "metadata": {}
    },
    {
     "output_type": "display_data",
     "data": {
      "text/plain": [
       "<IPython.core.display.HTML object>"
      ],
      "text/html": [
       "<div class=\"map-html-embed-preview-0565374e-add1-4a6d-88b0-ad9c6f3ddae9\"></div>"
      ]
     },
     "metadata": {}
    }
   ],
   "metadata": {}
  },
  {
   "cell_type": "markdown",
   "source": [
    "### Documentation\n",
    "\n",
    "[ArcGIS Python API - FeatureLayer](https://developers.arcgis.com/python/api-reference/arcgis.features.toc.html#featurelayer)\n",
    "\n",
    "[ArcGIS Python API - Query a FeatureLayer](https://developers.arcgis.com/python/guide/working-with-feature-layers-and-features/#Querying-feature-layers)\n",
    "\n",
    "[ArcGIS Pro - Parcel Fabric Data Model](https://pro.arcgis.com/en/pro-app/latest/help/data/parcel-editing/createaparcelfabric.htm)"
   ],
   "metadata": {}
  }
 ],
 "metadata": {
  "interpreter": {
   "hash": "3ec7365f029c0271ef64d13dd7112b33803c4eb4bcfd1477ee827987865a2476"
  },
  "kernelspec": {
   "display_name": "Python 3",
   "language": "python",
   "name": "python3"
  },
  "language_info": {
   "codemirror_mode": {
    "name": "ipython",
    "version": 3
   },
   "file_extension": ".py",
   "mimetype": "text/x-python",
   "name": "python",
   "nbconvert_exporter": "python",
   "pygments_lexer": "ipython3",
   "version": "3.7.9"
  }
 },
 "nbformat": 4,
 "nbformat_minor": 2
}