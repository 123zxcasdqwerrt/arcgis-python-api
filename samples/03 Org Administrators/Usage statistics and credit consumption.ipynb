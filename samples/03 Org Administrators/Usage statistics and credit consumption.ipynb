{
 "cells": [
  {
   "cell_type": "markdown",
   "metadata": {},
   "source": [
    "# Usage statistics and credit consumption"
   ]
  },
  {
   "cell_type": "markdown",
   "metadata": {},
   "source": [
    "GIS administrators can query the GIS object for usage statistics and credit consumption, and plot them using Python plotting libraries right in the IPython Notebook to spot trends and take take action. Note that this functionality isn't available in pre-10.5 portals. The example below queries an ArcGIS Portal for usage counts of Geocoding."
   ]
  },
  {
   "cell_type": "code",
   "execution_count": 1,
   "metadata": {
    "collapsed": false
   },
   "outputs": [],
   "source": [
    "from arcgis.gis import *\n",
    "\n",
    "gis = GIS(\"https://dev04875.esri.com/arcgis\", \"portaladmin\", \"portaladmin\")\n",
    "\n",
    "usage = gis.usage(startTime=1432209600, endTime=1437480000, period='1d', vars='num', \n",
    "                  etype='geocodecnt', stype='geocode', groupby='username,stype,type')\n"
   ]
  },
  {
   "cell_type": "markdown",
   "metadata": {},
   "source": [
    "Having taken the usage date, we can use Python libraries such as Numpy and Bokeh to plot the usage of the Geocoding service and plot trends:"
   ]
  },
  {
   "cell_type": "code",
   "execution_count": null,
   "metadata": {
    "collapsed": false
   },
   "outputs": [],
   "source": [
    "import numpy as np\n",
    "from bokeh.plotting import figure, output_notebook, show\n",
    "\n",
    "npa = np.array(usage['data'][0]['num'], 'i8')\n",
    "npb = np.array(usage['data'][1]['num'], 'i8')\n",
    "npc = np.array(usage['data'][2]['num'], 'i8')\n",
    "\n",
    "timestamps = npa[:,0]\n",
    "vala = npa[:,1]\n",
    "valb = npb[:,1]\n",
    "valc = npc[:,1]\n",
    "valtot = vala + valb + valc\n",
    "\n",
    "output_notebook()\n",
    "\n",
    "# create a new plot with a title and axis labels\n",
    "p = figure(title=\"Geocoding usage\", x_axis_label='Date', y_axis_label='Geocode count', x_axis_type=\"datetime\",plot_width=810)\n",
    "\n",
    "# add a line renderer with legend and line thickness\n",
    "p.line(timestamps, valtot, legend=\"Total\", line_width=6)\n",
    "p.line(timestamps, vala, legend=\"anonymous\", line_width=2, line_color=\"red\")\n",
    "p.line(timestamps, valb, legend=usage['data'][1]['username'], line_width=2, line_color=\"green\")\n",
    "p.line(timestamps, valc, legend=usage['data'][2]['username'], line_width=2, line_color=\"orange\")\n",
    "\n",
    "# show the results\n",
    "show(p)"
   ]
  },
  {
   "cell_type": "markdown",
   "metadata": {},
   "source": [
    "<img src=\"http://esri.github.io/arcgis-python-api/notebooks/nbimages/bokeh.png\">"
   ]
  },
  {
   "cell_type": "markdown",
   "metadata": {
    "collapsed": true
   },
   "source": [
    "In the example above, we see that anonymous users were the top consumer of geocoding credits. The GIS administrator was able to visualize this using the usage plot, and turned off geocoding for anonymous users, thereby saving on ArcGIS credits."
   ]
  }
 ],
 "metadata": {
  "kernelspec": {
   "display_name": "Python 3",
   "language": "python",
   "name": "python3"
  },
  "language_info": {
   "codemirror_mode": {
    "name": "ipython",
    "version": 3
   },
   "file_extension": ".py",
   "mimetype": "text/x-python",
   "name": "python",
   "nbconvert_exporter": "python",
   "pygments_lexer": "ipython3",
   "version": "3.4.4"
  }
 },
 "nbformat": 4,
 "nbformat_minor": 0
}
