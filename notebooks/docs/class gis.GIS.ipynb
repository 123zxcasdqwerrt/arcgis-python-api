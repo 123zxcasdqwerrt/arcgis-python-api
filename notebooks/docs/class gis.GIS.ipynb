{
 "cells": [
  {
   "cell_type": "markdown",
   "metadata": {},
   "source": [
    "##The GIS class"
   ]
  },
  {
   "cell_type": "markdown",
   "metadata": {},
   "source": [
    "<hr/>"
   ]
  },
  {
   "cell_type": "markdown",
   "metadata": {},
   "source": [
    "<code><b>class gis.GIS<b>(<i>url=None, username=None, password=None</i>)</code>"
   ]
  },
  {
   "cell_type": "markdown",
   "metadata": {},
   "source": [
    "Constructs a GIS object given a url and user credentials to ArcGIS Online \n",
    "        or an ArcGIS Portal. If no url is provided, ArcGIS Online is used. If username\n",
    "        and password are not provided, anonymous access is used.\n",
    "\n",
    "A GIS is representative of ArcGIS Online or an ArcGIS Portal site. The GIS object provides helper objects (as properties) to manage (search, create, retrieve) GIS resources:\n",
    "* **users**\n",
    "* **groups**\n",
    "* **content**\n",
    "* **datastores**\n",
    "* **tools**, including\n",
    "  * geocoder\n",
    "  * analysis\n",
    "  * rasters\n",
    "  * geoanalytics  \n",
    "  * geometry\n",
    "\n",
    "Additionally, the GIS object has properties as well as methods to display usage statistics and map widgets: \n",
    "* **properties**\n",
    "* **usage()**\n",
    "* **map()**"
   ]
  },
  {
   "cell_type": "code",
   "execution_count": 2,
   "metadata": {
    "collapsed": false,
    "scrolled": true
   },
   "outputs": [
    {
     "name": "stderr",
     "output_type": "stream",
     "text": [
      ":0: FutureWarning: IPython widgets are experimental and may change in the future.\n"
     ]
    }
   ],
   "source": [
    "from arcgis.gis import *\n",
    "from arcgis.viz import *\n",
    "\n",
    "# Example: connect to ArcGIS Online as an anonymous user \n",
    "gis = GIS()"
   ]
  },
  {
   "cell_type": "markdown",
   "metadata": {},
   "source": [
    "<hr>"
   ]
  },
  {
   "cell_type": "markdown",
   "metadata": {},
   "source": [
    "##map(<i>self, location=None, zoomlevel=None</i>)"
   ]
  },
  {
   "cell_type": "markdown",
   "metadata": {},
   "source": [
    "Creates a map widget centered at the location (Address) with the specified zoom-level"
   ]
  },
  {
   "cell_type": "code",
   "execution_count": 3,
   "metadata": {
    "collapsed": false
   },
   "outputs": [],
   "source": [
    "#Example: create a map centered on Palm Springs\n",
    "map = gis.map('Palm Springs, CA', 12)\n",
    "map"
   ]
  },
  {
   "cell_type": "markdown",
   "metadata": {},
   "source": [
    "<hr>"
   ]
  },
  {
   "cell_type": "markdown",
   "metadata": {},
   "source": [
    "###users"
   ]
  },
  {
   "cell_type": "markdown",
   "metadata": {},
   "source": [
    "The resource manager for GIS users"
   ]
  },
  {
   "cell_type": "code",
   "execution_count": 3,
   "metadata": {
    "collapsed": false
   },
   "outputs": [
    {
     "data": {
      "text/html": [
       "<div class=\"item_container\">\n",
       "                    <div class=\"item_left\">\n",
       "                       <a href='http://www.arcgis.com/home/user.html?user=jes0070' target='_blank'>\n",
       "                        <img src='http://www.arcgis.com/home/js/arcgisonline/css/images/no-user-thumb.jpg' class=\"itemThumbnail\">\n",
       "                       </a>\n",
       "                    </div>\n",
       "        \n",
       "                    <div class=\"item_right\">\n",
       "                        <a href='http://www.arcgis.com/home/user.html?user=jes0070' target='_blank'><b>JOHN SMITH</b>\n",
       "                        </a>\n",
       "                        <br><br><b>Bio</b>: Real Estate Services @ Reconassist and 4deeds.com SALESFORCE.COM (SFDC), GPS, GIS, VA. Beach, VA.   @1JohnSmith\n",
       "                        <br><b>First Name</b>: JOHN\n",
       "                        <br><b>Last Name</b>: SMITH\n",
       "                        <br><b>Username</b>: jes0070\n",
       "                        <br><b>Joined</b>: November 04, 2011\n",
       "                        \n",
       "                    </div>\n",
       "                </div>\n",
       "                "
      ],
      "text/plain": [
       "{}"
      ]
     },
     "execution_count": 3,
     "metadata": {},
     "output_type": "execute_result"
    }
   ],
   "source": [
    "#Example: query a user from the gis\n",
    "gis.users.search('johnsmith')[0]"
   ]
  },
  {
   "cell_type": "markdown",
   "metadata": {},
   "source": [
    "<hr>"
   ]
  },
  {
   "cell_type": "markdown",
   "metadata": {},
   "source": [
    "###groups"
   ]
  },
  {
   "cell_type": "markdown",
   "metadata": {},
   "source": [
    "The resource manager for groups in the GIS"
   ]
  },
  {
   "cell_type": "code",
   "execution_count": 4,
   "metadata": {
    "collapsed": false
   },
   "outputs": [
    {
     "data": {
      "text/html": [
       "<div class=\"item_container\">\n",
       "                    <div class=\"item_left\">\n",
       "                       <a href='http://www.arcgis.com/home/group.html?id=34b4169ba106483285240c0e892fa2f0' target='_blank'>\n",
       "                        <img src='http://www.arcgis.com/sharing/rest/community/groups/34b4169ba106483285240c0e892fa2f0/info/index.jpg' class=\"itemThumbnail\">\n",
       "                       </a>\n",
       "                    </div>\n",
       "        \n",
       "                    <div class=\"item_right\">\n",
       "                        <a href='http://www.arcgis.com/home/group.html?id=34b4169ba106483285240c0e892fa2f0' target='_blank'><b>Advanced Map Automation with Python - FED UC 2016</b>\n",
       "                        </a>\n",
       "                        <br>\n",
       "                        <br><b>Summary</b>: Scripts and slides from tech workshop 'Advanced Map Automation with Python' at the 2016 FED UC\n",
       "                        <br><b>Description</b>: None\n",
       "                        <br><b>Owner</b>: jskinner_CountySandbox\n",
       "                        <br><b>Created</b>: January 20, 2016\n",
       "                        \n",
       "                    </div>\n",
       "                </div>\n",
       "                "
      ],
      "text/plain": [
       "{}"
      ]
     },
     "execution_count": 4,
     "metadata": {},
     "output_type": "execute_result"
    }
   ],
   "source": [
    "gis.groups.search('Python')[0]"
   ]
  },
  {
   "cell_type": "markdown",
   "metadata": {},
   "source": [
    "<hr>"
   ]
  },
  {
   "cell_type": "markdown",
   "metadata": {},
   "source": [
    "###content"
   ]
  },
  {
   "cell_type": "markdown",
   "metadata": {},
   "source": [
    "The resource manager for content within the GIS"
   ]
  },
  {
   "cell_type": "code",
   "execution_count": 5,
   "metadata": {
    "collapsed": false
   },
   "outputs": [
    {
     "data": {
      "text/html": [
       "<div class=\"item_container\">\n",
       "                    <div class=\"item_left\">\n",
       "                       <a href='http://www.arcgis.com/home/item.html?id=26f7674a2ad744f3806af0c426531951' target='_blank'>\n",
       "                        <img src='http://www.arcgis.com/sharing/rest/content/items/26f7674a2ad744f3806af0c426531951/info/thumbnail/SDEmergency_portal_Link_toAGO.png' class=\"itemThumbnail\">\n",
       "                       </a>\n",
       "                    </div>\n",
       "        \n",
       "                    <div class=\"item_right\">\n",
       "                        <a href='http://www.arcgis.com/home/item.html?id=26f7674a2ad744f3806af0c426531951' target='_blank'><b>County of San Diego Emergency Map (Live)</b>\n",
       "                        </a>\n",
       "                        <br>Public feed from the County of San Diego Office of Emergency Services and other emergency-related feeds.<img src='http://www.arcgis.com/home/js/jsapi/esri/css/images/item_type_icons/maps16.png' style=\"vertical-align:middle;\">Web Map by oes_services\n",
       "                        <br>Last Modified: January 12, 2016\n",
       "                        <br>11 comments, 3,237,168 views\n",
       "                    </div>\n",
       "                </div>\n",
       "                "
      ],
      "text/plain": [
       "{}"
      ]
     },
     "metadata": {},
     "output_type": "display_data"
    },
    {
     "data": {
      "text/html": [
       "<div class=\"item_container\">\n",
       "                    <div class=\"item_left\">\n",
       "                       <a href='http://www.arcgis.com/home/item.html?id=1966ef409a344d089b001df85332608f' target='_blank'>\n",
       "                        <img src='http://www.arcgis.com/sharing/rest/content/items/1966ef409a344d089b001df85332608f/info/thumbnail/thumbnail_san_diego_map.png' class=\"itemThumbnail\">\n",
       "                       </a>\n",
       "                    </div>\n",
       "        \n",
       "                    <div class=\"item_right\">\n",
       "                        <a href='http://www.arcgis.com/home/item.html?id=1966ef409a344d089b001df85332608f' target='_blank'><b>San Diego Shortlist</b>\n",
       "                        </a>\n",
       "                        <br>Rupert Essinger from the Esri Story Maps team shares a selection of cool places to go in this Southern Californian beach city where he lives.<img src='http://www.arcgis.com/home/js/jsapi/esri/css/images/item_type_icons/maps16.png' style=\"vertical-align:middle;\">Web Map by RupertEssinger\n",
       "                        <br>Last Modified: June 29, 2015\n",
       "                        <br>22 comments, 284,561 views\n",
       "                    </div>\n",
       "                </div>\n",
       "                "
      ],
      "text/plain": [
       "{}"
      ]
     },
     "metadata": {},
     "output_type": "display_data"
    },
    {
     "data": {
      "text/html": [
       "<div class=\"item_container\">\n",
       "                    <div class=\"item_left\">\n",
       "                       <a href='http://www.arcgis.com/home/item.html?id=1fe3292959da4c3d84cbe2def87a89c0' target='_blank'>\n",
       "                        <img src='http://www.arcgis.com/sharing/rest/content/items/1fe3292959da4c3d84cbe2def87a89c0/info/thumbnail/San_Diego_Trolley.png' class=\"itemThumbnail\">\n",
       "                       </a>\n",
       "                    </div>\n",
       "        \n",
       "                    <div class=\"item_right\">\n",
       "                        <a href='http://www.arcgis.com/home/item.html?id=1fe3292959da4c3d84cbe2def87a89c0' target='_blank'><b>San Diego Trolley</b>\n",
       "                        </a>\n",
       "                        <br>Complete trolley lines and stations of the San Diego Trolley using data from San Diego Association of Governments (SANDAG) with several updates applied<img src='http://www.arcgis.com/home/js/jsapi/esri/css/images/item_type_icons/mapimages16.png' style=\"vertical-align:middle;\">Map Service by RupertEssinger\n",
       "                        <br>Last Modified: September 11, 2012\n",
       "                        <br>0 comments, 177,624 views\n",
       "                    </div>\n",
       "                </div>\n",
       "                "
      ],
      "text/plain": [
       "{}"
      ]
     },
     "metadata": {},
     "output_type": "display_data"
    }
   ],
   "source": [
    "#Example: List content related to San Diego\n",
    "from IPython.display import display\n",
    "\n",
    "items = gis.content.search('San Diego', max_items=3)\n",
    "for item in items:\n",
    "    display(item)"
   ]
  },
  {
   "cell_type": "markdown",
   "metadata": {},
   "source": [
    "<hr>"
   ]
  },
  {
   "cell_type": "markdown",
   "metadata": {},
   "source": [
    "###datastores"
   ]
  },
  {
   "cell_type": "markdown",
   "metadata": {},
   "source": [
    "Resource manager for managing GIS data stores. Only available with the portal. Under construction"
   ]
  },
  {
   "cell_type": "markdown",
   "metadata": {},
   "source": [
    "<hr>"
   ]
  },
  {
   "cell_type": "markdown",
   "metadata": {},
   "source": [
    "###tools"
   ]
  },
  {
   "cell_type": "markdown",
   "metadata": {},
   "source": [
    "Collection of helper tools and services available in the GIS"
   ]
  },
  {
   "cell_type": "code",
   "execution_count": 6,
   "metadata": {
    "collapsed": false
   },
   "outputs": [],
   "source": [
    "# User the geocoder tool from the GIS's tool collection to re-center the map above on Times Square\n",
    "# scroll up to the map() section\n",
    "map.center = gis.tools.geocoder.find_best_match(\"Times Square, NY\")"
   ]
  },
  {
   "cell_type": "markdown",
   "metadata": {},
   "source": [
    "<hr>"
   ]
  },
  {
   "cell_type": "markdown",
   "metadata": {},
   "source": [
    "###properties"
   ]
  },
  {
   "cell_type": "markdown",
   "metadata": {},
   "source": [
    "The properties of the GIS, accessible as a Python dict"
   ]
  },
  {
   "cell_type": "code",
   "execution_count": 7,
   "metadata": {
    "collapsed": false
   },
   "outputs": [
    {
     "data": {
      "text/plain": [
       "'ArcGIS Online'"
      ]
     },
     "execution_count": 7,
     "metadata": {},
     "output_type": "execute_result"
    }
   ],
   "source": [
    "#Excample\n",
    "gis.properties['portalName']"
   ]
  },
  {
   "cell_type": "markdown",
   "metadata": {},
   "source": [
    "<hr>"
   ]
  },
  {
   "cell_type": "markdown",
   "metadata": {},
   "source": [
    "###usage(<i>startTime, endTime, period, vars, etype, stype, groupby, appId=None<i>)"
   ]
  },
  {
   "cell_type": "markdown",
   "metadata": {},
   "source": [
    "Usage statistics for the GIS"
   ]
  },
  {
   "cell_type": "markdown",
   "metadata": {},
   "source": [
    "<hr>"
   ]
  }
 ],
 "metadata": {
  "kernelspec": {
   "display_name": "Python 3",
   "language": "python",
   "name": "python3"
  },
  "language_info": {
   "codemirror_mode": {
    "name": "ipython",
    "version": 3
   },
   "file_extension": ".py",
   "mimetype": "text/x-python",
   "name": "python",
   "nbconvert_exporter": "python",
   "pygments_lexer": "ipython3",
   "version": "3.4.3"
  }
 },
 "nbformat": 4,
 "nbformat_minor": 0
}
