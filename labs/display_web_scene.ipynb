{
 "cells": [
  {
   "cell_type": "code",
   "execution_count": 3,
   "metadata": {},
   "outputs": [
    {
     "name": "stdout",
     "output_type": "stream",
     "text": [
      "Connected to ArcGIS Online\n"
     ]
    }
   ],
   "source": [
    "from arcgis.gis import GIS\n",
    "dev_gis = GIS(\"https://www.arcgis.com\")\n",
    "print(\"Connected to {}\".format(dev_gis.properties.portalName))"
   ]
  },
  {
   "cell_type": "code",
   "execution_count": 4,
   "metadata": {},
   "outputs": [
    {
     "data": {
      "text/plain": [
       "[<Item title:\"LA Trails and Trailheads\" type:Web Scene owner:esri_devlabs>,\n",
       " <Item title:\"3d trails and trailheads LA\" type:Web Scene owner:tim.lohnes_Hayward>]"
      ]
     },
     "execution_count": 4,
     "metadata": {},
     "output_type": "execute_result"
    }
   ],
   "source": [
    "webscene_search = dev_gis.content.search(query=\"LA Trails *\", item_type=\"Web Scene\")\n",
    "webscene_search"
   ]
  },
  {
   "cell_type": "code",
   "execution_count": 5,
   "metadata": {},
   "outputs": [
    {
     "data": {
      "text/html": [
       "<div class=\"item_container\" style=\"height: auto; overflow: hidden; border: 1px solid #cfcfcf; border-radius: 2px; background: #f6fafa; line-height: 1.21429em; padding: 10px;\">\n",
       "                    <div class=\"item_left\" style=\"width: 210px; float: left;\">\n",
       "                       <a href='https://www.arcgis.com/home/item.html?id=1da0ba4b0f674286875e58ec397260f1' target='_blank'>\n",
       "                        <img src='https://www.arcgis.com/sharing/rest//content/items/1da0ba4b0f674286875e58ec397260f1/info/thumbnail/thumbnail.jpeg' class=\"itemThumbnail\">\n",
       "                       </a>\n",
       "                    </div>\n",
       "\n",
       "                    <div class=\"item_right\"     style=\"float: none; width: auto; overflow: hidden;\">\n",
       "                        <a href='https://www.arcgis.com/home/item.html?id=1da0ba4b0f674286875e58ec397260f1' target='_blank'><b>LA Trails and Trailheads</b>\n",
       "                        </a>\n",
       "                        <br/><img src='https://www.arcgis.com/home/js/jsapi/esri/css/images/item_type_icons/websceneglobal16.png' style=\"vertical-align:middle;\">Web Scene by esri_devlabs\n",
       "                        <br/>Last Modified: September 28, 2017\n",
       "                        <br/>0 comments, 238 views\n",
       "                    </div>\n",
       "                </div>\n",
       "                "
      ],
      "text/plain": [
       "<Item title:\"LA Trails and Trailheads\" type:Web Scene owner:esri_devlabs>"
      ]
     },
     "execution_count": 5,
     "metadata": {},
     "output_type": "execute_result"
    }
   ],
   "source": [
    "webscene = webscene_search[0]\n",
    "webscene"
   ]
  },
  {
   "cell_type": "code",
   "execution_count": 6,
   "metadata": {},
   "outputs": [
    {
     "data": {
      "text/html": [
       "<iframe width=960 height=600 src=\"https://www.arcgis.com/home/webscene/viewer.html?webscene=1da0ba4b0f674286875e58ec397260f1\"/>"
      ],
      "text/plain": [
       "WebScene([('presentation', {'slides': []}),\n",
       "          ('ground',\n",
       "           {'layers': [{'id': 'globalElevation',\n",
       "              'layerType': 'ArcGISTiledElevationServiceLayer',\n",
       "              'listMode': 'hide',\n",
       "              'title': 'Terrain3D',\n",
       "              'url': 'https://elevation3d.arcgis.com/arcgis/rest/services/WorldElevation3D/Terrain3D/ImageServer',\n",
       "              'visibility': True}]}),\n",
       "          ('authoringAppVersion', '5.3.0.0'),\n",
       "          ('initialState',\n",
       "           {'environment': {'lighting': {'datetime': 1489609264000,\n",
       "              'directShadows': True,\n",
       "              'displayUTCOffset': -8}},\n",
       "            'viewpoint': {'camera': {'heading': 9.614277087541259,\n",
       "              'position': {'spatialReference': {'latestWkid': 3857,\n",
       "                'wkid': 102100},\n",
       "               'x': -13220640.739260178,\n",
       "               'y': 4022057.223588654,\n",
       "               'z': 8667.953206751496},\n",
       "              'tilt': 65.85320149210376},\n",
       "             'rotation': 350.38572291245873,\n",
       "             'scale': 82167.12948468477,\n",
       "             'targetGeometry': {'spatialReference': {'latestWkid': 3857,\n",
       "               'wkid': 102100},\n",
       "              'x': -13216930.28290715,\n",
       "              'y': 4043939.9526358354,\n",
       "              'z': 447.9400840708986}}}),\n",
       "          ('spatialReference', {'latestWkid': 3857, 'wkid': 102100}),\n",
       "          ('viewingMode', 'global'),\n",
       "          ('baseMap',\n",
       "           {'baseMapLayers': [{'id': 'World_Imagery_2017',\n",
       "              'layerType': 'ArcGISTiledMapServiceLayer',\n",
       "              'opacity': 1,\n",
       "              'title': 'World Imagery',\n",
       "              'url': 'https://services.arcgisonline.com/ArcGIS/rest/services/World_Imagery/MapServer',\n",
       "              'visibility': True}],\n",
       "            'elevationLayers': [{'id': 'globalElevation',\n",
       "              'layerType': 'ArcGISTiledElevationServiceLayer',\n",
       "              'listMode': 'hide',\n",
       "              'title': 'Terrain3D',\n",
       "              'url': 'https://elevation3d.arcgis.com/arcgis/rest/services/WorldElevation3D/Terrain3D/ImageServer',\n",
       "              'visibility': True}],\n",
       "            'id': '15a87a333a9-basemap-2',\n",
       "            'title': 'Imagery'}),\n",
       "          ('operationalLayers',\n",
       "           [{'id': '15a87a362e4-layer-1',\n",
       "             'itemId': '883cedb8c9fe4524b64d47666ed234a7',\n",
       "             'layerDefinition': {'drawingInfo': {'renderer': {'symbol': {'symbolLayers': [{'height': 100,\n",
       "                   'material': {'color': [56, 168, 0]},\n",
       "                   'resource': {'primitive': 'cylinder'},\n",
       "                   'type': 'Object'}],\n",
       "                 'type': 'PointSymbol3D'},\n",
       "                'type': 'simple',\n",
       "                'visualVariables': [{'field': 'ELEV_FT',\n",
       "                  'rotationType': 'geographic',\n",
       "                  'type': 'rotationInfo'}]}},\n",
       "              'elevationInfo': {'mode': 'relativeToGround'}},\n",
       "             'layerType': 'ArcGISFeatureLayer',\n",
       "             'opacity': 1,\n",
       "             'popupInfo': {'fieldInfos': [{'fieldName': 'OBJECTID',\n",
       "                'format': {'digitSeparator': True, 'places': 0},\n",
       "                'label': 'OBJECTID',\n",
       "                'visible': True},\n",
       "               {'fieldName': 'TRL_NAME', 'label': 'TRL_NAME', 'visible': True},\n",
       "               {'fieldName': 'PARK_NAME',\n",
       "                'label': 'PARK_NAME',\n",
       "                'visible': True},\n",
       "               {'fieldName': 'FEATURE_ID',\n",
       "                'format': {'digitSeparator': True, 'places': 0},\n",
       "                'label': 'FEATURE_ID',\n",
       "                'visible': True},\n",
       "               {'fieldName': 'TRL_ID',\n",
       "                'format': {'digitSeparator': True, 'places': 0},\n",
       "                'label': 'TRL_ID',\n",
       "                'visible': True},\n",
       "               {'fieldName': 'SEG_ID',\n",
       "                'format': {'digitSeparator': True, 'places': 0},\n",
       "                'label': 'SEG_ID',\n",
       "                'visible': True},\n",
       "               {'fieldName': 'STG_AR_ID',\n",
       "                'label': 'STG_AR_ID',\n",
       "                'visible': True},\n",
       "               {'fieldName': 'SUB_TYPE',\n",
       "                'format': {'digitSeparator': True, 'places': 0},\n",
       "                'label': 'SUB_TYPE',\n",
       "                'visible': True},\n",
       "               {'fieldName': 'FEATURE', 'label': 'FEATURE', 'visible': True},\n",
       "               {'fieldName': 'FEAT_CMNT',\n",
       "                'label': 'FEAT_CMNT',\n",
       "                'visible': True},\n",
       "               {'fieldName': 'ELEV_FT',\n",
       "                'format': {'digitSeparator': True, 'places': 0},\n",
       "                'label': 'ELEV_FT',\n",
       "                'visible': True},\n",
       "               {'fieldName': 'CITY_JUR', 'label': 'CITY_JUR', 'visible': True},\n",
       "               {'fieldName': 'ZIP_CODE',\n",
       "                'format': {'digitSeparator': True, 'places': 0},\n",
       "                'label': 'ZIP_CODE',\n",
       "                'visible': True},\n",
       "               {'fieldName': 'SUP_DIST', 'label': 'SUP_DIST', 'visible': True},\n",
       "               {'fieldName': 'X_STREET', 'label': 'X_STREET', 'visible': True},\n",
       "               {'fieldName': 'X', 'label': 'X', 'visible': True},\n",
       "               {'fieldName': 'Y', 'label': 'Y', 'visible': True},\n",
       "               {'fieldName': 'PARKING', 'label': 'PARKING', 'visible': True},\n",
       "               {'fieldName': 'PHOTO', 'label': 'PHOTO', 'visible': True},\n",
       "               {'fieldName': 'TXT_E', 'label': 'TXT_E', 'visible': True},\n",
       "               {'fieldName': 'LAT',\n",
       "                'format': {'digitSeparator': True, 'places': 2},\n",
       "                'label': 'LAT',\n",
       "                'visible': True},\n",
       "               {'fieldName': 'LON',\n",
       "                'format': {'digitSeparator': True, 'places': 2},\n",
       "                'label': 'LON',\n",
       "                'visible': True},\n",
       "               {'fieldName': 'DB_ID',\n",
       "                'format': {'digitSeparator': True, 'places': 0},\n",
       "                'label': 'DB_ID',\n",
       "                'visible': True},\n",
       "               {'fieldName': 'DIR_LAT',\n",
       "                'format': {'digitSeparator': True, 'places': 2},\n",
       "                'label': 'DIR_LAT',\n",
       "                'visible': True},\n",
       "               {'fieldName': 'DIR_LON',\n",
       "                'format': {'digitSeparator': True, 'places': 2},\n",
       "                'label': 'DIR_LON',\n",
       "                'visible': True},\n",
       "               {'fieldName': 'FID',\n",
       "                'format': {'digitSeparator': True, 'places': 0},\n",
       "                'label': 'FID',\n",
       "                'visible': True}],\n",
       "              'popupElements': [{'type': 'fields'}],\n",
       "              'showAttachments': False,\n",
       "              'title': 'Trailheads - Trailheads'},\n",
       "             'title': 'Trailheads - Trailheads',\n",
       "             'url': 'https://services3.arcgis.com/GVgbJbqm8hXASVYi/arcgis/rest/services/Trailheads/FeatureServer/0',\n",
       "             'visibility': True},\n",
       "            {'id': '15a87a43f2b-layer-2',\n",
       "             'itemId': '69e12682738e467eb509d8b54dc73cbd',\n",
       "             'layerDefinition': {'drawingInfo': {'renderer': {'symbol': {'symbolLayers': [{'material': {'color': [255,\n",
       "                     69,\n",
       "                     0]},\n",
       "                   'size': 60,\n",
       "                   'type': 'Path'}],\n",
       "                 'type': 'LineSymbol3D'},\n",
       "                'type': 'simple'}},\n",
       "              'elevationInfo': {'mode': 'relativeToGround', 'offset': 50}},\n",
       "             'layerType': 'ArcGISFeatureLayer',\n",
       "             'opacity': 0.9393939393939394,\n",
       "             'popupInfo': {'fieldInfos': [{'fieldName': 'OBJECTID',\n",
       "                'format': {'digitSeparator': True, 'places': 0},\n",
       "                'label': 'OBJECTID',\n",
       "                'visible': True},\n",
       "               {'fieldName': 'TRL_NAME', 'label': 'TRL_NAME', 'visible': True},\n",
       "               {'fieldName': 'TRL_ID',\n",
       "                'format': {'digitSeparator': True, 'places': 0},\n",
       "                'label': 'TRL_ID',\n",
       "                'visible': True},\n",
       "               {'fieldName': 'ELEV_MIN',\n",
       "                'format': {'digitSeparator': True, 'places': 0},\n",
       "                'label': 'ELEV_MIN',\n",
       "                'visible': True},\n",
       "               {'fieldName': 'ELEV_MAX',\n",
       "                'format': {'digitSeparator': True, 'places': 0},\n",
       "                'label': 'ELEV_MAX',\n",
       "                'visible': True},\n",
       "               {'fieldName': 'ELEV_GAIN',\n",
       "                'format': {'digitSeparator': True, 'places': 0},\n",
       "                'label': 'ELEV_GAIN',\n",
       "                'visible': True},\n",
       "               {'fieldName': 'CENTER_LAT',\n",
       "                'format': {'digitSeparator': True, 'places': 0},\n",
       "                'label': 'CENTER_LAT',\n",
       "                'visible': True},\n",
       "               {'fieldName': 'CENTER_LON',\n",
       "                'format': {'digitSeparator': True, 'places': 0},\n",
       "                'label': 'CENTER_LON',\n",
       "                'visible': True},\n",
       "               {'fieldName': 'DB_ID',\n",
       "                'format': {'digitSeparator': True, 'places': 0},\n",
       "                'label': 'DB_ID',\n",
       "                'visible': True},\n",
       "               {'fieldName': 'ShapeSTLength',\n",
       "                'format': {'digitSeparator': True, 'places': 0},\n",
       "                'label': 'ShapeSTLength',\n",
       "                'visible': True},\n",
       "               {'fieldName': 'LENGTH_FT',\n",
       "                'format': {'digitSeparator': True, 'places': 0},\n",
       "                'label': 'LENGTH_FT',\n",
       "                'visible': True},\n",
       "               {'fieldName': 'LENGTH_MI',\n",
       "                'format': {'digitSeparator': True, 'places': 0},\n",
       "                'label': 'LENGTH_MI',\n",
       "                'visible': True},\n",
       "               {'fieldName': 'USE_HIKE', 'label': 'USE_HIKE', 'visible': True},\n",
       "               {'fieldName': 'USE_BIKE', 'label': 'USE_BIKE', 'visible': True},\n",
       "               {'fieldName': 'USE_EQU', 'label': 'USE_EQU', 'visible': True},\n",
       "               {'fieldName': 'USE_ATV', 'label': 'USE_ATV', 'visible': True},\n",
       "               {'fieldName': 'PET_ACC', 'label': 'PET_ACC', 'visible': True},\n",
       "               {'fieldName': 'MAPPING_STATUS',\n",
       "                'label': 'MAPPING_STATUS',\n",
       "                'visible': True},\n",
       "               {'fieldName': 'ObjectId_1',\n",
       "                'format': {'digitSeparator': True, 'places': 0},\n",
       "                'label': '',\n",
       "                'visible': True},\n",
       "               {'fieldName': 'Shape__Length',\n",
       "                'format': {'digitSeparator': True, 'places': 2},\n",
       "                'label': 'Shape__Length',\n",
       "                'visible': True}],\n",
       "              'popupElements': [{'type': 'fields'}],\n",
       "              'showAttachments': False,\n",
       "              'title': 'Trails - Trails 0'},\n",
       "             'title': 'Trails - Trails 0',\n",
       "             'url': 'https://services3.arcgis.com/GVgbJbqm8hXASVYi/arcgis/rest/services/Trails/FeatureServer/0',\n",
       "             'visibility': True}]),\n",
       "          ('version', '1.8'),\n",
       "          ('authoringApp', 'WebSceneViewer'),\n",
       "          ('heightModelInfo',\n",
       "           {'heightModel': 'gravity_related_height', 'heightUnit': 'meter'})])"
      ]
     },
     "execution_count": 6,
     "metadata": {},
     "output_type": "execute_result"
    }
   ],
   "source": [
    "from arcgis.mapping import WebScene\n",
    "la_trails = WebScene(webscene)\n",
    "la_trails"
   ]
  },
  {
   "cell_type": "code",
   "execution_count": 7,
   "metadata": {},
   "outputs": [
    {
     "name": "stdout",
     "output_type": "stream",
     "text": [
      "The web scene has 2 layers\n"
     ]
    }
   ],
   "source": [
    "op_layers = la_trails['operationalLayers']\n",
    "print(\"The web scene has {} layers\".format(len(op_layers)))"
   ]
  },
  {
   "cell_type": "code",
   "execution_count": 8,
   "metadata": {},
   "outputs": [
    {
     "name": "stdout",
     "output_type": "stream",
     "text": [
      "Trailheads - Trailheads\n",
      "\thttps://services3.arcgis.com/GVgbJbqm8hXASVYi/arcgis/rest/services/Trailheads/FeatureServer/0\n",
      "Trails - Trails 0\n",
      "\thttps://services3.arcgis.com/GVgbJbqm8hXASVYi/arcgis/rest/services/Trails/FeatureServer/0\n"
     ]
    }
   ],
   "source": [
    "for lyr in op_layers:\n",
    "    print(\"{}\\n\\t{}\".format(lyr['title'], lyr['url']))"
   ]
  }
 ],
 "metadata": {
  "anaconda-cloud": {},
  "kernelspec": {
   "display_name": "Python [conda env:arcgis-pyapi]",
   "language": "python",
   "name": "conda-env-arcgis-pyapi-py"
  },
  "language_info": {
   "codemirror_mode": {
    "name": "ipython",
    "version": 3
   },
   "file_extension": ".py",
   "mimetype": "text/x-python",
   "name": "python",
   "nbconvert_exporter": "python",
   "pygments_lexer": "ipython3",
   "version": "3.5.3"
  }
 },
 "nbformat": 4,
 "nbformat_minor": 2
}
