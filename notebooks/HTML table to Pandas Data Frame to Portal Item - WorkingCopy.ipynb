{
 "cells": [
  {
   "cell_type": "code",
   "execution_count": 1,
   "metadata": {
    "collapsed": true
   },
   "outputs": [],
   "source": [
    "import pandas as pd"
   ]
  },
  {
   "cell_type": "code",
   "execution_count": 2,
   "metadata": {
    "collapsed": true
   },
   "outputs": [],
   "source": [
    "df = pd.read_html(\"https://en.wikipedia.org/wiki/Number_of_guns_per_capita_by_country\")[0]"
   ]
  },
  {
   "cell_type": "code",
   "execution_count": 3,
   "metadata": {
    "collapsed": false
   },
   "outputs": [],
   "source": [
    "df.columns = df.iloc[0]\n",
    "df = df.reindex(df.index.drop(0))"
   ]
  },
  {
   "cell_type": "code",
   "execution_count": 4,
   "metadata": {
    "collapsed": false
   },
   "outputs": [
    {
     "data": {
      "text/html": [
       "<div>\n",
       "<table border=\"1\" class=\"dataframe\">\n",
       "  <thead>\n",
       "    <tr style=\"text-align: right;\">\n",
       "      <th></th>\n",
       "      <th>Country</th>\n",
       "      <th>Guns per 100 Residents (2014)</th>\n",
       "      <th>Rank (2014)</th>\n",
       "      <th>Notes</th>\n",
       "    </tr>\n",
       "  </thead>\n",
       "  <tbody>\n",
       "    <tr>\n",
       "      <th>1</th>\n",
       "      <td>United States</td>\n",
       "      <td>112.6[7]</td>\n",
       "      <td>1</td>\n",
       "      <td>Most guns are regulated at a state level, not ...</td>\n",
       "    </tr>\n",
       "    <tr>\n",
       "      <th>2</th>\n",
       "      <td>Serbia</td>\n",
       "      <td>69.7</td>\n",
       "      <td>2</td>\n",
       "      <td>Not including Kosovo</td>\n",
       "    </tr>\n",
       "    <tr>\n",
       "      <th>3</th>\n",
       "      <td>Yemen</td>\n",
       "      <td>54.8</td>\n",
       "      <td>3</td>\n",
       "      <td>NaN</td>\n",
       "    </tr>\n",
       "    <tr>\n",
       "      <th>4</th>\n",
       "      <td>Switzerland</td>\n",
       "      <td>45.7</td>\n",
       "      <td>4</td>\n",
       "      <td>Including the personal weapons of the militia,...</td>\n",
       "    </tr>\n",
       "    <tr>\n",
       "      <th>5</th>\n",
       "      <td>Cyprus</td>\n",
       "      <td>36.1</td>\n",
       "      <td>5</td>\n",
       "      <td>NaN</td>\n",
       "    </tr>\n",
       "  </tbody>\n",
       "</table>\n",
       "</div>"
      ],
      "text/plain": [
       "0        Country Guns per 100 Residents (2014) Rank (2014)  \\\n",
       "1  United States                      112.6[7]           1   \n",
       "2         Serbia                          69.7           2   \n",
       "3          Yemen                          54.8           3   \n",
       "4    Switzerland                          45.7           4   \n",
       "5         Cyprus                          36.1           5   \n",
       "\n",
       "0                                              Notes  \n",
       "1  Most guns are regulated at a state level, not ...  \n",
       "2                               Not including Kosovo  \n",
       "3                                                NaN  \n",
       "4  Including the personal weapons of the militia,...  \n",
       "5                                                NaN  "
      ]
     },
     "execution_count": 4,
     "metadata": {},
     "output_type": "execute_result"
    }
   ],
   "source": [
    "df.head()"
   ]
  },
  {
   "cell_type": "code",
   "execution_count": 5,
   "metadata": {
    "collapsed": false
   },
   "outputs": [],
   "source": [
    "df.iloc[0,1] = 112.6"
   ]
  },
  {
   "cell_type": "code",
   "execution_count": 6,
   "metadata": {
    "collapsed": true
   },
   "outputs": [],
   "source": [
    "import matplotlib.pyplot as plt"
   ]
  },
  {
   "cell_type": "code",
   "execution_count": 7,
   "metadata": {
    "collapsed": false
   },
   "outputs": [
    {
     "data": {
      "text/plain": [
       "0\n",
       "Country                          object\n",
       "Guns per 100 Residents (2014)    object\n",
       "Rank (2014)                      object\n",
       "Notes                            object\n",
       "dtype: object"
      ]
     },
     "execution_count": 7,
     "metadata": {},
     "output_type": "execute_result"
    }
   ],
   "source": [
    "df.dtypes"
   ]
  },
  {
   "cell_type": "code",
   "execution_count": 8,
   "metadata": {
    "collapsed": true
   },
   "outputs": [],
   "source": [
    "df = df.convert_objects(convert_numeric=True)"
   ]
  },
  {
   "cell_type": "code",
   "execution_count": 9,
   "metadata": {
    "collapsed": false
   },
   "outputs": [
    {
     "data": {
      "text/html": [
       "<div>\n",
       "<table border=\"1\" class=\"dataframe\">\n",
       "  <thead>\n",
       "    <tr style=\"text-align: right;\">\n",
       "      <th></th>\n",
       "      <th>Country</th>\n",
       "      <th>Guns per 100 Residents (2014)</th>\n",
       "      <th>Rank (2014)</th>\n",
       "      <th>Notes</th>\n",
       "    </tr>\n",
       "  </thead>\n",
       "  <tbody>\n",
       "    <tr>\n",
       "      <th>1</th>\n",
       "      <td>United States</td>\n",
       "      <td>112.6</td>\n",
       "      <td>1</td>\n",
       "      <td>Most guns are regulated at a state level, not ...</td>\n",
       "    </tr>\n",
       "    <tr>\n",
       "      <th>2</th>\n",
       "      <td>Serbia</td>\n",
       "      <td>69.7</td>\n",
       "      <td>2</td>\n",
       "      <td>Not including Kosovo</td>\n",
       "    </tr>\n",
       "    <tr>\n",
       "      <th>3</th>\n",
       "      <td>Yemen</td>\n",
       "      <td>54.8</td>\n",
       "      <td>3</td>\n",
       "      <td>NaN</td>\n",
       "    </tr>\n",
       "    <tr>\n",
       "      <th>4</th>\n",
       "      <td>Switzerland</td>\n",
       "      <td>45.7</td>\n",
       "      <td>4</td>\n",
       "      <td>Including the personal weapons of the militia,...</td>\n",
       "    </tr>\n",
       "    <tr>\n",
       "      <th>5</th>\n",
       "      <td>Cyprus</td>\n",
       "      <td>36.1</td>\n",
       "      <td>5</td>\n",
       "      <td>NaN</td>\n",
       "    </tr>\n",
       "    <tr>\n",
       "      <th>6</th>\n",
       "      <td>Saudi Arabia</td>\n",
       "      <td>35.0</td>\n",
       "      <td>6</td>\n",
       "      <td>NaN</td>\n",
       "    </tr>\n",
       "    <tr>\n",
       "      <th>7</th>\n",
       "      <td>Iraq</td>\n",
       "      <td>34.2</td>\n",
       "      <td>7</td>\n",
       "      <td>NaN</td>\n",
       "    </tr>\n",
       "    <tr>\n",
       "      <th>8</th>\n",
       "      <td>Uruguay</td>\n",
       "      <td>31.8</td>\n",
       "      <td>8</td>\n",
       "      <td>NaN</td>\n",
       "    </tr>\n",
       "    <tr>\n",
       "      <th>9</th>\n",
       "      <td>Sweden</td>\n",
       "      <td>31.6</td>\n",
       "      <td>9</td>\n",
       "      <td>According to the Swedish National Police Agenc...</td>\n",
       "    </tr>\n",
       "    <tr>\n",
       "      <th>10</th>\n",
       "      <td>Norway</td>\n",
       "      <td>31.3</td>\n",
       "      <td>10</td>\n",
       "      <td>NaN</td>\n",
       "    </tr>\n",
       "    <tr>\n",
       "      <th>11</th>\n",
       "      <td>France</td>\n",
       "      <td>31.2</td>\n",
       "      <td>11</td>\n",
       "      <td>NaN</td>\n",
       "    </tr>\n",
       "    <tr>\n",
       "      <th>12</th>\n",
       "      <td>Canada</td>\n",
       "      <td>30.8</td>\n",
       "      <td>12</td>\n",
       "      <td>A license is required to own or possess firear...</td>\n",
       "    </tr>\n",
       "    <tr>\n",
       "      <th>13</th>\n",
       "      <td>Austria</td>\n",
       "      <td>30.4</td>\n",
       "      <td>13</td>\n",
       "      <td>NaN</td>\n",
       "    </tr>\n",
       "    <tr>\n",
       "      <th>14</th>\n",
       "      <td>Iceland</td>\n",
       "      <td>30.3</td>\n",
       "      <td>14</td>\n",
       "      <td>A license is required to own or possess firear...</td>\n",
       "    </tr>\n",
       "    <tr>\n",
       "      <th>15</th>\n",
       "      <td>Germany</td>\n",
       "      <td>30.3</td>\n",
       "      <td>15</td>\n",
       "      <td>NaN</td>\n",
       "    </tr>\n",
       "  </tbody>\n",
       "</table>\n",
       "</div>"
      ],
      "text/plain": [
       "0         Country  Guns per 100 Residents (2014)  Rank (2014)  \\\n",
       "1   United States                          112.6            1   \n",
       "2          Serbia                           69.7            2   \n",
       "3           Yemen                           54.8            3   \n",
       "4     Switzerland                           45.7            4   \n",
       "5          Cyprus                           36.1            5   \n",
       "6    Saudi Arabia                           35.0            6   \n",
       "7            Iraq                           34.2            7   \n",
       "8         Uruguay                           31.8            8   \n",
       "9          Sweden                           31.6            9   \n",
       "10         Norway                           31.3           10   \n",
       "11         France                           31.2           11   \n",
       "12         Canada                           30.8           12   \n",
       "13        Austria                           30.4           13   \n",
       "14        Iceland                           30.3           14   \n",
       "15        Germany                           30.3           15   \n",
       "\n",
       "0                                               Notes  \n",
       "1   Most guns are regulated at a state level, not ...  \n",
       "2                                Not including Kosovo  \n",
       "3                                                 NaN  \n",
       "4   Including the personal weapons of the militia,...  \n",
       "5                                                 NaN  \n",
       "6                                                 NaN  \n",
       "7                                                 NaN  \n",
       "8                                                 NaN  \n",
       "9   According to the Swedish National Police Agenc...  \n",
       "10                                                NaN  \n",
       "11                                                NaN  \n",
       "12  A license is required to own or possess firear...  \n",
       "13                                                NaN  \n",
       "14  A license is required to own or possess firear...  \n",
       "15                                                NaN  "
      ]
     },
     "execution_count": 9,
     "metadata": {},
     "output_type": "execute_result"
    }
   ],
   "source": [
    "df.head(15)"
   ]
  },
  {
   "cell_type": "code",
   "execution_count": 10,
   "metadata": {
    "collapsed": true
   },
   "outputs": [],
   "source": [
    "gis = GIS(\"https://deldev.maps.arcgis.com\", \"deldev\", \"\")"
   ]
  },
  {
   "cell_type": "code",
   "execution_count": 11,
   "metadata": {
    "collapsed": false
   },
   "outputs": [],
   "source": [
    "path = \"content/features/analyze\"\n",
    "postdata = {\n",
    "    \"f\": \"pjson\",\n",
    "    \"text\" : df.to_csv(),\n",
    "    \"filetype\" : \"csv\",\n",
    "    \"analyzeParameters\" : {\n",
    "        \"enableGlobalGeocoding\": \"true\",\n",
    "        \"sourceLocale\":\"en-us\",\n",
    "        \"locationType\":\"address\",\n",
    "        \"sourceCountry\":\"\",\n",
    "        \"sourceCountryHint\":\"\"\n",
    "    }\n",
    "}\n",
    "\n",
    "\n",
    "res = gis._portal.con.post(path, postdata)\n",
    "#import json\n",
    "#json.dumps(res)\n",
    "res['publishParameters'].update({\"addressFields\":{\"CountryCode\":\"Country\"}})\n",
    "\n",
    "path = \"content/features/generate\"\n",
    "postdata = {\n",
    "    \"f\": \"pjson\",\n",
    "    \"text\" : df.to_csv(),\n",
    "    \"filetype\" : \"csv\",\n",
    "    \"publishParameters\" : json.dumps(res['publishParameters'])\n",
    "}\n",
    "\n",
    "res2014 = gis._portal.con.post(path, postdata,  use_ordered_dict=True)\n",
    "#print(json.dumps(res2014))\n",
    "fc2014 = FeatureCollection(res2014['featureCollection']['layers'][0])"
   ]
  },
  {
   "cell_type": "code",
   "execution_count": 12,
   "metadata": {
    "collapsed": true
   },
   "outputs": [],
   "source": [
    "map = MapView()"
   ]
  },
  {
   "cell_type": "code",
   "execution_count": 13,
   "metadata": {
    "collapsed": true
   },
   "outputs": [],
   "source": [
    "map"
   ]
  },
  {
   "cell_type": "code",
   "execution_count": 14,
   "metadata": {
    "collapsed": true
   },
   "outputs": [],
   "source": [
    "map.add_layer(fc)"
   ]
  },
  {
   "cell_type": "code",
   "execution_count": 15,
   "metadata": {
    "collapsed": false
   },
   "outputs": [],
   "source": [
    "item_properties = {\n",
    "    \"title\": \"Worldwide gun ownership\",\n",
    "    \"tags\" : \"guns,violence\",\n",
    "    \"snippet\": \" GSR Worldwide gun ownership\",\n",
    "    \"description\": \"test description\",\n",
    "    \"text\": json.dumps({\"featureCollection\": {\"layers\": [ fc ]}}),\n",
    "    \"type\": \"Feature Collection\",\n",
    "    \"typeKeywords\": \"Data, Feature Collection, Singlelayer\",\n",
    "    \"extent\" : \"-102.5272,-41.7886,172.5967,64.984\"\n",
    "}\n",
    "item = gis.content.create(item_properties)\n"
   ]
  },
  {
   "cell_type": "code",
   "execution_count": 16,
   "metadata": {
    "collapsed": false
   },
   "outputs": [
    {
     "data": {
      "text/html": [
       "<div class=\"item_container\">\n",
       "                    <div class=\"item_left\">\n",
       "                       <a href='https://deldev.maps.arcgis.com/home/item.html?id=21120904f6c74f3cab7b50048fe9c2f6' target='_blank'>\n",
       "                        <img src='http://static.arcgis.com/images/desktopapp.png' class=\"itemThumbnail\">\n",
       "                       </a>\n",
       "                    </div>\n",
       "        \n",
       "                    <div class=\"item_right\">\n",
       "                        <a href='https://deldev.maps.arcgis.com/home/item.html?id=21120904f6c74f3cab7b50048fe9c2f6' target='_blank'><b>Worldwide gun ownership</b>\n",
       "                        </a>\n",
       "                        <br> GSR Worldwide gun ownership<img src='http://www.arcgis.com/home/js/jsapi/esri/css/images/item_type_icons/features16.png' style=\"vertical-align:middle;\">Feature Collection by deldev\n",
       "                        <br>Last Modified: December 10, 2015\n",
       "                        <br>0 comments, 0 views\n",
       "                    </div>\n",
       "                </div>\n",
       "                "
      ],
      "text/plain": [
       "{'access': 'private',\n",
       " 'accessInformation': None,\n",
       " 'appCategories': [],\n",
       " 'avgRating': 0,\n",
       " 'banner': None,\n",
       " 'commentsEnabled': True,\n",
       " 'created': 1449819341000,\n",
       " 'culture': 'english (united states)',\n",
       " 'description': 'test description',\n",
       " 'documentation': None,\n",
       " 'extent': [[-102.5272, -41.7886], [172.5967, 64.984]],\n",
       " 'guid': None,\n",
       " 'id': '21120904f6c74f3cab7b50048fe9c2f6',\n",
       " 'industries': [],\n",
       " 'itemControl': 'admin',\n",
       " 'languages': [],\n",
       " 'largeThumbnail': None,\n",
       " 'licenseInfo': None,\n",
       " 'listed': False,\n",
       " 'modified': 1449819341000,\n",
       " 'name': None,\n",
       " 'numComments': 0,\n",
       " 'numRatings': 0,\n",
       " 'numViews': 0,\n",
       " 'owner': 'deldev',\n",
       " 'ownerFolder': None,\n",
       " 'properties': None,\n",
       " 'protected': False,\n",
       " 'screenshots': [],\n",
       " 'size': 45052,\n",
       " 'snippet': ' GSR Worldwide gun ownership',\n",
       " 'spatialReference': None,\n",
       " 'tags': ['guns', 'violence'],\n",
       " 'thumbnail': None,\n",
       " 'title': 'Worldwide gun ownership',\n",
       " 'type': 'Feature Collection',\n",
       " 'typeKeywords': ['Data', 'Feature Collection', 'Singlelayer'],\n",
       " 'url': None}"
      ]
     },
     "execution_count": 16,
     "metadata": {},
     "output_type": "execute_result"
    }
   ],
   "source": [
    "item"
   ]
  },
  {
   "cell_type": "code",
   "execution_count": null,
   "metadata": {
    "collapsed": true
   },
   "outputs": [],
   "source": []
  }
 ],
 "metadata": {
  "kernelspec": {
   "display_name": "Python 3",
   "language": "python",
   "name": "python3"
  },
  "language_info": {
   "codemirror_mode": {
    "name": "ipython",
    "version": 3
   },
   "file_extension": ".py",
   "mimetype": "text/x-python",
   "name": "python",
   "nbconvert_exporter": "python",
   "pygments_lexer": "ipython3",
   "version": "3.4.3"
  }
 },
 "nbformat": 4,
 "nbformat_minor": 0
}
