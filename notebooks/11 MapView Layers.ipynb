{
 "cells": [
  {
   "cell_type": "code",
   "execution_count": 1,
   "metadata": {
    "collapsed": false
   },
   "outputs": [
    {
     "name": "stderr",
     "output_type": "stream",
     "text": [
      ":0: FutureWarning: IPython widgets are experimental and may change in the future.\n"
     ]
    }
   ],
   "source": [
    "from arcgis.gis import *\n",
    "from arcgis.viz import *\n",
    "\n",
    "map = MapView(basemap = \"topo\")"
   ]
  },
  {
   "cell_type": "code",
   "execution_count": 2,
   "metadata": {
    "collapsed": true
   },
   "outputs": [],
   "source": [
    "map"
   ]
  },
  {
   "cell_type": "code",
   "execution_count": 3,
   "metadata": {
    "collapsed": true
   },
   "outputs": [],
   "source": [
    "gis = GIS()"
   ]
  },
  {
   "cell_type": "code",
   "execution_count": 4,
   "metadata": {
    "collapsed": false
   },
   "outputs": [
    {
     "ename": "AttributeError",
     "evalue": "'GIS' object has no attribute 'geocoder'",
     "output_type": "error",
     "traceback": [
      "\u001b[1;31m---------------------------------------------------------------------------\u001b[0m",
      "\u001b[1;31mAttributeError\u001b[0m                            Traceback (most recent call last)",
      "\u001b[1;32m<ipython-input-4-1d981e94316e>\u001b[0m in \u001b[0;36m<module>\u001b[1;34m()\u001b[0m\n\u001b[1;32m----> 1\u001b[1;33m \u001b[0mmap\u001b[0m\u001b[1;33m.\u001b[0m\u001b[0mcenter\u001b[0m \u001b[1;33m=\u001b[0m \u001b[0mgis\u001b[0m\u001b[1;33m.\u001b[0m\u001b[0mgeocoder\u001b[0m\u001b[1;33m.\u001b[0m\u001b[0mfind_best_match\u001b[0m\u001b[1;33m(\u001b[0m\u001b[1;34m\"India Gate, Delhi\"\u001b[0m\u001b[1;33m)\u001b[0m\u001b[1;33m\u001b[0m\u001b[0m\n\u001b[0m",
      "\u001b[1;31mAttributeError\u001b[0m: 'GIS' object has no attribute 'geocoder'"
     ]
    }
   ],
   "source": [
    "map.center = gis.geocoder.find_best_match(\"India Gate, Delhi\")"
   ]
  },
  {
   "cell_type": "code",
   "execution_count": null,
   "metadata": {
    "collapsed": true
   },
   "outputs": [],
   "source": [
    "map.zoom=13\n",
    "map.height=900"
   ]
  },
  {
   "cell_type": "code",
   "execution_count": null,
   "metadata": {
    "collapsed": false
   },
   "outputs": [],
   "source": [
    "map.add_layer({\"type\":\"FeatureLayer\", \"url\" : \"http://services.arcgis.com/WQ9KVmV6xGGMnCiQ/arcgis/rest/services/MH370Search/FeatureServer/1\"})"
   ]
  },
  {
   "cell_type": "code",
   "execution_count": null,
   "metadata": {
    "collapsed": false
   },
   "outputs": [],
   "source": [
    "map.add_layer({\"type\":\"KMLLayer\", \"url\" : \"https://connect.garmin.com/proxy/activity-service-1.1/kml/activity/106310538?full=true\"})"
   ]
  },
  {
   "cell_type": "code",
   "execution_count": null,
   "metadata": {
    "collapsed": false
   },
   "outputs": [],
   "source": [
    "map.basemap = \"topo\""
   ]
  },
  {
   "cell_type": "code",
   "execution_count": null,
   "metadata": {
    "collapsed": false
   },
   "outputs": [],
   "source": [
    "map.add_layer({\"type\":\"KMLLayer\", \"url\": \"https://connect.garmin.com/proxy/activity-service-1.1/kml/activity/106310429?full=true\"})"
   ]
  },
  {
   "cell_type": "code",
   "execution_count": 9,
   "metadata": {
    "collapsed": false,
    "scrolled": false
   },
   "outputs": [
    {
     "data": {
      "text/html": [
       "<div class=\"item_container\">\n",
       "                    <div class=\"item_left\">\n",
       "                       <a href='http://www.arcgis.com/home/item.html?id=86a1b6e71af74979ba38095543d48f07' target='_blank'>\n",
       "                        <img src='http://www.arcgis.com/sharing/rest/content/items/86a1b6e71af74979ba38095543d48f07/info/thumbnail/thumbnail.png' class=\"itemThumbnail\">\n",
       "                       </a>\n",
       "                    </div>\n",
       "        \n",
       "                    <div class=\"item_right\">\n",
       "                        <a href='http://www.arcgis.com/home/item.html?id=86a1b6e71af74979ba38095543d48f07' target='_blank'><b>MH370_Flight_Path</b>\n",
       "                        </a>\n",
       "                        <br>MH370 Flight Path<img src='http://www.arcgis.com/home/js/jsapi/esri/css/images/item_type_icons/featureshosted16.png' style=\"vertical-align:middle;\">Feature Service by bflanagan_bureau\n",
       "                        <br>Last Modified: February 25, 2015\n",
       "                        <br>0 comments, 18,766 views\n",
       "                    </div>\n",
       "                </div>\n",
       "                "
      ],
      "text/plain": [
       "{'access': 'public',\n",
       " 'accessInformation': 'Malaysian government, Australian Government',\n",
       " 'appCategories': [],\n",
       " 'avgRating': 0,\n",
       " 'banner': None,\n",
       " 'commentsEnabled': True,\n",
       " 'created': 1424870651000,\n",
       " 'culture': 'en-gb',\n",
       " 'description': 'MH370 Flight Path',\n",
       " 'documentation': None,\n",
       " 'extent': [[96.23593191415608, 2.745491528654334],\n",
       "  [116.59575690481216, 40.0840528511885]],\n",
       " 'guid': None,\n",
       " 'id': '86a1b6e71af74979ba38095543d48f07',\n",
       " 'industries': [],\n",
       " 'languages': [],\n",
       " 'largeThumbnail': None,\n",
       " 'licenseInfo': None,\n",
       " 'listed': False,\n",
       " 'modified': 1424874816000,\n",
       " 'name': 'MH370_Flight_Path',\n",
       " 'numComments': 0,\n",
       " 'numRatings': 0,\n",
       " 'numViews': 18766,\n",
       " 'orgId': 'WQ9KVmV6xGGMnCiQ',\n",
       " 'owner': 'bflanagan_bureau',\n",
       " 'properties': None,\n",
       " 'screenshots': [],\n",
       " 'size': 147456,\n",
       " 'snippet': 'MH370 Flight Path',\n",
       " 'spatialReference': 'WGS_1984_Web_Mercator_Auxiliary_Sphere',\n",
       " 'tags': ['MH370'],\n",
       " 'thumbnail': 'thumbnail/thumbnail.png',\n",
       " 'title': 'MH370_Flight_Path',\n",
       " 'type': 'Feature Service',\n",
       " 'typeKeywords': ['ArcGIS Server',\n",
       "  'Data',\n",
       "  'Feature Access',\n",
       "  'Feature Service',\n",
       "  'Multilayer',\n",
       "  'Service',\n",
       "  'Hosted Service'],\n",
       " 'url': 'http://services.arcgis.com/WQ9KVmV6xGGMnCiQ/arcgis/rest/services/MH370_Flight_Path/FeatureServer'}"
      ]
     },
     "metadata": {},
     "output_type": "display_data"
    },
    {
     "data": {
      "text/html": [
       "<div class=\"item_container\">\n",
       "                    <div class=\"item_left\">\n",
       "                       <a href='http://www.arcgis.com/home/item.html?id=599726f0009a4dd38c06abf036b663c7' target='_blank'>\n",
       "                        <img src='http://www.arcgis.com/sharing/rest/content/items/599726f0009a4dd38c06abf036b663c7/info/thumbnail/ago_downloaded.png' class=\"itemThumbnail\">\n",
       "                       </a>\n",
       "                    </div>\n",
       "        \n",
       "                    <div class=\"item_right\">\n",
       "                        <a href='http://www.arcgis.com/home/item.html?id=599726f0009a4dd38c06abf036b663c7' target='_blank'><b>mh370debris</b>\n",
       "                        </a>\n",
       "                        <br>mh370 imagery debris<img src='http://www.arcgis.com/home/js/jsapi/esri/css/images/item_type_icons/featureshosted16.png' style=\"vertical-align:middle;\">Feature Service by bflanagan_bureau\n",
       "                        <br>Last Modified: March 02, 2015\n",
       "                        <br>0 comments, 2,567 views\n",
       "                    </div>\n",
       "                </div>\n",
       "                "
      ],
      "text/plain": [
       "{'access': 'public',\n",
       " 'accessInformation': None,\n",
       " 'appCategories': [],\n",
       " 'avgRating': 0,\n",
       " 'banner': None,\n",
       " 'commentsEnabled': True,\n",
       " 'created': 1425037039000,\n",
       " 'culture': 'en-gb',\n",
       " 'description': 'mh370 imagery debris',\n",
       " 'documentation': None,\n",
       " 'extent': [[90.22833333300008, -44.958333333000006],\n",
       "  [91.22416666700006, -43.97611111099996]],\n",
       " 'guid': None,\n",
       " 'id': '599726f0009a4dd38c06abf036b663c7',\n",
       " 'industries': [],\n",
       " 'languages': [],\n",
       " 'largeThumbnail': None,\n",
       " 'licenseInfo': None,\n",
       " 'listed': False,\n",
       " 'modified': 1425319278000,\n",
       " 'name': None,\n",
       " 'numComments': 0,\n",
       " 'numRatings': 0,\n",
       " 'numViews': 2567,\n",
       " 'orgId': 'WQ9KVmV6xGGMnCiQ',\n",
       " 'owner': 'bflanagan_bureau',\n",
       " 'properties': None,\n",
       " 'screenshots': [],\n",
       " 'size': 32768,\n",
       " 'snippet': 'mh370 imagery debris',\n",
       " 'spatialReference': 'GCS_WGS_1984',\n",
       " 'tags': ['mh370 imagery debris'],\n",
       " 'thumbnail': 'thumbnail/ago_downloaded.png',\n",
       " 'title': 'mh370debris',\n",
       " 'type': 'Feature Service',\n",
       " 'typeKeywords': ['ArcGIS Server',\n",
       "  'Data',\n",
       "  'Feature Access',\n",
       "  'Feature Service',\n",
       "  'Service',\n",
       "  'Singlelayer',\n",
       "  'Hosted Service'],\n",
       " 'url': 'http://services.arcgis.com/WQ9KVmV6xGGMnCiQ/arcgis/rest/services/mh370debris/FeatureServer'}"
      ]
     },
     "metadata": {},
     "output_type": "display_data"
    },
    {
     "data": {
      "text/html": [
       "<div class=\"item_container\">\n",
       "                    <div class=\"item_left\">\n",
       "                       <a href='http://www.arcgis.com/home/item.html?id=6867dcf7b4214fcfa78e846f4b666a53' target='_blank'>\n",
       "                        <img src='http://www.arcgis.com/sharing/rest/content/items/6867dcf7b4214fcfa78e846f4b666a53/info/thumbnail/ago_downloaded.png' class=\"itemThumbnail\">\n",
       "                       </a>\n",
       "                    </div>\n",
       "        \n",
       "                    <div class=\"item_right\">\n",
       "                        <a href='http://www.arcgis.com/home/item.html?id=6867dcf7b4214fcfa78e846f4b666a53' target='_blank'><b>ActualFlightRoute</b>\n",
       "                        </a>\n",
       "                        <br><img src='http://www.arcgis.com/home/js/jsapi/esri/css/images/item_type_icons/featureshosted16.png' style=\"vertical-align:middle;\">Feature Service by bflanagan_bureau\n",
       "                        <br>Last Modified: February 26, 2015\n",
       "                        <br>0 comments, 4,053 views\n",
       "                    </div>\n",
       "                </div>\n",
       "                "
      ],
      "text/plain": [
       "{'access': 'public',\n",
       " 'accessInformation': None,\n",
       " 'appCategories': [],\n",
       " 'avgRating': 0,\n",
       " 'banner': None,\n",
       " 'commentsEnabled': True,\n",
       " 'created': 1424941781000,\n",
       " 'culture': None,\n",
       " 'description': 'ActualFlightRoute',\n",
       " 'documentation': None,\n",
       " 'extent': [[-13.708098892135531, 49.48929368382449],\n",
       "  [7.869049545358736, 59.282527823889836]],\n",
       " 'guid': None,\n",
       " 'id': '6867dcf7b4214fcfa78e846f4b666a53',\n",
       " 'industries': [],\n",
       " 'languages': [],\n",
       " 'largeThumbnail': None,\n",
       " 'licenseInfo': None,\n",
       " 'listed': False,\n",
       " 'modified': 1424941784000,\n",
       " 'name': 'ActualFlightRoute',\n",
       " 'numComments': 0,\n",
       " 'numRatings': 0,\n",
       " 'numViews': 4053,\n",
       " 'orgId': 'WQ9KVmV6xGGMnCiQ',\n",
       " 'owner': 'bflanagan_bureau',\n",
       " 'properties': None,\n",
       " 'screenshots': [],\n",
       " 'size': 32768,\n",
       " 'snippet': None,\n",
       " 'spatialReference': None,\n",
       " 'tags': ['MH370'],\n",
       " 'thumbnail': 'thumbnail/ago_downloaded.png',\n",
       " 'title': 'ActualFlightRoute',\n",
       " 'type': 'Feature Service',\n",
       " 'typeKeywords': ['ArcGIS Server',\n",
       "  'Data',\n",
       "  'Feature Access',\n",
       "  'Feature Service',\n",
       "  'Service',\n",
       "  'Hosted Service'],\n",
       " 'url': 'http://services.arcgis.com/WQ9KVmV6xGGMnCiQ/arcgis/rest/services/ActualFlightRoute/FeatureServer'}"
      ]
     },
     "metadata": {},
     "output_type": "display_data"
    },
    {
     "data": {
      "text/html": [
       "<div class=\"item_container\">\n",
       "                    <div class=\"item_left\">\n",
       "                       <a href='http://www.arcgis.com/home/item.html?id=7615f1a27fd2410d9452762f94582ff7' target='_blank'>\n",
       "                        <img src='http://www.arcgis.com/sharing/rest/content/items/7615f1a27fd2410d9452762f94582ff7/info/thumbnail/thumbnail.png' class=\"itemThumbnail\">\n",
       "                       </a>\n",
       "                    </div>\n",
       "        \n",
       "                    <div class=\"item_right\">\n",
       "                        <a href='http://www.arcgis.com/home/item.html?id=7615f1a27fd2410d9452762f94582ff7' target='_blank'><b>SatelliteLocation</b>\n",
       "                        </a>\n",
       "                        <br>SatelliteLocation<img src='http://www.arcgis.com/home/js/jsapi/esri/css/images/item_type_icons/featureshosted16.png' style=\"vertical-align:middle;\">Feature Service by bflanagan_bureau\n",
       "                        <br>Last Modified: February 26, 2015\n",
       "                        <br>0 comments, 4,001 views\n",
       "                    </div>\n",
       "                </div>\n",
       "                "
      ],
      "text/plain": [
       "{'access': 'public',\n",
       " 'accessInformation': 'Office of the Prime Minister of Malaysia',\n",
       " 'appCategories': [],\n",
       " 'avgRating': 0,\n",
       " 'banner': None,\n",
       " 'commentsEnabled': True,\n",
       " 'created': 1424974633000,\n",
       " 'culture': 'en-gb',\n",
       " 'description': 'SatelliteLocation',\n",
       " 'documentation': None,\n",
       " 'extent': [[64.58314872146732, 0.44616797451705026],\n",
       "  [64.58314872146732, 0.44616797451705026]],\n",
       " 'guid': None,\n",
       " 'id': '7615f1a27fd2410d9452762f94582ff7',\n",
       " 'industries': [],\n",
       " 'languages': [],\n",
       " 'largeThumbnail': None,\n",
       " 'licenseInfo': None,\n",
       " 'listed': False,\n",
       " 'modified': 1424974648000,\n",
       " 'name': 'SatelliteLocation',\n",
       " 'numComments': 0,\n",
       " 'numRatings': 0,\n",
       " 'numViews': 4001,\n",
       " 'orgId': 'WQ9KVmV6xGGMnCiQ',\n",
       " 'owner': 'bflanagan_bureau',\n",
       " 'properties': None,\n",
       " 'screenshots': [],\n",
       " 'size': 16384,\n",
       " 'snippet': 'SatelliteLocation',\n",
       " 'spatialReference': 'WGS_1984_Web_Mercator_Auxiliary_Sphere',\n",
       " 'tags': ['MH370'],\n",
       " 'thumbnail': 'thumbnail/thumbnail.png',\n",
       " 'title': 'SatelliteLocation',\n",
       " 'type': 'Feature Service',\n",
       " 'typeKeywords': ['ArcGIS Server',\n",
       "  'Data',\n",
       "  'Feature Access',\n",
       "  'Feature Service',\n",
       "  'Service',\n",
       "  'Singlelayer',\n",
       "  'Hosted Service'],\n",
       " 'url': 'http://services.arcgis.com/WQ9KVmV6xGGMnCiQ/arcgis/rest/services/SatelliteLocation/FeatureServer'}"
      ]
     },
     "metadata": {},
     "output_type": "display_data"
    },
    {
     "data": {
      "text/html": [
       "<div class=\"item_container\">\n",
       "                    <div class=\"item_left\">\n",
       "                       <a href='http://www.arcgis.com/home/item.html?id=cad4c67f0139406fb9c8d3ee8581fd1d' target='_blank'>\n",
       "                        <img src='http://www.arcgis.com/sharing/rest/content/items/cad4c67f0139406fb9c8d3ee8581fd1d/info/thumbnail/thumbnail.png' class=\"itemThumbnail\">\n",
       "                       </a>\n",
       "                    </div>\n",
       "        \n",
       "                    <div class=\"item_right\">\n",
       "                        <a href='http://www.arcgis.com/home/item.html?id=cad4c67f0139406fb9c8d3ee8581fd1d' target='_blank'><b>Arc</b>\n",
       "                        </a>\n",
       "                        <br>Lastknownlocationarc<img src='http://www.arcgis.com/home/js/jsapi/esri/css/images/item_type_icons/featureshosted16.png' style=\"vertical-align:middle;\">Feature Service by bflanagan_bureau\n",
       "                        <br>Last Modified: March 02, 2015\n",
       "                        <br>0 comments, 11,462 views\n",
       "                    </div>\n",
       "                </div>\n",
       "                "
      ],
      "text/plain": [
       "{'access': 'public',\n",
       " 'accessInformation': None,\n",
       " 'appCategories': [],\n",
       " 'avgRating': 0,\n",
       " 'banner': None,\n",
       " 'commentsEnabled': True,\n",
       " 'created': 1425298312000,\n",
       " 'culture': 'en-gb',\n",
       " 'description': 'Lastknownlocationarc',\n",
       " 'documentation': None,\n",
       " 'extent': [[64.58314872146732, -37.865860060855816],\n",
       "  [109.21704225792811, 41.252572230398464]],\n",
       " 'guid': None,\n",
       " 'id': 'cad4c67f0139406fb9c8d3ee8581fd1d',\n",
       " 'industries': [],\n",
       " 'languages': [],\n",
       " 'largeThumbnail': None,\n",
       " 'licenseInfo': None,\n",
       " 'listed': False,\n",
       " 'modified': 1425311302000,\n",
       " 'name': 'Arc',\n",
       " 'numComments': 0,\n",
       " 'numRatings': 0,\n",
       " 'numViews': 11462,\n",
       " 'orgId': 'WQ9KVmV6xGGMnCiQ',\n",
       " 'owner': 'bflanagan_bureau',\n",
       " 'properties': None,\n",
       " 'screenshots': [],\n",
       " 'size': 196608,\n",
       " 'snippet': 'Lastknownlocationarc',\n",
       " 'spatialReference': 'WGS_1984_Web_Mercator_Auxiliary_Sphere',\n",
       " 'tags': ['MH370'],\n",
       " 'thumbnail': 'thumbnail/thumbnail.png',\n",
       " 'title': 'Arc',\n",
       " 'type': 'Feature Service',\n",
       " 'typeKeywords': ['ArcGIS Server',\n",
       "  'Data',\n",
       "  'Feature Access',\n",
       "  'Feature Service',\n",
       "  'Multilayer',\n",
       "  'Service',\n",
       "  'Hosted Service'],\n",
       " 'url': 'http://services.arcgis.com/WQ9KVmV6xGGMnCiQ/arcgis/rest/services/Arc/FeatureServer'}"
      ]
     },
     "metadata": {},
     "output_type": "display_data"
    },
    {
     "data": {
      "text/html": [
       "<div class=\"item_container\">\n",
       "                    <div class=\"item_left\">\n",
       "                       <a href='http://www.arcgis.com/home/item.html?id=aab7322704084ae1abe1a3d591a8bf72' target='_blank'>\n",
       "                        <img src='http://www.arcgis.com/sharing/rest/content/items/aab7322704084ae1abe1a3d591a8bf72/info/thumbnail/thumbnail.png' class=\"itemThumbnail\">\n",
       "                       </a>\n",
       "                    </div>\n",
       "        \n",
       "                    <div class=\"item_right\">\n",
       "                        <a href='http://www.arcgis.com/home/item.html?id=aab7322704084ae1abe1a3d591a8bf72' target='_blank'><b>MH370Search</b>\n",
       "                        </a>\n",
       "                        <br>MH370Search<img src='http://www.arcgis.com/home/js/jsapi/esri/css/images/item_type_icons/featureshosted16.png' style=\"vertical-align:middle;\">Feature Service by bflanagan_bureau\n",
       "                        <br>Last Modified: March 02, 2015\n",
       "                        <br>0 comments, 6,658 views\n",
       "                    </div>\n",
       "                </div>\n",
       "                "
      ],
      "text/plain": [
       "{'access': 'public',\n",
       " 'accessInformation': None,\n",
       " 'appCategories': [],\n",
       " 'avgRating': 0,\n",
       " 'banner': None,\n",
       " 'commentsEnabled': True,\n",
       " 'created': 1425309896000,\n",
       " 'culture': 'en-gb',\n",
       " 'description': 'MH370Search',\n",
       " 'documentation': None,\n",
       " 'extent': [[87.44515093297743, -36.67265025255782],\n",
       "  [107.8320204616434, -16.276792860769458]],\n",
       " 'guid': None,\n",
       " 'id': 'aab7322704084ae1abe1a3d591a8bf72',\n",
       " 'industries': [],\n",
       " 'languages': [],\n",
       " 'largeThumbnail': None,\n",
       " 'licenseInfo': None,\n",
       " 'listed': False,\n",
       " 'modified': 1425313343000,\n",
       " 'name': 'MH370Search',\n",
       " 'numComments': 0,\n",
       " 'numRatings': 0,\n",
       " 'numViews': 6658,\n",
       " 'orgId': 'WQ9KVmV6xGGMnCiQ',\n",
       " 'owner': 'bflanagan_bureau',\n",
       " 'properties': None,\n",
       " 'screenshots': [],\n",
       " 'size': 49152,\n",
       " 'snippet': 'MH370Search',\n",
       " 'spatialReference': 'WGS_1984_Web_Mercator_Auxiliary_Sphere',\n",
       " 'tags': ['MH370'],\n",
       " 'thumbnail': 'thumbnail/thumbnail.png',\n",
       " 'title': 'MH370Search',\n",
       " 'type': 'Feature Service',\n",
       " 'typeKeywords': ['ArcGIS Server',\n",
       "  'Data',\n",
       "  'Feature Access',\n",
       "  'Feature Service',\n",
       "  'Multilayer',\n",
       "  'Service',\n",
       "  'Hosted Service'],\n",
       " 'url': 'http://services.arcgis.com/WQ9KVmV6xGGMnCiQ/arcgis/rest/services/MH370Search/FeatureServer'}"
      ]
     },
     "metadata": {},
     "output_type": "display_data"
    },
    {
     "data": {
      "text/html": [
       "<div class=\"item_container\">\n",
       "                    <div class=\"item_left\">\n",
       "                       <a href='http://www.arcgis.com/home/item.html?id=801585227b494e1ab470e5cf10b3ec53' target='_blank'>\n",
       "                        <img src='http://www.arcgis.com/sharing/rest/content/items/801585227b494e1ab470e5cf10b3ec53/info/thumbnail/ago_downloaded.png' class=\"itemThumbnail\">\n",
       "                       </a>\n",
       "                    </div>\n",
       "        \n",
       "                    <div class=\"item_right\">\n",
       "                        <a href='http://www.arcgis.com/home/item.html?id=801585227b494e1ab470e5cf10b3ec53' target='_blank'><b>UnderwaterSearch</b>\n",
       "                        </a>\n",
       "                        <br><img src='http://www.arcgis.com/home/js/jsapi/esri/css/images/item_type_icons/featureshosted16.png' style=\"vertical-align:middle;\">Feature Service by bflanagan_bureau\n",
       "                        <br>Last Modified: March 02, 2015\n",
       "                        <br>0 comments, 2,377 views\n",
       "                    </div>\n",
       "                </div>\n",
       "                "
      ],
      "text/plain": [
       "{'access': 'public',\n",
       " 'accessInformation': None,\n",
       " 'appCategories': [],\n",
       " 'avgRating': 0,\n",
       " 'banner': None,\n",
       " 'commentsEnabled': True,\n",
       " 'created': 1425314048000,\n",
       " 'culture': None,\n",
       " 'description': 'UnderwaterSearch',\n",
       " 'documentation': None,\n",
       " 'extent': [[-13.708098892135531, 49.48929368382449],\n",
       "  [7.869049545358736, 59.282527823889836]],\n",
       " 'guid': None,\n",
       " 'id': '801585227b494e1ab470e5cf10b3ec53',\n",
       " 'industries': [],\n",
       " 'languages': [],\n",
       " 'largeThumbnail': None,\n",
       " 'licenseInfo': None,\n",
       " 'listed': False,\n",
       " 'modified': 1425314053000,\n",
       " 'name': 'UnderwaterSearch',\n",
       " 'numComments': 0,\n",
       " 'numRatings': 0,\n",
       " 'numViews': 2377,\n",
       " 'orgId': 'WQ9KVmV6xGGMnCiQ',\n",
       " 'owner': 'bflanagan_bureau',\n",
       " 'properties': None,\n",
       " 'screenshots': [],\n",
       " 'size': 32768,\n",
       " 'snippet': None,\n",
       " 'spatialReference': None,\n",
       " 'tags': ['MH370'],\n",
       " 'thumbnail': 'thumbnail/ago_downloaded.png',\n",
       " 'title': 'UnderwaterSearch',\n",
       " 'type': 'Feature Service',\n",
       " 'typeKeywords': ['ArcGIS Server',\n",
       "  'Data',\n",
       "  'Feature Access',\n",
       "  'Feature Service',\n",
       "  'Service',\n",
       "  'Hosted Service'],\n",
       " 'url': 'http://services.arcgis.com/WQ9KVmV6xGGMnCiQ/arcgis/rest/services/UnderwaterSearch/FeatureServer'}"
      ]
     },
     "metadata": {},
     "output_type": "display_data"
    }
   ],
   "source": [
    "mh370items = gis.content.search(\"MH370\", \"feature service\", max_items=10)\n",
    "for item in mh370items:\n",
    "    display(item)"
   ]
  },
  {
   "cell_type": "code",
   "execution_count": 6,
   "metadata": {
    "collapsed": false
   },
   "outputs": [],
   "source": [
    "map.add_layer(mh370items[0])"
   ]
  },
  {
   "cell_type": "code",
   "execution_count": null,
   "metadata": {
    "collapsed": true
   },
   "outputs": [],
   "source": [
    "map.add_layer({\"type\":\"FeatureLayer\", \"url\" : \"http://services.arcgis.com/WQ9KVmV6xGGMnCiQ/arcgis/rest/services/MH370_Flight_Path/FeatureServer/1\"})\n"
   ]
  },
  {
   "cell_type": "code",
   "execution_count": 11,
   "metadata": {
    "collapsed": true
   },
   "outputs": [],
   "source": [
    "\n",
    "map.add_layer(mh370items[6])\n",
    "map.add_layer(mh370items[5])"
   ]
  },
  {
   "cell_type": "code",
   "execution_count": null,
   "metadata": {
    "collapsed": true
   },
   "outputs": [],
   "source": []
  }
 ],
 "metadata": {
  "kernelspec": {
   "display_name": "Python 3",
   "language": "python",
   "name": "python3"
  },
  "language_info": {
   "codemirror_mode": {
    "name": "ipython",
    "version": 3
   },
   "file_extension": ".py",
   "mimetype": "text/x-python",
   "name": "python",
   "nbconvert_exporter": "python",
   "pygments_lexer": "ipython3",
   "version": "3.4.3"
  }
 },
 "nbformat": 4,
 "nbformat_minor": 0
}
