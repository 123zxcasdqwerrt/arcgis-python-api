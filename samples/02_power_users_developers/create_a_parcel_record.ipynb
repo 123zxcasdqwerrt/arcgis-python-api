{
 "cells": [
  {
   "cell_type": "markdown",
   "source": [
    "## Create a New Parcel Record\n",
    "\n",
    "The parcel fabric is a record-driven system. The parcel fabric organizes parcel data based on the form in which it was originally recorded. Parcel data is recorded on legal records such as plans, plats, deeds, and records of survey. Parcels are created and edited in response to changes in the legal record, and parcels are edited using record-driven workflows.\n",
    "\n",
    "The parcel fabric preserves historic and parent parcels. By capturing the legal record that created or retired a parcel, the parcel lineage can be tracked in both directions. In an enterprise deployment, all edits are tracked, and the parcel fabric can be compared with its state in a previous moment in time.\n",
    "\n",
    "Creating a parcel record requires the VersionManagementServer for branch versioning. However, it does not require access to the ParcelManager.  Creating a new record makes use of the ApplyEdits method of the REST API which is accessed through the FeatureServer endpoint.\n",
    "\n",
    "In the ArcGIS Python API, this operation is simplified by using the `FeatureLayer.edit_features` function.\n",
    "\n",
    "This sample will demonstrate:\n",
    "\n",
    "1. Accessing the Records feature layer\n",
    "2. Creating a branch version\n",
    "3. Creating a parcel record with attributes using `FeatureLayer.edit_features`"
   ],
   "metadata": {}
  },
  {
   "cell_type": "code",
   "execution_count": 1,
   "source": [
    "from arcgis.gis import GIS\r\n",
    "from arcgis.features.layer import FeatureLayerCollection\r\n",
    "from arcgis.features.layer import FeatureLayer"
   ],
   "outputs": [],
   "metadata": {}
  },
  {
   "cell_type": "code",
   "execution_count": 2,
   "source": [
    "base_server_url = \"https://myserver.domain.com/web_adaptor/rest/services/WashingtonCountyLSA/\"\r\n",
    "gis = GIS(\"https://myserver.domain.com/web_adaptor/\", \"username\", \"pass.word\", verify_cert=False)\r\n",
    "\r\n",
    "# generate the enpoint urls for feature server, version management and parcel fabric\r\n",
    "service_endpoints = [\"FeatureServer\", \"VersionManagementServer\"]                    \r\n",
    "service_urls = {url: base_server_url + url for url in service_endpoints}"
   ],
   "outputs": [],
   "metadata": {}
  },
  {
   "cell_type": "markdown",
   "source": [
    "### Branch versioning setup\n",
    "- Get the Parcel Fabric FeatureLayerCollection (FLC)\n",
    "- Get the VersionManagementServer object from the FLC\n",
    "- Create a new branch version\n",
    "- Get the fully qualified (owner.name) version name"
   ],
   "metadata": {}
  },
  {
   "cell_type": "code",
   "execution_count": 3,
   "source": [
    "parcel_fabric_flc = FeatureLayerCollection(service_urls[\"FeatureServer\"], gis)\r\n",
    "version_management_server = parcel_fabric_flc.versions\r\n",
    "\r\n",
    "new_version_name = \"new_record_version\"\r\n",
    "version_management_server.get(f\"admin.{new_version_name}\").delete()\r\n",
    "\r\n",
    "version_management_server.create(new_version_name)\r\n",
    "fq_version_name = version_management_server.get(f\"admin.{new_version_name}\").properties.versionName\r\n",
    "fq_version_name"
   ],
   "outputs": [
    {
     "output_type": "execute_result",
     "data": {
      "text/plain": [
       "'admin.new_record_version'"
      ]
     },
     "metadata": {},
     "execution_count": 3
    }
   ],
   "metadata": {}
  },
  {
   "cell_type": "markdown",
   "source": [
    "### Create a new feature in the Records feature layer\n",
    "- Get access to the correct feature layer\n",
    "- Create a dict containing some attributes for the new record\n",
    "- Get the FeatureLayer\n",
    "- Use `FeatureLayer.edit_features` to create the new feature and insert the attributes.\n",
    "\n",
    "**Note:** It is expected that the new parcel record will contain an empty geometry.  When parcel features are attributed with this parcel record GUID, the Parcel Fabric Build function will generate a shape consisting of the outer boundaries of the associated parcel features."
   ],
   "metadata": {}
  },
  {
   "cell_type": "code",
   "execution_count": 4,
   "source": [
    "# Get the URL of the Records feature layer\n",
    "records_fl_url = [n for n in parcel_fabric_flc.layers if n.properties.name == \"Records\"]\n",
    "records_fl_url = records_fl_url[0].url\n",
    "records_fl_url"
   ],
   "outputs": [
    {
     "output_type": "execute_result",
     "data": {
      "text/plain": [
       "'https://krennic.esri.com/server/rest/services/WashingtonCountyLSA/FeatureServer/1'"
      ]
     },
     "metadata": {},
     "execution_count": 4
    }
   ],
   "metadata": {}
  },
  {
   "cell_type": "markdown",
   "source": [
    "#### Prepare the attributes"
   ],
   "metadata": {}
  },
  {
   "cell_type": "code",
   "execution_count": 5,
   "source": [
    "# A name for the new record\n",
    "new_record_name = \"ParcelRecord001\"\n",
    "\n",
    "# Record information with empty geometry.  The geometry is created during Build\n",
    "record_dict = {\n",
    "    \"attributes\": \n",
    "        {\"name\": new_record_name},\n",
    "    \"geometry\": None\n",
    "    }\n",
    "\n",
    "record_dict"
   ],
   "outputs": [
    {
     "output_type": "execute_result",
     "data": {
      "text/plain": [
       "{'attributes': {'name': 'ParcelRecord001'}, 'geometry': None}"
      ]
     },
     "metadata": {},
     "execution_count": 5
    }
   ],
   "metadata": {}
  },
  {
   "cell_type": "markdown",
   "source": [
    "#### Access the Records FeatureLayer"
   ],
   "metadata": {}
  },
  {
   "cell_type": "code",
   "execution_count": 6,
   "source": [
    "records_fl = FeatureLayer(records_fl_url, gis)\n",
    "records_fl"
   ],
   "outputs": [
    {
     "output_type": "execute_result",
     "data": {
      "text/plain": [
       "<FeatureLayer url:\"https://krennic.esri.com/server/rest/services/WashingtonCountyLSA/FeatureServer/1\">"
      ]
     },
     "metadata": {},
     "execution_count": 6
    }
   ],
   "metadata": {}
  },
  {
   "cell_type": "markdown",
   "source": [
    "#### Insert the new record feature"
   ],
   "metadata": {}
  },
  {
   "cell_type": "code",
   "execution_count": 7,
   "source": [
    "# Create the new record within the new branch version\n",
    "new_record = records_fl.edit_features(\n",
    "                            adds=[record_dict], \n",
    "                            gdb_version=fq_version_name)\n",
    "\n",
    "new_record"
   ],
   "outputs": [
    {
     "output_type": "execute_result",
     "data": {
      "text/plain": [
       "{'addResults': [{'objectId': 52130,\n",
       "   'globalId': '{A82773D1-ACEB-4391-AF35-7D4873B8B1BA}',\n",
       "   'success': True}],\n",
       " 'updateResults': [],\n",
       " 'deleteResults': []}"
      ]
     },
     "metadata": {},
     "execution_count": 7
    }
   ],
   "metadata": {}
  },
  {
   "cell_type": "markdown",
   "source": [
    "### Documentation\n",
    "\n",
    "[ArcGIS Python API - FeatureLayer](https://developers.arcgis.com/python/api-reference/arcgis.features.toc.html#featurelayer)\n",
    "\n",
    "[ArcGIS Pro - Parcel Fabric Data Model](https://pro.arcgis.com/en/pro-app/latest/help/data/parcel-editing/createaparcelfabric.htm)\n",
    "\n",
    "[ArcGIS Python API - FeatureLayer.edit_features](https://developers.arcgis.com/python/api-reference/arcgis.features.toc.html#arcgis.features.FeatureLayer.edit_features)\n",
    "\n",
    "[ArcGIS REST API - VersionManagementServer](https://developers.arcgis.com/rest/services-reference/enterprise/version-management-service.htm)\n",
    "\n",
    "[ArcGIS Pro - Branch Versioning Scenarios](https://pro.arcgis.com/en/pro-app/latest/help/data/geodatabases/overview/branch-version-scenarios.htm)"
   ],
   "metadata": {}
  },
  {
   "cell_type": "code",
   "execution_count": null,
   "source": [],
   "outputs": [],
   "metadata": {}
  }
 ],
 "metadata": {
  "interpreter": {
   "hash": "3ec7365f029c0271ef64d13dd7112b33803c4eb4bcfd1477ee827987865a2476"
  },
  "kernelspec": {
   "display_name": "Python 3",
   "language": "python",
   "name": "python3"
  },
  "language_info": {
   "codemirror_mode": {
    "name": "ipython",
    "version": 3
   },
   "file_extension": ".py",
   "mimetype": "text/x-python",
   "name": "python",
   "nbconvert_exporter": "python",
   "pygments_lexer": "ipython3",
   "version": "3.7.9"
  }
 },
 "nbformat": 4,
 "nbformat_minor": 2
}