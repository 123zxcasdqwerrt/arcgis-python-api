{
 "cells": [
  {
   "cell_type": "markdown",
   "metadata": {},
   "source": [
    "# Using and updating GIS content\n",
    "\n",
    "The GIS is a warehouse of geographic content and services. arcgis includes several classes to make use of the content and services.\n",
    "\n",
    "To get to the content, we use the <b><code>gis.content.search()</code></b> method:"
   ]
  },
  {
   "cell_type": "code",
   "execution_count": 1,
   "metadata": {
    "collapsed": false
   },
   "outputs": [],
   "source": [
    "from arcgis.gis import *\n",
    "gis = GIS()"
   ]
  },
  {
   "cell_type": "markdown",
   "metadata": {},
   "source": [
    "We can search for basemaps, such as the Stamen watercolor basemap:"
   ]
  },
  {
   "cell_type": "code",
   "execution_count": 2,
   "metadata": {
    "collapsed": true
   },
   "outputs": [],
   "source": [
    "stamenbasemap = gis.content.search('watercolor')[0]"
   ]
  },
  {
   "cell_type": "code",
   "execution_count": 3,
   "metadata": {
    "collapsed": false
   },
   "outputs": [
    {
     "data": {
      "text/html": [
       "<div class=\"item_container\" style=\"height: auto; overflow: hidden; border: 1px solid #cfcfcf; border-radius: 2px; background: #f6fafa; line-height: 1.21429em; padding: 10px;\">\n",
       "                    <div class=\"item_left\" style=\"width: 210px; float: left;\">\n",
       "                       <a href='http://www.arcgis.com/home/item.html?id=80003c63c97548899d858fc3c380370f' target='_blank'>\n",
       "                        <img src='http://www.arcgis.com/sharing/rest/content/items/80003c63c97548899d858fc3c380370f/info/thumbnail/watercolorthumb.png' class=\"itemThumbnail\">\n",
       "                       </a>\n",
       "                    </div>\n",
       "        \n",
       "                    <div class=\"item_right\"     style=\"float: none; width: auto; overflow: hidden;\">\n",
       "                        <a href='http://www.arcgis.com/home/item.html?id=80003c63c97548899d858fc3c380370f' target='_blank'><b>Stamen Watercolor</b>\n",
       "                        </a>\n",
       "                        <br>Stamen's Watercolor tileset<img src='http://www.arcgis.com/home/js/jsapi/esri/css/images/item_type_icons/maps16.png' style=\"vertical-align:middle;\">Web Map by cartogeek\n",
       "                        <br>Last Modified: April 01, 2013\n",
       "                        <br>0 comments, 10,926 views\n",
       "                    </div>\n",
       "                </div>\n",
       "                "
      ],
      "text/plain": [
       "<Item title:\"Stamen Watercolor\" type:Web Map owner:cartogeek>"
      ]
     },
     "execution_count": 3,
     "metadata": {},
     "output_type": "execute_result"
    }
   ],
   "source": [
    "stamenbasemap"
   ]
  },
  {
   "cell_type": "markdown",
   "metadata": {},
   "source": [
    "We can then use this basemap item to create a Map in arcgis:"
   ]
  },
  {
   "cell_type": "code",
   "execution_count": 6,
   "metadata": {
    "collapsed": false
   },
   "outputs": [],
   "source": [
    "from arcgis.viz import MapView\n",
    "map = MapView(item=stamenbasemap)"
   ]
  },
  {
   "cell_type": "code",
   "execution_count": 7,
   "metadata": {
    "collapsed": true
   },
   "outputs": [],
   "source": [
    "map"
   ]
  },
  {
   "cell_type": "markdown",
   "metadata": {},
   "source": [
    "The GIS also contains other services such as geocoders. We can search for the Esri World Geocoder item..."
   ]
  },
  {
   "cell_type": "code",
   "execution_count": 8,
   "metadata": {
    "collapsed": false
   },
   "outputs": [
    {
     "data": {
      "text/html": [
       "<div class=\"item_container\" style=\"height: auto; overflow: hidden; border: 1px solid #cfcfcf; border-radius: 2px; background: #f6fafa; line-height: 1.21429em; padding: 10px;\">\n",
       "                    <div class=\"item_left\" style=\"width: 210px; float: left;\">\n",
       "                       <a href='http://www.arcgis.com/home/item.html?id=3f51ed8c307d4ffb87fd48280db28803' target='_blank'>\n",
       "                        <img src='http://www.arcgis.com/sharing/rest/content/items/3f51ed8c307d4ffb87fd48280db28803/info/thumbnail/ago_downloaded.png' class=\"itemThumbnail\">\n",
       "                       </a>\n",
       "                    </div>\n",
       "        \n",
       "                    <div class=\"item_right\"     style=\"float: none; width: auto; overflow: hidden;\">\n",
       "                        <a href='http://www.arcgis.com/home/item.html?id=3f51ed8c307d4ffb87fd48280db28803' target='_blank'><b>ArcGIS Runtime SDK</b>\n",
       "                        </a>\n",
       "                        <br>Map of Beta Community Participants who tested ArcGIS Runtime SDK<img src='http://www.arcgis.com/home/js/jsapi/esri/css/images/item_type_icons/maps16.png' style=\"vertical-align:middle;\">Web Map by astauffer\n",
       "                        <br>Last Modified: March 02, 2012\n",
       "                        <br>0 comments, 239,337 views\n",
       "                    </div>\n",
       "                </div>\n",
       "                "
      ],
      "text/plain": [
       "<Item title:\"ArcGIS Runtime SDK\" type:Web Map owner:astauffer>"
      ]
     },
     "metadata": {},
     "output_type": "display_data"
    },
    {
     "data": {
      "text/html": [
       "<div class=\"item_container\" style=\"height: auto; overflow: hidden; border: 1px solid #cfcfcf; border-radius: 2px; background: #f6fafa; line-height: 1.21429em; padding: 10px;\">\n",
       "                    <div class=\"item_left\" style=\"width: 210px; float: left;\">\n",
       "                       <a href='http://www.arcgis.com/home/item.html?id=305f2e55e67f4389bef269669fc2e284' target='_blank'>\n",
       "                        <img src='http://www.arcgis.com/sharing/rest/content/items/305f2e55e67f4389bef269669fc2e284/info/thumbnail/geocoding_world.jpg' class=\"itemThumbnail\">\n",
       "                       </a>\n",
       "                    </div>\n",
       "        \n",
       "                    <div class=\"item_right\"     style=\"float: none; width: auto; overflow: hidden;\">\n",
       "                        <a href='http://www.arcgis.com/home/item.html?id=305f2e55e67f4389bef269669fc2e284' target='_blank'><b>World Geocoding</b>\n",
       "                        </a>\n",
       "                        <br>The World Geocoding Service finds addresses and places in all supported countries around the world in a single geocoding service.<img src='http://www.arcgis.com/home/js/jsapi/esri/css/images/item_type_icons/layers16.png' style=\"vertical-align:middle;\">Geocoding Service by esri\n",
       "                        <br>Last Modified: January 08, 2015\n",
       "                        <br>5 comments, 37,608 views\n",
       "                    </div>\n",
       "                </div>\n",
       "                "
      ],
      "text/plain": [
       "<Item title:\"World Geocoding\" type:Geocoding Service owner:esri>"
      ]
     },
     "metadata": {},
     "output_type": "display_data"
    },
    {
     "data": {
      "text/html": [
       "<div class=\"item_container\" style=\"height: auto; overflow: hidden; border: 1px solid #cfcfcf; border-radius: 2px; background: #f6fafa; line-height: 1.21429em; padding: 10px;\">\n",
       "                    <div class=\"item_left\" style=\"width: 210px; float: left;\">\n",
       "                       <a href='http://www.arcgis.com/home/item.html?id=0406734321054289a6c31eb88b6c60f4' target='_blank'>\n",
       "                        <img src='http://www.arcgis.com/sharing/rest/content/items/0406734321054289a6c31eb88b6c60f4/info/thumbnail/WB_Projects_Liberia.png' class=\"itemThumbnail\">\n",
       "                       </a>\n",
       "                    </div>\n",
       "        \n",
       "                    <div class=\"item_right\"     style=\"float: none; width: auto; overflow: hidden;\">\n",
       "                        <a href='http://www.arcgis.com/home/item.html?id=0406734321054289a6c31eb88b6c60f4' target='_blank'><b>World Bank - Projects</b>\n",
       "                        </a>\n",
       "                        <br>The Mapping for Results Initiative of the World Bank has released maps of project locations at the sub-national level for all active World Bank Projects.  This Map Service displays project counts as well as project locations symbolized by sector.<img src='http://www.arcgis.com/home/js/jsapi/esri/css/images/item_type_icons/mapimages16.png' style=\"vertical-align:middle;\">Map Service by Intl_User_Community\n",
       "                        <br>Last Modified: December 26, 2014\n",
       "                        <br>2 comments, 22,164 views\n",
       "                    </div>\n",
       "                </div>\n",
       "                "
      ],
      "text/plain": [
       "<Item title:\"World Bank - Projects\" type:Map Service owner:Intl_User_Community>"
      ]
     },
     "metadata": {},
     "output_type": "display_data"
    }
   ],
   "source": [
    "from IPython.display import display\n",
    "geocoderitems = gis.content.search('world geocoding',max_items=3)\n",
    "for item in geocoderitems:\n",
    "    display(item)"
   ]
  },
  {
   "cell_type": "code",
   "execution_count": 9,
   "metadata": {
    "collapsed": false
   },
   "outputs": [],
   "source": [
    "geocoderitem = geocoderitems[1]"
   ]
  },
  {
   "cell_type": "markdown",
   "metadata": {},
   "source": [
    "... and create and use a Geocoder instance with this item:"
   ]
  },
  {
   "cell_type": "code",
   "execution_count": 10,
   "metadata": {
    "collapsed": false
   },
   "outputs": [],
   "source": [
    "from arcgis.tools import Geocoder\n",
    "geocoder = Geocoder(geocoderitem)"
   ]
  },
  {
   "cell_type": "code",
   "execution_count": 11,
   "metadata": {
    "collapsed": true
   },
   "outputs": [],
   "source": [
    "map.zoom=13"
   ]
  },
  {
   "cell_type": "code",
   "execution_count": 12,
   "metadata": {
    "collapsed": true
   },
   "outputs": [],
   "source": [
    "map.center = geocoder.find_best_match(\"Times Square\")"
   ]
  },
  {
   "cell_type": "code",
   "execution_count": 13,
   "metadata": {
    "collapsed": false
   },
   "outputs": [],
   "source": [
    "scene = gis.content.search('pictometry', 'web scene')[0]"
   ]
  },
  {
   "cell_type": "code",
   "execution_count": 14,
   "metadata": {
    "collapsed": false
   },
   "outputs": [
    {
     "data": {
      "text/html": [
       "<div class=\"item_container\" style=\"height: auto; overflow: hidden; border: 1px solid #cfcfcf; border-radius: 2px; background: #f6fafa; line-height: 1.21429em; padding: 10px;\">\n",
       "                    <div class=\"item_left\" style=\"width: 210px; float: left;\">\n",
       "                       <a href='http://www.arcgis.com/home/item.html?id=3e17e7850ccf44c688970300fa3fa5f0' target='_blank'>\n",
       "                        <img src='http://www.arcgis.com/sharing/rest/content/items/3e17e7850ccf44c688970300fa3fa5f0/info/thumbnail/ago_downloaded.png' class=\"itemThumbnail\">\n",
       "                       </a>\n",
       "                    </div>\n",
       "        \n",
       "                    <div class=\"item_right\"     style=\"float: none; width: auto; overflow: hidden;\">\n",
       "                        <a href='http://www.arcgis.com/home/item.html?id=3e17e7850ccf44c688970300fa3fa5f0' target='_blank'><b>Pictometry 3D Scene</b>\n",
       "                        </a>\n",
       "                        <br>Pictometry 3D Scene with Indianapolis and Philadelphia 3D Scene Layers<img src='http://www.arcgis.com/home/js/jsapi/esri/css/images/item_type_icons/webscene16.png' style=\"vertical-align:middle;\">Web Scene by whitepeterj\n",
       "                        <br>Last Modified: March 17, 2016\n",
       "                        <br>2 comments, 7,742 views\n",
       "                    </div>\n",
       "                </div>\n",
       "                "
      ],
      "text/plain": [
       "<Item title:\"Pictometry 3D Scene\" type:Web Scene owner:whitepeterj>"
      ]
     },
     "execution_count": 14,
     "metadata": {},
     "output_type": "execute_result"
    }
   ],
   "source": [
    "scene"
   ]
  },
  {
   "cell_type": "code",
   "execution_count": 15,
   "metadata": {
    "collapsed": false
   },
   "outputs": [],
   "source": [
    "from arcgis.viz import *\n",
    "picwebscene = WebScene(scene)"
   ]
  },
  {
   "cell_type": "code",
   "execution_count": null,
   "metadata": {
    "collapsed": false
   },
   "outputs": [],
   "source": [
    "picwebscene"
   ]
  },
  {
   "cell_type": "markdown",
   "metadata": {},
   "source": [
    "The GIS contains several different types of content and arcgis provides the API to use, modify and update it."
   ]
  },
  {
   "cell_type": "code",
   "execution_count": 17,
   "metadata": {
    "collapsed": true
   },
   "outputs": [],
   "source": [
    "portal = GIS(\"https://dev04875.esri.com/arcgis\", \"portaladmin\", \"portaladmin\")"
   ]
  },
  {
   "cell_type": "code",
   "execution_count": 18,
   "metadata": {
    "collapsed": true
   },
   "outputs": [],
   "source": [
    "mapitem = portal.content.search('World Cities', 'web map')[0]"
   ]
  },
  {
   "cell_type": "code",
   "execution_count": 19,
   "metadata": {
    "collapsed": false
   },
   "outputs": [
    {
     "data": {
      "text/html": [
       "<div class=\"item_container\" style=\"height: auto; overflow: hidden; border: 1px solid #cfcfcf; border-radius: 2px; background: #f6fafa; line-height: 1.21429em; padding: 10px;\">\n",
       "                    <div class=\"item_left\" style=\"width: 210px; float: left;\">\n",
       "                       <a href='https://dev04875.esri.com/arcgis/home/item.html?id=83aa1e614894406a93fffd8b1cbab7a6' target='_blank'>\n",
       "                        <img src='data:image/png;base64,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' width='200' height='133' class=\"itemThumbnail\">\n",
       "                       </a>\n",
       "                    </div>\n",
       "        \n",
       "                    <div class=\"item_right\"     style=\"float: none; width: auto; overflow: hidden;\">\n",
       "                        <a href='https://dev04875.esri.com/arcgis/home/item.html?id=83aa1e614894406a93fffd8b1cbab7a6' target='_blank'><b>World Cities</b>\n",
       "                        </a>\n",
       "                        <br><img src='http://www.arcgis.com/home/js/jsapi/esri/css/images/item_type_icons/maps16.png' style=\"vertical-align:middle;\">Web Map by portaladmin\n",
       "                        <br>Last Modified: June 09, 2016\n",
       "                        <br>0 comments, 0 views\n",
       "                    </div>\n",
       "                </div>\n",
       "                "
      ],
      "text/plain": [
       "<Item title:\"World Cities\" type:Web Map owner:portaladmin>"
      ]
     },
     "execution_count": 19,
     "metadata": {},
     "output_type": "execute_result"
    }
   ],
   "source": [
    "mapitem"
   ]
  },
  {
   "cell_type": "code",
   "execution_count": 20,
   "metadata": {
    "collapsed": true
   },
   "outputs": [],
   "source": [
    "webmap = WebMap(mapitem)"
   ]
  },
  {
   "cell_type": "code",
   "execution_count": null,
   "metadata": {
    "collapsed": false
   },
   "outputs": [],
   "source": [
    "webmap"
   ]
  },
  {
   "cell_type": "markdown",
   "metadata": {},
   "source": [
    "Uncomment the lines below to replace  old server url with new server url (or vice versa). The changes can be saved back to the webmap item using webmap.update():"
   ]
  },
  {
   "cell_type": "code",
   "execution_count": 22,
   "metadata": {
    "collapsed": false
   },
   "outputs": [
    {
     "name": "stdout",
     "output_type": "stream",
     "text": [
      "https://dev04875.esri.com/arcgis/rest/services/SampleWorldCities/MapServer\n"
     ]
    }
   ],
   "source": [
    "newserver = 'dev00930.esri.com'\n",
    "oldserver = 'dev04875.esri.com'\n",
    "\n",
    "for lyr in  webmap['operationalLayers']:\n",
    "    if 'url' in lyr:\n",
    "        print(lyr['url'])\n",
    "        lyr['url'] = lyr['url'].replace(oldserver, newserver)\n",
    "        \n",
    "webmap.update()"
   ]
  }
 ],
 "metadata": {
  "kernelspec": {
   "display_name": "Python 3",
   "language": "python",
   "name": "python3"
  },
  "language_info": {
   "codemirror_mode": {
    "name": "ipython",
    "version": 3
   },
   "file_extension": ".py",
   "mimetype": "text/x-python",
   "name": "python",
   "nbconvert_exporter": "python",
   "pygments_lexer": "ipython3",
   "version": "3.5.1"
  },
  "widgets": {
   "state": {},
   "version": "1.1.2"
  }
 },
 "nbformat": 4,
 "nbformat_minor": 0
}
