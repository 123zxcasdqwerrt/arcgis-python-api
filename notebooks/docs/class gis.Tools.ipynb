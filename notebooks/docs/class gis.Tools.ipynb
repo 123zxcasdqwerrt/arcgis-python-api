{
 "cells": [
  {
   "cell_type": "markdown",
   "metadata": {},
   "source": [
    "##The Tools class"
   ]
  },
  {
   "cell_type": "markdown",
   "metadata": {},
   "source": [
    "<hr/>"
   ]
  },
  {
   "cell_type": "markdown",
   "metadata": {},
   "source": [
    "##<b>class gis.Tools<b>(<i>gis</i>)"
   ]
  },
  {
   "cell_type": "markdown",
   "metadata": {},
   "source": [
    "Bases: builtins.dict\n",
    "\n",
    "Collection of GIS tools. This class holds references to the helper services and tools available in the GIS. This class is not created by users directly. An instance of this class, called ‘tools’, is available as a property of the GIS object. Users access the GIS tools, such as the geocoder, spatial analysis tools, geoanalytics, raster geoanalysis tools, etc through the gis.tools object.\n",
    "\n",
    "Example: We create a map widget and center it at the location of the Esri User Conference, San Diego, CA."
   ]
  },
  {
   "cell_type": "code",
   "execution_count": 3,
   "metadata": {
    "collapsed": false
   },
   "outputs": [],
   "source": [
    "gis = GIS()\n",
    "map = gis.map('San Diego, CA', 12)\n",
    "map"
   ]
  },
  {
   "cell_type": "markdown",
   "metadata": {},
   "source": [
    "We can use the geocoder tool to re-center the map on Palm Springs - the location of Esri's Dev Summit"
   ]
  },
  {
   "cell_type": "code",
   "execution_count": 4,
   "metadata": {
    "collapsed": false
   },
   "outputs": [],
   "source": [
    "map.center = gis.tools.geocoder.find_best_match('Palm Springs, CA')"
   ]
  },
  {
   "cell_type": "markdown",
   "metadata": {},
   "source": [
    "<hr>"
   ]
  },
  {
   "cell_type": "markdown",
   "metadata": {
    "collapsed": false
   },
   "source": [
    "The gis tools are available as properties of the gis.tools object:\n",
    "\n",
    "* ###analysis\n",
    "  the portal’s [spatial analysis tools](class tools.SpatialAnalysisTools.ipynb), if available and configured\n",
    "* ###geoanalytics\n",
    "  the portal’s [geoanalytics tools](class tools.GeoAnalyticsTools.ipynb), if available and configured\n",
    "* ###geocoder\n",
    "  the portal's [geocoder](class tools.Geocoder.ipynb), if available and configured\n",
    "* ###geometry\n",
    "  the portal’s [geometry tools](class tools.Geometry.ipynb), if available and configured\n",
    "* ###rasters\n",
    "  the portal’s [raster analysis tools](class tools.RasterAnalysisTools.ipynb), if available and configured"
   ]
  }
 ],
 "metadata": {
  "kernelspec": {
   "display_name": "Python 3",
   "language": "python",
   "name": "python3"
  },
  "language_info": {
   "codemirror_mode": {
    "name": "ipython",
    "version": 3
   },
   "file_extension": ".py",
   "mimetype": "text/x-python",
   "name": "python",
   "nbconvert_exporter": "python",
   "pygments_lexer": "ipython3",
   "version": "3.4.3"
  }
 },
 "nbformat": 4,
 "nbformat_minor": 0
}
