{
 "cells": [
  {
   "cell_type": "markdown",
   "metadata": {},
   "source": [
    "## Using the Workforce Python Module to Automate Workforce for ArcGIS\n",
    "\n",
    "Workforce for ArcGIS is a mobile solution that uses the power of location-based decision making for better field workforce coordination and teamwork. It is composed of a web app used by project administrators and dispatchers in the office, and a mobile app used by mobile workers on their devices. Organizations using Workforce for ArcGIS get these benefits:\n",
    "\n",
    "- Everything you need on one device—Mobile workers can easily view and process work assignments, provide updates on work status, and inform others of their location, all from one device.\n",
    "\n",
    "- Greater agility—Using real-time and location-based information, dispatchers can assign and prioritize fieldwork on the fly and ensure that work is assigned to the right people at the right time.\n",
    "\n",
    "- Increased productivity—Replace time-consuming and error-prone manual workforce management processes, reduce downtime, and keep projects on schedule."
   ]
  },
  {
   "cell_type": "markdown",
   "metadata": {
    "collapsed": true
   },
   "source": [
    "### Workforce Schema\n",
    "\n",
    "**Note**: The following was extracted/summarized from [here](https://doc.arcgis.com/en/workforce/android-phone/help/workforce-schema.htm).\n",
    "\n",
    "A workforce project is composed of four feature layers and four coded value domains with a predefined schema. The name of each feature layer is a combination of a moniker, describing the purpose of the feature layer, appended with the GUID of the Workforce project item. For example, the Workers layer associated with a project with GUID 5dd018fcd88c4d33814cf3da9c44061e would be named workers_5dd018fcd88c4d33814cf3da9c44061e. This guarantees uniqueness of each feature layer.\n",
    "\n",
    "The four feature layers are as follows:\n",
    "\n",
    "- **Workers**\n",
    "\n",
    "  - A point feature layer that contains a record for each mobile worker who is included in the project.\n",
    "  - Includes information about the mobile worker, including their contact number and job title.\n",
    "  - The mobile worker's ArcGIS organizational user name is stored in the userId field.\n",
    "  - The layer tracks who created and last updated each mobile worker.\n",
    "  - There is a primary key-foreign key (PK-FK) relationship from OBJECTID to Assignments.workerId. Using the OBJECTID value from the Workers layer as the Assignments.workerId field value associates the mobile worker with all their assignments.\n",
    "  - The layer has the following coded value domain associations:\n",
    "  - The status field is associated with the Worker_Status coded value domain to track the mobile worker status.\n",
    "\n",
    "- **Assignments**\n",
    "\n",
    "  - A point feature layer that contains a record for each assignment.\n",
    "  - Includes information about the assignment, including its status, location, and description, among others.\n",
    "  - The layer tracks who created and last updated each assignment.\n",
    "  - Attachments are enabled on the feature layer.\n",
    "  - The layer contains foreign keys for some fields, associating values from another layer with this layer:\n",
    "    - Assignments.workerId to Workers.OBJECTID.\n",
    "    - Assignments.dispatcherId to Dispatchers.OBJECTID.\n",
    "    - Assignments.workOrderId can be used as a foreign key to an external system, such as an asset or maintenance management system, by providing values from the other system.\n",
    "  - The layer has the following coded value domain associations:\n",
    "    - The status field is associated with the Assign_Status coded value domain to track the assignment status.\n",
    "    - The priority field is associated with the Priority coded value domain to manage the priority of work assignments.\n",
    "    - The assignmentType field is associated with the Assign_Type coded value domain to store the assignment types for the project.\n",
    "\n",
    "- **Dispatchers**\n",
    "  - A point feature layer that contains a record for each dispatcher within the project.\n",
    "  - Includes information about the dispatcher, including their name and contact number.\n",
    "  - The dispatcher's ArcGIS organizational user name is stored in the userId field.\n",
    "  - The layer tracks who created and last updated each dispatcher.\n",
    "  - There is a PK-FK relationship from OBJECTID to Assignments.dispatcherId. Using the OBJECTID value from the Dispatchers layer as the Assignments.dispatcherId field value associates the dispatcher with all the assignments they assigned.\n",
    "\n",
    "- **Location Tracking**\n",
    "  - A point feature layer that contains a record for each point location logged while location tracking is enabled.\n",
    "  - The layer tracks who created and last updated each location track.\n",
    "  \n",
    "Additionally, a workforce project contains two webmaps:\n",
    "\n",
    "- **Dispatcher Webmap**\n",
    "  - This map is what the dispatchers using the back-office web app see\n",
    "  - It shows the assignments and worker locations\n",
    "  - Additional layers can be added to this map\n",
    "  \n",
    "- **Worker Webmap**\n",
    "  - This map is what a field worker uses on their iOS or Android device\n",
    "  - Additional layers can be added to this map\n",
    "  \n",
    "When a new project is created via the web application, a new **Group** is created. All of the layers, webmaps, and the project item itself are shared into this group.\n",
    "\n",
    "When a new project is created via the web application, a new **Folder** is created. All of the layers, webmaps, and the project item itself are shared into this folder.\n",
    "\n",
    "Finally, there is the actual **Workforce Project** item. This is an item on the portal that stores project meta data in json format.\n",
    "\n",
    "```json\n",
    "{\n",
    "    \"workerWebMapId\": \"<worker-map-id>\",\n",
    "    \"dispatcherWebMapId\": \"<dispatcher-map-id>\",\n",
    "    \"dispatchers\": {\n",
    "        \"serviceItemId\": \"<item-id>\",\n",
    "        \"url\": \"<layer-url>\"\n",
    "    },\n",
    "    \"assignments\": {\n",
    "        \"serviceItemId\": \"<item-id>\",\n",
    "        \"url\": \"<layer-url>\"\n",
    "    },\n",
    "    \"workers\": {\n",
    "        \"serviceItemId\": \"<item-id>\",\n",
    "        \"url\": \"<layer-url>\"\n",
    "    },\n",
    "    \"tracks\": {\n",
    "        \"serviceItemId\": \"<item-id>\",\n",
    "        \"url\": \"<layer-url>\",\n",
    "        \"enabled\": <true | false>,\n",
    "        \"updateInterval\": 30\n",
    "    },\n",
    "    \"version\": \"1.2.0\",\n",
    "    \"groupId\": \"<group-id>\",\n",
    "    \"folderId\": \"<folder-d>\",\n",
    "    \"assignmentIntegrations\": [\n",
    "        {\n",
    "            \"id\": \"default-navigator\",\n",
    "            \"prompt\": \"Navigate to Assignment\",\n",
    "            \"urlTemplate\": \"arcgis-navigator://?stop=${assignment.latitude},${assignment.longitude}&stopname=${assignment.location}&callback=arcgis-workforce://&callbackprompt=Workforce\"\n",
    "        }\n",
    "    ]\n",
    "}\n",
    "```\n"
   ]
  },
  {
   "cell_type": "markdown",
   "metadata": {},
   "source": [
    "### Common tasks that can be accomplished with this module\n",
    "\n",
    "#### Workers and Dispatchers\n",
    "- Adding Dispatchers and Workers to a Project\n",
    "- Deleting Dispatchers and Workers from a Project\n",
    "- Updating Workers and Dispatchers in a Project\n",
    "- Searching Workers and Dispatchers in a Project\n",
    "\n",
    "#### Assignments\n",
    "- Adding Assignments to a Project\n",
    "- Deleting Assignments from a Project\n",
    "- Updating Assignments in a Project\n",
    "- Assigning Assignments in a Project\n",
    "- Searching Assignments in a Project\n",
    "- Adding/Removing/Downloading Attachments\n",
    "\n",
    "#### Tracks\n",
    "- Searching Tracks (for analysis)"
   ]
  },
  {
   "cell_type": "markdown",
   "metadata": {},
   "source": [
    "### Getting Started\n",
    "\n",
    "A user must be authenticated with a GIS in order to fetch a Project. The workforce functionality is available in `arcgis.apps.workforce`"
   ]
  },
  {
   "cell_type": "code",
   "execution_count": 1,
   "metadata": {},
   "outputs": [
    {
     "name": "stdout",
     "output_type": "stream",
     "text": [
      "Enter password: ········\n"
     ]
    }
   ],
   "source": [
    "from arcgis.gis import GIS\n",
    "from arcgis.apps import workforce\n",
    "\n",
    "gis = GIS('https://arcgis.com', 'workforce_scripts')"
   ]
  },
  {
   "cell_type": "markdown",
   "metadata": {},
   "source": [
    "#### Workforce Project\n",
    "A project is created using its corresponding item."
   ]
  },
  {
   "cell_type": "code",
   "execution_count": 2,
   "metadata": {},
   "outputs": [],
   "source": [
    "item = gis.content.get(\"29eec3c45982458d876c5e1f2f32333d\")\n",
    "project = workforce.Project(item)"
   ]
  },
  {
   "cell_type": "markdown",
   "metadata": {},
   "source": [
    "#### Assignments\n",
    "Assignments are accessed by using the assignment manager object. Assignments can be added, updated, or deleted. Additionally, attachments can be added, deleted, or downloaded by using the assignment attachment manager object."
   ]
  },
  {
   "cell_type": "code",
   "execution_count": 3,
   "metadata": {},
   "outputs": [
    {
     "name": "stdout",
     "output_type": "stream",
     "text": [
      "Status: assigned\n",
      "Description: Do some work at the ESRI R&D Center\n",
      "Priority: medium\n",
      "Assigned To: Aaron Pulver\n",
      "Type: Inspection\n",
      "--------------------\n",
      "Updated Description: You need to do an inspection here\n"
     ]
    },
    {
     "data": {
      "text/plain": [
       "['/Users/aaro8157/PycharmProjects/arcgis-python-api/samples/02_power_users_developers/esri_logo1.png']"
      ]
     },
     "execution_count": 3,
     "metadata": {},
     "output_type": "execute_result"
    }
   ],
   "source": [
    "# Search all assignments\n",
    "assignments = project.assignments.search()\n",
    "\n",
    "# View first assignment\n",
    "assignment = assignments[0]\n",
    "print(f\"Status: {assignment.status}\")\n",
    "print(f\"Description: {assignment.description}\")\n",
    "print(f\"Priority: {assignment.priority}\")\n",
    "print(f\"Assigned To: {assignment.worker.name}\")\n",
    "print(f\"Type: {assignment.assignment_type}\")\n",
    "\n",
    "# Update the description of the assignment\n",
    "assignment.update(description=\"You need to do an inspection here\")\n",
    "print(\"--------------------\")\n",
    "print(f\"Updated Description: {project.assignments.search()[0].description}\")\n",
    "\n",
    "# Download the assignment using the AssignmentAttachmentManager\n",
    "assignment.attachments.download()"
   ]
  },
  {
   "cell_type": "markdown",
   "metadata": {},
   "source": [
    "#### Assignment Types\n",
    "Assignment types are accessed by using an assignment type manager. Assignment types can be added, updated, or deleted."
   ]
  },
  {
   "cell_type": "code",
   "execution_count": 4,
   "metadata": {},
   "outputs": [
    {
     "name": "stdout",
     "output_type": "stream",
     "text": [
      "Type: Inspection\n",
      "Type: Removal\n",
      "--------------------\n",
      "Type: Inspection\n",
      "Type: Removal\n",
      "Type: Repair\n"
     ]
    }
   ],
   "source": [
    "# List all assignment types\n",
    "assignment_types = project.assignment_types.search()\n",
    "for at in assignment_types:\n",
    "    print(f\"Type: {at.name}\")\n",
    "    \n",
    "# Add a new assignment type\n",
    "project.assignment_types.add(name=\"Repair\")\n",
    "\n",
    "# Confirm that it was added\n",
    "print(\"--------------------\")\n",
    "assignment_types = project.assignment_types.search()\n",
    "for at in assignment_types:\n",
    "    print(f\"Type: {at.name}\")"
   ]
  },
  {
   "cell_type": "markdown",
   "metadata": {},
   "source": [
    "#### Workers\n",
    "Workers are accessed by using a worker manager object. Workers can be added, updated, or deleted."
   ]
  },
  {
   "cell_type": "code",
   "execution_count": 5,
   "metadata": {},
   "outputs": [
    {
     "name": "stdout",
     "output_type": "stream",
     "text": [
      "Name: Aaron Pulver\n",
      "Number: None\n",
      "--------------------\n",
      "Number: 123-456-7890\n"
     ]
    }
   ],
   "source": [
    "# Search all workers and print details about first worker \n",
    "workers = project.workers.search()\n",
    "worker = workers[0]\n",
    "print(f\"Name: {worker.name}\")\n",
    "print(f\"Number: {worker.contact_number}\")\n",
    "    \n",
    "# Update the workers contact number\n",
    "worker.update(contact_number=\"123-456-7890\")\n",
    "print(\"--------------------\")\n",
    "print(f\"Number: {project.workers.search()[0].contact_number}\")"
   ]
  },
  {
   "cell_type": "code",
   "execution_count": 6,
   "metadata": {},
   "outputs": [
    {
     "data": {
      "text/plain": [
       "<Worker 34>"
      ]
     },
     "execution_count": 6,
     "metadata": {},
     "output_type": "execute_result"
    }
   ],
   "source": [
    "# Add a new worker\n",
    "project.workers.add(name=\"Demo User\", \n",
    "                    user_id=\"demouser_nitro\", \n",
    "                    contact_number=\"123-987-4560\")"
   ]
  },
  {
   "cell_type": "markdown",
   "metadata": {},
   "source": [
    "#### Dispatchers\n",
    "Dispatchers are accessed by using a dispatcher manager object. Dispatchers can be added, updated, or deleted."
   ]
  },
  {
   "cell_type": "code",
   "execution_count": 7,
   "metadata": {},
   "outputs": [
    {
     "name": "stdout",
     "output_type": "stream",
     "text": [
      "Name: workforce scripts\n",
      "Number: 987-654-3210\n",
      "--------------------\n",
      "Number: 123-456-7890\n"
     ]
    }
   ],
   "source": [
    "# Search for all dispatchers and print details about first dispatcher\n",
    "dispatchers = project.dispatchers.search()\n",
    "dispatcher = dispatchers[0]\n",
    "print(f\"Name: {dispatcher.name}\")\n",
    "print(f\"Number: {dispatcher.contact_number}\")\n",
    "    \n",
    "# Update the dispatchers contact number\n",
    "dispatcher.update(contact_number=\"123-456-7890\")\n",
    "print(\"--------------------\")\n",
    "print(f\"Number: {project.dispatchers.search()[0].contact_number}\")"
   ]
  },
  {
   "cell_type": "markdown",
   "metadata": {},
   "source": [
    "#### Webmaps\n",
    "The dispatcher and worker webmaps can be accessed as shown in the following code snippet. By using the mapping module, additional layers could be added to either map."
   ]
  },
  {
   "cell_type": "code",
   "execution_count": 8,
   "metadata": {},
   "outputs": [
    {
     "data": {
      "application/vnd.jupyter.widget-view+json": {
       "model_id": "1b0f93a9b75747a2acfcb191dc6d1307"
      }
     },
     "metadata": {},
     "output_type": "display_data"
    }
   ],
   "source": [
    "# Worker webmap\n",
    "project.worker_webmap"
   ]
  },
  {
   "cell_type": "code",
   "execution_count": 9,
   "metadata": {},
   "outputs": [
    {
     "data": {
      "application/vnd.jupyter.widget-view+json": {
       "model_id": "630f7521678d4f2585559ab7172dbf6e"
      }
     },
     "metadata": {},
     "output_type": "display_data"
    }
   ],
   "source": [
    "# Dispatcher webmap\n",
    "project.dispatcher_webmap"
   ]
  },
  {
   "cell_type": "markdown",
   "metadata": {},
   "source": [
    "### Putting it all together\n",
    "In the following snippet, a new assignment will be created at the ESRI campus. Assignments (as well as workers, assignment types, dispatchers, and tracks) are all validated prior to upload. The ensures the integrity of the workforce project."
   ]
  },
  {
   "cell_type": "code",
   "execution_count": 10,
   "metadata": {},
   "outputs": [
    {
     "data": {
      "text/plain": [
       "<Assignment 66>"
      ]
     },
     "execution_count": 10,
     "metadata": {},
     "output_type": "execute_result"
    }
   ],
   "source": [
    "# Add a new assignment and assign it to demouser\n",
    "from datetime import datetime\n",
    "demouser = project.workers.get(user_id='demouser_nitro')\n",
    "dispatcher = project.dispatchers.get(user_id='workforce_scripts')\n",
    "repair = project.assignment_types.get(name=\"Repair\")\n",
    "\n",
    "# Use the geocoder to find the location of ESRI\n",
    "from arcgis.geocoding import geocode\n",
    "geometry = geocode(\"ESRI, Redlands, CA\", out_sr=102100)[0]['location']\n",
    "\n",
    "# Add a new assignment\n",
    "project.assignments.add(assignment_type=repair,\n",
    "                       status=\"assigned\",\n",
    "                       assigned_date=datetime.now(),\n",
    "                       worker=demouser,\n",
    "                       dispatcher=dispatcher,\n",
    "                       location=\"ESRI, Redlands, CA\",\n",
    "                       geometry=geometry)"
   ]
  },
  {
   "cell_type": "markdown",
   "metadata": {},
   "source": [
    "### Reset the Demo Project\n",
    "The following code resets the project to the intial state for this demo. It also highlights how batch methods can be used to add/update/delete many workforce items at once. This is useful when processing large amounts of assignments, workers, or dispatchers. In general, batch methods make fewer calls to the backend server thus reducing the overall time of the script."
   ]
  },
  {
   "cell_type": "code",
   "execution_count": 11,
   "metadata": {},
   "outputs": [
    {
     "data": {
      "text/plain": [
       "[<Dispatcher 1>]"
      ]
     },
     "execution_count": 11,
     "metadata": {},
     "output_type": "execute_result"
    }
   ],
   "source": [
    "# Use batch functions to process multiple items at a time\n",
    "project.assignments.batch_delete(project.assignments.search(where='assignmentType=3'))\n",
    "project.assignment_types.batch_delete([project.assignment_types.get(name=\"Repair\")])\n",
    "project.workers.batch_delete([project.workers.get(user_id=\"demouser_nitro\")])\n",
    "\n",
    "# Reset the assignment description\n",
    "a = project.assignments.get(object_id=1)\n",
    "a.update(description=\"Do some work at the ESRI R&D Center\")\n",
    "\n",
    "# Reset the worker using batch update\n",
    "w1 = project.workers.get(object_id=1)\n",
    "w1.contact_number = None\n",
    "project.workers.batch_update([w1])\n",
    "\n",
    "# Reset the dispatcher using batch update\n",
    "d1 = project.dispatchers.get(object_id=1)\n",
    "d1.contact_number = \"987-654-3210\"\n",
    "project.dispatchers.batch_update([d1])"
   ]
  }
 ],
 "metadata": {
  "kernelspec": {
   "display_name": "Python 3",
   "language": "python",
   "name": "python3"
  },
  "language_info": {
   "codemirror_mode": {
    "name": "ipython",
    "version": 3
   },
   "file_extension": ".py",
   "mimetype": "text/x-python",
   "name": "python",
   "nbconvert_exporter": "python",
   "pygments_lexer": "ipython3",
   "version": "3.6.5"
  }
 },
 "nbformat": 4,
 "nbformat_minor": 1
}
