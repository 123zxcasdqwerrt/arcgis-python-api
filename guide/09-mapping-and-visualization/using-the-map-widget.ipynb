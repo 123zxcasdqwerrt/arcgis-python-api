{
 "cells": [
  {
   "cell_type": "markdown",
   "metadata": {},
   "source": [
    "## `arcgis.mapping` module\n",
    "The `arcgis.mapping` module contains classes and functions to represent and interact with web maps, scenes, and certain layer types such as map image and vector tiles. In this page we will observe how to visualize maps, scenes and layers using the map widget in Jupyter notebook environment.\n",
    "\n",
    "Contents of this page:\n",
    " - [Using the map widget](#Using-the-map-widget)\n",
    " - [Setting the map properties](#Setting-the-map-properties)\n",
    "  - [Zoom level](#Zoom-level)\n",
    "  - [Map center](#Map-center)\n",
    "  - [Basemaps](#Basemaps)\n",
    " - [Adding layers to the map](#Adding-layers-to-the-map)\n",
    "  - [Adding Item objects to the map](#Adding-Item-objects-to-the-map)\n",
    "  - [Adding layer objects to the map](#Adding-layer-objects-to-the-map)\n",
    "  - [Adding layers with custom symbology](#Adding-layers-with-custom-symbology)\n",
    " - [Listing the layers added to the map](#Listing-the-layers-added-to-the-map)\n",
    " - [Removing layers from the map](#Removing-layers-from-the-map)\n",
    " - [Drawing graphics on the map](#Drawing-graphics-on-the-map)\n",
    "  - [Drawing with custom symbols](#Drawing-with-custom-symbols)\n",
    " - [Clearing the drawn graphics](#Clearing-the-drawn-graphics)\n",
    " - [Saving the map as a web map]\n",
    "\n",
    "## Using the map widget\n",
    "The `GIS` object includes a map widget for displaying geographic locations, visualizing GIS content, as well as the results of your analysis. To use the map widget, call `gis.map()` and assign it to a variable, that you can then query to bring up the widget in the notebook:"
   ]
  },
  {
   "cell_type": "code",
   "execution_count": 1,
   "metadata": {
    "collapsed": true
   },
   "outputs": [],
   "source": [
    "import arcgis\n",
    "from arcgis.gis import GIS\n",
    "# Create a GIS object, as an anonymous user for this example\n",
    "gis = GIS()"
   ]
  },
  {
   "cell_type": "code",
   "execution_count": 42,
   "metadata": {},
   "outputs": [
    {
     "data": {
      "application/vnd.jupyter.widget-view+json": {
       "model_id": "cc8d775877d9495bb6654c44e71250cb"
      }
     },
     "metadata": {},
     "output_type": "display_data"
    }
   ],
   "source": [
    "# Create a map widget\n",
    "map1 = gis.map('Paris') # Passing a place name to the constructor\n",
    "                        # will initialize the extent of the map.\n",
    "map1"
   ]
  },
  {
   "cell_type": "markdown",
   "metadata": {},
   "source": [
    "![paris map](http://esri.github.io/arcgis-python-api/notebooks/nbimages/02_MapWidget_Basemaps_01.PNG)"
   ]
  },
  {
   "cell_type": "markdown",
   "metadata": {},
   "source": [
    "## Setting the map properties\n",
    "### Zoom level\n",
    "The map widget has several properties that you can query and set, such as its zoom level, basemap, height, etc:"
   ]
  },
  {
   "cell_type": "code",
   "execution_count": 43,
   "metadata": {},
   "outputs": [
    {
     "data": {
      "text/plain": [
       "2"
      ]
     },
     "execution_count": 43,
     "metadata": {},
     "output_type": "execute_result"
    }
   ],
   "source": [
    "map1.zoom"
   ]
  },
  {
   "cell_type": "markdown",
   "metadata": {},
   "source": [
    "Assigning a value to the `zoom` property will update the widget."
   ]
  },
  {
   "cell_type": "code",
   "execution_count": 44,
   "metadata": {
    "collapsed": true
   },
   "outputs": [],
   "source": [
    "map1.zoom = 10"
   ]
  },
  {
   "cell_type": "markdown",
   "metadata": {},
   "source": [
    "Your notebook can have as many of these widgets as you wish. Let us create another map widget and modify some of its properties.\n",
    "### Map center\n",
    "The center property reveals the coordinates of the center of the map."
   ]
  },
  {
   "cell_type": "code",
   "execution_count": 46,
   "metadata": {},
   "outputs": [
    {
     "data": {
      "application/vnd.jupyter.widget-view+json": {
       "model_id": "52a68ef5640c45c89bff4ea893fb3677"
      }
     },
     "metadata": {},
     "output_type": "display_data"
    }
   ],
   "source": [
    "map2 = gis.map() # creating a map object with default parameters\n",
    "map2"
   ]
  },
  {
   "cell_type": "code",
   "execution_count": 51,
   "metadata": {},
   "outputs": [
    {
     "data": {
      "text/plain": [
       "[0, 0]"
      ]
     },
     "execution_count": 51,
     "metadata": {},
     "output_type": "execute_result"
    }
   ],
   "source": [
    "map2.center"
   ]
  },
  {
   "cell_type": "markdown",
   "metadata": {},
   "source": [
    "If you know the latitude and longitude of your place of interest, you can assign it to the center property."
   ]
  },
  {
   "cell_type": "code",
   "execution_count": 52,
   "metadata": {
    "collapsed": true
   },
   "outputs": [],
   "source": [
    "map2.center = [34,-118] # here we are setting the map's center to Los Angeles"
   ]
  },
  {
   "cell_type": "markdown",
   "metadata": {},
   "source": [
    "You can use geocoding to get the coordinates of place names and drive the widget. Geocoding converts place names to coordinates and can be used using `arcgis.geocoding.geocode()` function."
   ]
  },
  {
   "cell_type": "markdown",
   "metadata": {},
   "source": [
    "Let us geocode `Times Square, NY` and set the map's extent to the geocoded location's extent."
   ]
  },
  {
   "cell_type": "code",
   "execution_count": 53,
   "metadata": {
    "collapsed": true
   },
   "outputs": [],
   "source": [
    "location = arcgis.geocoding.geocode('Times Square, NY', max_locations=1)[0]\n",
    "map2.extent = location['extent']"
   ]
  },
  {
   "cell_type": "markdown",
   "metadata": {},
   "source": [
    "## Basemaps\n",
    "Your map can have a number of different basemaps. To see what basemaps are included with the widget, query the `basemaps` property"
   ]
  },
  {
   "cell_type": "code",
   "execution_count": 59,
   "metadata": {},
   "outputs": [
    {
     "data": {
      "text/plain": [
       "['dark-gray',\n",
       " 'dark-gray-vector',\n",
       " 'gray',\n",
       " 'gray-vector',\n",
       " 'hybrid',\n",
       " 'national-geographic',\n",
       " 'oceans',\n",
       " 'osm',\n",
       " 'satellite',\n",
       " 'streets',\n",
       " 'streets-navigation-vector',\n",
       " 'streets-night-vector',\n",
       " 'streets-relief-vector',\n",
       " 'streets-vector',\n",
       " 'terrain',\n",
       " 'topo',\n",
       " 'topo-vector']"
      ]
     },
     "execution_count": 59,
     "metadata": {},
     "output_type": "execute_result"
    }
   ],
   "source": [
    "map3 = gis.map()\n",
    "map3.basemaps"
   ]
  },
  {
   "cell_type": "markdown",
   "metadata": {},
   "source": [
    "You can assign any one of the supported basemaps to the `basemap` property to change the basemap. For instance, you can change the basemap to the dark gray vector basemap as below:"
   ]
  },
  {
   "cell_type": "code",
   "execution_count": 60,
   "metadata": {},
   "outputs": [
    {
     "data": {
      "application/vnd.jupyter.widget-view+json": {
       "model_id": "8a9ed84d41bc4fd49f97edbea02ae7a7"
      }
     },
     "metadata": {},
     "output_type": "display_data"
    }
   ],
   "source": [
    "map3.basemap = 'dark-gray-vector'\n",
    "map3"
   ]
  },
  {
   "cell_type": "markdown",
   "metadata": {},
   "source": [
    "Query the `basemap` property to find what the current basemap is"
   ]
  },
  {
   "cell_type": "code",
   "execution_count": 61,
   "metadata": {},
   "outputs": [
    {
     "data": {
      "text/plain": [
       "'dark-gray-vector'"
      ]
     },
     "execution_count": 61,
     "metadata": {},
     "output_type": "execute_result"
    }
   ],
   "source": [
    "map3.basemap"
   ]
  },
  {
   "cell_type": "markdown",
   "metadata": {},
   "source": [
    "### Basemaps from Esri\n",
    "ArcGIS Online includes several basemaps from Esri that you can use in your maps. Let us list them."
   ]
  },
  {
   "cell_type": "code",
   "execution_count": 58,
   "metadata": {
    "scrolled": false
   },
   "outputs": [
    {
     "data": {
      "text/html": [
       "<div class=\"item_container\" style=\"height: auto; overflow: hidden; border: 1px solid #cfcfcf; border-radius: 2px; background: #f6fafa; line-height: 1.21429em; padding: 10px;\">\n",
       "                    <div class=\"item_left\" style=\"width: 210px; float: left;\">\n",
       "                       <a href='https://www.arcgis.com/home/item.html?id=7e2b9be8a9c94e45b7f87857d8d168d6' target='_blank'>\n",
       "                        <img src='https://www.arcgis.com/sharing/rest//content/items/7e2b9be8a9c94e45b7f87857d8d168d6/info/thumbnail/streets_night_map.jpg' class=\"itemThumbnail\">\n",
       "                       </a>\n",
       "                    </div>\n",
       "\n",
       "                    <div class=\"item_right\"     style=\"float: none; width: auto; overflow: hidden;\">\n",
       "                        <a href='https://www.arcgis.com/home/item.html?id=7e2b9be8a9c94e45b7f87857d8d168d6' target='_blank'><b>Streets (Night)</b>\n",
       "                        </a>\n",
       "                        <br/>This web map provides a detailed vector basemap for the world featuring a custom \"night time\" street map style. <img src='https://www.arcgis.com/home/js/jsapi/esri/css/images/item_type_icons/maps16.png' style=\"vertical-align:middle;\">Web Map by esri\n",
       "                        <br/>Last Modified: November 20, 2017\n",
       "                        <br/>3 comments, 69,551 views\n",
       "                    </div>\n",
       "                </div>\n",
       "                "
      ],
      "text/plain": [
       "<Item title:\"Streets (Night)\" type:Web Map owner:esri>"
      ]
     },
     "metadata": {},
     "output_type": "display_data"
    },
    {
     "data": {
      "text/html": [
       "<div class=\"item_container\" style=\"height: auto; overflow: hidden; border: 1px solid #cfcfcf; border-radius: 2px; background: #f6fafa; line-height: 1.21429em; padding: 10px;\">\n",
       "                    <div class=\"item_left\" style=\"width: 210px; float: left;\">\n",
       "                       <a href='https://www.arcgis.com/home/item.html?id=5ae9e138a17842688b0b79283a4353f6' target='_blank'>\n",
       "                        <img src='https://www.arcgis.com/sharing/rest//content/items/5ae9e138a17842688b0b79283a4353f6/info/thumbnail/oceans_5_0_gulf.jpg' class=\"itemThumbnail\">\n",
       "                       </a>\n",
       "                    </div>\n",
       "\n",
       "                    <div class=\"item_right\"     style=\"float: none; width: auto; overflow: hidden;\">\n",
       "                        <a href='https://www.arcgis.com/home/item.html?id=5ae9e138a17842688b0b79283a4353f6' target='_blank'><b>Ocean Basemap</b>\n",
       "                        </a>\n",
       "                        <br/>The Ocean Basemap includes bathymetry, surface and subsurface feature names, and derived depths.  This map is designed to be used as a basemap by marine GIS professionals and as a reference map by anyone interested in ocean data.<img src='https://www.arcgis.com/home/js/jsapi/esri/css/images/item_type_icons/maps16.png' style=\"vertical-align:middle;\">Web Map by esri\n",
       "                        <br/>Last Modified: December 07, 2016\n",
       "                        <br/>8 comments, 332,499 views\n",
       "                    </div>\n",
       "                </div>\n",
       "                "
      ],
      "text/plain": [
       "<Item title:\"Ocean Basemap\" type:Web Map owner:esri>"
      ]
     },
     "metadata": {},
     "output_type": "display_data"
    },
    {
     "data": {
      "text/html": [
       "<div class=\"item_container\" style=\"height: auto; overflow: hidden; border: 1px solid #cfcfcf; border-radius: 2px; background: #f6fafa; line-height: 1.21429em; padding: 10px;\">\n",
       "                    <div class=\"item_left\" style=\"width: 210px; float: left;\">\n",
       "                       <a href='https://www.arcgis.com/home/item.html?id=c50de463235e4161b206d000587af18b' target='_blank'>\n",
       "                        <img src='https://www.arcgis.com/sharing/rest//content/items/c50de463235e4161b206d000587af18b/info/thumbnail/navigation_day_map.jpg' class=\"itemThumbnail\">\n",
       "                       </a>\n",
       "                    </div>\n",
       "\n",
       "                    <div class=\"item_right\"     style=\"float: none; width: auto; overflow: hidden;\">\n",
       "                        <a href='https://www.arcgis.com/home/item.html?id=c50de463235e4161b206d000587af18b' target='_blank'><b>Navigation</b>\n",
       "                        </a>\n",
       "                        <br/>This web map provides a detailed vector basemap for the world featuring a custom navigation map style. <img src='https://www.arcgis.com/home/js/jsapi/esri/css/images/item_type_icons/maps16.png' style=\"vertical-align:middle;\">Web Map by esri\n",
       "                        <br/>Last Modified: November 20, 2017\n",
       "                        <br/>0 comments, 77,581 views\n",
       "                    </div>\n",
       "                </div>\n",
       "                "
      ],
      "text/plain": [
       "<Item title:\"Navigation\" type:Web Map owner:esri>"
      ]
     },
     "metadata": {},
     "output_type": "display_data"
    },
    {
     "data": {
      "text/html": [
       "<div class=\"item_container\" style=\"height: auto; overflow: hidden; border: 1px solid #cfcfcf; border-radius: 2px; background: #f6fafa; line-height: 1.21429em; padding: 10px;\">\n",
       "                    <div class=\"item_left\" style=\"width: 210px; float: left;\">\n",
       "                       <a href='https://www.arcgis.com/home/item.html?id=d5e02a0c1f2b4ec399823fdd3c2fdebd' target='_blank'>\n",
       "                        <img src='https://www.arcgis.com/sharing/rest//content/items/d5e02a0c1f2b4ec399823fdd3c2fdebd/info/thumbnail/topo_map_2.jpg' class=\"itemThumbnail\">\n",
       "                       </a>\n",
       "                    </div>\n",
       "\n",
       "                    <div class=\"item_right\"     style=\"float: none; width: auto; overflow: hidden;\">\n",
       "                        <a href='https://www.arcgis.com/home/item.html?id=d5e02a0c1f2b4ec399823fdd3c2fdebd' target='_blank'><b>Topographic</b>\n",
       "                        </a>\n",
       "                        <br/>Topographic map which includes boundaries, cities, water features, physiographic features, parks, landmarks, transportation, and buildings.<img src='https://www.arcgis.com/home/js/jsapi/esri/css/images/item_type_icons/maps16.png' style=\"vertical-align:middle;\">Web Map by esri\n",
       "                        <br/>Last Modified: June 19, 2017\n",
       "                        <br/>3 comments, 1,542,576 views\n",
       "                    </div>\n",
       "                </div>\n",
       "                "
      ],
      "text/plain": [
       "<Item title:\"Topographic\" type:Web Map owner:esri>"
      ]
     },
     "metadata": {},
     "output_type": "display_data"
    },
    {
     "data": {
      "text/html": [
       "<div class=\"item_container\" style=\"height: auto; overflow: hidden; border: 1px solid #cfcfcf; border-radius: 2px; background: #f6fafa; line-height: 1.21429em; padding: 10px;\">\n",
       "                    <div class=\"item_left\" style=\"width: 210px; float: left;\">\n",
       "                       <a href='https://www.arcgis.com/home/item.html?id=224ee2a012154bbf84bcc5b04ea35fb5' target='_blank'>\n",
       "                        <img src='https://www.arcgis.com/sharing/rest//content/items/224ee2a012154bbf84bcc5b04ea35fb5/info/thumbnail/topo_basemap.jpg' class=\"itemThumbnail\">\n",
       "                       </a>\n",
       "                    </div>\n",
       "\n",
       "                    <div class=\"item_right\"     style=\"float: none; width: auto; overflow: hidden;\">\n",
       "                        <a href='https://www.arcgis.com/home/item.html?id=224ee2a012154bbf84bcc5b04ea35fb5' target='_blank'><b>Community Maps Tour</b>\n",
       "                        </a>\n",
       "                        <br/>This map presents a tour of the core set of community maps, including the World Imagery, World Street Map, and World Topographic Map basemaps that are jointly developed by ESRI and others in the ArcGIS community.<img src='https://www.arcgis.com/home/js/jsapi/esri/css/images/item_type_icons/maps16.png' style=\"vertical-align:middle;\">Web Map by esri\n",
       "                        <br/>Last Modified: December 08, 2016\n",
       "                        <br/>2 comments, 42,303 views\n",
       "                    </div>\n",
       "                </div>\n",
       "                "
      ],
      "text/plain": [
       "<Item title:\"Community Maps Tour\" type:Web Map owner:esri>"
      ]
     },
     "metadata": {},
     "output_type": "display_data"
    },
    {
     "data": {
      "text/html": [
       "<div class=\"item_container\" style=\"height: auto; overflow: hidden; border: 1px solid #cfcfcf; border-radius: 2px; background: #f6fafa; line-height: 1.21429em; padding: 10px;\">\n",
       "                    <div class=\"item_left\" style=\"width: 210px; float: left;\">\n",
       "                       <a href='https://www.arcgis.com/home/item.html?id=f47a5a35be8c41f7890c1763f65a6d9f' target='_blank'>\n",
       "                        <img src='https://www.arcgis.com/sharing/rest//content/items/f47a5a35be8c41f7890c1763f65a6d9f/info/thumbnail/world_hillshade.jpg' class=\"itemThumbnail\">\n",
       "                       </a>\n",
       "                    </div>\n",
       "\n",
       "                    <div class=\"item_right\"     style=\"float: none; width: auto; overflow: hidden;\">\n",
       "                        <a href='https://www.arcgis.com/home/item.html?id=f47a5a35be8c41f7890c1763f65a6d9f' target='_blank'><b>World Hillshade</b>\n",
       "                        </a>\n",
       "                        <br/>This map portrays elevation as an artistic hillshade. This map is designed to be used as a backdrop for topographic, soil, hydro, landcover or other outdoor recreational maps.<img src='https://www.arcgis.com/home/js/jsapi/esri/css/images/item_type_icons/maps16.png' style=\"vertical-align:middle;\">Web Map by esri\n",
       "                        <br/>Last Modified: June 14, 2017\n",
       "                        <br/>0 comments, 46,881 views\n",
       "                    </div>\n",
       "                </div>\n",
       "                "
      ],
      "text/plain": [
       "<Item title:\"World Hillshade\" type:Web Map owner:esri>"
      ]
     },
     "metadata": {},
     "output_type": "display_data"
    },
    {
     "data": {
      "text/html": [
       "<div class=\"item_container\" style=\"height: auto; overflow: hidden; border: 1px solid #cfcfcf; border-radius: 2px; background: #f6fafa; line-height: 1.21429em; padding: 10px;\">\n",
       "                    <div class=\"item_left\" style=\"width: 210px; float: left;\">\n",
       "                       <a href='https://www.arcgis.com/home/item.html?id=00f90f3f3c9141e4bea329679b257142' target='_blank'>\n",
       "                        <img src='https://www.arcgis.com/sharing/rest//content/items/00f90f3f3c9141e4bea329679b257142/info/thumbnail/street_thumb_b2wm.jpg' class=\"itemThumbnail\">\n",
       "                       </a>\n",
       "                    </div>\n",
       "\n",
       "                    <div class=\"item_right\"     style=\"float: none; width: auto; overflow: hidden;\">\n",
       "                        <a href='https://www.arcgis.com/home/item.html?id=00f90f3f3c9141e4bea329679b257142' target='_blank'><b>Streets (with Relief)</b>\n",
       "                        </a>\n",
       "                        <br/>This web map provides a detailed vector basemap for the world featuring a classic Esri street map style including a relief map. <img src='https://www.arcgis.com/home/js/jsapi/esri/css/images/item_type_icons/maps16.png' style=\"vertical-align:middle;\">Web Map by esri\n",
       "                        <br/>Last Modified: November 20, 2017\n",
       "                        <br/>0 comments, 45,924 views\n",
       "                    </div>\n",
       "                </div>\n",
       "                "
      ],
      "text/plain": [
       "<Item title:\"Streets (with Relief)\" type:Web Map owner:esri>"
      ]
     },
     "metadata": {},
     "output_type": "display_data"
    },
    {
     "data": {
      "text/html": [
       "<div class=\"item_container\" style=\"height: auto; overflow: hidden; border: 1px solid #cfcfcf; border-radius: 2px; background: #f6fafa; line-height: 1.21429em; padding: 10px;\">\n",
       "                    <div class=\"item_left\" style=\"width: 210px; float: left;\">\n",
       "                       <a href='https://www.arcgis.com/home/item.html?id=8bf7167d20924cbf8e25e7b11c7c502c' target='_blank'>\n",
       "                        <img src='https://www.arcgis.com/sharing/rest//content/items/8bf7167d20924cbf8e25e7b11c7c502c/info/thumbnail/world_street_map.jpg' class=\"itemThumbnail\">\n",
       "                       </a>\n",
       "                    </div>\n",
       "\n",
       "                    <div class=\"item_right\"     style=\"float: none; width: auto; overflow: hidden;\">\n",
       "                        <a href='https://www.arcgis.com/home/item.html?id=8bf7167d20924cbf8e25e7b11c7c502c' target='_blank'><b>Streets</b>\n",
       "                        </a>\n",
       "                        <br/>Presents highway-level data for the world and street-level data for North America, Europe and more.<img src='https://www.arcgis.com/home/js/jsapi/esri/css/images/item_type_icons/maps16.png' style=\"vertical-align:middle;\">Web Map by esri\n",
       "                        <br/>Last Modified: December 07, 2016\n",
       "                        <br/>0 comments, 2,966,034 views\n",
       "                    </div>\n",
       "                </div>\n",
       "                "
      ],
      "text/plain": [
       "<Item title:\"Streets\" type:Web Map owner:esri>"
      ]
     },
     "metadata": {},
     "output_type": "display_data"
    },
    {
     "data": {
      "text/html": [
       "<div class=\"item_container\" style=\"height: auto; overflow: hidden; border: 1px solid #cfcfcf; border-radius: 2px; background: #f6fafa; line-height: 1.21429em; padding: 10px;\">\n",
       "                    <div class=\"item_left\" style=\"width: 210px; float: left;\">\n",
       "                       <a href='https://www.arcgis.com/home/item.html?id=39858979a6ba4cfd96005bbe9bd4cf82' target='_blank'>\n",
       "                        <img src='https://www.arcgis.com/sharing/rest//content/items/39858979a6ba4cfd96005bbe9bd4cf82/info/thumbnail/wi_firefly2.jpg' class=\"itemThumbnail\">\n",
       "                       </a>\n",
       "                    </div>\n",
       "\n",
       "                    <div class=\"item_right\"     style=\"float: none; width: auto; overflow: hidden;\">\n",
       "                        <a href='https://www.arcgis.com/home/item.html?id=39858979a6ba4cfd96005bbe9bd4cf82' target='_blank'><b>World Imagery (Firefly)</b>\n",
       "                        </a>\n",
       "                        <br/>This map features an alternative view of the World Imagery map designed to be used as a neutral imagery basemap, with de-saturated colors, that is useful for overlaying other brightly styled layers.  This map is in beta release.<img src='https://www.arcgis.com/home/js/jsapi/esri/css/images/item_type_icons/maps16.png' style=\"vertical-align:middle;\">Web Map by esri\n",
       "                        <br/>Last Modified: June 30, 2017\n",
       "                        <br/>0 comments, 3,573 views\n",
       "                    </div>\n",
       "                </div>\n",
       "                "
      ],
      "text/plain": [
       "<Item title:\"World Imagery (Firefly)\" type:Web Map owner:esri>"
      ]
     },
     "metadata": {},
     "output_type": "display_data"
    },
    {
     "data": {
      "text/html": [
       "<div class=\"item_container\" style=\"height: auto; overflow: hidden; border: 1px solid #cfcfcf; border-radius: 2px; background: #f6fafa; line-height: 1.21429em; padding: 10px;\">\n",
       "                    <div class=\"item_left\" style=\"width: 210px; float: left;\">\n",
       "                       <a href='https://www.arcgis.com/home/item.html?id=358ec1e175ea41c3bf5c68f0da11ae2b' target='_blank'>\n",
       "                        <img src='https://www.arcgis.com/sharing/rest//content/items/358ec1e175ea41c3bf5c68f0da11ae2b/info/thumbnail/dark_canvas_map.jpg' class=\"itemThumbnail\">\n",
       "                       </a>\n",
       "                    </div>\n",
       "\n",
       "                    <div class=\"item_right\"     style=\"float: none; width: auto; overflow: hidden;\">\n",
       "                        <a href='https://www.arcgis.com/home/item.html?id=358ec1e175ea41c3bf5c68f0da11ae2b' target='_blank'><b>Dark Gray Canvas</b>\n",
       "                        </a>\n",
       "                        <br/>This web map provides a detailed vector basemap for the world featuring a neutral background style with minimal colors, labels, and features. <img src='https://www.arcgis.com/home/js/jsapi/esri/css/images/item_type_icons/maps16.png' style=\"vertical-align:middle;\">Web Map by esri\n",
       "                        <br/>Last Modified: November 20, 2017\n",
       "                        <br/>0 comments, 1,149,639 views\n",
       "                    </div>\n",
       "                </div>\n",
       "                "
      ],
      "text/plain": [
       "<Item title:\"Dark Gray Canvas\" type:Web Map owner:esri>"
      ]
     },
     "metadata": {},
     "output_type": "display_data"
    }
   ],
   "source": [
    "from IPython.display import display\n",
    "\n",
    "#basemaps are of type Web Map\n",
    "basemaps = gis.content.search(\"tags:esri_basemap AND owner:esri\", item_type = \"web map\") \n",
    "for basemap in basemaps:\n",
    "    display(basemap)"
   ]
  },
  {
   "cell_type": "code",
   "execution_count": null,
   "metadata": {
    "collapsed": true
   },
   "outputs": [],
   "source": [
    "map3 = gis.map('New York City, NY')\n",
    "map3"
   ]
  },
  {
   "cell_type": "markdown",
   "metadata": {},
   "source": [
    "![basemap animation](http://esri.github.io/arcgis-python-api/notebooks/nbimages/02_MapWidget_Basemaps_03.gif)"
   ]
  },
  {
   "cell_type": "markdown",
   "metadata": {},
   "source": [
    "Let us **animate** our widget by cycling through basemaps and assigning it to the `basemap` property of the map widget."
   ]
  },
  {
   "cell_type": "code",
   "execution_count": null,
   "metadata": {
    "collapsed": true
   },
   "outputs": [],
   "source": [
    "import time\n",
    "\n",
    "for basemap in map3.basemaps:\n",
    "    map3.basemap = basemap\n",
    "    time.sleep(3)"
   ]
  },
  {
   "cell_type": "markdown",
   "metadata": {},
   "source": [
    "Some Esri partners and other users have also shared their basemaps for everyone to use. Let us search for them, but this time using `tags` property of the items:"
   ]
  },
  {
   "cell_type": "code",
   "execution_count": null,
   "metadata": {},
   "outputs": [
    {
     "data": {
      "text/html": [
       "<div class=\"item_container\" style=\"height: auto; overflow: hidden; border: 1px solid #cfcfcf; border-radius: 2px; background: #f6fafa; line-height: 1.21429em; padding: 10px;\">\n",
       "                    <div class=\"item_left\" style=\"width: 210px; float: left;\">\n",
       "                       <a href='http://www.arcgis.com/home/item.html?id=25b5b923fbbb49cf9a39150d3a3150d5' target='_blank'>\n",
       "                        <img src='http://www.arcgis.com/sharing/rest//content/items/25b5b923fbbb49cf9a39150d3a3150d5/info/thumbnail/watercolor.jpg' class=\"itemThumbnail\">\n",
       "                       </a>\n",
       "                    </div>\n",
       "\n",
       "                    <div class=\"item_right\"     style=\"float: none; width: auto; overflow: hidden;\">\n",
       "                        <a href='http://www.arcgis.com/home/item.html?id=25b5b923fbbb49cf9a39150d3a3150d5' target='_blank'><b>Stamen Watercolor</b>\n",
       "                        </a>\n",
       "                        <br/>Reminiscent of hand drawn maps, our watercolor maps apply raster effect area washes and organic edges over a paper texture to add warm pop to any map.<img src='http://www.arcgis.com/home/js/jsapi/esri/css/images/item_type_icons/maps16.png' style=\"vertical-align:middle;\">Web Map by dkensok\n",
       "                        <br/>Last Modified: January 02, 2015\n",
       "                        <br/>0 comments, 5,177 views\n",
       "                    </div>\n",
       "                </div>\n",
       "                "
      ],
      "text/plain": [
       "<Item title:\"Stamen Watercolor\" type:Web Map owner:dkensok>"
      ]
     },
     "metadata": {},
     "output_type": "display_data"
    },
    {
     "data": {
      "text/html": [
       "<div class=\"item_container\" style=\"height: auto; overflow: hidden; border: 1px solid #cfcfcf; border-radius: 2px; background: #f6fafa; line-height: 1.21429em; padding: 10px;\">\n",
       "                    <div class=\"item_left\" style=\"width: 210px; float: left;\">\n",
       "                       <a href='http://www.arcgis.com/home/item.html?id=9581fcab24064eb292c971a1a2972cc9' target='_blank'>\n",
       "                        <img src='http://www.arcgis.com/sharing/rest//content/items/9581fcab24064eb292c971a1a2972cc9/info/thumbnail/stamen_toner.png' class=\"itemThumbnail\">\n",
       "                       </a>\n",
       "                    </div>\n",
       "\n",
       "                    <div class=\"item_right\"     style=\"float: none; width: auto; overflow: hidden;\">\n",
       "                        <a href='http://www.arcgis.com/home/item.html?id=9581fcab24064eb292c971a1a2972cc9' target='_blank'><b>Stamen Toner</b>\n",
       "                        </a>\n",
       "                        <br/>These high-contrast B+W (black and white) maps are perfect for data mashups and exploring river meanders and coastal zones.<img src='http://www.arcgis.com/home/js/jsapi/esri/css/images/item_type_icons/maps16.png' style=\"vertical-align:middle;\">Web Map by dkensok\n",
       "                        <br/>Last Modified: January 02, 2015\n",
       "                        <br/>0 comments, 4,369 views\n",
       "                    </div>\n",
       "                </div>\n",
       "                "
      ],
      "text/plain": [
       "<Item title:\"Stamen Toner\" type:Web Map owner:dkensok>"
      ]
     },
     "metadata": {},
     "output_type": "display_data"
    },
    {
     "data": {
      "text/html": [
       "<div class=\"item_container\" style=\"height: auto; overflow: hidden; border: 1px solid #cfcfcf; border-radius: 2px; background: #f6fafa; line-height: 1.21429em; padding: 10px;\">\n",
       "                    <div class=\"item_left\" style=\"width: 210px; float: left;\">\n",
       "                       <a href='http://www.arcgis.com/home/item.html?id=93b06911c103408e80fe6dea0f621648' target='_blank'>\n",
       "                        <img src='http://www.arcgis.com/sharing/rest//content/items/93b06911c103408e80fe6dea0f621648/info/thumbnail/stamen_terrain.jpg' class=\"itemThumbnail\">\n",
       "                       </a>\n",
       "                    </div>\n",
       "\n",
       "                    <div class=\"item_right\"     style=\"float: none; width: auto; overflow: hidden;\">\n",
       "                        <a href='http://www.arcgis.com/home/item.html?id=93b06911c103408e80fe6dea0f621648' target='_blank'><b>Stamen Terrain</b>\n",
       "                        </a>\n",
       "                        <br/>Orient yourself with our terrain maps, featuring hill shading and natural vegetation colors. Available in the USA only.<img src='http://www.arcgis.com/home/js/jsapi/esri/css/images/item_type_icons/maps16.png' style=\"vertical-align:middle;\">Web Map by dkensok\n",
       "                        <br/>Last Modified: January 02, 2015\n",
       "                        <br/>0 comments, 4,219 views\n",
       "                    </div>\n",
       "                </div>\n",
       "                "
      ],
      "text/plain": [
       "<Item title:\"Stamen Terrain\" type:Web Map owner:dkensok>"
      ]
     },
     "metadata": {},
     "output_type": "display_data"
    }
   ],
   "source": [
    "stamenbasemaps = gis.content.search(\"tags:partner_basemap owner:dkensok stamen\", \n",
    "                                    item_type=\"web map\", max_items=3)\n",
    "for basemap in stamenbasemaps:\n",
    "    display(basemap)"
   ]
  },
  {
   "cell_type": "markdown",
   "metadata": {},
   "source": [
    "## Adding layers to the map\n",
    "An important functionality of the map widget is its ability to add and render GIS layers. To a layer call the `add_layer()` method and pass the layer object as an argument."
   ]
  },
  {
   "cell_type": "code",
   "execution_count": 89,
   "metadata": {},
   "outputs": [
    {
     "data": {
      "application/vnd.jupyter.widget-view+json": {
       "model_id": "0e86bc7af9c64947bd2591290ec1314b"
      }
     },
     "metadata": {},
     "output_type": "display_data"
    }
   ],
   "source": [
    "# Log into to GIS as we will save the widget as a web map later\n",
    "gis = GIS(\"https://www.arcgis.com\", \"arcgis_python\", \"P@ssword123\")\n",
    "usa_map = gis.map('USA', zoomlevel=4)  # you can specify the zoom level when creating a map\n",
    "usa_map"
   ]
  },
  {
   "cell_type": "markdown",
   "metadata": {},
   "source": [
    "![img: map with different layers](http://esri.github.io/arcgis-python-api/notebooks/nbimages/guide_mapping_webmap_01.png)"
   ]
  },
  {
   "cell_type": "markdown",
   "metadata": {},
   "source": [
    "Next, search from some layers to add to the map"
   ]
  },
  {
   "cell_type": "code",
   "execution_count": 70,
   "metadata": {},
   "outputs": [
    {
     "data": {
      "text/plain": [
       "[<Item title:\"USA Block Groups\" type:Feature Layer Collection owner:esri>,\n",
       " <Item title:\"USA Detailed Streams\" type:Feature Layer Collection owner:esri>,\n",
       " <Item title:\"USA Tracts\" type:Feature Layer Collection owner:esri>,\n",
       " <Item title:\"USA Core Based Statistical Area\" type:Feature Layer Collection owner:esri>,\n",
       " <Item title:\"World Regions\" type:Feature Layer Collection owner:esri>,\n",
       " <Item title:\"World Time Zones\" type:Feature Layer Collection owner:esri>,\n",
       " <Item title:\"World Continents\" type:Feature Layer Collection owner:esri>,\n",
       " <Item title:\"USA Freeway System\" type:Feature Layer Collection owner:esri>,\n",
       " <Item title:\"World Countries\" type:Feature Layer Collection owner:esri>,\n",
       " <Item title:\"USA Census Populated Places\" type:Feature Layer Collection owner:esri>]"
      ]
     },
     "execution_count": 70,
     "metadata": {},
     "output_type": "execute_result"
    }
   ],
   "source": [
    "flayer_search_result = gis.content.search(\"owner:esri\",\"Feature Layer\", outside_org=True)\n",
    "flayer_search_result"
   ]
  },
  {
   "cell_type": "markdown",
   "metadata": {},
   "source": [
    "### Adding `Item` objects to the map\n",
    "You can add `Item` objects to a map by passing it to the `add_layer()` method."
   ]
  },
  {
   "cell_type": "code",
   "execution_count": 90,
   "metadata": {
    "collapsed": true
   },
   "outputs": [],
   "source": [
    "world_timezones_item = flayer_search_result[5]\n",
    "usa_map.add_layer(world_timezones_item)"
   ]
  },
  {
   "cell_type": "markdown",
   "metadata": {},
   "source": [
    "### Adding layer objects to the map\n",
    "You can add a number of different layer objects such as `FeatureLayer`, `FeatureCollection`, `ImageryLayer`, `MapImageLayer` to the map. You can add a `FeatureLayer` as shown below:"
   ]
  },
  {
   "cell_type": "code",
   "execution_count": 85,
   "metadata": {},
   "outputs": [
    {
     "data": {
      "text/plain": [
       "<FeatureLayer url:\"https://services.arcgis.com/P3ePLMYs2RVChkJx/arcgis/rest/services/World_Countries/FeatureServer/0\">"
      ]
     },
     "execution_count": 85,
     "metadata": {},
     "output_type": "execute_result"
    }
   ],
   "source": [
    "world_countries_item = flayer_search_result[-2]\n",
    "world_countries_layer = world_countries_item.layers[0]\n",
    "world_countries_layer"
   ]
  },
  {
   "cell_type": "code",
   "execution_count": 91,
   "metadata": {
    "collapsed": true
   },
   "outputs": [],
   "source": [
    "usa_map.add_layer(world_countries_layer, options={'opacity':0.5})"
   ]
  },
  {
   "cell_type": "markdown",
   "metadata": {},
   "source": [
    "### Adding layers with custom symbology"
   ]
  },
  {
   "cell_type": "markdown",
   "metadata": {},
   "source": [
    "While calling the `add_layer()` method, you can specify a set of renderer instructions as a dictionary to the `options` parameter. The previous cell shows how you can set the transparency for a layer. The `opacity` value ranges from `0 - 1`, with `0` being fully transparent and `1` being fully opaque.\n",
    "\n",
    "You can make use of the **\"smart mapping\"** capability to render feature layers with symbology that varies based on an attribute field of that layer. The cell below adds the 'USA Freeway System' layer to the map and changes the width of the line segments based on the length of the freeway."
   ]
  },
  {
   "cell_type": "code",
   "execution_count": 94,
   "metadata": {},
   "outputs": [],
   "source": [
    "usa_freeways = flayer_search_result[-3].layers[0]\n",
    "usa_map.add_layer(usa_freeways, {'renderer':'ClassedSizeRenderer',\n",
    "                                'field_name':'DIST_MILES'})"
   ]
  },
  {
   "cell_type": "markdown",
   "metadata": {},
   "source": [
    "Refer to the guide on [smart mapping](python/guide/smart-mapping/) to learn more about this capability."
   ]
  },
  {
   "cell_type": "markdown",
   "metadata": {},
   "source": [
    "## Listing the layers added to the map\n",
    "You can list the layers added to be map using the `layers` property."
   ]
  },
  {
   "cell_type": "code",
   "execution_count": 95,
   "metadata": {},
   "outputs": [
    {
     "data": {
      "text/plain": [
       "[<FeatureLayer url:\"https://services.arcgis.com/P3ePLMYs2RVChkJx/arcgis/rest/services/World_Time_Zones/FeatureServer/0\">,\n",
       " <FeatureLayer url:\"https://services.arcgis.com/P3ePLMYs2RVChkJx/arcgis/rest/services/World_Countries/FeatureServer/0\">,\n",
       " <FeatureLayer url:\"https://services.arcgis.com/P3ePLMYs2RVChkJx/arcgis/rest/services/USA_Freeway_System/FeatureServer/1\">]"
      ]
     },
     "execution_count": 95,
     "metadata": {},
     "output_type": "execute_result"
    }
   ],
   "source": [
    "usa_map.layers"
   ]
  },
  {
   "cell_type": "markdown",
   "metadata": {},
   "source": [
    "## Removing layers from the map\n",
    "To remove one or more layers, call the `remove_layers()` method and pass a list of layers that you want removed. To get a list of valid layers that can be removed, call the `layers` property as shown in the previous cell.\n",
    "\n",
    "The code below shows how to remove the USA freeways layer"
   ]
  },
  {
   "cell_type": "code",
   "execution_count": 96,
   "metadata": {},
   "outputs": [
    {
     "data": {
      "text/plain": [
       "True"
      ]
     },
     "execution_count": 96,
     "metadata": {},
     "output_type": "execute_result"
    }
   ],
   "source": [
    "usa_map.remove_layers(layers=[usa_freeways])"
   ]
  },
  {
   "cell_type": "markdown",
   "metadata": {},
   "source": [
    "To remove all layers, call the `remove_layers()` method with any parameters."
   ]
  },
  {
   "cell_type": "markdown",
   "metadata": {},
   "source": [
    "## Drawing graphics on the map\n",
    "You can draw or sketch graphics on the map using the `draw()` method. For instance, you can draw and annotate rectangles, ellipses, arrow marks etc. as shown below:"
   ]
  },
  {
   "cell_type": "code",
   "execution_count": 97,
   "metadata": {
    "collapsed": true
   },
   "outputs": [],
   "source": [
    "usa_map.draw('rectangle')"
   ]
  },
  {
   "cell_type": "markdown",
   "metadata": {},
   "source": [
    "Now scroll to the map and draw a rectangle."
   ]
  },
  {
   "cell_type": "code",
   "execution_count": 98,
   "metadata": {
    "collapsed": true
   },
   "outputs": [],
   "source": [
    "usa_map.draw('uparrow')"
   ]
  },
  {
   "cell_type": "markdown",
   "metadata": {},
   "source": [
    "Refer to the API reference documentation for [draw](http://esri.github.io/arcgis-python-api/apidoc/html/arcgis.widgets.html#arcgis.widgets.MapView.draw) to get the list of supported shapes that you can sketch on the map."
   ]
  },
  {
   "cell_type": "markdown",
   "metadata": {},
   "source": [
    "### Drawing `FeatureSet` objects on the map\n",
    "In addition to sketches, you can send `FeatureSet` objects to the `draw()` method. This capability comes in handy as you can get a `FeatureSet` objects through various different operations using the Python API. For instance, you can get results of a `geocoding` operation as a `FeatureSet`, results of a `query()` operation on a `FeatureLayer` as a `FeatureSet` that can you visualize on the map using the `draw()` method.\n",
    "\n",
    "The snippet below geocodes the locations of all capitol buildings in the USA."
   ]
  },
  {
   "cell_type": "code",
   "execution_count": 99,
   "metadata": {},
   "outputs": [
    {
     "data": {
      "text/plain": [
       "{'xmax': -45.931619189999935,\n",
       " 'xmin': -152.89761918999994,\n",
       " 'ymax': 84.9,\n",
       " 'ymin': -14.084296843999937}"
      ]
     },
     "execution_count": 99,
     "metadata": {},
     "output_type": "execute_result"
    }
   ],
   "source": [
    "from arcgis.geocoding import geocode\n",
    "usa_extent = geocode('USA')[0]['extent']\n",
    "usa_extent"
   ]
  },
  {
   "cell_type": "code",
   "execution_count": 103,
   "metadata": {},
   "outputs": [
    {
     "data": {
      "text/plain": [
       "arcgis.features.feature.FeatureSet"
      ]
     },
     "execution_count": 103,
     "metadata": {},
     "output_type": "execute_result"
    }
   ],
   "source": [
    "usa_capitols_fset = geocode('Capitol', as_featureset=True)\n",
    "type(usa_capitols_fset)"
   ]
  },
  {
   "cell_type": "markdown",
   "metadata": {},
   "source": [
    "### Drawing with custom symbols\n",
    "While drawing a graphic, you can specify a custom symbol. Users of the Python API can make use of a custom [symbol selector web app](esri.github.io/arcgis-python-api/tools/symbol.html) and pick a symbol for point layers. For instance, you can pick a business marker symbol for the capitol buildings as shown below:"
   ]
  },
  {
   "cell_type": "code",
   "execution_count": 102,
   "metadata": {
    "collapsed": true
   },
   "outputs": [],
   "source": [
    "capitol_symbol = {\"angle\":0,\"xoffset\":0,\"yoffset\":0,\"type\":\"esriPMS\",\n",
    "                  \"url\":\"http://static.arcgis.com/images/Symbols/PeoplePlaces/esriBusinessMarker_57.png\",\n",
    "                  \"contentType\":\"image/png\",\"width\":24,\"height\":24}\n",
    "\n",
    "usa_map.draw(usa_capitols_fset, symbol=capitol_symbol)"
   ]
  },
  {
   "cell_type": "markdown",
   "metadata": {},
   "source": [
    "## Clearing the drawn graphics\n",
    "You can clear all drawn graphics from the map by calling the `clear_graphics()` method."
   ]
  },
  {
   "cell_type": "code",
   "execution_count": null,
   "metadata": {
    "collapsed": true
   },
   "outputs": [],
   "source": [
    "usa_map.clear_graphics()"
   ]
  },
  {
   "cell_type": "markdown",
   "metadata": {},
   "source": [
    "## Saving the map as a web map\n",
    "Starting with the Python API version `1.3`, you can save the map widget as a web map in your GIS. This process persistes all the basemaps, layers added with or without your custom symbology including smart mapping, pop-ups, extent, graphics drawn with or without custom symbols as layers in your web map.\n",
    "\n",
    "To save the map, call the `save()` method. This method creates and returns a new Web Map `Item` object. As parameters, you can specify all valid Item properties as shown below:"
   ]
  },
  {
   "cell_type": "code",
   "execution_count": 104,
   "metadata": {},
   "outputs": [
    {
     "data": {
      "text/html": [
       "<div class=\"item_container\" style=\"height: auto; overflow: hidden; border: 1px solid #cfcfcf; border-radius: 2px; background: #f6fafa; line-height: 1.21429em; padding: 10px;\">\n",
       "                    <div class=\"item_left\" style=\"width: 210px; float: left;\">\n",
       "                       <a href='https://geosaurus.maps.arcgis.com/home/item.html?id=6a5ea05481e7498db2019429b8e98213' target='_blank'>\n",
       "                        <img src='data:image/png;base64,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' width='200' height='133' class=\"itemThumbnail\">\n",
       "                       </a>\n",
       "                    </div>\n",
       "\n",
       "                    <div class=\"item_right\"     style=\"float: none; width: auto; overflow: hidden;\">\n",
       "                        <a href='https://geosaurus.maps.arcgis.com/home/item.html?id=6a5ea05481e7498db2019429b8e98213' target='_blank'><b>USA time zones and capitols</b>\n",
       "                        </a>\n",
       "                        <br/>Jupyter notebook widget saved as a web map<img src='https://geosaurus.maps.arcgis.com/home/js/jsapi/esri/css/images/item_type_icons/maps16.png' style=\"vertical-align:middle;\">Web Map by arcgis_python\n",
       "                        <br/>Last Modified: December 05, 2017\n",
       "                        <br/>0 comments, 0 views\n",
       "                    </div>\n",
       "                </div>\n",
       "                "
      ],
      "text/plain": [
       "<Item title:\"USA time zones and capitols\" type:Web Map owner:arcgis_python>"
      ]
     },
     "execution_count": 104,
     "metadata": {},
     "output_type": "execute_result"
    }
   ],
   "source": [
    "webmap_properties = {'title':'USA time zones and capitols',\n",
    "                    'snippet': 'Jupyter notebook widget saved as a web map',\n",
    "                    'tags':['automation', 'python']}\n",
    "\n",
    "webmap_item = usa_map.save(webmap_properties, thumbnail='./webmap_thumbnail.png', folder='webmaps')\n",
    "webmap_item"
   ]
  },
  {
   "cell_type": "markdown",
   "metadata": {},
   "source": [
    "You can use this web map back in the notebook, or in any ArcGIS app capabale of rendering web maps. To learn how you can use this read this web map using the Python API, refer to the guide titled [working with web maps and scenes](python/guide/working-with-web-maps-and-web-scenes/)"
   ]
  }
 ],
 "metadata": {
  "anaconda-cloud": {},
  "kernelspec": {
   "display_name": "Python 3",
   "language": "python",
   "name": "python3"
  },
  "language_info": {
   "codemirror_mode": {
    "name": "ipython",
    "version": 3
   },
   "file_extension": ".py",
   "mimetype": "text/x-python",
   "name": "python",
   "nbconvert_exporter": "python",
   "pygments_lexer": "ipython3",
   "version": "3.6.1"
  }
 },
 "nbformat": 4,
 "nbformat_minor": 1
}
