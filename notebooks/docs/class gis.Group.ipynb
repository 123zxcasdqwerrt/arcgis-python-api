{
 "cells": [
  {
   "cell_type": "markdown",
   "metadata": {},
   "source": [
    "##The Group class"
   ]
  },
  {
   "cell_type": "markdown",
   "metadata": {},
   "source": [
    "<hr/>"
   ]
  },
  {
   "cell_type": "markdown",
   "metadata": {},
   "source": [
    "##<b>class gis.Group<b>(<i>portal, groupid, groupdict=None)</i>)"
   ]
  },
  {
   "cell_type": "markdown",
   "metadata": {},
   "source": [
    "Bases: builtins.dict\n",
    "\n",
    "Represents a group (for example, San Bernardino Fires) within the GIS (ArcGIS Online or Portal for ArcGIS)\n",
    "\n",
    "An instance of this class is not created directly by users. It is returned from the gis.groups GroupManager object as a result of an create() or search() operation."
   ]
  },
  {
   "cell_type": "code",
   "execution_count": 4,
   "metadata": {
    "collapsed": true
   },
   "outputs": [],
   "source": [
    "gis = GIS()\n",
    "group = gis.groups.search('Python')[0]"
   ]
  },
  {
   "cell_type": "markdown",
   "metadata": {},
   "source": [
    "The group object has a rich representation in the IPython notebook environment:"
   ]
  },
  {
   "cell_type": "code",
   "execution_count": 5,
   "metadata": {
    "collapsed": false
   },
   "outputs": [
    {
     "data": {
      "text/html": [
       "<div class=\"item_container\">\n",
       "                    <div class=\"item_left\">\n",
       "                       <a href='http://www.arcgis.com/home/group.html?id=34b4169ba106483285240c0e892fa2f0' target='_blank'>\n",
       "                        <img src='http://www.arcgis.com/sharing/rest/community/groups/34b4169ba106483285240c0e892fa2f0/info/index.jpg' class=\"itemThumbnail\">\n",
       "                       </a>\n",
       "                    </div>\n",
       "        \n",
       "                    <div class=\"item_right\">\n",
       "                        <a href='http://www.arcgis.com/home/group.html?id=34b4169ba106483285240c0e892fa2f0' target='_blank'><b>Advanced Map Automation with Python - FED UC 2016</b>\n",
       "                        </a>\n",
       "                        <br>\n",
       "                        <br><b>Summary</b>: Scripts and slides from tech workshop 'Advanced Map Automation with Python' at the 2016 FED UC\n",
       "                        <br><b>Description</b>: None\n",
       "                        <br><b>Owner</b>: jskinner_CountySandbox\n",
       "                        <br><b>Created</b>: January 20, 2016\n",
       "                        \n",
       "                    </div>\n",
       "                </div>\n",
       "                "
      ],
      "text/plain": [
       "{}"
      ]
     },
     "execution_count": 5,
     "metadata": {},
     "output_type": "execute_result"
    }
   ],
   "source": [
    "group"
   ]
  },
  {
   "cell_type": "markdown",
   "metadata": {},
   "source": [
    "The Group object is a Python dict. User properties can be accessed using subscript notation:"
   ]
  },
  {
   "cell_type": "code",
   "execution_count": 6,
   "metadata": {
    "collapsed": false
   },
   "outputs": [
    {
     "data": {
      "text/plain": [
       "'Advanced Map Automation with Python - FED UC 2016'"
      ]
     },
     "execution_count": 6,
     "metadata": {},
     "output_type": "execute_result"
    }
   ],
   "source": [
    "group['title']"
   ]
  },
  {
   "cell_type": "markdown",
   "metadata": {},
   "source": [
    "The group properties can also be accessed using the dot(.) notation, as properties of the class:"
   ]
  },
  {
   "cell_type": "code",
   "execution_count": 8,
   "metadata": {
    "collapsed": false
   },
   "outputs": [
    {
     "data": {
      "text/plain": [
       "\"Scripts and slides from tech workshop 'Advanced Map Automation with Python' at the 2016 FED UC\""
      ]
     },
     "execution_count": 8,
     "metadata": {},
     "output_type": "execute_result"
    }
   ],
   "source": [
    "group.snippet"
   ]
  },
  {
   "cell_type": "markdown",
   "metadata": {},
   "source": [
    " <hr>"
   ]
  },
  {
   "cell_type": "markdown",
   "metadata": {},
   "source": [
    "###add_users(<i>usernames</i>)"
   ]
  },
  {
   "cell_type": "markdown",
   "metadata": {},
   "source": [
    "Adds users to this group."
   ]
  },
  {
   "cell_type": "markdown",
   "metadata": {},
   "source": [
    "<div class=\"alert alert-success\">\n",
    "This method will only work if the user for the Portal object is either an administrator for the entire\n",
    "Portal or the owner of the group.\n",
    "</div>"
   ]
  },
  {
   "cell_type": "markdown",
   "metadata": {},
   "source": [
    "**Arguments:**\n",
    "<table border=\"1\" class=\"docutils\">\n",
    "<colgroup>\n",
    "<col width=\"27%\">\n",
    "<col width=\"73%\">\n",
    "</colgroup>\n",
    "<tbody valign=\"top\">\n",
    "<tr class=\"row-odd\"><td><strong>Argument</strong></td>\n",
    "<td><strong>Description</strong></td>\n",
    "</tr>\n",
    "<tr class=\"row-even\"><td>usernames</td>\n",
    "<td>required string, comma-separated users</td>\n",
    "</tr>\n",
    "</tbody>\n",
    "</table>\n",
    "\n",
    "**Returns:**\tA dictionary with a key of “not_added” which contains the users that were not added to the group."
   ]
  },
  {
   "cell_type": "markdown",
   "metadata": {},
   "source": [
    "<hr>"
   ]
  },
  {
   "cell_type": "markdown",
   "metadata": {},
   "source": [
    "###invite_users(<i>usernames, role='group_member', expiration=10080</i>)"
   ]
  },
  {
   "cell_type": "markdown",
   "metadata": {},
   "source": [
    "Invites users to this group."
   ]
  },
  {
   "cell_type": "markdown",
   "metadata": {},
   "source": [
    "<div class=\"alert alert-success\">\n",
    "A user who is invited to this group will see a list of invitations in the “Groups” tab of portal listing invitations. The user can either accept or reject the invitation.\n",
    "\n",
    "The user executing the command must be group owner\n",
    "\n",
    "</div>"
   ]
  },
  {
   "cell_type": "markdown",
   "metadata": {},
   "source": [
    "**Arguments:**\n",
    "<table border=\"1\" class=\"docutils\">\n",
    "<colgroup>\n",
    "<col width=\"22%\">\n",
    "<col width=\"78%\">\n",
    "</colgroup>\n",
    "<tbody valign=\"top\">\n",
    "<tr class=\"row-odd\"><td><strong>Argument</strong></td>\n",
    "<td><strong>Description</strong></td>\n",
    "</tr>\n",
    "<tr class=\"row-even\"><td>usernames:</td>\n",
    "<td>a required string list of users to invite</td>\n",
    "</tr>\n",
    "<tr class=\"row-odd\"><td>role:</td>\n",
    "<td>an optional string, either group_member or group_admin</td>\n",
    "</tr>\n",
    "<tr class=\"row-even\"><td>expiration:</td>\n",
    "<td>an optional int, specifies how long the invitation is\n",
    "valid for in minutes.</td>\n",
    "</tr>\n",
    "</tbody>\n",
    "</table>\n",
    "\n",
    "**Returns:**\n",
    "a boolean that indicates whether the call succeeded."
   ]
  },
  {
   "cell_type": "markdown",
   "metadata": {},
   "source": [
    "<hr>"
   ]
  },
  {
   "cell_type": "markdown",
   "metadata": {},
   "source": [
    "###remove_users(<i>usernames</i>)"
   ]
  },
  {
   "cell_type": "markdown",
   "metadata": {},
   "source": [
    "<div class=\"alert alert-success\">\n",
    "This method will only work if the user for the Portal object is either an administrator for the entire\n",
    "Portal or the owner of the group.\n",
    "</div>"
   ]
  },
  {
   "cell_type": "markdown",
   "metadata": {},
   "source": [
    "**Arguments:**\n",
    "<table border=\"1\" class=\"docutils\">\n",
    "<colgroup>\n",
    "<col width=\"27%\">\n",
    "<col width=\"73%\">\n",
    "</colgroup>\n",
    "<tbody valign=\"top\">\n",
    "<tr class=\"row-odd\"><td><strong>Argument</strong></td>\n",
    "<td><strong>Description</strong></td>\n",
    "</tr>\n",
    "<tr class=\"row-even\"><td>usernames</td>\n",
    "<td>required string, comma-separated list of users</td>\n",
    "</tr>\n",
    "</tbody>\n",
    "</table>\n",
    "\n",
    "**Returns:**\n",
    "    A dictionary with a key of “notRemoved” which contains the users that were not removed from the group."
   ]
  },
  {
   "cell_type": "markdown",
   "metadata": {},
   "source": [
    "<hr>"
   ]
  },
  {
   "cell_type": "markdown",
   "metadata": {},
   "source": [
    "###reassign_to(<i>target_owner</i>)"
   ]
  },
  {
   "cell_type": "markdown",
   "metadata": {},
   "source": [
    "Reassigns this group to another owner."
   ]
  },
  {
   "cell_type": "markdown",
   "metadata": {},
   "source": [
    "**Arguments:**\n",
    "<table border=\"1\" class=\"docutils\">\n",
    "<colgroup>\n",
    "<col width=\"22%\">\n",
    "<col width=\"78%\">\n",
    "</colgroup>\n",
    "<tbody valign=\"top\">\n",
    "<tr class=\"row-odd\"><td><strong>Argument</strong></td>\n",
    "<td><strong>Description</strong></td>\n",
    "</tr>\n",
    "<tr class=\"row-even\"><td>target_owner</td>\n",
    "<td>required string, username of new group owner</td>\n",
    "</tr>\n",
    "</tbody>\n",
    "</table>\n",
    "\n",
    "**Returns:**\n",
    "a boolean, indicating success"
   ]
  },
  {
   "cell_type": "markdown",
   "metadata": {},
   "source": [
    "<hr>"
   ]
  },
  {
   "cell_type": "markdown",
   "metadata": {},
   "source": [
    "###leave()"
   ]
  },
  {
   "cell_type": "markdown",
   "metadata": {},
   "source": [
    "Removes the logged in user from the specified group."
   ]
  },
  {
   "cell_type": "markdown",
   "metadata": {},
   "source": [
    "**Requires:**\n",
    "User must be logged in.\n",
    "\n",
    "**Arguments:**\n",
    "None.\n",
    "\n",
    "**Returns:**\n",
    "    a boolean indicating whether the operation was successful."
   ]
  },
  {
   "cell_type": "markdown",
   "metadata": {},
   "source": [
    "<hr>"
   ]
  },
  {
   "cell_type": "markdown",
   "metadata": {
    "collapsed": false
   },
   "source": [
    "###update(<i>(title=None, tags=None, description=None, snippet=None, access=None, is_invitation_only=None, sort_field=None, sort_order=None, is_view_only=None, thumbnail=None)</i>)"
   ]
  },
  {
   "cell_type": "markdown",
   "metadata": {},
   "source": [
    "Updates this group’s properties."
   ]
  },
  {
   "cell_type": "markdown",
   "metadata": {},
   "source": [
    "<div class=\"alert alert-success\">\n",
    "Only pass in values for the arguments you want to update. All other properties will be left as they are. If you want to update description, then only provide the description argument.\n",
    "</div>"
   ]
  },
  {
   "cell_type": "markdown",
   "metadata": {},
   "source": [
    "**Arguments:**\n",
    "<table border=\"1\" class=\"docutils\">\n",
    "<colgroup>\n",
    "<col width=\"24%\">\n",
    "<col width=\"76%\">\n",
    "</colgroup>\n",
    "<tbody valign=\"top\">\n",
    "<tr class=\"row-odd\"><td><strong>Argument</strong></td>\n",
    "<td><strong>Description</strong></td>\n",
    "</tr>\n",
    "<tr class=\"row-even\"><td>title</td>\n",
    "<td>optional string, name of the group</td>\n",
    "</tr>\n",
    "<tr class=\"row-odd\"><td>tags</td>\n",
    "<td>optional string, comma-delimited list of tags</td>\n",
    "</tr>\n",
    "<tr class=\"row-even\"><td>description</td>\n",
    "<td>optional string, describes group in detail</td>\n",
    "</tr>\n",
    "<tr class=\"row-odd\"><td>snippet</td>\n",
    "<td>optional string, &lt;250 characters summarizes group</td>\n",
    "</tr>\n",
    "<tr class=\"row-even\"><td>access</td>\n",
    "<td>optional string, can be private, public, or org</td>\n",
    "</tr>\n",
    "<tr class=\"row-odd\"><td>thumbnail</td>\n",
    "<td>optional string, URL or file location to group image</td>\n",
    "</tr>\n",
    "<tr class=\"row-even\"><td>is_invitation_only</td>\n",
    "<td>optional boolean, defines whether users can join by\n",
    "request.</td>\n",
    "</tr>\n",
    "<tr class=\"row-odd\"><td>sort_field</td>\n",
    "<td>optional string, specifies how shared items with the\n",
    "group are sorted.</td>\n",
    "</tr>\n",
    "<tr class=\"row-even\"><td>sort_order</td>\n",
    "<td>optional string, asc or desc for ascending or descending.</td>\n",
    "</tr>\n",
    "<tr class=\"row-odd\"><td>is_view_only</td>\n",
    "<td>optional boolean, defines whether the group is searchable</td>\n",
    "</tr>\n",
    "</tbody>\n",
    "</table>\n",
    "\n",
    "\n",
    "**Returns:**\ta boolean indicating success"
   ]
  },
  {
   "cell_type": "markdown",
   "metadata": {
    "collapsed": false
   },
   "source": [
    "<hr>"
   ]
  },
  {
   "cell_type": "markdown",
   "metadata": {},
   "source": [
    "###delete()"
   ]
  },
  {
   "cell_type": "markdown",
   "metadata": {
    "collapsed": false
   },
   "source": [
    "Deletes this group."
   ]
  },
  {
   "cell_type": "markdown",
   "metadata": {},
   "source": [
    "**Arguments:**\n",
    "None\n",
    "\n",
    "**Returns:**\ta boolean indicating whether the operation succeeded or failed."
   ]
  },
  {
   "cell_type": "markdown",
   "metadata": {
    "collapsed": false
   },
   "source": [
    "<hr>"
   ]
  },
  {
   "cell_type": "markdown",
   "metadata": {},
   "source": [
    "###get_thumbnail()"
   ]
  },
  {
   "cell_type": "markdown",
   "metadata": {},
   "source": [
    "Returns the bytes that make up the thumbnail for this group.\n",
    "\n",
    "**Arguments:**\n",
    "None.\n",
    "\n",
    "**Returns:**\n",
    "bytes that represent the image.\n",
    "\n",
    "**Example:**\n",
    "<code>\n",
    "response = group.get_thumbnail()\n",
    "f = open(filename, 'wb')\n",
    "f.write(response)\n",
    "</code>"
   ]
  },
  {
   "cell_type": "markdown",
   "metadata": {},
   "source": [
    "<hr>"
   ]
  },
  {
   "cell_type": "markdown",
   "metadata": {},
   "source": [
    "###get_thumbnail_link()"
   ]
  },
  {
   "cell_type": "markdown",
   "metadata": {
    "collapsed": false
   },
   "source": [
    "Returns the URL to the thumbnail image"
   ]
  },
  {
   "cell_type": "markdown",
   "metadata": {},
   "source": [
    "<hr>"
   ]
  },
  {
   "cell_type": "markdown",
   "metadata": {},
   "source": [
    "###get_members()"
   ]
  },
  {
   "cell_type": "markdown",
   "metadata": {
    "collapsed": false
   },
   "source": [
    "Returns members of this group."
   ]
  },
  {
   "cell_type": "markdown",
   "metadata": {},
   "source": [
    "<div class=\"alert alert-success\">This method must be executed as an administrator. This method also can not be undone. The changes are immediately made and permanent.</div>"
   ]
  },
  {
   "cell_type": "markdown",
   "metadata": {},
   "source": [
    "**Arguments:**\n",
    "None.\n",
    "\n",
    "**Returns:**\n",
    "    a dictionary with keys: owner, admins, and users.\n",
    "<table border=\"1\" class=\"last docutils\">\n",
    "<colgroup>\n",
    "<col width=\"22%\">\n",
    "<col width=\"78%\">\n",
    "</colgroup>\n",
    "<tbody valign=\"top\">\n",
    "<tr class=\"row-odd\"><td><strong>Key</strong></td>\n",
    "<td><strong>Value</strong></td>\n",
    "</tr>\n",
    "<tr class=\"row-even\"><td>owner</td>\n",
    "<td>string value, the group’s owner</td>\n",
    "</tr>\n",
    "<tr class=\"row-odd\"><td>admins</td>\n",
    "<td>list of strings, typically this is the same as the owner</td>\n",
    "</tr>\n",
    "<tr class=\"row-even\"><td>users</td>\n",
    "<td>list of strings, the members of the group</td>\n",
    "</tr>\n",
    "</tbody>\n",
    "</table>"
   ]
  }
 ],
 "metadata": {
  "kernelspec": {
   "display_name": "Python 3",
   "language": "python",
   "name": "python3"
  },
  "language_info": {
   "codemirror_mode": {
    "name": "ipython",
    "version": 3
   },
   "file_extension": ".py",
   "mimetype": "text/x-python",
   "name": "python",
   "nbconvert_exporter": "python",
   "pygments_lexer": "ipython3",
   "version": "3.4.3"
  }
 },
 "nbformat": 4,
 "nbformat_minor": 0
}
