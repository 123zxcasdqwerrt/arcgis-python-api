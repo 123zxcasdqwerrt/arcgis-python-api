{
 "cells": [
  {
   "cell_type": "markdown",
   "metadata": {},
   "source": [
    "# System requirements\n",
    "\n",
    "## Operating System \n",
    "The ArcGIS API for Python is compatible with 32-bit and 64-bit versions of Windows, macOS, and Linux.\n",
    "\n",
    "## Python Version\n",
    "Python 3.5 or later is required to use the ArcGIS API for Python.\n",
    "\n",
    "## Dependencies\n",
    "\n",
    "The arcgis package can function with only the [six](https://pypi.python.org/pypi/six) dependency installed in your python environment. However, there are additional dependencies needed to use specific features of the arcgis package, some of which may have been included during your pip or conda install. Here is a full list of all dependencies:\n",
    "\n",
    "* [six](https://pypi.python.org/pypi/six)\n",
    "* [pandas](https://pandas.pydata.org/)\n",
    "* [numpy](http://www.numpy.org/)\n",
    "* [pyshp](https://pypi.python.org/pypi/pyshp/)\n",
    "* [matplotlib](https://matplotlib.org/)\n",
    "* [notebook](https://ipython.org/notebook.html)\n",
    "* [ipywidgets >=5.2.2,<7](https://ipywidgets.readthedocs.io/en/stable/)\n",
    "* [widgetsnbextension >=1.2.6,<3](https://pypi.python.org/pypi/widgetsnbextension)\n",
    "* [keyring](https://pypi.python.org/pypi/keyring/10.6.0)\n",
    "* [winkerberos](https://pypi.python.org/pypi/winkerberos/0.7.0) (Windows only)"
   ]
  }
 ],
 "metadata": {
  "kernelspec": {
   "display_name": "Python 3",
   "language": "python",
   "name": "python3"
  },
  "language_info": {
   "codemirror_mode": {
    "name": "ipython",
    "version": 3
   },
   "file_extension": ".py",
   "mimetype": "text/x-python",
   "name": "python",
   "nbconvert_exporter": "python",
   "pygments_lexer": "ipython3",
   "version": "3.6.4"
  }
 },
 "nbformat": 4,
 "nbformat_minor": 1
}
