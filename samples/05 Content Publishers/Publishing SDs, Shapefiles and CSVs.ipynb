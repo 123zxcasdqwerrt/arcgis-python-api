{
 "cells": [
  {
   "cell_type": "markdown",
   "metadata": {},
   "source": [
    "# Publishing scenarios\n",
    "\n",
    "Publishing your data can be accomplished in two simple steps:\n",
    "1. Add the local data as an item to the portal\n",
    "2. Call the publish() method on the item\n",
    "\n",
    "This sample notebook shows how different types of GIS datasets can be added to the GIS, and published as web layers."
   ]
  },
  {
   "cell_type": "code",
   "execution_count": 1,
   "metadata": {
    "collapsed": false
   },
   "outputs": [],
   "source": [
    "from IPython.display import display\n",
    "from arcgis.gis import *\n",
    "gis = GIS(\"https://deldev.maps.arcgis.com\", \"demo_deldev\", \"P@ssword123\")"
   ]
  },
  {
   "cell_type": "markdown",
   "metadata": {},
   "source": [
    "\n",
    "# Publish all the service definition files in a folder\n",
    "\n",
    "The sample below lists all the service definition (.sd) files in a data directory and publishes them as web layers. To publish a service definition file, we first add the .sd file to the Portal, and then call the publish() method:"
   ]
  },
  {
   "cell_type": "code",
   "execution_count": 2,
   "metadata": {
    "collapsed": false
   },
   "outputs": [
    {
     "name": "stdout",
     "output_type": "stream",
     "text": [
      "Number of .sd files found: 2\n"
     ]
    }
   ],
   "source": [
    "# path relative to this notebook\n",
    "data_dir = \".\\data\\\\\"\n",
    "\n",
    "#Get list of all files\n",
    "file_list = os.listdir(data_dir)\n",
    "\n",
    "#Filter and get only .sd files\n",
    "sd_file_list = [x for x in file_list if x.endswith(\".sd\")]\n",
    "print(\"Number of .sd files found: \" + str(len(sd_file_list)))"
   ]
  },
  {
   "cell_type": "code",
   "execution_count": 3,
   "metadata": {
    "collapsed": false
   },
   "outputs": [
    {
     "name": "stdout",
     "output_type": "stream",
     "text": [
      "{'itemId': 'a262f1c40afb4763b6b3f8b69a3a05e6', 'statusMessage': 'Job Status for jobId: 0542ec33-0ea4-47cf-9604-c6b4e4c5e36d', 'status': 'processing'}\n"
     ]
    },
    {
     "data": {
      "text/html": [
       "<div class=\"item_container\" style=\"height: auto; overflow: hidden; border: 1px solid #cfcfcf; border-radius: 2px; background: #f6fafa; line-height: 1.21429em; padding: 10px;\">\n",
       "                    <div class=\"item_left\" style=\"width: 210px; float: left;\">\n",
       "                       <a href='https://deldev.maps.arcgis.com/home/item.html?id=a262f1c40afb4763b6b3f8b69a3a05e6' target='_blank'>\n",
       "                        <img src='data:image/png;base64,/9j/4AAQSkZJRgABAQEAAAAAAAD/2wBDAAgGBgcGBQgHBwcJCQgKDBQNDAsLDBkSEw8UHRofHh0aHBwgJC4nICIsIxwcKDcpLDAxNDQ0Hyc5PTgyPC4zNDL/2wBDAQkJCQwLDBgNDRgyIRwhMjIyMjIyMjIyMjIyMjIyMjIyMjIyMjIyMjIyMjIyMjIyMjIyMjIyMjIyMjIyMjIyMjL/wAARCACFAMgDAREAAhEBAxEB/8QAHwAAAQUBAQEBAQEAAAAAAAAAAAECAwQFBgcICQoL/8QAtRAAAgEDAwIEAwUFBAQAAAF9AQIDAAQRBRIhMUEGE1FhByJxFDKBkaEII0KxwRVS0fAkM2JyggkKFhcYGRolJicoKSo0NTY3ODk6Q0RFRkdISUpTVFVWV1hZWmNkZWZnaGlqc3R1dnd4eXqDhIWGh4iJipKTlJWWl5iZmqKjpKWmp6ipqrKztLW2t7i5usLDxMXGx8jJytLT1NXW19jZ2uHi4+Tl5ufo6erx8vP09fb3+Pn6/8QAHwEAAwEBAQEBAQEBAQAAAAAAAAECAwQFBgcICQoL/8QAtREAAgECBAQDBAcFBAQAAQJ3AAECAxEEBSExBhJBUQdhcRMiMoEIFEKRobHBCSMzUvAVYnLRChYkNOEl8RcYGRomJygpKjU2Nzg5OkNERUZHSElKU1RVVldYWVpjZGVmZ2hpanN0dXZ3eHl6goOEhYaHiImKkpOUlZaXmJmaoqOkpaanqKmqsrO0tba3uLm6wsPExcbHyMnK0tPU1dbX2Nna4uPk5ebn6Onq8vP09fb3+Pn6/9oADAMBAAIRAxEAPwD28Anqa6Dj1Y7AxikMy79CsoOGx6gcCsKibZaZGsmCowRx371ztOJqpEhnO3DZIJ/IU78ysXfQGbcFAGOOcU29AJhtjKjjB5P0ocUgsOQk8nLdzxjio5L7isMZwcgH86za1sKwiThAOM89cU76XEStKCOOlJsLjHPI4pARAKoJzg9BzzmgBGIABxnPr0prR6jIxk9+c9c4q/QETL9zjoOadhtEbR7lINJMLkCR+U3y5yexJpti1RftSS67gQSASSePyoVr6h1LD38iz+SluXfsM4BGOTmt7osnglmk/wBbB5XH9/dTAnoAO9AC0AMfqn+9/Q0AVVlHGa6nE4FMZPIUG48xkduOawquS+E1jZ7leORCCpyy9cN2/GslUaX7zYprsQzRQ7NwV1J4C1ouWS90n1IAMAgEgfl+GKwlGzuWpaWHbuOQN3X/ABpRbu7l30sPSTjCLkk96E0XcsuzY6Z4zx1AqmxsgZgvIBLH25rFtXJGqdjct14OKViWORDMSzM6hWwqg9veneKWwhjzwxkr5+0r1Ldv05qopPWw0hscyho4xdZl6E7OT/hTul0GWnD5wSTgZLGs5asCAAOCC+3I6Ht2pp6ARWzFZDA7bmTpu7iquUWgd2AcjjI9qTEyNwTgjt2xxQnbRgKXCkMd3ynoM0pIGa8caukbkfMBwe4rohshrYdJF5iFSxwaoGgRTEcFiwPqelALQkHWgYtAEMnzNGMfKG59+DTAofxehrtPL6kqtkbD0NRJGkWUZYpYzv2/J0HT1rz50ZX0OhSRVWdlcCZgUHRvT2NYW7GhOgWUYbtTVSS2ZLihDbPk7RwK6oLniQ9GA3IgJAAI61hKWtkax2JYpDyTj5uM1bdmUnfUjYNywO3HH3OMVC5bXYeYjcISzZIxgAYpSsthMliPyjGeetQ97CJTZq5aRpnXdgYU1orJajIY4EhlDNI5XP8AGc+lSveYIc8sZUsJUIPzZJHShwl2Cw0YAO7j3zUoRDMh8yKRQA6NyT0I71SelmUTYLY67h70+gD3GUyCT2P1qWIYSODnoccUeQGjaT7lCmtaU76DTLdbFCNgjBoARTtwGHXvQIbPIBC2C2SMDAPWgLlWKC6wnmzOh3dAVPv6fhTGQZ4ruPKuKGIOaLDTLKsGXB5BrJo2jIz7uzKliq/uz1+lclSn16GsWUlzCxYZZBk49PpXLo2arU0La6VskHgda0oz5JWZM1dDpkD/AHSMSfdIHWumVJOVzNSdrFU7l4AGM8D6VzOLcrI0UrIcZFfJI3Y6A1HNpYu40DcCUwWAzx6VPQBYn6Y61JJa3EjjimMEjBTfjLKeDnpVLRaDGuwALKaliISzFjgEnimgQgUkbT35P1zQn3GOcYkPTBPFMCZlxbDaQcHJ4o6AVwCM8cEj8KFuCNO1TdCpB+YHmtaaVhoudq2KKhtXkKu9xMrD+FWGOv0oAkitjHKWaeWQYwFcgge9AFj3oAikY70+X+L+lK7Aza9A8oKAHo2KTRSZZBV1wQD7GsmjZO5QuLIqwaLG3vntXPUpJplxlqUmia3kZowC23p2Y1yqEvtLQ1utieO7E6lQXjde2eR+dONWcQ5V2JgokQmWVtwGSCVx/IV2RtJcxm3rZIqP5dsjySFXjSMvvZimCMcentWEouKOmEefRbk5jhiyS/OOFBPcVDulqS0yBXVWDDGM1i4yJsycTIUwCKOVhZkkEi7W+bnPpVKLsVYYzouQWAPXHpS5JCsxrSISRuBPrmhRYrDTKhON3TijkYwSYyRK7AIQdpUnP0NNxe4WZKsyDad3T0pcrCwTOm8gH5WGarlaY7Mfa3flSgM2VI61cVZ3Gkaa3MLLkPWq1GH2iM/xU7AL9oi/viiwB9oi/vUWAa00ZZMN0b0p2Az67jygoAKAJUepaLTLAORWRsiKeASqPmxis6lPnVrlJ2MxoFLhyo4ONy8nGelcnsZr0NUx7Ovy43KcEDIxz2rSh7ulxSjcHBntGtZQrxSfKdw+8p7VvOKlFphCbjPmW4k4kkCu2wFhnAYEfh+FcNRcsrFy3K4PBDYUgd+9RuLcWIM+FHXngUJX0AvWaqytuTK565q4JdS4bMrtzKzHcTjqRUvcgiBfyRcIY0RHJdpBxtAOTnPHOOauMdLdQWojAbj6E5zmoQluOeQwsSUdlb5fl7H/ADmhDIzcxxDaxOcZ4GabTbDqOEyz42k4HQnjFJpoBxlMcqq5x2IqlsK9mathLvLJ+NaU3qaIvVsMMdutACgY/GgAoAya7zygoAKAFHWgETo2Dis2jWLJetQaGc5dZz8g8sDO4HnOen+TXE6rg36mqEGx3U5dMHnGOeD7VUcRHsHKNaRY44ElkDOo2qzYAdsdh9M1r7SE3dFQVTlaSv3/AK9Tn9CvkvredobUrbb9sEi8gxphPqDx3qMZBJp3v3+eprVpyhpJWZq5DDOPwrjRkPj3Kw25zmmt9BmvaRbYTtViH6Z7V0QhZPzNL6JWIZ4zEDtBZ2J6dOlQ6VtiXsRxQfuFikUFWzu9KUuhKIDFC6yRiZXaKQZCsCVPBAP4VLhZe8Urx1Q6ZSkZjAyTzgd6V0lYgy0hBBXdKCMjluv+cU5OzGy5HaIeRJKWAyBuyD7Ur3QFi4CyJFIOPLO0qR14qm/dBlRLmSJ1KK2PXPSpWnUDoLK4+026vtIbowPY10xd0Wix3qhh2oAbuzwO/Q0WEZdd55YUAFABQBIDkVLLRKjAdTUNFxYyePJyO4rixMdmbwM9gysVA9q5bmhk6zpb39lbuLjY0Mxc++VZe3uRWkIe0SS9TuwOJ+rVJcyvdW/FMw/AekT6ZpM4a4eKSSUgwuMbwr4LAdeRgZ6VjDnjfn38z18+xVOvVjZXSW681e333OnMkattLkY7Y4FVY+ZHW05e+iO8eR/F1BXGTnpznit6UYteaBXubxvUWeG2hjZi+cnGAgA6/wAhWrepbdmkW8DHqKZRUmsI3ikCSSozBtrK/wB0kYyO1Gi1YGLbaDDYXjX8kivczsAc5UMxAHTPP3T+dFSq5R5eg9WtDQn/ANaScDNcctzJmddSJG2Qc8gHaM4P4U0m0DWhYsnH2iMMQCDjr14ogtUC3LV7GGsgQxxvHIrSqvdQ5bGWbeEZ/djj0rLmZJtaWoWBwox8+cVvSd0XEvFsdeK1KGMw2GR87QM4obsIFZZowVyOMg46Uk7gZlegeWFABQAUAOQ9qTHElj+97VDNI7j5vuZ9DWNSPNGxtF2ZTgUtIzPMr7cgqFHBzkfpivNVrvXY25JKzl1Brf7VEyEBRu6+orSlJxk2n8i7Ws2QtbC3Hlo7PwxycDGSDTqS53ohSk3oQoV3A8MO4PNYkGlBaxiWUpMGIxmPjKf/AK66IQW6NbKy0LvlxywFHXO5drfj1rZoVrrUfFxEg27QBgD0otYFsKqhFCqMAUPUErFaaT5jE8eAWHlnkg45OeOKl9iraXRTcfMcj+tcbMSnI8SP8wCg9c8ZppsZDvHnMqHLDmn0E11J2uJ/s5WRd6ZHQ8j6irs3HcLsfFbiYjDgMfuipUdbAtR1q8kU42jOeCopxbT0GtzQS5XzyGYfQ9q2UtbFX1K7383zbQo4+XI/Ws/asXMyxaST3EQcyKMHDALW0JcyuUncq16J5YUAFABQAA4NAEqMR2qGi0yZifJY45xWbRsmVNyoPQk+teZNe82kdF3ZJkzOkkJGSCOuO1F00O9zMuEZtq5yB3I5qWmiQs4SWBKeWC2SM01uNbmiti9vqcl3Bt2zxhZUPcqPlI/PFdPLaV0dHPeHK+hZV9tqJZF2SbN2zPQ46Zq15mctL2IotVgmiDASKSSuGjPYkdvpQTGXMrki3Ucjqqu2GBJO0rj86VxjnbgBDvXIySc45FNNMPQjnhLLkAcc4B6VjOF9hNGbdKDhTkYHUVh1IK6NuADYUjjG7Jp3sMsRL/oly5/vKo+vX+tVaybB7DrdhGjSNG2T91s44ojLTUFoSXDhPLZfv/eB9qc/dtYGLHDFcOQRiYckgnBOfStIy5tCr3JFhRrUBYiXRtrDcfzzSa5lsG5NbWqAK/mEn0VuP0pwglqCRWr1DzAoAKACgAoAlTtUstFgAFcY4IrJmyM9wr+XmPdhhjJ6e9edKpJt3ZulYWZmQAg/IxwfQH3rOb0TCTtqUpmUK4YmQY4x1/Ci9wuW7KIFFVCWIH8R5FNJyY9zRim2AqxTj0PeumHNsy0S7mYcRls9c8CrGJDCYU2oqIv90UBYo6hO2fJUjHfHf2rmnaK5UTJkSCWGByXADA5BHSnCXKCLEF1x+8YbSCeB0/xq0+UNihOwlk3AEDoK55O7uQ2Vdvlzj/aGeg6/WmgJIp1ZZIN3KnJHvinIbJhu2IXX5P5/SlrbUCVgbho8fKz9j09Kt+9buG5djVYkUAK0jMV3jv71vBIoQEW92sR4WQZx71HwysGzFtojDNKONhPAHNVGNrgtCtXpHmBQAUAFABQBIg4FSyolhT1rNm0TNkQl4tq7jnPXGDjtXmS1kzoRPdJPIymOKRAhO7GOf1rdxsjTQrTQI7A5dSDngjPHb8a527PQgv28UUiFzHlugyOK1pNtFRJnSMXcW0KrD0HUYrdbA9y0zBVySAB3NS3Yoqz3iIvyncx6EVEqiS0JbKMfyrLKdrSAZVc5Puayir3Yh0LpcJvlXY6Z2jP1FOLjbUaZSlkLS/LgYGB/KpbtoSynJOY5Cryyc9Aq57Zo07E2ZIuHiDIWKHsSd3FLqNaEiKHxKAASOCeD+NUt7Idy67faUhK4OFxtB9OaGnKw2XYYQlqrSDBUHoOQa1StHUroU1821ZiGVkRuOc5z1+nNSnyR0I1GtdySTKXOMA9KhSbd2FxhnmbCbzjNLmb0Anr2TzgoAKBBQMKAJYqmRcSY8Rse+Kyk7I1iirGCt8jFU2qD8xHIrzYO0jqWjJJkzCzmVt5bkIxA9hW9STih30MxJQs67jICAec5B7da5W76kG3bAlEZGyv866Ka0NFsLICJvMAy2MDmtL6WQFGV2Z8SzDaOTg5xnpWDV92SV7osrmONjsAB3e/piplZCZLp6xrcOJF3Fl4Y9vaqpvWzHEfPZIjFhLhccU3TXcfKQJFiMOykKPlzjH41DXUVipc2Stcs2cFeM7QeB9am9tBBDH5aqExtGecYyaAJI1b5uwjOchsn6+1Wk7cyCxfjeO3k8xItyMRtIPT1FaX6orzLqShoRKAW44X3qk+ozNmWRUYsuN/3s+uc1lZ9epNmQKgc5JI9MH2pWsIQpgZ3ng9DSv2QXLleyecFACHpTELSGIWApiJYPmPFRM0gTyHbE2PSueo/dZutypbEtd4+fA45Awa8+HxI3Qk8v+tiYYIbOKus3cVyhCwfc244yBg9jWQG9a7RaLhwB3NdUPhNFsV3iQyAls4OR81Z8rT0FYbPC0cYwq7QMdM8US5luDKp9Ai5I65PFRfyJLdpCHhAlRcA5Bxya0pxutSkiaWEFQxAdAD17fSteVbFBeL/AKGVUdOePapqL3RPYwZr+OOVgwJJGSBj9a5rN6kFQRPLkqN2c4ORx+tWgNy2DRwpKHDsAQwwOV960Xw6FIcIooZJJVf93JwcH7voaFp6BsPgtZJVc+YVbdg+h/Cmk2MJrIqMAM5B5OetQ0xO5V4V2BBHPNQ/MRXurdJJEdY1Ld8kjinfQRZDkCvbseZceHyPU1Nhi7sigBT0oAhJzViLVvwoxWUzSBPIf3XNctZ2gzohqynAGxuACknoGzXnehsR3uHUOxHyc0+Z7A9SCD5lGZA45O4dPahrUC4h4CgBwR0IyKuLa2KRo/Z4XjXMS9BwR0ro8yxJ4TL8vRR0xUTi2xNESWZEinIMYycHrSULMViwqYHyHAHGMVoUI5BXaAcZH480wEuXKxbgjNnj5RnFJgYclrn55EkRsAHDD/GsHDl6kWEECGMI6hgMdTU3YiSG2MD+ZHExyM5Gapcw9S79hM1uABhZBtcrwcccj0NaqPUqxoxoIolTcTtAGT1NWMpS6mkWcJvJOAVYYzj60PyFcrSTJNcqwAJZcsO1YOzZLZXcHt34rIQte+eYOHPAHNIBwy3GOlLYY7JzgikBEwINUhFi2ORj3rOZpAfdcKOVzjC7uma4MRLodcF1I7fZGwGMBVwFH9K5ItX1NEQy8liBj6nip6iJLa3B25BX5eg71aWo0TIIllkWUbQey/X2rSDSeo1oStbDI8qIlDg5Ln15/QmtywaGWQndGo4xw5HY+n1oAsxW8cXCgkjPU56//qoAcpyOOg6UANZSFznPIz+dABGxIJXJweRSTuIr3QEhK+S2egbtTcLoTZJDHHt+WJc989QaSikNEwjHp+FMY4DaOOKAI9hMjN5jbcYIOMD6UCIZEjkUnapA5X5RxWbbdwMqSIrKSOlY9CLEot2aISDO3GcZ5qoxbVwsR17Z5goOKQEoFSMX+KgAb7vNCALbgmlMqA69+XBwDxnkV5uJjqmdcHoUlXZICrHBPIzwa507ou1mWxFlSSxOO1HLaNyrDgCsTMjYbdgHGeKcEnqHQrzXDpe+SwDcdRx1q5QtqJuzsXVvZEs3kIBKEAfyq6cm9y0xWvnDcIvBkBz/ALPStChJLqR4CRhSfLHH+1/+uk1cQ8XJS5aIKNqyLGOexXNMY1rx2WIbVG91U49y3+AoAuqCBknJzSSsBJTAQj5sg4OKAIzKQDx0OKdhXHDcy7sgfhSArT75AESQx7ZAMgA5H41O7Ajk3BFCuQVyM+v1FTF2RLKckhYjI6jdWT7AaVt/x7RD1Aren8JS2P/Z' width='200' height='133' class=\"itemThumbnail\">\n",
       "                       </a>\n",
       "                    </div>\n",
       "\n",
       "                    <div class=\"item_right\"     style=\"float: none; width: auto; overflow: hidden;\">\n",
       "                        <a href='https://deldev.maps.arcgis.com/home/item.html?id=a262f1c40afb4763b6b3f8b69a3a05e6' target='_blank'><b>Nursing_home_locations</b>\n",
       "                        </a>\n",
       "                        <br>Presents the locations of Nursing Homes for Department of Social and Health Services, Wasington State.<img src='http://www.arcgis.com/home/js/jsapi/esri/css/images/item_type_icons/featureshosted16.png' style=\"vertical-align:middle;\">Feature Service by demo_deldev\n",
       "                        <br>Last Modified: August 06, 2016\n",
       "                        <br>0 comments, 0 views\n",
       "                    </div>\n",
       "                </div>\n",
       "                "
      ],
      "text/plain": [
       "<Item title:\"Nursing_home_locations\" type:Feature Service owner:demo_deldev>"
      ]
     },
     "metadata": {},
     "output_type": "display_data"
    },
    {
     "ename": "KeyError",
     "evalue": "'jobId'",
     "output_type": "error",
     "traceback": [
      "\u001b[0;31m---------------------------------------------------------------------------\u001b[0m",
      "\u001b[0;31mKeyError\u001b[0m                                  Traceback (most recent call last)",
      "\u001b[0;32m<ipython-input-3-86e01aff1223>\u001b[0m in \u001b[0;36m<module>\u001b[0;34m()\u001b[0m\n\u001b[1;32m      2\u001b[0m \u001b[0;32mfor\u001b[0m \u001b[0mcurrent_sd_file\u001b[0m \u001b[0;32min\u001b[0m \u001b[0msd_file_list\u001b[0m\u001b[0;34m:\u001b[0m\u001b[0;34m\u001b[0m\u001b[0m\n\u001b[1;32m      3\u001b[0m     \u001b[0mitem\u001b[0m \u001b[0;34m=\u001b[0m \u001b[0mgis\u001b[0m\u001b[0;34m.\u001b[0m\u001b[0mcontent\u001b[0m\u001b[0;34m.\u001b[0m\u001b[0madd\u001b[0m\u001b[0;34m(\u001b[0m\u001b[0;34m{\u001b[0m\u001b[0;34m}\u001b[0m\u001b[0;34m,\u001b[0m \u001b[0mdata_dir\u001b[0m \u001b[0;34m+\u001b[0m \u001b[0mcurrent_sd_file\u001b[0m\u001b[0;34m)\u001b[0m   \u001b[0;31m# .sd file is uploaded and a .sd file item is created\u001b[0m\u001b[0;34m\u001b[0m\u001b[0m\n\u001b[0;32m----> 4\u001b[0;31m     \u001b[0mpublished_item\u001b[0m \u001b[0;34m=\u001b[0m \u001b[0mitem\u001b[0m\u001b[0;34m.\u001b[0m\u001b[0mpublish\u001b[0m\u001b[0;34m(\u001b[0m\u001b[0;34m)\u001b[0m                          \u001b[0;31m# .sd file item is published and a web layer item is created\u001b[0m\u001b[0;34m\u001b[0m\u001b[0m\n\u001b[0m\u001b[1;32m      5\u001b[0m     \u001b[0mdisplay\u001b[0m\u001b[0;34m(\u001b[0m\u001b[0mpublished_item\u001b[0m\u001b[0;34m)\u001b[0m\u001b[0;34m\u001b[0m\u001b[0m\n",
      "\u001b[0;32mC:\\Anaconda3\\envs\\geosaurus_gold\\lib\\site-packages\\arcgis\\gis.py\u001b[0m in \u001b[0;36mpublish\u001b[0;34m(self, publish_parameters, address_fields, output_type, overwrite)\u001b[0m\n\u001b[1;32m   2728\u001b[0m         \u001b[0mret\u001b[0m \u001b[0;34m=\u001b[0m \u001b[0mself\u001b[0m\u001b[0;34m.\u001b[0m\u001b[0m_portal\u001b[0m\u001b[0;34m.\u001b[0m\u001b[0mpublish_item\u001b[0m\u001b[0;34m(\u001b[0m\u001b[0mself\u001b[0m\u001b[0;34m.\u001b[0m\u001b[0mitemid\u001b[0m\u001b[0;34m,\u001b[0m \u001b[0;32mNone\u001b[0m\u001b[0;34m,\u001b[0m \u001b[0;32mNone\u001b[0m\u001b[0;34m,\u001b[0m \u001b[0mfileType\u001b[0m\u001b[0;34m,\u001b[0m \u001b[0mpublish_parameters\u001b[0m\u001b[0;34m,\u001b[0m \u001b[0moutput_type\u001b[0m\u001b[0;34m,\u001b[0m \u001b[0moverwrite\u001b[0m\u001b[0;34m,\u001b[0m \u001b[0mself\u001b[0m\u001b[0;34m.\u001b[0m\u001b[0mowner\u001b[0m\u001b[0;34m,\u001b[0m \u001b[0mfolder\u001b[0m\u001b[0;34m)\u001b[0m\u001b[0;34m\u001b[0m\u001b[0m\n\u001b[1;32m   2729\u001b[0m \u001b[0;34m\u001b[0m\u001b[0m\n\u001b[0;32m-> 2730\u001b[0;31m         \u001b[0mjob_id\u001b[0m \u001b[0;34m=\u001b[0m \u001b[0mret\u001b[0m\u001b[0;34m[\u001b[0m\u001b[0;36m0\u001b[0m\u001b[0;34m]\u001b[0m\u001b[0;34m[\u001b[0m\u001b[0;34m'jobId'\u001b[0m\u001b[0;34m]\u001b[0m\u001b[0;34m\u001b[0m\u001b[0m\n\u001b[0m\u001b[1;32m   2731\u001b[0m         \u001b[0mserviceitem_id\u001b[0m \u001b[0;34m=\u001b[0m \u001b[0mret\u001b[0m\u001b[0;34m[\u001b[0m\u001b[0;36m0\u001b[0m\u001b[0;34m]\u001b[0m\u001b[0;34m[\u001b[0m\u001b[0;34m'serviceItemId'\u001b[0m\u001b[0;34m]\u001b[0m\u001b[0;34m\u001b[0m\u001b[0m\n\u001b[1;32m   2732\u001b[0m         \u001b[0mpath\u001b[0m \u001b[0;34m=\u001b[0m \u001b[0;34m'content/users/'\u001b[0m \u001b[0;34m+\u001b[0m \u001b[0mself\u001b[0m\u001b[0;34m.\u001b[0m\u001b[0mowner\u001b[0m\u001b[0;34m\u001b[0m\u001b[0m\n",
      "\u001b[0;31mKeyError\u001b[0m: 'jobId'"
     ]
    }
   ],
   "source": [
    "# Loop through each file and publish it as a service\n",
    "for current_sd_file in sd_file_list:\n",
    "    item = gis.content.add({}, data_dir + current_sd_file)   # .sd file is uploaded and a .sd file item is created\n",
    "    published_item = item.publish()                          # .sd file item is published and a web layer item is created\n",
    "    display(published_item)"
   ]
  },
  {
   "cell_type": "markdown",
   "metadata": {},
   "source": [
    "In the example shown above, one .sd file produced a web feature layer and another produced a web tile layer"
   ]
  },
  {
   "cell_type": "markdown",
   "metadata": {},
   "source": [
    "# Publish a feature service from a shapefile and update the item information\n",
    "\n",
    "To publish a shapefile, we first add the zipped shapefile to the Portal as an item, then call publish() method on the item to create a web layer. Often times, your shape files or service definitions may not contain the metadata you want to show on the portal item. This sample demonstrates how you can update those properties after publishing a web layer."
   ]
  },
  {
   "cell_type": "code",
   "execution_count": null,
   "metadata": {
    "collapsed": false
   },
   "outputs": [],
   "source": [
    "data = \".\\data\\power_pedestals_2012.zip\"\n",
    "shpfile = gis.content.add({}, data)"
   ]
  },
  {
   "cell_type": "code",
   "execution_count": null,
   "metadata": {
    "collapsed": false
   },
   "outputs": [],
   "source": [
    "shpfile"
   ]
  },
  {
   "cell_type": "code",
   "execution_count": null,
   "metadata": {
    "collapsed": false
   },
   "outputs": [],
   "source": [
    "published_service = shpfile.publish()"
   ]
  },
  {
   "cell_type": "code",
   "execution_count": null,
   "metadata": {
    "collapsed": false
   },
   "outputs": [],
   "source": [
    "display(published_service)"
   ]
  },
  {
   "cell_type": "markdown",
   "metadata": {},
   "source": [
    "The web layer item has minimal information and a default thumbnail.\n",
    "\n",
    "### Update the layer item's metadata\n",
    "To update the metadata and set the thumbnail, use the update() method on the web layer's item obtained during publishing."
   ]
  },
  {
   "cell_type": "code",
   "execution_count": null,
   "metadata": {
    "collapsed": true
   },
   "outputs": [],
   "source": [
    "thumbnail_path = \".\\data\\power_pedestals_thumbnail.PNG\"\n",
    "item_properties = {\"snippet\":\"\"\"This dataset was collected from Utah DOT open data portal.\n",
    "                            Source URL: <a href=\"http://udot.uplan.opendata.arcgis.com/\n",
    "                            datasets/a627bb128ac44767832402f7f9bde909_10\">http://udot.uplan.opendata.arcgis.com/\n",
    "                            datasets/a627bb128ac44767832402f7f9bde909_10</a>\"\"\",\n",
    "                   \"title\":\"Locations of power pedestals collected in 2012\",\n",
    "                   \"tags\":\"opendata\"}"
   ]
  },
  {
   "cell_type": "code",
   "execution_count": null,
   "metadata": {
    "collapsed": false
   },
   "outputs": [],
   "source": [
    "published_service.update(item_properties, thumbnail=thumbnail_path)\n",
    "display(published_service)"
   ]
  },
  {
   "cell_type": "markdown",
   "metadata": {},
   "source": [
    "# Publish a CSV file and move it into a folder\n",
    "\n",
    "To publish a CSV file, we first add the .csv file to the Portal, and then call the publish() method to publish it as a layer. Once published, we create a destination folder on the server and then move the published items into that folder"
   ]
  },
  {
   "cell_type": "code",
   "execution_count": null,
   "metadata": {
    "collapsed": false
   },
   "outputs": [],
   "source": [
    "csv_file = '.\\data\\Chennai_precipitation.csv'\n",
    "csv_item = gis.content.add({}, csv_file)"
   ]
  },
  {
   "cell_type": "code",
   "execution_count": null,
   "metadata": {
    "collapsed": false
   },
   "outputs": [],
   "source": [
    "display(csv_item)"
   ]
  },
  {
   "cell_type": "markdown",
   "metadata": {},
   "source": [
    "The csv file used in this sample has a column titled `LOCATION` containing place names in text. During the publishing process we specify this column as an `address_fields` parameter. The server geocodes these locations to create point features for the web layer."
   ]
  },
  {
   "cell_type": "code",
   "execution_count": null,
   "metadata": {
    "collapsed": false
   },
   "outputs": [],
   "source": [
    "csv_lyr = csv_item.publish(None, {\"Address\":\"LOCATION\"})"
   ]
  },
  {
   "cell_type": "code",
   "execution_count": null,
   "metadata": {
    "collapsed": false
   },
   "outputs": [],
   "source": [
    "csv_lyr"
   ]
  },
  {
   "cell_type": "markdown",
   "metadata": {
    "collapsed": true
   },
   "source": [
    "### Create a new folder for the items\n",
    "The `create_folder()` from `GIS.content` can be used to create a new folder. Once created, the `move()` of the `Item` can be used to move the items into the folder."
   ]
  },
  {
   "cell_type": "code",
   "execution_count": null,
   "metadata": {
    "collapsed": false
   },
   "outputs": [],
   "source": [
    "# create a new folder called 'Rainfall Data'\n",
    "new_folder_details = gis.content.create_folder(\"Rainfall Data\")\n",
    "print(new_folder_details)"
   ]
  },
  {
   "cell_type": "code",
   "execution_count": null,
   "metadata": {
    "collapsed": false
   },
   "outputs": [],
   "source": [
    "# move both the csv_item and csv_lyr items into this new folder\n",
    "csv_item.move(new_folder_details)  # Here you could either pass name of the folder or the dictionary\n",
    "                                   # returned from create_folder() or folders property on a User object\n",
    "\n",
    "csv_lyr.move(new_folder_details)"
   ]
  },
  {
   "cell_type": "markdown",
   "metadata": {
    "collapsed": true
   },
   "source": [
    "Now that the items are moved, we can request for the item's `ownerFolder` property and ensure it matches the `id` of the folder created in the previous step"
   ]
  },
  {
   "cell_type": "code",
   "execution_count": null,
   "metadata": {
    "collapsed": false
   },
   "outputs": [],
   "source": [
    "print(csv_lyr.ownerFolder)"
   ]
  }
 ],
 "metadata": {
  "kernelspec": {
   "display_name": "Python 3",
   "language": "python",
   "name": "python3"
  },
  "language_info": {
   "codemirror_mode": {
    "name": "ipython",
    "version": 3
   },
   "file_extension": ".py",
   "mimetype": "text/x-python",
   "name": "python",
   "nbconvert_exporter": "python",
   "pygments_lexer": "ipython3",
   "version": "3.5.2"
  }
 },
 "nbformat": 4,
 "nbformat_minor": 0
}
