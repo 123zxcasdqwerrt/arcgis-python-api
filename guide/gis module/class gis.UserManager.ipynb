{
 "cells": [
  {
   "cell_type": "markdown",
   "metadata": {},
   "source": [
    "##The UserManager class"
   ]
  },
  {
   "cell_type": "markdown",
   "metadata": {},
   "source": [
    "<hr/>"
   ]
  },
  {
   "cell_type": "markdown",
   "metadata": {},
   "source": [
    "##<b>class gis.UserManager<b>(<i>portal</i>)"
   ]
  },
  {
   "cell_type": "markdown",
   "metadata": {},
   "source": [
    "Manager class for managing GIS users. This class is not created by users directly. An instance of this class, called ‘users’, is available as a property of the gis object. Users call methods on this ‘users’ object to manipulate (create, get, search...) users. Example of using the 'users' object to search for users:"
   ]
  },
  {
   "cell_type": "code",
   "execution_count": 3,
   "metadata": {
    "collapsed": false
   },
   "outputs": [
    {
     "data": {
      "text/html": [
       "<div class=\"item_container\">\n",
       "                    <div class=\"item_left\">\n",
       "                       <a href='http://www.arcgis.com/home/user.html?user=jes0070' target='_blank'>\n",
       "                        <img src='http://www.arcgis.com/home/js/arcgisonline/css/images/no-user-thumb.jpg' class=\"itemThumbnail\">\n",
       "                       </a>\n",
       "                    </div>\n",
       "        \n",
       "                    <div class=\"item_right\">\n",
       "                        <a href='http://www.arcgis.com/home/user.html?user=jes0070' target='_blank'><b>JOHN SMITH</b>\n",
       "                        </a>\n",
       "                        <br><br><b>Bio</b>: Real Estate Services @ Reconassist and 4deeds.com SALESFORCE.COM (SFDC), GPS, GIS, VA. Beach, VA.   @1JohnSmith\n",
       "                        <br><b>First Name</b>: JOHN\n",
       "                        <br><b>Last Name</b>: SMITH\n",
       "                        <br><b>Username</b>: jes0070\n",
       "                        <br><b>Joined</b>: November 04, 2011\n",
       "                        \n",
       "                    </div>\n",
       "                </div>\n",
       "                "
      ],
      "text/plain": [
       "{}"
      ]
     },
     "execution_count": 3,
     "metadata": {},
     "output_type": "execute_result"
    }
   ],
   "source": [
    "from arcgis.gis import GIS\n",
    "\n",
    "gis = GIS()\n",
    "user = gis.users.search('johnsmith')[0]\n",
    "user"
   ]
  },
  {
   "cell_type": "markdown",
   "metadata": {},
   "source": [
    " <hr>"
   ]
  },
  {
   "cell_type": "markdown",
   "metadata": {
    "collapsed": false
   },
   "source": [
    "###create(<i>username, password, fullname, email</i>)"
   ]
  },
  {
   "cell_type": "markdown",
   "metadata": {},
   "source": [
    "Signs up a new user with the specified username to an instance of Portal for ArcGIS."
   ]
  },
  {
   "cell_type": "markdown",
   "metadata": {},
   "source": [
    "**Arguments:**\n",
    "<table border=\"1\" class=\"docutils\">\n",
    "<colgroup>\n",
    "<col width=\"22%\">\n",
    "<col width=\"78%\">\n",
    "</colgroup>\n",
    "<tbody valign=\"top\">\n",
    "<tr class=\"row-odd\"><td><strong>Argument</strong></td>\n",
    "<td><strong>Description</strong></td>\n",
    "</tr>\n",
    "<tr class=\"row-even\"><td>username</td>\n",
    "<td>required string, must be unique in the Portal, >4 characters</td>\n",
    "</tr>\n",
    "<tr class=\"row-odd\"><td>password</td>\n",
    "<td>required string, must be >= 8 characters</td>\n",
    "</tr>\n",
    "<tr class=\"row-even\"><td>fullname</td>\n",
    "<td>required string, name of the user</td>\n",
    "</tr>\n",
    "<tr class=\"row-odd\"><td>email</td>\n",
    "<td>required string, must be an email address</td>\n",
    "</tr>\n",
    "</tbody>\n",
    "</table>\n",
    "\n",
    "\n",
    "**Returns:**\tthe user, if created, else None"
   ]
  },
  {
   "cell_type": "markdown",
   "metadata": {
    "collapsed": false
   },
   "source": [
    "<hr>"
   ]
  },
  {
   "cell_type": "markdown",
   "metadata": {},
   "source": [
    "###get(<i>username</i>)"
   ]
  },
  {
   "cell_type": "markdown",
   "metadata": {},
   "source": [
    "Returns the user object for the user with the specified username."
   ]
  },
  {
   "cell_type": "markdown",
   "metadata": {},
   "source": [
    "**Arguments:**\n",
    "<table border=\"1\" class=\"docutils\">\n",
    "<colgroup>\n",
    "<col width=\"22%\">\n",
    "<col width=\"78%\">\n",
    "</colgroup>\n",
    "<tbody valign=\"top\">\n",
    "<tr class=\"row-odd\"><td><strong>Argument</strong></td>\n",
    "<td><strong>Description</strong></td>\n",
    "</tr>\n",
    "<tr class=\"row-even\"><td>username</td>\n",
    "<td>required string, the username whose user object you want.</td>\n",
    "</tr>\n",
    "</tbody>\n",
    "</table>\n",
    "\n",
    "**Returns:**\tNone if the user is not found and returns a user object if the user is found"
   ]
  },
  {
   "cell_type": "markdown",
   "metadata": {
    "collapsed": false
   },
   "source": [
    "<hr>"
   ]
  },
  {
   "cell_type": "markdown",
   "metadata": {},
   "source": [
    "###list(<i>max_users=1000</i>)"
   ]
  },
  {
   "cell_type": "markdown",
   "metadata": {},
   "source": [
    "Return the list of users in your organization. This method does not work with ArcGIS Online, only with Portal for ArcGIS.\n",
    "\n",
    "**Arguments:**\n",
    "<table border=\"1\" class=\"docutils\">\n",
    "<colgroup>\n",
    "<col width=\"22%\">\n",
    "<col width=\"78%\">\n",
    "</colgroup>\n",
    "<tbody valign=\"top\">\n",
    "<tr class=\"row-odd\"><td><strong>Argument</strong></td>\n",
    "<td><strong>Description</strong></td>\n",
    "</tr>\n",
    "<tr class=\"row-even\"><td>max_users</td>\n",
    "<td>optional int, the maximum number of users to return</td>\n",
    "</tr>\n",
    "</tbody>\n",
    "</table>\n",
    "\n",
    "**Returns:**\n",
    "The list of users in your org"
   ]
  },
  {
   "cell_type": "markdown",
   "metadata": {},
   "source": [
    "<hr>"
   ]
  },
  {
   "cell_type": "markdown",
   "metadata": {},
   "source": [
    "###logged_in_user()"
   ]
  },
  {
   "cell_type": "markdown",
   "metadata": {
    "collapsed": false
   },
   "source": [
    "Returns the logged in user\n"
   ]
  },
  {
   "cell_type": "markdown",
   "metadata": {},
   "source": [
    "<hr>"
   ]
  },
  {
   "cell_type": "markdown",
   "metadata": {},
   "source": [
    "###search(<i>query, sort_field='username', sort_order='asc', max_users=100, add_org=True</i>)"
   ]
  },
  {
   "cell_type": "markdown",
   "metadata": {
    "collapsed": false
   },
   "source": [
    "Searches portal users.\n",
    "\n",
    "Returns a list of users matching the specified query"
   ]
  },
  {
   "cell_type": "markdown",
   "metadata": {},
   "source": [
    "<div class=\"alert alert-success\">\n",
    "A few things that will be helpful to know.\n",
    "<p>\n",
    "1.The query syntax has quite a few features that can’t be adequately described here. The query syntax is available in ArcGIS help. A short version of that URL is http://bitly.com/1fJ8q31.\n",
    "<p>\n",
    "2.Most of the time when searching groups you want to search within your organization in ArcGIS Online or within your Portal. As a convenience, the method automatically appends your organization id to the query by default. If you don’t want the API to append to your query set add_org to false. If you use this feature with an OR clause such as field=x or field=y you should put this into parenthesis when using add_org.\n",
    "\n",
    "</div>"
   ]
  },
  {
   "cell_type": "markdown",
   "metadata": {},
   "source": [
    "**Arguments:**\n",
    "<table border=\"1\" class=\"docutils\">\n",
    "<colgroup>\n",
    "<col width=\"21%\">\n",
    "<col width=\"79%\">\n",
    "</colgroup>\n",
    "<tbody valign=\"top\">\n",
    "<tr class=\"row-odd\"><td><strong>Argument</strong></td>\n",
    "<td><strong>Description</strong></td>\n",
    "</tr>\n",
    "\n",
    "<tr class=\"row-even\"><td>query</td>\n",
    "<td>required string, query string. See notes.</td>\n",
    "</tr>\n",
    "\n",
    "<tr class=\"row-even\"><td>sort_field</td>\n",
    "<td>optional string, valid values can be username or created.</td>\n",
    "</tr>\n",
    "\n",
    "<tr class=\"row-even\"><td>sort_order</td>\n",
    "<td>optional string, valid values are asc or desc</td>\n",
    "</tr>\n",
    "\n",
    "<tr class=\"row-even\"><td>max_users</td>\n",
    "<td>optional int, maximum number of users returned</td>\n",
    "</tr>\n",
    "\n",
    "<tr class=\"row-even\"><td>add_org</td>\n",
    "<td>optional boolean, controls whether to search within your org (default is True)</td>\n",
    "</tr>\n",
    "\n",
    "</tbody>\n",
    "</table>\n",
    "\n",
    "**Returns:**\n",
    "\ta list of users"
   ]
  },
  {
   "cell_type": "markdown",
   "metadata": {},
   "source": [
    "<hr>"
   ]
  }
 ],
 "metadata": {
  "kernelspec": {
   "display_name": "Python 3",
   "language": "python",
   "name": "python3"
  },
  "language_info": {
   "codemirror_mode": {
    "name": "ipython",
    "version": 3
   },
   "file_extension": ".py",
   "mimetype": "text/x-python",
   "name": "python",
   "nbconvert_exporter": "python",
   "pygments_lexer": "ipython3",
   "version": "3.4.4"
  }
 },
 "nbformat": 4,
 "nbformat_minor": 0
}
