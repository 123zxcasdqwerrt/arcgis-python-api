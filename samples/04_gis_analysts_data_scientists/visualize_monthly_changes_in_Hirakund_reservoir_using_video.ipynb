{
 "cells": [
  {
   "cell_type": "markdown",
   "metadata": {},
   "source": [
    "# Visualize monthly changes in Hirakund reservoir using video"
   ]
  },
  {
   "cell_type": "markdown",
   "metadata": {},
   "source": [
    "## Table of Contents\n",
    "* [Introduction](#Introduction)\n",
    "* [Necessary Imports](#Necessary-Imports)\n",
    "* [Connect to your GIS](#Connect-to-your-GIS)\n",
    "* [Get the data for analysis](#Get-the-data-for-analysis)\n",
    "* [Function to create collection of images with desired time intervals](#Function-to-create-collection-of-images-with-desired-time-intervals)\n",
    "* [Make video from image collection](#Make-video-from-image-collection)"
   ]
  },
  {
   "cell_type": "markdown",
   "metadata": {},
   "source": [
    "## Introduction"
   ]
  },
  {
   "cell_type": "markdown",
   "metadata": {},
   "source": [
    "World is changing daily. Major changes like shrinking of lakes, river path shifts, construction of megastructures can be seen directly from the satellite images. This notebook creates a movie to visualize monthly changes in Hirakund reservoir, Odisha."
   ]
  },
  {
   "cell_type": "markdown",
   "metadata": {},
   "source": [
    "First, let's import all the necessary libraries and connect to our GIS via an existing profile or creating a new connection by e.g. gis = GIS(\"https://www.arcgis.com\", \"arcgis_python\", \"P@ssword123\")."
   ]
  },
  {
   "cell_type": "markdown",
   "metadata": {},
   "source": [
    "## Necessary Imports"
   ]
  },
  {
   "cell_type": "code",
   "execution_count": 7,
   "metadata": {},
   "outputs": [],
   "source": [
    "import os\n",
    "import imageio\n",
    "import datetime as dt\n",
    "import pandas as pd\n",
    "from PIL import Image, ImageFont, ImageDraw\n",
    "\n",
    "import arcgis\n",
    "from arcgis.gis import GIS\n",
    "from arcgis import geometry\n",
    "from arcgis.raster.functions import apply"
   ]
  },
  {
   "cell_type": "markdown",
   "metadata": {},
   "source": [
    "## Connect to your GIS"
   ]
  },
  {
   "cell_type": "code",
   "execution_count": 6,
   "metadata": {},
   "outputs": [],
   "source": [
    "gis = GIS(profile = \"your_online_profile\")"
   ]
  },
  {
   "cell_type": "markdown",
   "metadata": {},
   "source": [
    "## Get the data for analysis"
   ]
  },
  {
   "cell_type": "markdown",
   "metadata": {},
   "source": [
    "Search for Multispectral Landsat layer in ArcGIS Online."
   ]
  },
  {
   "cell_type": "code",
   "execution_count": 10,
   "metadata": {},
   "outputs": [
    {
     "data": {
      "text/html": [
       "<div class=\"item_container\" style=\"height: auto; overflow: hidden; border: 1px solid #cfcfcf; border-radius: 2px; background: #f6fafa; line-height: 1.21429em; padding: 10px;\">\n",
       "                    <div class=\"item_left\" style=\"width: 210px; float: left;\">\n",
       "                       <a href='https://pythonapi.playground.esri.com/portal/home/item.html?id=d9b466d6a9e647ce8d1dd5fe12eb434b' target='_blank'>\n",
       "                        <img src='data:image/png;base64,/9j/4AAQSkZJRgABAQEASABIAAD/2wBDAAUDBAQEAwUEBAQFBQUGBwwIBwcHBw8LCwkMEQ8SEhEPERETFhwXExQaFRERGCEYGh0dHx8fExciJCIeJBweHx7/2wBDAQUFBQcGBw4ICA4eFBEUHh4eHh4eHh4eHh4eHh4eHh4eHh4eHh4eHh4eHh4eHh4eHh4eHh4eHh4eHh4eHh4eHh7/wAARCACFAMgDASIAAhEBAxEB/8QAHQAAAgIDAQEBAAAAAAAAAAAABAUDBgACBwEICf/EADoQAAIBAwMCBAMHBAEEAgMAAAECAwAEEQUSITFBBhNRYSJxkRQyQoGhsfAHI8HR4RVSYvEWJCZjkv/EABsBAAIDAQEBAAAAAAAAAAAAAAMEAQIFBgAH/8QAKhEAAgIBBAICAgIBBQAAAAAAAQIAEQMEEiExBUETUSJhFDLwBnGRscH/2gAMAwEAAhEDEQA/APmnS7WzsbXJLPc5yQeikHoPUfKnsEK39ncyu4WdE3Rrv2j3H7CqlFLsYbsEkcDPTvk8+9XnwdaNd3xs5Zotssse9Y2XA5PGSckf7qWzvkAUniOBETkS1eD/AA5NoM8epXkjG5kjIjiCDocdT2q8aNN514jhwjg5HuO9LbtJTcEFzIn3YsHdj2rfR0dpeQVSNWbdnkt27+1UW91CT+Oyz3EPj7XppJLqG3AKQoAArZySTnPvSTwDprxrGZBuDAOAR/Oaun/xqw1DVJLuRyxkmUsnAGAOcn3PNMr/AE/T4LBltRh1b8PGMZx+VbWizYsTB29TBz4MrsS0XeDNP/8AyGS9t4zHEG6/+VXfWJ0iiIGGbqfY0g8Nzm1smTBXJJ28fWg9Y1RI5HWWT4j2J5pnXeaJwFMfFxrR6MAhmifXdNtr+5eaRf7hGAT0Wq1d6fFaKypKCMY+f8xW3iTXpkJSHK54DDtVTvdWnlP966HucjmuRyMXO4zWpRwJ5eKwuzsJJ75FTArGQHyRgE80kvNSMEbTRyqC7YQE5IrWPUTcqPi3Nj4sdM80PYe5IljnexitTLA7u+OA3r8qRWkUtxqEbrETvbccjgknP+q8nug8SxKxI24Ygfe4p9o8cdkXmlxt7Y4OenH5UMnaJ4qSwAlnvXjtdIitcqJcAvjnHtUdmqy6eSg6uQxHU/nVXvtYhkZ1WTDDDFGGCM9h+dYupvbW1wokfc7oZMggQqDhiPVjx0oaadq6hy46uWQqvll45MNuIVT3Ax/sVDHdMfvDB9vSl+j6q89lNbRyxWxaUlY1GNx4wDntx0zR15f2ChtkmwRny8Egs5xyeOnINNfxypqRZqxGFpcwledobcOaaXRKqsgfC44qqSo6WqXUbl1cZIC8r35ou01SZYGjlYybeNrdsV6gOJUX3GgBnwJLnYSeCWOB+9RTloOHJDY6t059qXvcu7BzHtVj0Q8Y+X+amFwtykUY2N5YI5PUfOqMwAlgDIWnlklUkH4evB4963bzmeNBkB8HaM5yO3t1ovy0U4eLcdoDIB0449q3uINkLeXHkBd4UDk8jkfztSzMLuXoyCGQuqxnHlE/h5PFZWWyCSbAVQ2CX7BD/wBw/wA1lUN3JoTkEZjkYRjcWZCMAd8/pVq8HCSw1K3uHwqA5LNyQAf80ojSDTmRpUiuLsDGxh8KE+vvTy3kubhkieOMnarIIxtUDsOPl3NatkHiAIHudV02a0uLqMQZlUlvhXOVXacHPQfKmN+8VpYzRRFfOuNq45HAGMD6Z/OqJoesS2CCJYo97oQC5yevP+adx6uZnSe4QyusfA4znkZ/UU2rqF/cVYMW/UtOktAumXE7l1k3nLBs5I/9itra6juYt/mMqq2wjPVuDj+etKdNvI5dOkgkRQkrllfPTJ9P2pZdajbaeHKq7Iy4O7qD0yPfgfSjnIoA+qgNlk/dxzqOo/YZpEPKtkDdz8ulUXxNr0UTtLMx3OcKoOTSvxN4pubhP7ZMSBdpK9Cex/OueXl/NJJt85sNnk84/WkXG898RxRtWyI91PXVurlVwSnQqTgE/lSfV5gZAImJVep/yKWvOYpOY8kE8g8Vizs0bJ5b7j90jnmqjGRKHIk38xyu2M59jyTR1kXEixrtV+GcdxgdK30uyBQRiUByp27ieGqNre5t3+zmUoykggDJ+vr8qIULWAIE5qINwqCQR38cjfEEJZkHI/nSmllq3mRzTSRiRi+IxnC9PX/jvVYEcyxqkTlXJO5VOM9+tMI3ntrYQMiuoUMpznaTVP4+4cCW+QhrJjK2Dzal51z5TK+TJGoyPhGf0A+XNeRWd/dzwB12wzIDkShucjc+B64oTwssw1dZdqyZ3Fg3Tkf8011CzW3uB5Dzw4J+EksuCe3cU3i0+9qPUWyarYt+5aJ9IENuJ9P+zyK+4lejgnp17YxVYn0z+0yPJKs+F3bj2x0/npQ3iPV9Q+2ebE7GAIFwDkZAA+vFNNKvkXw/DfX7O6XUrJxjMRHA/wA00dKQARK49SGv1/1HukywSWkQeYRwxqA27kpjggkc+v7UYPsNxG07BEjOUjc/eI7+/Iz69aT3NvCdM86F5C8xypwBv4HH0qOOedYUt77bDOi/dwDwTkE45781k6jTshmrh1C5AITO84mljdt0p6ogBCrjkn6CttPdklBGCQOCecVM0W6xeVFTzmwm7pgEZJ/T2ryO3+zQM5PmHGWA9zwPn8qz8hqH9xxp93HdbY5pESUHHmN3x0Boq6ufIUI8arJGuMqdpHcYquRFQUY5Vieo7U5tkF1C5Z1Zo2A6fhPb5Uo1DkS93IrnBXzrcAxkjpyV+f8Ausp+kFmLZIojgcbivRj61le3/c9U45fWUAvmmhlE0cnPLYAPcZ9acaFbTiPdsiZAxJJJwR6fLr9aRGTzGjGVEf4VUcCjdO1G4iDRqcKT6Vqgm4IixzGF84g8rIw8bfCUOSVoW61e4W+855XUbQiKOmP5itbmQ3Rfy9zEAq2RwM0puEJ/uFCQqZBLYC81a4KpY7PXbk28SiYIVzu+vpWmsardSnKzB3xgLjge1V23uogHgVzgJuZieOue3evL28jZgImkMa/ec9CfWrWZSuZLqkzvaBVcq+fu9hxwQar3l7ydzqp96ZCcmFYSx+/nPtQVzte+aMYAUDkDviroOZXK1LJIUheJkm65yhXp9K80su12yumewAHHWpI1QAMG/OirBCDvGAScH3p7HgtYmXJez1D1hIg8x9qNk45rxI90gWQYPG045FNtOiKxPIUG78Jx90e1apFJIX3YUZ6jijpjrgQbqoNxUlggm+KQlejdCcGi00m0YsUm3lhjEnw4oxIYkIQ9D8ROPSjoYYWG9WTH/bnn1pnCmOuTKt8nYBia1sHtkaJJ4Tu//YeKkLTxMqy/GfvKScg496Zz23lqG8s4xnP86UPLDJHbbvKWTefhQjOT7UyuEdrAO98N3El+qXlyPL/tuTg+lTSTi2tUs76JvL6hozx9PWj4LWzdvKlga1kOdrBvh3e4Pal9/a3FuNl5GdjHg9Rj1BHWjom7uKviK9T1JZ5hE9peKwhQrEknG0Dqcd6P89dSt2vgshuUzHGgABkxxn36iq5EXtLgMhymcgkcVaX0xtZ06wvNCCJNFIyTK5C7G4IPXBHX0r2q0SZcRPVQ+m1BxN+ptbXl+l69tHKBCCq7XfIY9W3dOgFM7C4N1bGRofKQNlVGWxxgHP1P0qRtFxayCJhLc8GRivDkcZx09aC0tdl1NE7O8jxrzsJUEEfD8xjtXI6nTbVJm2ua3AvuMpJjEWdQpz0xU9rdPCqupIm3YyvB4qJYXlXc0v8AcJPUYzTTSIELgSkuBwQQCc1h2BHlJkXm3FxsV1VQc42jjJxWU5gt0DEMSQOgBxWUNnFybqcestixK0n4QSR7YqFbxo7gGKLCIwbDfiB9aihiOWjZidwwCxyBzWSRSwzOsmVZuueoHWtcGD5AjS3vwBKQkZWSTcVPpkf7oDxJPt0+08r4PNGWx+IgkZNDXSvbQ7nJRWygbsPXFL5ZWndVjzII0xuweBnr7cmiLzBsZ6isiFFwWf4cA+9eXO7ytxIGDyuajKyCUrnbtGCa9ETSBtqliwJ4I6dsjtVwOZUngwhZFXYSmDjkZ9MYH50HDFIJfObJBPJo9HWFVeWPfCcDafXvjuKcWsNnd2beUwLIMkYwaNZDAgRRRYIMSwQtI21SSSQBxVgsbE/BGBkjk49a9sbRFk3lMbOnzNN7dYo4nkZkQ5CoNucuegrW3LjW/qKOSSITAYo7ZomZQY1y5zyuegqKGzkvgdpeKEf9wAz7n0o2G3hEZllIS3QklmwNx7kn196E8ye9k81F8mBG2ovfHrjtn25rOOU2TGFBPUmtrDTpJmjNwN+3aMg5A/OpRo9lK2UnyNvVTUljok32d28jBlByxUc/z3qG9hvrdRCcxjPwoyDkD0Ioi5GPAMv8ZE1vIbrT4Q4j3pnhgciiNKuItQbaUCMuBtAxjOeT+lGaXdLJGbdn8xVUeYr85HP7UtvLVtI1ZWQlUcb4z6g9c03gyEcdGKOu40Z5q1k0YdnjOVG0ADkH1zQGncE21yN9vjlHOME9x71a7hob+2jTcGlUHGGGWX+ftVcvbF4pCgQ/Ecgk8D/ZrewOrrcTKsjUeop8S6KLDHltutZl3ISPiHr+vFb+Cr8aNqYN3ErwvhZRzkqehHNXLREivbCWxulDptbBz8QyADVD1OApMN2CIn2N/wCS5omRaYfRlcq0LE6hqqacnljTJZWjdCzbiMg9ccduRz71V7ZN125lbbsbcozkknIx+tdGvrXSNO8BR3N4zPcTGFbKSNclg6qRu9sB/wD+aoy2VxbXb3G2N3jIYI69BkHJPHSuf8xgXGWA6IjukyPlRW/cnugxlLuwQLg4xzyOlNLBYEhUQgDjkZyRQ95apLIZpGHwfEW4HPH/ADUaSYc7WUljnCDkZ7cVxOVOJ0SxxZu0lztZThfXv+dZR2mqsFuDKMyY6ntWUkWPqWZOZwhmLSlAhBYAIOuP5/mtbl4Au15jIVUb9ozjtjPp0FB3upTeWyKRux8W1R09z3NKGumEzsM8rhscda6JcZMUd6hd/cvcSgFR5ca7EHYf81FYyPbSMwJIdSpGc5+dQb5JCrspG7OMdCamtQgdt25mK4GDgA/5olbRKAhpuGaSYKo2gnOM16khinLBRux+E9sGtUUrIjfEMPlj+f8A7r0pIZgI1LODkDOT/ORUrVyMhoGpvO8k0sMRXAT4iR8uP0/enfh+PEjYGzJwOeopPaF3aPbxGScLtzz/AOqtGjWqFss22RTkADrWjp9u0giJsrf8xqsKiMDYCe/uaIs7GOaWO4mIWKHlATgA9zXsUZ85U6HIJz0orUrKQ6RcbXMQSLAxHkux9AK9lyAIFuBC3kiCOeTxBrMdtbEi1BBGR94AnA+XBPzq86Xp6IxxzJ+HtwOtAf0t0E2GkXGoXakPIECR9Rjb1Pvwav3grw/NqcU7mVbYBwu8rnA6njtSKI+oYpi7jDZVwJufiLxEAojLlduCduM5qPU7NJYzbmPJVCVY4O0/z96MGnvb3MnmFWkVyC4IIYA8Ee2fUURdEi2aFFMjSAgKO+R+3vUKGVtg7lyQRulJt7UrrClYQgZOSMde/wBT2rXXLdJYNOdmwpjKhmIPfjkcfSmFotybiQQKs6h9rz9FODliPYD9alvbMT6tbQSEuYoQGBA4J57cZ5HFPhyr8wYXnmL/AA1avEI9sBMjna2D+HBIOfTr9ai8QRpavLDEijy5OPQBgSafKkkWrm0sckwovmNgYPI4Jxn6UN4ggWWS4iVR99VJIPJwSf8AFbHjchysai+rx0ouLPCCPe6lFa4AMvAK4JJpd4v0s22ozLPBs82LeMnhuoJH5hvzFXn+nOjiz8R2t87bhCSzD2xjj60F/VRLq68SbJoo0jjtz5QQdUJZuffLGt7U6dlQWOYsEG0k/UvP9MtAtvGX9MdMed5jPY7oTNHjKKpBXBx2DkfnXO9fhit/Fl7p8snwRu8Zc8lgDjg+uB2rrH9M57jw/wD0gs7SCaOA+W88rt1IZjkD8gOK5JLdXN3czz2UaxEszCaQb2UZ65I65NYXmaGM7xL6YMiqB7qSToUtZF3lyrfCXTPH8FB2MQM8k0nwgnOCOcUVOJIoRE87zZG3MhG4k859q90+xnmGVU7MfE2elfOs78TqcS13DbGd5A+RhF6VlNNH0pmdocMx2A4Xndz1z+dZSDEXxKuwBnzPM0Kk7AWBJySKhtoPMySMZ65PU17IGbJ8vcByOKNs9rcsBtXoB1PrXTk0OIsQL5mwiWNWVmBWJcquOhPFaWNoPNDEDGDxjpRrRoomlOGBPK559sfvUcH9vByFA61SzPKATIXCl9giwQev+aD2NPcFomYScbSPX/VSW7SzNJLnhCD0HoabaBNfaLGmsRwR7p2aOEyKSMKMuQPkMfnRsS7TAZ2AFGG+HvD2oyW3mfZ2SIH4d2Ofentvp1zHELgRhCp4OME10vSEjuNDtNSiEnl3kIbGchGxyOfQ1D4jihtoUijRQzrgrjvTWLVAjbUTbHRJlS05FvrrzAgD5G/PQ8cH9KscUJku2hEaqAo+8MjGOv70r023+yX0THjfGFZQMYOe9Xr/AKaZUQQsqt95vgxu9V56etA1Z2V9GTp23k/YmlvbxiMwMAI2QAEf93y9P9ml9nJe6dfur/afs5G11hcqSMevyom2uXgv3sZo2khOcMBgDtin1lDAZARLiJgdw2bguOnfp1oGF2wG4y6hxRig6raPpyCeBkmUcmOM7j82JwPnild9LfXEWVhaxsZMB5MFpJfYHvn29qtmp3umaZtWK0a7uNuVRICzE47KM+1J4Le/urqLUNZQQRx4dYWfzZSecj0XnAwPejt5An+qgfuUTThfcFstPS1sI74rPBG6BYrV3HJznkdOe59OK8s7Y2fn39y6+azZLOM/ztx8qsFvbTXtx9ruYxDCnKIeFAHOap3izVf+pzva6WXdYRvxEuXf3PYZ5x8896Ux5Gd9g5+40mIPz6m2mzG7v5rqff5cbBnwMl2JwijH69qm+zGWfbPLulEjMTk4BPYegxTLw3p8sWg/bmiZU+6jLIcSqcYZgcY6/lR3hXTFvb5nwhhtz9/HB54HvX0nwOkGLF8jdzM1LLkycH8RGHhu1+xpHNMG+NhgEc7ev61UvG0q6l4rmjti8iyMsCAptOccjHHfNXvWL6LTIZ766bDQqREm4BmboMeuOpxVQ/p1ZPq+tnUmBlt7WTbv7NJ1PzxnP5itDV5SzCDylaAX3Ld/UC3tdO8G6fZIssjRRgR7ehIXB499371zPStLYyL5cLCMyEFpZM7cc/CMevcmuh/1DSa/vY7a1kCJgKp6nr7fOqQlt9nQ7LqU3LP13E9DjAyeAa+d+e1tuy3/AII7pcW5gfQg17BZzyA23mtIGw5K8Z9PUmn/AIbs3tso5G1/w5OT7j2qDw9pEl9qbIUMm7rgAcmuteH/AAgsKq8sYPw8hT8RHbOa4rPmVeCZrM20RP4bs4bmfySEEy/CyoDjrnrWV0Ox02yslxDbpHJ3IHP1rKQbUsT+PUUbvmfns9rlThfjAGQR0z3r0WixK0+0kLjYM9RTu6QQxqXXLuu4DPQ+h9vald00s0UUK7ly2N2PWusolqEMQKueXg37JIosbvjBJ4XHGPyz+lBvHg7Ars7AbecDJI6/lVmjt4QUtlJ3KhUntnbz88nNExWyi3G/bwBkle3I+mTRF44Eoq1KobG4srdyiZaRWGP/ABzj61ftW02ODwLoNqbbzZ5YHuHYZym8EDHpy36V5punwX0gcqAFT4Q/Tj8v0qxzRRzhGBd/KQrEoHzx8gOKBmytvUD1zKFQ13Lx4YsUh8OwWKJnEIaP2JFZeeHri7ujNIGIwAqjkA0y8DeRNp1oFdGdIlSXYchWA5Htz2roum2MJhVigPfNK6bVlXN9yj4gZy218AyykXN2cKDkKBgmnFppU0EbqA7KOgLft6Vfr9lSPCKpI/P9KhSxiZd7FEk7r1/SinVnIbJnlwqgocTnYitINXVJEWcTuu8nJPoMYHUelWG70nSTaDbAyMfiVowxGffHNOZ9PiR1yP7rrxIqdPbNBaho11ZRb9Ngtbl/LCLuURsB65Ax+1b+l8qEw/Gqgn9xbJpg7biSP9pU7fQZ1vDNLFM8Y+6GlxkfWmccVuiq8rwlQeAPuD2z3NC6k2pW1pPEy7bluSN4xEuOcEA+wH5174d8NXPiExu9tKkTEx2kzBsLwBuGTzwDyB3PNZmTTZ9Q27IQAYYZ8SnbyTEOt3uo+Ikk0zw9CGEindPMdiAA449c9v2ov+nngc/YIPtcUlvcx3PmTujEGYgcc9duc9QM46V2ODwFptrHAI13yxoqk4wPhHGB2xz9TTddGSFcJHhiMZAra8doMeAi5GTO2UbRwJzrXPDiX81tYPL9nsoyHlVBy/otGXuiaZY6VIkf/wBe1yC3lnaTxjk/nVwudF2tvC5J69SQO9B+ItNtLrRmtHcwpIgyWUhgOvTtW5qfKY9Kqru49wDYAwIAszhGvQ6n4s8TxaNoqLKgXLyEYESdyT0/gArpsumab4Q0AxWJEghTuOSTzk+pNGeCfD+jeHopzpj3Urzvmed8ZwOgHHT55rNYnXUdWitbKzWdkb42fJSEcnntnr9KR1/+ocCjbjNmv8Ji2LS5FO7Jx+v/ACcqggu9V1G51G8SXyYm2ICfvOe2B6ZpnpXhr7TcLFBCzSnLHA7/AOK6Eun28kkcn2OCO2DMVCjBkJ5LE568Z61ZNL023isyxiYFiC7Kev0r5x5HynzMWUTW0+P4xz3E/hDwoujWrSShWncYIXjA+dP44ZIZxIAwVx8RPJFGXMi2sYdnRIzj4mPStopBd2kcwU8juP1rFBZzuaFdpEzYCqgLAnkntWVuEWXMb5x2B71lSaHEHVz8+EuZNRtvJEmXQjqQOMH/AIrxfDurrdlri3lSISYjdyAoGOWJ6Ae/ftT7w/ZTXcSzXdnCC7gcrghSeelMNUiTSSwsZo2aQhdzdMAZwB7V25zDfQ7hWxGjR4iAWt0mqyRTKYWgJ8zf2OCOv86UVeSra23mhgYlOHyMFjwQP56U1jLa7oryW9rL9vDNPcBejDPJ9QfaqtOHu54yznyYslh+EHr1ooFiDxm+DHGitLfaik0iiG2jQT+WTyQwbHz6fSrPazAsgCndIcKM4pRoenXFuzXF98EssIKxD8MfVAeODgk49CvvTLT8LcSEFPMRA20nGwcgfLrmk8oG41PJyZfP6eLNBqgtoAuxstOx6n0x9a7KhaGzjEQyxHArl/8ATGwKr/1NoJjPdMBvY4Tyh0IX1PPPy966tbDzQMptVRge9YGuyHFks/UKlMKEgtInMnnOzZx3H8xUpsYPNWUOwYc8UYqjoK3EWcdazRr3vqE+MCBWtgrXIzLM4JyQx49aaLpsXAWM/mc1Np0P9xjjOBTGNGLYIAHrRk1+SuJG0QC28P6W1ws1xZW8jkgkum7P14q3WllbvFlQFwMKFGMYoTTLaIurS/Ex6CrHDGqoFVdoFdN4n5XG7IbEztQyKaUcxJcWFyqgwqrNn8RxW3kPGmJMFs9e1O5EG3HagNTsluhGsjlIUcOyg43Y55rphnNcxaz6gFzbqYyoXORzkVXNV09esrAL0O7gU313VvI3RWML3U5PIUbVX1y1VF7K/wBWnV9UkRVVsrDExIPf4uTmuX8lrUyN3wPcdxWsHuraW7BtdPubWGEA7pVBfH+P1orStNhtlMaySXBOPNdhhfyA4FNkt/KwG2qGPwqi4yfkKI8j+0UZ229+eTXN6jVll2r1DBbNmAPZ28/9iS1PldQS2B9BRY/toIoVDYGCM4xW8EUUI2RoFXPP+yalbC8g8d6zvkswlQbyg8SLcRh3z65AqR4hjYCV4wMVvjAwPrXqBskfSrHLUgrIhGRtBfJHUkDJrKI2Z5JrKo+VieJAAE+C5ZZbUxmN/hPRSOlLr5LiW4M63TKZCARtyATxmsrK7xOORD9qZ3D+kujWK6AbnygZmz8WOnAz9aU+KvCekz+IbaFYVhSQ75RGoUOBnKkD1x196yspTA7HM9mAz/ioqV7VLh5dX1CZgPvvhfRRwB+QAoTwhpS6mDNPcSDz7lInA9OTWVlNnhSRF1J2z6T8OW8MVioiQIAAqgfhAyAP0puGw2B64rKyuM1TE5TcdTgQmMDA/KiABtyayspeTGelxr5bHHejUQA/lWVlWx/2kHqHaaS06jOOasTNsA4z2rKyu48IbxGZeoH5xLq+sTWqSFIlLL0JPFKddvLx7C2jM+2SRVeR1BGeOQBngVlZTfkGIWhKoIliuZZ7hoWKrEv4UXGaMUGJiEOF25Ax061lZXGZOTzHgKE2uEKyu8hEibNwjI4GOv1ryRneRdrsnwljjkH51lZWblYhqlgJvApO9GbdsPXHJ4B/zRAQM/PbmsrKEBbS46noQYArbywDgdqysq5AqRPSg9e1ZWVlUqQZ/9k=' width='200' height='133' class=\"itemThumbnail\">\n",
       "                       </a>\n",
       "                    </div>\n",
       "\n",
       "                    <div class=\"item_right\"     style=\"float: none; width: auto; overflow: hidden;\">\n",
       "                        <a href='https://pythonapi.playground.esri.com/portal/home/item.html?id=d9b466d6a9e647ce8d1dd5fe12eb434b' target='_blank'><b>Multispectral Landsat</b>\n",
       "                        </a>\n",
       "                        <br/>Landsat 8 OLI, 30m multispectral and multitemporal 8-band imagery, with on-the-fly renderings and indices.  This imagery layer is sourced from the Landsat on AWS collections and is updated daily with new imagery.<img src='https://pythonapi.playground.esri.com/portal/home/js/jsapi/esri/css/images/item_type_icons/imagery16.png' style=\"vertical-align:middle;\">Imagery Layer by esri_livingatlas\n",
       "                        <br/>Last Modified: April 24, 2019\n",
       "                        <br/>0 comments, 2 views\n",
       "                    </div>\n",
       "                </div>\n",
       "                "
      ],
      "text/plain": [
       "<Item title:\"Multispectral Landsat\" type:Imagery Layer owner:esri_livingatlas>"
      ]
     },
     "execution_count": 10,
     "metadata": {},
     "output_type": "execute_result"
    }
   ],
   "source": [
    "def exact_search(my_gis, title, owner_value, item_type_value):\n",
    "    final_match = None\n",
    "    search_result = my_gis.content.search(query= title + ' AND owner:' + owner_value,\n",
    "                                          item_type=item_type_value,\n",
    "                                          outside_org=True)\n",
    "    \n",
    "    if \"Imagery Layer\" in item_type_value:\n",
    "        item_type_value = item_type_value.replace(\"Imagery Layer\", \"Image Service\")\n",
    "    elif \"Layer\" in item_type_value:\n",
    "        item_type_value = item_type_value.replace(\"Layer\", \"Service\")\n",
    "    \n",
    "    for result in search_result:\n",
    "        if result.title == title and result.type == item_type_value:\n",
    "            final_match = result\n",
    "            break\n",
    "    return final_match\n",
    "\n",
    "landsat_item = exact_search(gis, 'Multispectral Landsat', 'esri', 'Imagery Layer')\n",
    "landsat = landsat_item.layers[0]\n",
    "landsat_item"
   ]
  },
  {
   "cell_type": "markdown",
   "metadata": {},
   "source": [
    "Applying Natural color to the filtered Landsat collection using predefined `apply` function"
   ]
  },
  {
   "cell_type": "code",
   "execution_count": 11,
   "metadata": {},
   "outputs": [],
   "source": [
    "rgb_collection = apply(landsat, 'Natural Color with DRA')"
   ]
  },
  {
   "cell_type": "code",
   "execution_count": 12,
   "metadata": {},
   "outputs": [
    {
     "data": {
      "application/vnd.jupyter.widget-view+json": {
       "model_id": "4d17a0d005314fafa0f04a4d178d1b33",
       "version_major": 2,
       "version_minor": 0
      },
      "text/plain": [
       "MapView(layout=Layout(height='400px', width='100%'), zoom=10.0)"
      ]
     },
     "metadata": {},
     "output_type": "display_data"
    },
    {
     "data": {
      "text/html": [
       "<div class=\"map-static-img-preview-72d7b0b8-18e8-49aa-9510-9069917e651c\"><img src=\"\"></img></div>"
      ],
      "text/plain": [
       "<IPython.core.display.HTML object>"
      ]
     },
     "metadata": {},
     "output_type": "display_data"
    }
   ],
   "source": [
    "m = gis.map('Hirakund reservoir, Odisha', 10)\n",
    "m.basemap = 'imagery'\n",
    "\n",
    "m"
   ]
  },
  {
   "cell_type": "code",
   "execution_count": 21,
   "metadata": {},
   "outputs": [
    {
     "data": {
      "text/plain": [
       "{'spatialReference': {'latestWkid': 3857, 'wkid': 102100},\n",
       " 'xmin': 9251479.106444037,\n",
       " 'ymin': 2433602.2844587043,\n",
       " 'xmax': 9401907.17810932,\n",
       " 'ymax': 2494751.907086869}"
      ]
     },
     "execution_count": 21,
     "metadata": {},
     "output_type": "execute_result"
    }
   ],
   "source": [
    "extent = m.extent\n",
    "extent"
   ]
  },
  {
   "cell_type": "markdown",
   "metadata": {},
   "source": [
    "## Function to create collection of images with desired time intervals"
   ]
  },
  {
   "cell_type": "markdown",
   "metadata": {},
   "source": [
    "The function below creates an array of images with the desired time intervals. If a user specifies 'm' then the images in the selected collection will be consolidated on a monthly basis i.e. all the images of the specified extent will be mosaicked monthly and if the user specifies 'y' as the interval then the images in the selected collection will be consolidated on yearly basis."
   ]
  },
  {
   "cell_type": "code",
   "execution_count": 14,
   "metadata": {},
   "outputs": [],
   "source": [
    "def collection(df, interval, start, end, height, width):\n",
    "    images=[]\n",
    "    if(interval=='m'):                                                                                     # monthly\n",
    "        for i in range(int(start.split('-')[0]), int(end.split('-')[0])+1):\n",
    "            for j in range(1,13):\n",
    "                selected = df[(df['AcquisitionDate'].dt.year == i) & (df['AcquisitionDate'].dt.month == j)]\n",
    "                id = selected['OBJECTID'].values.tolist()\n",
    "                if(len(id)>0):\n",
    "                    rgb_collection.mosaic_by(method=\"LockRaster\",lock_rasters=id)\n",
    "                    img_name = 'img_'+str(i)+\"-\"+str(j)+\".jpg\"\n",
    "                    rgb_collection.export_image(bbox=extent, size=[height,width], f='image', \n",
    "                                                  save_folder='.', \n",
    "                                                  save_file=img_name)\n",
    "                    img = Image.open(img_name).convert('RGB')\n",
    "                    font = ImageFont.truetype(\"arial.ttf\", 30)\n",
    "                    draw = ImageDraw.Draw(img)\n",
    "                    draw.text((550, 0),str(j)+\"-\"+str(i),(255,255,255),font=font)\n",
    "                    images.append(img)\n",
    "                    os.remove(img_name)\n",
    "                    \n",
    "    elif(interval=='y'):                                                                                  # yearly\n",
    "        for i in range(int(start.split('-')[0]), int(end.split('-')[0])+1):\n",
    "            selected = df[df['AcquisitionDate'].dt.year == i]\n",
    "            id = selected['OBJECTID'].values.tolist()\n",
    "            if(len(id)>0):\n",
    "                rgb_collection.mosaic_by(method=\"LockRaster\",lock_rasters=id)\n",
    "                img_name = 'img_'+str(i)+\".jpg\"\n",
    "                rgb_collection.export_image(bbox=extent, size=[height,width], f='image', \n",
    "                                              save_folder='.', \n",
    "                                              save_file=img_name)\n",
    "                img = Image.open(img_name).convert('RGB')\n",
    "                font = ImageFont.truetype(\"arial.ttf\", 30)\n",
    "                draw = ImageDraw.Draw(img)\n",
    "                draw.text((550, 0),str(i),(255,255,255),font=font)    \n",
    "                images.append(img)\n",
    "                os.remove(img_name)\n",
    "    \n",
    "    return images"
   ]
  },
  {
   "cell_type": "markdown",
   "metadata": {},
   "source": [
    "## Make video from image collection"
   ]
  },
  {
   "cell_type": "markdown",
   "metadata": {},
   "source": [
    "The function below will generate a movie (gif) from the collection saved from the above step."
   ]
  },
  {
   "cell_type": "code",
   "execution_count": 15,
   "metadata": {},
   "outputs": [],
   "source": [
    "def create_movie(target, interval, start, end, height, width, extent, duration):\n",
    "    start_date = dt.datetime.strptime(start, '%Y-%m-%d')\n",
    "    end_date = dt.datetime.strptime(end, '%Y-%m-%d')\n",
    "    selected = target.filter_by(where=\"(Category = 1) AND (CloudCover <=0.5)\",\n",
    "                             time=[start_date, end_date],\n",
    "                             geometry=arcgis.geometry.filters.intersects(extent))\n",
    "\n",
    "    df = selected.query(out_fields=\"AcquisitionDate, GroupName, CloudCover, DayOfYear\", \n",
    "                        order_by_fields=\"AcquisitionDate\").sdf\n",
    "    df['AcquisitionDate'] = pd.to_datetime(df['AcquisitionDate'], unit='ms')\n",
    "    frames = collection(df, interval, start, end, height, width)\n",
    "    imageio.mimsave('movie'+'_'+interval+'.gif', frames, duration=duration)\n",
    "    print(\"Movie Created\")"
   ]
  },
  {
   "cell_type": "code",
   "execution_count": 20,
   "metadata": {},
   "outputs": [
    {
     "name": "stdout",
     "output_type": "stream",
     "text": [
      "Movie Created\n"
     ]
    }
   ],
   "source": [
    "create_movie(rgb_collection,'m' ,'2019-01-01','2019-12-31', 1250, 450, extent, 0.4)          # calling create_movie function"
   ]
  },
  {
   "cell_type": "markdown",
   "metadata": {},
   "source": [
    "The movie (gif) will be created in the same directory where your notebook exists. The gif below is generated using the code above which shows how the Hirakund reservoir in Odisha, India changed monthly in the year 2019."
   ]
  },
  {
   "cell_type": "markdown",
   "metadata": {},
   "source": [
    "![SegmentLocal](../../static/img/movie_m.gif \"segment\")"
   ]
  }
 ],
 "metadata": {
  "kernelspec": {
   "display_name": "Python 3",
   "language": "python",
   "name": "python3"
  },
  "language_info": {
   "codemirror_mode": {
    "name": "ipython",
    "version": 3
   },
   "file_extension": ".py",
   "mimetype": "text/x-python",
   "name": "python",
   "nbconvert_exporter": "python",
   "pygments_lexer": "ipython3",
   "version": "3.6.9"
  }
 },
 "nbformat": 4,
 "nbformat_minor": 2
}
