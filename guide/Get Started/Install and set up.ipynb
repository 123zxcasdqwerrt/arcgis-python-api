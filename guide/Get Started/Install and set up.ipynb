{
 "cells": [
  {
   "cell_type": "markdown",
   "metadata": {},
   "source": [
    "# Install using Conda\n",
    "\n",
    "The ArcGIS Python API is distributed via conda.\n",
    "\n",
    "To learn more about conda, see the [getting started guide](http://conda.pydata.org/docs/get-started.html) for conda.\n",
    "\n",
    "## Get Conda\n",
    "Install [Anaconda for Python 3.5](https://www.continuum.io/downloads), if you don't already have Conda.\n",
    "\n",
    "## Install arcgis package\n",
    "Download and install ArcGIS Python API in your conda environment:\n",
    "\n",
    "    conda install -c esri arcgis\n",
    "\n",
    "You can now start using the ArcGIS Python API in your Python IDE of choice, or the Jupyter Notebook environment.\n",
    "\n",
    "## Start jupyter notebook\n",
    "\n",
    "To use the API in the jupyter notebook environment, use the following command in  cmd.exe or your shell:\n",
    "\n",
    "    jupyter notebook\n"
   ]
  }
 ],
 "metadata": {
  "kernelspec": {
   "display_name": "Python 3",
   "language": "python",
   "name": "python3"
  },
  "language_info": {
   "codemirror_mode": {
    "name": "ipython",
    "version": 3
   },
   "file_extension": ".py",
   "mimetype": "text/x-python",
   "name": "python",
   "nbconvert_exporter": "python",
   "pygments_lexer": "ipython3",
   "version": "3.4.4"
  }
 },
 "nbformat": 4,
 "nbformat_minor": 0
}
