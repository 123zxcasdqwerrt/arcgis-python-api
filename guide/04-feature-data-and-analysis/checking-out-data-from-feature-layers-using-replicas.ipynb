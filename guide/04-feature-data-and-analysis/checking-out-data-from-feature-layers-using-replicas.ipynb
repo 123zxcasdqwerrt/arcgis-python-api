{
 "cells": [
  {
   "cell_type": "markdown",
   "metadata": {},
   "source": [
    "# Sync overview\n",
    "\n",
    "Feature layers includes a `Sync` capability, which when enabled, allows client applications to take feature layers offline, perform edits and sync it back to the layer. When you checkout some features and store it offline in the client, you call that a `replica`. The `FeatureLayerCollection` class under the `features` module allows users to create and work with replicas. The workflow of using sync involves these three operations:\n",
    "- Create replica\n",
    "- Synchronize replica\n",
    "- Unregister replica\n",
    "\n",
    "To learn more about this feature, refer to the [documentation here](http://resources.arcgis.com/en/help/arcgis-rest-api/index.html#//02r300000112000000)"
   ]
  },
  {
   "cell_type": "markdown",
   "metadata": {},
   "source": [
    "## Checking out data from feature layers using replicas\n",
    "To create a replica, we need a feature layer that is sync enabled. We can use the `syncEnabled` property of a `FeatureLayer` object to verify that. Further the `syncCapabilities` property returns a dictionary with fine grained sync capabilities"
   ]
  },
  {
   "cell_type": "code",
   "execution_count": 1,
   "metadata": {},
   "outputs": [],
   "source": [
    "# connect to a GIS\n",
    "from arcgis.gis import GIS\n",
    "import arcgis.features\n",
    "gis = GIS() # connect to www.arcgis.com anonymously. \n",
    "            # we will use a public sync enabled feature layer"
   ]
  },
  {
   "cell_type": "markdown",
   "metadata": {},
   "source": [
    "To create and work with replicas, we need to create a `FeatureLayerCollection` object. A `FeatureLayerCollection` object can be created from either a feature layer `Item` or directly using a feature service URL.\n",
    "\n",
    "Here, we will connect to a sample service by esri with URL `https://sampleserver6.arcgisonline.com/arcgis/rest/services/Sync/WildfireSync/FeatureServer/` "
   ]
  },
  {
   "cell_type": "code",
   "execution_count": 2,
   "metadata": {},
   "outputs": [],
   "source": [
    "url = 'https://sampleserver6.arcgisonline.com/arcgis/rest/services/Sync/WildfireSync/FeatureServer/'\n",
    "wildfire_flc = arcgis.features.FeatureLayerCollection(url, gis)"
   ]
  },
  {
   "cell_type": "code",
   "execution_count": 3,
   "metadata": {},
   "outputs": [
    {
     "data": {
      "text/plain": [
       "arcgis.features.layer.FeatureLayerCollection"
      ]
     },
     "execution_count": 3,
     "metadata": {},
     "output_type": "execute_result"
    }
   ],
   "source": [
    "type(wildfire_flc)"
   ]
  },
  {
   "cell_type": "markdown",
   "metadata": {},
   "source": [
    "### Verify if sync is enabled\n",
    "\n",
    "Accessing the `layers` property on a `FeatureLayerCollection` returns a list of `FeatureLayer` objects. We can create a replica of one of these or all of these layers"
   ]
  },
  {
   "cell_type": "code",
   "execution_count": 4,
   "metadata": {},
   "outputs": [
    {
     "data": {
      "text/plain": [
       "[<FeatureLayer url:\"https://sampleserver6.arcgisonline.com/arcgis/rest/services/Sync/WildfireSync/FeatureServer//0\">,\n",
       " <FeatureLayer url:\"https://sampleserver6.arcgisonline.com/arcgis/rest/services/Sync/WildfireSync/FeatureServer//1\">,\n",
       " <FeatureLayer url:\"https://sampleserver6.arcgisonline.com/arcgis/rest/services/Sync/WildfireSync/FeatureServer//2\">]"
      ]
     },
     "execution_count": 4,
     "metadata": {},
     "output_type": "execute_result"
    }
   ],
   "source": [
    "wildfire_flc.layers"
   ]
  },
  {
   "cell_type": "code",
   "execution_count": 5,
   "metadata": {},
   "outputs": [
    {
     "data": {
      "text/plain": [
       "True"
      ]
     },
     "execution_count": 5,
     "metadata": {},
     "output_type": "execute_result"
    }
   ],
   "source": [
    "# query syncEnabled property to verify is sync is enabled\n",
    "wildfire_flc.properties.syncEnabled"
   ]
  },
  {
   "cell_type": "code",
   "execution_count": 6,
   "metadata": {},
   "outputs": [
    {
     "data": {
      "text/plain": [
       "{\n",
       "  \"supportsRegisteringExistingData\": true,\n",
       "  \"supportsSyncDirectionControl\": true,\n",
       "  \"supportsPerLayerSync\": true,\n",
       "  \"supportsPerReplicaSync\": false,\n",
       "  \"supportsRollbackOnFailure\": false,\n",
       "  \"supportsAsync\": true,\n",
       "  \"supportsAttachmentsSyncDirection\": true,\n",
       "  \"supportsSyncModelNone\": true\n",
       "}"
      ]
     },
     "execution_count": 6,
     "metadata": {},
     "output_type": "execute_result"
    }
   ],
   "source": [
    "# query the syncCapabilities property to view fine grained capabilities\n",
    "wildfire_flc.properties.syncCapabilities"
   ]
  },
  {
   "cell_type": "markdown",
   "metadata": {},
   "source": [
    "### List existing replicas\n",
    "\n",
    "The `replicas` property on a `FeatureLayerCollection` object returns you a `SyncManager` object. You would work with this manager object for all your sync workflows.\n",
    "\n",
    "You can find if any replicas were created earlier on this layer by calling `get_list()` method on the `SyncManager` object."
   ]
  },
  {
   "cell_type": "code",
   "execution_count": 7,
   "metadata": {},
   "outputs": [
    {
     "data": {
      "text/plain": [
       "2191"
      ]
     },
     "execution_count": 7,
     "metadata": {},
     "output_type": "execute_result"
    }
   ],
   "source": [
    "replica_list = wildfire_flc.replicas.get_list()\n",
    "len(replica_list)"
   ]
  },
  {
   "cell_type": "markdown",
   "metadata": {},
   "source": [
    "As you can see, there are plenty of replicas on this layer. Let us view one of it"
   ]
  },
  {
   "cell_type": "code",
   "execution_count": 8,
   "metadata": {},
   "outputs": [
    {
     "data": {
      "text/plain": [
       "{'replicaName': 'Ags_Fs_1543141555952',\n",
       " 'replicaID': 'A2A63918-F35D-4441-8AE8-693A672F4BED'}"
      ]
     },
     "execution_count": 8,
     "metadata": {},
     "output_type": "execute_result"
    }
   ],
   "source": [
    "replica_list[0]"
   ]
  },
  {
   "cell_type": "markdown",
   "metadata": {},
   "source": [
    "### Create a replica\n",
    "Now, let us create our own replica of this feature layer. The `create()` method accepts a number of parameters allowing you to adjust what needs to be replicated and customize other options. For more information on this operation, refer to the [documentation here](http://resources.arcgis.com/en/help/arcgis-rest-api/index.html#//02r3000000rp000000).\n",
    "\n",
    "The full capability of the sync operation allows you to check out data from a feature layer, make edits and sync the deltas (changes) back to the server and update the features. This is popular in use cases which involve client applications such as ArcGIS Runtime or ArcGIS Desktop applications check out data, go offline (such as in areas where network connectivity is limited), make edits, then synchronize the data back to the server and update the features. The capability allows multiple clients to do this in parallel, thus enabling a large data collection effort.\n",
    "\n",
    "However, if your purpose of a replica is only to check out the data (one directional), then you can verify if the `extract` capability is enabled on the feature layer and create a replica that is just meant for data check out. We will see this use case below:"
   ]
  },
  {
   "cell_type": "code",
   "execution_count": 9,
   "metadata": {},
   "outputs": [
    {
     "data": {
      "text/plain": [
       "'Create,Delete,Query,Sync,Update,Uploads,Editing'"
      ]
     },
     "execution_count": 9,
     "metadata": {},
     "output_type": "execute_result"
    }
   ],
   "source": [
    "# list all capabilities\n",
    "wildfire_flc.properties.capabilities"
   ]
  },
  {
   "cell_type": "markdown",
   "metadata": {},
   "source": [
    "This layer has disabled 'Extract'. Hence let us search for a different layer via a different GIS connection (e.g. use either an existing `profile` or `GIS(url=\"your enterprise\", username='user name', password='password') to set up the connection`)"
   ]
  },
  {
   "cell_type": "code",
   "execution_count": 15,
   "metadata": {},
   "outputs": [],
   "source": [
    "portal_gis = GIS(profile='Your_Enterprise_Profile')\n",
    "search_result = portal_gis.content.search(\"Chennai Precipitation\", \"Feature Layer\")"
   ]
  },
  {
   "cell_type": "code",
   "execution_count": 17,
   "metadata": {},
   "outputs": [
    {
     "data": {
      "text/html": [
       "<div class=\"item_container\" style=\"height: auto; overflow: hidden; border: 1px solid #cfcfcf; border-radius: 2px; background: #f6fafa; line-height: 1.21429em; padding: 10px;\">\n",
       "                    <div class=\"item_left\" style=\"width: 210px; float: left;\">\n",
       "                       <a href='https://pythonapi.playground.esri.com/portal/home/item.html?id=0dfecaf74d614db9b419016123f8d7be' target='_blank'>\n",
       "                        <img src='data:image/png;base64,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' width='200' height='133' class=\"itemThumbnail\">\n",
       "                       </a>\n",
       "                    </div>\n",
       "\n",
       "                    <div class=\"item_right\"     style=\"float: none; width: auto; overflow: hidden;\">\n",
       "                        <a href='https://pythonapi.playground.esri.com/portal/home/item.html?id=0dfecaf74d614db9b419016123f8d7be' target='_blank'><b>Chennai_precipitation_FS</b>\n",
       "                        </a>\n",
       "                        <br/>FS<img src='https://pythonapi.playground.esri.com/portal/home/js/jsapi/esri/css/images/item_type_icons/featureshosted16.png' style=\"vertical-align:middle;\">Feature Layer Collection by arcgis_python\n",
       "                        <br/>Last Modified: March 25, 2019\n",
       "                        <br/>0 comments, 1 views\n",
       "                    </div>\n",
       "                </div>\n",
       "                "
      ],
      "text/plain": [
       "<Item title:\"Chennai_precipitation_FS\" type:Feature Layer Collection owner:arcgis_python>"
      ]
     },
     "execution_count": 17,
     "metadata": {},
     "output_type": "execute_result"
    }
   ],
   "source": [
    "search_result[0]"
   ]
  },
  {
   "cell_type": "markdown",
   "metadata": {},
   "source": [
    "Let us create a `FeatureLayerCollection` object from this item"
   ]
  },
  {
   "cell_type": "code",
   "execution_count": 18,
   "metadata": {},
   "outputs": [
    {
     "data": {
      "text/plain": [
       "arcgis.features.layer.FeatureLayerCollection"
      ]
     },
     "execution_count": 18,
     "metadata": {},
     "output_type": "execute_result"
    }
   ],
   "source": [
    "precip_flc = arcgis.features.FeatureLayerCollection.fromitem(search_result[0])\n",
    "type(precip_flc)"
   ]
  },
  {
   "cell_type": "markdown",
   "metadata": {},
   "source": [
    "#### Verify Extract capability"
   ]
  },
  {
   "cell_type": "code",
   "execution_count": 19,
   "metadata": {},
   "outputs": [
    {
     "data": {
      "text/plain": [
       "'Query,Editing,Create,Update,Delete,Uploads,Sync,Extract'"
      ]
     },
     "execution_count": 19,
     "metadata": {},
     "output_type": "execute_result"
    }
   ],
   "source": [
    "precip_flc.properties.capabilities"
   ]
  },
  {
   "cell_type": "markdown",
   "metadata": {},
   "source": [
    "This is a suitable feature layer (since `Sync` and `Extract` are both enabled as seen in the capabilities), let us extract the data into a file geodatabase and store it in local file system"
   ]
  },
  {
   "cell_type": "code",
   "execution_count": 20,
   "metadata": {},
   "outputs": [],
   "source": [
    "precip_flc = arcgis.features.FeatureLayerCollection.fromitem(search_result[0])"
   ]
  },
  {
   "cell_type": "markdown",
   "metadata": {},
   "source": [
    "The \"fullExtent\" of the speicifc `FeatureLayerCollection` object can be extracted and used to construct the geometry filter to be used in the `create` method mentioned later."
   ]
  },
  {
   "cell_type": "code",
   "execution_count": 21,
   "metadata": {},
   "outputs": [
    {
     "data": {
      "text/plain": [
       "'8427553.370,1319771.441,9366867.233,1637738.240'"
      ]
     },
     "execution_count": 21,
     "metadata": {},
     "output_type": "execute_result"
    }
   ],
   "source": [
    "extents =precip_flc.properties['fullExtent']\n",
    "extents_str = \",\".join(format(x, \"10.3f\") for x in [extents['xmin'],extents['ymin'],extents['xmax'], extents['ymax']])\n",
    "extents_str"
   ]
  },
  {
   "cell_type": "markdown",
   "metadata": {},
   "source": [
    "Now we are ready to create the geometry filter. `geom_filter` is a spatial filter class object from arcgis.geometry.filters module to filter results by a spatial relationship with geometry (in this case, using the full extents of the AOI)"
   ]
  },
  {
   "cell_type": "code",
   "execution_count": 22,
   "metadata": {},
   "outputs": [
    {
     "data": {
      "text/plain": [
       "{'geometryType': 'esriGeometryEnvelope',\n",
       " 'geometry': '8427553.370,1319771.441,9366867.233,1637738.240'}"
      ]
     },
     "execution_count": 22,
     "metadata": {},
     "output_type": "execute_result"
    }
   ],
   "source": [
    "geom_filter = {'geometryType':'esriGeometryEnvelope'}\n",
    "geom_filter.update({'geometry':extents_str})\n",
    "geom_filter"
   ]
  },
  {
   "cell_type": "markdown",
   "metadata": {},
   "source": [
    "Use the `out_path` to specify the folder path to save the replica file, e.g. executing the cell below would save the replica file at server side location `/arcgis/home/_ags_dataCD5DF71B837145659373688069879EBC.geodatabase`"
   ]
  },
  {
   "cell_type": "code",
   "execution_count": 23,
   "metadata": {},
   "outputs": [
    {
     "data": {
      "text/plain": [
       "{'transportType': 'esriTransportTypeURL',\n",
       " 'replicaName': 'arcgis_python_api_precip',\n",
       " 'responseType': 'esriReplicaResponseTypeData',\n",
       " 'replicaID': 'E4EFEDA2-BA14-4815-B6DE-2B011298E5FE',\n",
       " 'targetType': 'server',\n",
       " 'resultUrl': 'https://pythonapi.playground.esri.com/server/rest/directories/arcgisjobs/system/synctools_gpserver/j63a7626a619349dda0ad77de89389fcd/scratch/_ags_dataCD5DF71B837145659373688069879EBC.geodatabase',\n",
       " 'submissionTime': 1553545434000,\n",
       " 'lastUpdatedTime': 1553545437000,\n",
       " 'status': 'Completed'}"
      ]
     },
     "execution_count": 23,
     "metadata": {},
     "output_type": "execute_result"
    }
   ],
   "source": [
    "replica1 = precip_flc.replicas.create(replica_name = 'arcgis_python_api_precip',\n",
    "                                      layers='0',\n",
    "                                      geometry_filter=geom_filter,\n",
    "                                      sync_model=\"perLayer\",\n",
    "                                      target_type=\"server\",\n",
    "                                      data_format=\"sqlite\",\n",
    "                                      out_path=r'/arcgis/home')\n",
    "replica1"
   ]
  },
  {
   "cell_type": "markdown",
   "metadata": {},
   "source": [
    "Thus, we were able to checkout data from this feature layer into a geodatabase. Clients can use this data in any way they wish, for instance, publish it as another feature layer to a different portal or just store it for archival."
   ]
  },
  {
   "cell_type": "markdown",
   "metadata": {},
   "source": [
    "## Removing replicas\n",
    "\n",
    "The sync operation is expensive on the resources of your web GIS. Hence, it is a good maintenance practice to remove unnecessary replicas. An ArcGIS admin could use the ArcGIS Python API to script and automate the process of scanning all feature layers and removing stale replicas on each of them.\n",
    "\n",
    "A replica can be removed by calling the `unregister()` method and passing the id of a replica that needs to be removed."
   ]
  },
  {
   "cell_type": "code",
   "execution_count": 24,
   "metadata": {},
   "outputs": [],
   "source": [
    "# Let us query all the replicas registered on the ports feature layer from before\n",
    "replica_list = precip_flc.replicas.get_list()"
   ]
  },
  {
   "cell_type": "code",
   "execution_count": 25,
   "metadata": {},
   "outputs": [
    {
     "name": "stdout",
     "output_type": "stream",
     "text": [
      "{'replicaName': 'arcgis_python_api_precip', 'replicaID': 'E4EFEDA2-BA14-4815-B6DE-2B011298E5FE'}\n"
     ]
    }
   ],
   "source": [
    "for r in replica_list:\n",
    "    print(r)"
   ]
  },
  {
   "cell_type": "markdown",
   "metadata": {},
   "source": [
    "There are more than a few. I only want to remove the replicas that were registered 10 minutes ago. But, your search criteria could be any other. \n",
    "\n",
    "We will loop through each of the replicas returned and use the `get()` method to get detailed information about these replicas and look a `creationDate` property."
   ]
  },
  {
   "cell_type": "markdown",
   "metadata": {},
   "source": [
    "Before looping, let us take a deeper look at one of these replicas by calling the `get()` method:"
   ]
  },
  {
   "cell_type": "code",
   "execution_count": 26,
   "metadata": {},
   "outputs": [
    {
     "data": {
      "text/plain": [
       "{'replicaName': 'arcgis_python_api_precip',\n",
       " 'replicaID': 'E4EFEDA2-BA14-4815-B6DE-2B011298E5FE',\n",
       " 'replicaOwner': 'arcgis_python',\n",
       " 'spatialReference': {'wkid': 102100, 'latestWkid': 3857},\n",
       " 'layerServerGens': [{'id': 0, 'serverGen': 1553545435219, 'serverSibGen': 0}],\n",
       " 'creationDate': 1553545435219,\n",
       " 'lastSyncDate': 1553545435219,\n",
       " 'syncModel': 'perLayer',\n",
       " 'targetType': 'server',\n",
       " 'syncDirection': 'download',\n",
       " 'returnsAttachments': False,\n",
       " 'returnAttachments': False,\n",
       " 'attachmentsSyncDirection': 'none',\n",
       " 'spatialRel': 'esriSpatialRelIntersects',\n",
       " 'geometry': {'xmin': 8427553.37,\n",
       "  'ymin': 1319771.441,\n",
       "  'xmax': 9366867.233,\n",
       "  'ymax': 1637738.24,\n",
       "  'spatialReference': {'wkid': 102100, 'latestWkid': 3857}},\n",
       " 'layers': [{'id': 0,\n",
       "   'queryOption': 'useFilter',\n",
       "   'useGeometry': True,\n",
       "   'includeRelated': True,\n",
       "   'where': ''}]}"
      ]
     },
     "execution_count": 26,
     "metadata": {},
     "output_type": "execute_result"
    }
   ],
   "source": [
    "replica1 = precip_flc.replicas.get(replica_list[0]['replicaID'])\n",
    "replica1"
   ]
  },
  {
   "cell_type": "markdown",
   "metadata": {},
   "source": [
    "The `creationDate` key is retured as unix epoch time. We need to convert it to local time for processing:"
   ]
  },
  {
   "cell_type": "code",
   "execution_count": 27,
   "metadata": {},
   "outputs": [
    {
     "data": {
      "text/plain": [
       "time.struct_time(tm_year=2019, tm_mon=3, tm_mday=25, tm_hour=13, tm_min=23, tm_sec=55, tm_wday=0, tm_yday=84, tm_isdst=1)"
      ]
     },
     "execution_count": 27,
     "metadata": {},
     "output_type": "execute_result"
    }
   ],
   "source": [
    "import time\n",
    "time.localtime(replica1['creationDate']/1000) #dividing by 1000 to convert micro seconds to seconds"
   ]
  },
  {
   "cell_type": "markdown",
   "metadata": {},
   "source": [
    "To determine those replicas that were created 10 mins earlier, let us create an epoch timestamp for 10 mins before now and find those replicas whose time stamps are lower than this"
   ]
  },
  {
   "cell_type": "code",
   "execution_count": 28,
   "metadata": {},
   "outputs": [
    {
     "data": {
      "text/plain": [
       "1553545434.0880013"
      ]
     },
     "execution_count": 28,
     "metadata": {},
     "output_type": "execute_result"
    }
   ],
   "source": [
    "ten_min_earlier_epoch = time.time() - 10\n",
    "ten_min_earlier_epoch"
   ]
  },
  {
   "cell_type": "code",
   "execution_count": 32,
   "metadata": {},
   "outputs": [
    {
     "name": "stdout",
     "output_type": "stream",
     "text": [
      "{'replica_id': 'E4EFEDA2-BA14-4815-B6DE-2B011298E5FE', 'creationDate': 1553545435.219}\n"
     ]
    }
   ],
   "source": [
    "import time\n",
    "removal_list = []\n",
    "for r in replica_list:\n",
    "    temp_r = precip_flc.replicas.get(r['replicaID'])\n",
    "    temp_dict = {'replica_id': r['replicaID'],\n",
    "                'creationDate':temp_r['creationDate']/1000}\n",
    "    \n",
    "    #check\n",
    "    if temp_dict['creationDate'] < ten_min_earlier_epoch:\n",
    "        removal_list.append(temp_dict)\n",
    "        print(temp_dict)"
   ]
  },
  {
   "cell_type": "markdown",
   "metadata": {},
   "source": [
    "Let us loop through each of these replicas and remove them using the `unregister()` method:"
   ]
  },
  {
   "cell_type": "code",
   "execution_count": 33,
   "metadata": {},
   "outputs": [
    {
     "name": "stdout",
     "output_type": "stream",
     "text": [
      "{'success': True}\n"
     ]
    }
   ],
   "source": [
    "for r in removal_list:\n",
    "    result = precip_flc.replicas.unregister(r['replica_id'])\n",
    "    print(result)"
   ]
  }
 ],
 "metadata": {
  "anaconda-cloud": {},
  "kernelspec": {
   "display_name": "Python 3",
   "language": "python",
   "name": "python3"
  },
  "language_info": {
   "codemirror_mode": {
    "name": "ipython",
    "version": 3
   },
   "file_extension": ".py",
   "mimetype": "text/x-python",
   "name": "python",
   "nbconvert_exporter": "python",
   "pygments_lexer": "ipython3",
   "version": "3.6.8"
  }
 },
 "nbformat": 4,
 "nbformat_minor": 1
}
