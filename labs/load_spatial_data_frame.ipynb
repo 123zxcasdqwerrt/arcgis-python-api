{
 "cells": [
  {
   "cell_type": "markdown",
   "metadata": {},
   "source": [
    "# Load Spatial Data Frame DevLab\n",
    "This is the completed sample for the [`Load spatial data frame`](https://developers.arcgis.com/labs/python/load-spatial-data-frame/) ArcGIS DevLab. [ArcGIS DevLabs](https://developers.arcgis.com/labs/) are short introductory tutorials to guide you through the three phases of building geospatial apps: Data, Design, Develop.\n",
    "\n",
    "***Note**: Please complete the [Create data lab](https://developers.arcgis.com/labs/data/python/create-data/) if you have not done so already. You will use the output feature layer from this lab to learn how to find and share an item."
   ]
  },
  {
   "cell_type": "code",
   "execution_count": 13,
   "metadata": {
    "collapsed": true
   },
   "outputs": [],
   "source": [
    "from arcgis.gis import GIS\n",
    "from arcgis.features import SpatialDataFrame"
   ]
  },
  {
   "cell_type": "markdown",
   "metadata": {},
   "source": [
    "Log into ArcGIS Online by making a GIS connection using your developer account. Replace `username` and `password` with your own credentials"
   ]
  },
  {
   "cell_type": "code",
   "execution_count": null,
   "metadata": {},
   "outputs": [],
   "source": [
    "gis = GIS(\"https://www.arcgis.com\", \"username\", \"password\")"
   ]
  },
  {
   "cell_type": "markdown",
   "metadata": {},
   "source": [
    "Search for the *Griffith Park Access* layer used in the [Create data lab](https://developers.arcgis.com/labs/data/python/create-data/) DevLab."
   ]
  },
  {
   "cell_type": "code",
   "execution_count": 15,
   "metadata": {},
   "outputs": [
    {
     "data": {
      "text/plain": [
       "[<Item title:\"Griffith\" type:Feature Layer Collection owner:mpayson_startups>]"
      ]
     },
     "execution_count": 15,
     "metadata": {},
     "output_type": "execute_result"
    }
   ],
   "source": [
    "feature_service_srch_results = gis.content.search(query='title: \"Griffith*\" AND type: \"Feature Service\"')\n",
    "feature_service_srch_results"
   ]
  },
  {
   "cell_type": "markdown",
   "metadata": {},
   "source": [
    "Retrieve the feature service item from the list of results. Then, get the layer from that service."
   ]
  },
  {
   "cell_type": "code",
   "execution_count": 16,
   "metadata": {},
   "outputs": [
    {
     "data": {
      "text/plain": [
       "<FeatureLayer url:\"https://services3.arcgis.com/GVgbJbqm8hXASVYi/arcgis/rest/services/Trailheads/FeatureServer/0\">"
      ]
     },
     "execution_count": 16,
     "metadata": {},
     "output_type": "execute_result"
    }
   ],
   "source": [
    "feature_service_item = feature_service_srch_results[0]\n",
    "feature_layer = feature_service_item.layers[0]\n",
    "feature_layer"
   ]
  },
  {
   "cell_type": "markdown",
   "metadata": {},
   "source": [
    "Build the [Spatial Data Frame](https://esri.github.io/arcgis-python-api/apidoc/html/arcgis.features.toc.html#spatialdataframe)!"
   ]
  },
  {
   "cell_type": "code",
   "execution_count": 17,
   "metadata": {},
   "outputs": [
    {
     "data": {
      "text/html": [
       "<div>\n",
       "<style scoped>\n",
       "    .dataframe tbody tr th:only-of-type {\n",
       "        vertical-align: middle;\n",
       "    }\n",
       "\n",
       "    .dataframe tbody tr th {\n",
       "        vertical-align: top;\n",
       "    }\n",
       "\n",
       "    .dataframe thead th {\n",
       "        text-align: right;\n",
       "    }\n",
       "</style>\n",
       "<table border=\"1\" class=\"dataframe\">\n",
       "  <thead>\n",
       "    <tr style=\"text-align: right;\">\n",
       "      <th></th>\n",
       "      <th>CITY_JUR</th>\n",
       "      <th>ELEV_FT</th>\n",
       "      <th>FEATURE</th>\n",
       "      <th>FEAT_CMNT</th>\n",
       "      <th>FID</th>\n",
       "      <th>LAT</th>\n",
       "      <th>LON</th>\n",
       "      <th>OBJECTID</th>\n",
       "      <th>PARKING</th>\n",
       "      <th>PARK_NAME</th>\n",
       "      <th>PHOTO</th>\n",
       "      <th>SEG_ID</th>\n",
       "      <th>SUP_DIST</th>\n",
       "      <th>TRL_ID</th>\n",
       "      <th>TRL_NAME</th>\n",
       "      <th>X_STREET</th>\n",
       "      <th>ZIP_CODE</th>\n",
       "      <th>SHAPE</th>\n",
       "    </tr>\n",
       "  </thead>\n",
       "  <tbody>\n",
       "    <tr>\n",
       "      <th>0</th>\n",
       "      <td>Unincorporated Los Angeles County</td>\n",
       "      <td>831</td>\n",
       "      <td>TAPO</td>\n",
       "      <td>Auto Generated and Verified</td>\n",
       "      <td>1</td>\n",
       "      <td>34.113057</td>\n",
       "      <td>-118.751527</td>\n",
       "      <td>7769</td>\n",
       "      <td>SA</td>\n",
       "      <td>National Parks Service</td>\n",
       "      <td>None</td>\n",
       "      <td>200820000.0</td>\n",
       "      <td>3rd District</td>\n",
       "      <td>20082</td>\n",
       "      <td>Medea Creek Trail</td>\n",
       "      <td>28825 Lake Vista Dr</td>\n",
       "      <td>91301.0</td>\n",
       "      <td>{'x': -13219359.478715053, 'y': 4043992.964497...</td>\n",
       "    </tr>\n",
       "    <tr>\n",
       "      <th>1</th>\n",
       "      <td>Unincorporated Los Angeles County</td>\n",
       "      <td>1555</td>\n",
       "      <td>TAPO</td>\n",
       "      <td>None</td>\n",
       "      <td>2</td>\n",
       "      <td>34.059687</td>\n",
       "      <td>-118.616545</td>\n",
       "      <td>8047</td>\n",
       "      <td>ST</td>\n",
       "      <td>National Parks Service</td>\n",
       "      <td>None</td>\n",
       "      <td>200670000.0</td>\n",
       "      <td>3rd District</td>\n",
       "      <td>20067</td>\n",
       "      <td>Hearst Tank Motorway</td>\n",
       "      <td>3200 Tuna Canyon Rd</td>\n",
       "      <td>90290.0</td>\n",
       "      <td>{'x': -13204333.421340073, 'y': 4036819.355827...</td>\n",
       "    </tr>\n",
       "    <tr>\n",
       "      <th>2</th>\n",
       "      <td>Unincorporated Los Angeles County</td>\n",
       "      <td>758</td>\n",
       "      <td>TH</td>\n",
       "      <td>Auto Generated and Verified</td>\n",
       "      <td>3</td>\n",
       "      <td>34.117364</td>\n",
       "      <td>-118.756839</td>\n",
       "      <td>7770</td>\n",
       "      <td>SA</td>\n",
       "      <td>National Parks Service</td>\n",
       "      <td>None</td>\n",
       "      <td>200840000.0</td>\n",
       "      <td>3rd District</td>\n",
       "      <td>20084</td>\n",
       "      <td>Medicine Woman Trail</td>\n",
       "      <td>2900 Cornell Rd</td>\n",
       "      <td>91301.0</td>\n",
       "      <td>{'x': -13219950.875755034, 'y': 4044572.018172...</td>\n",
       "    </tr>\n",
       "    <tr>\n",
       "      <th>3</th>\n",
       "      <td>Los Angeles</td>\n",
       "      <td>0</td>\n",
       "      <td>TAPO</td>\n",
       "      <td>Auto Generated and Verified</td>\n",
       "      <td>4</td>\n",
       "      <td>34.079346</td>\n",
       "      <td>-118.519724</td>\n",
       "      <td>8048</td>\n",
       "      <td>ST</td>\n",
       "      <td>CA State Parks - Topanga</td>\n",
       "      <td>None</td>\n",
       "      <td>101330000.0</td>\n",
       "      <td>3rd District</td>\n",
       "      <td>10133</td>\n",
       "      <td>Pipe Corral Spur Trail</td>\n",
       "      <td>None</td>\n",
       "      <td>90272.0</td>\n",
       "      <td>{'x': -13193555.284564309, 'y': 4039461.172009...</td>\n",
       "    </tr>\n",
       "    <tr>\n",
       "      <th>4</th>\n",
       "      <td>Unincorporated Los Angeles County</td>\n",
       "      <td>1982</td>\n",
       "      <td>TH</td>\n",
       "      <td>Auto Generated and Verified</td>\n",
       "      <td>5</td>\n",
       "      <td>34.079060</td>\n",
       "      <td>-118.755563</td>\n",
       "      <td>7773</td>\n",
       "      <td>ST</td>\n",
       "      <td>CA State Parks - Malibu Creek</td>\n",
       "      <td>None</td>\n",
       "      <td>101120000.0</td>\n",
       "      <td>3rd District</td>\n",
       "      <td>10112</td>\n",
       "      <td>Mesa Peak Motorway</td>\n",
       "      <td>300 Corral Canyon Rd</td>\n",
       "      <td>90265.0</td>\n",
       "      <td>{'x': -13219808.808707688, 'y': 4039422.795144...</td>\n",
       "    </tr>\n",
       "  </tbody>\n",
       "</table>\n",
       "</div>"
      ],
      "text/plain": [
       "                            CITY_JUR  ELEV_FT FEATURE  \\\n",
       "0  Unincorporated Los Angeles County      831    TAPO   \n",
       "1  Unincorporated Los Angeles County     1555    TAPO   \n",
       "2  Unincorporated Los Angeles County      758      TH   \n",
       "3                        Los Angeles        0    TAPO   \n",
       "4  Unincorporated Los Angeles County     1982      TH   \n",
       "\n",
       "                     FEAT_CMNT  FID        LAT         LON  OBJECTID PARKING  \\\n",
       "0  Auto Generated and Verified    1  34.113057 -118.751527      7769      SA   \n",
       "1                         None    2  34.059687 -118.616545      8047      ST   \n",
       "2  Auto Generated and Verified    3  34.117364 -118.756839      7770      SA   \n",
       "3  Auto Generated and Verified    4  34.079346 -118.519724      8048      ST   \n",
       "4  Auto Generated and Verified    5  34.079060 -118.755563      7773      ST   \n",
       "\n",
       "                       PARK_NAME PHOTO       SEG_ID      SUP_DIST  TRL_ID  \\\n",
       "0         National Parks Service  None  200820000.0  3rd District   20082   \n",
       "1         National Parks Service  None  200670000.0  3rd District   20067   \n",
       "2         National Parks Service  None  200840000.0  3rd District   20084   \n",
       "3       CA State Parks - Topanga  None  101330000.0  3rd District   10133   \n",
       "4  CA State Parks - Malibu Creek  None  101120000.0  3rd District   10112   \n",
       "\n",
       "                 TRL_NAME              X_STREET  ZIP_CODE  \\\n",
       "0       Medea Creek Trail   28825 Lake Vista Dr   91301.0   \n",
       "1    Hearst Tank Motorway   3200 Tuna Canyon Rd   90290.0   \n",
       "2    Medicine Woman Trail       2900 Cornell Rd   91301.0   \n",
       "3  Pipe Corral Spur Trail                  None   90272.0   \n",
       "4      Mesa Peak Motorway  300 Corral Canyon Rd   90265.0   \n",
       "\n",
       "                                               SHAPE  \n",
       "0  {'x': -13219359.478715053, 'y': 4043992.964497...  \n",
       "1  {'x': -13204333.421340073, 'y': 4036819.355827...  \n",
       "2  {'x': -13219950.875755034, 'y': 4044572.018172...  \n",
       "3  {'x': -13193555.284564309, 'y': 4039461.172009...  \n",
       "4  {'x': -13219808.808707688, 'y': 4039422.795144...  "
      ]
     },
     "execution_count": 17,
     "metadata": {},
     "output_type": "execute_result"
    }
   ],
   "source": [
    "sdf = SpatialDataFrame.from_layer(feature_layer)\n",
    "sdf.head()"
   ]
  }
 ],
 "metadata": {
  "kernelspec": {
   "display_name": "Python 3",
   "language": "python",
   "name": "python3"
  },
  "language_info": {
   "codemirror_mode": {
    "name": "ipython",
    "version": 3
   },
   "file_extension": ".py",
   "mimetype": "text/x-python",
   "name": "python",
   "nbconvert_exporter": "python",
   "pygments_lexer": "ipython3",
   "version": "3.6.3"
  }
 },
 "nbformat": 4,
 "nbformat_minor": 2
}
