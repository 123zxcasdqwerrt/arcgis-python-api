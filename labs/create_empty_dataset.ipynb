{
 "cells": [
  {
   "cell_type": "code",
   "execution_count": 201,
   "metadata": {},
   "outputs": [
    {
     "name": "stdout",
     "output_type": "stream",
     "text": [
      "Please enter password: ········\n",
      "Successfully logged in to browns.maps.arcgis.com as johnnyDev\n"
     ]
    }
   ],
   "source": [
    "import getpass\n",
    "import arcgis.features as features\n",
    "import arcgis.geometry as geometry\n",
    "from arcgis.gis import GIS\n",
    "\n",
    "password = getpass.getpass(\"Please enter password: \")\n",
    "gis = GIS('https://browns.maps.arcgis.com', 'johnnyDev', password)\n",
    "print(\"Successfully logged in to {} as {}\".format(gis.properties.urlKey + '.' + gis.properties.customBaseUrl,\n",
    "                                                 gis.users.me.username))"
   ]
  },
  {
   "cell_type": "code",
   "execution_count": 204,
   "metadata": {},
   "outputs": [
    {
     "name": "stdout",
     "output_type": "stream",
     "text": [
      "griffith_park_mac is a Feature Layer\n"
     ]
    }
   ],
   "source": [
    "# search for the item that you previusly made with the Create Layer tool\n",
    "feature_item = gis.content.search(query=\"\"\"title: \"Griffith Park*\" \"\"\", \n",
    "                                  item_type=\"Feature Service\")\n",
    "# the search returns a list of items, so retrieve the item\n",
    "griffith_item = feature_item[0]\n",
    "# retrive the Feature Layer item with layers property of the item\n",
    "griffith_lyr = griffith_item.layers[0]\n",
    "# print values to ensure you have the layer\n",
    "print(\"{} is a {}\".format(griffith_lyr.properties.name, griffith_lyr.properties.type))"
   ]
  },
  {
   "cell_type": "code",
   "execution_count": 205,
   "metadata": {},
   "outputs": [
    {
     "data": {
      "text/html": [
       "<div>\n",
       "<table border=\"1\" class=\"dataframe\">\n",
       "  <thead>\n",
       "    <tr style=\"text-align: right;\">\n",
       "      <th></th>\n",
       "      <th>Name</th>\n",
       "      <th>Type</th>\n",
       "      <th>Surface</th>\n",
       "      <th>Latitude</th>\n",
       "      <th>Longitude</th>\n",
       "    </tr>\n",
       "  </thead>\n",
       "  <tbody>\n",
       "    <tr>\n",
       "      <th>0</th>\n",
       "      <td>Griffith Park</td>\n",
       "      <td>Entrance</td>\n",
       "      <td>Concrete</td>\n",
       "      <td>34.136555</td>\n",
       "      <td>-118.294197</td>\n",
       "    </tr>\n",
       "    <tr>\n",
       "      <th>1</th>\n",
       "      <td>Hollywood Sign</td>\n",
       "      <td>Attraction</td>\n",
       "      <td>Mountainous</td>\n",
       "      <td>34.134021</td>\n",
       "      <td>-118.323865</td>\n",
       "    </tr>\n",
       "    <tr>\n",
       "      <th>2</th>\n",
       "      <td>Paramount Pictures</td>\n",
       "      <td>Attraction</td>\n",
       "      <td>Concrete</td>\n",
       "      <td>34.085423</td>\n",
       "      <td>-118.321341</td>\n",
       "    </tr>\n",
       "  </tbody>\n",
       "</table>\n",
       "</div>"
      ],
      "text/plain": [
       "                 Name         Type       Surface   Latitude   Longitude\n",
       "0       Griffith Park     Entrance      Concrete  34.136555 -118.294197\n",
       "1      Hollywood Sign   Attraction   Mountainous  34.134021 -118.323865\n",
       "2  Paramount Pictures   Attraction      Concrete  34.085423 -118.321341"
      ]
     },
     "execution_count": 205,
     "metadata": {},
     "output_type": "execute_result"
    }
   ],
   "source": [
    "# load csv file with coordinate values and attributes for new features into a pandas dataframe\n",
    "import pandas\n",
    "feat_records = pandas.read_csv(r'C:\\Data\\CSV\\la_area_values.csv')\n",
    "feat_records"
   ]
  },
  {
   "cell_type": "code",
   "execution_count": 206,
   "metadata": {},
   "outputs": [],
   "source": [
    "# create a variable for the spatial reference\n",
    "sr = {'wkid': 4236}\n",
    "\n",
    "# construct points and attributes lists from the dataframe\n",
    "pts = []\n",
    "atts = []\n",
    "for index, row in feat_records.iterrows():\n",
    "    pt = geometry.Point({'x': row['Longitude'],\n",
    "                    'y': row['Latitude'],\n",
    "                    'spatialReference': sr\n",
    "                   })\n",
    "    att = {'name' : row['Name'],\n",
    "          'type': row['Type'],\n",
    "          'surface': row['Surface'],\n",
    "          'OBJECTID': index + 1}\n",
    "    atts.append(att)\n",
    "    pts.append(pt)"
   ]
  },
  {
   "cell_type": "code",
   "execution_count": 208,
   "metadata": {},
   "outputs": [
    {
     "data": {
      "text/plain": [
       "[{'OBJECTID': 1,\n",
       "  'name': 'Griffith Park',\n",
       "  'surface': ' Concrete',\n",
       "  'type': ' Entrance'},\n",
       " {'OBJECTID': 2,\n",
       "  'name': 'Hollywood Sign',\n",
       "  'surface': ' Mountainous',\n",
       "  'type': ' Attraction'},\n",
       " {'OBJECTID': 3,\n",
       "  'name': 'Paramount Pictures',\n",
       "  'surface': ' Concrete',\n",
       "  'type': ' Attraction'}]"
      ]
     },
     "execution_count": 208,
     "metadata": {},
     "output_type": "execute_result"
    }
   ],
   "source": [
    "atts"
   ]
  },
  {
   "cell_type": "code",
   "execution_count": 214,
   "metadata": {},
   "outputs": [],
   "source": [
    "feats = []\n",
    "for i in range(0, 3):\n",
    "    feat = features.Feature(geometry=pts[i], attributes=atts[i])\n",
    "    feats.append(feat)"
   ]
  },
  {
   "cell_type": "code",
   "execution_count": 215,
   "metadata": {},
   "outputs": [
    {
     "name": "stdout",
     "output_type": "stream",
     "text": [
      "Griffith Park\n",
      "Hollywood Sign\n",
      "Paramount Pictures\n"
     ]
    }
   ],
   "source": [
    "for feat in feats:\n",
    "    print(feat.get_value('name'))"
   ]
  },
  {
   "cell_type": "code",
   "execution_count": null,
   "metadata": {},
   "outputs": [],
   "source": [
    "griffith_lyr.edit_features(adds=feats) # feats should be a list? doc says 'array'? np array?"
   ]
  },
  {
   "cell_type": "code",
   "execution_count": 200,
   "metadata": {},
   "outputs": [
    {
     "data": {
      "application/vnd.jupyter.widget-view+json": {
       "model_id": "94cd614d0d2a46729f4d3aa013270d44"
      }
     },
     "metadata": {},
     "output_type": "display_data"
    }
   ],
   "source": [
    "map = gis.map('Los Angeles', 10)\n",
    "map"
   ]
  },
  {
   "cell_type": "code",
   "execution_count": 199,
   "metadata": {},
   "outputs": [],
   "source": [
    "#map.add_layer(griffith_lyr)"
   ]
  }
 ],
 "metadata": {
  "kernelspec": {
   "display_name": "Python 3",
   "language": "python",
   "name": "python3"
  },
  "language_info": {
   "codemirror_mode": {
    "name": "ipython",
    "version": 3
   },
   "file_extension": ".py",
   "mimetype": "text/x-python",
   "name": "python",
   "nbconvert_exporter": "python",
   "pygments_lexer": "ipython3",
   "version": "3.5.3"
  }
 },
 "nbformat": 4,
 "nbformat_minor": 2
}
