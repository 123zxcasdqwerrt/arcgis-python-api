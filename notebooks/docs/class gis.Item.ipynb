{
 "cells": [
  {
   "cell_type": "markdown",
   "metadata": {},
   "source": [
    "##The Item class"
   ]
  },
  {
   "cell_type": "markdown",
   "metadata": {},
   "source": [
    "<hr/>"
   ]
  },
  {
   "cell_type": "markdown",
   "metadata": {},
   "source": [
    "##<b>class gis.Item<b>(<i>portal, itemid, itemdict=None</i>)"
   ]
  },
  {
   "cell_type": "markdown",
   "metadata": {},
   "source": [
    "Bases: builtins.dict\n",
    "\n",
    "An item (a unit of content) in the GIS. Each item has a unique identifier and a well known URL that is independent of the user owning the item. An item can have associated binary or textual data that’s available via the item data resource. For example, an item of type Map Package returns the actual bits corresponding to the map package via the item data resource.\n",
    "\n",
    "An instance of this class is not created directly by users. It is returned from the gis.content ContentManager object as a result of an add() or search() operation. Several GIS tools, such as the Analysis tools, also return Items representing Layers in the GIS."
   ]
  },
  {
   "cell_type": "code",
   "execution_count": 2,
   "metadata": {
    "collapsed": true
   },
   "outputs": [],
   "source": [
    "gis = GIS()\n",
    "item = gis.content.search('stamen watercolor')[0]"
   ]
  },
  {
   "cell_type": "markdown",
   "metadata": {},
   "source": [
    "The item object has a rich representation in the IPython notebook environment:"
   ]
  },
  {
   "cell_type": "code",
   "execution_count": 3,
   "metadata": {
    "collapsed": false
   },
   "outputs": [
    {
     "data": {
      "text/html": [
       "<div class=\"item_container\">\n",
       "                    <div class=\"item_left\">\n",
       "                       <a href='http://www.arcgis.com/home/item.html?id=80003c63c97548899d858fc3c380370f' target='_blank'>\n",
       "                        <img src='http://www.arcgis.com/sharing/rest/content/items/80003c63c97548899d858fc3c380370f/info/thumbnail/watercolorthumb.png' class=\"itemThumbnail\">\n",
       "                       </a>\n",
       "                    </div>\n",
       "        \n",
       "                    <div class=\"item_right\">\n",
       "                        <a href='http://www.arcgis.com/home/item.html?id=80003c63c97548899d858fc3c380370f' target='_blank'><b>Stamen Watercolor</b>\n",
       "                        </a>\n",
       "                        <br>Stamen's Watercolor tileset<img src='http://www.arcgis.com/home/js/jsapi/esri/css/images/item_type_icons/maps16.png' style=\"vertical-align:middle;\">Web Map by cartogeek\n",
       "                        <br>Last Modified: April 01, 2013\n",
       "                        <br>0 comments, 10,093 views\n",
       "                    </div>\n",
       "                </div>\n",
       "                "
      ],
      "text/plain": [
       "{}"
      ]
     },
     "execution_count": 3,
     "metadata": {},
     "output_type": "execute_result"
    }
   ],
   "source": [
    "item"
   ]
  },
  {
   "cell_type": "markdown",
   "metadata": {},
   "source": [
    "The item object is a Python dict. Item properties can be accessed using subscript notation:"
   ]
  },
  {
   "cell_type": "code",
   "execution_count": 4,
   "metadata": {
    "collapsed": false
   },
   "outputs": [
    {
     "data": {
      "text/plain": [
       "'Stamen Watercolor'"
      ]
     },
     "execution_count": 4,
     "metadata": {},
     "output_type": "execute_result"
    }
   ],
   "source": [
    "item['title']"
   ]
  },
  {
   "cell_type": "markdown",
   "metadata": {},
   "source": [
    "The item properties can also be accessed using the dot(.) notation, as properties of the class:"
   ]
  },
  {
   "cell_type": "code",
   "execution_count": 5,
   "metadata": {
    "collapsed": false
   },
   "outputs": [
    {
     "data": {
      "text/plain": [
       "10093"
      ]
     },
     "execution_count": 5,
     "metadata": {},
     "output_type": "execute_result"
    }
   ],
   "source": [
    "item.numViews"
   ]
  },
  {
   "cell_type": "markdown",
   "metadata": {},
   "source": [
    " <hr>"
   ]
  },
  {
   "cell_type": "markdown",
   "metadata": {},
   "source": [
    "###delete()"
   ]
  },
  {
   "cell_type": "markdown",
   "metadata": {},
   "source": [
    "Deletes an item."
   ]
  },
  {
   "cell_type": "markdown",
   "metadata": {},
   "source": [
    "<div class=\"alert alert-success\">\n",
    "This function does not apply to those using enterprise accounts that come from an enterprise such as ActiveDirectory, LDAP, or SAML. It only has an effect on built-in users.\n",
    "\n",
    "If a new security question is specified, a new security answer should be provided.\n",
    "</div>"
   ]
  },
  {
   "cell_type": "markdown",
   "metadata": {},
   "source": [
    "**Arguments:**\n",
    "None\n",
    "\n",
    "**Returns:**\ta boolean, indicating success"
   ]
  },
  {
   "cell_type": "markdown",
   "metadata": {},
   "source": [
    "<hr>"
   ]
  },
  {
   "cell_type": "markdown",
   "metadata": {
    "collapsed": false
   },
   "source": [
    "###update(<i>item_properties=None, data=None, thumbnail=None, metadata=None</i>)"
   ]
  },
  {
   "cell_type": "markdown",
   "metadata": {},
   "source": [
    "Updates this item’s properties. See http://resources.arcgis.com/en/help/arcgis-rest-api/index.html#//02r3000000ms000000"
   ]
  },
  {
   "cell_type": "markdown",
   "metadata": {},
   "source": [
    "<div class=\"alert alert-success\">\n",
    "Only pass in arguments for properties you want to update. All other properties will be left as they are. If you want to update description, then only provide the description argument in item_properties.\n",
    "\n",
    "That content can be a file (such as a layer package, geoprocessing package, map package) or it can be a URL (to an ArcGIS Server service, WMS service, or an application).\n",
    "\n",
    "If you are uploading a package or other file, provide a path or URL to the file in the data argument.\n",
    "</div>"
   ]
  },
  {
   "cell_type": "markdown",
   "metadata": {},
   "source": [
    "**Arguments:**\n",
    "<table border=\"1\" class=\"docutils\">\n",
    "<colgroup>\n",
    "<col width=\"22%\">\n",
    "<col width=\"78%\">\n",
    "</colgroup>\n",
    "<tbody valign=\"top\">\n",
    "<tr class=\"row-odd\"><td><strong>Argument</strong></td>\n",
    "<td><strong>Description</strong></td>\n",
    "</tr>\n",
    "<tr class=\"row-even\"><td>item_properties</td>\n",
    "<td>dictionay containing item properties and their values. Supported item properties are listed <a href=\"http://resources.arcgis.com/en/help/arcgis-rest-api/index.html#/Common_parameters/02r30000009v000000/\">here (see Item parameters)</a></td>\n",
    "</tr>\n",
    "<tr class=\"row-odd\"><td>data</td>\n",
    "<td>optional string, either a path or URL to the data</td>\n",
    "</tr>\n",
    "<tr class=\"row-even\"><td>thumbnail</td>\n",
    "<td>optional string, path or url to a file.  can be PNG, GIF,\n",
    "JPEG, max size 1 MB</td>\n",
    "</tr>\n",
    "<tr class=\"row-odd\"><td>metadata</td>\n",
    "<td> optional string, either a path or URL to metadata</td>\n",
    "</tr>\n",
    "</tbody>\n",
    "</table>\n",
    "\n",
    "item_properties dict can have the following keys and values:\n",
    "<table border=\"1\" class=\"docutils\">\n",
    "<colgroup>\n",
    "<col width=\"22%\">\n",
    "<col width=\"78%\">\n",
    "</colgroup>\n",
    "<tbody valign=\"top\">\n",
    "<tr class=\"row-odd\"><td><strong>Key</strong></td>\n",
    "<td><strong>Value</strong></td>\n",
    "</tr>\n",
    "<tr class=\"row-even\"><td>type</td>\n",
    "<td>optional string, indicates type of item.  See URL below for valid values.</td>\n",
    "</tr>\n",
    "<tr class=\"row-odd\"><td>typeKeywords</td>\n",
    "<td>optinal string list.  Lists all sub-types.  See URL for valid values.</td>\n",
    "</tr>\n",
    "<tr class=\"row-even\"><td>description</td>\n",
    "<td>optional string.  Description of the item.</td>\n",
    "</tr>\n",
    "<tr class=\"row-odd\"><td>title</td>\n",
    "<td>optional string.  Name of the item.</td>\n",
    "</tr>\n",
    "<tr class=\"row-odd\"><td>url</td>\n",
    "<td>optional string.  URL to item that are based on URLs.</td>\n",
    "</tr>\n",
    "<tr class=\"row-odd\"><td>tags</td>\n",
    "<td>optional string of comma-separated values.  Used for searches on items.</td>\n",
    "</tr>\n",
    "<tr class=\"row-odd\"><td>snippet</td>\n",
    "<td>optional string.  Provides a very short summary of the what the item is.</td>\n",
    "</tr>\n",
    "<tr class=\"row-odd\"><td>accessInformation</td>\n",
    "<td>optional string with comma separated values for min x, min y, max x, max y.</td>\n",
    "</tr>\n",
    "<tr class=\"row-odd\"><td>spatialReference</td>\n",
    "<td>optional string.  Coordinate system that the item is in.</td>\n",
    "</tr>\n",
    "<tr class=\"row-odd\"><td>accessInformation</td>\n",
    "<td>optional string.  Information on the source of the content.</td>\n",
    "</tr>\n",
    "<tr class=\"row-odd\"><td>licenseInfo</td>\n",
    "<td>optinal string, any license information or restrictions regarding the content.</td>\n",
    "</tr>\n",
    "<tr class=\"row-odd\"><td>culture</td>\n",
    "<td>optional string.  Locale, country and language information.</td>\n",
    "</tr>\n",
    "<tr class=\"row-odd\"><td>access</td>\n",
    "<td>optional string.  Valid values: private, shared, org, or public.</td>\n",
    "</tr>\n",
    "<tr class=\"row-odd\"><td>commentsEnabled</td>\n",
    "<td>optional boolean.  Default is true.  Controls whether comments are allowed.</td>\n",
    "</tr>\n",
    "<tr class=\"row-odd\"><td>culture</td>\n",
    "<td>optional string.  Language and country information.</td>\n",
    "</tr>\n",
    "</tbody>\n",
    "</table>\n",
    "\n",
    "URL: http://resources.arcgis.com/en/help/arcgis-rest-api/index.html#//02r3000000ms000000\n",
    "\n",
    "**Returns:**\ta boolean indicating success"
   ]
  },
  {
   "cell_type": "markdown",
   "metadata": {
    "collapsed": false
   },
   "source": [
    "<hr>"
   ]
  },
  {
   "cell_type": "markdown",
   "metadata": {},
   "source": [
    "###download(<i>dir_name</i>)"
   ]
  },
  {
   "cell_type": "markdown",
   "metadata": {},
   "source": [
    "Downloads this item's data to the specified folder."
   ]
  },
  {
   "cell_type": "markdown",
   "metadata": {},
   "source": [
    "**Arguments:**\n",
    "<table border=\"1\" class=\"docutils\">\n",
    "<colgroup>\n",
    "<col width=\"22%\">\n",
    "<col width=\"78%\">\n",
    "</colgroup>\n",
    "<tbody valign=\"top\">\n",
    "<tr class=\"row-odd\"><td><strong>Argument</strong></td>\n",
    "<td><strong>dir_name</strong></td>\n",
    "</tr>\n",
    "<tr class=\"row-even\"><td>reassign_to</td>\n",
    "<td>filesystem path where the data will be downloaded.</td>\n",
    "</tr>\n",
    "</tbody>\n",
    "</table>\n",
    "\n",
    "**Returns:**\tfilename"
   ]
  },
  {
   "cell_type": "markdown",
   "metadata": {
    "collapsed": false
   },
   "source": [
    "<hr>"
   ]
  },
  {
   "cell_type": "markdown",
   "metadata": {},
   "source": [
    "###get_item_data()"
   ]
  },
  {
   "cell_type": "markdown",
   "metadata": {},
   "source": [
    "Fethces this item's data as an ordered dictionary"
   ]
  },
  {
   "cell_type": "markdown",
   "metadata": {},
   "source": [
    "**Arguments:**\n",
    "None\n",
    "\n",
    "**Returns:**\n",
    "item's data as an ordered dictionary"
   ]
  },
  {
   "cell_type": "markdown",
   "metadata": {},
   "source": [
    "<hr>"
   ]
  },
  {
   "cell_type": "markdown",
   "metadata": {},
   "source": [
    "###get_thumbnail()"
   ]
  },
  {
   "cell_type": "markdown",
   "metadata": {},
   "source": [
    "Returns the bytes that make up the thumbnail for this item.\n",
    "\n",
    "**Arguments:**\n",
    "None.\n",
    "\n",
    "**Returns:**\n",
    "bytes that represent the image.\n",
    "\n",
    "**Example:**\n",
    "<code>\n",
    "response = item.get_thumbnail()\n",
    "f = open(filename, 'wb')\n",
    "f.write(response)\n",
    "</code>"
   ]
  },
  {
   "cell_type": "markdown",
   "metadata": {},
   "source": [
    "<hr>"
   ]
  },
  {
   "cell_type": "markdown",
   "metadata": {},
   "source": [
    "###get_thumbnail_link()"
   ]
  },
  {
   "cell_type": "markdown",
   "metadata": {
    "collapsed": false
   },
   "source": [
    "Returns the URL to the thumbnail image"
   ]
  },
  {
   "cell_type": "markdown",
   "metadata": {},
   "source": [
    "<hr>"
   ]
  },
  {
   "cell_type": "markdown",
   "metadata": {},
   "source": [
    "###publish(<i>publish_parameters=None, address_fields=None, output_type=None, overwrite=False</i>)"
   ]
  },
  {
   "cell_type": "markdown",
   "metadata": {
    "collapsed": false
   },
   "source": [
    "Publishes a hosted service based on an existing source item (this item). Publishers can create feature services as well as tiled map services. \n",
    "\n",
    "Feature services can be created using input files of type csv, shapefile, serviceDefinition, featureCollection, and fileGeodatabase. CSV files that contain location fields, (ie.address fields or X, Y fields) are spatially enabled during the process of publishing. Shapefiles and file geodatabases should be packaged as .zip files. Tiled map services can be created from service definition (.sd) files, tile packages, and existing feature services. \n",
    "\n",
    "Service definitions are authored in ArcGIS for Desktop and contain both the cartographic definition for a map as well as its packaged data together with the definition of the geo-service to be created. Use the Analyze operation to generate the default publishing parameters for CSVs. "
   ]
  },
  {
   "cell_type": "markdown",
   "metadata": {},
   "source": [
    "**Arguments:**\n",
    "<table border=\"1\" class=\"docutils\">\n",
    "<colgroup>\n",
    "<col width=\"21%\">\n",
    "<col width=\"79%\">\n",
    "</colgroup>\n",
    "<tbody valign=\"top\">\n",
    "<tr class=\"row-odd\"><td><strong>Argument</strong></td>\n",
    "<td><strong>Description</strong></td>\n",
    "</tr>\n",
    "<tr class=\"row-even\"><td>publish_parameters</td>\n",
    "<td>A disctionary describing the service to be created as part of the publish operation. The appropriate value for publish parameters depends on the file type being published. Example: publishParameters={\"name\":\"Streets\"} . See http://resources.arcgis.com/en/help/arcgis-rest-api/index.html#/Publish_Item/02r300000080000000/\n",
    "</td>\n",
    "</tr>\n",
    "<tr class=\"row-even\"><td>address_fields</td>\n",
    "<td>used when publishing CSV files.  dict containing mapping of df columns to address fields, eg: { “CountryCode” : “Country”} or { “Address” : “Address” }</td>\n",
    "</tr>\n",
    "<tr class=\"row-even\"><td>output_type</td>\n",
    "<td>Only used when a feature service is published as a tile service Example: outputType=Tiles\n",
    "</td>\n",
    "</tr>\n",
    "<tr class=\"row-even\"><td>overwrite</td>\n",
    "<td>optional boolen, set to True if overwriting</td>\n",
    "</tr>\n",
    "\n",
    "</tbody>\n",
    "</table>\n",
    "\n",
    "**Returns:**\n",
    "\ta boolean, indicating success"
   ]
  },
  {
   "cell_type": "markdown",
   "metadata": {},
   "source": [
    "<hr>"
   ]
  },
  {
   "cell_type": "markdown",
   "metadata": {},
   "source": [
    "###reassign_to(<i>target_owner, target_folder=None</i>)"
   ]
  },
  {
   "cell_type": "markdown",
   "metadata": {},
   "source": [
    "Allows the administrator to reassign a single item from one user to another."
   ]
  },
  {
   "cell_type": "markdown",
   "metadata": {},
   "source": [
    "<div class=\"alert alert-success\">If you wish to move all of a user’s items (and groups) to another user then use the user.reassign_to() method. This method only moves one item at a time.</div>"
   ]
  },
  {
   "cell_type": "markdown",
   "metadata": {},
   "source": [
    "**Arguments:**\n",
    "<table border=\"1\" class=\"docutils\">\n",
    "<colgroup>\n",
    "<col width=\"22%\">\n",
    "<col width=\"78%\">\n",
    "</colgroup>\n",
    "<tbody valign=\"top\">\n",
    "<tr class=\"row-odd\"><td><strong>Argument</strong></td>\n",
    "<td><strong>Description</strong></td>\n",
    "</tr>\n",
    "<tr class=\"row-even\"><td>target_owner</td>\n",
    "<td>required string, desired owner of the item</td>\n",
    "</tr>\n",
    "<tr class=\"row-even\"><td>target_folder</td>\n",
    "<td>optional string, folder to move the item to</td>\n",
    "</tr>\n",
    "</tbody>\n",
    "</table>\n",
    "\n",
    "**Returns:**\n",
    "\ta boolean, that indicates success"
   ]
  },
  {
   "cell_type": "markdown",
   "metadata": {},
   "source": [
    "<hr>"
   ]
  },
  {
   "cell_type": "markdown",
   "metadata": {},
   "source": [
    "###share(<i>everyone=False, org=False, groups=''</i>)"
   ]
  },
  {
   "cell_type": "markdown",
   "metadata": {},
   "source": [
    "Shares an item with the specified list of groups\n"
   ]
  },
  {
   "cell_type": "markdown",
   "metadata": {},
   "source": [
    "**Arguments:**\n",
    "<table border=\"1\" class=\"docutils\">\n",
    "<colgroup>\n",
    "<col width=\"22%\">\n",
    "<col width=\"78%\">\n",
    "</colgroup>\n",
    "<tbody valign=\"top\">\n",
    "<tr class=\"row-odd\"><td><strong>Argument</strong></td>\n",
    "<td><strong>Description</strong></td>\n",
    "</tr>\n",
    "<tr class=\"row-even\"><td>everyone</td>\n",
    "<td>optional boolean, share with everyone</td>\n",
    "</tr>\n",
    "<tr class=\"row-even\"><td>org</td>\n",
    "<td>optional boolean, share with the organization</td>\n",
    "</tr>\n",
    "<tr class=\"row-even\"><td>groups</td>\n",
    "<td>optional string, comma-separated list of group IDs with which the item will be shared</td>\n",
    "</tr>\n",
    "</tbody>\n",
    "</table>\n",
    "\n",
    "**Returns:**\n",
    "\tdict with key “notSharedWith” containing array of groups with which the item could not be shared."
   ]
  },
  {
   "cell_type": "markdown",
   "metadata": {},
   "source": [
    "<hr>"
   ]
  },
  {
   "cell_type": "markdown",
   "metadata": {},
   "source": [
    "###unshare(<i>groups</i>)"
   ]
  },
  {
   "cell_type": "markdown",
   "metadata": {},
   "source": [
    "Stops sharing the item with the specified list of groups"
   ]
  },
  {
   "cell_type": "markdown",
   "metadata": {},
   "source": [
    "**Arguments:**\n",
    "<table border=\"1\" class=\"docutils\">\n",
    "<colgroup>\n",
    "<col width=\"22%\">\n",
    "<col width=\"78%\">\n",
    "</colgroup>\n",
    "<tbody valign=\"top\">\n",
    "<tr class=\"row-odd\"><td><strong>Argument</strong></td>\n",
    "<td><strong>Description</strong></td>\n",
    "</tr>\n",
    "<tr class=\"row-even\"><td>groups</td>\n",
    "<td>optional string, comma-separated list of group IDs with which the item will be unshared</td>\n",
    "</tr>\n",
    "</tbody>\n",
    "</table>\n",
    "\n",
    "**Returns:**\n",
    "\tdict with key “notUnsharedFrom” containing array of groups with which the item could not be shared."
   ]
  },
  {
   "cell_type": "markdown",
   "metadata": {},
   "source": [
    "<hr>"
   ]
  }
 ],
 "metadata": {
  "kernelspec": {
   "display_name": "Python 3",
   "language": "python",
   "name": "python3"
  },
  "language_info": {
   "codemirror_mode": {
    "name": "ipython",
    "version": 3
   },
   "file_extension": ".py",
   "mimetype": "text/x-python",
   "name": "python",
   "nbconvert_exporter": "python",
   "pygments_lexer": "ipython3",
   "version": "3.4.3"
  }
 },
 "nbformat": 4,
 "nbformat_minor": 0
}
