{
 "cells": [
  {
   "cell_type": "code",
   "execution_count": 31,
   "metadata": {},
   "outputs": [],
   "source": [
    "from arcgis.gis import GIS\n",
    "import datetime\n",
    "\n",
    "\"\"\"accounts to keep from user/groups/items deletion\"\"\"\n",
    "ignore_accounts_online = ['DavidJVitale', 'yjiang_geosaurus', 'amani_geosaurus', 'api_data_owner',\n",
    "                   'bmajor_geosaurus', 'rsingh_geosaurus', 'rohitgeo', 'andrew887',\n",
    "                   'cwhitmore_geosaurus', 'ArcGISPyAPIBot']\n",
    "\n",
    "ignore_accounts_playground = ['andrew', 'andrew.chapkowski', 'dvitale', 'david.vitale',\n",
    "                   'atma.mani', 'john.yaist', 'bill.major', 'YJiang',\n",
    "                   'rohit.singh', 'rohitgeo', 'gbochenek_python',\n",
    "                   'system_publisher', 'admin', 'portaladmin',\n",
    "                   'Demo_User', 'First_User', 'Second_User',\n",
    "                   'api_data_owner', 'arcgis_python', 'temp_execution']\n",
    "\n",
    "\"\"\"accounts that you want to delete groups and items, but keep user\"\"\"\n",
    "target_accounts_online = ['arcgis_python']\n",
    "target_accounts_playground = ['arcgis_python']\n",
    "\n",
    "\"\"\"data to publish\"\"\"\n",
    "data_paths = ['\\\\archive\\crdata\\Geosaurus_datasets\\data_prep\\csv\\Trailheads.csv']\n",
    "\n",
    "\"\"\"create GIS connection via admin credentials\"\"\"\n",
    "gis_online = GIS(profile=\"your_online_admin_profile\")\n",
    "gis_playground = GIS(profile='your_ent_admin_profile')"
   ]
  },
  {
   "cell_type": "code",
   "execution_count": 32,
   "metadata": {},
   "outputs": [],
   "source": [
    "def delete_depending_items(dependent_item):\n",
    "    \"\"\"deletes the item's depending items, and then the item\"\"\"\n",
    "    depending_items = None\n",
    "    try:\n",
    "        depending_items = dependent_item.dependent_to()\n",
    "        if depending_items['list']:\n",
    "            for item in depending_items['list']:\n",
    "                delete_depending_items(item)\n",
    "    except:\n",
    "        print(\"=== could not get item list %s\" % dependent_item.homepage)\n",
    "        \n",
    "    if dependent_item.protected:\n",
    "        dependent_item.protect(False)\n",
    "    try:\n",
    "        print(\"=== deleting the item: %s\" % dependent_item.homepage)\n",
    "        dependent_item.delete()\n",
    "    except:\n",
    "        print(\"=== could not delete non-dependent item %s\" % dependent_item.homepage)\n",
    "\n",
    "\n",
    "def delete_items(user):\n",
    "    \"\"\"deletes the user items\"\"\"\n",
    "    folders = [None] + user.folders\n",
    "    for folder in folders:\n",
    "        print(\"=== deleting inside folder: %s\" % folder)\n",
    "        for item in user.items(folder=folder, max_items=255):\n",
    "            delete_depending_items(item)\n",
    "    print(\"=== finished deleting items owned by \" + user.username)\n",
    "\n",
    "\n",
    "def delete_groups(gis, user):\n",
    "    \"\"\"deletes the user groups, and removes user from groups where user is a member of\"\"\"\n",
    "    groups_for_deletion = gis.groups.get('query=owner:' + user.username)\n",
    "    if groups_for_deletion is not None:\n",
    "        for group in groups_for_deletion:\n",
    "            try:\n",
    "                print(\"=== deleting group %s\" % group.groupid)\n",
    "                group.delete()\n",
    "            except:\n",
    "                print(\"=== could not delete group %s\" % group.groupid)\n",
    "\n",
    "    for grp in user.groups:\n",
    "        print(\"=== removing from group: %s\" % grp.id)\n",
    "        if grp.owner != user.username:\n",
    "            try:\n",
    "                grp.remove_users([user.username])\n",
    "            except:\n",
    "                print(\"=== User cannot be removed from group: %s\" % grp.id)\n",
    "    print(\"=== finished deleting groups owned by \" + user.username)\n",
    "\n",
    "\n",
    "def delete_for_users(gis, ignore_accounts, target_accounts):\n",
    "    \"\"\"deletes items and groups for users in target_accounts, and ignore others\"\"\"\n",
    "    for user in gis.users.search():\n",
    "        if user.username not in ignore_accounts and not user.username.startswith(\"esri_\"):\n",
    "            print(\"-*-*-*-*-*-*-Delete groups & items & user for %s -*-*-*-*-*-\" % user.username)\n",
    "            delete_items(user)\n",
    "            delete_groups(gis, user)\n",
    "            try:\n",
    "                user.delete()\n",
    "            except:\n",
    "                print(\"could not delete user %s\" % user.username)\n",
    "\n",
    "        elif user.username in target_accounts:\n",
    "            print(\"-*-*-*-*-*-*-Delete groups & items for %s -*-*-*-*-*-*-*-*-\" % user.username)\n",
    "            delete_items(user)\n",
    "            delete_groups(gis, user)\n",
    "\n",
    "        else:\n",
    "            print(\"-*-*-*-*-*-*-*-*-No Delete for %s -*-*-*-*-*-*-*-*-*-*-\" % user.username)\n",
    "\n",
    "def publish_data(gis, ignore_accounts, target_accounts):\n",
    "    \"\"\"publish sample data\"\"\"\n",
    "    return"
   ]
  },
  {
   "cell_type": "code",
   "execution_count": 33,
   "metadata": {},
   "outputs": [
    {
     "name": "stdout",
     "output_type": "stream",
     "text": [
      "-*-*-*-*-*-*-*-*-No Delete for amani_geosaurus -*-*-*-*-*-*-*-*-*-*-\n",
      "-*-*-*-*-*-*-*-*-No Delete for api_data_owner -*-*-*-*-*-*-*-*-*-*-\n",
      "-*-*-*-*-*-*-*-*-No Delete for ArcGISPyAPIBot -*-*-*-*-*-*-*-*-*-*-\n",
      "-*-*-*-*-*-*-Delete groups & items & user for arcgis_python -*-*-*-*-*-\n",
      "=== deleting inside folder: None\n",
      "=== deleting the item: https://geosaurus.maps.arcgis.com/home/item.html?id=53833b01e2be4184905af62631ab7496\n",
      "=== deleting the item: https://geosaurus.maps.arcgis.com/home/item.html?id=60819d3897c946948de05cb38d9dc6b3\n",
      "=== deleting the item: https://geosaurus.maps.arcgis.com/home/item.html?id=263baa26b6c348238a23cf464d4b0780\n",
      "=== deleting the item: https://geosaurus.maps.arcgis.com/home/item.html?id=816080ac91454aefb44a0fcda79678fd\n",
      "=== deleting the item: https://geosaurus.maps.arcgis.com/home/item.html?id=081630aaa53a4a0dae785f96680f46be\n",
      "=== deleting the item: https://geosaurus.maps.arcgis.com/home/item.html?id=0e1d4abdba3a4b51be79a9cc93390f33\n",
      "=== deleting the item: https://geosaurus.maps.arcgis.com/home/item.html?id=fa0b05c5b71148f39392f77ff8ded1f5\n",
      "=== deleting the item: https://geosaurus.maps.arcgis.com/home/item.html?id=ba2efd467f0a4b7ba9ea832ab22aa929\n",
      "=== deleting the item: https://geosaurus.maps.arcgis.com/home/item.html?id=49d333aa20024bb3a57f5b44221f87ba\n",
      "=== deleting the item: https://geosaurus.maps.arcgis.com/home/item.html?id=7f64727cc48249789c70dfdb9eb6aba6\n",
      "=== deleting the item: https://geosaurus.maps.arcgis.com/home/item.html?id=204d93f64a1746548069a4e6f0e54085\n",
      "=== deleting the item: https://geosaurus.maps.arcgis.com/home/item.html?id=228426fe1c0b44b69c79ed6504718bf1\n",
      "=== deleting the item: https://geosaurus.maps.arcgis.com/home/item.html?id=f7b1b02ea75a4d2ba1ef17fcbbb1e349\n",
      "=== deleting the item: https://geosaurus.maps.arcgis.com/home/item.html?id=ae70ca4a9e084ed4b007c401545c5f5f\n",
      "=== deleting the item: https://geosaurus.maps.arcgis.com/home/item.html?id=db112431bccb42c4af529b40053d6bfd\n",
      "=== deleting the item: https://geosaurus.maps.arcgis.com/home/item.html?id=8521d8cfea4447a8b4491847fd694ae2\n",
      "=== deleting the item: https://geosaurus.maps.arcgis.com/home/item.html?id=80103b3ff3d5432b971e5b1160991834\n",
      "=== deleting the item: https://geosaurus.maps.arcgis.com/home/item.html?id=7e7d17040fdf4b35b2e5e5fef7eed7cf\n",
      "=== deleting the item: https://geosaurus.maps.arcgis.com/home/item.html?id=abfbd74d0f0f4f89868c90377c153798\n",
      "=== deleting inside folder: {'username': 'arcgis_python', 'id': '410d49ba0b0a49e489295a1dc6ce9db8', 'title': 'data', 'created': 1515428350000}\n",
      "=== deleting inside folder: {'username': 'arcgis_python', 'id': '60f2b66bb2c94a579afce50c44fa488a', 'title': 'demo-workforce-project', 'created': 1523403580000}\n",
      "=== deleting inside folder: {'username': 'arcgis_python', 'id': '3a1bf062d02742628749d8b16e7840e6', 'title': 'Earthquake Data', 'created': 1509003986000}\n",
      "=== deleting inside folder: {'username': 'arcgis_python', 'id': '54290f5f0618494ab5840f8df3a3e93c', 'title': 'Ldata', 'created': 1554476354000}\n",
      "=== deleting inside folder: {'username': 'arcgis_python', 'id': 'dff2493c6ff84cb1b5d9cca4a4207cc6', 'title': 'meta', 'created': 1513810965000}\n",
      "=== deleting inside folder: {'username': 'arcgis_python', 'id': '3ebaa9b832ac42df8155c82d075d36c5', 'title': 'My Apps', 'created': 1536916705000}\n",
      "=== deleting inside folder: {'username': 'arcgis_python', 'id': '4c1b623fd54b4930981d14f05d131aa2', 'title': 'packages', 'created': 1486079405000}\n",
      "=== deleting inside folder: {'username': 'arcgis_python', 'id': '81ab6269f2ac4c529271c73c239ff41f', 'title': 'packages1', 'created': 1491596173000}\n",
      "=== deleting inside folder: {'username': 'arcgis_python', 'id': 'b72ae203d39847a4b07d0bd6043384d6', 'title': 'ports', 'created': 1504902064000}\n",
      "=== deleting inside folder: {'username': 'arcgis_python', 'id': 'ba6663c8ca2e4478aec55134dea2c8f9', 'title': 'Rainfall Data', 'created': 1554942217000}\n",
      "=== deleting inside folder: {'username': 'arcgis_python', 'id': 'f606baff1fdd492e9fa182d2f643f7e5', 'title': 'webmaps', 'created': 1512522956000}\n",
      "=== finished deleting items owned by arcgis_python\n"
     ]
    },
    {
     "name": "stderr",
     "output_type": "stream",
     "text": [
      "Group does not exist or is inaccessible.\n"
     ]
    },
    {
     "name": "stdout",
     "output_type": "stream",
     "text": [
      "=== removing from group: 00df55a8a6324c5aa4fc946d01aebb01\n",
      "=== removing from group: 0199302a15064638a149a42e143dfcdd\n",
      "=== removing from group: 0352e4178bb24751847ef9798abb6976\n",
      "=== removing from group: 03587dc5f53b45669448b873d3fdcf43\n",
      "=== removing from group: 10753adc0d4a4649b497b2fb28ad6483\n",
      "=== removing from group: 13cde0d655a94e649a526dfed50ff31f\n",
      "=== removing from group: 23972be2d52c4d4f8bf23f837f24c016\n",
      "=== removing from group: 241e64de526a47609b5a9a19895b5655\n",
      "=== removing from group: 30a6c48cfb4c47ca90de4a5c8a1a171d\n",
      "=== removing from group: 33b9366851b54e978562eec8d6ea0b57\n",
      "=== removing from group: 43c0ed0ccfd74866864f6f50b739fe0f\n",
      "=== removing from group: 4cc6e91fc6fe48a890006168e8fed073\n",
      "=== removing from group: 519b8fba0a4a40e09488725f4d815821\n",
      "=== removing from group: 54f11bf7c49f4c60a0173ec9e5091751\n",
      "=== removing from group: 5a6079c137cd40db995ce55d4d4e4506\n",
      "=== removing from group: 5ed99a6c24ca43038f3cbcf667245099\n",
      "=== removing from group: 698d7354d98d4e34981708e1cfb2e830\n",
      "=== removing from group: 9df160ad539e40229a369fa9471f157b\n",
      "=== removing from group: a1a9961afe4f4446a0db69a8594e227e\n",
      "=== removing from group: a79c7f74b5ad4da984c651a66b5fa24d\n",
      "=== removing from group: b40dc6b7fb0d45808958c3f3aeb23ece\n",
      "=== removing from group: b90fbbffea554c5c9fd8aa2b1619b848\n",
      "=== removing from group: c928f84805094e7da26e1d0875ebd3aa\n",
      "=== removing from group: cbc5238e48604b0882a2b2a5d9103d7a\n",
      "=== removing from group: cd9112a8dbb54563b4caa7376dda0ab0\n",
      "=== removing from group: d0de96194992447e9cb8db4f14e3c7b8\n",
      "=== removing from group: df70b87bfd304a9692241ffd82e78fee\n",
      "=== removing from group: e80bca97e27140bcb6863ab0fc016555\n",
      "=== removing from group: efae4c1cf084490fba5588ba024d0d00\n",
      "=== removing from group: f407f650d2c840fcaec3e55f2a8e6135\n",
      "=== removing from group: f880382440f9481dace32e1e19ae42c6\n",
      "=== removing from group: fb6316268147480492ea4fef704c2e75\n",
      "=== finished deleting groups owned by arcgis_python\n"
     ]
    },
    {
     "name": "stderr",
     "output_type": "stream",
     "text": [
      "Unable to delete user. User must not own items or groups.\n"
     ]
    },
    {
     "name": "stdout",
     "output_type": "stream",
     "text": [
      "could not delete user arcgis_python\n",
      "-*-*-*-*-*-*-*-*-No Delete for bmajor_geosaurus -*-*-*-*-*-*-*-*-*-*-\n",
      "-*-*-*-*-*-*-*-*-No Delete for cwhitmore_geosaurus -*-*-*-*-*-*-*-*-*-*-\n",
      "-*-*-*-*-*-*-*-*-No Delete for DavidJVitale -*-*-*-*-*-*-*-*-*-*-\n",
      "-*-*-*-*-*-*-*-*-No Delete for rohitgeo -*-*-*-*-*-*-*-*-*-*-\n",
      "-*-*-*-*-*-*-*-*-No Delete for rsingh_geosaurus -*-*-*-*-*-*-*-*-*-*-\n",
      "-*-*-*-*-*-*-Delete groups & items & user for student1_uc2018ed -*-*-*-*-*-\n",
      "=== deleting inside folder: None\n",
      "=== finished deleting items owned by student1_uc2018ed\n"
     ]
    },
    {
     "name": "stderr",
     "output_type": "stream",
     "text": [
      "Group does not exist or is inaccessible.\n"
     ]
    },
    {
     "name": "stdout",
     "output_type": "stream",
     "text": [
      "=== finished deleting groups owned by student1_uc2018ed\n"
     ]
    },
    {
     "name": "stderr",
     "output_type": "stream",
     "text": [
      "Unable to delete user. User must not have any license entitlements.\n"
     ]
    },
    {
     "name": "stdout",
     "output_type": "stream",
     "text": [
      "could not delete user student1_uc2018ed\n",
      "-*-*-*-*-*-*-Delete groups & items & user for student2_uc2018ed -*-*-*-*-*-\n",
      "=== deleting inside folder: None\n",
      "=== finished deleting items owned by student2_uc2018ed\n"
     ]
    },
    {
     "name": "stderr",
     "output_type": "stream",
     "text": [
      "Group does not exist or is inaccessible.\n"
     ]
    },
    {
     "name": "stdout",
     "output_type": "stream",
     "text": [
      "=== finished deleting groups owned by student2_uc2018ed\n"
     ]
    },
    {
     "name": "stderr",
     "output_type": "stream",
     "text": [
      "Unable to delete user. User must not have any license entitlements.\n"
     ]
    },
    {
     "name": "stdout",
     "output_type": "stream",
     "text": [
      "could not delete user student2_uc2018ed\n",
      "-*-*-*-*-*-*-Delete groups & items & user for student3_uc2018ed -*-*-*-*-*-\n",
      "=== deleting inside folder: None\n",
      "=== finished deleting items owned by student3_uc2018ed\n"
     ]
    },
    {
     "name": "stderr",
     "output_type": "stream",
     "text": [
      "Group does not exist or is inaccessible.\n"
     ]
    },
    {
     "name": "stdout",
     "output_type": "stream",
     "text": [
      "=== finished deleting groups owned by student3_uc2018ed\n"
     ]
    },
    {
     "name": "stderr",
     "output_type": "stream",
     "text": [
      "Unable to delete user. User must not have any license entitlements.\n"
     ]
    },
    {
     "name": "stdout",
     "output_type": "stream",
     "text": [
      "could not delete user student3_uc2018ed\n",
      "-*-*-*-*-*-*-Delete groups & items & user for student4_uc2018ed -*-*-*-*-*-\n",
      "=== deleting inside folder: None\n",
      "=== finished deleting items owned by student4_uc2018ed\n"
     ]
    },
    {
     "name": "stderr",
     "output_type": "stream",
     "text": [
      "Group does not exist or is inaccessible.\n"
     ]
    },
    {
     "name": "stdout",
     "output_type": "stream",
     "text": [
      "=== finished deleting groups owned by student4_uc2018ed\n"
     ]
    },
    {
     "name": "stderr",
     "output_type": "stream",
     "text": [
      "Unable to delete user. User must not have any license entitlements.\n"
     ]
    },
    {
     "name": "stdout",
     "output_type": "stream",
     "text": [
      "could not delete user student4_uc2018ed\n",
      "-*-*-*-*-*-*-*-*-No Delete for yjiang_geosaurus -*-*-*-*-*-*-*-*-*-*-\n",
      "-*-*-*-*-*-*-*-*-No Delete for andrew -*-*-*-*-*-*-*-*-*-*-\n",
      "-*-*-*-*-*-*-*-*-No Delete for api_data_owner -*-*-*-*-*-*-*-*-*-*-\n",
      "-*-*-*-*-*-*-Delete groups & items & user for ArcGISPyAPIBot -*-*-*-*-*-\n",
      "=== deleting inside folder: None\n",
      "=== finished deleting items owned by ArcGISPyAPIBot\n"
     ]
    },
    {
     "name": "stderr",
     "output_type": "stream",
     "text": [
      "Group does not exist or is inaccessible.\n"
     ]
    },
    {
     "name": "stdout",
     "output_type": "stream",
     "text": [
      "=== finished deleting groups owned by ArcGISPyAPIBot\n"
     ]
    },
    {
     "name": "stderr",
     "output_type": "stream",
     "text": [
      "Unable to delete user. Admins cannot delete themselves.\n"
     ]
    },
    {
     "name": "stdout",
     "output_type": "stream",
     "text": [
      "could not delete user ArcGISPyAPIBot\n",
      "-*-*-*-*-*-*-Delete groups & items for arcgis_python -*-*-*-*-*-*-*-*-\n",
      "=== deleting inside folder: None\n",
      "=== deleting inside folder: {'username': 'arcgis_python', 'id': '267be085733e4ee0859699f8eceee4d9', 'title': 'Samples', 'created': 1533583177751}\n",
      "=== finished deleting items owned by arcgis_python\n"
     ]
    },
    {
     "name": "stderr",
     "output_type": "stream",
     "text": [
      "Group does not exist or is inaccessible.\n"
     ]
    },
    {
     "name": "stdout",
     "output_type": "stream",
     "text": [
      "=== removing from group: 056407a2bacf48c5a8fc194a88041534\n",
      "=== removing from group: 1981822cd41d498a9c7b5ea70db5c588\n",
      "=== removing from group: e959fa22745f4511af136e13810af398\n",
      "=== removing from group: 1228f2a5664449ecb800bfafceb6b7e7\n",
      "=== removing from group: 0641018539bc45538cdf7fa43e7b36bc\n",
      "=== removing from group: 65539cc4a1424913a743d2cafe5cedac\n",
      "=== removing from group: cbecc140b7ea44d5bda562dc0653bff5\n",
      "=== removing from group: dd0fc32aebf647c79a0cefa0400db768\n",
      "=== removing from group: 622ab897d41d4dc79bbc202d22ff1234\n",
      "=== removing from group: 99627d1766be412ebc888b0bbb55c6ee\n",
      "=== removing from group: 4f7f44ba9ec44ecdbc5472be64bb56d0\n",
      "=== removing from group: d94b6a9c7e4b433baf8ed41267caed06\n",
      "=== removing from group: 8125f0d72fe8449d95aa76229a1390c2\n",
      "=== removing from group: 3ba54c480102426aaf2b1e60f69e31bb\n",
      "=== removing from group: 86e8dc2c2e7d43b6863a5c813f17780c\n",
      "=== removing from group: 0d911dca04e948889cf8decd23655501\n",
      "=== removing from group: 4a486c123d99471ab5a03e5824b62469\n",
      "=== removing from group: bd11c8b1228047e59f5d30183d6e7610\n",
      "=== removing from group: 46e624d2861c40b39e54e91f576a4a0e\n",
      "=== removing from group: fa9f6d913b0f420bb995952278a59680\n",
      "=== removing from group: af25de06625b463a8be93e20544603d0\n",
      "=== removing from group: a3eced79a8a04e31a140918f62520e95\n",
      "=== finished deleting groups owned by arcgis_python\n",
      "-*-*-*-*-*-*-*-*-No Delete for atma.mani -*-*-*-*-*-*-*-*-*-*-\n",
      "-*-*-*-*-*-*-*-*-No Delete for bill.major -*-*-*-*-*-*-*-*-*-*-\n",
      "-*-*-*-*-*-*-*-*-No Delete for First_User -*-*-*-*-*-*-*-*-*-*-\n",
      "-*-*-*-*-*-*-*-*-No Delete for portaladmin -*-*-*-*-*-*-*-*-*-*-\n",
      "-*-*-*-*-*-*-*-*-No Delete for rohitgeo -*-*-*-*-*-*-*-*-*-*-\n",
      "-*-*-*-*-*-*-*-*-No Delete for Second_User -*-*-*-*-*-*-*-*-*-*-\n",
      "-*-*-*-*-*-*-*-*-No Delete for temp_execution -*-*-*-*-*-*-*-*-*-*-\n",
      "-*-*-*-*-*-*-*-*-No Delete for YJiang -*-*-*-*-*-*-*-*-*-*-\n"
     ]
    }
   ],
   "source": [
    "delete_for_users(gis_online, ignore_accounts_online, target_accounts_online)\n",
    "delete_for_users(gis_playground, ignore_accounts_playground, target_accounts_playground)"
   ]
  },
  {
   "cell_type": "code",
   "execution_count": 34,
   "metadata": {},
   "outputs": [
    {
     "ename": "RuntimeError",
     "evalue": "File(/archive/crdata/Geosaurus_datasets/data_prep/csv/set2_Chicago.csv) not found.",
     "output_type": "error",
     "traceback": [
      "\u001b[0;31m---------------------------------------------------------------------------\u001b[0m",
      "\u001b[0;31mRuntimeError\u001b[0m                              Traceback (most recent call last)",
      "\u001b[0;32m<ipython-input-34-e40b086d25e8>\u001b[0m in \u001b[0;36m<module>\u001b[0;34m\u001b[0m\n\u001b[1;32m      1\u001b[0m \u001b[0;31m# csv_file = './data/LA_Hub_Datasets/Trailheads.csv'\u001b[0m\u001b[0;34m\u001b[0m\u001b[0;34m\u001b[0m\u001b[0;34m\u001b[0m\u001b[0m\n\u001b[1;32m      2\u001b[0m \u001b[0mcsv_file\u001b[0m \u001b[0;34m=\u001b[0m \u001b[0;34m'/archive/crdata/Geosaurus_datasets/data_prep/csv/set2_Chicago.csv'\u001b[0m\u001b[0;34m\u001b[0m\u001b[0;34m\u001b[0m\u001b[0m\n\u001b[0;32m----> 3\u001b[0;31m \u001b[0mcsv_item\u001b[0m \u001b[0;34m=\u001b[0m \u001b[0mgis_online\u001b[0m\u001b[0;34m.\u001b[0m\u001b[0mcontent\u001b[0m\u001b[0;34m.\u001b[0m\u001b[0madd\u001b[0m\u001b[0;34m(\u001b[0m\u001b[0;34m{\u001b[0m\u001b[0;34m}\u001b[0m\u001b[0;34m,\u001b[0m \u001b[0mcsv_file\u001b[0m\u001b[0;34m)\u001b[0m\u001b[0;34m\u001b[0m\u001b[0;34m\u001b[0m\u001b[0m\n\u001b[0m",
      "\u001b[0;32m~/Documents/GitHub/geosaurus/src/arcgis/gis/__init__.py\u001b[0m in \u001b[0;36madd\u001b[0;34m(self, item_properties, data, thumbnail, metadata, owner, folder)\u001b[0m\n\u001b[1;32m   3252\u001b[0m             itemid = self._portal.add_item(item_properties, data,\n\u001b[1;32m   3253\u001b[0m                                            \u001b[0mthumbnail\u001b[0m\u001b[0;34m,\u001b[0m \u001b[0mmetadata\u001b[0m\u001b[0;34m,\u001b[0m\u001b[0;34m\u001b[0m\u001b[0;34m\u001b[0m\u001b[0m\n\u001b[0;32m-> 3254\u001b[0;31m                                            owner_name, folder)\n\u001b[0m\u001b[1;32m   3255\u001b[0m \u001b[0;34m\u001b[0m\u001b[0m\n\u001b[1;32m   3256\u001b[0m         \u001b[0;32mif\u001b[0m \u001b[0mitemid\u001b[0m \u001b[0;32mis\u001b[0m \u001b[0;32mnot\u001b[0m \u001b[0;32mNone\u001b[0m\u001b[0;34m:\u001b[0m\u001b[0;34m\u001b[0m\u001b[0;34m\u001b[0m\u001b[0m\n",
      "\u001b[0;32m~/Documents/GitHub/geosaurus/src/arcgis/_impl/portalpy.py\u001b[0m in \u001b[0;36madd_item\u001b[0;34m(self, item_properties, data, thumbnail, metadata, owner, folder)\u001b[0m\n\u001b[1;32m    289\u001b[0m             \u001b[0;32melse\u001b[0m\u001b[0;34m:\u001b[0m\u001b[0;34m\u001b[0m\u001b[0;34m\u001b[0m\u001b[0m\n\u001b[1;32m    290\u001b[0m                 \u001b[0;32mif\u001b[0m \u001b[0;32mnot\u001b[0m \u001b[0mos\u001b[0m\u001b[0;34m.\u001b[0m\u001b[0mpath\u001b[0m\u001b[0;34m.\u001b[0m\u001b[0misfile\u001b[0m\u001b[0;34m(\u001b[0m\u001b[0mos\u001b[0m\u001b[0;34m.\u001b[0m\u001b[0mpath\u001b[0m\u001b[0;34m.\u001b[0m\u001b[0mabspath\u001b[0m\u001b[0;34m(\u001b[0m\u001b[0mdata\u001b[0m\u001b[0;34m)\u001b[0m\u001b[0;34m)\u001b[0m\u001b[0;34m:\u001b[0m\u001b[0;34m\u001b[0m\u001b[0;34m\u001b[0m\u001b[0m\n\u001b[0;32m--> 291\u001b[0;31m                     \u001b[0;32mraise\u001b[0m \u001b[0mRuntimeError\u001b[0m\u001b[0;34m(\u001b[0m\u001b[0;34m\"File(\"\u001b[0m\u001b[0;34m+\u001b[0m\u001b[0mdata\u001b[0m\u001b[0;34m+\u001b[0m\u001b[0;34m\") not found.\"\u001b[0m\u001b[0;34m)\u001b[0m\u001b[0;34m\u001b[0m\u001b[0;34m\u001b[0m\u001b[0m\n\u001b[0m\u001b[1;32m    292\u001b[0m             \u001b[0mfiles\u001b[0m\u001b[0;34m.\u001b[0m\u001b[0mappend\u001b[0m\u001b[0;34m(\u001b[0m\u001b[0;34m(\u001b[0m\u001b[0;34m'file'\u001b[0m\u001b[0;34m,\u001b[0m \u001b[0mdata\u001b[0m\u001b[0;34m,\u001b[0m \u001b[0mos\u001b[0m\u001b[0;34m.\u001b[0m\u001b[0mpath\u001b[0m\u001b[0;34m.\u001b[0m\u001b[0mbasename\u001b[0m\u001b[0;34m(\u001b[0m\u001b[0mdata\u001b[0m\u001b[0;34m)\u001b[0m\u001b[0;34m)\u001b[0m\u001b[0;34m)\u001b[0m\u001b[0;34m\u001b[0m\u001b[0;34m\u001b[0m\u001b[0m\n\u001b[1;32m    293\u001b[0m         \u001b[0;32mif\u001b[0m \u001b[0mmetadata\u001b[0m\u001b[0;34m:\u001b[0m\u001b[0;34m\u001b[0m\u001b[0;34m\u001b[0m\u001b[0m\n",
      "\u001b[0;31mRuntimeError\u001b[0m: File(/archive/crdata/Geosaurus_datasets/data_prep/csv/set2_Chicago.csv) not found."
     ]
    }
   ],
   "source": [
    "# csv_file = './data/LA_Hub_Datasets/Trailheads.csv'\n",
    "csv_file = '/archive/crdata/Geosaurus_datasets/data_prep/csv/set2_Chicago.csv'\n",
    "csv_item = gis_online.content.add({}, csv_file)"
   ]
  },
  {
   "cell_type": "code",
   "execution_count": 16,
   "metadata": {},
   "outputs": [
    {
     "data": {
      "text/html": [
       "<div class=\"item_container\" style=\"height: auto; overflow: hidden; border: 1px solid #cfcfcf; border-radius: 2px; background: #f6fafa; line-height: 1.21429em; padding: 10px;\">\n",
       "                    <div class=\"item_left\" style=\"width: 210px; float: left;\">\n",
       "                       <a href='https://geosaurus.maps.arcgis.com/home/item.html?id=f00638eaa98d44af838a34fb724774aa' target='_blank'>\n",
       "                        <img src='http://static.arcgis.com/images/desktopapp.png' class=\"itemThumbnail\">\n",
       "                       </a>\n",
       "                    </div>\n",
       "\n",
       "                    <div class=\"item_right\"     style=\"float: none; width: auto; overflow: hidden;\">\n",
       "                        <a href='https://geosaurus.maps.arcgis.com/home/item.html?id=f00638eaa98d44af838a34fb724774aa' target='_blank'><b>Trailheads</b>\n",
       "                        </a>\n",
       "                        <br/><img src='https://geosaurus.maps.arcgis.com/home/js/jsapi/esri/css/images/item_type_icons/layers16.png' style=\"vertical-align:middle;\">CSV by yjiang_geosaurus\n",
       "                        <br/>Last Modified: April 11, 2019\n",
       "                        <br/>0 comments, 0 views\n",
       "                    </div>\n",
       "                </div>\n",
       "                "
      ],
      "text/plain": [
       "<Item title:\"Trailheads\" type:CSV owner:yjiang_geosaurus>"
      ]
     },
     "execution_count": 16,
     "metadata": {},
     "output_type": "execute_result"
    }
   ],
   "source": [
    "csv_item"
   ]
  },
  {
   "cell_type": "code",
   "execution_count": 17,
   "metadata": {},
   "outputs": [],
   "source": [
    "csv_lyr = csv_item.publish()"
   ]
  },
  {
   "cell_type": "code",
   "execution_count": 18,
   "metadata": {},
   "outputs": [
    {
     "data": {
      "text/html": [
       "<div class=\"item_container\" style=\"height: auto; overflow: hidden; border: 1px solid #cfcfcf; border-radius: 2px; background: #f6fafa; line-height: 1.21429em; padding: 10px;\">\n",
       "                    <div class=\"item_left\" style=\"width: 210px; float: left;\">\n",
       "                       <a href='https://geosaurus.maps.arcgis.com/home/item.html?id=c230692096154bad87f07c6e9d1c20a0' target='_blank'>\n",
       "                        <img src='http://static.arcgis.com/images/desktopapp.png' class=\"itemThumbnail\">\n",
       "                       </a>\n",
       "                    </div>\n",
       "\n",
       "                    <div class=\"item_right\"     style=\"float: none; width: auto; overflow: hidden;\">\n",
       "                        <a href='https://geosaurus.maps.arcgis.com/home/item.html?id=c230692096154bad87f07c6e9d1c20a0' target='_blank'><b>Trailheads</b>\n",
       "                        </a>\n",
       "                        <br/><img src='https://geosaurus.maps.arcgis.com/home/js/jsapi/esri/css/images/item_type_icons/featureshosted16.png' style=\"vertical-align:middle;\">Feature Layer Collection by yjiang_geosaurus\n",
       "                        <br/>Last Modified: April 11, 2019\n",
       "                        <br/>0 comments, 0 views\n",
       "                    </div>\n",
       "                </div>\n",
       "                "
      ],
      "text/plain": [
       "<Item title:\"Trailheads\" type:Feature Layer Collection owner:yjiang_geosaurus>"
      ]
     },
     "execution_count": 18,
     "metadata": {},
     "output_type": "execute_result"
    }
   ],
   "source": [
    "csv_lyr"
   ]
  },
  {
   "cell_type": "code",
   "execution_count": null,
   "metadata": {},
   "outputs": [],
   "source": []
  }
 ],
 "metadata": {
  "kernelspec": {
   "display_name": "Python 3",
   "language": "python",
   "name": "python3"
  },
  "language_info": {
   "codemirror_mode": {
    "name": "ipython",
    "version": 3
   },
   "file_extension": ".py",
   "mimetype": "text/x-python",
   "name": "python",
   "nbconvert_exporter": "python",
   "pygments_lexer": "ipython3",
   "version": "3.7.2"
  }
 },
 "nbformat": 4,
 "nbformat_minor": 2
}
