{
 "cells": [
  {
   "cell_type": "code",
   "execution_count": 1,
   "source": [
    "from arcgis import GIS\r\n",
    "from arcgis.features.layer import FeatureLayerCollection"
   ],
   "outputs": [],
   "metadata": {}
  },
  {
   "cell_type": "markdown",
   "source": [
    "### Anatomy of a Parcel Fabric\n",
    "\n",
    "A parcel fabric stores a dataset of connected parcels or parcel network. Parcels are composed of polygon features, line features, and point features. Parcel polygons are defined by lines that store COGO dimensions from the recorded, legal document.\n",
    "\n",
    "A Parcel Fabric consists of:\n",
    "\n",
    "1. A geodatabase topology\n",
    "2. A polygon feature class called Records for storing legal document information about a set of parcels.\n",
    "3. A point feature class representing the physical, coordinated x,y,z locations on the ground.\n",
    "4. A lines feature class called Connection Lines to represent dimensions between points that are not parcel boundaries.\n",
    "5. Any number of parcel types\n",
    "\n",
    "<img align='left' width='300' height='280' src='https://pro.arcgis.com/en/pro-app/latest/help/data/parcel-editing/GUID-2239DE47-1DCF-42ED-B58D-D6C4B99DCA71-web.png' />"
   ],
   "metadata": {}
  },
  {
   "cell_type": "markdown",
   "source": [
    "A parcel type is composed of a polygon and line feature class and can be extended to contain attributes required by an organization.\n",
    "A parcel type consists of a pair of feature classes.  \n",
    "- A polygon feature class representing the area of a parcel.\n",
    "- A COGO enabled line feature class representing the boundary of a parcel.\n",
    "\n",
    "The cells below will demonstrate how to access the different parts of a parcel fabric"
   ],
   "metadata": {}
  },
  {
   "cell_type": "code",
   "execution_count": 3,
   "source": [
    "base_server_url = \"https://myserver.domain.com/web_adaptor/rest/services/WashingtonCountyLSA/\"\r\n",
    "gis = GIS(\"https://myserver.domain.com/web_adaptor/\", \"username\", \"pass.word\", verify_cert=False)\r\n",
    "\r\n",
    "# generate the enpoint urls for feature server, version management and parcel fabric\r\n",
    "service_endpoints = [\"FeatureServer\", \"ParcelFabricServer\", \"VersionManagementServer\"]                    \r\n",
    "service_urls = {url: base_server_url + url for url in service_endpoints}\r\n",
    "\r\n",
    "[v for k, v in service_urls.items()]"
   ],
   "outputs": [
    {
     "output_type": "execute_result",
     "data": {
      "text/plain": [
       "['https://myserver.domain.com/web_adaptor/rest/services/WashingtonCountyLSA/FeatureServer',\n",
       " 'https://myserver.domain.com/web_adaptor/rest/services/WashingtonCountyLSA/ParcelFabricServer',\n",
       " 'https://myserver.domain.com/web_adaptor/rest/services/WashingtonCountyLSA/VersionManagementServer']"
      ]
     },
     "metadata": {},
     "execution_count": 3
    }
   ],
   "metadata": {}
  },
  {
   "cell_type": "markdown",
   "source": [
    "### The Parcel Fabric FeatureLayerCollection\n",
    "\n",
    "A Parcel Fabric is published as an entire set containing the feature classes and topology described above.  The FeatureLayerCollection (FLC) provides access to these items as well as the properties and capabilities of the feature service itself."
   ],
   "metadata": {}
  },
  {
   "cell_type": "code",
   "execution_count": 4,
   "source": [
    "parcel_fabric_flc = FeatureLayerCollection(service_urls[\"FeatureServer\"], gis)\r\n",
    "parcel_fabric_flc.properties.capabilities"
   ],
   "outputs": [
    {
     "output_type": "execute_result",
     "data": {
      "text/plain": [
       "'Query,Create,Update,Delete,Uploads,Editing,ChangeTracking'"
      ]
     },
     "metadata": {},
     "execution_count": 4
    }
   ],
   "metadata": {}
  },
  {
   "cell_type": "markdown",
   "source": [
    "### Parcel Fabric Feature Layers"
   ],
   "metadata": {}
  },
  {
   "cell_type": "code",
   "execution_count": 5,
   "source": [
    "[f\"Layer ID: {layer.id} - Name: {layer.name}\" \r\n",
    "    for layer in parcel_fabric_flc.properties.layers \r\n",
    "    if layer.type == \"Feature Layer\"]"
   ],
   "outputs": [
    {
     "output_type": "execute_result",
     "data": {
      "text/plain": [
       "['Layer ID: 1 - Name: Records',\n",
       " 'Layer ID: 3 - Name: Dirty Areas',\n",
       " 'Layer ID: 4 - Name: Point Errors',\n",
       " 'Layer ID: 5 - Name: Line Errors',\n",
       " 'Layer ID: 6 - Name: Polygon Errors',\n",
       " 'Layer ID: 7 - Name: Points',\n",
       " 'Layer ID: 8 - Name: Connection Lines',\n",
       " 'Layer ID: 10 - Name: Adjustment Points',\n",
       " 'Layer ID: 11 - Name: Adjustment Lines',\n",
       " 'Layer ID: 12 - Name: Adjustment Vectors',\n",
       " 'Layer ID: 14 - Name: Tax_PF_Lines',\n",
       " 'Layer ID: 15 - Name: Tax_PF',\n",
       " 'Layer ID: 17 - Name: ConveyanceDivision_PF_Lines',\n",
       " 'Layer ID: 18 - Name: ConveyanceDivision_PF',\n",
       " 'Layer ID: 20 - Name: Block_PF_Lines',\n",
       " 'Layer ID: 21 - Name: Block_PF',\n",
       " 'Layer ID: 23 - Name: SimultaneousConveyance_PF_Lines',\n",
       " 'Layer ID: 24 - Name: SimultaneousConveyance_PF']"
      ]
     },
     "metadata": {},
     "execution_count": 5
    }
   ],
   "metadata": {}
  },
  {
   "cell_type": "markdown",
   "source": [
    "### The ParcelFabricManager object\n",
    "\n",
    "The Parcel Fabric Manager is responsible for exposing parcel management capabilities to support a variety of workflows from different clients and systems.\n"
   ],
   "metadata": {}
  },
  {
   "cell_type": "code",
   "execution_count": 7,
   "source": [
    "from arcgis.features._parcel import ParcelFabricManager\r\n",
    "\r\n",
    "# Create VMS from parcel fabric FLC\r\n",
    "version_management_service = parcel_fabric_flc.versions\r\n",
    "\r\n",
    "with version_management_service.get(\"admin.generate_fabric_links\", \"read\") as version:\r\n",
    "    parcel_fabric_manager = ParcelFabricManager(\r\n",
    "        service_urls[\"ParcelFabricServer\"], \r\n",
    "        gis, \r\n",
    "        version, \r\n",
    "        parcel_fabric_flc)\r\n",
    "\r\n",
    "parcel_fabric_manager.properties"
   ],
   "outputs": [
    {
     "output_type": "execute_result",
     "data": {
      "text/plain": [
       "{\n",
       "  \"name\": \"Parcel Fabric Server\",\n",
       "  \"type\": \"Map Server Extension\",\n",
       "  \"ParcelFabricLayers\": 1\n",
       "}"
      ]
     },
     "metadata": {},
     "execution_count": 7
    }
   ],
   "metadata": {}
  },
  {
   "cell_type": "markdown",
   "source": [
    "#### Access the Parcel Fabric SOE functions"
   ],
   "metadata": {}
  },
  {
   "cell_type": "code",
   "execution_count": 8,
   "source": [
    "[n for n in dir(parcel_fabric_manager) if not n.startswith(\"_\")]"
   ],
   "outputs": [
    {
     "output_type": "execute_result",
     "data": {
      "text/plain": [
       "['analyze_least_squares_adjustment',\n",
       " 'apply_least_squares_adjustment',\n",
       " 'assign_to_record',\n",
       " 'build',\n",
       " 'change_type',\n",
       " 'clip',\n",
       " 'copy_lines_to_parcel_type',\n",
       " 'create_seeds',\n",
       " 'delete',\n",
       " 'divide',\n",
       " 'duplicate',\n",
       " 'layer',\n",
       " 'merge',\n",
       " 'properties',\n",
       " 'update_history']"
      ]
     },
     "metadata": {},
     "execution_count": 8
    }
   ],
   "metadata": {}
  },
  {
   "cell_type": "markdown",
   "source": [
    "### Documentation\n",
    "\n",
    "[ArcGIS Python API - Version Manager](https://developers.arcgis.com/python/api-reference/arcgis.features.managers.html#versionmanager)\n",
    "\n",
    "[ArcGIS Python API - Parcel Fabric Manager](https://developers.arcgis.com/python/api-reference/arcgis.features.managers.html#parcelfabricmanager)\n",
    "\n",
    "[ArcGIS REST API - VersionManagementServer](https://developers.arcgis.com/rest/services-reference/enterprise/version-management-service.htm)\n",
    "\n",
    "[ArcGIS REST API - ParcelFabricServer](https://developers.arcgis.com/rest/services-reference/enterprise/overview-of-parcel-fabric-sevices.htm)\n",
    "\n",
    "[ArcGIS Pro - Branch Versioning Scenarios](https://pro.arcgis.com/en/pro-app/latest/help/data/geodatabases/overview/branch-version-scenarios.htm)"
   ],
   "metadata": {}
  }
 ],
 "metadata": {
  "interpreter": {
   "hash": "3ec7365f029c0271ef64d13dd7112b33803c4eb4bcfd1477ee827987865a2476"
  },
  "kernelspec": {
   "name": "python3",
   "display_name": "Python 3.7.10 64-bit ('geosaurus_dev_env': conda)"
  },
  "language_info": {
   "codemirror_mode": {
    "name": "ipython",
    "version": 3
   },
   "file_extension": ".py",
   "mimetype": "text/x-python",
   "name": "python",
   "nbconvert_exporter": "python",
   "pygments_lexer": "ipython3",
   "version": "3.7.10"
  }
 },
 "nbformat": 4,
 "nbformat_minor": 2
}