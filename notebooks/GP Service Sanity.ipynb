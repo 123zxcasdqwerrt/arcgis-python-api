{
 "cells": [
  {
   "cell_type": "code",
   "execution_count": 1,
   "metadata": {
    "collapsed": false
   },
   "outputs": [
    {
     "name": "stdout",
     "output_type": "stream",
     "text": [
      "URL: http://sampleserver1.arcgisonline.com/ArcGIS/rest/Services/Specialty/ESRI_Currents_World/GPServer\n",
      "Task: MessageInABottle\n",
      "Input_Point : GPFeatureRecordSetLayer\n",
      "Days : GPDouble\n",
      "[{'type': 'polyline', 'spatialReference': {'wkid': 4326}, 'paths': [[[4.440892098500626e-16, 2.220446049250313e-16], [-0.9721385836601257, 0.23440690338611603], [-1.9582945108413699, 0.40022748708724976], [-2.8991854190826416, 0.4431630373001103]]]}]\n"
     ]
    }
   ],
   "source": [
    "gis = GIS()\n",
    "gpservices = gis.content.search('ocean currents', 'geoprocessing service')\n",
    "gptool = arcgis.tools.GeoprocessingTool(gpservices[0])\n",
    "resp = gptool.message_in_a_bottle({\"x\":0,\"y\":0}, \"15\")\n",
    "print(str(resp))\n",
    "\n",
    "#  {\"features\":[{\"geometry\":{\"x\":0,\"y\":0}}]}\n",
    "# http://developers.arcgis.com/javascript/samples/gp_bottle/\n"
   ]
  },
  {
   "cell_type": "code",
   "execution_count": null,
   "metadata": {
    "collapsed": true
   },
   "outputs": [],
   "source": []
  }
 ],
 "metadata": {
  "kernelspec": {
   "display_name": "Python 3",
   "language": "python",
   "name": "python3"
  },
  "language_info": {
   "codemirror_mode": {
    "name": "ipython",
    "version": 3
   },
   "file_extension": ".py",
   "mimetype": "text/x-python",
   "name": "python",
   "nbconvert_exporter": "python",
   "pygments_lexer": "ipython3",
   "version": "3.4.3"
  }
 },
 "nbformat": 4,
 "nbformat_minor": 0
}
