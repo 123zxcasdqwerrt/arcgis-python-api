{
 "cells": [
  {
   "cell_type": "markdown",
   "metadata": {},
   "source": [
    "## Using the Workforce Python Module to Automate Workforce for ArcGIS\n",
    "\n",
    "Workforce for ArcGIS is a mobile solution that uses the power of location-based decision making for better field workforce coordination and teamwork. It is composed of a web app used by project administrators and dispatchers in the office, and a mobile app used by mobile workers on their devices. Organizations using Workforce for ArcGIS get these benefits:\n",
    "\n",
    "- Everything you need on one device—Mobile workers can easily view and process work assignments, provide updates on work status, and inform others of their location, all from one device.\n",
    "\n",
    "- Greater agility—Using real-time and location-based information, dispatchers can assign and prioritize fieldwork on the fly and ensure that work is assigned to the right people at the right time.\n",
    "\n",
    "- Increased productivity—Replace time-consuming and error-prone manual workforce management processes, reduce downtime, and keep projects on schedule."
   ]
  },
  {
   "cell_type": "markdown",
   "metadata": {
    "collapsed": true
   },
   "source": [
    "### Workforce Schema\n",
    "\n",
    "**Note**: The following was extracted/summarized from [here](https://doc.arcgis.com/en/workforce/android-phone/help/workforce-schema.htm).\n",
    "\n",
    "A workforce project is composed of four feature layers and four coded value domains with a predefined schema. The name of each feature layer is a combination of a moniker, describing the purpose of the feature layer, appended with the GUID of the Workforce project item. For example, the Workers layer associated with a project with GUID 5dd018fcd88c4d33814cf3da9c44061e would be named workers_5dd018fcd88c4d33814cf3da9c44061e. This guarantees uniqueness of each feature layer.\n",
    "\n",
    "The four feature layers are as follows:\n",
    "\n",
    "- **Workers**\n",
    "\n",
    "  - A point feature layer that contains a record for each mobile worker who is included in the project.\n",
    "  - Includes information about the mobile worker, including their contact number and job title.\n",
    "  - The mobile worker's ArcGIS organizational user name is stored in the userId field.\n",
    "  - The layer tracks who created and last updated each mobile worker.\n",
    "  - There is a primary key-foreign key (PK-FK) relationship from OBJECTID to Assignments.workerId. Using the OBJECTID value from the Workers layer as the Assignments.workerId field value associates the mobile worker with all their assignments.\n",
    "  - The layer has the following coded value domain associations:\n",
    "  - The status field is associated with the Worker_Status coded value domain to track the mobile worker status.\n",
    "\n",
    "- **Assignments**\n",
    "\n",
    "  - A point feature layer that contains a record for each assignment.\n",
    "  - Includes information about the assignment, including its status, location, and description, among others.\n",
    "  - The layer tracks who created and last updated each assignment.\n",
    "  - Attachments are enabled on the feature layer.\n",
    "  - The layer contains foreign keys for some fields, associating values from another layer with this layer:\n",
    "    - Assignments.workerId to Workers.OBJECTID.\n",
    "    - Assignments.dispatcherId to Dispatchers.OBJECTID.\n",
    "    - Assignments.workOrderId can be used as a foreign key to an external system, such as an asset or maintenance management system, by providing values from the other system.\n",
    "  - The layer has the following coded value domain associations:\n",
    "    - The status field is associated with the Assign_Status coded value domain to track the assignment status.\n",
    "    - The priority field is associated with the Priority coded value domain to manage the priority of work assignments.\n",
    "    - The assignmentType field is associated with the Assign_Type coded value domain to store the assignment types for the project.\n",
    "\n",
    "- **Dispatchers**\n",
    "  - A point feature layer that contains a record for each dispatcher within the project.\n",
    "  - Includes information about the dispatcher, including their name and contact number.\n",
    "  - The dispatcher's ArcGIS organizational user name is stored in the userId field.\n",
    "  - The layer tracks who created and last updated each dispatcher.\n",
    "  - There is a PK-FK relationship from OBJECTID to Assignments.dispatcherId. Using the OBJECTID value from the Dispatchers layer as the Assignments.dispatcherId field value associates the dispatcher with all the assignments they assigned.\n",
    "\n",
    "- **Location Tracking**\n",
    "  - A point feature layer that contains a record for each point location logged while location tracking is enabled.\n",
    "  - The layer tracks who created and last updated each location track.\n",
    "  \n",
    "Additionally, a workforce project contains two webmaps:\n",
    "\n",
    "- **Dispatcher Webmap**\n",
    "  - This map is what the dispatchers using the back-office web app see\n",
    "  - It shows the assignments and worker locations\n",
    "  - Additional layers can be added to this map\n",
    "  \n",
    "- **Worker Webmap**\n",
    "  - This map is what a field worker uses on their iOS or Android device\n",
    "  - Additional layers can be added to this map\n",
    "  \n",
    "When a new project is created via the web application, a new **Group** is created. All of the layers, webmaps, and the project item itself are shared into this group.\n",
    "\n",
    "When a new project is created via the web application, a new **Folder** is created. All of the layers, webmaps, and the project item itself are shared into this folder.\n",
    "\n",
    "Finally, there is the actual **Workforce Project** item. This is an item on the portal that stores project meta data in json format.\n",
    "\n",
    "```json\n",
    "{\n",
    "    \"workerWebMapId\": \"<worker-map-id>\",\n",
    "    \"dispatcherWebMapId\": \"<dispatcher-map-id>\",\n",
    "    \"dispatchers\": {\n",
    "        \"serviceItemId\": \"<item-id>\",\n",
    "        \"url\": \"<layer-url>\"\n",
    "    },\n",
    "    \"assignments\": {\n",
    "        \"serviceItemId\": \"<item-id>\",\n",
    "        \"url\": \"<layer-url>\"\n",
    "    },\n",
    "    \"workers\": {\n",
    "        \"serviceItemId\": \"<item-id>\",\n",
    "        \"url\": \"<layer-url>\"\n",
    "    },\n",
    "    \"tracks\": {\n",
    "        \"serviceItemId\": \"<item-id>\",\n",
    "        \"url\": \"<layer-url>\",\n",
    "        \"enabled\": <true | false>,\n",
    "        \"updateInterval\": 30\n",
    "    },\n",
    "    \"version\": \"1.2.0\",\n",
    "    \"groupId\": \"<group-id>\",\n",
    "    \"folderId\": \"<folder-d>\",\n",
    "    \"assignmentIntegrations\": [\n",
    "        {\n",
    "            \"id\": \"default-navigator\",\n",
    "            \"prompt\": \"Navigate to Assignment\",\n",
    "            \"urlTemplate\": \"arcgis-navigator://?stop=${assignment.latitude},${assignment.longitude}&stopname=${assignment.location}&callback=arcgis-workforce://&callbackprompt=Workforce\"\n",
    "        }\n",
    "    ]\n",
    "}\n",
    "```\n"
   ]
  },
  {
   "cell_type": "markdown",
   "metadata": {},
   "source": [
    "### Common tasks that can be accomplished with this module\n",
    "\n",
    "#### Workers and Dispatchers\n",
    "- Adding Dispatchers and Workers to a Project\n",
    "- Removing Dispatchers and Workers from a Project\n",
    "- Updating Workers and Dispatchers in a Project\n",
    "- Querying Workers and Dispatchers in a Project\n",
    "\n",
    "#### Assignments\n",
    "- Adding Assignments to a Project\n",
    "- Removing Assignments from a Project\n",
    "- Updating Assignments in a Project\n",
    "- Assigning Assignments in a Project\n",
    "- Querying Assignments in a Project\n",
    "- Adding/Removing/Downloading Attachments\n",
    "\n",
    "#### Tracks\n",
    "- Querying Tracks (for analysis)"
   ]
  },
  {
   "cell_type": "markdown",
   "metadata": {},
   "source": [
    "### Getting Started\n",
    "\n",
    "A user must be logged on to a GIS in order to fetch a Project. The workforce functionality is available in `arcgis.apps.workforce`"
   ]
  },
  {
   "cell_type": "code",
   "execution_count": 1,
   "metadata": {
    "collapsed": true
   },
   "outputs": [],
   "source": [
    "from arcgis.gis import GIS\n",
    "from arcgis.apps import workforce\n",
    "\n",
    "gis = GIS('https://arcgis.com', 'workforce_scripts', 'esri12345')"
   ]
  },
  {
   "cell_type": "markdown",
   "metadata": {},
   "source": [
    "### Accessing a project"
   ]
  },
  {
   "cell_type": "code",
   "execution_count": 2,
   "metadata": {
    "collapsed": true
   },
   "outputs": [],
   "source": [
    "item = gis.content.get(\"29eec3c45982458d876c5e1f2f32333d\")\n",
    "project = workforce.Project(item)"
   ]
  },
  {
   "cell_type": "markdown",
   "metadata": {},
   "source": [
    "#### Accessing assignments in a project"
   ]
  },
  {
   "cell_type": "code",
   "execution_count": 3,
   "metadata": {},
   "outputs": [
    {
     "name": "stdout",
     "output_type": "stream",
     "text": [
      "Status: ASSIGNED\n",
      "Description: You need to do an inspection here\n",
      "Priority: MEDIUM\n",
      "Assigned To: Aaron Pulver\n",
      "Type: Inspection\n",
      "--------------------\n",
      "Updated Description: You need to do an inspection here\n"
     ]
    },
    {
     "data": {
      "text/plain": [
       "['/Users/aaro8157/PycharmProjects/geosaurus/examples/Apps/esri_logo1.png']"
      ]
     },
     "execution_count": 3,
     "metadata": {},
     "output_type": "execute_result"
    }
   ],
   "source": [
    "# Uses an AssignmentManager to perform CRUD operations (with significatnt validation) for assignments\n",
    "assignments = project.assignments.query()\n",
    "\n",
    "# Let's view the first assignment\n",
    "assignment = assignments[0]\n",
    "print(f\"Status: {assignment.status.name}\")\n",
    "print(f\"Description: {assignment.description}\")\n",
    "print(f\"Priority: {assignment.priority.name}\")\n",
    "print(f\"Assigned To: {assignment.worker.name}\")\n",
    "print(f\"Type: {assignment.assignment_type}\")\n",
    "\n",
    "# Let's update the description\n",
    "assignment.description = \"You need to do an inspection here\"\n",
    "project.assignments.update([assignment])\n",
    "print(\"--------------------\")\n",
    "print(f\"Updated Description: {project.assignments.query()[0].description}\")\n",
    "\n",
    "# Let's download the attachments for this assignment using the AssignmentAttachmentManager\n",
    "assignment.attachments.download()"
   ]
  },
  {
   "cell_type": "markdown",
   "metadata": {},
   "source": [
    "#### Accessing assignment types in a project"
   ]
  },
  {
   "cell_type": "code",
   "execution_count": 4,
   "metadata": {},
   "outputs": [
    {
     "name": "stdout",
     "output_type": "stream",
     "text": [
      "Type: Inspection\n",
      "Type: Removal\n",
      "--------------------\n",
      "Type: Inspection\n",
      "Type: Removal\n",
      "Type: Repair\n"
     ]
    }
   ],
   "source": [
    "# Uses an AssignmentTypeManager to perform CRUD operations to the assignment types\n",
    "assignment_types = project.assignment_types.get_all()\n",
    "for at in assignment_types:\n",
    "    print(f\"Type: {at.name}\")\n",
    "    \n",
    "# Let's add a new assignment type\n",
    "assignment_type = workforce.AssignmentType(project)\n",
    "assignment_type.name = \"Repair\"\n",
    "project.assignment_types.add([assignment_type])\n",
    "\n",
    "# Let's confirm that it was added\n",
    "print(\"--------------------\")\n",
    "assignment_types = project.assignment_types.get_all()\n",
    "for at in assignment_types:\n",
    "    print(f\"Type: {at.name}\")"
   ]
  },
  {
   "cell_type": "markdown",
   "metadata": {},
   "source": [
    "#### Accessing workers in a project"
   ]
  },
  {
   "cell_type": "code",
   "execution_count": 5,
   "metadata": {},
   "outputs": [
    {
     "name": "stdout",
     "output_type": "stream",
     "text": [
      "Name: Aaron Pulver\n",
      "Number: None\n",
      "--------------------\n",
      "Number: 123-456-7890\n"
     ]
    }
   ],
   "source": [
    "# Uses a WorkerManager to perform CRUD operations \n",
    "workers = project.workers.query()\n",
    "worker = workers[0]\n",
    "print(f\"Name: {worker.name}\")\n",
    "print(f\"Number: {worker.contact_number}\")\n",
    "    \n",
    "# Let's update the workers number\n",
    "worker.contact_number = \"123-456-7890\"\n",
    "project.workers.update([worker])\n",
    "print(\"--------------------\")\n",
    "print(f\"Number: {project.workers.query()[0].contact_number}\")"
   ]
  },
  {
   "cell_type": "code",
   "execution_count": 6,
   "metadata": {
    "collapsed": true
   },
   "outputs": [],
   "source": [
    "# Let's add a new worker\n",
    "worker = workforce.Worker(project)\n",
    "worker.name = \"Demo User\"\n",
    "worker.user_id = \"demouser_nitro\"\n",
    "worker.contact_number = \"123-987-4560\"\n",
    "project.workers.add([worker])"
   ]
  },
  {
   "cell_type": "markdown",
   "metadata": {},
   "source": [
    "#### Accessing dispatchers in a project"
   ]
  },
  {
   "cell_type": "code",
   "execution_count": 7,
   "metadata": {},
   "outputs": [
    {
     "name": "stdout",
     "output_type": "stream",
     "text": [
      "Name: workforce scripts\n",
      "Number: 987-654-3210\n",
      "--------------------\n",
      "Number: 123-456-7890\n"
     ]
    }
   ],
   "source": [
    "# Uses a DispatcherManager to perform CRUD operations \n",
    "dispatchers = project.dispatchers.query()\n",
    "dispatcher = dispatchers[0]\n",
    "print(f\"Name: {dispatcher.name}\")\n",
    "print(f\"Number: {dispatcher.contact_number}\")\n",
    "    \n",
    "# Let's update the dispatchers number\n",
    "dispatcher.contact_number = \"123-456-7890\"\n",
    "project.dispatchers.update([dispatcher])\n",
    "print(\"--------------------\")\n",
    "print(f\"Number: {project.dispatchers.query()[0].contact_number}\")"
   ]
  },
  {
   "cell_type": "markdown",
   "metadata": {},
   "source": [
    "#### Accessing the webmaps"
   ]
  },
  {
   "cell_type": "code",
   "execution_count": 21,
   "metadata": {},
   "outputs": [
    {
     "data": {},
     "metadata": {},
     "output_type": "display_data"
    }
   ],
   "source": [
    "# worker webmap\n",
    "project.worker_webmap\n",
    "# dispatcher webmap\n",
    "project.dispatcher_webmap"
   ]
  },
  {
   "cell_type": "markdown",
   "metadata": {},
   "source": [
    "### Putting it all together (and highlighting validation)"
   ]
  },
  {
   "cell_type": "code",
   "execution_count": 9,
   "metadata": {},
   "outputs": [
    {
     "name": "stdout",
     "output_type": "stream",
     "text": [
      "Assignment cannot have an empty location\n"
     ]
    }
   ],
   "source": [
    "# Let's add a new assignment and assign it to demouser\n",
    "from datetime import datetime\n",
    "demouser = project.workers.get(user_id='demouser_nitro')\n",
    "dispatcher = project.dispatchers.get(user_id='workforce_scripts')\n",
    "repair = project.assignment_types.get(name=\"Repair\")\n",
    "new_assignment = workforce.Assignment(project)\n",
    "new_assignment.assignment_type = repair\n",
    "new_assignment.status = workforce.AssignmentStatus.ASSIGNED\n",
    "new_assignment.assigned_date = datetime.now()\n",
    "new_assignment.worker = demouser\n",
    "new_assignment.dispatcher = dispatcher\n",
    "\n",
    "# Let's try to add a new assignment now (should get validation error)\n",
    "try:\n",
    "    project.assignments.add([new_assignment])\n",
    "except Exception as e:\n",
    "    print(e.message)"
   ]
  },
  {
   "cell_type": "code",
   "execution_count": 10,
   "metadata": {
    "scrolled": true
   },
   "outputs": [
    {
     "name": "stdout",
     "output_type": "stream",
     "text": [
      "Assignment must have geometry\n"
     ]
    }
   ],
   "source": [
    "# Okay so we need to add a location\n",
    "new_assignment.location = \"ESRI, Redlands, CA\"\n",
    "\n",
    "# Let's try to add a new assignment now (should get validation error)\n",
    "try:\n",
    "    project.assignments.add([new_assignment])\n",
    "except Exception as e:\n",
    "    print(e.message)"
   ]
  },
  {
   "cell_type": "code",
   "execution_count": 11,
   "metadata": {},
   "outputs": [
    {
     "data": {
      "text/plain": [
       "[{\"attributes\": {\"status\": 1, \"priority\": 0, \"assignmentType\": 3, \"assignedDate\": 1521222078940.6199, \"workerId\": 7, \"dispatcherId\": 1, \"location\": \"ESRI, Redlands, CA\", \"OBJECTID\": 6, \"GlobalID\": \"ED481ADD-7B1F-4CB1-814F-6D367DE7B965\"}, \"geometry\": {\"x\": -13046163.418234022, \"y\": 4036389.770988603}}]"
      ]
     },
     "execution_count": 11,
     "metadata": {},
     "output_type": "execute_result"
    }
   ],
   "source": [
    "# Let's use the geocoder to add some geometry\n",
    "from arcgis.geocoding import geocode\n",
    "new_assignment.geometry = geocode(new_assignment.location, out_sr=102100)[0]['location']\n",
    "\n",
    "# Let's try to add a new assignment now\n",
    "project.assignments.add([new_assignment])"
   ]
  },
  {
   "cell_type": "code",
   "execution_count": 12,
   "metadata": {},
   "outputs": [
    {
     "data": {},
     "metadata": {},
     "output_type": "display_data"
    }
   ],
   "source": [
    "# Show the new assignment in Redlands\n",
    "project.dispatcher_webmap"
   ]
  },
  {
   "cell_type": "markdown",
   "metadata": {},
   "source": [
    "### Reset the Demo Project"
   ]
  },
  {
   "cell_type": "code",
   "execution_count": 13,
   "metadata": {
    "collapsed": true
   },
   "outputs": [],
   "source": [
    "project.assignments.remove(project.assignments.query(where='assignmentType=3'))\n",
    "project.assignment_types.remove([project.assignment_types.get(name=\"Repair\")])\n",
    "project.workers.remove([project.workers.get(user_id=\"demouser_nitro\")])\n",
    "a = project.assignments.get(object_id=1)\n",
    "a.description = \"Do some work at the ESRI R&D Center\"\n",
    "project.assignments.update([a])\n",
    "\n",
    "w1 = project.workers.get(object_id=1)\n",
    "w1.contact_number = None\n",
    "project.workers.update([w1])\n",
    "d1 = project.dispatchers.get(object_id=1)\n",
    "d1.contact_number = \"987-654-3210\"\n",
    "project.dispatchers.update([d1])"
   ]
  }
 ],
 "metadata": {
  "kernelspec": {
   "display_name": "Python 3",
   "language": "python",
   "name": "python3"
  },
  "language_info": {
   "codemirror_mode": {
    "name": "ipython",
    "version": 3.0
   },
   "file_extension": ".py",
   "mimetype": "text/x-python",
   "name": "python",
   "nbconvert_exporter": "python",
   "pygments_lexer": "ipython3",
   "version": "3.6.2"
  }
 },
 "nbformat": 4,
 "nbformat_minor": 0
}
