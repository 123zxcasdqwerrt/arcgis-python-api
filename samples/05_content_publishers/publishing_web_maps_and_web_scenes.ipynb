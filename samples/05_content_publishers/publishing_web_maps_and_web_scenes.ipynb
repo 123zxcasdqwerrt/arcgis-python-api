{
 "cells": [
  {
   "cell_type": "markdown",
   "metadata": {},
   "source": [
    "# Publishing web maps and web scenes\n",
    "\n",
    "An ArcGIS web map is an interactive display of geographic information through a composition of web layers, basemap and much more. A web scene is analogous to a web map but in the 3D space. To get and overview, visit the product documentation for [web maps](http://doc.arcgis.com/en/arcgis-online/reference/what-is-web-map.htm) and [web scenes](http://doc.arcgis.com/en/arcgis-online/reference/what-is-web-scene.htm).\n",
    "\n",
    "This sample demonstrates how to create and publish simple examples of web maps and scenes using the Python API. If you are interested in learning more about the specification to author and publish complex and more illustrative maps, refer to this [documentation](https://developers.arcgis.com/web-map-specification/)."
   ]
  },
  {
   "cell_type": "code",
   "execution_count": 1,
   "metadata": {},
   "outputs": [],
   "source": [
    "import os\n",
    "import json\n",
    "from IPython.display import display\n",
    "import arcgis\n",
    "from arcgis.gis import GIS\n",
    "from arcgis.mapping import WebMap, WebScene\n",
    "\n",
    "# connect to your GIS\n",
    "# Create an anonymous connection to ArcGIS Online to search for contents\n",
    "gis1 = GIS()\n",
    "# Create a connection to your portal for publishing\n",
    "gis2 = GIS(\"https://pythonapi.playground.esri.com/portal\", \"arcgis_python\", \"amazing_arcgis_123\")"
   ]
  },
  {
   "cell_type": "markdown",
   "metadata": {},
   "source": [
    "# Publish a web map\n",
    "The ArcGIS API for Python at version **1.3** extends the `WebMap` class with the capability to author new web maps and edit existing ones. You can perform basic operations such as adding, removing layers."
   ]
  },
  {
   "cell_type": "code",
   "execution_count": 2,
   "metadata": {},
   "outputs": [
    {
     "data": {
      "text/plain": [
       "{\n",
       "  \"operationalLayers\": [],\n",
       "  \"baseMap\": {\n",
       "    \"baseMapLayers\": [\n",
       "      {\n",
       "        \"url\": \"https://services.arcgisonline.com/ArcGIS/rest/services/World_Topo_Map/MapServer\",\n",
       "        \"layerType\": \"ArcGISTiledMapServiceLayer\",\n",
       "        \"resourceInfo\": {\n",
       "          \"currentVersion\": 10.3,\n",
       "          \"mapName\": \"Layers\",\n",
       "          \"supportsDynamicLayers\": false,\n",
       "          \"layers\": [\n",
       "            {\n",
       "              \"id\": 0,\n",
       "              \"name\": \"Citations\",\n",
       "              \"parentLayerId\": -1,\n",
       "              \"defaultVisibility\": false,\n",
       "              \"subLayerIds\": \"Portal for ArcGIS\",\n",
       "              \"minScale\": 0,\n",
       "              \"maxScale\": 0\n",
       "            }\n",
       "          ],\n",
       "          \"tables\": [],\n",
       "          \"spatialReference\": {\n",
       "            \"wkid\": 102100,\n",
       "            \"latestWkid\": 3857\n",
       "          },\n",
       "          \"singleFusedMapCache\": true,\n",
       "          \"tileInfo\": {\n",
       "            \"rows\": 256,\n",
       "            \"cols\": 256,\n",
       "            \"dpi\": 96,\n",
       "            \"format\": \"JPEG\",\n",
       "            \"compressionQuality\": 90,\n",
       "            \"origin\": {\n",
       "              \"x\": -20037508.342787,\n",
       "              \"y\": 20037508.342787\n",
       "            },\n",
       "            \"spatialReference\": {\n",
       "              \"wkid\": 102100,\n",
       "              \"latestWkid\": 3857\n",
       "            },\n",
       "            \"lods\": [\n",
       "              {\n",
       "                \"level\": 0,\n",
       "                \"resolution\": 156543.03392800014,\n",
       "                \"scale\": 591657527.591555\n",
       "              },\n",
       "              {\n",
       "                \"level\": 1,\n",
       "                \"resolution\": 78271.51696399994,\n",
       "                \"scale\": 295828763.795777\n",
       "              },\n",
       "              {\n",
       "                \"level\": 2,\n",
       "                \"resolution\": 39135.75848200009,\n",
       "                \"scale\": 147914381.897889\n",
       "              },\n",
       "              {\n",
       "                \"level\": 3,\n",
       "                \"resolution\": 19567.87924099992,\n",
       "                \"scale\": 73957190.948944\n",
       "              },\n",
       "              {\n",
       "                \"level\": 4,\n",
       "                \"resolution\": 9783.93962049996,\n",
       "                \"scale\": 36978595.474472\n",
       "              },\n",
       "              {\n",
       "                \"level\": 5,\n",
       "                \"resolution\": 4891.96981024998,\n",
       "                \"scale\": 18489297.737236\n",
       "              },\n",
       "              {\n",
       "                \"level\": 6,\n",
       "                \"resolution\": 2445.98490512499,\n",
       "                \"scale\": 9244648.868618\n",
       "              },\n",
       "              {\n",
       "                \"level\": 7,\n",
       "                \"resolution\": 1222.992452562495,\n",
       "                \"scale\": 4622324.434309\n",
       "              },\n",
       "              {\n",
       "                \"level\": 8,\n",
       "                \"resolution\": 611.4962262813797,\n",
       "                \"scale\": 2311162.217155\n",
       "              },\n",
       "              {\n",
       "                \"level\": 9,\n",
       "                \"resolution\": 305.74811314055756,\n",
       "                \"scale\": 1155581.108577\n",
       "              },\n",
       "              {\n",
       "                \"level\": 10,\n",
       "                \"resolution\": 152.87405657041106,\n",
       "                \"scale\": 577790.554289\n",
       "              },\n",
       "              {\n",
       "                \"level\": 11,\n",
       "                \"resolution\": 76.43702828507324,\n",
       "                \"scale\": 288895.277144\n",
       "              },\n",
       "              {\n",
       "                \"level\": 12,\n",
       "                \"resolution\": 38.21851414253662,\n",
       "                \"scale\": 144447.638572\n",
       "              },\n",
       "              {\n",
       "                \"level\": 13,\n",
       "                \"resolution\": 19.10925707126831,\n",
       "                \"scale\": 72223.819286\n",
       "              },\n",
       "              {\n",
       "                \"level\": 14,\n",
       "                \"resolution\": 9.554628535634155,\n",
       "                \"scale\": 36111.909643\n",
       "              },\n",
       "              {\n",
       "                \"level\": 15,\n",
       "                \"resolution\": 4.77731426794937,\n",
       "                \"scale\": 18055.954822\n",
       "              },\n",
       "              {\n",
       "                \"level\": 16,\n",
       "                \"resolution\": 2.388657133974685,\n",
       "                \"scale\": 9027.977411\n",
       "              },\n",
       "              {\n",
       "                \"level\": 17,\n",
       "                \"resolution\": 1.1943285668550503,\n",
       "                \"scale\": 4513.988705\n",
       "              },\n",
       "              {\n",
       "                \"level\": 18,\n",
       "                \"resolution\": 0.5971642835598172,\n",
       "                \"scale\": 2256.994353\n",
       "              },\n",
       "              {\n",
       "                \"level\": 19,\n",
       "                \"resolution\": 0.29858214164761665,\n",
       "                \"scale\": 1128.497176\n",
       "              },\n",
       "              {\n",
       "                \"level\": 20,\n",
       "                \"resolution\": 0.14929107082380833,\n",
       "                \"scale\": 564.248588\n",
       "              },\n",
       "              {\n",
       "                \"level\": 21,\n",
       "                \"resolution\": 0.07464553541190416,\n",
       "                \"scale\": 282.124294\n",
       "              },\n",
       "              {\n",
       "                \"level\": 22,\n",
       "                \"resolution\": 0.03732276770595208,\n",
       "                \"scale\": 141.062147\n",
       "              },\n",
       "              {\n",
       "                \"level\": 23,\n",
       "                \"resolution\": 0.01866138385297604,\n",
       "                \"scale\": 70.5310735\n",
       "              }\n",
       "            ]\n",
       "          },\n",
       "          \"initialExtent\": {\n",
       "            \"xmin\": -28848255.049479112,\n",
       "            \"ymin\": -2077452.082122866,\n",
       "            \"xmax\": 28848255.049479112,\n",
       "            \"ymax\": 16430757.376790084,\n",
       "            \"spatialReference\": {\n",
       "              \"wkid\": 102100,\n",
       "              \"latestWkid\": 3857\n",
       "            }\n",
       "          },\n",
       "          \"fullExtent\": {\n",
       "            \"xmin\": -20037507.067161843,\n",
       "            \"ymin\": -19971868.880408604,\n",
       "            \"xmax\": 20037507.067161843,\n",
       "            \"ymax\": 19971868.88040863,\n",
       "            \"spatialReference\": {\n",
       "              \"wkid\": 102100,\n",
       "              \"latestWkid\": 3857\n",
       "            }\n",
       "          },\n",
       "          \"minScale\": 591657527.591555,\n",
       "          \"maxScale\": 70.5310735,\n",
       "          \"units\": \"esriMeters\",\n",
       "          \"supportedImageFormatTypes\": \"PNG32,PNG24,PNG,JPG,DIB,TIFF,EMF,PS,PDF,GIF,SVG,SVGZ,BMP\",\n",
       "          \"capabilities\": \"Map,Tilemap,Query,Data\",\n",
       "          \"supportedQueryFormats\": \"JSON, AMF\",\n",
       "          \"exportTilesAllowed\": false,\n",
       "          \"maxRecordCount\": 100,\n",
       "          \"maxImageHeight\": 4096,\n",
       "          \"maxImageWidth\": 4096,\n",
       "          \"supportedExtensions\": \"KmlServer\"\n",
       "        }\n",
       "      }\n",
       "    ],\n",
       "    \"title\": \"Topographic\"\n",
       "  },\n",
       "  \"spatialReference\": {\n",
       "    \"wkid\": 102100,\n",
       "    \"latestWkid\": 3857\n",
       "  },\n",
       "  \"version\": \"2.10\",\n",
       "  \"authoringApp\": \"ArcGISPythonAPI\",\n",
       "  \"authoringAppVersion\": \"1.8.2\"\n",
       "}"
      ]
     },
     "execution_count": 2,
     "metadata": {},
     "output_type": "execute_result"
    }
   ],
   "source": [
    "# Create an empty web map with a default basemap\n",
    "wm = WebMap()\n",
    "wm.definition"
   ]
  },
  {
   "cell_type": "markdown",
   "metadata": {},
   "source": [
    "The above represents a template of a simple web map. This web map consists of a basemap web layer and an array of operational web layers. Notice the opertaional layer is empty without any web layer urls. We will search for a public web layer titled **2012 USA Median Age** published by **esri** account and apply that as an operational layer for this web map."
   ]
  },
  {
   "cell_type": "code",
   "execution_count": 3,
   "metadata": {},
   "outputs": [],
   "source": [
    "search_result = gis1.content.search(\"title:2012 USA Median AND owner:esri\", \n",
    "                                   item_type = \"Map Service\", outside_org = True)"
   ]
  },
  {
   "cell_type": "code",
   "execution_count": 4,
   "metadata": {},
   "outputs": [
    {
     "data": {
      "text/plain": [
       "[<Item title:\"2012 USA Median Household Income (Mature Support)\" type:Map Image Layer owner:esri>,\n",
       " <Item title:\"2012 USA Median Net Worth (Mature Support)\" type:Map Image Layer owner:esri>,\n",
       " <Item title:\"2012 USA Median Home Value (Mature Support)\" type:Map Image Layer owner:esri>,\n",
       " <Item title:\"2012 USA Median Age (Mature Support)\" type:Map Image Layer owner:esri>]"
      ]
     },
     "metadata": {},
     "output_type": "display_data"
    }
   ],
   "source": [
    "display(search_result)"
   ]
  },
  {
   "cell_type": "code",
   "execution_count": 5,
   "metadata": {},
   "outputs": [
    {
     "data": {
      "text/html": [
       "<div class=\"item_container\" style=\"height: auto; overflow: hidden; border: 1px solid #cfcfcf; border-radius: 2px; background: #f6fafa; line-height: 1.21429em; padding: 10px;\">\n",
       "                    <div class=\"item_left\" style=\"width: 210px; float: left;\">\n",
       "                       <a href='https://www.arcgis.com/home/item.html?id=814b785f25e24c9d8fc1a61ea61c0462' target='_blank'>\n",
       "                        <img src='https://www.arcgis.com/sharing/rest//content/items/814b785f25e24c9d8fc1a61ea61c0462/info/thumbnail/ago_downloaded.jpg' class=\"itemThumbnail\">\n",
       "                       </a>\n",
       "                    </div>\n",
       "\n",
       "                    <div class=\"item_right\"     style=\"float: none; width: auto; overflow: hidden;\">\n",
       "                        <a href='https://www.arcgis.com/home/item.html?id=814b785f25e24c9d8fc1a61ea61c0462' target='_blank'><b>2012 USA Median Net Worth (Mature Support)</b>\n",
       "                        </a>\n",
       "                        <br/>This item is in mature support.  This map shows the median household net worth in the United States in 2012.<img src='https://www.arcgis.com/home/js/jsapi/esri/css/images/item_type_icons/mapimages16.png' style=\"vertical-align:middle;\">Map Image Layer by esri\n",
       "                        <br/>Last Modified: March 13, 2019\n",
       "                        <br/>0 comments, 3,20,930 views\n",
       "                    </div>\n",
       "                </div>\n",
       "                "
      ],
      "text/plain": [
       "<Item title:\"2012 USA Median Net Worth (Mature Support)\" type:Map Image Layer owner:esri>"
      ]
     },
     "metadata": {},
     "output_type": "display_data"
    }
   ],
   "source": [
    "median_age_item = search_result[1] # pick the second search result\n",
    "display(median_age_item)"
   ]
  },
  {
   "cell_type": "markdown",
   "metadata": {},
   "source": [
    "### Add an operational layer to the web map\n",
    "To add 'USA median age' web layer as an operational layer, you can call the `add_layer()` method and pass the `MapImageLayer` object."
   ]
  },
  {
   "cell_type": "code",
   "execution_count": 6,
   "metadata": {},
   "outputs": [
    {
     "data": {
      "text/plain": [
       "[<Layer url:\"https://server.arcgisonline.com/ArcGIS/rest/services/Demographics/USA_Median_Net_Worth/MapServer/0\">,\n",
       " <FeatureLayer url:\"https://server.arcgisonline.com/ArcGIS/rest/services/Demographics/USA_Median_Net_Worth/MapServer/1\">,\n",
       " <FeatureLayer url:\"https://server.arcgisonline.com/ArcGIS/rest/services/Demographics/USA_Median_Net_Worth/MapServer/2\">,\n",
       " <FeatureLayer url:\"https://server.arcgisonline.com/ArcGIS/rest/services/Demographics/USA_Median_Net_Worth/MapServer/3\">,\n",
       " <FeatureLayer url:\"https://server.arcgisonline.com/ArcGIS/rest/services/Demographics/USA_Median_Net_Worth/MapServer/4\">]"
      ]
     },
     "execution_count": 6,
     "metadata": {},
     "output_type": "execute_result"
    }
   ],
   "source": [
    "#query the layers in the item\n",
    "median_age_item.layers"
   ]
  },
  {
   "cell_type": "code",
   "execution_count": 7,
   "metadata": {},
   "outputs": [],
   "source": [
    "for lyr in median_age_item.layers:\n",
    "    wm.add_layer(lyr)"
   ]
  },
  {
   "cell_type": "code",
   "execution_count": 8,
   "metadata": {},
   "outputs": [
    {
     "name": "stdout",
     "output_type": "stream",
     "text": [
      "Median Net Worth\n",
      "Block Groups\n",
      "Tracts\n",
      "Counties\n",
      "States\n"
     ]
    }
   ],
   "source": [
    "# query the layers added to the web map\n",
    "for lyr in wm.layers:\n",
    "    print(lyr.title)"
   ]
  },
  {
   "cell_type": "markdown",
   "metadata": {},
   "source": [
    "### Publish the web map as an item to the portal\n",
    "Now that the web map content is ready, we will use the `save()` method to save the `WebMap` object as a web map item in the GIS. As parameters to the `save()` method, you need to specify some essential properties for the new web map item."
   ]
  },
  {
   "cell_type": "code",
   "execution_count": 9,
   "metadata": {},
   "outputs": [
    {
     "data": {
      "text/html": [
       "<div class=\"item_container\" style=\"height: auto; overflow: hidden; border: 1px solid #cfcfcf; border-radius: 2px; background: #f6fafa; line-height: 1.21429em; padding: 10px;\">\n",
       "                    <div class=\"item_left\" style=\"width: 210px; float: left;\">\n",
       "                       <a href='https://pythonapi.playground.esri.com/portal/home/item.html?id=1e6910121a9342e8b6ebd22ee2c6b997' target='_blank'>\n",
       "                        <img src='https://pythonapi.playground.esri.com/portal/portalimages/desktopapp.png' class=\"itemThumbnail\">\n",
       "                       </a>\n",
       "                    </div>\n",
       "\n",
       "                    <div class=\"item_right\"     style=\"float: none; width: auto; overflow: hidden;\">\n",
       "                        <a href='https://pythonapi.playground.esri.com/portal/home/item.html?id=1e6910121a9342e8b6ebd22ee2c6b997' target='_blank'><b>USA median age map</b>\n",
       "                        </a>\n",
       "                        <br/>This map service shows the median age of peoplein the United States as of 2012 census. The Median Age forthe U.S. is 37 years of age.<img src='https://pythonapi.playground.esri.com/portal/home/js/jsapi/esri/css/images/item_type_icons/maps16.png' style=\"vertical-align:middle;\">Web Map by arcgis_python\n",
       "                        <br/>Last Modified: August 27, 2020\n",
       "                        <br/>0 comments, 0 views\n",
       "                    </div>\n",
       "                </div>\n",
       "                "
      ],
      "text/plain": [
       "<Item title:\"USA median age map\" type:Web Map owner:arcgis_python>"
      ]
     },
     "execution_count": 9,
     "metadata": {},
     "output_type": "execute_result"
    }
   ],
   "source": [
    "web_map_properties = {'title':'USA median age map',\n",
    "                     'snippet':'This map service shows the median age of people' +\\\n",
    "                     'in the United States as of 2012 census. The Median Age for' +\\\n",
    "                      'the U.S. is 37 years of age.',\n",
    "                     'tags':'ArcGIS Python API'}\n",
    "\n",
    "# Call the save() with web map item's properties.\n",
    "web_map_item = wm.save(item_properties=web_map_properties)\n",
    "web_map_item"
   ]
  },
  {
   "cell_type": "markdown",
   "metadata": {},
   "source": [
    "### Display the web map\n",
    "We have successfully published a web map with consisting of a basemap and desired web layer as the operational layer. We will use `arcgis.viz` module to read the published map as a `WebMap` object and interact with it."
   ]
  },
  {
   "cell_type": "code",
   "execution_count": 10,
   "metadata": {},
   "outputs": [
    {
     "data": {
      "application/vnd.jupyter.widget-view+json": {
       "model_id": "78a0cacc9e964da9906f3ce933728fbe",
       "version_major": 2,
       "version_minor": 0
      },
      "text/plain": [
       "MapView(hide_mode_switch=True, layout=Layout(height='400px', width='100%'))"
      ]
     },
     "metadata": {},
     "output_type": "display_data"
    },
    {
     "data": {
      "text/html": [
       "<div class=\"map-static-img-preview-11123d22-14c7-48a2-8480-9bf11bac340b\"><img src=\"\"></img></div>"
      ],
      "text/plain": [
       "<IPython.core.display.HTML object>"
      ]
     },
     "metadata": {},
     "output_type": "display_data"
    }
   ],
   "source": [
    "web_map_obj = arcgis.mapping.WebMap(web_map_item)\n",
    "\n",
    "# display the web map in an interactive widget\n",
    "web_map_obj"
   ]
  },
  {
   "cell_type": "markdown",
   "metadata": {},
   "source": [
    "The map by zooms to the extent of the content by default. You can interact with the widget and explore the spatial distribution of people's age."
   ]
  },
  {
   "cell_type": "markdown",
   "metadata": {},
   "source": [
    "# Publish a web scene\n",
    "So far, we have seen how to publish a web map. In this section, we will observe how to publish a web scene. We will read a template web scene json from a text file, add an interesting 3D Scene Service as an operational layer. Then using the `add()` method, we will publish this as a web scene item."
   ]
  },
  {
   "cell_type": "code",
   "execution_count": 11,
   "metadata": {},
   "outputs": [
    {
     "data": {
      "text/plain": [
       "{'operationalLayers': [{'itemId': '',\n",
       "   'title': '',\n",
       "   'visibility': True,\n",
       "   'opacity': 1,\n",
       "   'url': '',\n",
       "   'layerType': ''}],\n",
       " 'baseMap': {'baseMapLayers': [{'id': '933075fa973f49948a88b84dae743704',\n",
       "    'visibility': True,\n",
       "    'opacity': 1,\n",
       "    'layerDefinition': {},\n",
       "    'url': 'http://services.arcgisonline.com/ArcGIS/rest/services/World_Street_Map/MapServer',\n",
       "    'layerType': 'ArcGISTiledMapServiceLayer'}],\n",
       "  'title': 'World Street Map',\n",
       "  'elevationLayers': [{'url': 'https://elevation3d.arcgis.com/arcgis/rest/services/WorldElevation3D/Terrain3D/ImageServer',\n",
       "    'id': 'globalElevation_0',\n",
       "    'layerType': 'ArcGISTiledElevationServiceLayer'}]},\n",
       " 'spatialReference': {'wkid': 102100, 'latestWkid': 3857},\n",
       " 'version': '1.4',\n",
       " 'viewingMode': 'global',\n",
       " 'tables': []}"
      ]
     },
     "metadata": {},
     "output_type": "display_data"
    }
   ],
   "source": [
    "# Read sample web scene json from text file. We use built-in json module to parse it into a Python dictionary\n",
    "web_scene_dict = dict()\n",
    "with open(\"data/web_scene_simple.json\",\"r\") as file_handle:\n",
    "    web_scene_dict = json.load(file_handle)\n",
    "\n",
    "display(web_scene_dict)"
   ]
  },
  {
   "cell_type": "markdown",
   "metadata": {},
   "source": [
    "The web scene above is pretty simple. Notice the `operationalLayers` array does not contain `url` to the service. Now we will search for a scene service titled **Montreal, Canada Buildings** published by **esri_3d** and apply that to the web scene."
   ]
  },
  {
   "cell_type": "code",
   "execution_count": 12,
   "metadata": {},
   "outputs": [
    {
     "data": {
      "text/plain": [
       "[<Item title:\"Buildings_Montreal\" type:Scene Layer owner:esri_3d>,\n",
       " <Item title:\"Montreal, Canada Buildings\" type:Scene Layer owner:esri_3d>]"
      ]
     },
     "metadata": {},
     "output_type": "display_data"
    }
   ],
   "source": [
    "search_result = gis1.content.search(\"title:Montreal, Canada Buildings AND owner:esri_3d\", \n",
    "                                   item_type=\"scene service\", outside_org = True)\n",
    "display(search_result)"
   ]
  },
  {
   "cell_type": "code",
   "execution_count": 13,
   "metadata": {},
   "outputs": [
    {
     "data": {
      "text/html": [
       "<div class=\"item_container\" style=\"height: auto; overflow: hidden; border: 1px solid #cfcfcf; border-radius: 2px; background: #f6fafa; line-height: 1.21429em; padding: 10px;\">\n",
       "                    <div class=\"item_left\" style=\"width: 210px; float: left;\">\n",
       "                       <a href='https://www.arcgis.com/home/item.html?id=d6cae675188949c2a6140afdfd065c2d' target='_blank'>\n",
       "                        <img src='https://www.arcgis.com/sharing/rest//content/items/d6cae675188949c2a6140afdfd065c2d/info/thumbnail/ago_downloaded.png' class=\"itemThumbnail\">\n",
       "                       </a>\n",
       "                    </div>\n",
       "\n",
       "                    <div class=\"item_right\"     style=\"float: none; width: auto; overflow: hidden;\">\n",
       "                        <a href='https://www.arcgis.com/home/item.html?id=d6cae675188949c2a6140afdfd065c2d' target='_blank'><b>Buildings_Montreal</b>\n",
       "                        </a>\n",
       "                        <br/>This layer provides 3D models of buildings for Montreal, Canada to support your work in 3D<img src='https://www.arcgis.com/home/js/jsapi/esri/css/images/item_type_icons/layers16.png' style=\"vertical-align:middle;\">Scene Layer by esri_3d\n",
       "                        <br/>Last Modified: May 02, 2020\n",
       "                        <br/>0 comments, 211 views\n",
       "                    </div>\n",
       "                </div>\n",
       "                "
      ],
      "text/plain": [
       "<Item title:\"Buildings_Montreal\" type:Scene Layer owner:esri_3d>"
      ]
     },
     "metadata": {},
     "output_type": "display_data"
    }
   ],
   "source": [
    "buildings_layer = search_result[0]\n",
    "display(buildings_layer)"
   ]
  },
  {
   "cell_type": "code",
   "execution_count": 14,
   "metadata": {},
   "outputs": [],
   "source": [
    "# Update web scene's opertaional layer with properties of buildings_layer\n",
    "web_scene_dict['operationalLayers'][0]['itemId'] = buildings_layer.itemid\n",
    "web_scene_dict['operationalLayers'][0]['layerType'] = \"ArcGISSceneServiceLayer\"\n",
    "web_scene_dict['operationalLayers'][0]['title'] = buildings_layer.title\n",
    "web_scene_dict['operationalLayers'][0]['url'] = buildings_layer.url"
   ]
  },
  {
   "cell_type": "markdown",
   "metadata": {},
   "source": [
    "### Publish the web scene as an item to the portal\n",
    "We will use the `add()` from `ContentManager` class to create a web scene item. As parameters we will send a dictionary containing properties of the web scene item. The `text` property will contain the web scene dictionary updated in the previous step as a string."
   ]
  },
  {
   "cell_type": "code",
   "execution_count": 15,
   "metadata": {},
   "outputs": [
    {
     "data": {
      "text/html": [
       "<div class=\"item_container\" style=\"height: auto; overflow: hidden; border: 1px solid #cfcfcf; border-radius: 2px; background: #f6fafa; line-height: 1.21429em; padding: 10px;\">\n",
       "                    <div class=\"item_left\" style=\"width: 210px; float: left;\">\n",
       "                       <a href='https://pythonapi.playground.esri.com/portal/home/item.html?id=ef76d47dcdfc4274b0e4a8a2a523bf9f' target='_blank'>\n",
       "                        <img src='https://pythonapi.playground.esri.com/portal/portalimages/desktopapp.png' class=\"itemThumbnail\">\n",
       "                       </a>\n",
       "                    </div>\n",
       "\n",
       "                    <div class=\"item_right\"     style=\"float: none; width: auto; overflow: hidden;\">\n",
       "                        <a href='https://pythonapi.playground.esri.com/portal/home/item.html?id=ef76d47dcdfc4274b0e4a8a2a523bf9f' target='_blank'><b>Web scene with photo realistic buildings</b>\n",
       "                        </a>\n",
       "                        <br/>This scene highlights buildings of Montreal, Canada<img src='https://pythonapi.playground.esri.com/portal/home/js/jsapi/esri/css/images/item_type_icons/websceneglobal16.png' style=\"vertical-align:middle;\">Web Scene by arcgis_python\n",
       "                        <br/>Last Modified: August 27, 2020\n",
       "                        <br/>0 comments, 0 views\n",
       "                    </div>\n",
       "                </div>\n",
       "                "
      ],
      "text/plain": [
       "<Item title:\"Web scene with photo realistic buildings\" type:Web Scene owner:arcgis_python>"
      ]
     },
     "metadata": {},
     "output_type": "display_data"
    }
   ],
   "source": [
    "web_scene_item_properties = {'title':'Web scene with photo realistic buildings',\n",
    "                            'type':'Web Scene',\n",
    "                            'snippet':'This scene highlights buildings of Montreal, Canada',\n",
    "                            'tags':'ArcGIS Python API',\n",
    "                            'text': json.dumps(web_scene_dict)}\n",
    "\n",
    "# Use the add() method to publish a new web scenej\n",
    "web_scene_item = gis2.content.add(web_scene_item_properties)\n",
    "web_scene_item.share(True)\n",
    "display(web_scene_item)"
   ]
  },
  {
   "cell_type": "markdown",
   "metadata": {},
   "source": [
    "### Display the web scene\n",
    "We have successfully published a web scene with consisting of a basemap, elevation layer and desired web layer as the operational layer. We will use `arcgis.mapping` module to read the published scene as a `WebScene` object and interact with it."
   ]
  },
  {
   "cell_type": "code",
   "execution_count": 16,
   "metadata": {},
   "outputs": [
    {
     "data": {
      "application/vnd.jupyter.widget-view+json": {
       "model_id": "5a7510b2423b4bc2b7e455aa6480e365",
       "version_major": 2,
       "version_minor": 0
      },
      "text/plain": [
       "MapView(hide_mode_switch=True, layout=Layout(height='400px', width='100%'), mode='3D')"
      ]
     },
     "metadata": {},
     "output_type": "display_data"
    },
    {
     "data": {
      "text/html": [
       "<div class=\"map-static-img-preview-1da911e2-1434-435e-aa85-6ca17c148251\"><img src=\"\"></img></div>"
      ],
      "text/plain": [
       "<IPython.core.display.HTML object>"
      ]
     },
     "metadata": {},
     "output_type": "display_data"
    }
   ],
   "source": [
    "web_scene_obj = arcgis.mapping.WebScene(web_scene_item)\n",
    "\n",
    "# display the interactive web scene in the notebook\n",
    "web_scene_obj"
   ]
  }
 ],
 "metadata": {
  "anaconda-cloud": {},
  "kernelspec": {
   "display_name": "Python 3",
   "language": "python",
   "name": "python3"
  },
  "language_info": {
   "codemirror_mode": {
    "name": "ipython",
    "version": 3
   },
   "file_extension": ".py",
   "mimetype": "text/x-python",
   "name": "python",
   "nbconvert_exporter": "python",
   "pygments_lexer": "ipython3",
   "version": "3.6.10"
  }
 },
 "nbformat": 4,
 "nbformat_minor": 1
}
