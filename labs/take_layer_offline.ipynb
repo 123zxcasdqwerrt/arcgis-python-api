{
 "cells": [
  {
   "cell_type": "code",
   "execution_count": 1,
   "metadata": {
    "collapsed": true
   },
   "outputs": [],
   "source": [
    "from arcgis.gis import *\n",
    "from arcgis.features import FeatureLayer"
   ]
  },
  {
   "cell_type": "code",
   "execution_count": 3,
   "metadata": {},
   "outputs": [
    {
     "name": "stdout",
     "output_type": "stream",
     "text": [
      "Enter password: ········\n"
     ]
    }
   ],
   "source": [
    "gis = GIS(username=\"<USERNAME>\")"
   ]
  },
  {
   "cell_type": "code",
   "execution_count": 4,
   "metadata": {},
   "outputs": [
    {
     "data": {
      "text/html": [
       "<div class=\"item_container\" style=\"height: auto; overflow: hidden; border: 1px solid #cfcfcf; border-radius: 2px; background: #f6fafa; line-height: 1.21429em; padding: 10px;\">\n",
       "                    <div class=\"item_left\" style=\"width: 210px; float: left;\">\n",
       "                       <a href='https://Startups.maps.arcgis.com/home/item.html?id=c442d4d29b5e4ccf97d7cf97706c2bb3' target='_blank'>\n",
       "                        <img src='data:image/png;base64,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' width='200' height='133' class=\"itemThumbnail\">\n",
       "                       </a>\n",
       "                    </div>\n",
       "\n",
       "                    <div class=\"item_right\"     style=\"float: none; width: auto; overflow: hidden;\">\n",
       "                        <a href='https://Startups.maps.arcgis.com/home/item.html?id=c442d4d29b5e4ccf97d7cf97706c2bb3' target='_blank'><b>Griffith</b>\n",
       "                        </a>\n",
       "                        <br/><img src='https://Startups.maps.arcgis.com/home/js/jsapi/esri/css/images/item_type_icons/featureshosted16.png' style=\"vertical-align:middle;\">Feature Layer Collection by mpayson_startups\n",
       "                        <br/>Last Modified: February 01, 2018\n",
       "                        <br/>0 comments, 0 views\n",
       "                    </div>\n",
       "                </div>\n",
       "                "
      ],
      "text/plain": [
       "<Item title:\"Griffith\" type:Feature Layer Collection owner:mpayson_startups>"
      ]
     },
     "execution_count": 4,
     "metadata": {},
     "output_type": "execute_result"
    }
   ],
   "source": [
    "feature_layer_srch_results = dev_gis.content.search(query='title: \"Griffith*\" AND type: \"Feature Service\"')\n",
    "feature_layer_item = feature_layer_srch_results[0]\n",
    "feature_layer_item"
   ]
  },
  {
   "cell_type": "code",
   "execution_count": 6,
   "metadata": {},
   "outputs": [
    {
     "data": {
      "text/plain": [
       "<FeatureSet> 320 features"
      ]
     },
     "execution_count": 6,
     "metadata": {},
     "output_type": "execute_result"
    }
   ],
   "source": [
    "feature_layer = FeatureLayer.fromitem(feature_layer_item)\n",
    "feature_set = feature_layer.query()\n",
    "feature_set"
   ]
  },
  {
   "cell_type": "code",
   "execution_count": 10,
   "metadata": {},
   "outputs": [
    {
     "ename": "FileNotFoundError",
     "evalue": "[Errno 2] No such file or directory: 'output/Griffith Park Trailheads.csv'",
     "output_type": "error",
     "traceback": [
      "\u001b[0;31m---------------------------------------------------------------------------\u001b[0m",
      "\u001b[0;31mFileNotFoundError\u001b[0m                         Traceback (most recent call last)",
      "\u001b[0;32m<ipython-input-10-2712807bc4e1>\u001b[0m in \u001b[0;36m<module>\u001b[0;34m()\u001b[0m\n\u001b[0;32m----> 1\u001b[0;31m \u001b[0mfeature_set\u001b[0m\u001b[0;34m.\u001b[0m\u001b[0msave\u001b[0m\u001b[0;34m(\u001b[0m\u001b[0msave_location\u001b[0m\u001b[0;34m=\u001b[0m\u001b[0;34m\"output\"\u001b[0m\u001b[0;34m,\u001b[0m \u001b[0mout_name\u001b[0m\u001b[0;34m=\u001b[0m\u001b[0;34m\"Griffith Park Trailheads.csv\"\u001b[0m\u001b[0;34m)\u001b[0m\u001b[0;34m\u001b[0m\u001b[0m\n\u001b[0m",
      "\u001b[0;32m~/anaconda/lib/python3.6/site-packages/arcgis/features/feature.py\u001b[0m in \u001b[0;36msave\u001b[0;34m(self, save_location, out_name, encoding)\u001b[0m\n\u001b[1;32m    967\u001b[0m         \u001b[0;32mif\u001b[0m \u001b[0mfile_extension\u001b[0m \u001b[0;34m==\u001b[0m \u001b[0;34m\".csv\"\u001b[0m\u001b[0;34m:\u001b[0m\u001b[0;34m\u001b[0m\u001b[0m\n\u001b[1;32m    968\u001b[0m             \u001b[0mres\u001b[0m \u001b[0;34m=\u001b[0m \u001b[0mos\u001b[0m\u001b[0;34m.\u001b[0m\u001b[0mpath\u001b[0m\u001b[0;34m.\u001b[0m\u001b[0mjoin\u001b[0m\u001b[0;34m(\u001b[0m\u001b[0msave_location\u001b[0m\u001b[0;34m,\u001b[0m \u001b[0mout_name\u001b[0m\u001b[0;34m)\u001b[0m\u001b[0;34m\u001b[0m\u001b[0m\n\u001b[0;32m--> 969\u001b[0;31m             \u001b[0;32mwith\u001b[0m \u001b[0mopen\u001b[0m\u001b[0;34m(\u001b[0m\u001b[0mres\u001b[0m\u001b[0;34m,\u001b[0m \u001b[0maccess\u001b[0m\u001b[0;34m,\u001b[0m \u001b[0;34m**\u001b[0m\u001b[0mkwargs\u001b[0m\u001b[0;34m)\u001b[0m \u001b[0;32mas\u001b[0m \u001b[0mcsv_file\u001b[0m\u001b[0;34m:\u001b[0m\u001b[0;34m\u001b[0m\u001b[0m\n\u001b[0m\u001b[1;32m    970\u001b[0m                 \u001b[0;32mimport\u001b[0m \u001b[0mcsv\u001b[0m\u001b[0;34m\u001b[0m\u001b[0m\n\u001b[1;32m    971\u001b[0m                 \u001b[0mcsv_writer\u001b[0m \u001b[0;34m=\u001b[0m \u001b[0mcsv\u001b[0m\u001b[0;34m.\u001b[0m\u001b[0mwriter\u001b[0m\u001b[0;34m(\u001b[0m\u001b[0mcsv_file\u001b[0m\u001b[0;34m)\u001b[0m\u001b[0;34m\u001b[0m\u001b[0m\n",
      "\u001b[0;31mFileNotFoundError\u001b[0m: [Errno 2] No such file or directory: 'output/Griffith Park Trailheads.csv'"
     ]
    }
   ],
   "source": [
    "feature_set.save(save_location=\"output\", out_name=\"Griffith Park Trailheads.csv\")"
   ]
  },
  {
   "cell_type": "code",
   "execution_count": null,
   "metadata": {
    "collapsed": true
   },
   "outputs": [],
   "source": []
  }
 ],
 "metadata": {
  "kernelspec": {
   "display_name": "Python 3",
   "language": "python",
   "name": "python3"
  },
  "language_info": {
   "codemirror_mode": {
    "name": "ipython",
    "version": 3
   },
   "file_extension": ".py",
   "mimetype": "text/x-python",
   "name": "python",
   "nbconvert_exporter": "python",
   "pygments_lexer": "ipython3",
   "version": "3.6.3"
  }
 },
 "nbformat": 4,
 "nbformat_minor": 2
}
