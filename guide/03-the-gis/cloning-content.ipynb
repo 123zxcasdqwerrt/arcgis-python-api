{
 "cells": [
  {
   "cell_type": "markdown",
   "metadata": {},
   "source": [
    "# Cloning Content"
   ]
  },
  {
   "cell_type": "markdown",
   "metadata": {},
   "source": [
    "## Introduction"
   ]
  },
  {
   "cell_type": "markdown",
   "metadata": {},
   "source": [
    "The Python API team concluded we needed a guide for Cloning Content. We tackled the task to make the ultimate roadmap for how to get content from one Web GIS to another. First question to answer: What does it mean to `clone`? Merriam-Webster defines [`cloning`]() as _\"propagat[ing] a clone from.\"_ (Didn't I hear my 2nd grade teacher - and every teacher after that for that matter - say it's unhelpful to use the word you are defining in its definition? And what about ending sentences in prepositions?...) So, diving into the definition of a _\"clone\"_ reads _\"the aggregate of genetically identical cells or organisms asexually produced by or from a single progenitor cell or orgasm.\"_ Ok, not exactly the context we're working in when discussing a Web GIS. Further along the line we get to something more along the lines of what we're thinking: _\"one that appears to be a copy of an original form.\"_ BINGO! \n",
    "\n",
    "Leveraging the Python API to clone content from one Web GIS to another can be thought of as _\"propagating content that **appears** to be a copy of the original content.\"_. Given all the different content and item types, possible Enterprise configurations, potential ArcGIS Online Organization arrangements, security considerations, and item dependencies, just to name a few variables, `clone_items()` aims to _propagate_ an exact duplicate of one item with all its uses and functionality from an original portal to a second portal, but there may be circumstances, which can not all possibly be listed, predicted or defined, that lead the clone to come close but not quite produce an identical copy. In addition, the variety of means for publishing items creates varying possibilities for supported, related, or source items created during the publishing process. The relationship between any supported, related, or source items must be considered when cloning an item. For example, the overwrite functionality will not be available on cloned hosted feature layer items because they do not have a source document from which they were published. The FAQ [here](https://doc.arcgis.com/en/arcgis-online/reference/faq.htm#DELETE_SRC) provides important information regarding source items in ArcGIS Online. But...given our education on `cloning`, we now know that cloning only gurantees the second piece of content **appear** to be a copy of the original. It's important to temper these expectations when thinking about the Python API [`clone_items()`](https://developers.arcgis.com/python/api-reference/arcgis.gis.toc.html#arcgis.gis.ContentManager.clone_items) function. There may be times some items will not migrate. \n",
    "\n",
    "When talking about cloning items, let's establish some basic terminology.  Cloning can refer to all kinds of transfer, from ArcGIS Enterprise to ArcGIS Online, Enterprise to Enterprise, or ArCGIS Online to Enterprise. (The GIS Community infrequently discusses the need to clone between two distinct ArcGIS Online Organiztions.) Rather than tangle ourselves up when trying to distinguish between these portal types while writing about them, we'll refer to the portal or organization where the content originates as the _source_ regardless of portal type. We'll consider the portal or organization to which we'll clone content as the _target_. Done.\n",
    "\n",
    "Source `content` does not exist in isolation. Any content must be owned by a [`user`](https://developers.arcgis.com/python/api-reference/arcgis.gis.toc.html#user). If you don't plan on using the initial administrator account to own the cloned content, you must create the user accounts you plan to own the content. The `clone_items()` function was not designed to clone `users`, so if you want to duplicate the users from the source portal, check out the [`Clone Portal users, groups and content`](../sample-notebooks/clone-portal-users-groups-and-content/#Copy-Users) sample notebook on how to define functions that can copy `user` objects. \n",
    "\n",
    "This document illustrates the straightforward workflow of gathering all the source items using a source administrator account, and cloning them into a target administrator account.  This gaurantees the user account possesses all necessary privileges within that target to create the item and data. The target administrator subsequently can create user accounts and reassign item ownership and/or group membership according to need. This might also be the simplest workflow when the portal has users managed by an external identity store rather than using built-in accounts."
   ]
  },
  {
   "cell_type": "markdown",
   "metadata": {},
   "source": [
    "As originally written, Python API developers designed the `clone_items()` function for copying the following item types:\n",
    " * Hosted Web Applications built with Web AppBuilder or shared using Configurable App Templates\n",
    " * Web Maps\n",
    " * Hosted Feature Layers\n",
    " * Hosted Feature Layer Views\n",
    " * Feature Collections\n",
    " * Survey123 Forms\n",
    " * Workforce Projects\n",
    " * Story Maps\n",
    "   * References to web maps and applications will not be cloned. The new story map will continue to point to the original maps and applications.\n",
    " * Simple Types\n",
    "   * Those items with a download, including file geodatabases, shapefiles, code samples, zip files, and packages amongst others\n",
    " * Operation Views\n",
    " * Dashboards\n",
    " * Feature Collections\n",
    "\n",
    "`clone_items()` clones all dependencies for the more complex items listed above. For example, cloning an existing web application, clones the web map and all hosted feature layers referenced in the map.\n",
    "\n",
    "`clone_items()` will not clone map services and image services. Since these services can be published to servers other than the hosted server in a configuration, it's impossible for the function to determine where to publish them in the target. As a result, these items will copy over, but will continue to point back to the original source URL. "
   ]
  },
  {
   "cell_type": "markdown",
   "metadata": {},
   "source": [
    "Let's work through examples of cloning individual items so we can inspect the results.  First let's clone existing on-premise ArcGIS Enterprise items to a second on-premise Enterprise portal deployed with a base deployment augmented with Geoanalytics Server and Image Server.\n",
    "\n",
    "We're going to stick to cloning items the tool was designed for, starting with simpler item types and ending with more complex items containing multiple dependencies.\n",
    "\n",
    "First, let's import the necessary libraries, and connect to our source and target GIS:"
   ]
  },
  {
   "cell_type": "markdown",
   "metadata": {},
   "source": [
    "### Import libraries"
   ]
  },
  {
   "cell_type": "code",
   "execution_count": 1,
   "metadata": {},
   "outputs": [
    {
     "name": "stderr",
     "output_type": "stream",
     "text": [
      "C:\\Anaconda3\\envs\\pyapi171\\lib\\site-packages\\arcgis\\features\\_data\\geodataset\\utils.py:16: FutureWarning: The pandas.datetime class is deprecated and will be removed from pandas in a future version. Import from datetime module instead.\n",
      "  pd.datetime,\n"
     ]
    }
   ],
   "source": [
    "from pathlib import Path\n",
    "import sys\n",
    "\n",
    "from arcgis.gis import GIS\n",
    "from arcgis.env import active_gis\n",
    "from arcgis.mapping import WebMap"
   ]
  },
  {
   "cell_type": "markdown",
   "metadata": {},
   "source": [
    "### Connect to source and target portals"
   ]
  },
  {
   "cell_type": "code",
   "execution_count": 3,
   "metadata": {},
   "outputs": [
    {
     "name": "stdout",
     "output_type": "stream",
     "text": [
      "GIS @ https://pythonapi.playground.esri.com/portal version:7.1\n"
     ]
    }
   ],
   "source": [
    "source = GIS(profile=\"your_ent_admin_profile\", verify_cert=False)\n",
    "#source = GIS(profile=\"your_online_admin_profile\", verify_cert=False)\n",
    "print(source)"
   ]
  },
  {
   "cell_type": "code",
   "execution_count": 4,
   "metadata": {},
   "outputs": [
    {
     "name": "stdout",
     "output_type": "stream",
     "text": [
      "GIS @ https://datasciencedev.esri.com/portal version:8.1\n"
     ]
    }
   ],
   "source": [
    "target = GIS(profile=\"ent_10.8\", verify_cert=False)\n",
    "print(target)"
   ]
  },
  {
   "cell_type": "markdown",
   "metadata": {},
   "source": [
    "Let's start from a discovery position as an administrator. We'll simulate an administrator who's been testing and developing using ArcGIS Online as a development environment who wants to clone user data into an on-premise Enterprise environment for further development."
   ]
  },
  {
   "cell_type": "markdown",
   "metadata": {},
   "source": [
    "#### Helper Function\n",
    "Let's write a helper function to create a dictionary with the item type as the key, and a list of all the corresponding item types as the value."
   ]
  },
  {
   "cell_type": "code",
   "execution_count": 5,
   "metadata": {},
   "outputs": [],
   "source": [
    "def get_user_items(user, gis):\n",
    "    user_inventory = {}\n",
    "    user_items = gis.content.search(query=f\"* AND owner:{user.username}\", max_items=500)\n",
    "    for item in user_items:\n",
    "        if not item.type in user_inventory:\n",
    "            user_inventory[item.type] = [i \n",
    "                                         for i in user_items \n",
    "                                         if i.type == item.type]\n",
    "    return user_inventory"
   ]
  },
  {
   "cell_type": "code",
   "execution_count": 6,
   "metadata": {},
   "outputs": [],
   "source": [
    "user_inventory = get_user_items(source.users.me, source)"
   ]
  },
  {
   "cell_type": "code",
   "execution_count": 7,
   "metadata": {},
   "outputs": [
    {
     "data": {
      "text/plain": [
       "{'Map Service': [<Item title:\"Jordan\" type:Map Image Layer owner:arcgispyapibot>,\n",
       "  <Item title:\"Toronto Greenspace and Community Housing\" type:Map Image Layer owner:arcgispyapibot>],\n",
       " 'Web Map': [<Item title:\"Kenya Administrative Units\" type:Web Map owner:arcgispyapibot>,\n",
       "  <Item title:\"New Orleans Service Calls\" type:Web Map owner:arcgispyapibot>],\n",
       " 'Feature Service': [<Item title:\"Nairobi County Boundaries\" type:Feature Layer Collection owner:arcgispyapibot>,\n",
       "  <Item title:\"New_Orleans_Boundary_gax\" type:Feature Layer Collection owner:arcgispyapibot>,\n",
       "  <Item title:\"Nairobi County Boundaries_vw\" type:Feature Layer Collection owner:arcgispyapibot>,\n",
       "  <Item title:\"tlh_houshold_data_blkgrp\" type:Feature Layer Collection owner:arcgispyapibot>,\n",
       "  <Item title:\"cpy_tods_nola_svc_calls\" type:Feature Layer Collection owner:arcgispyapibot>,\n",
       "  <Item title:\"Kenya Administrative Units\" type:Feature Layer Collection owner:arcgispyapibot>,\n",
       "  <Item title:\"airprtx0201\" type:Feature Layer Collection owner:arcgispyapibot>],\n",
       " 'Shapefile': [<Item title:\"New_Orleans_Boundary_gax\" type:Shapefile owner:arcgispyapibot>],\n",
       " 'Service Definition': [<Item title:\"tlh_houshold_data_blkgrp\" type:Service Definition owner:arcgispyapibot>,\n",
       "  <Item title:\"Jordan\" type:Service Definition owner:arcgispyapibot>]}"
      ]
     },
     "execution_count": 7,
     "metadata": {},
     "output_type": "execute_result"
    }
   ],
   "source": [
    "user_inventory"
   ]
  },
  {
   "cell_type": "code",
   "execution_count": 8,
   "metadata": {},
   "outputs": [
    {
     "name": "stdout",
     "output_type": "stream",
     "text": [
      "Map Service\n",
      "--------------------------------------------------\n",
      "   Jordan                                            \n",
      "   Toronto Greenspace and Community Housing          \n",
      "\n",
      "\n",
      "Web Map\n",
      "--------------------------------------------------\n",
      "   Kenya Administrative Units                        \n",
      "   New Orleans Service Calls                         \n",
      "\n",
      "\n",
      "Feature Service\n",
      "--------------------------------------------------\n",
      "   Nairobi County Boundaries                         \n",
      "   New_Orleans_Boundary_gax                          \n",
      "   Nairobi County Boundaries_vw                      \n",
      "   tlh_houshold_data_blkgrp                          \n",
      "   cpy_tods_nola_svc_calls                           \n",
      "   Kenya Administrative Units                        \n",
      "   airprtx0201                                       \n",
      "\n",
      "\n",
      "Shapefile\n",
      "--------------------------------------------------\n",
      "   New_Orleans_Boundary_gax                          \n",
      "\n",
      "\n",
      "Service Definition\n",
      "--------------------------------------------------\n",
      "   tlh_houshold_data_blkgrp                          \n",
      "   Jordan                                            \n",
      "\n",
      "\n"
     ]
    }
   ],
   "source": [
    "for itype, ilist in user_inventory.items():\n",
    "    try:\n",
    "        print(f\"{itype}\\n{'-'*50}\")\n",
    "        for i in ilist:\n",
    "            print(f\"{' ':3}{i.title:50}\")\n",
    "        print(\"\\n\")\n",
    "    except Exception as e:\n",
    "        print(f\"\\t\\tOperation failed on: {i.title}\")\n",
    "        print(f\"\\t\\tException: {sys.exc_info()[1]}\")\n",
    "        continue"
   ]
  },
  {
   "cell_type": "markdown",
   "metadata": {},
   "source": [
    "### Suggested Cloning Order\n",
    "Given the nature of dependencies in the Web GIS system and the fact the `clone_items()` function can use the `search_existing_items` parameter to ensure against repeated cloning, items that serve as the foundation for other items should be cloned first. In other words, work from the bottom up in terms of dependencies.  For example, a `Web Map` often contains multiple layers.  When cloning the Web Map, the software must first compile the definition of the Web Map, which cannot be completed until each Feature Layer definition within it is compiled. Then the software must clone each Feature Layer item before it clones the Web Map and wires it to the Feature Layers within the target. Instead, cloning the Feature Layer items first allows the `clone_items()` function to search through existing items and definitions and simply clone over the Web Map definitionn and and rewire it to read the target feature services which alread exist. This can save time."
   ]
  },
  {
   "cell_type": "markdown",
   "metadata": {},
   "source": [
    "We can return lists of specific item_types from our inventory.  First, let's print a list of the disctinct item types avaiable for this user:"
   ]
  },
  {
   "cell_type": "code",
   "execution_count": 9,
   "metadata": {},
   "outputs": [
    {
     "name": "stdout",
     "output_type": "stream",
     "text": [
      "Map Service\n",
      "Web Map\n",
      "Feature Service\n",
      "Shapefile\n",
      "Service Definition\n"
     ]
    }
   ],
   "source": [
    "for item_type in list(user_inventory.keys()):\n",
    "    print(item_type)"
   ]
  },
  {
   "cell_type": "markdown",
   "metadata": {},
   "source": [
    "We can create a list of the hosted feature services using the `typeKeywords` property for items on our Feature Services:"
   ]
  },
  {
   "cell_type": "code",
   "execution_count": 10,
   "metadata": {},
   "outputs": [],
   "source": [
    "hosted_fsvc = [fs \n",
    "               for fs in user_inventory[\"Feature Service\"]\n",
    "               if 'Hosted Service' in fs.typeKeywords]"
   ]
  },
  {
   "cell_type": "markdown",
   "metadata": {},
   "source": [
    "**Note:** This result includes `hosted feature layer views` created from hosted feature layers.  Use the `typeKeywords` `'View Service'` to isolate views."
   ]
  },
  {
   "cell_type": "code",
   "execution_count": 11,
   "metadata": {},
   "outputs": [
    {
     "name": "stdout",
     "output_type": "stream",
     "text": [
      "Feature Layer                 Folder ID                          Folder Name\n",
      "----------------------------  ---------------------------------  ---------------\n",
      "Nairobi County Boundaries     9da120268eab46048b61364fa4c01723   Kenya\n",
      "New_Orleans_Boundary_gax      27d3016208e14e40887d9b3800f5a761   new orleans\n",
      "Nairobi County Boundaries_vw  9da120268eab46048b61364fa4c01723   Kenya\n",
      "tlh_houshold_data_blkgrp      27d3016208e14e40887d9b3800f5a761   new orleans\n",
      "cpy_tods_nola_svc_calls       27d3016208e14e40887d9b3800f5a761   new orleans\n",
      "Kenya Administrative Units    9da120268eab46048b61364fa4c01723   Kenya\n",
      "airprtx0201                   f474ba7867ec4583be3f0ccd90554115   Airports\n"
     ]
    }
   ],
   "source": [
    "print(f\"{'Feature Layer':<30}{'Folder ID':<35}{'Folder Name'}\\n{'-'*28:<30}{'-'*33:<35}{'-'*15}\")\n",
    "for hosted_fs in hosted_fsvc:\n",
    "    print(f\"{hosted_fs.title[:28]:30}{hosted_fs.ownerFolder:35}\"\n",
    "          f\"{next(f['title'] for f in source.users.me.folders if f['id'] == hosted_fs.ownerFolder)}\")"
   ]
  },
  {
   "cell_type": "code",
   "execution_count": null,
   "metadata": {},
   "outputs": [],
   "source": [
    "target.content.clone_items([hosted_fsvc[6]])"
   ]
  },
  {
   "cell_type": "markdown",
   "metadata": {},
   "source": [
    "Let's run clone on this small set of hosted Feature Services, alloting for any failed cloning, and replicate the source folder structure as well."
   ]
  },
  {
   "cell_type": "code",
   "execution_count": null,
   "metadata": {},
   "outputs": [],
   "source": [
    "for hfs in hosted_fsvc:\n",
    "    try:\n",
    "        if hfs.ownerFolder:\n",
    "            folder = next((f['title'] \n",
    "                          for f in source.users.me.folders \n",
    "                          if f['id'] == hfs.ownerFolder))\n",
    "            if not folder in [fld['title']\n",
    "                              for fld in target.users.me.folders]:\n",
    "                target.content.create_folder(folder=folder)\n",
    "            print(f\"Cloning {hfs.title}...\")\n",
    "            target.content.clone_items([hfs], folder=folder)\n",
    "            print(f\"...completed\")\n",
    "    except Exception as e:\n",
    "        print(f\"...Failed to Clone {hfs.title}...\")\n",
    "        print(f\"\\tException Type: {sys.exc_info()[0]}\")\n",
    "        print(f\"\\tException Value: {sys.exc_info()[1]}\")\n",
    "        print(f\"\\tException Traceback line: {sys.exc_info()[2].tb_lineno}\")\n",
    "        print(f\"\\tException Traceback instruction: {sys.exc_info()[2].tb_lasti}\")\n",
    "        continue"
   ]
  },
  {
   "cell_type": "markdown",
   "metadata": {},
   "source": []
  },
  {
   "cell_type": "code",
   "execution_count": null,
   "metadata": {},
   "outputs": [],
   "source": []
  },
  {
   "cell_type": "code",
   "execution_count": null,
   "metadata": {},
   "outputs": [],
   "source": []
  },
  {
   "cell_type": "code",
   "execution_count": null,
   "metadata": {},
   "outputs": [],
   "source": []
  },
  {
   "cell_type": "code",
   "execution_count": null,
   "metadata": {},
   "outputs": [],
   "source": []
  },
  {
   "cell_type": "code",
   "execution_count": null,
   "metadata": {},
   "outputs": [],
   "source": []
  },
  {
   "cell_type": "markdown",
   "metadata": {},
   "source": [
    "So for this user, we have cloned the hosted feature layers, including the data, to the new target org. Let's now query the list of hosted feature services to see if we have for any Feature Layer Views:"
   ]
  },
  {
   "cell_type": "code",
   "execution_count": null,
   "metadata": {},
   "outputs": [],
   "source": []
  },
  {
   "cell_type": "code",
   "execution_count": null,
   "metadata": {},
   "outputs": [],
   "source": []
  },
  {
   "cell_type": "markdown",
   "metadata": {},
   "source": []
  },
  {
   "cell_type": "code",
   "execution_count": null,
   "metadata": {},
   "outputs": [],
   "source": []
  },
  {
   "cell_type": "code",
   "execution_count": null,
   "metadata": {},
   "outputs": [],
   "source": []
  },
  {
   "cell_type": "code",
   "execution_count": null,
   "metadata": {},
   "outputs": [],
   "source": []
  },
  {
   "cell_type": "markdown",
   "metadata": {},
   "source": [
    "Next, let's use our helper function to get an inventory of another user's items:"
   ]
  },
  {
   "cell_type": "code",
   "execution_count": null,
   "metadata": {},
   "outputs": [],
   "source": [
    "new_user = source.users.search(query=\"jy*geosaurus\")[0]\n",
    "new_user"
   ]
  },
  {
   "cell_type": "code",
   "execution_count": null,
   "metadata": {},
   "outputs": [],
   "source": [
    "user_item_inventory = item_inventory(new_user.username)"
   ]
  },
  {
   "cell_type": "code",
   "execution_count": null,
   "metadata": {},
   "outputs": [],
   "source": [
    "user_item_inventory"
   ]
  },
  {
   "cell_type": "code",
   "execution_count": null,
   "metadata": {},
   "outputs": [],
   "source": []
  },
  {
   "cell_type": "code",
   "execution_count": null,
   "metadata": {},
   "outputs": [],
   "source": []
  },
  {
   "cell_type": "code",
   "execution_count": null,
   "metadata": {},
   "outputs": [],
   "source": [
    "def get_all_items(portal_user):\n",
    "    gis = active_gis\n",
    "    user = gis.users.search(\"username:\" + portal_user)[0]\n",
    "    items = {\"root\": [i for i in user.items()]}    \n",
    "    if user.folders and [f for f in user.folders if user.items(folder=f)]:\n",
    "        for folder in user.folders:\n",
    "            if user.items(folder=folder):\n",
    "                folder_items = [i for i in user.items(folder=folder)]\n",
    "            items[folder['title']] = folder_items\n",
    "    return items"
   ]
  },
  {
   "cell_type": "code",
   "execution_count": null,
   "metadata": {},
   "outputs": [],
   "source": [
    "def owns_items(username):\n",
    "    gis = active_gis\n",
    "    portal_user = gis.users.search(\"username:\"+username)[0]\n",
    "    if portal_user.items():\n",
    "        return True\n",
    "    else:\n",
    "        if (portal_user.folders and \n",
    "            [f \n",
    "             for f in portal_user.folders \n",
    "             if portal_user.items(folder=f)]):\n",
    "            return True\n",
    "        else:\n",
    "            return False"
   ]
  },
  {
   "cell_type": "code",
   "execution_count": null,
   "metadata": {},
   "outputs": [],
   "source": [
    "item_owners = [u \n",
    "               for u in active_gis.users.search(\"NOT username:esri_*\")\n",
    "               if owns_items(u.username)]\n",
    "item_owners"
   ]
  },
  {
   "cell_type": "code",
   "execution_count": null,
   "metadata": {},
   "outputs": [],
   "source": [
    "org_types = []\n",
    "for user in item_owners:\n",
    "    try:\n",
    "        type_set = {item.type\n",
    "                    for folder, item_list in get_all_items(user.username).items()\n",
    "                    for item in item_list}\n",
    "        for t in type_set:\n",
    "            if not t in org_types:\n",
    "                org_types.append(t)\n",
    "    except Exception as e:\n",
    "        print(f\"Cannot process user {user.username}\")"
   ]
  },
  {
   "cell_type": "markdown",
   "metadata": {},
   "source": [
    "## Item Relationship and cloning"
   ]
  },
  {
   "cell_type": "code",
   "execution_count": null,
   "metadata": {},
   "outputs": [],
   "source": [
    "len(org_types)"
   ]
  },
  {
   "cell_type": "code",
   "execution_count": null,
   "metadata": {},
   "outputs": [],
   "source": [
    "if len(org_types) % 2 > 0:\n",
    "    for a,b in zip(org_types[0::2], org_types[1::2]):\n",
    "        print(f\"{a:25}{b:25}\")\n",
    "        print(f\"{org_types[-1]:25}\")\n",
    "else:\n",
    "    for a,b in zip(org_types[0::2], org_types[1::2]):\n",
    "        print(f\"{a:25}{b:25}\")      "
   ]
  },
  {
   "cell_type": "code",
   "execution_count": null,
   "metadata": {},
   "outputs": [],
   "source": [
    "def get_item_types(username, item_type):\n",
    "        item_list = [item\n",
    "                     for folder,item_list in get_all_items(username).items()\n",
    "                     for item in item_list\n",
    "                     if item.type.lower() == item_type.lower()]\n",
    "        if item_type.lower() in ['feature service', 'vector tile service',\n",
    "                        'image service', 'scene service', 'map service']:\n",
    "            non_hosted = [i \n",
    "                          for i in item_list\n",
    "                          if not 'Hosted Service' in i.typeKeywords]\n",
    "            hosted = [h \n",
    "                      for h in item_list\n",
    "                      if 'Hosted Service' in h.typeKeywords]\n",
    "            return {\"hosted_\" + item_type.lower().replace(' ','_'):hosted, \n",
    "                    \"non_hosted_\"+item_type.lower().replace(' ','_'):non_hosted}\n",
    "        else:\n",
    "            return {item_type.lower().replace(' ','_'):item_list}"
   ]
  },
  {
   "cell_type": "code",
   "execution_count": null,
   "metadata": {},
   "outputs": [],
   "source": [
    "hosted, non_hosted = get_item_types('ent_admin', 'feature service').items()"
   ]
  },
  {
   "cell_type": "code",
   "execution_count": null,
   "metadata": {},
   "outputs": [],
   "source": [
    "non_hosted_fs = non_hosted[1]"
   ]
  },
  {
   "cell_type": "code",
   "execution_count": null,
   "metadata": {},
   "outputs": [],
   "source": [
    "hosted_fs = hosted[1]"
   ]
  },
  {
   "cell_type": "code",
   "execution_count": null,
   "metadata": {},
   "outputs": [],
   "source": [
    "for fs_item in hosted_fs:\n",
    "    try:\n",
    "        if fs_item.related_items('Service2Data', 'forward'):\n",
    "            rel_items = fs_item.related_items('Service2Data', 'forward')\n",
    "            for item in rel_items:\n",
    "                print(f\"{fs_item.title}\\n{'-'*50}\\n\\t{item.title[:38]:40}{item.type}\")\n",
    "        else:\n",
    "            print(f\"{fs_item.title}\\n{'-'*50}\\n\\tNo related items\")\n",
    "    except Exception as e:\n",
    "        print(f\"{fs_item.title}\\n{'-'*50}\\n\\t{str(e)}\")"
   ]
  },
  {
   "cell_type": "code",
   "execution_count": null,
   "metadata": {},
   "outputs": [],
   "source": [
    "emb_item = hosted_fs[4]"
   ]
  },
  {
   "cell_type": "code",
   "execution_count": null,
   "metadata": {},
   "outputs": [],
   "source": [
    "result_items = ent.content.clone_items(items=[emb_item],\n",
    "                                       folder=\"cloned_from_ent\",\n",
    "                                       search_existing_items=False)"
   ]
  },
  {
   "cell_type": "code",
   "execution_count": null,
   "metadata": {},
   "outputs": [],
   "source": [
    "result_items"
   ]
  },
  {
   "cell_type": "code",
   "execution_count": null,
   "metadata": {},
   "outputs": [],
   "source": [
    "result_items[0].related_items(\"Service2Data\", \"forward\")"
   ]
  },
  {
   "cell_type": "code",
   "execution_count": null,
   "metadata": {},
   "outputs": [],
   "source": [
    "emb_item.related_items(\"Service2Data\", \"forward\")"
   ]
  },
  {
   "cell_type": "code",
   "execution_count": null,
   "metadata": {},
   "outputs": [],
   "source": [
    "emb_item.export(title=\"foreign_embassies_us\",\n",
    "               export_format=\"CSV\")"
   ]
  },
  {
   "cell_type": "code",
   "execution_count": null,
   "metadata": {},
   "outputs": [],
   "source": []
  },
  {
   "cell_type": "code",
   "execution_count": null,
   "metadata": {},
   "outputs": [],
   "source": []
  },
  {
   "cell_type": "code",
   "execution_count": null,
   "metadata": {},
   "outputs": [],
   "source": []
  },
  {
   "cell_type": "code",
   "execution_count": null,
   "metadata": {},
   "outputs": [],
   "source": []
  },
  {
   "cell_type": "code",
   "execution_count": null,
   "metadata": {},
   "outputs": [],
   "source": [
    "source.admin.urls['urls']['tiles']"
   ]
  },
  {
   "cell_type": "code",
   "execution_count": null,
   "metadata": {},
   "outputs": [],
   "source": [
    "source.admin.urls['urls']['features']"
   ]
  },
  {
   "cell_type": "code",
   "execution_count": null,
   "metadata": {},
   "outputs": [],
   "source": [
    "tallahassee_items = source.content.search(query=\"Tallahassee *\")\n",
    "tallahassee_items"
   ]
  },
  {
   "cell_type": "code",
   "execution_count": null,
   "metadata": {},
   "outputs": [],
   "source": [
    "tlh_census_data = tallahassee_items[0]\n",
    "tlh_census_data"
   ]
  },
  {
   "cell_type": "code",
   "execution_count": null,
   "metadata": {},
   "outputs": [],
   "source": [
    "target.content.clone_items(items=[tlh_census_data], folder=\"cloned_from_agol_in_nb\", search_existing_items=False)"
   ]
  },
  {
   "cell_type": "code",
   "execution_count": null,
   "metadata": {},
   "outputs": [],
   "source": [
    "tlh_census_prtl = target.content.get('124ed4da3c604ec69fdd411c5d8315c8')"
   ]
  },
  {
   "cell_type": "code",
   "execution_count": null,
   "metadata": {},
   "outputs": [],
   "source": [
    "tlh_census_prtl.related_items(\"Service2Service\", \"reverse\")"
   ]
  },
  {
   "cell_type": "code",
   "execution_count": null,
   "metadata": {},
   "outputs": [],
   "source": []
  },
  {
   "cell_type": "code",
   "execution_count": null,
   "metadata": {},
   "outputs": [],
   "source": []
  },
  {
   "cell_type": "code",
   "execution_count": null,
   "metadata": {},
   "outputs": [],
   "source": []
  },
  {
   "cell_type": "code",
   "execution_count": null,
   "metadata": {},
   "outputs": [],
   "source": []
  },
  {
   "cell_type": "code",
   "execution_count": null,
   "metadata": {},
   "outputs": [],
   "source": []
  },
  {
   "cell_type": "code",
   "execution_count": null,
   "metadata": {},
   "outputs": [],
   "source": []
  },
  {
   "cell_type": "code",
   "execution_count": null,
   "metadata": {},
   "outputs": [],
   "source": []
  },
  {
   "cell_type": "code",
   "execution_count": null,
   "metadata": {},
   "outputs": [],
   "source": [
    "for map_service in non_hosted[1]:\n",
    "    print(f\"{map_service}\\n{'-'*90}\")\n",
    "    print(f\"{map_service['title']:45}{map_service['type']:20}{map_service.id}\")\n",
    "    print(f\"{' ':4}Service Name: {Path(map_service.url).parts[-2]}\")\n",
    "    if map_service.related_items('Service2Service', 'forward'):\n",
    "        ms_sd = map_service.related_items('Service2Service', 'forward')[0]\n",
    "        print(f\"{' ':2}{ms_sd.title:45}{ms_sd.type:20}{ms_sd.id}\")\n",
    "    else:\n",
    "       print(f\"{' ':4}{map_service.title} has {len(map_service.dependent_to()['list'])} items depending on it\")\n",
    "       print(f\"{' ':4}{map_service.title} is dependent upon {len(map_service.dependent_upon()['list'])} items\")\n",
    "       for item in map_service.dependent_upon()['list']:\n",
    "             print(f\"{' ':8}{item['dependencyType']:12}{item['id']}\")\n",
    "    print(\"\\n\")"
   ]
  },
  {
   "cell_type": "code",
   "execution_count": null,
   "metadata": {},
   "outputs": [],
   "source": [
    "for server in target.admin.federation.servers['servers']:\n",
    "    if not server['serverRole'] == 'FEDERATED_SERVER':\n",
    "        print(f\"{server['url']:50}{server['serverRole']:20}{server['id']}\")\n",
    "    else:\n",
    "        print(f\"{server['url']:50}{server['serverFunction'].upper():20}{server['id']}\")     "
   ]
  },
  {
   "cell_type": "code",
   "execution_count": null,
   "metadata": {},
   "outputs": [],
   "source": [
    "tvd.dependent_to()['list']"
   ]
  },
  {
   "cell_type": "code",
   "execution_count": null,
   "metadata": {},
   "outputs": [],
   "source": [
    "active_gis"
   ]
  },
  {
   "cell_type": "code",
   "execution_count": null,
   "metadata": {},
   "outputs": [],
   "source": [
    "active_gis = source"
   ]
  },
  {
   "cell_type": "code",
   "execution_count": null,
   "metadata": {},
   "outputs": [],
   "source": [
    "active_gis"
   ]
  },
  {
   "cell_type": "code",
   "execution_count": null,
   "metadata": {},
   "outputs": [],
   "source": [
    "user = source.users.me"
   ]
  },
  {
   "cell_type": "code",
   "execution_count": null,
   "metadata": {},
   "outputs": [],
   "source": [
    "itemtype = 'Map Service'"
   ]
  },
  {
   "cell_type": "code",
   "execution_count": null,
   "metadata": {},
   "outputs": [],
   "source": [
    "useritems = [i for i in user.items() if i.type==itemtype]"
   ]
  },
  {
   "cell_type": "code",
   "execution_count": null,
   "metadata": {},
   "outputs": [],
   "source": [
    "userfolderitems = [i\n",
    "                   for f in user.folders if\n",
    "                   user.items(folder=f['title'])\n",
    "                   for i in user.items(folder=f['title']) if\n",
    "                   i.type == itemtype]"
   ]
  },
  {
   "cell_type": "code",
   "execution_count": null,
   "metadata": {},
   "outputs": [],
   "source": [
    "useritems"
   ]
  },
  {
   "cell_type": "code",
   "execution_count": null,
   "metadata": {},
   "outputs": [],
   "source": [
    "userfolderitems"
   ]
  },
  {
   "cell_type": "code",
   "execution_count": null,
   "metadata": {},
   "outputs": [],
   "source": [
    "useritems = userfolderitems + useritems\n",
    "len(useritems)"
   ]
  },
  {
   "cell_type": "code",
   "execution_count": null,
   "metadata": {},
   "outputs": [],
   "source": [
    "for i in useritems:\n",
    "    if not i.ownerFolder:\n",
    "        print(f\"{i.title[:44]:45} stored in root folder {user.username}\")\n",
    "    else:\n",
    "        item_folder = [f['title'] for f in user.folders if i.ownerFolder == f['id']][0]\n",
    "        print(f\"{i.title[:44]:45} stored in {item_folder}\")"
   ]
  },
  {
   "cell_type": "code",
   "execution_count": null,
   "metadata": {},
   "outputs": [],
   "source": [
    "agol_map_img_lyrs = source.content.advanced_search(query=f\"type:{itemtype} AND owner:{source.users.me.username}\")"
   ]
  },
  {
   "cell_type": "code",
   "execution_count": null,
   "metadata": {},
   "outputs": [],
   "source": [
    "len(agol_map_img_lyrs)"
   ]
  },
  {
   "cell_type": "code",
   "execution_count": null,
   "metadata": {},
   "outputs": [],
   "source": [
    "source.content.search(query=)"
   ]
  },
  {
   "cell_type": "code",
   "execution_count": null,
   "metadata": {},
   "outputs": [],
   "source": [
    "wa_boundaries = geo.content.get(\"4fa87039bab34a6c9759b1062139790d\")\n",
    "wa_boundaries"
   ]
  },
  {
   "cell_type": "code",
   "execution_count": null,
   "metadata": {},
   "outputs": [],
   "source": [
    "active_gis = target"
   ]
  },
  {
   "cell_type": "code",
   "execution_count": null,
   "metadata": {},
   "outputs": [],
   "source": [
    "username = target.users.me.username"
   ]
  },
  {
   "cell_type": "code",
   "execution_count": null,
   "metadata": {},
   "outputs": [],
   "source": [
    "get_all_items(username)"
   ]
  },
  {
   "cell_type": "code",
   "execution_count": null,
   "metadata": {},
   "outputs": [],
   "source": [
    "item_type='map service'"
   ]
  },
  {
   "cell_type": "code",
   "execution_count": null,
   "metadata": {},
   "outputs": [],
   "source": [
    "item_list = [item\n",
    "             for folder,item_list in get_all_items(username).items()\n",
    "             for item in item_list\n",
    "             if item.type.lower() == item_type.lower()]"
   ]
  },
  {
   "cell_type": "code",
   "execution_count": null,
   "metadata": {},
   "outputs": [],
   "source": [
    "item_list"
   ]
  },
  {
   "cell_type": "code",
   "execution_count": null,
   "metadata": {},
   "outputs": [],
   "source": []
  },
  {
   "cell_type": "code",
   "execution_count": null,
   "metadata": {},
   "outputs": [],
   "source": [
    "target.users.me.items()"
   ]
  },
  {
   "cell_type": "code",
   "execution_count": null,
   "metadata": {},
   "outputs": [],
   "source": []
  },
  {
   "cell_type": "markdown",
   "metadata": {},
   "source": [
    "### Advanced Search"
   ]
  },
  {
   "cell_type": "code",
   "execution_count": null,
   "metadata": {},
   "outputs": [],
   "source": [
    "sd_fs_name = \"Toronto\"\n",
    "user = source.users.me.username"
   ]
  },
  {
   "cell_type": "code",
   "execution_count": null,
   "metadata": {},
   "outputs": [],
   "source": [
    "for item in source.content.advanced_search(query=f\"title:{sd_fs_name} AND owner:{user}\")['results']:\n",
    "    print(f\"{item.title:25}{item.id:35}{item.type}\")"
   ]
  },
  {
   "cell_type": "code",
   "execution_count": null,
   "metadata": {},
   "outputs": [],
   "source": [
    "for folder, items in get_all_items('arcgis_python').items():\n",
    "    print(f\"{folder}\\n{'-'*50}\")\n",
    "    hosted = [i for \n",
    "              i in items \n",
    "              if \"Hosted Service\" in i.typeKeywords]\n",
    "    non_hosted = [i \n",
    "                  for i in items \n",
    "                  if not \"Hosted Service\" in i.typeKeywords and\n",
    "                 \"Service\" in i.typeKeywords]\n",
    "    others = [i\n",
    "             for i in items\n",
    "             if not \"Service\" in i.typeKeywords]\n",
    "    if hosted:\n",
    "          print(f\"{' ':2}Hosted Items\\n{'-'*50}\")\n",
    "          for h in hosted:\n",
    "                print(f\"\\t{h.title[:40]:45}{h.type:30}{h.id}\")\n",
    "          else:\n",
    "                pass\n",
    "    print(\"\\n\")\n",
    "    if non_hosted:\n",
    "          print(f\"{' ':2}Non Hosted Items\\n{'-'*50}\")\n",
    "          for nh in non_hosted:\n",
    "                print(f\"\\t{nh.title[:40]:45}{nh.type:30}{nh.id}\")\n",
    "          else:\n",
    "                pass\n",
    "    print(\"\\n\")\n",
    "    if others:\n",
    "          print(f\"{' ':2}Non Service Items\\n{'-'*50}\")\n",
    "          for o in others:\n",
    "                print(f\"\\t{o.title[:40]:45}{o.type:30}{o.id}\")"
   ]
  },
  {
   "cell_type": "code",
   "execution_count": null,
   "metadata": {},
   "outputs": [],
   "source": [
    "get_item_types('arcgis_python', 'web map')"
   ]
  },
  {
   "cell_type": "code",
   "execution_count": null,
   "metadata": {},
   "outputs": [],
   "source": [
    "active_gis"
   ]
  },
  {
   "cell_type": "code",
   "execution_count": null,
   "metadata": {},
   "outputs": [],
   "source": [
    "source_org_id = source.properties['user']['orgId']\n",
    "geo_org_id = geo.properties['user']['orgId']"
   ]
  },
  {
   "cell_type": "code",
   "execution_count": null,
   "metadata": {},
   "outputs": [],
   "source": [
    "active_gis = geo"
   ]
  },
  {
   "cell_type": "code",
   "execution_count": null,
   "metadata": {},
   "outputs": [],
   "source": [
    "print(f\"Web Maps\\n{'-'*50}\")\n",
    "for item_type,map_list in get_item_types('arcgis_python', 'web map').items():\n",
    "    for web_map_item in map_list:\n",
    "        print(f\"{' ':2}{web_map_item.title[:55]:60}{web_map_item.id}\\n{'='*25}\")\n",
    "        wm_obj = WebMap(web_map_item)\n",
    "        if not wm_obj.layers:\n",
    "            print(f\"{' ':4}-has no layers\")\n",
    "        else:\n",
    "            for wm_lyr in wm_obj.layers:\n",
    "                if not wm_lyr.get('url'):\n",
    "                    print(f\"{' ':4}{wm_lyr['title'][:40]:45}No url for layer\")\n",
    "                else:\n",
    "                    if Path(wm_lyr['url']).parts[2] == geo_org_id:\n",
    "                        print(f\"{' ':4}{wm_lyr['title'][:48]:50}\"\n",
    "                              f\"{wm_lyr['layerType']:25}Hosted\")\n",
    "                    else:\n",
    "                        print(f\"{' ':4}{wm_lyr['title'][:48]:50}\"\n",
    "                              f\"{wm_lyr['layerType']:30}Referenced\")\n",
    "        print(\"\\n\")"
   ]
  },
  {
   "cell_type": "code",
   "execution_count": null,
   "metadata": {},
   "outputs": [],
   "source": [
    "wm0 = geo.content.get(\"e11ea9d9356d489fbac333a32e02e350\")"
   ]
  },
  {
   "cell_type": "code",
   "execution_count": null,
   "metadata": {},
   "outputs": [],
   "source": [
    "cloned_items = target.content.clone_items(items=[wm0],\n",
    "                          folder=\"cloned_from_geos_no_urls\",\n",
    "                          search_existing_items=False)"
   ]
  },
  {
   "cell_type": "code",
   "execution_count": null,
   "metadata": {},
   "outputs": [],
   "source": [
    "cloned_items[0]['isOrgItem']"
   ]
  },
  {
   "cell_type": "code",
   "execution_count": null,
   "metadata": {},
   "outputs": [],
   "source": []
  },
  {
   "cell_type": "code",
   "execution_count": null,
   "metadata": {},
   "outputs": [],
   "source": []
  },
  {
   "cell_type": "code",
   "execution_count": null,
   "metadata": {},
   "outputs": [],
   "source": [
    "for lyr in set2_tpk_SD_map_svc.layers:\n",
    "    print(f\"{lyr.properties.name:50}\") "
   ]
  },
  {
   "cell_type": "code",
   "execution_count": null,
   "metadata": {},
   "outputs": [],
   "source": []
  },
  {
   "cell_type": "code",
   "execution_count": null,
   "metadata": {},
   "outputs": [],
   "source": [
    "for org_user in item_owners[0:2]:\n",
    "    print(f\"{org_user.username}\\n{'-'*50}\")\n",
    "    for org_type in org_types:\n",
    "          user_items = get_item_types(org_user.username, org_type)\n",
    "          if user_items and org_type.lower() == \"feature service\":\n",
    "              if not user_items[\"hosted_\" + org_type.lower().replace(' ', '_')]:\n",
    "                  pass\n",
    "              else:\n",
    "                  print(f\"\\tHosted Feature Services\")\n",
    "                  for fs_item in user_items[\"hosted_\" + org_type.lower().replace(' ', '_')]:\n",
    "                      print(f\"\\t\\t{fs_item.title}\")\n",
    "              if not user_items[\"non_hosted_\" + org_type.lower().replace(' ', '_')]:\n",
    "                  pass\n",
    "              else:\n",
    "                  print(f\"\\tReferenced Feature Services\")\n",
    "                  for rfs_item in user_items[\"non_hosted_\" + org_type.lower().replace(' ', '_')]:\n",
    "                      print(f\"\\t\\t{rfs_item.title[:35]:40}{Path(rfs_item.url).parts[1]}\")\n",
    "          else:\n",
    "              if user_items[org_type.lower().replace(' ', '_')]:\n",
    "                  print(f\"\\t{org_type}\")\n",
    "                  for item in user_items[org_type.lower().replace(' ','_')]:\n",
    "                      print(f\"\\t\\t{item.title}\")\n",
    "    print(\"\\n\")"
   ]
  },
  {
   "cell_type": "code",
   "execution_count": null,
   "metadata": {},
   "outputs": [],
   "source": [
    "geo.properties['user']['orgId']"
   ]
  },
  {
   "cell_type": "code",
   "execution_count": null,
   "metadata": {},
   "outputs": [],
   "source": []
  },
  {
   "cell_type": "code",
   "execution_count": null,
   "metadata": {},
   "outputs": [],
   "source": []
  },
  {
   "cell_type": "code",
   "execution_count": null,
   "metadata": {},
   "outputs": [],
   "source": []
  },
  {
   "cell_type": "code",
   "execution_count": null,
   "metadata": {},
   "outputs": [],
   "source": [
    "item = source.content.search(\"*\")[0]"
   ]
  },
  {
   "cell_type": "code",
   "execution_count": null,
   "metadata": {},
   "outputs": [],
   "source": []
  },
  {
   "cell_type": "code",
   "execution_count": null,
   "metadata": {},
   "outputs": [],
   "source": [
    "target.groups.search(\"*\")[0].categories"
   ]
  },
  {
   "cell_type": "code",
   "execution_count": null,
   "metadata": {},
   "outputs": [],
   "source": []
  },
  {
   "cell_type": "code",
   "execution_count": null,
   "metadata": {},
   "outputs": [],
   "source": []
  },
  {
   "cell_type": "code",
   "execution_count": null,
   "metadata": {},
   "outputs": [],
   "source": []
  },
  {
   "cell_type": "code",
   "execution_count": null,
   "metadata": {},
   "outputs": [],
   "source": []
  },
  {
   "cell_type": "code",
   "execution_count": null,
   "metadata": {},
   "outputs": [],
   "source": []
  },
  {
   "cell_type": "code",
   "execution_count": null,
   "metadata": {},
   "outputs": [],
   "source": []
  },
  {
   "cell_type": "code",
   "execution_count": null,
   "metadata": {},
   "outputs": [],
   "source": []
  },
  {
   "cell_type": "code",
   "execution_count": null,
   "metadata": {},
   "outputs": [],
   "source": []
  },
  {
   "cell_type": "code",
   "execution_count": null,
   "metadata": {},
   "outputs": [],
   "source": []
  },
  {
   "cell_type": "code",
   "execution_count": null,
   "metadata": {},
   "outputs": [],
   "source": []
  },
  {
   "cell_type": "code",
   "execution_count": null,
   "metadata": {},
   "outputs": [],
   "source": []
  },
  {
   "cell_type": "code",
   "execution_count": null,
   "metadata": {},
   "outputs": [],
   "source": []
  },
  {
   "cell_type": "code",
   "execution_count": null,
   "metadata": {},
   "outputs": [],
   "source": []
  },
  {
   "cell_type": "code",
   "execution_count": null,
   "metadata": {},
   "outputs": [],
   "source": []
  },
  {
   "cell_type": "code",
   "execution_count": null,
   "metadata": {},
   "outputs": [],
   "source": []
  },
  {
   "cell_type": "code",
   "execution_count": null,
   "metadata": {},
   "outputs": [],
   "source": []
  },
  {
   "cell_type": "code",
   "execution_count": null,
   "metadata": {},
   "outputs": [],
   "source": []
  },
  {
   "cell_type": "code",
   "execution_count": null,
   "metadata": {},
   "outputs": [],
   "source": []
  },
  {
   "cell_type": "code",
   "execution_count": null,
   "metadata": {},
   "outputs": [],
   "source": []
  },
  {
   "cell_type": "code",
   "execution_count": null,
   "metadata": {},
   "outputs": [],
   "source": []
  },
  {
   "cell_type": "code",
   "execution_count": null,
   "metadata": {},
   "outputs": [],
   "source": []
  },
  {
   "cell_type": "code",
   "execution_count": null,
   "metadata": {},
   "outputs": [],
   "source": []
  },
  {
   "cell_type": "code",
   "execution_count": null,
   "metadata": {},
   "outputs": [],
   "source": []
  },
  {
   "cell_type": "code",
   "execution_count": null,
   "metadata": {},
   "outputs": [],
   "source": []
  },
  {
   "cell_type": "code",
   "execution_count": null,
   "metadata": {},
   "outputs": [],
   "source": []
  },
  {
   "cell_type": "code",
   "execution_count": null,
   "metadata": {},
   "outputs": [],
   "source": []
  },
  {
   "cell_type": "code",
   "execution_count": null,
   "metadata": {},
   "outputs": [],
   "source": []
  },
  {
   "cell_type": "code",
   "execution_count": null,
   "metadata": {},
   "outputs": [],
   "source": []
  },
  {
   "cell_type": "code",
   "execution_count": null,
   "metadata": {},
   "outputs": [],
   "source": []
  },
  {
   "cell_type": "code",
   "execution_count": null,
   "metadata": {},
   "outputs": [],
   "source": []
  },
  {
   "cell_type": "code",
   "execution_count": null,
   "metadata": {},
   "outputs": [],
   "source": []
  },
  {
   "cell_type": "code",
   "execution_count": null,
   "metadata": {},
   "outputs": [],
   "source": []
  },
  {
   "cell_type": "code",
   "execution_count": null,
   "metadata": {},
   "outputs": [],
   "source": []
  },
  {
   "cell_type": "code",
   "execution_count": null,
   "metadata": {},
   "outputs": [],
   "source": []
  },
  {
   "cell_type": "code",
   "execution_count": null,
   "metadata": {},
   "outputs": [],
   "source": []
  },
  {
   "cell_type": "code",
   "execution_count": null,
   "metadata": {},
   "outputs": [],
   "source": []
  },
  {
   "cell_type": "code",
   "execution_count": null,
   "metadata": {},
   "outputs": [],
   "source": []
  },
  {
   "cell_type": "code",
   "execution_count": null,
   "metadata": {},
   "outputs": [],
   "source": []
  },
  {
   "cell_type": "code",
   "execution_count": null,
   "metadata": {},
   "outputs": [],
   "source": []
  },
  {
   "cell_type": "code",
   "execution_count": null,
   "metadata": {},
   "outputs": [],
   "source": []
  },
  {
   "cell_type": "code",
   "execution_count": null,
   "metadata": {},
   "outputs": [],
   "source": []
  },
  {
   "cell_type": "code",
   "execution_count": null,
   "metadata": {},
   "outputs": [],
   "source": []
  },
  {
   "cell_type": "code",
   "execution_count": null,
   "metadata": {},
   "outputs": [],
   "source": []
  },
  {
   "cell_type": "code",
   "execution_count": null,
   "metadata": {},
   "outputs": [],
   "source": []
  },
  {
   "cell_type": "code",
   "execution_count": null,
   "metadata": {},
   "outputs": [],
   "source": []
  },
  {
   "cell_type": "code",
   "execution_count": null,
   "metadata": {},
   "outputs": [],
   "source": []
  },
  {
   "cell_type": "code",
   "execution_count": null,
   "metadata": {},
   "outputs": [],
   "source": []
  },
  {
   "cell_type": "code",
   "execution_count": null,
   "metadata": {},
   "outputs": [],
   "source": []
  },
  {
   "cell_type": "code",
   "execution_count": null,
   "metadata": {},
   "outputs": [],
   "source": []
  },
  {
   "cell_type": "code",
   "execution_count": null,
   "metadata": {},
   "outputs": [],
   "source": []
  },
  {
   "cell_type": "code",
   "execution_count": null,
   "metadata": {},
   "outputs": [],
   "source": []
  },
  {
   "cell_type": "code",
   "execution_count": null,
   "metadata": {},
   "outputs": [],
   "source": []
  },
  {
   "cell_type": "code",
   "execution_count": null,
   "metadata": {},
   "outputs": [],
   "source": []
  },
  {
   "cell_type": "code",
   "execution_count": null,
   "metadata": {},
   "outputs": [],
   "source": []
  },
  {
   "cell_type": "code",
   "execution_count": null,
   "metadata": {},
   "outputs": [],
   "source": []
  },
  {
   "cell_type": "code",
   "execution_count": null,
   "metadata": {},
   "outputs": [],
   "source": []
  },
  {
   "cell_type": "code",
   "execution_count": null,
   "metadata": {},
   "outputs": [],
   "source": []
  },
  {
   "cell_type": "code",
   "execution_count": null,
   "metadata": {},
   "outputs": [],
   "source": []
  },
  {
   "cell_type": "code",
   "execution_count": null,
   "metadata": {},
   "outputs": [],
   "source": []
  },
  {
   "cell_type": "code",
   "execution_count": null,
   "metadata": {},
   "outputs": [],
   "source": []
  },
  {
   "cell_type": "code",
   "execution_count": null,
   "metadata": {},
   "outputs": [],
   "source": []
  },
  {
   "cell_type": "code",
   "execution_count": null,
   "metadata": {},
   "outputs": [],
   "source": []
  },
  {
   "cell_type": "code",
   "execution_count": null,
   "metadata": {},
   "outputs": [],
   "source": []
  },
  {
   "cell_type": "code",
   "execution_count": null,
   "metadata": {},
   "outputs": [],
   "source": []
  },
  {
   "cell_type": "code",
   "execution_count": null,
   "metadata": {},
   "outputs": [],
   "source": []
  },
  {
   "cell_type": "code",
   "execution_count": null,
   "metadata": {},
   "outputs": [],
   "source": []
  },
  {
   "cell_type": "code",
   "execution_count": null,
   "metadata": {},
   "outputs": [],
   "source": []
  },
  {
   "cell_type": "code",
   "execution_count": null,
   "metadata": {},
   "outputs": [],
   "source": []
  },
  {
   "cell_type": "code",
   "execution_count": null,
   "metadata": {},
   "outputs": [],
   "source": []
  },
  {
   "cell_type": "code",
   "execution_count": null,
   "metadata": {},
   "outputs": [],
   "source": []
  },
  {
   "cell_type": "code",
   "execution_count": null,
   "metadata": {},
   "outputs": [],
   "source": []
  },
  {
   "cell_type": "code",
   "execution_count": null,
   "metadata": {},
   "outputs": [],
   "source": []
  },
  {
   "cell_type": "code",
   "execution_count": null,
   "metadata": {},
   "outputs": [],
   "source": []
  },
  {
   "cell_type": "code",
   "execution_count": null,
   "metadata": {},
   "outputs": [],
   "source": []
  },
  {
   "cell_type": "code",
   "execution_count": null,
   "metadata": {},
   "outputs": [],
   "source": []
  },
  {
   "cell_type": "code",
   "execution_count": null,
   "metadata": {},
   "outputs": [],
   "source": []
  },
  {
   "cell_type": "code",
   "execution_count": null,
   "metadata": {},
   "outputs": [],
   "source": []
  },
  {
   "cell_type": "code",
   "execution_count": null,
   "metadata": {},
   "outputs": [],
   "source": []
  },
  {
   "cell_type": "code",
   "execution_count": null,
   "metadata": {},
   "outputs": [],
   "source": []
  },
  {
   "cell_type": "code",
   "execution_count": null,
   "metadata": {},
   "outputs": [],
   "source": []
  }
 ],
 "metadata": {
  "kernelspec": {
   "display_name": "Python 3",
   "language": "python",
   "name": "python3"
  },
  "language_info": {
   "codemirror_mode": {
    "name": "ipython",
    "version": 3
   },
   "file_extension": ".py",
   "mimetype": "text/x-python",
   "name": "python",
   "nbconvert_exporter": "python",
   "pygments_lexer": "ipython3",
   "version": "3.7.6"
  }
 },
 "nbformat": 4,
 "nbformat_minor": 2
}
