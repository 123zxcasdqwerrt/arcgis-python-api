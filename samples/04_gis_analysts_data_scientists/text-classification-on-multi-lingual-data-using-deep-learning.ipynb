{
 "cells": [
  {
   "cell_type": "markdown",
   "metadata": {},
   "source": [
    "# Text Classification on Multi-Lingual data using Deep Learning"
   ]
  },
  {
   "cell_type": "markdown",
   "metadata": {},
   "source": [
    "<h1>Table of Contents<span class=\"tocSkip\"></span></h1>\n",
    "<div class=\"toc\">\n",
    "<ul class=\"toc-item\">\n",
    "<li><span><a href=\"#Introduction\" data-toc-modified-id=\"Introduction-1\">Introduction</a></span></li>\n",
    "<li><span><a href=\"#Prerequisites\" data-toc-modified-id=\"Prerequisites-2\">Prerequisites</a></span></li>\n",
    "<li><span><a href=\"#Imports\" data-toc-modified-id=\"Imports-3\">Imports</a></span></li>\n",
    "<li><span><a href=\"#Data-preparation\" data-toc-modified-id=\"Data-preparation-4\">Data preparation</a></span></li>\n",
    "<li><span><a href=\"#Model-training\" data-toc-modified-id=\"Model-training-5\">Model training</a></span></li>\n",
    "<ul class=\"toc-item\">\n",
    "<li><span><a href=\"#Load-model-architecture\" data-toc-modified-id=\"Load-model-architecture-5.1\">Load model architecture</a></span></li>\n",
    "<li><span><a href=\"#Find-optimum-learning-rate\" data-toc-modified-id=\"Find-optimum-learning-rate-5.2\">Find optimum learning rate</a></span></li>    \n",
    "<li><span><a href=\"#Validate-results\" data-toc-modified-id=\"Validate-results-5.3\">Validate results</a></span></li>\n",
    "<li><span><a href=\"#Model-metrics\" data-toc-modified-id=\"Model-metrics-5.4\">Model metrics</a></span></li>    \n",
    "<li><span><a href=\"#Get-misclassified-records\" data-toc-modified-id=\"Get-misclassified-records-5.5\">Get misclassified records</a></span></li>\n",
    "<li><span><a href=\"#Saving-the-trained-model\" data-toc-modified-id=\"Saving-the-trained-model-5.6\">Saving the trained model</a></span></li>\n",
    "</ul>\n",
    "<li><span><a href=\"#Model-inference\" data-toc-modified-id=\"Model-inference-6\">Model inference</a></span></li>\n",
    "<li><span><a href=\"#Conclusion\" data-toc-modified-id=\"Conclusion-7\">Conclusion</a></span></li>\n",
    "<li><span><a href=\"#References\" data-toc-modified-id=\"References-8\">References</a></span></li>\n",
    "</ul></div>"
   ]
  },
  {
   "cell_type": "markdown",
   "metadata": {},
   "source": [
    "# Introduction"
   ]
  },
  {
   "cell_type": "markdown",
   "metadata": {},
   "source": [
    "[Unstructured text](https://en.wikipedia.org/wiki/Unstructured_data) is information that either does not have a pre-defined data model or is not organized in a pre-defined manner. Unstructured information is typically text-heavy, but may contain data such as dates, numbers, and facts as well. This results in irregularities and ambiguities that make it difficult to understand using traditional programs as compared to data stored in fielded form in databases.\n",
    "\n",
    "**Natural Language Processing (NLP)** techniques can be applied to analyze these unstructured texts/documents. In this sample, we will be looking into one specific techinque of **NLP** called **Text Classification**. \n",
    "\n",
    "**Text classification** is the process of assigning tags/labels to an unstructured text. We will be picking up a dataset consisting of house addresses of 10 countries. Our task will be to build/train a classifier to predict a country for an input house address. To make this problem little more interesting, the house addresss in our dataset consists of text in multiple languages like English, Japanese, French, Spanish etc. The dataset is a small subset of the house addresses taken from [OpenAddresses data](http://results.openaddresses.io/) \n",
    "\n",
    "In this notebook we will build a classifier using `TextClassifier` class of `arcgis.learn.text` module."
   ]
  },
  {
   "cell_type": "markdown",
   "metadata": {},
   "source": [
    "# Prerequisites"
   ]
  },
  {
   "cell_type": "markdown",
   "metadata": {},
   "source": [
    "- The `TextClassifier` class in `arcgis.learn.text` module is based on [Hugging Face Transformer](https://huggingface.co/transformers/v3.0.2/index.html) library. [This page](https://huggingface.co/transformers/v3.0.2/pretrained_models.html) mentions different trasformer architectures  which comes in different flavours (in terms of model parameters, corpus used to pre-train these architectures etc,). \n",
    "\n",
    "- Not every model can be used for `text classification` purpose. As of now, there are around 13 models which can be used to perform `text classification`. These are `BERT`, `RoBERTa`, `DistilBERT`, `ALBERT`, `FlauBERT`, `CamemBERT`, `XLNet`, `XLM`, `XLM-RoBERTa`, `Bart`, `ELECTRA`, `Longformer` and `MobileBERT`\n",
    "\n",
    "- Data preparation and model training workflows using arcgis.learn have a dependency on [transformers](https://huggingface.co/transformers/v3.0.2/index.html). Refer to the section \"Install deep learning dependencies of arcgis.learn module\" [on this page](https://developers.arcgis.com/python/guide/install-and-set-up/#Install-deep-learning-dependencies-for-arcgis.learn-module) for detailed documentation on installation of the dependencies.\n",
    "\n",
    "- Labelled data: In order for `TextClassifier` to learn, it needs to see documents/texts that have been assigned a label. Labelled data for this sample notebook is located at data/text-classifier/house-addresses.csv\n",
    "\n",
    "- To learn more on how `TextClassifier` works, please see the guide on [Text Classification Workflow with arcgis.learn](https://developers.arcgis.com/python/guide/text-classification-workflow)."
   ]
  },
  {
   "cell_type": "markdown",
   "metadata": {},
   "source": [
    "# Imports"
   ]
  },
  {
   "cell_type": "code",
   "execution_count": 1,
   "metadata": {},
   "outputs": [],
   "source": [
    "import pandas as pd\n",
    "from arcgis.learn import prepare_textdata\n",
    "from arcgis.learn.text import TextClassifier"
   ]
  },
  {
   "cell_type": "markdown",
   "metadata": {},
   "source": [
    "# Data preparation"
   ]
  },
  {
   "cell_type": "markdown",
   "metadata": {},
   "source": [
    "Data preparation involves splitting the data into training and validation sets, creating the necessary data structures for loading data into the model and so on. The `prepare_textdata` function can directly read the training samples in one of the above specified formats and automate the entire process. While calling this function, user has to provide the following arguments:\n",
    "- **path**  &emsp;&emsp;&emsp;- &emsp;&emsp;&emsp;&emsp;       The **full directory path** where the **training file** is present\n",
    "- **task**   &nbsp;&emsp;&emsp;&emsp;- &emsp;&emsp;&emsp;&emsp;        The **task** for which the **dataset** is being prepared. Available choice at this point is **\"classification\"**\n",
    "- **train_file** &nbsp;&ensp;&nbsp;-  &emsp;&emsp;&emsp;&emsp; The file name containing the **training data**. Supported file formats/extensions are **.csv** and **.tsv**\n",
    "- **text_cols** &nbsp;&nbsp; -  &emsp;&emsp;&emsp;&emsp; The column name in the csv/tsv file that will be used as **feature**.\n",
    "- **label_cols** &nbsp;-  &emsp;&emsp;&emsp;&emsp; The list of columns denoting the class label to predict. Provide a list of columns in case of multi-label classification problem\n",
    "\n",
    "Some pre-processing functions are also provided like remoing [HTML tags](https://html.com/tags/) from the text or removing the [URLs](https://en.wikipedia.org/wiki/URL) from the text. User can decide if these pre-processing steps are required for his/her dataset or not."
   ]
  },
  {
   "cell_type": "code",
   "execution_count": 3,
   "metadata": {},
   "outputs": [],
   "source": [
    "DATA_ROOT = \"/data/TextClassifier/\""
   ]
  },
  {
   "cell_type": "code",
   "execution_count": 4,
   "metadata": {},
   "outputs": [],
   "source": [
    "data = prepare_textdata(DATA_ROOT, \"classification\", train_file=\"house-addresses.csv\", \n",
    "                        text_cols=\"Address\", label_cols=\"Country\")"
   ]
  },
  {
   "cell_type": "markdown",
   "metadata": {},
   "source": [
    "The `show_batch()` method can be used to see the training samples, along with labels."
   ]
  },
  {
   "cell_type": "code",
   "execution_count": 6,
   "metadata": {},
   "outputs": [
    {
     "data": {
      "text/html": [
       "<style  type=\"text/css\" >\n",
       "    #T_ba144614_f99d_11ea_a850_a4bb6dafa070 th {\n",
       "          text-align: left;\n",
       "    }#T_ba144614_f99d_11ea_a850_a4bb6dafa070row0_col0,#T_ba144614_f99d_11ea_a850_a4bb6dafa070row0_col1,#T_ba144614_f99d_11ea_a850_a4bb6dafa070row1_col0,#T_ba144614_f99d_11ea_a850_a4bb6dafa070row1_col1,#T_ba144614_f99d_11ea_a850_a4bb6dafa070row2_col0,#T_ba144614_f99d_11ea_a850_a4bb6dafa070row2_col1,#T_ba144614_f99d_11ea_a850_a4bb6dafa070row3_col0,#T_ba144614_f99d_11ea_a850_a4bb6dafa070row3_col1,#T_ba144614_f99d_11ea_a850_a4bb6dafa070row4_col0,#T_ba144614_f99d_11ea_a850_a4bb6dafa070row4_col1{\n",
       "            text-align:  left;\n",
       "        }</style><table id=\"T_ba144614_f99d_11ea_a850_a4bb6dafa070\" ><thead>    <tr>        <th class=\"col_heading level0 col0\" >Address</th>        <th class=\"col_heading level0 col1\" >Country</th>    </tr></thead><tbody>\n",
       "                <tr>\n",
       "                                <td id=\"T_ba144614_f99d_11ea_a850_a4bb6dafa070row0_col0\" class=\"data row0 col0\" >1621, North  Zenobia Street</td>\n",
       "                        <td id=\"T_ba144614_f99d_11ea_a850_a4bb6dafa070row0_col1\" class=\"data row0 col1\" >US</td>\n",
       "            </tr>\n",
       "            <tr>\n",
       "                                <td id=\"T_ba144614_f99d_11ea_a850_a4bb6dafa070row1_col0\" class=\"data row1 col0\" >100, BELEURA HILL ROAD, MORNINGTON, VIC, 3931</td>\n",
       "                        <td id=\"T_ba144614_f99d_11ea_a850_a4bb6dafa070row1_col1\" class=\"data row1 col1\" >AU</td>\n",
       "            </tr>\n",
       "            <tr>\n",
       "                                <td id=\"T_ba144614_f99d_11ea_a850_a4bb6dafa070row2_col0\" class=\"data row2 col0\" >SN, ANDADOR PROGRESO, SALINA CRUZ, Salina Cruz, Oaxaca</td>\n",
       "                        <td id=\"T_ba144614_f99d_11ea_a850_a4bb6dafa070row2_col1\" class=\"data row2 col1\" >MX</td>\n",
       "            </tr>\n",
       "            <tr>\n",
       "                                <td id=\"T_ba144614_f99d_11ea_a850_a4bb6dafa070row3_col0\" class=\"data row3 col0\" >306, Rue de Bois-de-Breux, 4020</td>\n",
       "                        <td id=\"T_ba144614_f99d_11ea_a850_a4bb6dafa070row3_col1\" class=\"data row3 col1\" >BE</td>\n",
       "            </tr>\n",
       "            <tr>\n",
       "                                <td id=\"T_ba144614_f99d_11ea_a850_a4bb6dafa070row4_col0\" class=\"data row4 col0\" >20, RUA  7 DE ABRIL, Baianópolis, BA, 47830-000</td>\n",
       "                        <td id=\"T_ba144614_f99d_11ea_a850_a4bb6dafa070row4_col1\" class=\"data row4 col1\" >BR</td>\n",
       "            </tr>\n",
       "    </tbody></table>"
      ],
      "text/plain": [
       "<pandas.io.formats.style.Styler at 0x19db0623080>"
      ]
     },
     "execution_count": 6,
     "metadata": {},
     "output_type": "execute_result"
    }
   ],
   "source": [
    "data.show_batch()"
   ]
  },
  {
   "cell_type": "markdown",
   "metadata": {},
   "source": [
    "# Model Training"
   ]
  },
  {
   "cell_type": "markdown",
   "metadata": {},
   "source": [
    "`TextClassifier` model in `arcgis.laern.text` is built on top of [Hugging Face Transformer](https://huggingface.co/transformers/v3.0.2/index.html) library. The model training and inferencing workflow is similar to computer vision models in `arcgis.learn`. \n",
    "\n",
    "To see what transformer backbones are supported for the classification task run the below command"
   ]
  },
  {
   "cell_type": "code",
   "execution_count": 7,
   "metadata": {},
   "outputs": [
    {
     "name": "stdout",
     "output_type": "stream",
     "text": [
      "['BERT', 'RoBERTa', 'DistilBERT', 'ALBERT', 'FlauBERT', 'CamemBERT', 'XLNet', 'XLM', 'XLM-RoBERTa', 'Bart', 'ELECTRA', 'Longformer', 'MobileBERT']\n"
     ]
    }
   ],
   "source": [
    "print(TextClassifier.supported_backbones)"
   ]
  },
  {
   "cell_type": "markdown",
   "metadata": {},
   "source": [
    "The HuggingFace Transformer library provides a wide variety of models for each of the backbone listed above. To see the full list kindly visit [this](https://huggingface.co/transformers/pretrained_models.html) link.\n",
    "\n",
    "The call to `available_backbone_models` method will list out only few of the available models for each backbone. This list is not exhaustive and only contain subset of the models listed in the link above. This function is created to give a general idea to the user about the available models for a given backbone."
   ]
  },
  {
   "cell_type": "code",
   "execution_count": 8,
   "metadata": {},
   "outputs": [
    {
     "name": "stdout",
     "output_type": "stream",
     "text": [
      "('xlm-roberta-base', 'xlm-roberta-large')\n"
     ]
    }
   ],
   "source": [
    "print(TextClassifier.available_backbone_models(\"xlm-roberta\"))"
   ]
  },
  {
   "cell_type": "markdown",
   "metadata": {},
   "source": [
    "## Load model architecture"
   ]
  },
  {
   "cell_type": "markdown",
   "metadata": {},
   "source": [
    "Invoke the `TextClassifier` class by passing the data and the backbone you have choosen. The dataset consists of addresses in multiple languages like Japanese, English, French, Spanish etc., hence we will use a [multi-lingual transformer backbone](https://huggingface.co/transformers/v3.0.2/multilingual.html) to train our model."
   ]
  },
  {
   "cell_type": "code",
   "execution_count": null,
   "metadata": {},
   "outputs": [],
   "source": [
    "model = TextClassifier(data, backbone=\"xlm-roberta-base\")"
   ]
  },
  {
   "cell_type": "markdown",
   "metadata": {},
   "source": [
    "## Find optimum learning rate"
   ]
  },
  {
   "cell_type": "markdown",
   "metadata": {},
   "source": [
    "In machine learning, the `learning rate`[1] is a **tuning parameter** that determines the step size at each iteration while moving toward a minimum of a loss function, it metaphorically represents the speed at which a machine learning model **\"learns\"**\n",
    "\n",
    "- If the learning rate is low, then model training will take a lot of time because steps towards the minimum of the loss function are tiny.\n",
    "\n",
    "- If the learning rate is high, then training may not converge or even diverge. Weight changes can be so big that the optimizer overshoots the minimum and makes the loss worse.\n",
    "\n",
    "We have to find an optimum learning rate for the dataset we wish to train our model on. To do so we will call the `lr_find` method of the model."
   ]
  },
  {
   "cell_type": "code",
   "execution_count": 10,
   "metadata": {},
   "outputs": [
    {
     "data": {
      "image/png": "[encoded data removed]",
      "text/plain": [
       "<Figure size 432x288 with 1 Axes>"
      ]
     },
     "metadata": {
      "needs_background": "light"
     },
     "output_type": "display_data"
    },
    {
     "data": {
      "text/plain": [
       "7.585775750291836e-05"
      ]
     },
     "execution_count": 10,
     "metadata": {},
     "output_type": "execute_result"
    }
   ],
   "source": [
    "model.lr_find()"
   ]
  },
  {
   "cell_type": "markdown",
   "metadata": {},
   "source": [
    "Training the model is an iterative process. We can train the model using its `fit()` method till the validation loss (or error rate) continues to go down with each training pass also known as epoch. This is indicative of the model learning the task."
   ]
  },
  {
   "cell_type": "code",
   "execution_count": 11,
   "metadata": {},
   "outputs": [
    {
     "data": {
      "text/html": [
       "<table border=\"1\" class=\"dataframe\">\n",
       "  <thead>\n",
       "    <tr style=\"text-align: left;\">\n",
       "      <th>epoch</th>\n",
       "      <th>train_loss</th>\n",
       "      <th>valid_loss</th>\n",
       "      <th>accuracy</th>\n",
       "      <th>error_rate</th>\n",
       "      <th>time</th>\n",
       "    </tr>\n",
       "  </thead>\n",
       "  <tbody>\n",
       "    <tr>\n",
       "      <td>0</td>\n",
       "      <td>1.751456</td>\n",
       "      <td>1.531471</td>\n",
       "      <td>0.595900</td>\n",
       "      <td>0.404100</td>\n",
       "      <td>01:22</td>\n",
       "    </tr>\n",
       "    <tr>\n",
       "      <td>1</td>\n",
       "      <td>1.468745</td>\n",
       "      <td>1.144670</td>\n",
       "      <td>0.743900</td>\n",
       "      <td>0.256100</td>\n",
       "      <td>01:20</td>\n",
       "    </tr>\n",
       "  </tbody>\n",
       "</table>"
      ],
      "text/plain": [
       "<IPython.core.display.HTML object>"
      ]
     },
     "metadata": {},
     "output_type": "display_data"
    }
   ],
   "source": [
    "model.fit(epochs=2, lr=0.0001)"
   ]
  },
  {
   "cell_type": "markdown",
   "metadata": {},
   "source": [
    "The training workflow of text models differs slightly with the computer vision models in `arcgis.learn` in the sense that one has to call the `unfreeze` method of the model and train again to fine tune the entire model for the dataset we wish to train the model on."
   ]
  },
  {
   "cell_type": "code",
   "execution_count": 14,
   "metadata": {},
   "outputs": [
    {
     "data": {
      "text/html": [
       "<table border=\"1\" class=\"dataframe\">\n",
       "  <thead>\n",
       "    <tr style=\"text-align: left;\">\n",
       "      <th>epoch</th>\n",
       "      <th>train_loss</th>\n",
       "      <th>valid_loss</th>\n",
       "      <th>accuracy</th>\n",
       "      <th>error_rate</th>\n",
       "      <th>time</th>\n",
       "    </tr>\n",
       "  </thead>\n",
       "  <tbody>\n",
       "    <tr>\n",
       "      <td>0</td>\n",
       "      <td>0.063729</td>\n",
       "      <td>0.048894</td>\n",
       "      <td>0.979700</td>\n",
       "      <td>0.020300</td>\n",
       "      <td>05:38</td>\n",
       "    </tr>\n",
       "    <tr>\n",
       "      <td>1</td>\n",
       "      <td>0.042092</td>\n",
       "      <td>0.030656</td>\n",
       "      <td>0.985900</td>\n",
       "      <td>0.014100</td>\n",
       "      <td>05:32</td>\n",
       "    </tr>\n",
       "    <tr>\n",
       "      <td>2</td>\n",
       "      <td>0.024403</td>\n",
       "      <td>0.026980</td>\n",
       "      <td>0.988000</td>\n",
       "      <td>0.012000</td>\n",
       "      <td>05:38</td>\n",
       "    </tr>\n",
       "    <tr>\n",
       "      <td>3</td>\n",
       "      <td>0.020662</td>\n",
       "      <td>0.022759</td>\n",
       "      <td>0.990400</td>\n",
       "      <td>0.009600</td>\n",
       "      <td>05:42</td>\n",
       "    </tr>\n",
       "  </tbody>\n",
       "</table>"
      ],
      "text/plain": [
       "<IPython.core.display.HTML object>"
      ]
     },
     "metadata": {},
     "output_type": "display_data"
    }
   ],
   "source": [
    "model.unfreeze()\n",
    "\n",
    "model.fit(epochs=4)"
   ]
  },
  {
   "cell_type": "markdown",
   "metadata": {},
   "source": [
    "## Validate results"
   ]
  },
  {
   "cell_type": "markdown",
   "metadata": {},
   "source": [
    "Once we have the trained model, we can see the results to see how it performs."
   ]
  },
  {
   "cell_type": "code",
   "execution_count": 25,
   "metadata": {},
   "outputs": [
    {
     "data": {
      "text/html": [
       "<style  type=\"text/css\" >\n",
       "    #T_86b26d68_f9a7_11ea_8a0c_a4bb6dafa070 th {\n",
       "          text-align: left;\n",
       "    }#T_86b26d68_f9a7_11ea_8a0c_a4bb6dafa070row0_col0,#T_86b26d68_f9a7_11ea_8a0c_a4bb6dafa070row0_col1,#T_86b26d68_f9a7_11ea_8a0c_a4bb6dafa070row0_col2,#T_86b26d68_f9a7_11ea_8a0c_a4bb6dafa070row1_col0,#T_86b26d68_f9a7_11ea_8a0c_a4bb6dafa070row1_col1,#T_86b26d68_f9a7_11ea_8a0c_a4bb6dafa070row1_col2,#T_86b26d68_f9a7_11ea_8a0c_a4bb6dafa070row2_col0,#T_86b26d68_f9a7_11ea_8a0c_a4bb6dafa070row2_col1,#T_86b26d68_f9a7_11ea_8a0c_a4bb6dafa070row2_col2,#T_86b26d68_f9a7_11ea_8a0c_a4bb6dafa070row3_col0,#T_86b26d68_f9a7_11ea_8a0c_a4bb6dafa070row3_col1,#T_86b26d68_f9a7_11ea_8a0c_a4bb6dafa070row3_col2,#T_86b26d68_f9a7_11ea_8a0c_a4bb6dafa070row4_col0,#T_86b26d68_f9a7_11ea_8a0c_a4bb6dafa070row4_col1,#T_86b26d68_f9a7_11ea_8a0c_a4bb6dafa070row4_col2,#T_86b26d68_f9a7_11ea_8a0c_a4bb6dafa070row5_col0,#T_86b26d68_f9a7_11ea_8a0c_a4bb6dafa070row5_col1,#T_86b26d68_f9a7_11ea_8a0c_a4bb6dafa070row5_col2,#T_86b26d68_f9a7_11ea_8a0c_a4bb6dafa070row6_col0,#T_86b26d68_f9a7_11ea_8a0c_a4bb6dafa070row6_col1,#T_86b26d68_f9a7_11ea_8a0c_a4bb6dafa070row6_col2,#T_86b26d68_f9a7_11ea_8a0c_a4bb6dafa070row7_col0,#T_86b26d68_f9a7_11ea_8a0c_a4bb6dafa070row7_col1,#T_86b26d68_f9a7_11ea_8a0c_a4bb6dafa070row7_col2,#T_86b26d68_f9a7_11ea_8a0c_a4bb6dafa070row8_col0,#T_86b26d68_f9a7_11ea_8a0c_a4bb6dafa070row8_col1,#T_86b26d68_f9a7_11ea_8a0c_a4bb6dafa070row8_col2,#T_86b26d68_f9a7_11ea_8a0c_a4bb6dafa070row9_col0,#T_86b26d68_f9a7_11ea_8a0c_a4bb6dafa070row9_col1,#T_86b26d68_f9a7_11ea_8a0c_a4bb6dafa070row9_col2,#T_86b26d68_f9a7_11ea_8a0c_a4bb6dafa070row10_col0,#T_86b26d68_f9a7_11ea_8a0c_a4bb6dafa070row10_col1,#T_86b26d68_f9a7_11ea_8a0c_a4bb6dafa070row10_col2,#T_86b26d68_f9a7_11ea_8a0c_a4bb6dafa070row11_col0,#T_86b26d68_f9a7_11ea_8a0c_a4bb6dafa070row11_col1,#T_86b26d68_f9a7_11ea_8a0c_a4bb6dafa070row11_col2,#T_86b26d68_f9a7_11ea_8a0c_a4bb6dafa070row12_col0,#T_86b26d68_f9a7_11ea_8a0c_a4bb6dafa070row12_col1,#T_86b26d68_f9a7_11ea_8a0c_a4bb6dafa070row12_col2,#T_86b26d68_f9a7_11ea_8a0c_a4bb6dafa070row13_col0,#T_86b26d68_f9a7_11ea_8a0c_a4bb6dafa070row13_col1,#T_86b26d68_f9a7_11ea_8a0c_a4bb6dafa070row13_col2,#T_86b26d68_f9a7_11ea_8a0c_a4bb6dafa070row14_col0,#T_86b26d68_f9a7_11ea_8a0c_a4bb6dafa070row14_col1,#T_86b26d68_f9a7_11ea_8a0c_a4bb6dafa070row14_col2{\n",
       "            text-align:  left;\n",
       "        }</style><table id=\"T_86b26d68_f9a7_11ea_8a0c_a4bb6dafa070\" ><thead>    <tr>        <th class=\"col_heading level0 col0\" >text</th>        <th class=\"col_heading level0 col1\" >target</th>        <th class=\"col_heading level0 col2\" >prediction</th>    </tr></thead><tbody>\n",
       "                <tr>\n",
       "                                <td id=\"T_86b26d68_f9a7_11ea_8a0c_a4bb6dafa070row0_col0\" class=\"data row0 col0\" >SN, AVENIDA JOSE MARIA MORELOS Y PAVON OTE., APATZINGÁN DE LA CONSTITUCIÓN, Apatzingán, Michoacán de Ocampo</td>\n",
       "                        <td id=\"T_86b26d68_f9a7_11ea_8a0c_a4bb6dafa070row0_col1\" class=\"data row0 col1\" >MX</td>\n",
       "                        <td id=\"T_86b26d68_f9a7_11ea_8a0c_a4bb6dafa070row0_col2\" class=\"data row0 col2\" >MX</td>\n",
       "            </tr>\n",
       "            <tr>\n",
       "                                <td id=\"T_86b26d68_f9a7_11ea_8a0c_a4bb6dafa070row1_col0\" class=\"data row1 col0\" >906, AVENIDA JOSEFA ORTÍZ DE DOMÍNGUEZ, CIUDAD MENDOZA, Camerino Z. Mendoza, Veracruz de Ignacio de la Llave</td>\n",
       "                        <td id=\"T_86b26d68_f9a7_11ea_8a0c_a4bb6dafa070row1_col1\" class=\"data row1 col1\" >MX</td>\n",
       "                        <td id=\"T_86b26d68_f9a7_11ea_8a0c_a4bb6dafa070row1_col2\" class=\"data row1 col2\" >MX</td>\n",
       "            </tr>\n",
       "            <tr>\n",
       "                                <td id=\"T_86b26d68_f9a7_11ea_8a0c_a4bb6dafa070row2_col0\" class=\"data row2 col0\" >32, CIRCUITO JOSÉ MARÍA URIARTE, FRACCIONAMIENTO RANCHO ALEGRE, Tlajomulco de Zúñiga, Jalisco</td>\n",
       "                        <td id=\"T_86b26d68_f9a7_11ea_8a0c_a4bb6dafa070row2_col1\" class=\"data row2 col1\" >MX</td>\n",
       "                        <td id=\"T_86b26d68_f9a7_11ea_8a0c_a4bb6dafa070row2_col2\" class=\"data row2 col2\" >MX</td>\n",
       "            </tr>\n",
       "            <tr>\n",
       "                                <td id=\"T_86b26d68_f9a7_11ea_8a0c_a4bb6dafa070row3_col0\" class=\"data row3 col0\" >SN, ESTRADA SP 250 SENTIDO GRAMADAO, LADO DIREITO FAZENDA SAO RAFAEL CASA 4, São Miguel Arcanjo, SP, 18230-000</td>\n",
       "                        <td id=\"T_86b26d68_f9a7_11ea_8a0c_a4bb6dafa070row3_col1\" class=\"data row3 col1\" >BR</td>\n",
       "                        <td id=\"T_86b26d68_f9a7_11ea_8a0c_a4bb6dafa070row3_col2\" class=\"data row3 col2\" >BR</td>\n",
       "            </tr>\n",
       "            <tr>\n",
       "                                <td id=\"T_86b26d68_f9a7_11ea_8a0c_a4bb6dafa070row4_col0\" class=\"data row4 col0\" >SN, CALLE JOSEFA ORTÍZ DE DOMÍNGUEZ, RINCÓN DE BUENA VISTA, Omealca, Veracruz de Ignacio de la Llave</td>\n",
       "                        <td id=\"T_86b26d68_f9a7_11ea_8a0c_a4bb6dafa070row4_col1\" class=\"data row4 col1\" >MX</td>\n",
       "                        <td id=\"T_86b26d68_f9a7_11ea_8a0c_a4bb6dafa070row4_col2\" class=\"data row4 col2\" >MX</td>\n",
       "            </tr>\n",
       "            <tr>\n",
       "                                <td id=\"T_86b26d68_f9a7_11ea_8a0c_a4bb6dafa070row5_col0\" class=\"data row5 col0\" >SN, CALLE MICHOACAN, DOLORES HIDALGO CUNA DE LA INDEPENDENCIA NACIONAL, Dolores Hidalgo Cuna de la Independencia Nacional, Guanajuato</td>\n",
       "                        <td id=\"T_86b26d68_f9a7_11ea_8a0c_a4bb6dafa070row5_col1\" class=\"data row5 col1\" >MX</td>\n",
       "                        <td id=\"T_86b26d68_f9a7_11ea_8a0c_a4bb6dafa070row5_col2\" class=\"data row5 col2\" >MX</td>\n",
       "            </tr>\n",
       "            <tr>\n",
       "                                <td id=\"T_86b26d68_f9a7_11ea_8a0c_a4bb6dafa070row6_col0\" class=\"data row6 col0\" >SN, CALLE VERDUZCO, COALCOMÁN DE VÁZQUEZ PALLARES, Coalcomán de Vázquez Pallares, Michoacán de Ocampo</td>\n",
       "                        <td id=\"T_86b26d68_f9a7_11ea_8a0c_a4bb6dafa070row6_col1\" class=\"data row6 col1\" >MX</td>\n",
       "                        <td id=\"T_86b26d68_f9a7_11ea_8a0c_a4bb6dafa070row6_col2\" class=\"data row6 col2\" >MX</td>\n",
       "            </tr>\n",
       "            <tr>\n",
       "                                <td id=\"T_86b26d68_f9a7_11ea_8a0c_a4bb6dafa070row7_col0\" class=\"data row7 col0\" >1712, CALLE MÁRTIRES DEL 7 DE ENERO, CIUDAD MENDOZA, Camerino Z. Mendoza, Veracruz de Ignacio de la Llave</td>\n",
       "                        <td id=\"T_86b26d68_f9a7_11ea_8a0c_a4bb6dafa070row7_col1\" class=\"data row7 col1\" >MX</td>\n",
       "                        <td id=\"T_86b26d68_f9a7_11ea_8a0c_a4bb6dafa070row7_col2\" class=\"data row7 col2\" >MX</td>\n",
       "            </tr>\n",
       "            <tr>\n",
       "                                <td id=\"T_86b26d68_f9a7_11ea_8a0c_a4bb6dafa070row8_col0\" class=\"data row8 col0\" >SN, AVENIDA JACOBO GÁLVEZ, FRACCIONAMIENTO RANCHO ALEGRE, Tlajomulco de Zúñiga, Jalisco</td>\n",
       "                        <td id=\"T_86b26d68_f9a7_11ea_8a0c_a4bb6dafa070row8_col1\" class=\"data row8 col1\" >MX</td>\n",
       "                        <td id=\"T_86b26d68_f9a7_11ea_8a0c_a4bb6dafa070row8_col2\" class=\"data row8 col2\" >MX</td>\n",
       "            </tr>\n",
       "            <tr>\n",
       "                                <td id=\"T_86b26d68_f9a7_11ea_8a0c_a4bb6dafa070row9_col0\" class=\"data row9 col0\" >SN, ANDADOR MZNA 6 AMP. LOS ROBLES, EL PUEBLITO (CRUCERO NACIONAL), Córdoba, Veracruz de Ignacio de la Llave</td>\n",
       "                        <td id=\"T_86b26d68_f9a7_11ea_8a0c_a4bb6dafa070row9_col1\" class=\"data row9 col1\" >MX</td>\n",
       "                        <td id=\"T_86b26d68_f9a7_11ea_8a0c_a4bb6dafa070row9_col2\" class=\"data row9 col2\" >MX</td>\n",
       "            </tr>\n",
       "            <tr>\n",
       "                                <td id=\"T_86b26d68_f9a7_11ea_8a0c_a4bb6dafa070row10_col0\" class=\"data row10 col0\" >SN, CALLE SÉPTIMA PONIENTE SUR (EJE VIAL), COMITÁN DE DOMÍNGUEZ, Comitán de Domínguez, Chiapas</td>\n",
       "                        <td id=\"T_86b26d68_f9a7_11ea_8a0c_a4bb6dafa070row10_col1\" class=\"data row10 col1\" >MX</td>\n",
       "                        <td id=\"T_86b26d68_f9a7_11ea_8a0c_a4bb6dafa070row10_col2\" class=\"data row10 col2\" >MX</td>\n",
       "            </tr>\n",
       "            <tr>\n",
       "                                <td id=\"T_86b26d68_f9a7_11ea_8a0c_a4bb6dafa070row11_col0\" class=\"data row11 col0\" >18, CALLE FELIPE GORRITI / FELIPE GORRITI KALEA, Pamplona / Iruña, Pamplona / Iruña, Navarra, 31004</td>\n",
       "                        <td id=\"T_86b26d68_f9a7_11ea_8a0c_a4bb6dafa070row11_col1\" class=\"data row11 col1\" >ES</td>\n",
       "                        <td id=\"T_86b26d68_f9a7_11ea_8a0c_a4bb6dafa070row11_col2\" class=\"data row11 col2\" >ES</td>\n",
       "            </tr>\n",
       "            <tr>\n",
       "                                <td id=\"T_86b26d68_f9a7_11ea_8a0c_a4bb6dafa070row12_col0\" class=\"data row12 col0\" >SN, RUA X VINTE E SEIS, QUADRA 14 LOTE 35 SALA 3, Aparecida de Goiânia, GO, 74922-680</td>\n",
       "                        <td id=\"T_86b26d68_f9a7_11ea_8a0c_a4bb6dafa070row12_col1\" class=\"data row12 col1\" >BR</td>\n",
       "                        <td id=\"T_86b26d68_f9a7_11ea_8a0c_a4bb6dafa070row12_col2\" class=\"data row12 col2\" >BR</td>\n",
       "            </tr>\n",
       "            <tr>\n",
       "                                <td id=\"T_86b26d68_f9a7_11ea_8a0c_a4bb6dafa070row13_col0\" class=\"data row13 col0\" >SN, CALLE NINGUNO, HEROICA CIUDAD DE JUCHITÁN DE ZARAGOZA, Heroica Ciudad de Juchitán de Zaragoza, Oaxaca</td>\n",
       "                        <td id=\"T_86b26d68_f9a7_11ea_8a0c_a4bb6dafa070row13_col1\" class=\"data row13 col1\" >MX</td>\n",
       "                        <td id=\"T_86b26d68_f9a7_11ea_8a0c_a4bb6dafa070row13_col2\" class=\"data row13 col2\" >MX</td>\n",
       "            </tr>\n",
       "            <tr>\n",
       "                                <td id=\"T_86b26d68_f9a7_11ea_8a0c_a4bb6dafa070row14_col0\" class=\"data row14 col0\" >1169, RUA DOUTOR ALBUQUERQUE LINS, BLOCO B ANDAR 11 APARTAMENTO 112B, São Paulo, SP, 01203-001</td>\n",
       "                        <td id=\"T_86b26d68_f9a7_11ea_8a0c_a4bb6dafa070row14_col1\" class=\"data row14 col1\" >BR</td>\n",
       "                        <td id=\"T_86b26d68_f9a7_11ea_8a0c_a4bb6dafa070row14_col2\" class=\"data row14 col2\" >BR</td>\n",
       "            </tr>\n",
       "    </tbody></table>"
      ],
      "text/plain": [
       "<pandas.io.formats.style.Styler at 0x19daf8c7208>"
      ]
     },
     "metadata": {},
     "output_type": "display_data"
    }
   ],
   "source": [
    "model.show_results(15)"
   ]
  },
  {
   "cell_type": "markdown",
   "metadata": {},
   "source": [
    "### Test the model prediction on an input text"
   ]
  },
  {
   "cell_type": "code",
   "execution_count": 16,
   "metadata": {},
   "outputs": [
    {
     "name": "stdout",
     "output_type": "stream",
     "text": [
      "('1016, 8A, CL RICARDO LEON - SANTA ANA (CARTAGENA), 30319', 'ES', 0.9999845027923584)\n"
     ]
    }
   ],
   "source": [
    "text = \"\"\"1016, 8A, CL RICARDO LEON - SANTA ANA (CARTAGENA), 30319\"\"\"\n",
    "print(model.predict(text))"
   ]
  },
  {
   "cell_type": "markdown",
   "metadata": {},
   "source": [
    "## Model metrics\n",
    "\n",
    "To get a sense of how well the model is trained, we will calculate some import metrics for out `text-classifier` model. First we will see whats the model accuracy[2] and error rate on the entire data-set. We will call the model's `get_accuracy_and_error_metrics` method."
   ]
  },
  {
   "cell_type": "code",
   "execution_count": 17,
   "metadata": {},
   "outputs": [
    {
     "data": {
      "text/plain": [
       "{'accuracy': 0.9904, 'error_rate': 0.0096}"
      ]
     },
     "execution_count": 17,
     "metadata": {},
     "output_type": "execute_result"
    }
   ],
   "source": [
    "model.get_accuracy_and_error_metrics()"
   ]
  },
  {
   "cell_type": "markdown",
   "metadata": {},
   "source": [
    "Other important metrics to look at are Precision, Recall & F-measures [3].\n",
    "\n",
    "Here is a brief description of them:\n",
    "- **Precision** -  Precision talks about how precise/accurate your model is. Out of those predicted positive, how many of them are actual positive.  \n",
    "- **Recall** - Recall is the ability of the classifier to find all the positive samples.\n",
    "- **F1** - F1 can be interpreted as a weighted harmonic mean of the precision and recall\n",
    "\n",
    "To learn more about these metrics one can visit the following link - [Precision, Recall & F1 score](https://en.wikipedia.org/wiki/Precision_and_recall)\n",
    "\n",
    "To find `precision`, `recall` & `f1` scores per label/class we will call the model's `get_precision_recall_score` method."
   ]
  },
  {
   "cell_type": "code",
   "execution_count": 18,
   "metadata": {},
   "outputs": [
    {
     "data": {
      "text/html": [
       "\n",
       "    <div>\n",
       "        <style>\n",
       "            /* Turns off some styling */\n",
       "            progress {\n",
       "                /* gets rid of default border in Firefox and Opera. */\n",
       "                border: none;\n",
       "                /* Needs to be in here for Safari polyfill so background images work as expected. */\n",
       "                background-size: auto;\n",
       "            }\n",
       "            .progress-bar-interrupted, .progress-bar-interrupted::-webkit-progress-bar {\n",
       "                background: #F44336;\n",
       "            }\n",
       "        </style>\n",
       "      <progress value='10000' class='' max='10000' style='width:300px; height:20px; vertical-align: middle;'></progress>\n",
       "      100.00% [10000/10000 05:00<00:00]\n",
       "    </div>\n",
       "    "
      ],
      "text/plain": [
       "<IPython.core.display.HTML object>"
      ]
     },
     "metadata": {},
     "output_type": "display_data"
    },
    {
     "name": "stdout",
     "output_type": "stream",
     "text": [
      "              precision    recall  f1-score   support\n",
      "\n",
      "          AU       1.00      1.00      1.00       929\n",
      "          BE       1.00      1.00      1.00      1043\n",
      "          BR       1.00      1.00      1.00       950\n",
      "          CA       0.94      0.97      0.95       996\n",
      "          ES       1.00      1.00      1.00       982\n",
      "          FR       1.00      1.00      1.00      1009\n",
      "          JP       1.00      1.00      1.00       989\n",
      "          MX       1.00      1.00      1.00      1024\n",
      "          US       0.97      0.94      0.95      1070\n",
      "          ZA       1.00      1.00      1.00      1008\n",
      "\n",
      "    accuracy                           0.99     10000\n",
      "   macro avg       0.99      0.99      0.99     10000\n",
      "weighted avg       0.99      0.99      0.99     10000\n",
      "\n"
     ]
    }
   ],
   "source": [
    "model.get_precision_recall_score()"
   ]
  },
  {
   "cell_type": "markdown",
   "metadata": {},
   "source": [
    "## Get misclassified records\n",
    "\n",
    "Its always a good idea to see the cases where your model is not performing well. This step will help us to:\n",
    "- Identify if there is a problem in the dataset.\n",
    "- Identify if there is a problem with text/documents belonging to a specific label/class.  \n",
    "- Identify if there is a class imbalance in your dataset, due to which the model didn't see much of the labelled data for a particular class, hance not able to learn properly about that class.\n",
    "\n",
    "To get the **misclassified records** we will call the model's `get_misclassified_records` method."
   ]
  },
  {
   "cell_type": "code",
   "execution_count": 19,
   "metadata": {},
   "outputs": [
    {
     "data": {
      "text/html": [
       "\n",
       "    <div>\n",
       "        <style>\n",
       "            /* Turns off some styling */\n",
       "            progress {\n",
       "                /* gets rid of default border in Firefox and Opera. */\n",
       "                border: none;\n",
       "                /* Needs to be in here for Safari polyfill so background images work as expected. */\n",
       "                background-size: auto;\n",
       "            }\n",
       "            .progress-bar-interrupted, .progress-bar-interrupted::-webkit-progress-bar {\n",
       "                background: #F44336;\n",
       "            }\n",
       "        </style>\n",
       "      <progress value='10000' class='' max='10000' style='width:300px; height:20px; vertical-align: middle;'></progress>\n",
       "      100.00% [10000/10000 05:01<00:00]\n",
       "    </div>\n",
       "    "
      ],
      "text/plain": [
       "<IPython.core.display.HTML object>"
      ]
     },
     "metadata": {},
     "output_type": "display_data"
    }
   ],
   "source": [
    "misclassified_records = model.get_misclassified_records()"
   ]
  },
  {
   "cell_type": "code",
   "execution_count": 20,
   "metadata": {},
   "outputs": [
    {
     "data": {
      "text/html": [
       "<style  type=\"text/css\" >\n",
       "    #T_ff469fb4_f9a5_11ea_b7bc_a4bb6dafa070 th {\n",
       "          text-align: left;\n",
       "    }#T_ff469fb4_f9a5_11ea_b7bc_a4bb6dafa070row0_col0,#T_ff469fb4_f9a5_11ea_b7bc_a4bb6dafa070row0_col1,#T_ff469fb4_f9a5_11ea_b7bc_a4bb6dafa070row0_col2,#T_ff469fb4_f9a5_11ea_b7bc_a4bb6dafa070row1_col0,#T_ff469fb4_f9a5_11ea_b7bc_a4bb6dafa070row1_col1,#T_ff469fb4_f9a5_11ea_b7bc_a4bb6dafa070row1_col2,#T_ff469fb4_f9a5_11ea_b7bc_a4bb6dafa070row2_col0,#T_ff469fb4_f9a5_11ea_b7bc_a4bb6dafa070row2_col1,#T_ff469fb4_f9a5_11ea_b7bc_a4bb6dafa070row2_col2,#T_ff469fb4_f9a5_11ea_b7bc_a4bb6dafa070row3_col0,#T_ff469fb4_f9a5_11ea_b7bc_a4bb6dafa070row3_col1,#T_ff469fb4_f9a5_11ea_b7bc_a4bb6dafa070row3_col2,#T_ff469fb4_f9a5_11ea_b7bc_a4bb6dafa070row4_col0,#T_ff469fb4_f9a5_11ea_b7bc_a4bb6dafa070row4_col1,#T_ff469fb4_f9a5_11ea_b7bc_a4bb6dafa070row4_col2,#T_ff469fb4_f9a5_11ea_b7bc_a4bb6dafa070row5_col0,#T_ff469fb4_f9a5_11ea_b7bc_a4bb6dafa070row5_col1,#T_ff469fb4_f9a5_11ea_b7bc_a4bb6dafa070row5_col2,#T_ff469fb4_f9a5_11ea_b7bc_a4bb6dafa070row6_col0,#T_ff469fb4_f9a5_11ea_b7bc_a4bb6dafa070row6_col1,#T_ff469fb4_f9a5_11ea_b7bc_a4bb6dafa070row6_col2,#T_ff469fb4_f9a5_11ea_b7bc_a4bb6dafa070row7_col0,#T_ff469fb4_f9a5_11ea_b7bc_a4bb6dafa070row7_col1,#T_ff469fb4_f9a5_11ea_b7bc_a4bb6dafa070row7_col2,#T_ff469fb4_f9a5_11ea_b7bc_a4bb6dafa070row8_col0,#T_ff469fb4_f9a5_11ea_b7bc_a4bb6dafa070row8_col1,#T_ff469fb4_f9a5_11ea_b7bc_a4bb6dafa070row8_col2,#T_ff469fb4_f9a5_11ea_b7bc_a4bb6dafa070row9_col0,#T_ff469fb4_f9a5_11ea_b7bc_a4bb6dafa070row9_col1,#T_ff469fb4_f9a5_11ea_b7bc_a4bb6dafa070row9_col2,#T_ff469fb4_f9a5_11ea_b7bc_a4bb6dafa070row10_col0,#T_ff469fb4_f9a5_11ea_b7bc_a4bb6dafa070row10_col1,#T_ff469fb4_f9a5_11ea_b7bc_a4bb6dafa070row10_col2,#T_ff469fb4_f9a5_11ea_b7bc_a4bb6dafa070row11_col0,#T_ff469fb4_f9a5_11ea_b7bc_a4bb6dafa070row11_col1,#T_ff469fb4_f9a5_11ea_b7bc_a4bb6dafa070row11_col2,#T_ff469fb4_f9a5_11ea_b7bc_a4bb6dafa070row12_col0,#T_ff469fb4_f9a5_11ea_b7bc_a4bb6dafa070row12_col1,#T_ff469fb4_f9a5_11ea_b7bc_a4bb6dafa070row12_col2,#T_ff469fb4_f9a5_11ea_b7bc_a4bb6dafa070row13_col0,#T_ff469fb4_f9a5_11ea_b7bc_a4bb6dafa070row13_col1,#T_ff469fb4_f9a5_11ea_b7bc_a4bb6dafa070row13_col2,#T_ff469fb4_f9a5_11ea_b7bc_a4bb6dafa070row14_col0,#T_ff469fb4_f9a5_11ea_b7bc_a4bb6dafa070row14_col1,#T_ff469fb4_f9a5_11ea_b7bc_a4bb6dafa070row14_col2,#T_ff469fb4_f9a5_11ea_b7bc_a4bb6dafa070row15_col0,#T_ff469fb4_f9a5_11ea_b7bc_a4bb6dafa070row15_col1,#T_ff469fb4_f9a5_11ea_b7bc_a4bb6dafa070row15_col2,#T_ff469fb4_f9a5_11ea_b7bc_a4bb6dafa070row16_col0,#T_ff469fb4_f9a5_11ea_b7bc_a4bb6dafa070row16_col1,#T_ff469fb4_f9a5_11ea_b7bc_a4bb6dafa070row16_col2,#T_ff469fb4_f9a5_11ea_b7bc_a4bb6dafa070row17_col0,#T_ff469fb4_f9a5_11ea_b7bc_a4bb6dafa070row17_col1,#T_ff469fb4_f9a5_11ea_b7bc_a4bb6dafa070row17_col2,#T_ff469fb4_f9a5_11ea_b7bc_a4bb6dafa070row18_col0,#T_ff469fb4_f9a5_11ea_b7bc_a4bb6dafa070row18_col1,#T_ff469fb4_f9a5_11ea_b7bc_a4bb6dafa070row18_col2,#T_ff469fb4_f9a5_11ea_b7bc_a4bb6dafa070row19_col0,#T_ff469fb4_f9a5_11ea_b7bc_a4bb6dafa070row19_col1,#T_ff469fb4_f9a5_11ea_b7bc_a4bb6dafa070row19_col2,#T_ff469fb4_f9a5_11ea_b7bc_a4bb6dafa070row20_col0,#T_ff469fb4_f9a5_11ea_b7bc_a4bb6dafa070row20_col1,#T_ff469fb4_f9a5_11ea_b7bc_a4bb6dafa070row20_col2,#T_ff469fb4_f9a5_11ea_b7bc_a4bb6dafa070row21_col0,#T_ff469fb4_f9a5_11ea_b7bc_a4bb6dafa070row21_col1,#T_ff469fb4_f9a5_11ea_b7bc_a4bb6dafa070row21_col2,#T_ff469fb4_f9a5_11ea_b7bc_a4bb6dafa070row22_col0,#T_ff469fb4_f9a5_11ea_b7bc_a4bb6dafa070row22_col1,#T_ff469fb4_f9a5_11ea_b7bc_a4bb6dafa070row22_col2,#T_ff469fb4_f9a5_11ea_b7bc_a4bb6dafa070row23_col0,#T_ff469fb4_f9a5_11ea_b7bc_a4bb6dafa070row23_col1,#T_ff469fb4_f9a5_11ea_b7bc_a4bb6dafa070row23_col2,#T_ff469fb4_f9a5_11ea_b7bc_a4bb6dafa070row24_col0,#T_ff469fb4_f9a5_11ea_b7bc_a4bb6dafa070row24_col1,#T_ff469fb4_f9a5_11ea_b7bc_a4bb6dafa070row24_col2,#T_ff469fb4_f9a5_11ea_b7bc_a4bb6dafa070row25_col0,#T_ff469fb4_f9a5_11ea_b7bc_a4bb6dafa070row25_col1,#T_ff469fb4_f9a5_11ea_b7bc_a4bb6dafa070row25_col2,#T_ff469fb4_f9a5_11ea_b7bc_a4bb6dafa070row26_col0,#T_ff469fb4_f9a5_11ea_b7bc_a4bb6dafa070row26_col1,#T_ff469fb4_f9a5_11ea_b7bc_a4bb6dafa070row26_col2,#T_ff469fb4_f9a5_11ea_b7bc_a4bb6dafa070row27_col0,#T_ff469fb4_f9a5_11ea_b7bc_a4bb6dafa070row27_col1,#T_ff469fb4_f9a5_11ea_b7bc_a4bb6dafa070row27_col2,#T_ff469fb4_f9a5_11ea_b7bc_a4bb6dafa070row28_col0,#T_ff469fb4_f9a5_11ea_b7bc_a4bb6dafa070row28_col1,#T_ff469fb4_f9a5_11ea_b7bc_a4bb6dafa070row28_col2,#T_ff469fb4_f9a5_11ea_b7bc_a4bb6dafa070row29_col0,#T_ff469fb4_f9a5_11ea_b7bc_a4bb6dafa070row29_col1,#T_ff469fb4_f9a5_11ea_b7bc_a4bb6dafa070row29_col2,#T_ff469fb4_f9a5_11ea_b7bc_a4bb6dafa070row30_col0,#T_ff469fb4_f9a5_11ea_b7bc_a4bb6dafa070row30_col1,#T_ff469fb4_f9a5_11ea_b7bc_a4bb6dafa070row30_col2,#T_ff469fb4_f9a5_11ea_b7bc_a4bb6dafa070row31_col0,#T_ff469fb4_f9a5_11ea_b7bc_a4bb6dafa070row31_col1,#T_ff469fb4_f9a5_11ea_b7bc_a4bb6dafa070row31_col2,#T_ff469fb4_f9a5_11ea_b7bc_a4bb6dafa070row32_col0,#T_ff469fb4_f9a5_11ea_b7bc_a4bb6dafa070row32_col1,#T_ff469fb4_f9a5_11ea_b7bc_a4bb6dafa070row32_col2,#T_ff469fb4_f9a5_11ea_b7bc_a4bb6dafa070row33_col0,#T_ff469fb4_f9a5_11ea_b7bc_a4bb6dafa070row33_col1,#T_ff469fb4_f9a5_11ea_b7bc_a4bb6dafa070row33_col2,#T_ff469fb4_f9a5_11ea_b7bc_a4bb6dafa070row34_col0,#T_ff469fb4_f9a5_11ea_b7bc_a4bb6dafa070row34_col1,#T_ff469fb4_f9a5_11ea_b7bc_a4bb6dafa070row34_col2,#T_ff469fb4_f9a5_11ea_b7bc_a4bb6dafa070row35_col0,#T_ff469fb4_f9a5_11ea_b7bc_a4bb6dafa070row35_col1,#T_ff469fb4_f9a5_11ea_b7bc_a4bb6dafa070row35_col2,#T_ff469fb4_f9a5_11ea_b7bc_a4bb6dafa070row36_col0,#T_ff469fb4_f9a5_11ea_b7bc_a4bb6dafa070row36_col1,#T_ff469fb4_f9a5_11ea_b7bc_a4bb6dafa070row36_col2,#T_ff469fb4_f9a5_11ea_b7bc_a4bb6dafa070row37_col0,#T_ff469fb4_f9a5_11ea_b7bc_a4bb6dafa070row37_col1,#T_ff469fb4_f9a5_11ea_b7bc_a4bb6dafa070row37_col2,#T_ff469fb4_f9a5_11ea_b7bc_a4bb6dafa070row38_col0,#T_ff469fb4_f9a5_11ea_b7bc_a4bb6dafa070row38_col1,#T_ff469fb4_f9a5_11ea_b7bc_a4bb6dafa070row38_col2,#T_ff469fb4_f9a5_11ea_b7bc_a4bb6dafa070row39_col0,#T_ff469fb4_f9a5_11ea_b7bc_a4bb6dafa070row39_col1,#T_ff469fb4_f9a5_11ea_b7bc_a4bb6dafa070row39_col2,#T_ff469fb4_f9a5_11ea_b7bc_a4bb6dafa070row40_col0,#T_ff469fb4_f9a5_11ea_b7bc_a4bb6dafa070row40_col1,#T_ff469fb4_f9a5_11ea_b7bc_a4bb6dafa070row40_col2,#T_ff469fb4_f9a5_11ea_b7bc_a4bb6dafa070row41_col0,#T_ff469fb4_f9a5_11ea_b7bc_a4bb6dafa070row41_col1,#T_ff469fb4_f9a5_11ea_b7bc_a4bb6dafa070row41_col2,#T_ff469fb4_f9a5_11ea_b7bc_a4bb6dafa070row42_col0,#T_ff469fb4_f9a5_11ea_b7bc_a4bb6dafa070row42_col1,#T_ff469fb4_f9a5_11ea_b7bc_a4bb6dafa070row42_col2,#T_ff469fb4_f9a5_11ea_b7bc_a4bb6dafa070row43_col0,#T_ff469fb4_f9a5_11ea_b7bc_a4bb6dafa070row43_col1,#T_ff469fb4_f9a5_11ea_b7bc_a4bb6dafa070row43_col2,#T_ff469fb4_f9a5_11ea_b7bc_a4bb6dafa070row44_col0,#T_ff469fb4_f9a5_11ea_b7bc_a4bb6dafa070row44_col1,#T_ff469fb4_f9a5_11ea_b7bc_a4bb6dafa070row44_col2,#T_ff469fb4_f9a5_11ea_b7bc_a4bb6dafa070row45_col0,#T_ff469fb4_f9a5_11ea_b7bc_a4bb6dafa070row45_col1,#T_ff469fb4_f9a5_11ea_b7bc_a4bb6dafa070row45_col2,#T_ff469fb4_f9a5_11ea_b7bc_a4bb6dafa070row46_col0,#T_ff469fb4_f9a5_11ea_b7bc_a4bb6dafa070row46_col1,#T_ff469fb4_f9a5_11ea_b7bc_a4bb6dafa070row46_col2,#T_ff469fb4_f9a5_11ea_b7bc_a4bb6dafa070row47_col0,#T_ff469fb4_f9a5_11ea_b7bc_a4bb6dafa070row47_col1,#T_ff469fb4_f9a5_11ea_b7bc_a4bb6dafa070row47_col2,#T_ff469fb4_f9a5_11ea_b7bc_a4bb6dafa070row48_col0,#T_ff469fb4_f9a5_11ea_b7bc_a4bb6dafa070row48_col1,#T_ff469fb4_f9a5_11ea_b7bc_a4bb6dafa070row48_col2,#T_ff469fb4_f9a5_11ea_b7bc_a4bb6dafa070row49_col0,#T_ff469fb4_f9a5_11ea_b7bc_a4bb6dafa070row49_col1,#T_ff469fb4_f9a5_11ea_b7bc_a4bb6dafa070row49_col2,#T_ff469fb4_f9a5_11ea_b7bc_a4bb6dafa070row50_col0,#T_ff469fb4_f9a5_11ea_b7bc_a4bb6dafa070row50_col1,#T_ff469fb4_f9a5_11ea_b7bc_a4bb6dafa070row50_col2,#T_ff469fb4_f9a5_11ea_b7bc_a4bb6dafa070row51_col0,#T_ff469fb4_f9a5_11ea_b7bc_a4bb6dafa070row51_col1,#T_ff469fb4_f9a5_11ea_b7bc_a4bb6dafa070row51_col2,#T_ff469fb4_f9a5_11ea_b7bc_a4bb6dafa070row52_col0,#T_ff469fb4_f9a5_11ea_b7bc_a4bb6dafa070row52_col1,#T_ff469fb4_f9a5_11ea_b7bc_a4bb6dafa070row52_col2,#T_ff469fb4_f9a5_11ea_b7bc_a4bb6dafa070row53_col0,#T_ff469fb4_f9a5_11ea_b7bc_a4bb6dafa070row53_col1,#T_ff469fb4_f9a5_11ea_b7bc_a4bb6dafa070row53_col2,#T_ff469fb4_f9a5_11ea_b7bc_a4bb6dafa070row54_col0,#T_ff469fb4_f9a5_11ea_b7bc_a4bb6dafa070row54_col1,#T_ff469fb4_f9a5_11ea_b7bc_a4bb6dafa070row54_col2,#T_ff469fb4_f9a5_11ea_b7bc_a4bb6dafa070row55_col0,#T_ff469fb4_f9a5_11ea_b7bc_a4bb6dafa070row55_col1,#T_ff469fb4_f9a5_11ea_b7bc_a4bb6dafa070row55_col2,#T_ff469fb4_f9a5_11ea_b7bc_a4bb6dafa070row56_col0,#T_ff469fb4_f9a5_11ea_b7bc_a4bb6dafa070row56_col1,#T_ff469fb4_f9a5_11ea_b7bc_a4bb6dafa070row56_col2,#T_ff469fb4_f9a5_11ea_b7bc_a4bb6dafa070row57_col0,#T_ff469fb4_f9a5_11ea_b7bc_a4bb6dafa070row57_col1,#T_ff469fb4_f9a5_11ea_b7bc_a4bb6dafa070row57_col2,#T_ff469fb4_f9a5_11ea_b7bc_a4bb6dafa070row58_col0,#T_ff469fb4_f9a5_11ea_b7bc_a4bb6dafa070row58_col1,#T_ff469fb4_f9a5_11ea_b7bc_a4bb6dafa070row58_col2,#T_ff469fb4_f9a5_11ea_b7bc_a4bb6dafa070row59_col0,#T_ff469fb4_f9a5_11ea_b7bc_a4bb6dafa070row59_col1,#T_ff469fb4_f9a5_11ea_b7bc_a4bb6dafa070row59_col2,#T_ff469fb4_f9a5_11ea_b7bc_a4bb6dafa070row60_col0,#T_ff469fb4_f9a5_11ea_b7bc_a4bb6dafa070row60_col1,#T_ff469fb4_f9a5_11ea_b7bc_a4bb6dafa070row60_col2,#T_ff469fb4_f9a5_11ea_b7bc_a4bb6dafa070row61_col0,#T_ff469fb4_f9a5_11ea_b7bc_a4bb6dafa070row61_col1,#T_ff469fb4_f9a5_11ea_b7bc_a4bb6dafa070row61_col2,#T_ff469fb4_f9a5_11ea_b7bc_a4bb6dafa070row62_col0,#T_ff469fb4_f9a5_11ea_b7bc_a4bb6dafa070row62_col1,#T_ff469fb4_f9a5_11ea_b7bc_a4bb6dafa070row62_col2,#T_ff469fb4_f9a5_11ea_b7bc_a4bb6dafa070row63_col0,#T_ff469fb4_f9a5_11ea_b7bc_a4bb6dafa070row63_col1,#T_ff469fb4_f9a5_11ea_b7bc_a4bb6dafa070row63_col2,#T_ff469fb4_f9a5_11ea_b7bc_a4bb6dafa070row64_col0,#T_ff469fb4_f9a5_11ea_b7bc_a4bb6dafa070row64_col1,#T_ff469fb4_f9a5_11ea_b7bc_a4bb6dafa070row64_col2,#T_ff469fb4_f9a5_11ea_b7bc_a4bb6dafa070row65_col0,#T_ff469fb4_f9a5_11ea_b7bc_a4bb6dafa070row65_col1,#T_ff469fb4_f9a5_11ea_b7bc_a4bb6dafa070row65_col2,#T_ff469fb4_f9a5_11ea_b7bc_a4bb6dafa070row66_col0,#T_ff469fb4_f9a5_11ea_b7bc_a4bb6dafa070row66_col1,#T_ff469fb4_f9a5_11ea_b7bc_a4bb6dafa070row66_col2,#T_ff469fb4_f9a5_11ea_b7bc_a4bb6dafa070row67_col0,#T_ff469fb4_f9a5_11ea_b7bc_a4bb6dafa070row67_col1,#T_ff469fb4_f9a5_11ea_b7bc_a4bb6dafa070row67_col2,#T_ff469fb4_f9a5_11ea_b7bc_a4bb6dafa070row68_col0,#T_ff469fb4_f9a5_11ea_b7bc_a4bb6dafa070row68_col1,#T_ff469fb4_f9a5_11ea_b7bc_a4bb6dafa070row68_col2,#T_ff469fb4_f9a5_11ea_b7bc_a4bb6dafa070row69_col0,#T_ff469fb4_f9a5_11ea_b7bc_a4bb6dafa070row69_col1,#T_ff469fb4_f9a5_11ea_b7bc_a4bb6dafa070row69_col2,#T_ff469fb4_f9a5_11ea_b7bc_a4bb6dafa070row70_col0,#T_ff469fb4_f9a5_11ea_b7bc_a4bb6dafa070row70_col1,#T_ff469fb4_f9a5_11ea_b7bc_a4bb6dafa070row70_col2,#T_ff469fb4_f9a5_11ea_b7bc_a4bb6dafa070row71_col0,#T_ff469fb4_f9a5_11ea_b7bc_a4bb6dafa070row71_col1,#T_ff469fb4_f9a5_11ea_b7bc_a4bb6dafa070row71_col2,#T_ff469fb4_f9a5_11ea_b7bc_a4bb6dafa070row72_col0,#T_ff469fb4_f9a5_11ea_b7bc_a4bb6dafa070row72_col1,#T_ff469fb4_f9a5_11ea_b7bc_a4bb6dafa070row72_col2,#T_ff469fb4_f9a5_11ea_b7bc_a4bb6dafa070row73_col0,#T_ff469fb4_f9a5_11ea_b7bc_a4bb6dafa070row73_col1,#T_ff469fb4_f9a5_11ea_b7bc_a4bb6dafa070row73_col2,#T_ff469fb4_f9a5_11ea_b7bc_a4bb6dafa070row74_col0,#T_ff469fb4_f9a5_11ea_b7bc_a4bb6dafa070row74_col1,#T_ff469fb4_f9a5_11ea_b7bc_a4bb6dafa070row74_col2,#T_ff469fb4_f9a5_11ea_b7bc_a4bb6dafa070row75_col0,#T_ff469fb4_f9a5_11ea_b7bc_a4bb6dafa070row75_col1,#T_ff469fb4_f9a5_11ea_b7bc_a4bb6dafa070row75_col2,#T_ff469fb4_f9a5_11ea_b7bc_a4bb6dafa070row76_col0,#T_ff469fb4_f9a5_11ea_b7bc_a4bb6dafa070row76_col1,#T_ff469fb4_f9a5_11ea_b7bc_a4bb6dafa070row76_col2,#T_ff469fb4_f9a5_11ea_b7bc_a4bb6dafa070row77_col0,#T_ff469fb4_f9a5_11ea_b7bc_a4bb6dafa070row77_col1,#T_ff469fb4_f9a5_11ea_b7bc_a4bb6dafa070row77_col2,#T_ff469fb4_f9a5_11ea_b7bc_a4bb6dafa070row78_col0,#T_ff469fb4_f9a5_11ea_b7bc_a4bb6dafa070row78_col1,#T_ff469fb4_f9a5_11ea_b7bc_a4bb6dafa070row78_col2,#T_ff469fb4_f9a5_11ea_b7bc_a4bb6dafa070row79_col0,#T_ff469fb4_f9a5_11ea_b7bc_a4bb6dafa070row79_col1,#T_ff469fb4_f9a5_11ea_b7bc_a4bb6dafa070row79_col2,#T_ff469fb4_f9a5_11ea_b7bc_a4bb6dafa070row80_col0,#T_ff469fb4_f9a5_11ea_b7bc_a4bb6dafa070row80_col1,#T_ff469fb4_f9a5_11ea_b7bc_a4bb6dafa070row80_col2,#T_ff469fb4_f9a5_11ea_b7bc_a4bb6dafa070row81_col0,#T_ff469fb4_f9a5_11ea_b7bc_a4bb6dafa070row81_col1,#T_ff469fb4_f9a5_11ea_b7bc_a4bb6dafa070row81_col2,#T_ff469fb4_f9a5_11ea_b7bc_a4bb6dafa070row82_col0,#T_ff469fb4_f9a5_11ea_b7bc_a4bb6dafa070row82_col1,#T_ff469fb4_f9a5_11ea_b7bc_a4bb6dafa070row82_col2,#T_ff469fb4_f9a5_11ea_b7bc_a4bb6dafa070row83_col0,#T_ff469fb4_f9a5_11ea_b7bc_a4bb6dafa070row83_col1,#T_ff469fb4_f9a5_11ea_b7bc_a4bb6dafa070row83_col2,#T_ff469fb4_f9a5_11ea_b7bc_a4bb6dafa070row84_col0,#T_ff469fb4_f9a5_11ea_b7bc_a4bb6dafa070row84_col1,#T_ff469fb4_f9a5_11ea_b7bc_a4bb6dafa070row84_col2,#T_ff469fb4_f9a5_11ea_b7bc_a4bb6dafa070row85_col0,#T_ff469fb4_f9a5_11ea_b7bc_a4bb6dafa070row85_col1,#T_ff469fb4_f9a5_11ea_b7bc_a4bb6dafa070row85_col2,#T_ff469fb4_f9a5_11ea_b7bc_a4bb6dafa070row86_col0,#T_ff469fb4_f9a5_11ea_b7bc_a4bb6dafa070row86_col1,#T_ff469fb4_f9a5_11ea_b7bc_a4bb6dafa070row86_col2,#T_ff469fb4_f9a5_11ea_b7bc_a4bb6dafa070row87_col0,#T_ff469fb4_f9a5_11ea_b7bc_a4bb6dafa070row87_col1,#T_ff469fb4_f9a5_11ea_b7bc_a4bb6dafa070row87_col2,#T_ff469fb4_f9a5_11ea_b7bc_a4bb6dafa070row88_col0,#T_ff469fb4_f9a5_11ea_b7bc_a4bb6dafa070row88_col1,#T_ff469fb4_f9a5_11ea_b7bc_a4bb6dafa070row88_col2,#T_ff469fb4_f9a5_11ea_b7bc_a4bb6dafa070row89_col0,#T_ff469fb4_f9a5_11ea_b7bc_a4bb6dafa070row89_col1,#T_ff469fb4_f9a5_11ea_b7bc_a4bb6dafa070row89_col2,#T_ff469fb4_f9a5_11ea_b7bc_a4bb6dafa070row90_col0,#T_ff469fb4_f9a5_11ea_b7bc_a4bb6dafa070row90_col1,#T_ff469fb4_f9a5_11ea_b7bc_a4bb6dafa070row90_col2,#T_ff469fb4_f9a5_11ea_b7bc_a4bb6dafa070row91_col0,#T_ff469fb4_f9a5_11ea_b7bc_a4bb6dafa070row91_col1,#T_ff469fb4_f9a5_11ea_b7bc_a4bb6dafa070row91_col2,#T_ff469fb4_f9a5_11ea_b7bc_a4bb6dafa070row92_col0,#T_ff469fb4_f9a5_11ea_b7bc_a4bb6dafa070row92_col1,#T_ff469fb4_f9a5_11ea_b7bc_a4bb6dafa070row92_col2,#T_ff469fb4_f9a5_11ea_b7bc_a4bb6dafa070row93_col0,#T_ff469fb4_f9a5_11ea_b7bc_a4bb6dafa070row93_col1,#T_ff469fb4_f9a5_11ea_b7bc_a4bb6dafa070row93_col2,#T_ff469fb4_f9a5_11ea_b7bc_a4bb6dafa070row94_col0,#T_ff469fb4_f9a5_11ea_b7bc_a4bb6dafa070row94_col1,#T_ff469fb4_f9a5_11ea_b7bc_a4bb6dafa070row94_col2,#T_ff469fb4_f9a5_11ea_b7bc_a4bb6dafa070row95_col0,#T_ff469fb4_f9a5_11ea_b7bc_a4bb6dafa070row95_col1,#T_ff469fb4_f9a5_11ea_b7bc_a4bb6dafa070row95_col2,#T_ff469fb4_f9a5_11ea_b7bc_a4bb6dafa070row96_col0,#T_ff469fb4_f9a5_11ea_b7bc_a4bb6dafa070row96_col1,#T_ff469fb4_f9a5_11ea_b7bc_a4bb6dafa070row96_col2{\n",
       "            text-align:  left;\n",
       "        }</style><table id=\"T_ff469fb4_f9a5_11ea_b7bc_a4bb6dafa070\" ><thead>    <tr>        <th class=\"col_heading level0 col0\" >Address</th>        <th class=\"col_heading level0 col1\" >Target</th>        <th class=\"col_heading level0 col2\" >Prediction</th>    </tr></thead><tbody>\n",
       "                <tr>\n",
       "                                <td id=\"T_ff469fb4_f9a5_11ea_b7bc_a4bb6dafa070row0_col0\" class=\"data row0 col0\" >7206, 7TH AVENUE</td>\n",
       "                        <td id=\"T_ff469fb4_f9a5_11ea_b7bc_a4bb6dafa070row0_col1\" class=\"data row0 col1\" >CA</td>\n",
       "                        <td id=\"T_ff469fb4_f9a5_11ea_b7bc_a4bb6dafa070row0_col2\" class=\"data row0 col2\" >US</td>\n",
       "            </tr>\n",
       "            <tr>\n",
       "                                <td id=\"T_ff469fb4_f9a5_11ea_b7bc_a4bb6dafa070row1_col0\" class=\"data row1 col0\" >40443, CHEAKAMUS WAY</td>\n",
       "                        <td id=\"T_ff469fb4_f9a5_11ea_b7bc_a4bb6dafa070row1_col1\" class=\"data row1 col1\" >CA</td>\n",
       "                        <td id=\"T_ff469fb4_f9a5_11ea_b7bc_a4bb6dafa070row1_col2\" class=\"data row1 col2\" >US</td>\n",
       "            </tr>\n",
       "            <tr>\n",
       "                                <td id=\"T_ff469fb4_f9a5_11ea_b7bc_a4bb6dafa070row2_col0\" class=\"data row2 col0\" >309, SOUTH STREET, BARABOO</td>\n",
       "                        <td id=\"T_ff469fb4_f9a5_11ea_b7bc_a4bb6dafa070row2_col1\" class=\"data row2 col1\" >US</td>\n",
       "                        <td id=\"T_ff469fb4_f9a5_11ea_b7bc_a4bb6dafa070row2_col2\" class=\"data row2 col2\" >CA</td>\n",
       "            </tr>\n",
       "            <tr>\n",
       "                                <td id=\"T_ff469fb4_f9a5_11ea_b7bc_a4bb6dafa070row3_col0\" class=\"data row3 col0\" >6003, ORAM ST</td>\n",
       "                        <td id=\"T_ff469fb4_f9a5_11ea_b7bc_a4bb6dafa070row3_col1\" class=\"data row3 col1\" >US</td>\n",
       "                        <td id=\"T_ff469fb4_f9a5_11ea_b7bc_a4bb6dafa070row3_col2\" class=\"data row3 col2\" >CA</td>\n",
       "            </tr>\n",
       "            <tr>\n",
       "                                <td id=\"T_ff469fb4_f9a5_11ea_b7bc_a4bb6dafa070row4_col0\" class=\"data row4 col0\" >6565, WISCONSIN AVE</td>\n",
       "                        <td id=\"T_ff469fb4_f9a5_11ea_b7bc_a4bb6dafa070row4_col1\" class=\"data row4 col1\" >US</td>\n",
       "                        <td id=\"T_ff469fb4_f9a5_11ea_b7bc_a4bb6dafa070row4_col2\" class=\"data row4 col2\" >CA</td>\n",
       "            </tr>\n",
       "            <tr>\n",
       "                                <td id=\"T_ff469fb4_f9a5_11ea_b7bc_a4bb6dafa070row5_col0\" class=\"data row5 col0\" >394, EILEAN GOWAN ISLAND</td>\n",
       "                        <td id=\"T_ff469fb4_f9a5_11ea_b7bc_a4bb6dafa070row5_col1\" class=\"data row5 col1\" >CA</td>\n",
       "                        <td id=\"T_ff469fb4_f9a5_11ea_b7bc_a4bb6dafa070row5_col2\" class=\"data row5 col2\" >US</td>\n",
       "            </tr>\n",
       "            <tr>\n",
       "                                <td id=\"T_ff469fb4_f9a5_11ea_b7bc_a4bb6dafa070row6_col0\" class=\"data row6 col0\" >916, PINE ST</td>\n",
       "                        <td id=\"T_ff469fb4_f9a5_11ea_b7bc_a4bb6dafa070row6_col1\" class=\"data row6 col1\" >US</td>\n",
       "                        <td id=\"T_ff469fb4_f9a5_11ea_b7bc_a4bb6dafa070row6_col2\" class=\"data row6 col2\" >CA</td>\n",
       "            </tr>\n",
       "            <tr>\n",
       "                                <td id=\"T_ff469fb4_f9a5_11ea_b7bc_a4bb6dafa070row7_col0\" class=\"data row7 col0\" >1862, LITTLE NINTH, SPRINGWATER</td>\n",
       "                        <td id=\"T_ff469fb4_f9a5_11ea_b7bc_a4bb6dafa070row7_col1\" class=\"data row7 col1\" >CA</td>\n",
       "                        <td id=\"T_ff469fb4_f9a5_11ea_b7bc_a4bb6dafa070row7_col2\" class=\"data row7 col2\" >US</td>\n",
       "            </tr>\n",
       "            <tr>\n",
       "                                <td id=\"T_ff469fb4_f9a5_11ea_b7bc_a4bb6dafa070row8_col0\" class=\"data row8 col0\" >316, BEAUMIER LANE</td>\n",
       "                        <td id=\"T_ff469fb4_f9a5_11ea_b7bc_a4bb6dafa070row8_col1\" class=\"data row8 col1\" >US</td>\n",
       "                        <td id=\"T_ff469fb4_f9a5_11ea_b7bc_a4bb6dafa070row8_col2\" class=\"data row8 col2\" >CA</td>\n",
       "            </tr>\n",
       "            <tr>\n",
       "                                <td id=\"T_ff469fb4_f9a5_11ea_b7bc_a4bb6dafa070row9_col0\" class=\"data row9 col0\" >1518, BARCLAY ST</td>\n",
       "                        <td id=\"T_ff469fb4_f9a5_11ea_b7bc_a4bb6dafa070row9_col1\" class=\"data row9 col1\" >US</td>\n",
       "                        <td id=\"T_ff469fb4_f9a5_11ea_b7bc_a4bb6dafa070row9_col2\" class=\"data row9 col2\" >CA</td>\n",
       "            </tr>\n",
       "            <tr>\n",
       "                                <td id=\"T_ff469fb4_f9a5_11ea_b7bc_a4bb6dafa070row10_col0\" class=\"data row10 col0\" >235, GLADEFIELD DR</td>\n",
       "                        <td id=\"T_ff469fb4_f9a5_11ea_b7bc_a4bb6dafa070row10_col1\" class=\"data row10 col1\" >US</td>\n",
       "                        <td id=\"T_ff469fb4_f9a5_11ea_b7bc_a4bb6dafa070row10_col2\" class=\"data row10 col2\" >CA</td>\n",
       "            </tr>\n",
       "            <tr>\n",
       "                                <td id=\"T_ff469fb4_f9a5_11ea_b7bc_a4bb6dafa070row11_col0\" class=\"data row11 col0\" >2701, CURRANT CV</td>\n",
       "                        <td id=\"T_ff469fb4_f9a5_11ea_b7bc_a4bb6dafa070row11_col1\" class=\"data row11 col1\" >US</td>\n",
       "                        <td id=\"T_ff469fb4_f9a5_11ea_b7bc_a4bb6dafa070row11_col2\" class=\"data row11 col2\" >CA</td>\n",
       "            </tr>\n",
       "            <tr>\n",
       "                                <td id=\"T_ff469fb4_f9a5_11ea_b7bc_a4bb6dafa070row12_col0\" class=\"data row12 col0\" >94, ASPETUCK VILLAGE</td>\n",
       "                        <td id=\"T_ff469fb4_f9a5_11ea_b7bc_a4bb6dafa070row12_col1\" class=\"data row12 col1\" >US</td>\n",
       "                        <td id=\"T_ff469fb4_f9a5_11ea_b7bc_a4bb6dafa070row12_col2\" class=\"data row12 col2\" >CA</td>\n",
       "            </tr>\n",
       "            <tr>\n",
       "                                <td id=\"T_ff469fb4_f9a5_11ea_b7bc_a4bb6dafa070row13_col0\" class=\"data row13 col0\" >22001, LANCE RD</td>\n",
       "                        <td id=\"T_ff469fb4_f9a5_11ea_b7bc_a4bb6dafa070row13_col1\" class=\"data row13 col1\" >US</td>\n",
       "                        <td id=\"T_ff469fb4_f9a5_11ea_b7bc_a4bb6dafa070row13_col2\" class=\"data row13 col2\" >CA</td>\n",
       "            </tr>\n",
       "            <tr>\n",
       "                                <td id=\"T_ff469fb4_f9a5_11ea_b7bc_a4bb6dafa070row14_col0\" class=\"data row14 col0\" >2556, BLUE HERON BOULEVARD</td>\n",
       "                        <td id=\"T_ff469fb4_f9a5_11ea_b7bc_a4bb6dafa070row14_col1\" class=\"data row14 col1\" >US</td>\n",
       "                        <td id=\"T_ff469fb4_f9a5_11ea_b7bc_a4bb6dafa070row14_col2\" class=\"data row14 col2\" >CA</td>\n",
       "            </tr>\n",
       "            <tr>\n",
       "                                <td id=\"T_ff469fb4_f9a5_11ea_b7bc_a4bb6dafa070row15_col0\" class=\"data row15 col0\" >1025, BROOKFORD RD</td>\n",
       "                        <td id=\"T_ff469fb4_f9a5_11ea_b7bc_a4bb6dafa070row15_col1\" class=\"data row15 col1\" >US</td>\n",
       "                        <td id=\"T_ff469fb4_f9a5_11ea_b7bc_a4bb6dafa070row15_col2\" class=\"data row15 col2\" >CA</td>\n",
       "            </tr>\n",
       "            <tr>\n",
       "                                <td id=\"T_ff469fb4_f9a5_11ea_b7bc_a4bb6dafa070row16_col0\" class=\"data row16 col0\" >8981, FAIRMOUNT RD SE</td>\n",
       "                        <td id=\"T_ff469fb4_f9a5_11ea_b7bc_a4bb6dafa070row16_col1\" class=\"data row16 col1\" >US</td>\n",
       "                        <td id=\"T_ff469fb4_f9a5_11ea_b7bc_a4bb6dafa070row16_col2\" class=\"data row16 col2\" >CA</td>\n",
       "            </tr>\n",
       "            <tr>\n",
       "                                <td id=\"T_ff469fb4_f9a5_11ea_b7bc_a4bb6dafa070row17_col0\" class=\"data row17 col0\" >5, PICKWICK LA</td>\n",
       "                        <td id=\"T_ff469fb4_f9a5_11ea_b7bc_a4bb6dafa070row17_col1\" class=\"data row17 col1\" >US</td>\n",
       "                        <td id=\"T_ff469fb4_f9a5_11ea_b7bc_a4bb6dafa070row17_col2\" class=\"data row17 col2\" >CA</td>\n",
       "            </tr>\n",
       "            <tr>\n",
       "                                <td id=\"T_ff469fb4_f9a5_11ea_b7bc_a4bb6dafa070row18_col0\" class=\"data row18 col0\" >0, LAKESHORE DR</td>\n",
       "                        <td id=\"T_ff469fb4_f9a5_11ea_b7bc_a4bb6dafa070row18_col1\" class=\"data row18 col1\" >US</td>\n",
       "                        <td id=\"T_ff469fb4_f9a5_11ea_b7bc_a4bb6dafa070row18_col2\" class=\"data row18 col2\" >CA</td>\n",
       "            </tr>\n",
       "            <tr>\n",
       "                                <td id=\"T_ff469fb4_f9a5_11ea_b7bc_a4bb6dafa070row19_col0\" class=\"data row19 col0\" >40022, GOVERNMENT RD</td>\n",
       "                        <td id=\"T_ff469fb4_f9a5_11ea_b7bc_a4bb6dafa070row19_col1\" class=\"data row19 col1\" >CA</td>\n",
       "                        <td id=\"T_ff469fb4_f9a5_11ea_b7bc_a4bb6dafa070row19_col2\" class=\"data row19 col2\" >US</td>\n",
       "            </tr>\n",
       "            <tr>\n",
       "                                <td id=\"T_ff469fb4_f9a5_11ea_b7bc_a4bb6dafa070row20_col0\" class=\"data row20 col0\" >435, EMORY RD</td>\n",
       "                        <td id=\"T_ff469fb4_f9a5_11ea_b7bc_a4bb6dafa070row20_col1\" class=\"data row20 col1\" >US</td>\n",
       "                        <td id=\"T_ff469fb4_f9a5_11ea_b7bc_a4bb6dafa070row20_col2\" class=\"data row20 col2\" >CA</td>\n",
       "            </tr>\n",
       "            <tr>\n",
       "                                <td id=\"T_ff469fb4_f9a5_11ea_b7bc_a4bb6dafa070row21_col0\" class=\"data row21 col0\" >3529, BRADLEY AVE</td>\n",
       "                        <td id=\"T_ff469fb4_f9a5_11ea_b7bc_a4bb6dafa070row21_col1\" class=\"data row21 col1\" >US</td>\n",
       "                        <td id=\"T_ff469fb4_f9a5_11ea_b7bc_a4bb6dafa070row21_col2\" class=\"data row21 col2\" >CA</td>\n",
       "            </tr>\n",
       "            <tr>\n",
       "                                <td id=\"T_ff469fb4_f9a5_11ea_b7bc_a4bb6dafa070row22_col0\" class=\"data row22 col0\" >710, 9TH ST</td>\n",
       "                        <td id=\"T_ff469fb4_f9a5_11ea_b7bc_a4bb6dafa070row22_col1\" class=\"data row22 col1\" >US</td>\n",
       "                        <td id=\"T_ff469fb4_f9a5_11ea_b7bc_a4bb6dafa070row22_col2\" class=\"data row22 col2\" >CA</td>\n",
       "            </tr>\n",
       "            <tr>\n",
       "                                <td id=\"T_ff469fb4_f9a5_11ea_b7bc_a4bb6dafa070row23_col0\" class=\"data row23 col0\" >1421, PINOT NOIR DR</td>\n",
       "                        <td id=\"T_ff469fb4_f9a5_11ea_b7bc_a4bb6dafa070row23_col1\" class=\"data row23 col1\" >CA</td>\n",
       "                        <td id=\"T_ff469fb4_f9a5_11ea_b7bc_a4bb6dafa070row23_col2\" class=\"data row23 col2\" >US</td>\n",
       "            </tr>\n",
       "            <tr>\n",
       "                                <td id=\"T_ff469fb4_f9a5_11ea_b7bc_a4bb6dafa070row24_col0\" class=\"data row24 col0\" >1019, BUCHANAN BLVD</td>\n",
       "                        <td id=\"T_ff469fb4_f9a5_11ea_b7bc_a4bb6dafa070row24_col1\" class=\"data row24 col1\" >CA</td>\n",
       "                        <td id=\"T_ff469fb4_f9a5_11ea_b7bc_a4bb6dafa070row24_col2\" class=\"data row24 col2\" >US</td>\n",
       "            </tr>\n",
       "            <tr>\n",
       "                                <td id=\"T_ff469fb4_f9a5_11ea_b7bc_a4bb6dafa070row25_col0\" class=\"data row25 col0\" >2145, 2ND AVENUE</td>\n",
       "                        <td id=\"T_ff469fb4_f9a5_11ea_b7bc_a4bb6dafa070row25_col1\" class=\"data row25 col1\" >CA</td>\n",
       "                        <td id=\"T_ff469fb4_f9a5_11ea_b7bc_a4bb6dafa070row25_col2\" class=\"data row25 col2\" >US</td>\n",
       "            </tr>\n",
       "            <tr>\n",
       "                                <td id=\"T_ff469fb4_f9a5_11ea_b7bc_a4bb6dafa070row26_col0\" class=\"data row26 col0\" >2302, RIVER MIST RD</td>\n",
       "                        <td id=\"T_ff469fb4_f9a5_11ea_b7bc_a4bb6dafa070row26_col1\" class=\"data row26 col1\" >CA</td>\n",
       "                        <td id=\"T_ff469fb4_f9a5_11ea_b7bc_a4bb6dafa070row26_col2\" class=\"data row26 col2\" >US</td>\n",
       "            </tr>\n",
       "            <tr>\n",
       "                                <td id=\"T_ff469fb4_f9a5_11ea_b7bc_a4bb6dafa070row27_col0\" class=\"data row27 col0\" >4159, Maher St</td>\n",
       "                        <td id=\"T_ff469fb4_f9a5_11ea_b7bc_a4bb6dafa070row27_col1\" class=\"data row27 col1\" >US</td>\n",
       "                        <td id=\"T_ff469fb4_f9a5_11ea_b7bc_a4bb6dafa070row27_col2\" class=\"data row27 col2\" >CA</td>\n",
       "            </tr>\n",
       "            <tr>\n",
       "                                <td id=\"T_ff469fb4_f9a5_11ea_b7bc_a4bb6dafa070row28_col0\" class=\"data row28 col0\" >2912, HILL ST.</td>\n",
       "                        <td id=\"T_ff469fb4_f9a5_11ea_b7bc_a4bb6dafa070row28_col1\" class=\"data row28 col1\" >CA</td>\n",
       "                        <td id=\"T_ff469fb4_f9a5_11ea_b7bc_a4bb6dafa070row28_col2\" class=\"data row28 col2\" >US</td>\n",
       "            </tr>\n",
       "            <tr>\n",
       "                                <td id=\"T_ff469fb4_f9a5_11ea_b7bc_a4bb6dafa070row29_col0\" class=\"data row29 col0\" >348, RYWALK CIR</td>\n",
       "                        <td id=\"T_ff469fb4_f9a5_11ea_b7bc_a4bb6dafa070row29_col1\" class=\"data row29 col1\" >CA</td>\n",
       "                        <td id=\"T_ff469fb4_f9a5_11ea_b7bc_a4bb6dafa070row29_col2\" class=\"data row29 col2\" >US</td>\n",
       "            </tr>\n",
       "            <tr>\n",
       "                                <td id=\"T_ff469fb4_f9a5_11ea_b7bc_a4bb6dafa070row30_col0\" class=\"data row30 col0\" >2109, MALDON PL</td>\n",
       "                        <td id=\"T_ff469fb4_f9a5_11ea_b7bc_a4bb6dafa070row30_col1\" class=\"data row30 col1\" >US</td>\n",
       "                        <td id=\"T_ff469fb4_f9a5_11ea_b7bc_a4bb6dafa070row30_col2\" class=\"data row30 col2\" >CA</td>\n",
       "            </tr>\n",
       "            <tr>\n",
       "                                <td id=\"T_ff469fb4_f9a5_11ea_b7bc_a4bb6dafa070row31_col0\" class=\"data row31 col0\" >167, CARLSBAD CAVERNS ST</td>\n",
       "                        <td id=\"T_ff469fb4_f9a5_11ea_b7bc_a4bb6dafa070row31_col1\" class=\"data row31 col1\" >US</td>\n",
       "                        <td id=\"T_ff469fb4_f9a5_11ea_b7bc_a4bb6dafa070row31_col2\" class=\"data row31 col2\" >CA</td>\n",
       "            </tr>\n",
       "            <tr>\n",
       "                                <td id=\"T_ff469fb4_f9a5_11ea_b7bc_a4bb6dafa070row32_col0\" class=\"data row32 col0\" >136, GRANDPARK CIR</td>\n",
       "                        <td id=\"T_ff469fb4_f9a5_11ea_b7bc_a4bb6dafa070row32_col1\" class=\"data row32 col1\" >CA</td>\n",
       "                        <td id=\"T_ff469fb4_f9a5_11ea_b7bc_a4bb6dafa070row32_col2\" class=\"data row32 col2\" >US</td>\n",
       "            </tr>\n",
       "            <tr>\n",
       "                                <td id=\"T_ff469fb4_f9a5_11ea_b7bc_a4bb6dafa070row33_col0\" class=\"data row33 col0\" >40177, BILL'S PL</td>\n",
       "                        <td id=\"T_ff469fb4_f9a5_11ea_b7bc_a4bb6dafa070row33_col1\" class=\"data row33 col1\" >CA</td>\n",
       "                        <td id=\"T_ff469fb4_f9a5_11ea_b7bc_a4bb6dafa070row33_col2\" class=\"data row33 col2\" >US</td>\n",
       "            </tr>\n",
       "            <tr>\n",
       "                                <td id=\"T_ff469fb4_f9a5_11ea_b7bc_a4bb6dafa070row34_col0\" class=\"data row34 col0\" >4205, Glenn</td>\n",
       "                        <td id=\"T_ff469fb4_f9a5_11ea_b7bc_a4bb6dafa070row34_col1\" class=\"data row34 col1\" >US</td>\n",
       "                        <td id=\"T_ff469fb4_f9a5_11ea_b7bc_a4bb6dafa070row34_col2\" class=\"data row34 col2\" >CA</td>\n",
       "            </tr>\n",
       "            <tr>\n",
       "                                <td id=\"T_ff469fb4_f9a5_11ea_b7bc_a4bb6dafa070row35_col0\" class=\"data row35 col0\" >78, Corridor G S, Charleston, WV, 25314</td>\n",
       "                        <td id=\"T_ff469fb4_f9a5_11ea_b7bc_a4bb6dafa070row35_col1\" class=\"data row35 col1\" >US</td>\n",
       "                        <td id=\"T_ff469fb4_f9a5_11ea_b7bc_a4bb6dafa070row35_col2\" class=\"data row35 col2\" >FR</td>\n",
       "            </tr>\n",
       "            <tr>\n",
       "                                <td id=\"T_ff469fb4_f9a5_11ea_b7bc_a4bb6dafa070row36_col0\" class=\"data row36 col0\" >2726, E TRUESDALE DRIVE</td>\n",
       "                        <td id=\"T_ff469fb4_f9a5_11ea_b7bc_a4bb6dafa070row36_col1\" class=\"data row36 col1\" >CA</td>\n",
       "                        <td id=\"T_ff469fb4_f9a5_11ea_b7bc_a4bb6dafa070row36_col2\" class=\"data row36 col2\" >US</td>\n",
       "            </tr>\n",
       "            <tr>\n",
       "                                <td id=\"T_ff469fb4_f9a5_11ea_b7bc_a4bb6dafa070row37_col0\" class=\"data row37 col0\" >408, RUBY RD</td>\n",
       "                        <td id=\"T_ff469fb4_f9a5_11ea_b7bc_a4bb6dafa070row37_col1\" class=\"data row37 col1\" >US</td>\n",
       "                        <td id=\"T_ff469fb4_f9a5_11ea_b7bc_a4bb6dafa070row37_col2\" class=\"data row37 col2\" >CA</td>\n",
       "            </tr>\n",
       "            <tr>\n",
       "                                <td id=\"T_ff469fb4_f9a5_11ea_b7bc_a4bb6dafa070row38_col0\" class=\"data row38 col0\" >2101, FONTAINE RD, 10</td>\n",
       "                        <td id=\"T_ff469fb4_f9a5_11ea_b7bc_a4bb6dafa070row38_col1\" class=\"data row38 col1\" >US</td>\n",
       "                        <td id=\"T_ff469fb4_f9a5_11ea_b7bc_a4bb6dafa070row38_col2\" class=\"data row38 col2\" >CA</td>\n",
       "            </tr>\n",
       "            <tr>\n",
       "                                <td id=\"T_ff469fb4_f9a5_11ea_b7bc_a4bb6dafa070row39_col0\" class=\"data row39 col0\" >52, OLD HWY</td>\n",
       "                        <td id=\"T_ff469fb4_f9a5_11ea_b7bc_a4bb6dafa070row39_col1\" class=\"data row39 col1\" >US</td>\n",
       "                        <td id=\"T_ff469fb4_f9a5_11ea_b7bc_a4bb6dafa070row39_col2\" class=\"data row39 col2\" >CA</td>\n",
       "            </tr>\n",
       "            <tr>\n",
       "                                <td id=\"T_ff469fb4_f9a5_11ea_b7bc_a4bb6dafa070row40_col0\" class=\"data row40 col0\" >200, EAGLE SHORE DR</td>\n",
       "                        <td id=\"T_ff469fb4_f9a5_11ea_b7bc_a4bb6dafa070row40_col1\" class=\"data row40 col1\" >US</td>\n",
       "                        <td id=\"T_ff469fb4_f9a5_11ea_b7bc_a4bb6dafa070row40_col2\" class=\"data row40 col2\" >CA</td>\n",
       "            </tr>\n",
       "            <tr>\n",
       "                                <td id=\"T_ff469fb4_f9a5_11ea_b7bc_a4bb6dafa070row41_col0\" class=\"data row41 col0\" >1450, MEADOW AV</td>\n",
       "                        <td id=\"T_ff469fb4_f9a5_11ea_b7bc_a4bb6dafa070row41_col1\" class=\"data row41 col1\" >US</td>\n",
       "                        <td id=\"T_ff469fb4_f9a5_11ea_b7bc_a4bb6dafa070row41_col2\" class=\"data row41 col2\" >CA</td>\n",
       "            </tr>\n",
       "            <tr>\n",
       "                                <td id=\"T_ff469fb4_f9a5_11ea_b7bc_a4bb6dafa070row42_col0\" class=\"data row42 col0\" >682, ISLAND 90 SIX MILE LAKE</td>\n",
       "                        <td id=\"T_ff469fb4_f9a5_11ea_b7bc_a4bb6dafa070row42_col1\" class=\"data row42 col1\" >CA</td>\n",
       "                        <td id=\"T_ff469fb4_f9a5_11ea_b7bc_a4bb6dafa070row42_col2\" class=\"data row42 col2\" >US</td>\n",
       "            </tr>\n",
       "            <tr>\n",
       "                                <td id=\"T_ff469fb4_f9a5_11ea_b7bc_a4bb6dafa070row43_col0\" class=\"data row43 col0\" >2106, MARK ST</td>\n",
       "                        <td id=\"T_ff469fb4_f9a5_11ea_b7bc_a4bb6dafa070row43_col1\" class=\"data row43 col1\" >US</td>\n",
       "                        <td id=\"T_ff469fb4_f9a5_11ea_b7bc_a4bb6dafa070row43_col2\" class=\"data row43 col2\" >CA</td>\n",
       "            </tr>\n",
       "            <tr>\n",
       "                                <td id=\"T_ff469fb4_f9a5_11ea_b7bc_a4bb6dafa070row44_col0\" class=\"data row44 col0\" >1222, VAN STEFFY AV, WYOMISSING</td>\n",
       "                        <td id=\"T_ff469fb4_f9a5_11ea_b7bc_a4bb6dafa070row44_col1\" class=\"data row44 col1\" >US</td>\n",
       "                        <td id=\"T_ff469fb4_f9a5_11ea_b7bc_a4bb6dafa070row44_col2\" class=\"data row44 col2\" >CA</td>\n",
       "            </tr>\n",
       "            <tr>\n",
       "                                <td id=\"T_ff469fb4_f9a5_11ea_b7bc_a4bb6dafa070row45_col0\" class=\"data row45 col0\" >16772, Heritage Ln</td>\n",
       "                        <td id=\"T_ff469fb4_f9a5_11ea_b7bc_a4bb6dafa070row45_col1\" class=\"data row45 col1\" >US</td>\n",
       "                        <td id=\"T_ff469fb4_f9a5_11ea_b7bc_a4bb6dafa070row45_col2\" class=\"data row45 col2\" >CA</td>\n",
       "            </tr>\n",
       "            <tr>\n",
       "                                <td id=\"T_ff469fb4_f9a5_11ea_b7bc_a4bb6dafa070row46_col0\" class=\"data row46 col0\" >450, LINCOLN AVENUE</td>\n",
       "                        <td id=\"T_ff469fb4_f9a5_11ea_b7bc_a4bb6dafa070row46_col1\" class=\"data row46 col1\" >US</td>\n",
       "                        <td id=\"T_ff469fb4_f9a5_11ea_b7bc_a4bb6dafa070row46_col2\" class=\"data row46 col2\" >CA</td>\n",
       "            </tr>\n",
       "            <tr>\n",
       "                                <td id=\"T_ff469fb4_f9a5_11ea_b7bc_a4bb6dafa070row47_col0\" class=\"data row47 col0\" >27, GRANTHAM GLEN</td>\n",
       "                        <td id=\"T_ff469fb4_f9a5_11ea_b7bc_a4bb6dafa070row47_col1\" class=\"data row47 col1\" >US</td>\n",
       "                        <td id=\"T_ff469fb4_f9a5_11ea_b7bc_a4bb6dafa070row47_col2\" class=\"data row47 col2\" >CA</td>\n",
       "            </tr>\n",
       "            <tr>\n",
       "                                <td id=\"T_ff469fb4_f9a5_11ea_b7bc_a4bb6dafa070row48_col0\" class=\"data row48 col0\" >14972, GREENBRAE ST</td>\n",
       "                        <td id=\"T_ff469fb4_f9a5_11ea_b7bc_a4bb6dafa070row48_col1\" class=\"data row48 col1\" >US</td>\n",
       "                        <td id=\"T_ff469fb4_f9a5_11ea_b7bc_a4bb6dafa070row48_col2\" class=\"data row48 col2\" >CA</td>\n",
       "            </tr>\n",
       "            <tr>\n",
       "                                <td id=\"T_ff469fb4_f9a5_11ea_b7bc_a4bb6dafa070row49_col0\" class=\"data row49 col0\" >5012, SYCAMORE RD</td>\n",
       "                        <td id=\"T_ff469fb4_f9a5_11ea_b7bc_a4bb6dafa070row49_col1\" class=\"data row49 col1\" >US</td>\n",
       "                        <td id=\"T_ff469fb4_f9a5_11ea_b7bc_a4bb6dafa070row49_col2\" class=\"data row49 col2\" >CA</td>\n",
       "            </tr>\n",
       "            <tr>\n",
       "                                <td id=\"T_ff469fb4_f9a5_11ea_b7bc_a4bb6dafa070row50_col0\" class=\"data row50 col0\" >35, CR 1322</td>\n",
       "                        <td id=\"T_ff469fb4_f9a5_11ea_b7bc_a4bb6dafa070row50_col1\" class=\"data row50 col1\" >US</td>\n",
       "                        <td id=\"T_ff469fb4_f9a5_11ea_b7bc_a4bb6dafa070row50_col2\" class=\"data row50 col2\" >CA</td>\n",
       "            </tr>\n",
       "            <tr>\n",
       "                                <td id=\"T_ff469fb4_f9a5_11ea_b7bc_a4bb6dafa070row51_col0\" class=\"data row51 col0\" >2438, DOUBLETREE  DR</td>\n",
       "                        <td id=\"T_ff469fb4_f9a5_11ea_b7bc_a4bb6dafa070row51_col1\" class=\"data row51 col1\" >US</td>\n",
       "                        <td id=\"T_ff469fb4_f9a5_11ea_b7bc_a4bb6dafa070row51_col2\" class=\"data row51 col2\" >CA</td>\n",
       "            </tr>\n",
       "            <tr>\n",
       "                                <td id=\"T_ff469fb4_f9a5_11ea_b7bc_a4bb6dafa070row52_col0\" class=\"data row52 col0\" >110, SPRING CREEK DRIVE</td>\n",
       "                        <td id=\"T_ff469fb4_f9a5_11ea_b7bc_a4bb6dafa070row52_col1\" class=\"data row52 col1\" >CA</td>\n",
       "                        <td id=\"T_ff469fb4_f9a5_11ea_b7bc_a4bb6dafa070row52_col2\" class=\"data row52 col2\" >US</td>\n",
       "            </tr>\n",
       "            <tr>\n",
       "                                <td id=\"T_ff469fb4_f9a5_11ea_b7bc_a4bb6dafa070row53_col0\" class=\"data row53 col0\" >6999, SHIELDS DR</td>\n",
       "                        <td id=\"T_ff469fb4_f9a5_11ea_b7bc_a4bb6dafa070row53_col1\" class=\"data row53 col1\" >CA</td>\n",
       "                        <td id=\"T_ff469fb4_f9a5_11ea_b7bc_a4bb6dafa070row53_col2\" class=\"data row53 col2\" >US</td>\n",
       "            </tr>\n",
       "            <tr>\n",
       "                                <td id=\"T_ff469fb4_f9a5_11ea_b7bc_a4bb6dafa070row54_col0\" class=\"data row54 col0\" >232, COUNTY RD 5, JACKSON</td>\n",
       "                        <td id=\"T_ff469fb4_f9a5_11ea_b7bc_a4bb6dafa070row54_col1\" class=\"data row54 col1\" >US</td>\n",
       "                        <td id=\"T_ff469fb4_f9a5_11ea_b7bc_a4bb6dafa070row54_col2\" class=\"data row54 col2\" >CA</td>\n",
       "            </tr>\n",
       "            <tr>\n",
       "                                <td id=\"T_ff469fb4_f9a5_11ea_b7bc_a4bb6dafa070row55_col0\" class=\"data row55 col0\" >2265, Coronado Parkway North, Unit B</td>\n",
       "                        <td id=\"T_ff469fb4_f9a5_11ea_b7bc_a4bb6dafa070row55_col1\" class=\"data row55 col1\" >US</td>\n",
       "                        <td id=\"T_ff469fb4_f9a5_11ea_b7bc_a4bb6dafa070row55_col2\" class=\"data row55 col2\" >CA</td>\n",
       "            </tr>\n",
       "            <tr>\n",
       "                                <td id=\"T_ff469fb4_f9a5_11ea_b7bc_a4bb6dafa070row56_col0\" class=\"data row56 col0\" >224, PINE CREST PL</td>\n",
       "                        <td id=\"T_ff469fb4_f9a5_11ea_b7bc_a4bb6dafa070row56_col1\" class=\"data row56 col1\" >US</td>\n",
       "                        <td id=\"T_ff469fb4_f9a5_11ea_b7bc_a4bb6dafa070row56_col2\" class=\"data row56 col2\" >CA</td>\n",
       "            </tr>\n",
       "            <tr>\n",
       "                                <td id=\"T_ff469fb4_f9a5_11ea_b7bc_a4bb6dafa070row57_col0\" class=\"data row57 col0\" >5917, MYRTLE AVE</td>\n",
       "                        <td id=\"T_ff469fb4_f9a5_11ea_b7bc_a4bb6dafa070row57_col1\" class=\"data row57 col1\" >US</td>\n",
       "                        <td id=\"T_ff469fb4_f9a5_11ea_b7bc_a4bb6dafa070row57_col2\" class=\"data row57 col2\" >CA</td>\n",
       "            </tr>\n",
       "            <tr>\n",
       "                                <td id=\"T_ff469fb4_f9a5_11ea_b7bc_a4bb6dafa070row58_col0\" class=\"data row58 col0\" >6259, ROGERS RD</td>\n",
       "                        <td id=\"T_ff469fb4_f9a5_11ea_b7bc_a4bb6dafa070row58_col1\" class=\"data row58 col1\" >US</td>\n",
       "                        <td id=\"T_ff469fb4_f9a5_11ea_b7bc_a4bb6dafa070row58_col2\" class=\"data row58 col2\" >CA</td>\n",
       "            </tr>\n",
       "            <tr>\n",
       "                                <td id=\"T_ff469fb4_f9a5_11ea_b7bc_a4bb6dafa070row59_col0\" class=\"data row59 col0\" >576, WYCHE ST</td>\n",
       "                        <td id=\"T_ff469fb4_f9a5_11ea_b7bc_a4bb6dafa070row59_col1\" class=\"data row59 col1\" >US</td>\n",
       "                        <td id=\"T_ff469fb4_f9a5_11ea_b7bc_a4bb6dafa070row59_col2\" class=\"data row59 col2\" >CA</td>\n",
       "            </tr>\n",
       "            <tr>\n",
       "                                <td id=\"T_ff469fb4_f9a5_11ea_b7bc_a4bb6dafa070row60_col0\" class=\"data row60 col0\" >3761, OLD CLAYBURN RD</td>\n",
       "                        <td id=\"T_ff469fb4_f9a5_11ea_b7bc_a4bb6dafa070row60_col1\" class=\"data row60 col1\" >CA</td>\n",
       "                        <td id=\"T_ff469fb4_f9a5_11ea_b7bc_a4bb6dafa070row60_col2\" class=\"data row60 col2\" >US</td>\n",
       "            </tr>\n",
       "            <tr>\n",
       "                                <td id=\"T_ff469fb4_f9a5_11ea_b7bc_a4bb6dafa070row61_col0\" class=\"data row61 col0\" >222, LAMPLIGHTERS DR</td>\n",
       "                        <td id=\"T_ff469fb4_f9a5_11ea_b7bc_a4bb6dafa070row61_col1\" class=\"data row61 col1\" >CA</td>\n",
       "                        <td id=\"T_ff469fb4_f9a5_11ea_b7bc_a4bb6dafa070row61_col2\" class=\"data row61 col2\" >US</td>\n",
       "            </tr>\n",
       "            <tr>\n",
       "                                <td id=\"T_ff469fb4_f9a5_11ea_b7bc_a4bb6dafa070row62_col0\" class=\"data row62 col0\" >2274, RIDGELAND DR, AVON</td>\n",
       "                        <td id=\"T_ff469fb4_f9a5_11ea_b7bc_a4bb6dafa070row62_col1\" class=\"data row62 col1\" >US</td>\n",
       "                        <td id=\"T_ff469fb4_f9a5_11ea_b7bc_a4bb6dafa070row62_col2\" class=\"data row62 col2\" >CA</td>\n",
       "            </tr>\n",
       "            <tr>\n",
       "                                <td id=\"T_ff469fb4_f9a5_11ea_b7bc_a4bb6dafa070row63_col0\" class=\"data row63 col0\" >1209, ALSON MILLS WAY</td>\n",
       "                        <td id=\"T_ff469fb4_f9a5_11ea_b7bc_a4bb6dafa070row63_col1\" class=\"data row63 col1\" >CA</td>\n",
       "                        <td id=\"T_ff469fb4_f9a5_11ea_b7bc_a4bb6dafa070row63_col2\" class=\"data row63 col2\" >US</td>\n",
       "            </tr>\n",
       "            <tr>\n",
       "                                <td id=\"T_ff469fb4_f9a5_11ea_b7bc_a4bb6dafa070row64_col0\" class=\"data row64 col0\" >0, BOUTILIERS POINT RD, BOUTILIERS POINT</td>\n",
       "                        <td id=\"T_ff469fb4_f9a5_11ea_b7bc_a4bb6dafa070row64_col1\" class=\"data row64 col1\" >CA</td>\n",
       "                        <td id=\"T_ff469fb4_f9a5_11ea_b7bc_a4bb6dafa070row64_col2\" class=\"data row64 col2\" >US</td>\n",
       "            </tr>\n",
       "            <tr>\n",
       "                                <td id=\"T_ff469fb4_f9a5_11ea_b7bc_a4bb6dafa070row65_col0\" class=\"data row65 col0\" >262, BASSETT ST</td>\n",
       "                        <td id=\"T_ff469fb4_f9a5_11ea_b7bc_a4bb6dafa070row65_col1\" class=\"data row65 col1\" >US</td>\n",
       "                        <td id=\"T_ff469fb4_f9a5_11ea_b7bc_a4bb6dafa070row65_col2\" class=\"data row65 col2\" >CA</td>\n",
       "            </tr>\n",
       "            <tr>\n",
       "                                <td id=\"T_ff469fb4_f9a5_11ea_b7bc_a4bb6dafa070row66_col0\" class=\"data row66 col0\" >216, 3RD ST</td>\n",
       "                        <td id=\"T_ff469fb4_f9a5_11ea_b7bc_a4bb6dafa070row66_col1\" class=\"data row66 col1\" >US</td>\n",
       "                        <td id=\"T_ff469fb4_f9a5_11ea_b7bc_a4bb6dafa070row66_col2\" class=\"data row66 col2\" >CA</td>\n",
       "            </tr>\n",
       "            <tr>\n",
       "                                <td id=\"T_ff469fb4_f9a5_11ea_b7bc_a4bb6dafa070row67_col0\" class=\"data row67 col0\" >3749, CLARITY RD</td>\n",
       "                        <td id=\"T_ff469fb4_f9a5_11ea_b7bc_a4bb6dafa070row67_col1\" class=\"data row67 col1\" >US</td>\n",
       "                        <td id=\"T_ff469fb4_f9a5_11ea_b7bc_a4bb6dafa070row67_col2\" class=\"data row67 col2\" >CA</td>\n",
       "            </tr>\n",
       "            <tr>\n",
       "                                <td id=\"T_ff469fb4_f9a5_11ea_b7bc_a4bb6dafa070row68_col0\" class=\"data row68 col0\" >2619, SQUIRE PL</td>\n",
       "                        <td id=\"T_ff469fb4_f9a5_11ea_b7bc_a4bb6dafa070row68_col1\" class=\"data row68 col1\" >US</td>\n",
       "                        <td id=\"T_ff469fb4_f9a5_11ea_b7bc_a4bb6dafa070row68_col2\" class=\"data row68 col2\" >CA</td>\n",
       "            </tr>\n",
       "            <tr>\n",
       "                                <td id=\"T_ff469fb4_f9a5_11ea_b7bc_a4bb6dafa070row69_col0\" class=\"data row69 col0\" >205, SWAN RIVER DR</td>\n",
       "                        <td id=\"T_ff469fb4_f9a5_11ea_b7bc_a4bb6dafa070row69_col1\" class=\"data row69 col1\" >CA</td>\n",
       "                        <td id=\"T_ff469fb4_f9a5_11ea_b7bc_a4bb6dafa070row69_col2\" class=\"data row69 col2\" >US</td>\n",
       "            </tr>\n",
       "            <tr>\n",
       "                                <td id=\"T_ff469fb4_f9a5_11ea_b7bc_a4bb6dafa070row70_col0\" class=\"data row70 col0\" >933, PINE GROVE RD</td>\n",
       "                        <td id=\"T_ff469fb4_f9a5_11ea_b7bc_a4bb6dafa070row70_col1\" class=\"data row70 col1\" >US</td>\n",
       "                        <td id=\"T_ff469fb4_f9a5_11ea_b7bc_a4bb6dafa070row70_col2\" class=\"data row70 col2\" >CA</td>\n",
       "            </tr>\n",
       "            <tr>\n",
       "                                <td id=\"T_ff469fb4_f9a5_11ea_b7bc_a4bb6dafa070row71_col0\" class=\"data row71 col0\" >494, Oxbow Creek</td>\n",
       "                        <td id=\"T_ff469fb4_f9a5_11ea_b7bc_a4bb6dafa070row71_col1\" class=\"data row71 col1\" >US</td>\n",
       "                        <td id=\"T_ff469fb4_f9a5_11ea_b7bc_a4bb6dafa070row71_col2\" class=\"data row71 col2\" >CA</td>\n",
       "            </tr>\n",
       "            <tr>\n",
       "                                <td id=\"T_ff469fb4_f9a5_11ea_b7bc_a4bb6dafa070row72_col0\" class=\"data row72 col0\" >0, HIGH ST</td>\n",
       "                        <td id=\"T_ff469fb4_f9a5_11ea_b7bc_a4bb6dafa070row72_col1\" class=\"data row72 col1\" >US</td>\n",
       "                        <td id=\"T_ff469fb4_f9a5_11ea_b7bc_a4bb6dafa070row72_col2\" class=\"data row72 col2\" >CA</td>\n",
       "            </tr>\n",
       "            <tr>\n",
       "                                <td id=\"T_ff469fb4_f9a5_11ea_b7bc_a4bb6dafa070row73_col0\" class=\"data row73 col0\" >121, WHITETAIL ARCHERY AVE</td>\n",
       "                        <td id=\"T_ff469fb4_f9a5_11ea_b7bc_a4bb6dafa070row73_col1\" class=\"data row73 col1\" >US</td>\n",
       "                        <td id=\"T_ff469fb4_f9a5_11ea_b7bc_a4bb6dafa070row73_col2\" class=\"data row73 col2\" >CA</td>\n",
       "            </tr>\n",
       "            <tr>\n",
       "                                <td id=\"T_ff469fb4_f9a5_11ea_b7bc_a4bb6dafa070row74_col0\" class=\"data row74 col0\" >676, STATE ROUTE 179</td>\n",
       "                        <td id=\"T_ff469fb4_f9a5_11ea_b7bc_a4bb6dafa070row74_col1\" class=\"data row74 col1\" >US</td>\n",
       "                        <td id=\"T_ff469fb4_f9a5_11ea_b7bc_a4bb6dafa070row74_col2\" class=\"data row74 col2\" >CA</td>\n",
       "            </tr>\n",
       "            <tr>\n",
       "                                <td id=\"T_ff469fb4_f9a5_11ea_b7bc_a4bb6dafa070row75_col0\" class=\"data row75 col0\" >41, WILLIAM BLAYDES ST</td>\n",
       "                        <td id=\"T_ff469fb4_f9a5_11ea_b7bc_a4bb6dafa070row75_col1\" class=\"data row75 col1\" >US</td>\n",
       "                        <td id=\"T_ff469fb4_f9a5_11ea_b7bc_a4bb6dafa070row75_col2\" class=\"data row75 col2\" >CA</td>\n",
       "            </tr>\n",
       "            <tr>\n",
       "                                <td id=\"T_ff469fb4_f9a5_11ea_b7bc_a4bb6dafa070row76_col0\" class=\"data row76 col0\" >1539, 29 AV N</td>\n",
       "                        <td id=\"T_ff469fb4_f9a5_11ea_b7bc_a4bb6dafa070row76_col1\" class=\"data row76 col1\" >US</td>\n",
       "                        <td id=\"T_ff469fb4_f9a5_11ea_b7bc_a4bb6dafa070row76_col2\" class=\"data row76 col2\" >CA</td>\n",
       "            </tr>\n",
       "            <tr>\n",
       "                                <td id=\"T_ff469fb4_f9a5_11ea_b7bc_a4bb6dafa070row77_col0\" class=\"data row77 col0\" >845, NORTH MARY LAKE RD</td>\n",
       "                        <td id=\"T_ff469fb4_f9a5_11ea_b7bc_a4bb6dafa070row77_col1\" class=\"data row77 col1\" >CA</td>\n",
       "                        <td id=\"T_ff469fb4_f9a5_11ea_b7bc_a4bb6dafa070row77_col2\" class=\"data row77 col2\" >US</td>\n",
       "            </tr>\n",
       "            <tr>\n",
       "                                <td id=\"T_ff469fb4_f9a5_11ea_b7bc_a4bb6dafa070row78_col0\" class=\"data row78 col0\" >411, VANCOUVER ST, D</td>\n",
       "                        <td id=\"T_ff469fb4_f9a5_11ea_b7bc_a4bb6dafa070row78_col1\" class=\"data row78 col1\" >CA</td>\n",
       "                        <td id=\"T_ff469fb4_f9a5_11ea_b7bc_a4bb6dafa070row78_col2\" class=\"data row78 col2\" >US</td>\n",
       "            </tr>\n",
       "            <tr>\n",
       "                                <td id=\"T_ff469fb4_f9a5_11ea_b7bc_a4bb6dafa070row79_col0\" class=\"data row79 col0\" >9, BROOK SIDE</td>\n",
       "                        <td id=\"T_ff469fb4_f9a5_11ea_b7bc_a4bb6dafa070row79_col1\" class=\"data row79 col1\" >US</td>\n",
       "                        <td id=\"T_ff469fb4_f9a5_11ea_b7bc_a4bb6dafa070row79_col2\" class=\"data row79 col2\" >CA</td>\n",
       "            </tr>\n",
       "            <tr>\n",
       "                                <td id=\"T_ff469fb4_f9a5_11ea_b7bc_a4bb6dafa070row80_col0\" class=\"data row80 col0\" >312, WHEATON STREET</td>\n",
       "                        <td id=\"T_ff469fb4_f9a5_11ea_b7bc_a4bb6dafa070row80_col1\" class=\"data row80 col1\" >US</td>\n",
       "                        <td id=\"T_ff469fb4_f9a5_11ea_b7bc_a4bb6dafa070row80_col2\" class=\"data row80 col2\" >CA</td>\n",
       "            </tr>\n",
       "            <tr>\n",
       "                                <td id=\"T_ff469fb4_f9a5_11ea_b7bc_a4bb6dafa070row81_col0\" class=\"data row81 col0\" >4636, Laguna Way</td>\n",
       "                        <td id=\"T_ff469fb4_f9a5_11ea_b7bc_a4bb6dafa070row81_col1\" class=\"data row81 col1\" >CA</td>\n",
       "                        <td id=\"T_ff469fb4_f9a5_11ea_b7bc_a4bb6dafa070row81_col2\" class=\"data row81 col2\" >US</td>\n",
       "            </tr>\n",
       "            <tr>\n",
       "                                <td id=\"T_ff469fb4_f9a5_11ea_b7bc_a4bb6dafa070row82_col0\" class=\"data row82 col0\" >166, OLGA DR</td>\n",
       "                        <td id=\"T_ff469fb4_f9a5_11ea_b7bc_a4bb6dafa070row82_col1\" class=\"data row82 col1\" >US</td>\n",
       "                        <td id=\"T_ff469fb4_f9a5_11ea_b7bc_a4bb6dafa070row82_col2\" class=\"data row82 col2\" >CA</td>\n",
       "            </tr>\n",
       "            <tr>\n",
       "                                <td id=\"T_ff469fb4_f9a5_11ea_b7bc_a4bb6dafa070row83_col0\" class=\"data row83 col0\" >708, FAIRMEADOW DR</td>\n",
       "                        <td id=\"T_ff469fb4_f9a5_11ea_b7bc_a4bb6dafa070row83_col1\" class=\"data row83 col1\" >US</td>\n",
       "                        <td id=\"T_ff469fb4_f9a5_11ea_b7bc_a4bb6dafa070row83_col2\" class=\"data row83 col2\" >CA</td>\n",
       "            </tr>\n",
       "            <tr>\n",
       "                                <td id=\"T_ff469fb4_f9a5_11ea_b7bc_a4bb6dafa070row84_col0\" class=\"data row84 col0\" >126, POAS CL</td>\n",
       "                        <td id=\"T_ff469fb4_f9a5_11ea_b7bc_a4bb6dafa070row84_col1\" class=\"data row84 col1\" >US</td>\n",
       "                        <td id=\"T_ff469fb4_f9a5_11ea_b7bc_a4bb6dafa070row84_col2\" class=\"data row84 col2\" >CA</td>\n",
       "            </tr>\n",
       "            <tr>\n",
       "                                <td id=\"T_ff469fb4_f9a5_11ea_b7bc_a4bb6dafa070row85_col0\" class=\"data row85 col0\" >5648, EVELYN LANE</td>\n",
       "                        <td id=\"T_ff469fb4_f9a5_11ea_b7bc_a4bb6dafa070row85_col1\" class=\"data row85 col1\" >CA</td>\n",
       "                        <td id=\"T_ff469fb4_f9a5_11ea_b7bc_a4bb6dafa070row85_col2\" class=\"data row85 col2\" >US</td>\n",
       "            </tr>\n",
       "            <tr>\n",
       "                                <td id=\"T_ff469fb4_f9a5_11ea_b7bc_a4bb6dafa070row86_col0\" class=\"data row86 col0\" >529, WENGLER AVE, SHARON</td>\n",
       "                        <td id=\"T_ff469fb4_f9a5_11ea_b7bc_a4bb6dafa070row86_col1\" class=\"data row86 col1\" >US</td>\n",
       "                        <td id=\"T_ff469fb4_f9a5_11ea_b7bc_a4bb6dafa070row86_col2\" class=\"data row86 col2\" >CA</td>\n",
       "            </tr>\n",
       "            <tr>\n",
       "                                <td id=\"T_ff469fb4_f9a5_11ea_b7bc_a4bb6dafa070row87_col0\" class=\"data row87 col0\" >514, CLEARFIELD ST</td>\n",
       "                        <td id=\"T_ff469fb4_f9a5_11ea_b7bc_a4bb6dafa070row87_col1\" class=\"data row87 col1\" >US</td>\n",
       "                        <td id=\"T_ff469fb4_f9a5_11ea_b7bc_a4bb6dafa070row87_col2\" class=\"data row87 col2\" >CA</td>\n",
       "            </tr>\n",
       "            <tr>\n",
       "                                <td id=\"T_ff469fb4_f9a5_11ea_b7bc_a4bb6dafa070row88_col0\" class=\"data row88 col0\" >1228, SHANNON LANE</td>\n",
       "                        <td id=\"T_ff469fb4_f9a5_11ea_b7bc_a4bb6dafa070row88_col1\" class=\"data row88 col1\" >CA</td>\n",
       "                        <td id=\"T_ff469fb4_f9a5_11ea_b7bc_a4bb6dafa070row88_col2\" class=\"data row88 col2\" >US</td>\n",
       "            </tr>\n",
       "            <tr>\n",
       "                                <td id=\"T_ff469fb4_f9a5_11ea_b7bc_a4bb6dafa070row89_col0\" class=\"data row89 col0\" >1991, Braeburn  Circle SE</td>\n",
       "                        <td id=\"T_ff469fb4_f9a5_11ea_b7bc_a4bb6dafa070row89_col1\" class=\"data row89 col1\" >US</td>\n",
       "                        <td id=\"T_ff469fb4_f9a5_11ea_b7bc_a4bb6dafa070row89_col2\" class=\"data row89 col2\" >CA</td>\n",
       "            </tr>\n",
       "            <tr>\n",
       "                                <td id=\"T_ff469fb4_f9a5_11ea_b7bc_a4bb6dafa070row90_col0\" class=\"data row90 col0\" >1522, FORD BLVD</td>\n",
       "                        <td id=\"T_ff469fb4_f9a5_11ea_b7bc_a4bb6dafa070row90_col1\" class=\"data row90 col1\" >CA</td>\n",
       "                        <td id=\"T_ff469fb4_f9a5_11ea_b7bc_a4bb6dafa070row90_col2\" class=\"data row90 col2\" >US</td>\n",
       "            </tr>\n",
       "            <tr>\n",
       "                                <td id=\"T_ff469fb4_f9a5_11ea_b7bc_a4bb6dafa070row91_col0\" class=\"data row91 col0\" >92</td>\n",
       "                        <td id=\"T_ff469fb4_f9a5_11ea_b7bc_a4bb6dafa070row91_col1\" class=\"data row91 col1\" >CA</td>\n",
       "                        <td id=\"T_ff469fb4_f9a5_11ea_b7bc_a4bb6dafa070row91_col2\" class=\"data row91 col2\" >US</td>\n",
       "            </tr>\n",
       "            <tr>\n",
       "                                <td id=\"T_ff469fb4_f9a5_11ea_b7bc_a4bb6dafa070row92_col0\" class=\"data row92 col0\" >83, ST ANDREWS CRESCENT</td>\n",
       "                        <td id=\"T_ff469fb4_f9a5_11ea_b7bc_a4bb6dafa070row92_col1\" class=\"data row92 col1\" >US</td>\n",
       "                        <td id=\"T_ff469fb4_f9a5_11ea_b7bc_a4bb6dafa070row92_col2\" class=\"data row92 col2\" >CA</td>\n",
       "            </tr>\n",
       "            <tr>\n",
       "                                <td id=\"T_ff469fb4_f9a5_11ea_b7bc_a4bb6dafa070row93_col0\" class=\"data row93 col0\" >900, CHIEFTAIN ST, UNIT 809, WOODSTOCK</td>\n",
       "                        <td id=\"T_ff469fb4_f9a5_11ea_b7bc_a4bb6dafa070row93_col1\" class=\"data row93 col1\" >CA</td>\n",
       "                        <td id=\"T_ff469fb4_f9a5_11ea_b7bc_a4bb6dafa070row93_col2\" class=\"data row93 col2\" >US</td>\n",
       "            </tr>\n",
       "            <tr>\n",
       "                                <td id=\"T_ff469fb4_f9a5_11ea_b7bc_a4bb6dafa070row94_col0\" class=\"data row94 col0\" >107, E 9TH</td>\n",
       "                        <td id=\"T_ff469fb4_f9a5_11ea_b7bc_a4bb6dafa070row94_col1\" class=\"data row94 col1\" >US</td>\n",
       "                        <td id=\"T_ff469fb4_f9a5_11ea_b7bc_a4bb6dafa070row94_col2\" class=\"data row94 col2\" >CA</td>\n",
       "            </tr>\n",
       "            <tr>\n",
       "                                <td id=\"T_ff469fb4_f9a5_11ea_b7bc_a4bb6dafa070row95_col0\" class=\"data row95 col0\" >10990, 1ST STREET, HEWITT</td>\n",
       "                        <td id=\"T_ff469fb4_f9a5_11ea_b7bc_a4bb6dafa070row95_col1\" class=\"data row95 col1\" >US</td>\n",
       "                        <td id=\"T_ff469fb4_f9a5_11ea_b7bc_a4bb6dafa070row95_col2\" class=\"data row95 col2\" >CA</td>\n",
       "            </tr>\n",
       "            <tr>\n",
       "                                <td id=\"T_ff469fb4_f9a5_11ea_b7bc_a4bb6dafa070row96_col0\" class=\"data row96 col0\" >1639, LONE OAK AVE</td>\n",
       "                        <td id=\"T_ff469fb4_f9a5_11ea_b7bc_a4bb6dafa070row96_col1\" class=\"data row96 col1\" >US</td>\n",
       "                        <td id=\"T_ff469fb4_f9a5_11ea_b7bc_a4bb6dafa070row96_col2\" class=\"data row96 col2\" >CA</td>\n",
       "            </tr>\n",
       "    </tbody></table>"
      ],
      "text/plain": [
       "<pandas.io.formats.style.Styler at 0x19db85b3748>"
      ]
     },
     "execution_count": 20,
     "metadata": {},
     "output_type": "execute_result"
    }
   ],
   "source": [
    "misclassified_records.style.set_table_styles([dict(selector='th', props=[('text-align', 'left')])])\\\n",
    "        .set_properties(**{'text-align': \"left\"}).hide_index()"
   ]
  },
  {
   "cell_type": "markdown",
   "metadata": {},
   "source": [
    "## Saving the trained model\n",
    "\n",
    "Once you are satisfied with the model, you can save it using the save() method. This creates an Esri Model Definition (EMD file) that can be used for inferencing on unseen data."
   ]
  },
  {
   "cell_type": "code",
   "execution_count": 21,
   "metadata": {},
   "outputs": [
    {
     "name": "stdout",
     "output_type": "stream",
     "text": [
      "Computing model metrics...\n"
     ]
    },
    {
     "data": {
      "text/plain": [
       "WindowsPath('models/country-classifier')"
      ]
     },
     "execution_count": 21,
     "metadata": {},
     "output_type": "execute_result"
    }
   ],
   "source": [
    "model.save(\"country-classifier\")"
   ]
  },
  {
   "cell_type": "markdown",
   "metadata": {},
   "source": [
    "# Model inference\n",
    "\n",
    "The trained model can be used to classify new text documents using the predict method. This method accepts a string or a list of strings to predict the labels of these new documents/text."
   ]
  },
  {
   "cell_type": "code",
   "execution_count": 22,
   "metadata": {},
   "outputs": [
    {
     "data": {
      "text/html": [
       "\n",
       "    <div>\n",
       "        <style>\n",
       "            /* Turns off some styling */\n",
       "            progress {\n",
       "                /* gets rid of default border in Firefox and Opera. */\n",
       "                border: none;\n",
       "                /* Needs to be in here for Safari polyfill so background images work as expected. */\n",
       "                background-size: auto;\n",
       "            }\n",
       "            .progress-bar-interrupted, .progress-bar-interrupted::-webkit-progress-bar {\n",
       "                background: #F44336;\n",
       "            }\n",
       "        </style>\n",
       "      <progress value='15' class='' max='15' style='width:300px; height:20px; vertical-align: middle;'></progress>\n",
       "      100.00% [15/15 00:00<00:00]\n",
       "    </div>\n",
       "    "
      ],
      "text/plain": [
       "<IPython.core.display.HTML object>"
      ]
     },
     "metadata": {},
     "output_type": "display_data"
    },
    {
     "data": {
      "text/html": [
       "<style  type=\"text/css\" >\n",
       "    #T_c30eb310_f9a6_11ea_8d25_a4bb6dafa070 th {\n",
       "          text-align: left;\n",
       "    }#T_c30eb310_f9a6_11ea_8d25_a4bb6dafa070row0_col0,#T_c30eb310_f9a6_11ea_8d25_a4bb6dafa070row0_col1,#T_c30eb310_f9a6_11ea_8d25_a4bb6dafa070row0_col2,#T_c30eb310_f9a6_11ea_8d25_a4bb6dafa070row1_col0,#T_c30eb310_f9a6_11ea_8d25_a4bb6dafa070row1_col1,#T_c30eb310_f9a6_11ea_8d25_a4bb6dafa070row1_col2,#T_c30eb310_f9a6_11ea_8d25_a4bb6dafa070row2_col0,#T_c30eb310_f9a6_11ea_8d25_a4bb6dafa070row2_col1,#T_c30eb310_f9a6_11ea_8d25_a4bb6dafa070row2_col2,#T_c30eb310_f9a6_11ea_8d25_a4bb6dafa070row3_col0,#T_c30eb310_f9a6_11ea_8d25_a4bb6dafa070row3_col1,#T_c30eb310_f9a6_11ea_8d25_a4bb6dafa070row3_col2,#T_c30eb310_f9a6_11ea_8d25_a4bb6dafa070row4_col0,#T_c30eb310_f9a6_11ea_8d25_a4bb6dafa070row4_col1,#T_c30eb310_f9a6_11ea_8d25_a4bb6dafa070row4_col2,#T_c30eb310_f9a6_11ea_8d25_a4bb6dafa070row5_col0,#T_c30eb310_f9a6_11ea_8d25_a4bb6dafa070row5_col1,#T_c30eb310_f9a6_11ea_8d25_a4bb6dafa070row5_col2,#T_c30eb310_f9a6_11ea_8d25_a4bb6dafa070row6_col0,#T_c30eb310_f9a6_11ea_8d25_a4bb6dafa070row6_col1,#T_c30eb310_f9a6_11ea_8d25_a4bb6dafa070row6_col2,#T_c30eb310_f9a6_11ea_8d25_a4bb6dafa070row7_col0,#T_c30eb310_f9a6_11ea_8d25_a4bb6dafa070row7_col1,#T_c30eb310_f9a6_11ea_8d25_a4bb6dafa070row7_col2,#T_c30eb310_f9a6_11ea_8d25_a4bb6dafa070row8_col0,#T_c30eb310_f9a6_11ea_8d25_a4bb6dafa070row8_col1,#T_c30eb310_f9a6_11ea_8d25_a4bb6dafa070row8_col2,#T_c30eb310_f9a6_11ea_8d25_a4bb6dafa070row9_col0,#T_c30eb310_f9a6_11ea_8d25_a4bb6dafa070row9_col1,#T_c30eb310_f9a6_11ea_8d25_a4bb6dafa070row9_col2,#T_c30eb310_f9a6_11ea_8d25_a4bb6dafa070row10_col0,#T_c30eb310_f9a6_11ea_8d25_a4bb6dafa070row10_col1,#T_c30eb310_f9a6_11ea_8d25_a4bb6dafa070row10_col2,#T_c30eb310_f9a6_11ea_8d25_a4bb6dafa070row11_col0,#T_c30eb310_f9a6_11ea_8d25_a4bb6dafa070row11_col1,#T_c30eb310_f9a6_11ea_8d25_a4bb6dafa070row11_col2,#T_c30eb310_f9a6_11ea_8d25_a4bb6dafa070row12_col0,#T_c30eb310_f9a6_11ea_8d25_a4bb6dafa070row12_col1,#T_c30eb310_f9a6_11ea_8d25_a4bb6dafa070row12_col2,#T_c30eb310_f9a6_11ea_8d25_a4bb6dafa070row13_col0,#T_c30eb310_f9a6_11ea_8d25_a4bb6dafa070row13_col1,#T_c30eb310_f9a6_11ea_8d25_a4bb6dafa070row13_col2,#T_c30eb310_f9a6_11ea_8d25_a4bb6dafa070row14_col0,#T_c30eb310_f9a6_11ea_8d25_a4bb6dafa070row14_col1,#T_c30eb310_f9a6_11ea_8d25_a4bb6dafa070row14_col2{\n",
       "            text-align:  left;\n",
       "        }</style><table id=\"T_c30eb310_f9a6_11ea_8d25_a4bb6dafa070\" ><thead>    <tr>        <th class=\"col_heading level0 col0\" >Address</th>        <th class=\"col_heading level0 col1\" >CountryCode</th>        <th class=\"col_heading level0 col2\" >Confidence</th>    </tr></thead><tbody>\n",
       "                <tr>\n",
       "                                <td id=\"T_c30eb310_f9a6_11ea_8d25_a4bb6dafa070row0_col0\" class=\"data row0 col0\" >5144, Hummingbird Court, Pueblo, 81008</td>\n",
       "                        <td id=\"T_c30eb310_f9a6_11ea_8d25_a4bb6dafa070row0_col1\" class=\"data row0 col1\" >US</td>\n",
       "                        <td id=\"T_c30eb310_f9a6_11ea_8d25_a4bb6dafa070row0_col2\" class=\"data row0 col2\" >0.999964</td>\n",
       "            </tr>\n",
       "            <tr>\n",
       "                                <td id=\"T_c30eb310_f9a6_11ea_8d25_a4bb6dafa070row1_col0\" class=\"data row1 col0\" >25, HERDSMAN PARADE, UNIT C206, WEMBLEY, WA, 6014</td>\n",
       "                        <td id=\"T_c30eb310_f9a6_11ea_8d25_a4bb6dafa070row1_col1\" class=\"data row1 col1\" >AU</td>\n",
       "                        <td id=\"T_c30eb310_f9a6_11ea_8d25_a4bb6dafa070row1_col2\" class=\"data row1 col2\" >1.000000</td>\n",
       "            </tr>\n",
       "            <tr>\n",
       "                                <td id=\"T_c30eb310_f9a6_11ea_8d25_a4bb6dafa070row2_col0\" class=\"data row2 col0\" >1015, CLINTON ST</td>\n",
       "                        <td id=\"T_c30eb310_f9a6_11ea_8d25_a4bb6dafa070row2_col1\" class=\"data row2 col1\" >CA</td>\n",
       "                        <td id=\"T_c30eb310_f9a6_11ea_8d25_a4bb6dafa070row2_col2\" class=\"data row2 col2\" >0.671130</td>\n",
       "            </tr>\n",
       "            <tr>\n",
       "                                <td id=\"T_c30eb310_f9a6_11ea_8d25_a4bb6dafa070row3_col0\" class=\"data row3 col0\" >1304, ELM GROVE CIR, SILVER SPRING, 20905</td>\n",
       "                        <td id=\"T_c30eb310_f9a6_11ea_8d25_a4bb6dafa070row3_col1\" class=\"data row3 col1\" >US</td>\n",
       "                        <td id=\"T_c30eb310_f9a6_11ea_8d25_a4bb6dafa070row3_col2\" class=\"data row3 col2\" >0.999975</td>\n",
       "            </tr>\n",
       "            <tr>\n",
       "                                <td id=\"T_c30eb310_f9a6_11ea_8d25_a4bb6dafa070row4_col0\" class=\"data row4 col0\" >4, CL P.P. LA CISA, 8338</td>\n",
       "                        <td id=\"T_c30eb310_f9a6_11ea_8d25_a4bb6dafa070row4_col1\" class=\"data row4 col1\" >ES</td>\n",
       "                        <td id=\"T_c30eb310_f9a6_11ea_8d25_a4bb6dafa070row4_col2\" class=\"data row4 col2\" >0.999995</td>\n",
       "            </tr>\n",
       "            <tr>\n",
       "                                <td id=\"T_c30eb310_f9a6_11ea_8d25_a4bb6dafa070row5_col0\" class=\"data row5 col0\" >223, CLARENCE ST</td>\n",
       "                        <td id=\"T_c30eb310_f9a6_11ea_8d25_a4bb6dafa070row5_col1\" class=\"data row5 col1\" >CA</td>\n",
       "                        <td id=\"T_c30eb310_f9a6_11ea_8d25_a4bb6dafa070row5_col2\" class=\"data row5 col2\" >0.734618</td>\n",
       "            </tr>\n",
       "            <tr>\n",
       "                                <td id=\"T_c30eb310_f9a6_11ea_8d25_a4bb6dafa070row6_col0\" class=\"data row6 col0\" >Madibeng NU, Local Municipality of Madibeng</td>\n",
       "                        <td id=\"T_c30eb310_f9a6_11ea_8d25_a4bb6dafa070row6_col1\" class=\"data row6 col1\" >ZA</td>\n",
       "                        <td id=\"T_c30eb310_f9a6_11ea_8d25_a4bb6dafa070row6_col2\" class=\"data row6 col2\" >1.000000</td>\n",
       "            </tr>\n",
       "            <tr>\n",
       "                                <td id=\"T_c30eb310_f9a6_11ea_8d25_a4bb6dafa070row7_col0\" class=\"data row7 col0\" >4, FRANKLIN STREET, WEST HOBART, TAS, 7000</td>\n",
       "                        <td id=\"T_c30eb310_f9a6_11ea_8d25_a4bb6dafa070row7_col1\" class=\"data row7 col1\" >AU</td>\n",
       "                        <td id=\"T_c30eb310_f9a6_11ea_8d25_a4bb6dafa070row7_col2\" class=\"data row7 col2\" >1.000000</td>\n",
       "            </tr>\n",
       "            <tr>\n",
       "                                <td id=\"T_c30eb310_f9a6_11ea_8d25_a4bb6dafa070row8_col0\" class=\"data row8 col0\" >428, WALKER DR, AG. CENTER FD, Gaston</td>\n",
       "                        <td id=\"T_c30eb310_f9a6_11ea_8d25_a4bb6dafa070row8_col1\" class=\"data row8 col1\" >US</td>\n",
       "                        <td id=\"T_c30eb310_f9a6_11ea_8d25_a4bb6dafa070row8_col2\" class=\"data row8 col2\" >0.999911</td>\n",
       "            </tr>\n",
       "            <tr>\n",
       "                                <td id=\"T_c30eb310_f9a6_11ea_8d25_a4bb6dafa070row9_col0\" class=\"data row9 col0\" >Null, Mtshayazafe, Ngquza Hill</td>\n",
       "                        <td id=\"T_c30eb310_f9a6_11ea_8d25_a4bb6dafa070row9_col1\" class=\"data row9 col1\" >ZA</td>\n",
       "                        <td id=\"T_c30eb310_f9a6_11ea_8d25_a4bb6dafa070row9_col2\" class=\"data row9 col2\" >1.000000</td>\n",
       "            </tr>\n",
       "            <tr>\n",
       "                                <td id=\"T_c30eb310_f9a6_11ea_8d25_a4bb6dafa070row10_col0\" class=\"data row10 col0\" >311, Avenue de l'Issole, Forcalqueiret, 83136</td>\n",
       "                        <td id=\"T_c30eb310_f9a6_11ea_8d25_a4bb6dafa070row10_col1\" class=\"data row10 col1\" >FR</td>\n",
       "                        <td id=\"T_c30eb310_f9a6_11ea_8d25_a4bb6dafa070row10_col2\" class=\"data row10 col2\" >0.999998</td>\n",
       "            </tr>\n",
       "            <tr>\n",
       "                                <td id=\"T_c30eb310_f9a6_11ea_8d25_a4bb6dafa070row11_col0\" class=\"data row11 col0\" >125, Guillaume Stassartlaan, 0001, 1070</td>\n",
       "                        <td id=\"T_c30eb310_f9a6_11ea_8d25_a4bb6dafa070row11_col1\" class=\"data row11 col1\" >BE</td>\n",
       "                        <td id=\"T_c30eb310_f9a6_11ea_8d25_a4bb6dafa070row11_col2\" class=\"data row11 col2\" >0.999998</td>\n",
       "            </tr>\n",
       "            <tr>\n",
       "                                <td id=\"T_c30eb310_f9a6_11ea_8d25_a4bb6dafa070row12_col0\" class=\"data row12 col0\" >7, La Gree a Midi, Sion-les-Mines, 44590</td>\n",
       "                        <td id=\"T_c30eb310_f9a6_11ea_8d25_a4bb6dafa070row12_col1\" class=\"data row12 col1\" >FR</td>\n",
       "                        <td id=\"T_c30eb310_f9a6_11ea_8d25_a4bb6dafa070row12_col2\" class=\"data row12 col2\" >0.999998</td>\n",
       "            </tr>\n",
       "            <tr>\n",
       "                                <td id=\"T_c30eb310_f9a6_11ea_8d25_a4bb6dafa070row13_col0\" class=\"data row13 col0\" >SN, CALLE MANUEL SANTIBÁÑEZ, ORIZABA, Orizaba, Veracruz de Ignacio de la Llave</td>\n",
       "                        <td id=\"T_c30eb310_f9a6_11ea_8d25_a4bb6dafa070row13_col1\" class=\"data row13 col1\" >MX</td>\n",
       "                        <td id=\"T_c30eb310_f9a6_11ea_8d25_a4bb6dafa070row13_col2\" class=\"data row13 col2\" >1.000000</td>\n",
       "            </tr>\n",
       "            <tr>\n",
       "                                <td id=\"T_c30eb310_f9a6_11ea_8d25_a4bb6dafa070row14_col0\" class=\"data row14 col0\" >Null, Njela, Port St Johns</td>\n",
       "                        <td id=\"T_c30eb310_f9a6_11ea_8d25_a4bb6dafa070row14_col1\" class=\"data row14 col1\" >ZA</td>\n",
       "                        <td id=\"T_c30eb310_f9a6_11ea_8d25_a4bb6dafa070row14_col2\" class=\"data row14 col2\" >1.000000</td>\n",
       "            </tr>\n",
       "    </tbody></table>"
      ],
      "text/plain": [
       "<pandas.io.formats.style.Styler at 0x19db0612c50>"
      ]
     },
     "execution_count": 22,
     "metadata": {},
     "output_type": "execute_result"
    }
   ],
   "source": [
    "text_list = data._train_df.sample(15).Address.values\n",
    "result = model.predict(text_list)\n",
    "\n",
    "df = pd.DataFrame(result, columns=[\"Address\", \"CountryCode\", \"Confidence\"])\n",
    "\n",
    "df.style.set_table_styles([dict(selector='th', props=[('text-align', 'left')])])\\\n",
    "        .set_properties(**{'text-align': \"left\"}).hide_index()"
   ]
  },
  {
   "cell_type": "markdown",
   "metadata": {},
   "source": [
    "# Conclusion"
   ]
  },
  {
   "cell_type": "markdown",
   "metadata": {},
   "source": [
    "In this notebook we will build a classifier using `TextClassifier` class of `arcgis.learn.text` module. The dataset consisted of house addresses of 10 countries written in languages like English, Japanese, French, Spanish etc. To achieve this we used a [multi-lingual transformer backbone](https://huggingface.co/transformers/v3.0.2/multilingual.html) to build a classifier to predict the country for an input house address. "
   ]
  },
  {
   "cell_type": "markdown",
   "metadata": {},
   "source": [
    "# References"
   ]
  },
  {
   "cell_type": "markdown",
   "metadata": {},
   "source": [
    "[1] [Learning Rate](https://en.wikipedia.org/wiki/Learning_rate)\n",
    "\n",
    "[2] [Accuracy](https://en.wikipedia.org/wiki/Accuracy_and_precision)\n",
    "\n",
    "[3] [Precision, recall and F-measures](https://scikit-learn.org/stable/modules/model_evaluation.html#precision-recall-and-f-measures)"
   ]
  }
 ],
 "metadata": {
  "kernelspec": {
   "display_name": "Python 3",
   "language": "python",
   "name": "python3"
  },
  "language_info": {
   "codemirror_mode": {
    "name": "ipython",
    "version": 3
   },
   "file_extension": ".py",
   "mimetype": "text/x-python",
   "name": "python",
   "nbconvert_exporter": "python",
   "pygments_lexer": "ipython3",
   "version": "3.6.10"
  }
 },
 "nbformat": 4,
 "nbformat_minor": 4
}
