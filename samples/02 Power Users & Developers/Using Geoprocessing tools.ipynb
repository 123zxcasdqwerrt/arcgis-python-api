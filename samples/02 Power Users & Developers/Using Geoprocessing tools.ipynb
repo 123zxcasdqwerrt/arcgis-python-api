{
 "cells": [
  {
   "cell_type": "markdown",
   "metadata": {},
   "source": [
    "# Using Geoprocessing tools\n",
    "\n",
    "This sample notebooks shows how geoprocessing tools can be used in an analysis. The analysis below uses a geoprocessing tool to  deduce the path that the debris of a crashed airplane would take if it went down at different places in the ocean. It should be noted that this tool is for the purpose of demonstrating GIS functionality and the results should not be treated as authorotative. It is using a sample tool is for demonstration of GIS functionality only and excludes wind or atmospheric conditions, which are critical for a real-world analysis."
   ]
  },
  {
   "cell_type": "code",
   "execution_count": 1,
   "metadata": {
    "collapsed": true
   },
   "outputs": [],
   "source": [
    "from arcgis.gis import GIS"
   ]
  },
  {
   "cell_type": "code",
   "execution_count": 2,
   "metadata": {
    "collapsed": false
   },
   "outputs": [],
   "source": [
    "gis = GIS()\n",
    "map = gis.map()\n",
    "map"
   ]
  },
  {
   "cell_type": "markdown",
   "metadata": {},
   "source": [
    "There have been speculations that the unfortunate disappearance of MH370 is tied to Diego Garcia, in addition to the search location in southern Indian Ocean west of Australia. The code below plots the locations of these in the map:"
   ]
  },
  {
   "cell_type": "code",
   "execution_count": 3,
   "metadata": {
    "collapsed": false
   },
   "outputs": [],
   "source": [
    "diegogarcia = gis.tools.geocoder.find_best_match(\"Diego Garcia\")\n",
    "map.center = diegogarcia"
   ]
  },
  {
   "cell_type": "code",
   "execution_count": 4,
   "metadata": {
    "collapsed": false
   },
   "outputs": [],
   "source": [
    "map.draw(gis.tools.geocoder.find_best_match(\"La Reunion\"), {\"title\": \"Reunion Island\", \"content\": \"Debris found\"})\n",
    "map.draw(diegogarcia, {\"title\": \"Diego Garcia\", \"content\": \"Naval Support Facility Diego Garcia\"})\n",
    "map.draw([-43.5, 90.5], {\"title\":\"Search Location\", \"content\":\"Predicted crash location\"})\n",
    "\n",
    "#Source: http://www.amsa.gov.au/media/incidents/images/DIGO_00718_01_14.jpg\n",
    "map.add_layer({\"type\":\"FeatureLayer\", \"url\" : \"http://services.arcgis.com/WQ9KVmV6xGGMnCiQ/arcgis/rest/services/MH370Search/FeatureServer/1\"})"
   ]
  },
  {
   "cell_type": "markdown",
   "metadata": {},
   "source": [
    "We can search ArcGIS Online for content related to the missing airliner, and bring in layers that we want to use for our analysis and visualization:"
   ]
  },
  {
   "cell_type": "code",
   "execution_count": 5,
   "metadata": {
    "collapsed": false
   },
   "outputs": [
    {
     "data": {
      "text/html": [
       "<div class=\"item_container\" style=\"height: auto; overflow: hidden; border: 1px solid #cfcfcf; border-radius: 2px; background: #f6fafa; line-height: 1.21429em; padding: 10px;\">\n",
       "                    <div class=\"item_left\" style=\"width: 210px; float: left;\">\n",
       "                       <a href='http://www.arcgis.com/home/item.html?id=86a1b6e71af74979ba38095543d48f07' target='_blank'>\n",
       "                        <img src='http://www.arcgis.com/sharing/rest/content/items/86a1b6e71af74979ba38095543d48f07/info/thumbnail/thumbnail.png' class=\"itemThumbnail\">\n",
       "                       </a>\n",
       "                    </div>\n",
       "        \n",
       "                    <div class=\"item_right\"     style=\"float: none; width: auto; overflow: hidden;\">\n",
       "                        <a href='http://www.arcgis.com/home/item.html?id=86a1b6e71af74979ba38095543d48f07' target='_blank'><b>MH370_Flight_Path</b>\n",
       "                        </a>\n",
       "                        <br>MH370 Flight Path<img src='http://www.arcgis.com/home/js/jsapi/esri/css/images/item_type_icons/featureshosted16.png' style=\"vertical-align:middle;\">Feature Service by bflanagan_bureau\n",
       "                        <br>Last Modified: February 25, 2015\n",
       "                        <br>0 comments, 21,969 views\n",
       "                    </div>\n",
       "                </div>\n",
       "                "
      ],
      "text/plain": [
       "<Item title:\"MH370_Flight_Path\" type:Feature Service owner:bflanagan_bureau>"
      ]
     },
     "metadata": {},
     "output_type": "display_data"
    },
    {
     "data": {
      "text/html": [
       "<div class=\"item_container\" style=\"height: auto; overflow: hidden; border: 1px solid #cfcfcf; border-radius: 2px; background: #f6fafa; line-height: 1.21429em; padding: 10px;\">\n",
       "                    <div class=\"item_left\" style=\"width: 210px; float: left;\">\n",
       "                       <a href='http://www.arcgis.com/home/item.html?id=cad4c67f0139406fb9c8d3ee8581fd1d' target='_blank'>\n",
       "                        <img src='http://www.arcgis.com/sharing/rest/content/items/cad4c67f0139406fb9c8d3ee8581fd1d/info/thumbnail/thumbnail.png' class=\"itemThumbnail\">\n",
       "                       </a>\n",
       "                    </div>\n",
       "        \n",
       "                    <div class=\"item_right\"     style=\"float: none; width: auto; overflow: hidden;\">\n",
       "                        <a href='http://www.arcgis.com/home/item.html?id=cad4c67f0139406fb9c8d3ee8581fd1d' target='_blank'><b>Arc</b>\n",
       "                        </a>\n",
       "                        <br>Lastknownlocationarc<img src='http://www.arcgis.com/home/js/jsapi/esri/css/images/item_type_icons/featureshosted16.png' style=\"vertical-align:middle;\">Feature Service by bflanagan_bureau\n",
       "                        <br>Last Modified: March 02, 2015\n",
       "                        <br>0 comments, 13,437 views\n",
       "                    </div>\n",
       "                </div>\n",
       "                "
      ],
      "text/plain": [
       "<Item title:\"Arc\" type:Feature Service owner:bflanagan_bureau>"
      ]
     },
     "metadata": {},
     "output_type": "display_data"
    },
    {
     "data": {
      "text/html": [
       "<div class=\"item_container\" style=\"height: auto; overflow: hidden; border: 1px solid #cfcfcf; border-radius: 2px; background: #f6fafa; line-height: 1.21429em; padding: 10px;\">\n",
       "                    <div class=\"item_left\" style=\"width: 210px; float: left;\">\n",
       "                       <a href='http://www.arcgis.com/home/item.html?id=aab7322704084ae1abe1a3d591a8bf72' target='_blank'>\n",
       "                        <img src='http://www.arcgis.com/sharing/rest/content/items/aab7322704084ae1abe1a3d591a8bf72/info/thumbnail/thumbnail.png' class=\"itemThumbnail\">\n",
       "                       </a>\n",
       "                    </div>\n",
       "        \n",
       "                    <div class=\"item_right\"     style=\"float: none; width: auto; overflow: hidden;\">\n",
       "                        <a href='http://www.arcgis.com/home/item.html?id=aab7322704084ae1abe1a3d591a8bf72' target='_blank'><b>MH370Search</b>\n",
       "                        </a>\n",
       "                        <br>MH370Search<img src='http://www.arcgis.com/home/js/jsapi/esri/css/images/item_type_icons/featureshosted16.png' style=\"vertical-align:middle;\">Feature Service by bflanagan_bureau\n",
       "                        <br>Last Modified: March 02, 2015\n",
       "                        <br>0 comments, 7,505 views\n",
       "                    </div>\n",
       "                </div>\n",
       "                "
      ],
      "text/plain": [
       "<Item title:\"MH370Search\" type:Feature Service owner:bflanagan_bureau>"
      ]
     },
     "metadata": {},
     "output_type": "display_data"
    },
    {
     "data": {
      "text/html": [
       "<div class=\"item_container\" style=\"height: auto; overflow: hidden; border: 1px solid #cfcfcf; border-radius: 2px; background: #f6fafa; line-height: 1.21429em; padding: 10px;\">\n",
       "                    <div class=\"item_left\" style=\"width: 210px; float: left;\">\n",
       "                       <a href='http://www.arcgis.com/home/item.html?id=6867dcf7b4214fcfa78e846f4b666a53' target='_blank'>\n",
       "                        <img src='http://www.arcgis.com/sharing/rest/content/items/6867dcf7b4214fcfa78e846f4b666a53/info/thumbnail/ago_downloaded.png' class=\"itemThumbnail\">\n",
       "                       </a>\n",
       "                    </div>\n",
       "        \n",
       "                    <div class=\"item_right\"     style=\"float: none; width: auto; overflow: hidden;\">\n",
       "                        <a href='http://www.arcgis.com/home/item.html?id=6867dcf7b4214fcfa78e846f4b666a53' target='_blank'><b>ActualFlightRoute</b>\n",
       "                        </a>\n",
       "                        <br><img src='http://www.arcgis.com/home/js/jsapi/esri/css/images/item_type_icons/featureshosted16.png' style=\"vertical-align:middle;\">Feature Service by bflanagan_bureau\n",
       "                        <br>Last Modified: February 26, 2015\n",
       "                        <br>0 comments, 4,545 views\n",
       "                    </div>\n",
       "                </div>\n",
       "                "
      ],
      "text/plain": [
       "<Item title:\"ActualFlightRoute\" type:Feature Service owner:bflanagan_bureau>"
      ]
     },
     "metadata": {},
     "output_type": "display_data"
    },
    {
     "data": {
      "text/html": [
       "<div class=\"item_container\" style=\"height: auto; overflow: hidden; border: 1px solid #cfcfcf; border-radius: 2px; background: #f6fafa; line-height: 1.21429em; padding: 10px;\">\n",
       "                    <div class=\"item_left\" style=\"width: 210px; float: left;\">\n",
       "                       <a href='http://www.arcgis.com/home/item.html?id=7615f1a27fd2410d9452762f94582ff7' target='_blank'>\n",
       "                        <img src='http://www.arcgis.com/sharing/rest/content/items/7615f1a27fd2410d9452762f94582ff7/info/thumbnail/thumbnail.png' class=\"itemThumbnail\">\n",
       "                       </a>\n",
       "                    </div>\n",
       "        \n",
       "                    <div class=\"item_right\"     style=\"float: none; width: auto; overflow: hidden;\">\n",
       "                        <a href='http://www.arcgis.com/home/item.html?id=7615f1a27fd2410d9452762f94582ff7' target='_blank'><b>SatelliteLocation</b>\n",
       "                        </a>\n",
       "                        <br>SatelliteLocation<img src='http://www.arcgis.com/home/js/jsapi/esri/css/images/item_type_icons/featureshosted16.png' style=\"vertical-align:middle;\">Feature Service by bflanagan_bureau\n",
       "                        <br>Last Modified: February 26, 2015\n",
       "                        <br>0 comments, 4,495 views\n",
       "                    </div>\n",
       "                </div>\n",
       "                "
      ],
      "text/plain": [
       "<Item title:\"SatelliteLocation\" type:Feature Service owner:bflanagan_bureau>"
      ]
     },
     "metadata": {},
     "output_type": "display_data"
    },
    {
     "data": {
      "text/html": [
       "<div class=\"item_container\" style=\"height: auto; overflow: hidden; border: 1px solid #cfcfcf; border-radius: 2px; background: #f6fafa; line-height: 1.21429em; padding: 10px;\">\n",
       "                    <div class=\"item_left\" style=\"width: 210px; float: left;\">\n",
       "                       <a href='http://www.arcgis.com/home/item.html?id=599726f0009a4dd38c06abf036b663c7' target='_blank'>\n",
       "                        <img src='http://www.arcgis.com/sharing/rest/content/items/599726f0009a4dd38c06abf036b663c7/info/thumbnail/ago_downloaded.png' class=\"itemThumbnail\">\n",
       "                       </a>\n",
       "                    </div>\n",
       "        \n",
       "                    <div class=\"item_right\"     style=\"float: none; width: auto; overflow: hidden;\">\n",
       "                        <a href='http://www.arcgis.com/home/item.html?id=599726f0009a4dd38c06abf036b663c7' target='_blank'><b>mh370debris</b>\n",
       "                        </a>\n",
       "                        <br>mh370 imagery debris<img src='http://www.arcgis.com/home/js/jsapi/esri/css/images/item_type_icons/featureshosted16.png' style=\"vertical-align:middle;\">Feature Service by bflanagan_bureau\n",
       "                        <br>Last Modified: March 02, 2015\n",
       "                        <br>0 comments, 2,880 views\n",
       "                    </div>\n",
       "                </div>\n",
       "                "
      ],
      "text/plain": [
       "<Item title:\"mh370debris\" type:Feature Service owner:bflanagan_bureau>"
      ]
     },
     "metadata": {},
     "output_type": "display_data"
    }
   ],
   "source": [
    "from IPython.display import display\n",
    "\n",
    "mh370items = gis.content.search(\"MH370\", \"feature service\", max_items=6)\n",
    "for item in mh370items:\n",
    "    display(item)"
   ]
  },
  {
   "cell_type": "markdown",
   "metadata": {},
   "source": [
    "Let's add the layers that we want to use for our analysis to the map:"
   ]
  },
  {
   "cell_type": "code",
   "execution_count": 6,
   "metadata": {
    "collapsed": false
   },
   "outputs": [],
   "source": [
    "map.add_layer(mh370items[0])\n",
    "map.add_layer(mh370items[4])\n",
    "map.add_layer(mh370items[5])"
   ]
  },
  {
   "cell_type": "code",
   "execution_count": 7,
   "metadata": {
    "collapsed": false
   },
   "outputs": [],
   "source": [
    "map.zoom = 6"
   ]
  },
  {
   "cell_type": "markdown",
   "metadata": {},
   "source": [
    "# Using geoprocessing tool\n",
    "\n",
    "We search ArcGIS Online for the Ocean Currents geoprocessing tool that calculates the path of an unpowered vessel drifiting in ocean currents from a user defined point. This tool is for demonstration of GIS functionality only and excludes wind or atmospheric conditions, which are critical for a real-world analysis:"
   ]
  },
  {
   "cell_type": "code",
   "execution_count": 8,
   "metadata": {
    "collapsed": false
   },
   "outputs": [
    {
     "data": {
      "text/html": [
       "<div class=\"item_container\" style=\"height: auto; overflow: hidden; border: 1px solid #cfcfcf; border-radius: 2px; background: #f6fafa; line-height: 1.21429em; padding: 10px;\">\n",
       "                    <div class=\"item_left\" style=\"width: 210px; float: left;\">\n",
       "                       <a href='http://www.arcgis.com/home/item.html?id=383c2039b89d43baa0010c3bf243b144' target='_blank'>\n",
       "                        <img src='http://www.arcgis.com/sharing/rest/content/items/383c2039b89d43baa0010c3bf243b144/info/thumbnail/Ocean_Currents.png' class=\"itemThumbnail\">\n",
       "                       </a>\n",
       "                    </div>\n",
       "        \n",
       "                    <div class=\"item_right\"     style=\"float: none; width: auto; overflow: hidden;\">\n",
       "                        <a href='http://www.arcgis.com/home/item.html?id=383c2039b89d43baa0010c3bf243b144' target='_blank'><b>Ocean Currents</b>\n",
       "                        </a>\n",
       "                        <br>Calculates the path of an unpowered vessel drifiting in ocean currents from a user defined point. Excludes wind or atmospheric conditions.<img src='http://www.arcgis.com/home/js/jsapi/esri/css/images/item_type_icons/layers16.png' style=\"vertical-align:middle;\">Geoprocessing Service by esri_apac\n",
       "                        <br>Last Modified: August 25, 2014\n",
       "                        <br>0 comments, 152 views\n",
       "                    </div>\n",
       "                </div>\n",
       "                "
      ],
      "text/plain": [
       "<Item title:\"Ocean Currents\" type:Geoprocessing Service owner:esri_apac>"
      ]
     },
     "metadata": {},
     "output_type": "display_data"
    }
   ],
   "source": [
    "gpsvcs = gis.content.search(\"Ocean Currents\", \"geoprocessing service\", max_items=1)\n",
    "for gpsvc in gpsvcs:\n",
    "    display(gpsvc)"
   ]
  },
  {
   "cell_type": "code",
   "execution_count": 9,
   "metadata": {
    "collapsed": false
   },
   "outputs": [
    {
     "name": "stdout",
     "output_type": "stream",
     "text": [
      "URL: http://sampleserver1.arcgisonline.com/ArcGIS/rest/Services/Specialty/ESRI_Currents_World/GPServer\n",
      "Task: MessageInABottle\n",
      "Input_Point : GPFeatureRecordSetLayer\n",
      "Days : GPDouble\n"
     ]
    }
   ],
   "source": [
    "from arcgis.tools import GeoprocessingTool\n",
    "\n",
    "gptool = GeoprocessingTool(gpsvcs[0])"
   ]
  },
  {
   "cell_type": "markdown",
   "metadata": {},
   "source": [
    "When we click the map, we want to invoke the geoprocessing tool and pass in the clicked location. We can do this by adding an event listener to the map using map.on_click() that calls the tool with the clicked location. The ArcGIS Python API dynamically adds methods (in this case, the message_in_a_bottle method) based on the tool that is contructed. The method is added with documentation strings that can be queried in the notebook using intellisense.\n",
    "\n",
    "This tool would return the paths that debris would take if the plane went down at that path, which we draw on the map using map.draw() in the code below:"
   ]
  },
  {
   "cell_type": "code",
   "execution_count": 10,
   "metadata": {
    "collapsed": true
   },
   "outputs": [],
   "source": [
    "def do_analysis(m, g):\n",
    "    ret = gptool.message_in_a_bottle(g, 150)\n",
    "    for geom in ret:\n",
    "        map.draw(geom)\n",
    "\n",
    "map.on_click(do_analysis)"
   ]
  },
  {
   "cell_type": "markdown",
   "metadata": {
    "collapsed": true
   },
   "source": [
    "Click around on the map, near Diego Garcia as well as the search location to find the paths the debris could have taken and if could it have reached La Reunion if the plane indeed went down in these locations."
   ]
  }
 ],
 "metadata": {
  "kernelspec": {
   "display_name": "Python 3",
   "language": "python",
   "name": "python3"
  },
  "language_info": {
   "codemirror_mode": {
    "name": "ipython",
    "version": 3
   },
   "file_extension": ".py",
   "mimetype": "text/x-python",
   "name": "python",
   "nbconvert_exporter": "python",
   "pygments_lexer": "ipython3",
   "version": "3.5.1"
  },
  "widgets": {
   "state": {},
   "version": "1.1.2"
  }
 },
 "nbformat": 4,
 "nbformat_minor": 0
}
