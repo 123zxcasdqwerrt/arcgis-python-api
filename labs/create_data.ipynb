{
 "cells": [
  {
   "cell_type": "code",
   "execution_count": null,
   "metadata": {
    "collapsed": true
   },
   "outputs": [],
   "source": [
    "import getpass\n",
    "from arcgis.gis import *\n",
    "\n",
    "password = getpass.getpass(\"Please enter password: \")\n",
    "dev_gis = GIS('https://www.arcgis.com', 'johnnyDev', password)\n",
    "print(\"Successfully logged in to {} as {}\".format(dev_gis.properties.urlKey + '.' + dev_gis.properties.customBaseUrl,\n",
    "                                                 dev_gis.users.me.username))"
   ]
  },
  {
   "cell_type": "code",
   "execution_count": null,
   "metadata": {
    "collapsed": true
   },
   "outputs": [],
   "source": [
    "flyr_search_results = dev_gis.content.search(query=\"\"\"title: \"Griffith*\" AND \n",
    "                                         type: \"Feature Service\" \"\"\", \n",
    "                                         max_items=10)\n",
    "flyr_search_results"
   ]
  },
  {
   "cell_type": "code",
   "execution_count": null,
   "metadata": {
    "collapsed": true
   },
   "outputs": [],
   "source": [
    "flyr_collection_item = flyr_search_results[0]\n",
    "flayers = flyr_collection_item.layers\n",
    "flayer = flayers[0]\n",
    "flayer.properties.name"
   ]
  },
  {
   "cell_type": "code",
   "execution_count": null,
   "metadata": {
    "collapsed": true
   },
   "outputs": [],
   "source": [
    "from arcgis import geometry\n",
    "from arcgis import features\n",
    "\n",
    "def create_feature(map1, g):\n",
    "    try:\n",
    "        oid = 1\n",
    "        pt = geometry.Point(g)\n",
    "        feat = features.Feature(geometry=pt, attributes={'OBJECTID': oid})\n",
    "        flayer.edit_features(adds=[feat])\n",
    "        print(str(g))\n",
    "        map1.draw(g)\n",
    "        oid += 1\n",
    "    except:\n",
    "        print(\"Couldn't create the feature. Try again, please...\")"
   ]
  },
  {
   "cell_type": "code",
   "execution_count": null,
   "metadata": {
    "collapsed": true
   },
   "outputs": [],
   "source": [
    "map1 = dev_gis.map('Los Angeles', 10)\n",
    "map1"
   ]
  },
  {
   "cell_type": "code",
   "execution_count": null,
   "metadata": {
    "collapsed": true
   },
   "outputs": [],
   "source": [
    "map1.on_click(create_feature)"
   ]
  },
  {
   "cell_type": "code",
   "execution_count": null,
   "metadata": {
    "collapsed": true
   },
   "outputs": [],
   "source": [
    "map1.clear_graphics()"
   ]
  },
  {
   "cell_type": "code",
   "execution_count": null,
   "metadata": {
    "collapsed": true
   },
   "outputs": [],
   "source": [
    "map1.add_layer(flayer)"
   ]
  }
 ],
 "metadata": {
  "anaconda-cloud": {},
  "kernelspec": {
   "display_name": "Python [default]",
   "language": "python",
   "name": "python3"
  },
  "language_info": {
   "codemirror_mode": {
    "name": "ipython",
    "version": 3
   },
   "file_extension": ".py",
   "mimetype": "text/x-python",
   "name": "python",
   "nbconvert_exporter": "python",
   "pygments_lexer": "ipython3",
   "version": "3.5.3"
  }
 },
 "nbformat": 4,
 "nbformat_minor": 2
}
