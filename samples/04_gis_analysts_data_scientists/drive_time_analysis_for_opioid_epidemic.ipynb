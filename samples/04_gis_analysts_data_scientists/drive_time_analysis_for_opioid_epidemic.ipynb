{
 "cells": [
  {
   "cell_type": "markdown",
   "metadata": {},
   "source": [
    "# Drive time analysis for opioid epidemic"
   ]
  },
  {
   "cell_type": "markdown",
   "metadata": {},
   "source": [
    "This notebook performs drive time analysis for clinics of opioid epidemic treatment/prevention/both in the county of Oakland, Michigan. "
   ]
  },
  {
   "cell_type": "markdown",
   "metadata": {},
   "source": [
    "### 1. Reading in clinics and Oakland county census block group (CBG) boundaries"
   ]
  },
  {
   "cell_type": "code",
   "execution_count": 31,
   "metadata": {},
   "outputs": [],
   "source": [
    "import arcgis\n",
    "from datetime import datetime\n",
    "from arcgis.features import FeatureLayer"
   ]
  },
  {
   "cell_type": "code",
   "execution_count": 9,
   "metadata": {},
   "outputs": [],
   "source": [
    "# Layer URLS for the Opioid Epidemic Clinics in Oakland County and Census Block Groups of Oakland County\n",
    "clinic_url = 'https://services8.arcgis.com/TWfU0bgvgUkCgHLa/arcgis/rest/services/Oakland_County_Licensed_Program_Listings/FeatureServer/0/'\n",
    "oakland_cbg = 'https://services.arcgis.com/bkrWlSKcjUDFDtgw/arcgis/rest/services/Oakland_2010_census_bg/FeatureServer/0/'\n",
    "\n",
    "# create feature layers\n",
    "clinic_layer = FeatureLayer(clinic_url)\n",
    "oakland_layer = FeatureLayer(oakland_cbg)"
   ]
  },
  {
   "cell_type": "code",
   "execution_count": 10,
   "metadata": {},
   "outputs": [
    {
     "name": "stdout",
     "output_type": "stream",
     "text": [
      "Total number of rows in the clinic dataset: \n",
      "122\n",
      "Total number of rows in the oakland dataset: \n",
      "934\n"
     ]
    }
   ],
   "source": [
    "# Query all clinics and census block groups as FeatureSets\n",
    "clinic_features = clinic_layer.query()\n",
    "print('Total number of rows in the clinic dataset: ')\n",
    "print(len(clinic_features.features))\n",
    "\n",
    "oakland_features = oakland_layer.query()\n",
    "print('Total number of rows in the oakland dataset: ')\n",
    "print(len(oakland_features.features))"
   ]
  },
  {
   "cell_type": "code",
   "execution_count": 11,
   "metadata": {},
   "outputs": [
    {
     "data": {
      "text/html": [
       "<div>\n",
       "<style scoped>\n",
       "    .dataframe tbody tr th:only-of-type {\n",
       "        vertical-align: middle;\n",
       "    }\n",
       "\n",
       "    .dataframe tbody tr th {\n",
       "        vertical-align: top;\n",
       "    }\n",
       "\n",
       "    .dataframe thead th {\n",
       "        text-align: right;\n",
       "    }\n",
       "</style>\n",
       "<table border=\"1\" class=\"dataframe\">\n",
       "  <thead>\n",
       "    <tr style=\"text-align: right;\">\n",
       "      <th></th>\n",
       "      <th>Address</th>\n",
       "      <th>City</th>\n",
       "      <th>Contact_Name</th>\n",
       "      <th>FID</th>\n",
       "      <th>Key_</th>\n",
       "      <th>LicenseNumber</th>\n",
       "      <th>Name</th>\n",
       "      <th>Phone_Number</th>\n",
       "      <th>SHAPE</th>\n",
       "      <th>State</th>\n",
       "      <th>Type</th>\n",
       "      <th>Zip</th>\n",
       "    </tr>\n",
       "  </thead>\n",
       "  <tbody>\n",
       "    <tr>\n",
       "      <th>0</th>\n",
       "      <td>989 University Dr., Ste. 108</td>\n",
       "      <td>Pontiac</td>\n",
       "      <td>Dr. Carmen Cardona, Program Director</td>\n",
       "      <td>1</td>\n",
       "      <td>Case Management; Integrated Treatment;  Outpa...</td>\n",
       "      <td># SA0631356</td>\n",
       "      <td>SUNRISE TREATMENT CENTER</td>\n",
       "      <td>248-481-2531</td>\n",
       "      <td>{\"x\": -9268869.4566, \"y\": 5259550.238600001, \"...</td>\n",
       "      <td>MI</td>\n",
       "      <td>Treatment</td>\n",
       "      <td>48342</td>\n",
       "    </tr>\n",
       "    <tr>\n",
       "      <th>1</th>\n",
       "      <td>4120 W. Maple Rd., Ste. 201</td>\n",
       "      <td>Bloomfield Hills</td>\n",
       "      <td>Stacy Gutowsky, Program Director</td>\n",
       "      <td>2</td>\n",
       "      <td>Alcohol Hwy Safety Education; Community Change...</td>\n",
       "      <td># SA0631330</td>\n",
       "      <td>EIP, INC. (Education Intervention Programs)</td>\n",
       "      <td>248-693-0336</td>\n",
       "      <td>{\"x\": -9271532.8795, \"y\": 5242995.079599999, \"...</td>\n",
       "      <td>MI</td>\n",
       "      <td>Prevention</td>\n",
       "      <td>48301</td>\n",
       "    </tr>\n",
       "    <tr>\n",
       "      <th>2</th>\n",
       "      <td>3283 Bloomfield Park Dr</td>\n",
       "      <td>West Bloomfield</td>\n",
       "      <td>Karen Fraiberg, Program Director</td>\n",
       "      <td>3</td>\n",
       "      <td>Case Management; Community Change, Alternative...</td>\n",
       "      <td># SA0631364</td>\n",
       "      <td>THE ART OF HOPE, HEALING &amp; HAPPINESS</td>\n",
       "      <td>248-229-4717</td>\n",
       "      <td>{\"x\": -9278211.6833, \"y\": 5246510.740000002, \"...</td>\n",
       "      <td>MI</td>\n",
       "      <td>Both</td>\n",
       "      <td>48323</td>\n",
       "    </tr>\n",
       "    <tr>\n",
       "      <th>3</th>\n",
       "      <td>2710 W. 12 Mile Rd.</td>\n",
       "      <td>Berkley</td>\n",
       "      <td>Kathy Smaller, Program Director</td>\n",
       "      <td>4</td>\n",
       "      <td>Case Management; Early Intervention; Integrate...</td>\n",
       "      <td># SA0631165</td>\n",
       "      <td>RECOVERY CONSULTANTS, INC.</td>\n",
       "      <td>248-543-1090</td>\n",
       "      <td>{\"x\": -9260261.7618, \"y\": 5236694.745800003, \"...</td>\n",
       "      <td>MI</td>\n",
       "      <td>Treatment</td>\n",
       "      <td>48072</td>\n",
       "    </tr>\n",
       "    <tr>\n",
       "      <th>4</th>\n",
       "      <td>3139 W. Huron St. Waterford, MI 48328</td>\n",
       "      <td>Waterford</td>\n",
       "      <td>Kathy Smaller, Program Director</td>\n",
       "      <td>5</td>\n",
       "      <td>Case Management; Early Intervention; Integrate...</td>\n",
       "      <td># SA0631166</td>\n",
       "      <td>RECOVERY CONSULTANTS, INC.</td>\n",
       "      <td>248-738-8400</td>\n",
       "      <td>{\"x\": -9278492.0901, \"y\": 5256952.089100003, \"...</td>\n",
       "      <td>MI</td>\n",
       "      <td>Treatment</td>\n",
       "      <td>48328</td>\n",
       "    </tr>\n",
       "  </tbody>\n",
       "</table>\n",
       "</div>"
      ],
      "text/plain": [
       "                                 Address              City  \\\n",
       "0           989 University Dr., Ste. 108           Pontiac   \n",
       "1           4120 W. Maple Rd., Ste. 201   Bloomfield Hills   \n",
       "2                3283 Bloomfield Park Dr   West Bloomfield   \n",
       "3                    2710 W. 12 Mile Rd.           Berkley   \n",
       "4  3139 W. Huron St. Waterford, MI 48328         Waterford   \n",
       "\n",
       "                           Contact_Name  FID  \\\n",
       "0  Dr. Carmen Cardona, Program Director    1   \n",
       "1      Stacy Gutowsky, Program Director    2   \n",
       "2      Karen Fraiberg, Program Director    3   \n",
       "3       Kathy Smaller, Program Director    4   \n",
       "4       Kathy Smaller, Program Director    5   \n",
       "\n",
       "                                                Key_  \\\n",
       "0   Case Management; Integrated Treatment;  Outpa...   \n",
       "1  Alcohol Hwy Safety Education; Community Change...   \n",
       "2  Case Management; Community Change, Alternative...   \n",
       "3  Case Management; Early Intervention; Integrate...   \n",
       "4  Case Management; Early Intervention; Integrate...   \n",
       "\n",
       "                  LicenseNumber                                         Name  \\\n",
       "0    # SA0631356                                    SUNRISE TREATMENT CENTER   \n",
       "1    # SA0631330                 EIP, INC. (Education Intervention Programs)   \n",
       "2  # SA0631364                          THE ART OF HOPE, HEALING & HAPPINESS   \n",
       "3  # SA0631165                                    RECOVERY CONSULTANTS, INC.   \n",
       "4   # SA0631166                                   RECOVERY CONSULTANTS, INC.   \n",
       "\n",
       "   Phone_Number                                              SHAPE State  \\\n",
       "0  248-481-2531  {\"x\": -9268869.4566, \"y\": 5259550.238600001, \"...    MI   \n",
       "1  248-693-0336  {\"x\": -9271532.8795, \"y\": 5242995.079599999, \"...    MI   \n",
       "2  248-229-4717  {\"x\": -9278211.6833, \"y\": 5246510.740000002, \"...    MI   \n",
       "3  248-543-1090  {\"x\": -9260261.7618, \"y\": 5236694.745800003, \"...    MI   \n",
       "4  248-738-8400  {\"x\": -9278492.0901, \"y\": 5256952.089100003, \"...    MI   \n",
       "\n",
       "         Type    Zip  \n",
       "0   Treatment  48342  \n",
       "1  Prevention  48301  \n",
       "2        Both  48323  \n",
       "3   Treatment  48072  \n",
       "4   Treatment  48328  "
      ]
     },
     "execution_count": 11,
     "metadata": {},
     "output_type": "execute_result"
    }
   ],
   "source": [
    "# Convert to SpatialDataFrames\n",
    "clinic = clinic_features.sdf\n",
    "clinic.head()"
   ]
  },
  {
   "cell_type": "code",
   "execution_count": 12,
   "metadata": {},
   "outputs": [
    {
     "data": {
      "text/html": [
       "<div>\n",
       "<style scoped>\n",
       "    .dataframe tbody tr th:only-of-type {\n",
       "        vertical-align: middle;\n",
       "    }\n",
       "\n",
       "    .dataframe tbody tr th {\n",
       "        vertical-align: top;\n",
       "    }\n",
       "\n",
       "    .dataframe thead th {\n",
       "        text-align: right;\n",
       "    }\n",
       "</style>\n",
       "<table border=\"1\" class=\"dataframe\">\n",
       "  <thead>\n",
       "    <tr style=\"text-align: right;\">\n",
       "      <th></th>\n",
       "      <th>ACRES</th>\n",
       "      <th>CNTY_CODE</th>\n",
       "      <th>FID</th>\n",
       "      <th>LABEL</th>\n",
       "      <th>LAYOUT</th>\n",
       "      <th>LINK</th>\n",
       "      <th>NAME</th>\n",
       "      <th>PENINSULA</th>\n",
       "      <th>SHAPE</th>\n",
       "      <th>SQKM</th>\n",
       "      <th>SQMILES</th>\n",
       "      <th>Shape__Area</th>\n",
       "      <th>Shape__Length</th>\n",
       "      <th>TYPE</th>\n",
       "      <th>VER</th>\n",
       "    </tr>\n",
       "  </thead>\n",
       "  <tbody>\n",
       "    <tr>\n",
       "      <th>0</th>\n",
       "      <td>4075.858559</td>\n",
       "      <td>125</td>\n",
       "      <td>1</td>\n",
       "      <td>BG 1</td>\n",
       "      <td>portrait</td>\n",
       "      <td>1251200001</td>\n",
       "      <td>1200001</td>\n",
       "      <td>lower</td>\n",
       "      <td>{\"rings\": [[[-9250818.94177608, 5289778.006450...</td>\n",
       "      <td>16.494592</td>\n",
       "      <td>6.368568</td>\n",
       "      <td>3.073481e+07</td>\n",
       "      <td>22611.540412</td>\n",
       "      <td>BG</td>\n",
       "      <td>14a</td>\n",
       "    </tr>\n",
       "    <tr>\n",
       "      <th>1</th>\n",
       "      <td>8797.887541</td>\n",
       "      <td>125</td>\n",
       "      <td>2</td>\n",
       "      <td>BG 1</td>\n",
       "      <td>portrait</td>\n",
       "      <td>1251203001</td>\n",
       "      <td>1203001</td>\n",
       "      <td>lower</td>\n",
       "      <td>{\"rings\": [[[-9264026.53064651, 5290079.339554...</td>\n",
       "      <td>35.604171</td>\n",
       "      <td>13.746784</td>\n",
       "      <td>6.633129e+07</td>\n",
       "      <td>35417.658796</td>\n",
       "      <td>BG</td>\n",
       "      <td>14a</td>\n",
       "    </tr>\n",
       "    <tr>\n",
       "      <th>2</th>\n",
       "      <td>6693.987915</td>\n",
       "      <td>125</td>\n",
       "      <td>3</td>\n",
       "      <td>BG 1</td>\n",
       "      <td>landscape</td>\n",
       "      <td>1251210001</td>\n",
       "      <td>1210001</td>\n",
       "      <td>lower</td>\n",
       "      <td>{\"rings\": [[[-9270503.93750677, 5288614.193867...</td>\n",
       "      <td>27.089900</td>\n",
       "      <td>10.459421</td>\n",
       "      <td>5.047787e+07</td>\n",
       "      <td>29332.713639</td>\n",
       "      <td>BG</td>\n",
       "      <td>14a</td>\n",
       "    </tr>\n",
       "    <tr>\n",
       "      <th>3</th>\n",
       "      <td>5399.750207</td>\n",
       "      <td>125</td>\n",
       "      <td>4</td>\n",
       "      <td>BG 1</td>\n",
       "      <td>portrait</td>\n",
       "      <td>1251214001</td>\n",
       "      <td>1214001</td>\n",
       "      <td>lower</td>\n",
       "      <td>{\"rings\": [[[-9269511.1796278, 5286236.4642479...</td>\n",
       "      <td>21.852249</td>\n",
       "      <td>8.437162</td>\n",
       "      <td>4.070574e+07</td>\n",
       "      <td>29772.396132</td>\n",
       "      <td>BG</td>\n",
       "      <td>14a</td>\n",
       "    </tr>\n",
       "    <tr>\n",
       "      <th>4</th>\n",
       "      <td>3719.286317</td>\n",
       "      <td>125</td>\n",
       "      <td>5</td>\n",
       "      <td>BG 2</td>\n",
       "      <td>portrait</td>\n",
       "      <td>1251222002</td>\n",
       "      <td>1222002</td>\n",
       "      <td>lower</td>\n",
       "      <td>{\"rings\": [[[-9281344.03654134, 5290365.890503...</td>\n",
       "      <td>15.051580</td>\n",
       "      <td>5.811421</td>\n",
       "      <td>2.804448e+07</td>\n",
       "      <td>23245.466116</td>\n",
       "      <td>BG</td>\n",
       "      <td>14a</td>\n",
       "    </tr>\n",
       "  </tbody>\n",
       "</table>\n",
       "</div>"
      ],
      "text/plain": [
       "         ACRES CNTY_CODE  FID LABEL     LAYOUT        LINK     NAME PENINSULA  \\\n",
       "0  4075.858559       125    1  BG 1   portrait  1251200001  1200001     lower   \n",
       "1  8797.887541       125    2  BG 1   portrait  1251203001  1203001     lower   \n",
       "2  6693.987915       125    3  BG 1  landscape  1251210001  1210001     lower   \n",
       "3  5399.750207       125    4  BG 1   portrait  1251214001  1214001     lower   \n",
       "4  3719.286317       125    5  BG 2   portrait  1251222002  1222002     lower   \n",
       "\n",
       "                                               SHAPE       SQKM    SQMILES  \\\n",
       "0  {\"rings\": [[[-9250818.94177608, 5289778.006450...  16.494592   6.368568   \n",
       "1  {\"rings\": [[[-9264026.53064651, 5290079.339554...  35.604171  13.746784   \n",
       "2  {\"rings\": [[[-9270503.93750677, 5288614.193867...  27.089900  10.459421   \n",
       "3  {\"rings\": [[[-9269511.1796278, 5286236.4642479...  21.852249   8.437162   \n",
       "4  {\"rings\": [[[-9281344.03654134, 5290365.890503...  15.051580   5.811421   \n",
       "\n",
       "    Shape__Area  Shape__Length TYPE  VER  \n",
       "0  3.073481e+07   22611.540412   BG  14a  \n",
       "1  6.633129e+07   35417.658796   BG  14a  \n",
       "2  5.047787e+07   29332.713639   BG  14a  \n",
       "3  4.070574e+07   29772.396132   BG  14a  \n",
       "4  2.804448e+07   23245.466116   BG  14a  "
      ]
     },
     "execution_count": 12,
     "metadata": {},
     "output_type": "execute_result"
    }
   ],
   "source": [
    "oakland = oakland_features.sdf\n",
    "oakland.head()"
   ]
  },
  {
   "cell_type": "markdown",
   "metadata": {},
   "source": [
    "### 2. Drive time analysis"
   ]
  },
  {
   "cell_type": "code",
   "execution_count": 19,
   "metadata": {},
   "outputs": [],
   "source": [
    "# Connect to GIS\n",
    "from arcgis.gis import GIS\n",
    "gis = GIS(profile=\"your_online_profile\") "
   ]
  },
  {
   "cell_type": "markdown",
   "metadata": {},
   "source": [
    "Service areas around the clinics need to be generated twice for two different sets of drive time inputs:\n",
    "\n",
    "> 1. __`[5, 10, 15, 20, 25]`__ that is needed to get the drive time required from each CBG to the closest clinic\n",
    "> 2. __`[5]`__ that is needed purely for visualization purposes"
   ]
  },
  {
   "cell_type": "markdown",
   "metadata": {},
   "source": [
    "Service area generation for the [5, 10, 15, 20, 25] minutes layer"
   ]
  },
  {
   "cell_type": "code",
   "execution_count": 21,
   "metadata": {},
   "outputs": [],
   "source": [
    "# Generate service areas\n",
    "result = arcgis.features.use_proximity.create_drive_time_areas(clinic_url, [5, 10, 15, 20, 25], output_name=\"DriveTimeToClinics_All_2\"+str(datetime.now().microsecond), overlap_policy='Dissolve')"
   ]
  },
  {
   "cell_type": "code",
   "execution_count": 22,
   "metadata": {},
   "outputs": [
    {
     "data": {
      "text/plain": [
       "arcgis.gis.Item"
      ]
     },
     "execution_count": 22,
     "metadata": {},
     "output_type": "execute_result"
    }
   ],
   "source": [
    "# Check type of result\n",
    "type(result)"
   ]
  },
  {
   "cell_type": "code",
   "execution_count": 23,
   "metadata": {},
   "outputs": [
    {
     "data": {
      "text/plain": [
       "{'results': [{'itemId': '40bc31789f764184947dbb1da7675889',\n",
       "   'success': True,\n",
       "   'notSharedWith': []}]}"
      ]
     },
     "execution_count": 23,
     "metadata": {},
     "output_type": "execute_result"
    }
   ],
   "source": [
    "# Share results for public consumption\n",
    "result.share(everyone=True)"
   ]
  },
  {
   "cell_type": "code",
   "execution_count": 24,
   "metadata": {},
   "outputs": [
    {
     "name": "stdout",
     "output_type": "stream",
     "text": [
      "Total number of rows in the service area (upto 25 mins) dataset: \n",
      "5\n"
     ]
    }
   ],
   "source": [
    "# Convert it to a FeatureSet\n",
    "result_url = str(result.url)+'/0/'\n",
    "drive_times_all_layer = FeatureLayer(result_url)\n",
    "driveAll_features = drive_times_all_layer.query()\n",
    "print('Total number of rows in the service area (upto 25 mins) dataset: ')\n",
    "print(len(driveAll_features.features))"
   ]
  },
  {
   "cell_type": "code",
   "execution_count": 25,
   "metadata": {},
   "outputs": [
    {
     "data": {
      "text/html": [
       "<div>\n",
       "<style scoped>\n",
       "    .dataframe tbody tr th:only-of-type {\n",
       "        vertical-align: middle;\n",
       "    }\n",
       "\n",
       "    .dataframe tbody tr th {\n",
       "        vertical-align: top;\n",
       "    }\n",
       "\n",
       "    .dataframe thead th {\n",
       "        text-align: right;\n",
       "    }\n",
       "</style>\n",
       "<table border=\"1\" class=\"dataframe\">\n",
       "  <thead>\n",
       "    <tr style=\"text-align: right;\">\n",
       "      <th></th>\n",
       "      <th>AnalysisArea</th>\n",
       "      <th>FacilityOID</th>\n",
       "      <th>FromBreak</th>\n",
       "      <th>Name</th>\n",
       "      <th>OBJECTID</th>\n",
       "      <th>SHAPE</th>\n",
       "      <th>ToBreak</th>\n",
       "    </tr>\n",
       "  </thead>\n",
       "  <tbody>\n",
       "    <tr>\n",
       "      <th>0</th>\n",
       "      <td>508.239318</td>\n",
       "      <td>None</td>\n",
       "      <td>20</td>\n",
       "      <td>20 - 25</td>\n",
       "      <td>1</td>\n",
       "      <td>{\"rings\": [[[-9332991.0914, 5246110.1884], [-9...</td>\n",
       "      <td>25</td>\n",
       "    </tr>\n",
       "    <tr>\n",
       "      <th>1</th>\n",
       "      <td>452.186719</td>\n",
       "      <td>None</td>\n",
       "      <td>15</td>\n",
       "      <td>15 - 20</td>\n",
       "      <td>2</td>\n",
       "      <td>{\"rings\": [[[-9320991.3273, 5233355.6918], [-9...</td>\n",
       "      <td>20</td>\n",
       "    </tr>\n",
       "    <tr>\n",
       "      <th>2</th>\n",
       "      <td>426.955043</td>\n",
       "      <td>None</td>\n",
       "      <td>10</td>\n",
       "      <td>10 - 15</td>\n",
       "      <td>3</td>\n",
       "      <td>{\"rings\": [[[-9317466.3064, 5285772.2205], [-9...</td>\n",
       "      <td>15</td>\n",
       "    </tr>\n",
       "    <tr>\n",
       "      <th>3</th>\n",
       "      <td>392.647341</td>\n",
       "      <td>None</td>\n",
       "      <td>5</td>\n",
       "      <td>5 - 10</td>\n",
       "      <td>4</td>\n",
       "      <td>{\"rings\": [[[-9293641.3093, 5272963.9065], [-9...</td>\n",
       "      <td>10</td>\n",
       "    </tr>\n",
       "    <tr>\n",
       "      <th>4</th>\n",
       "      <td>345.389051</td>\n",
       "      <td>None</td>\n",
       "      <td>0</td>\n",
       "      <td>0 - 5</td>\n",
       "      <td>5</td>\n",
       "      <td>{\"rings\": [[[-9249366.647, 5243768.4208], [-92...</td>\n",
       "      <td>5</td>\n",
       "    </tr>\n",
       "  </tbody>\n",
       "</table>\n",
       "</div>"
      ],
      "text/plain": [
       "   AnalysisArea FacilityOID  FromBreak     Name  OBJECTID  \\\n",
       "0    508.239318        None         20  20 - 25         1   \n",
       "1    452.186719        None         15  15 - 20         2   \n",
       "2    426.955043        None         10  10 - 15         3   \n",
       "3    392.647341        None          5   5 - 10         4   \n",
       "4    345.389051        None          0    0 - 5         5   \n",
       "\n",
       "                                               SHAPE  ToBreak  \n",
       "0  {\"rings\": [[[-9332991.0914, 5246110.1884], [-9...       25  \n",
       "1  {\"rings\": [[[-9320991.3273, 5233355.6918], [-9...       20  \n",
       "2  {\"rings\": [[[-9317466.3064, 5285772.2205], [-9...       15  \n",
       "3  {\"rings\": [[[-9293641.3093, 5272963.9065], [-9...       10  \n",
       "4  {\"rings\": [[[-9249366.647, 5243768.4208], [-92...        5  "
      ]
     },
     "execution_count": 25,
     "metadata": {},
     "output_type": "execute_result"
    }
   ],
   "source": [
    "# Get results as a SpatialDataFrame\n",
    "driveAll = driveAll_features.sdf\n",
    "driveAll.head()"
   ]
  },
  {
   "cell_type": "markdown",
   "metadata": {},
   "source": [
    "#### Service area generation for the visible [5] minutes layer"
   ]
  },
  {
   "cell_type": "code",
   "execution_count": 27,
   "metadata": {},
   "outputs": [],
   "source": [
    "# Generate service areas\n",
    "visible_result = arcgis.features.use_proximity.create_drive_time_areas(clinic_url, [5], output_name=\"DriveTimeToClinics_5mins\"+str(datetime.now().microsecond), overlap_policy='Dissolve')"
   ]
  },
  {
   "cell_type": "code",
   "execution_count": 28,
   "metadata": {},
   "outputs": [
    {
     "data": {
      "text/plain": [
       "{'results': [{'itemId': '89166eeecc79414391f2e25078ffa835',\n",
       "   'success': True,\n",
       "   'notSharedWith': []}]}"
      ]
     },
     "execution_count": 28,
     "metadata": {},
     "output_type": "execute_result"
    }
   ],
   "source": [
    "# Grant 'visible_result' public access\n",
    "visible_result.share(everyone=True)"
   ]
  },
  {
   "cell_type": "code",
   "execution_count": 29,
   "metadata": {},
   "outputs": [
    {
     "data": {
      "text/plain": [
       "'https://services7.arcgis.com/JEwYeAy2cc8qOe3o/arcgis/rest/services/DriveTimeToClinics_5mins_2/FeatureServer/0'"
      ]
     },
     "execution_count": 29,
     "metadata": {},
     "output_type": "execute_result"
    }
   ],
   "source": [
    "# Generate the URL for this layer (later used for visualization)\n",
    "visible_result_url = str(visible_result.url)+'/0'\n",
    "visible_result_url"
   ]
  },
  {
   "cell_type": "markdown",
   "metadata": {},
   "source": [
    "### 3. Spatially join the `result_url` layer with `oakland_cbg` layer to obtain drive times for each census block group"
   ]
  },
  {
   "cell_type": "code",
   "execution_count": 32,
   "metadata": {},
   "outputs": [],
   "source": [
    "# Perform spatial join between CBG layer and the service areas created for all time durations\n",
    "cbg_with_driveTime = arcgis.features.analysis.join_features(oakland_cbg, result_url, spatial_relationship='Intersects', output_name='Oakland_CBG_allDriveTimes'+str(datetime.now().microsecond))"
   ]
  },
  {
   "cell_type": "code",
   "execution_count": 33,
   "metadata": {},
   "outputs": [
    {
     "data": {
      "text/plain": [
       "{'results': [{'itemId': '4a9bfa6798584c968c29f01a02f14db4',\n",
       "   'success': True,\n",
       "   'notSharedWith': []}]}"
      ]
     },
     "execution_count": 33,
     "metadata": {},
     "output_type": "execute_result"
    }
   ],
   "source": [
    "# Grant 'cbg_with_driveTime' public access\n",
    "cbg_with_driveTime.share(everyone=True)"
   ]
  },
  {
   "cell_type": "code",
   "execution_count": 34,
   "metadata": {},
   "outputs": [
    {
     "name": "stdout",
     "output_type": "stream",
     "text": [
      "Total number of rows in the drive time (upto 25 mins) dataset: \n",
      "934\n"
     ]
    }
   ],
   "source": [
    "# Converting it to a FeatureSet\n",
    "cbg_with_driveTime_url = str(cbg_with_driveTime.url)+'/0/'\n",
    "drive_times_cbg = FeatureLayer(cbg_with_driveTime_url)\n",
    "drive_times_features = drive_times_cbg.query()\n",
    "print('Total number of rows in the drive time (upto 25 mins) dataset: ')\n",
    "print(len(drive_times_features.features))"
   ]
  },
  {
   "cell_type": "code",
   "execution_count": 35,
   "metadata": {},
   "outputs": [
    {
     "data": {
      "text/html": [
       "<div>\n",
       "<style scoped>\n",
       "    .dataframe tbody tr th:only-of-type {\n",
       "        vertical-align: middle;\n",
       "    }\n",
       "\n",
       "    .dataframe tbody tr th {\n",
       "        vertical-align: top;\n",
       "    }\n",
       "\n",
       "    .dataframe thead th {\n",
       "        text-align: right;\n",
       "    }\n",
       "</style>\n",
       "<table border=\"1\" class=\"dataframe\">\n",
       "  <thead>\n",
       "    <tr style=\"text-align: right;\">\n",
       "      <th></th>\n",
       "      <th>ACRES</th>\n",
       "      <th>AnalysisArea</th>\n",
       "      <th>CNTY_CODE</th>\n",
       "      <th>FacilityOID</th>\n",
       "      <th>FromBreak</th>\n",
       "      <th>Join_Count</th>\n",
       "      <th>LABEL</th>\n",
       "      <th>LAYOUT</th>\n",
       "      <th>LINK</th>\n",
       "      <th>NAME</th>\n",
       "      <th>...</th>\n",
       "      <th>OBJECTID</th>\n",
       "      <th>PENINSULA</th>\n",
       "      <th>SHAPE</th>\n",
       "      <th>SQKM</th>\n",
       "      <th>SQMILES</th>\n",
       "      <th>Shape__Area</th>\n",
       "      <th>Shape__Length</th>\n",
       "      <th>TYPE</th>\n",
       "      <th>ToBreak</th>\n",
       "      <th>VER</th>\n",
       "    </tr>\n",
       "  </thead>\n",
       "  <tbody>\n",
       "    <tr>\n",
       "      <th>0</th>\n",
       "      <td>4075.858559</td>\n",
       "      <td>508.239318</td>\n",
       "      <td>125</td>\n",
       "      <td>None</td>\n",
       "      <td>20</td>\n",
       "      <td>2</td>\n",
       "      <td>BG 1</td>\n",
       "      <td>portrait</td>\n",
       "      <td>1251200001</td>\n",
       "      <td>1200001</td>\n",
       "      <td>...</td>\n",
       "      <td>1</td>\n",
       "      <td>lower</td>\n",
       "      <td>{\"rings\": [[[-9250818.9418, 5289778.0065], [-9...</td>\n",
       "      <td>16.494592</td>\n",
       "      <td>6.368568</td>\n",
       "      <td>3.073481e+07</td>\n",
       "      <td>22611.540412</td>\n",
       "      <td>BG</td>\n",
       "      <td>25</td>\n",
       "      <td>14a</td>\n",
       "    </tr>\n",
       "    <tr>\n",
       "      <th>1</th>\n",
       "      <td>8797.887541</td>\n",
       "      <td>508.239318</td>\n",
       "      <td>125</td>\n",
       "      <td>None</td>\n",
       "      <td>20</td>\n",
       "      <td>4</td>\n",
       "      <td>BG 1</td>\n",
       "      <td>portrait</td>\n",
       "      <td>1251203001</td>\n",
       "      <td>1203001</td>\n",
       "      <td>...</td>\n",
       "      <td>2</td>\n",
       "      <td>lower</td>\n",
       "      <td>{\"rings\": [[[-9264026.5306, 5290079.3396], [-9...</td>\n",
       "      <td>35.604171</td>\n",
       "      <td>13.746784</td>\n",
       "      <td>6.633129e+07</td>\n",
       "      <td>35417.658796</td>\n",
       "      <td>BG</td>\n",
       "      <td>25</td>\n",
       "      <td>14a</td>\n",
       "    </tr>\n",
       "    <tr>\n",
       "      <th>2</th>\n",
       "      <td>6693.987915</td>\n",
       "      <td>452.186719</td>\n",
       "      <td>125</td>\n",
       "      <td>None</td>\n",
       "      <td>15</td>\n",
       "      <td>3</td>\n",
       "      <td>BG 1</td>\n",
       "      <td>landscape</td>\n",
       "      <td>1251210001</td>\n",
       "      <td>1210001</td>\n",
       "      <td>...</td>\n",
       "      <td>3</td>\n",
       "      <td>lower</td>\n",
       "      <td>{\"rings\": [[[-9270503.9375, 5288614.1939], [-9...</td>\n",
       "      <td>27.089900</td>\n",
       "      <td>10.459421</td>\n",
       "      <td>5.047787e+07</td>\n",
       "      <td>29332.713639</td>\n",
       "      <td>BG</td>\n",
       "      <td>20</td>\n",
       "      <td>14a</td>\n",
       "    </tr>\n",
       "    <tr>\n",
       "      <th>3</th>\n",
       "      <td>5399.750207</td>\n",
       "      <td>426.955043</td>\n",
       "      <td>125</td>\n",
       "      <td>None</td>\n",
       "      <td>10</td>\n",
       "      <td>3</td>\n",
       "      <td>BG 1</td>\n",
       "      <td>portrait</td>\n",
       "      <td>1251214001</td>\n",
       "      <td>1214001</td>\n",
       "      <td>...</td>\n",
       "      <td>4</td>\n",
       "      <td>lower</td>\n",
       "      <td>{\"rings\": [[[-9269511.1796, 5286236.4643], [-9...</td>\n",
       "      <td>21.852249</td>\n",
       "      <td>8.437162</td>\n",
       "      <td>4.070574e+07</td>\n",
       "      <td>29772.396132</td>\n",
       "      <td>BG</td>\n",
       "      <td>15</td>\n",
       "      <td>14a</td>\n",
       "    </tr>\n",
       "    <tr>\n",
       "      <th>4</th>\n",
       "      <td>3719.286317</td>\n",
       "      <td>452.186719</td>\n",
       "      <td>125</td>\n",
       "      <td>None</td>\n",
       "      <td>15</td>\n",
       "      <td>3</td>\n",
       "      <td>BG 2</td>\n",
       "      <td>portrait</td>\n",
       "      <td>1251222002</td>\n",
       "      <td>1222002</td>\n",
       "      <td>...</td>\n",
       "      <td>5</td>\n",
       "      <td>lower</td>\n",
       "      <td>{\"rings\": [[[-9281344.0365, 5290365.8905], [-9...</td>\n",
       "      <td>15.051580</td>\n",
       "      <td>5.811421</td>\n",
       "      <td>2.804448e+07</td>\n",
       "      <td>23245.466116</td>\n",
       "      <td>BG</td>\n",
       "      <td>20</td>\n",
       "      <td>14a</td>\n",
       "    </tr>\n",
       "  </tbody>\n",
       "</table>\n",
       "<p>5 rows × 21 columns</p>\n",
       "</div>"
      ],
      "text/plain": [
       "         ACRES  AnalysisArea CNTY_CODE FacilityOID  FromBreak  Join_Count  \\\n",
       "0  4075.858559    508.239318       125        None         20           2   \n",
       "1  8797.887541    508.239318       125        None         20           4   \n",
       "2  6693.987915    452.186719       125        None         15           3   \n",
       "3  5399.750207    426.955043       125        None         10           3   \n",
       "4  3719.286317    452.186719       125        None         15           3   \n",
       "\n",
       "  LABEL     LAYOUT        LINK     NAME ...  OBJECTID  PENINSULA  \\\n",
       "0  BG 1   portrait  1251200001  1200001 ...         1      lower   \n",
       "1  BG 1   portrait  1251203001  1203001 ...         2      lower   \n",
       "2  BG 1  landscape  1251210001  1210001 ...         3      lower   \n",
       "3  BG 1   portrait  1251214001  1214001 ...         4      lower   \n",
       "4  BG 2   portrait  1251222002  1222002 ...         5      lower   \n",
       "\n",
       "                                               SHAPE       SQKM    SQMILES  \\\n",
       "0  {\"rings\": [[[-9250818.9418, 5289778.0065], [-9...  16.494592   6.368568   \n",
       "1  {\"rings\": [[[-9264026.5306, 5290079.3396], [-9...  35.604171  13.746784   \n",
       "2  {\"rings\": [[[-9270503.9375, 5288614.1939], [-9...  27.089900  10.459421   \n",
       "3  {\"rings\": [[[-9269511.1796, 5286236.4643], [-9...  21.852249   8.437162   \n",
       "4  {\"rings\": [[[-9281344.0365, 5290365.8905], [-9...  15.051580   5.811421   \n",
       "\n",
       "    Shape__Area  Shape__Length  TYPE ToBreak  VER  \n",
       "0  3.073481e+07   22611.540412    BG      25  14a  \n",
       "1  6.633129e+07   35417.658796    BG      25  14a  \n",
       "2  5.047787e+07   29332.713639    BG      20  14a  \n",
       "3  4.070574e+07   29772.396132    BG      15  14a  \n",
       "4  2.804448e+07   23245.466116    BG      20  14a  \n",
       "\n",
       "[5 rows x 21 columns]"
      ]
     },
     "execution_count": 35,
     "metadata": {},
     "output_type": "execute_result"
    }
   ],
   "source": [
    "# Convert it to a SpatialDataFrame\n",
    "drive_time_cbg_df = drive_times_features.sdf\n",
    "drive_time_cbg_df.head()"
   ]
  },
  {
   "cell_type": "markdown",
   "metadata": {},
   "source": [
    "### 4. Enrich census block groups with suitable data"
   ]
  },
  {
   "cell_type": "markdown",
   "metadata": {},
   "source": [
    "The 3 geo-enrichment factors that we will be including in this study are:\n",
    "\n",
    "> 1. 2017 Total Population (Analysis Variable - TOTPOP_CY)\n",
    "> 2. 2017 Health Insurance (Analysis Variable - X8002_X)\n",
    "> 3. 2017 Education : Bachelor's Degree (Analysis Variable - BACHDEG_CY)"
   ]
  },
  {
   "cell_type": "code",
   "execution_count": 37,
   "metadata": {},
   "outputs": [],
   "source": [
    "# Perform data enrichment\n",
    "enriched_drive_time_cbg = arcgis.features.enrich_data.enrich_layer(drive_times_cbg, analysis_variables=['TOTPOP_CY', 'X8002_X', 'BACHDEG_CY'], output_name=\"Enriched_DriveTime_CBG\"+str(datetime.now().microsecond))"
   ]
  },
  {
   "cell_type": "code",
   "execution_count": 38,
   "metadata": {},
   "outputs": [
    {
     "data": {
      "text/plain": [
       "arcgis.gis.Item"
      ]
     },
     "execution_count": 38,
     "metadata": {},
     "output_type": "execute_result"
    }
   ],
   "source": [
    "# Check type of 'enriched_drive_time_cbg'\n",
    "type(enriched_drive_time_cbg)"
   ]
  },
  {
   "cell_type": "code",
   "execution_count": 39,
   "metadata": {},
   "outputs": [
    {
     "data": {
      "text/plain": [
       "{'results': [{'itemId': 'e1904c9cc21f4e1bb3d5b671ea99e9e1',\n",
       "   'success': True,\n",
       "   'notSharedWith': []}]}"
      ]
     },
     "execution_count": 39,
     "metadata": {},
     "output_type": "execute_result"
    }
   ],
   "source": [
    "# Grant 'enriched_drive_time_cbg' public access\n",
    "enriched_drive_time_cbg.share(everyone=True)"
   ]
  },
  {
   "cell_type": "code",
   "execution_count": 40,
   "metadata": {},
   "outputs": [
    {
     "name": "stdout",
     "output_type": "stream",
     "text": [
      "Total number of rows in the drive time (upto 25 mins) dataset: \n",
      "934\n"
     ]
    }
   ],
   "source": [
    "# Convert it to a Feature Set\n",
    "enriched_url = str(enriched_drive_time_cbg.url)+'/0/'\n",
    "enriched_driveTimes_layer = FeatureLayer(enriched_url)\n",
    "enriched_driveTimes_features = enriched_driveTimes_layer.query()\n",
    "print('Total number of rows in the drive time (upto 25 mins) dataset: ')\n",
    "print(len(enriched_driveTimes_features.features))"
   ]
  },
  {
   "cell_type": "code",
   "execution_count": 41,
   "metadata": {},
   "outputs": [
    {
     "data": {
      "text/html": [
       "<div>\n",
       "<style scoped>\n",
       "    .dataframe tbody tr th:only-of-type {\n",
       "        vertical-align: middle;\n",
       "    }\n",
       "\n",
       "    .dataframe tbody tr th {\n",
       "        vertical-align: top;\n",
       "    }\n",
       "\n",
       "    .dataframe thead th {\n",
       "        text-align: right;\n",
       "    }\n",
       "</style>\n",
       "<table border=\"1\" class=\"dataframe\">\n",
       "  <thead>\n",
       "    <tr style=\"text-align: right;\">\n",
       "      <th></th>\n",
       "      <th>ACRES</th>\n",
       "      <th>AnalysisArea</th>\n",
       "      <th>BACHDEG_CY</th>\n",
       "      <th>CNTY_CODE</th>\n",
       "      <th>ENRICH_FID</th>\n",
       "      <th>FacilityOID</th>\n",
       "      <th>FromBreak</th>\n",
       "      <th>HasData</th>\n",
       "      <th>ID</th>\n",
       "      <th>Join_Count</th>\n",
       "      <th>...</th>\n",
       "      <th>Shape__Length</th>\n",
       "      <th>TOTPOP_CY</th>\n",
       "      <th>TYPE</th>\n",
       "      <th>ToBreak</th>\n",
       "      <th>VER</th>\n",
       "      <th>X8002_X</th>\n",
       "      <th>aggregationMethod</th>\n",
       "      <th>apportionmentConfidence</th>\n",
       "      <th>populationToPolygonSizeRating</th>\n",
       "      <th>sourceCountry</th>\n",
       "    </tr>\n",
       "  </thead>\n",
       "  <tbody>\n",
       "    <tr>\n",
       "      <th>0</th>\n",
       "      <td>4075.858559</td>\n",
       "      <td>508.239318</td>\n",
       "      <td>98</td>\n",
       "      <td>125</td>\n",
       "      <td>1</td>\n",
       "      <td>None</td>\n",
       "      <td>20</td>\n",
       "      <td>1</td>\n",
       "      <td>0</td>\n",
       "      <td>2</td>\n",
       "      <td>...</td>\n",
       "      <td>22611.540412</td>\n",
       "      <td>862</td>\n",
       "      <td>BG</td>\n",
       "      <td>25</td>\n",
       "      <td>14a</td>\n",
       "      <td>1535591</td>\n",
       "      <td>BlockApportionment:US.BlockGroups</td>\n",
       "      <td>2.576</td>\n",
       "      <td>2.191</td>\n",
       "      <td>US</td>\n",
       "    </tr>\n",
       "    <tr>\n",
       "      <th>1</th>\n",
       "      <td>8797.887541</td>\n",
       "      <td>508.239318</td>\n",
       "      <td>258</td>\n",
       "      <td>125</td>\n",
       "      <td>2</td>\n",
       "      <td>None</td>\n",
       "      <td>20</td>\n",
       "      <td>1</td>\n",
       "      <td>1</td>\n",
       "      <td>4</td>\n",
       "      <td>...</td>\n",
       "      <td>35417.658796</td>\n",
       "      <td>1617</td>\n",
       "      <td>BG</td>\n",
       "      <td>25</td>\n",
       "      <td>14a</td>\n",
       "      <td>3183423</td>\n",
       "      <td>BlockApportionment:US.BlockGroups</td>\n",
       "      <td>2.576</td>\n",
       "      <td>2.191</td>\n",
       "      <td>US</td>\n",
       "    </tr>\n",
       "    <tr>\n",
       "      <th>2</th>\n",
       "      <td>6693.987915</td>\n",
       "      <td>452.186719</td>\n",
       "      <td>74</td>\n",
       "      <td>125</td>\n",
       "      <td>3</td>\n",
       "      <td>None</td>\n",
       "      <td>15</td>\n",
       "      <td>1</td>\n",
       "      <td>2</td>\n",
       "      <td>3</td>\n",
       "      <td>...</td>\n",
       "      <td>29332.713639</td>\n",
       "      <td>653</td>\n",
       "      <td>BG</td>\n",
       "      <td>20</td>\n",
       "      <td>14a</td>\n",
       "      <td>1323720</td>\n",
       "      <td>BlockApportionment:US.BlockGroups</td>\n",
       "      <td>2.576</td>\n",
       "      <td>2.191</td>\n",
       "      <td>US</td>\n",
       "    </tr>\n",
       "    <tr>\n",
       "      <th>3</th>\n",
       "      <td>5399.750207</td>\n",
       "      <td>426.955043</td>\n",
       "      <td>909</td>\n",
       "      <td>125</td>\n",
       "      <td>4</td>\n",
       "      <td>None</td>\n",
       "      <td>10</td>\n",
       "      <td>1</td>\n",
       "      <td>3</td>\n",
       "      <td>3</td>\n",
       "      <td>...</td>\n",
       "      <td>29772.396132</td>\n",
       "      <td>4224</td>\n",
       "      <td>BG</td>\n",
       "      <td>15</td>\n",
       "      <td>14a</td>\n",
       "      <td>8447741</td>\n",
       "      <td>BlockApportionment:US.BlockGroups</td>\n",
       "      <td>2.576</td>\n",
       "      <td>2.191</td>\n",
       "      <td>US</td>\n",
       "    </tr>\n",
       "    <tr>\n",
       "      <th>4</th>\n",
       "      <td>3719.286317</td>\n",
       "      <td>452.186719</td>\n",
       "      <td>124</td>\n",
       "      <td>125</td>\n",
       "      <td>5</td>\n",
       "      <td>None</td>\n",
       "      <td>15</td>\n",
       "      <td>1</td>\n",
       "      <td>4</td>\n",
       "      <td>3</td>\n",
       "      <td>...</td>\n",
       "      <td>23245.466116</td>\n",
       "      <td>1691</td>\n",
       "      <td>BG</td>\n",
       "      <td>20</td>\n",
       "      <td>14a</td>\n",
       "      <td>2553739</td>\n",
       "      <td>BlockApportionment:US.BlockGroups</td>\n",
       "      <td>2.576</td>\n",
       "      <td>2.191</td>\n",
       "      <td>US</td>\n",
       "    </tr>\n",
       "  </tbody>\n",
       "</table>\n",
       "<p>5 rows × 31 columns</p>\n",
       "</div>"
      ],
      "text/plain": [
       "         ACRES  AnalysisArea  BACHDEG_CY CNTY_CODE  ENRICH_FID FacilityOID  \\\n",
       "0  4075.858559    508.239318          98       125           1        None   \n",
       "1  8797.887541    508.239318         258       125           2        None   \n",
       "2  6693.987915    452.186719          74       125           3        None   \n",
       "3  5399.750207    426.955043         909       125           4        None   \n",
       "4  3719.286317    452.186719         124       125           5        None   \n",
       "\n",
       "   FromBreak  HasData ID  Join_Count      ...       Shape__Length TOTPOP_CY  \\\n",
       "0         20        1  0           2      ...        22611.540412       862   \n",
       "1         20        1  1           4      ...        35417.658796      1617   \n",
       "2         15        1  2           3      ...        29332.713639       653   \n",
       "3         10        1  3           3      ...        29772.396132      4224   \n",
       "4         15        1  4           3      ...        23245.466116      1691   \n",
       "\n",
       "  TYPE ToBreak  VER  X8002_X                  aggregationMethod  \\\n",
       "0   BG      25  14a  1535591  BlockApportionment:US.BlockGroups   \n",
       "1   BG      25  14a  3183423  BlockApportionment:US.BlockGroups   \n",
       "2   BG      20  14a  1323720  BlockApportionment:US.BlockGroups   \n",
       "3   BG      15  14a  8447741  BlockApportionment:US.BlockGroups   \n",
       "4   BG      20  14a  2553739  BlockApportionment:US.BlockGroups   \n",
       "\n",
       "  apportionmentConfidence  populationToPolygonSizeRating  sourceCountry  \n",
       "0                   2.576                          2.191             US  \n",
       "1                   2.576                          2.191             US  \n",
       "2                   2.576                          2.191             US  \n",
       "3                   2.576                          2.191             US  \n",
       "4                   2.576                          2.191             US  \n",
       "\n",
       "[5 rows x 31 columns]"
      ]
     },
     "execution_count": 41,
     "metadata": {},
     "output_type": "execute_result"
    }
   ],
   "source": [
    "# Convert it to a SpatialDataFrame\n",
    "enriched_df = enriched_driveTimes_features.sdf\n",
    "enriched_df.head()"
   ]
  },
  {
   "cell_type": "code",
   "execution_count": 42,
   "metadata": {},
   "outputs": [
    {
     "data": {
      "text/plain": [
       "Index(['ACRES', 'AnalysisArea', 'BACHDEG_CY', 'CNTY_CODE', 'ENRICH_FID',\n",
       "       'FacilityOID', 'FromBreak', 'HasData', 'ID', 'Join_Count', 'LABEL',\n",
       "       'LAYOUT', 'LINK', 'NAME', 'Name_1', 'OBJECTID', 'PENINSULA', 'SHAPE',\n",
       "       'SQKM', 'SQMILES', 'Shape__Area', 'Shape__Length', 'TOTPOP_CY', 'TYPE',\n",
       "       'ToBreak', 'VER', 'X8002_X', 'aggregationMethod',\n",
       "       'apportionmentConfidence', 'populationToPolygonSizeRating',\n",
       "       'sourceCountry'],\n",
       "      dtype='object')"
      ]
     },
     "execution_count": 42,
     "metadata": {},
     "output_type": "execute_result"
    }
   ],
   "source": [
    "# Print column names for ease of use during visualization\n",
    "enriched_df.columns"
   ]
  },
  {
   "cell_type": "code",
   "execution_count": 43,
   "metadata": {},
   "outputs": [
    {
     "data": {
      "text/plain": [
       "'https://services7.arcgis.com/JEwYeAy2cc8qOe3o/arcgis/rest/services/Enriched_DriveTime_CBG316797/FeatureServer/0'"
      ]
     },
     "execution_count": 43,
     "metadata": {},
     "output_type": "execute_result"
    }
   ],
   "source": [
    "# Format URL for visualization\n",
    "enriched_lyr_url = enriched_url[:-1]\n",
    "enriched_lyr_url"
   ]
  },
  {
   "cell_type": "markdown",
   "metadata": {},
   "source": [
    "### 5. Visualize results"
   ]
  },
  {
   "cell_type": "code",
   "execution_count": null,
   "metadata": {},
   "outputs": [],
   "source": [
    "# Create map of Oakland county\n",
    "map1 = gis.map('Oakland, Michigan', zoomlevel=10)\n",
    "map1"
   ]
  },
  {
   "cell_type": "markdown",
   "metadata": {},
   "source": [
    "![pythonresultmap](https://user-images.githubusercontent.com/13968196/36760882-94954672-1bea-11e8-94fd-6f68aaee313a.PNG)"
   ]
  },
  {
   "cell_type": "code",
   "execution_count": 45,
   "metadata": {},
   "outputs": [],
   "source": [
    "# Add next layer for each CBG viualized based on its health insurance spending (X8002_2)\n",
    "map1.add_layer({\"type\":\"FeatureLayer\",\n",
    "                \"url\": enriched_lyr_url,\n",
    "                \"renderer\":\"ClassedSizeRenderer\",\n",
    "                \"field_name\":\"X8002_X\",\n",
    "                \"opacity\":0.6\n",
    "               })"
   ]
  },
  {
   "cell_type": "code",
   "execution_count": 46,
   "metadata": {},
   "outputs": [],
   "source": [
    "# Add layer for service areas reachable within a 5 min drive time of the clinics\n",
    "map1.add_layer({\"type\":\"FeatureLayer\",\n",
    "                \"url\": visible_result_url,\n",
    "                \"opacity\":0.75\n",
    "               })"
   ]
  },
  {
   "cell_type": "code",
   "execution_count": 47,
   "metadata": {},
   "outputs": [],
   "source": [
    "# Add layer of clinics\n",
    "map1.add_layer({\"type\":\"FeatureLayer\",\n",
    "                \"url\": clinic_url,\n",
    "                \"opacity\":0.75\n",
    "               })"
   ]
  },
  {
   "cell_type": "markdown",
   "metadata": {
    "collapsed": true
   },
   "source": [
    "Similar maps can be generated for the following variables too\n",
    "> 1. Travel Time (`ToBreak`)\n",
    "> 2. Population (`TOTPOP_CY`)\n",
    "> 3. Citizens with Bachelor's Degree (`BACHDEG_CY`)\n"
   ]
  }
 ],
 "metadata": {
  "kernelspec": {
   "display_name": "Python 3",
   "language": "python",
   "name": "python3"
  },
  "language_info": {
   "codemirror_mode": {
    "name": "ipython",
    "version": 3
   },
   "file_extension": ".py",
   "mimetype": "text/x-python",
   "name": "python",
   "nbconvert_exporter": "python",
   "pygments_lexer": "ipython3",
   "version": "3.7.2"
  }
 },
 "nbformat": 4,
 "nbformat_minor": 2
}
