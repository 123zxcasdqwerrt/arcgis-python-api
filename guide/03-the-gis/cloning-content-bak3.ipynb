{
 "cells": [
  {
   "cell_type": "markdown",
   "metadata": {},
   "source": [
    "# Cloning Content"
   ]
  },
  {
   "cell_type": "markdown",
   "metadata": {},
   "source": [
    "## Introduction"
   ]
  },
  {
   "cell_type": "markdown",
   "metadata": {},
   "source": [
    "The Python API team concluded we needed a guide for Cloning Content. We tackled the task to make the ultimate roadmap for how to get content from one Web GIS to another. First question to answer: What does it mean to `clone`? Merriam-Webster defines [`cloning`]() as _\"propagat[ing] a clone from.\"_ (Didn't I hear my 2nd grade teacher - and every teacher after that for that matter - say it's unhelpful to use the word you are defining in its definition?...) So, diving into the definition of a _\"clone\"_ reads _\"the aggregate of genetically identical cells or organisms asexually produced by or from a single progenitor cell or orgasm.\"_ Ok, not exactly the context we're working in when discussing a Web GIS. Further along the line we get to something more along the lines of what we're thinking: _\"one that appears to be a copy of an original form.\"_ BINGO! \n",
    "\n",
    "Leveraging the Python API to clone content from one Web GIS to another can be thought of as _\"propagating content that appears to be a copy of the original content.\"_. Given all the different content and item types, possible Enterprise configurations, potential ArcGIS Online Organization arrangements, security considerations, and item dependencies, just to name a few variables, `clone_items()` aims to _propagate_ an exact duplicate of one item with all its uses and functionality from an original portal to a second portal, but there may be circumstances, which can not all possibly be listed, predicted or defined, that lead the clone to come close but not quite produce an identical copy. In addition, the variety of means for publishing items creates varying possibilities for supported, related, or source items created during the publishing process. The relationship between any supported, related, or source items must be considered when cloning an item. For example, the overwrite functionality will not be available on cloned hosted feature layer items because they do not have a source document from which they were published. The FAQ [here](https://doc.arcgis.com/en/arcgis-online/reference/faq.htm#DELETE_SRC) provides important information regarding source items in ArcGIS Online. But...given our education on `cloning`, we now know that cloning an item produces a second item which **appears** - but may not be identical to the original. It's important to temper expectations when thinking about the Python API [`clone_items()`](https://developers.arcgis.com/python/api-reference/arcgis.gis.toc.html#arcgis.gis.ContentManager.clone_items) function. There may be times some items will not migrate as expected. \n",
    "\n",
    "When talking about cloning items, let's establish some basic terminology.  Cloning can refer to all kinds of transfer, from ArcGIS Enterprise to ArcGIS Online, Enterprise to Enterprise, or ArCGIS Online to Enterprise. (The GIS Community infrequently discusses the need to clone between two distinct ArcGIS Online Organiztions.) Rather than tangle ourselves up when trying to distinguish between these portal types while writing about them, we'll refer to the portal or organization where the content originates as the _source_ regardless of portal type. We'll consider the portal or organization to which we'll clone content as the _target_. Done.\n",
    "\n",
    "This document illustrates the workflow of gathering source items using a source administrator account, and cloning them into a target administrator account.  This gaurantees the user account possesses all necessary privileges within the source to access the item and any dependencies and within the target to create the item and data. The target administrator subsequently can create user accounts and reassign item ownership and/or group membership according to need. This might also be the simplest workflow when the portal has users managed by an external identity store rather than using built-in accounts.\n",
    "\n",
    "Any content in any portal must be owned by a [`user`](https://developers.arcgis.com/python/api-reference/arcgis.gis.toc.html#user), so at least one _user_ must exist in the target. If you don't plan on using the administrator accounts in a workflow such as this, you may want to investigate the [`Clone Portal users, groups and content`](../sample-notebooks/clone-portal-users-groups-and-content/#Copy-Users) sample notebook on how to define functions that can copy `user` and `group` objects and clone content in that manner. "
   ]
  },
  {
   "cell_type": "markdown",
   "metadata": {},
   "source": [
    "As originally written, Python API developers designed the `clone_items()` function for copying the following item types:\n",
    " * Hosted Web Applications built with Web AppBuilder or shared using Configurable App Templates\n",
    " * Web Maps\n",
    " * Hosted Feature Layers\n",
    " * Hosted Feature Layer Views\n",
    " * Feature Collections\n",
    " * Survey123 Forms\n",
    " * Workforce Projects\n",
    " * Story Maps\n",
    "   * References to web maps and applications will not be cloned. The new story map will continue to point to the original maps and applications.\n",
    " * Operation Views\n",
    " * Dashboards\n",
    " * Feature Collections\n",
    " * Simple Types\n",
    "   * Those items with a download, including file geodatabases, shapefiles, code samples, zip files, and packages amongst others\n",
    "\n",
    "`clone_items()` clones the dependencies for the more complex items listed above. For example, cloning an existing web application, clones the web map and all hosted feature layers referenced in the map.\n",
    "\n",
    "`clone_items()` will not clone map services and image services. Since these services can be published to servers other than the hosted server in a configuration, it's impossible for the function to determine where to publish them in the target. As a result, these items will copy over, but will continue to point back to the original source URL. "
   ]
  },
  {
   "cell_type": "markdown",
   "metadata": {},
   "source": [
    "Let's work through examples of cloning individual items and inspect the results.\n",
    "\n",
    "We're going to clone a few different item types, starting with hosted feature layers and ending with more complex items that consume other items.\n",
    "\n",
    "First, let's import the necessary libraries, and connect to our source and target GIS:"
   ]
  },
  {
   "cell_type": "markdown",
   "metadata": {},
   "source": [
    "### Import libraries"
   ]
  },
  {
   "cell_type": "code",
   "execution_count": 132,
   "metadata": {},
   "outputs": [],
   "source": [
    "from pathlib import Path\n",
    "import sys\n",
    "\n",
    "from arcgis.gis import GIS\n",
    "from arcgis.env import active_gis\n",
    "from arcgis.mapping import WebMap"
   ]
  },
  {
   "cell_type": "markdown",
   "metadata": {},
   "source": [
    "### Connect to source and target portals"
   ]
  },
  {
   "cell_type": "code",
   "execution_count": 133,
   "metadata": {},
   "outputs": [
    {
     "name": "stdout",
     "output_type": "stream",
     "text": [
      "GIS @ https://pythonapi.playground.esri.com/portal version:7.1\n"
     ]
    }
   ],
   "source": [
    "source = GIS(profile=\"your_ent_admin_profile\", verify_cert=False)\n",
    "#source = GIS(profile=\"your_online_admin_profile\", verify_cert=False)\n",
    "print(source)"
   ]
  },
  {
   "cell_type": "code",
   "execution_count": 134,
   "metadata": {},
   "outputs": [
    {
     "name": "stdout",
     "output_type": "stream",
     "text": [
      "GIS @ https://geosaurus.maps.arcgis.com version:8.1\n"
     ]
    }
   ],
   "source": [
    "target = GIS(profile=\"cloning_admin\", verify_cert=False)\n",
    "#target = GIS(profile=\"your_online_admin_profile\", verify_cert=False)\n",
    "print(target)"
   ]
  },
  {
   "cell_type": "markdown",
   "metadata": {},
   "source": [
    "Let's start from a discovery position as an administrator. We'll simulate an administrator who's been testing and developing using ArcGIS Online as a development environment who wants to clone user data into an on-premise Enterprise environment for further development."
   ]
  },
  {
   "cell_type": "markdown",
   "metadata": {},
   "source": [
    "#### Helper Function\n",
    "Let's write a helper function to create a dictionary with the item type as the key, and a list of all the corresponding item types as the value."
   ]
  },
  {
   "cell_type": "code",
   "execution_count": 135,
   "metadata": {},
   "outputs": [],
   "source": [
    "def get_user_items(user, gis):\n",
    "    user_inventory = {}\n",
    "    user_items = gis.content.search(query=f\"* AND owner:{user.username}\", max_items=500)\n",
    "    for item in user_items:\n",
    "        if not item.type in user_inventory:\n",
    "            user_inventory[item.type] = [i \n",
    "                                         for i in user_items \n",
    "                                         if i.type == item.type]\n",
    "    return user_inventory"
   ]
  },
  {
   "cell_type": "code",
   "execution_count": 141,
   "metadata": {},
   "outputs": [],
   "source": [
    "user_inventory = get_user_items(source.users.me, source)"
   ]
  },
  {
   "cell_type": "code",
   "execution_count": 142,
   "metadata": {},
   "outputs": [
    {
     "data": {
      "text/plain": [
       "{'Map Service': [<Item title:\"Jordan\" type:Map Image Layer owner:arcgispyapibot>,\n",
       "  <Item title:\"Toronto Greenspace and Community Housing\" type:Map Image Layer owner:arcgispyapibot>],\n",
       " 'Dashboard': [<Item title:\"Kenya Conservation Efforts\" type:Dashboard owner:arcgispyapibot>],\n",
       " 'Feature Service': [<Item title:\"Nairobi County Boundaries\" type:Feature Layer Collection owner:arcgispyapibot>,\n",
       "  <Item title:\"agg_nola_yrly_svc_calls_to_block_groups\" type:Feature Layer Collection owner:arcgispyapibot>,\n",
       "  <Item title:\"KEN_admin_boundaries\" type:Feature Layer Collection owner:arcgispyapibot>,\n",
       "  <Item title:\"Botswana Power Plants\" type:Feature Layer Collection owner:arcgispyapibot>,\n",
       "  <Item title:\"New_Orleans_Boundary_gax\" type:Feature Layer Collection owner:arcgispyapibot>,\n",
       "  <Item title:\"Nairobi County Boundaries_vw\" type:Feature Layer Collection owner:arcgispyapibot>,\n",
       "  <Item title:\"Kenya Wetlands\" type:Feature Layer Collection owner:arcgispyapibot>,\n",
       "  <Item title:\"Kenya Protected Areas\" type:Feature Layer Collection owner:arcgispyapibot>,\n",
       "  <Item title:\"cpy_tods_nola_svc_calls\" type:Feature Layer Collection owner:arcgispyapibot>,\n",
       "  <Item title:\"airprtx0201\" type:Feature Layer Collection owner:arcgispyapibot>,\n",
       "  <Item title:\"tlh_houshold_data_blkgrp\" type:Feature Layer Collection owner:arcgispyapibot>,\n",
       "  <Item title:\"wetlands_sum_within_county\" type:Feature Layer Collection owner:arcgispyapibot>],\n",
       " 'Web Mapping Application': [<Item title:\"Kenya Conservation\" type:Web Mapping Application owner:arcgispyapibot>],\n",
       " 'Web Map': [<Item title:\"KEN_Administrative_Boundaries\" type:Web Map owner:arcgispyapibot>,\n",
       "  <Item title:\"New Orleans Service Calls\" type:Web Map owner:arcgispyapibot>],\n",
       " 'Shapefile': [<Item title:\"Botswana Power Plants\" type:Shapefile owner:arcgispyapibot>,\n",
       "  <Item title:\"New_Orleans_Boundary_gax\" type:Shapefile owner:arcgispyapibot>],\n",
       " 'Service Definition': [<Item title:\"tlh_houshold_data_blkgrp\" type:Service Definition owner:arcgispyapibot>,\n",
       "  <Item title:\"Jordan\" type:Service Definition owner:arcgispyapibot>],\n",
       " 'File Geodatabase': [<Item title:\"KEN_admin_boundaries\" type:File Geodatabase owner:arcgispyapibot>]}"
      ]
     },
     "execution_count": 142,
     "metadata": {},
     "output_type": "execute_result"
    }
   ],
   "source": [
    "user_inventory"
   ]
  },
  {
   "cell_type": "code",
   "execution_count": 138,
   "metadata": {},
   "outputs": [
    {
     "name": "stdout",
     "output_type": "stream",
     "text": [
      "Map Service\n",
      "--------------------------------------------------\n",
      "   Jordan                                            \n",
      "   Toronto Greenspace and Community Housing          \n",
      "\n",
      "\n",
      "Dashboard\n",
      "--------------------------------------------------\n",
      "   Kenya Conservation Efforts                        \n",
      "\n",
      "\n",
      "Feature Service\n",
      "--------------------------------------------------\n",
      "   Nairobi County Boundaries                         \n",
      "   agg_nola_yrly_svc_calls_to_block_groups           \n",
      "   KEN_admin_boundaries                              \n",
      "   Botswana Power Plants                             \n",
      "   New_Orleans_Boundary_gax                          \n",
      "   Nairobi County Boundaries_vw                      \n",
      "   Kenya Wetlands                                    \n",
      "   Kenya Protected Areas                             \n",
      "   cpy_tods_nola_svc_calls                           \n",
      "   airprtx0201                                       \n",
      "   tlh_houshold_data_blkgrp                          \n",
      "   wetlands_sum_within_county                        \n",
      "\n",
      "\n",
      "Web Mapping Application\n",
      "--------------------------------------------------\n",
      "   Kenya Conservation                                \n",
      "\n",
      "\n",
      "Web Map\n",
      "--------------------------------------------------\n",
      "   KEN_Administrative_Boundaries                     \n",
      "   New Orleans Service Calls                         \n",
      "\n",
      "\n",
      "Shapefile\n",
      "--------------------------------------------------\n",
      "   Botswana Power Plants                             \n",
      "   New_Orleans_Boundary_gax                          \n",
      "\n",
      "\n",
      "Service Definition\n",
      "--------------------------------------------------\n",
      "   tlh_houshold_data_blkgrp                          \n",
      "   Jordan                                            \n",
      "\n",
      "\n",
      "File Geodatabase\n",
      "--------------------------------------------------\n",
      "   KEN_admin_boundaries                              \n",
      "\n",
      "\n"
     ]
    }
   ],
   "source": [
    "for itype, ilist in user_inventory.items():\n",
    "    try:\n",
    "        print(f\"{itype}\\n{'-'*50}\")\n",
    "        for i in ilist:\n",
    "            print(f\"{' ':3}{i.title:50}\")\n",
    "        print(\"\\n\")\n",
    "    except Exception as e:\n",
    "        print(f\"\\t\\tOperation failed on: {i.title}\")\n",
    "        print(f\"\\t\\tException: {sys.exc_info()[1]}\")\n",
    "        continue"
   ]
  },
  {
   "cell_type": "markdown",
   "metadata": {},
   "source": [
    "### Suggested Cloning Order\n",
    "Given the nature of dependencies in the Web GIS system and the fact the `clone_items()` function can use the `search_existing_items` parameter to ensure against repeated cloning, items that serve as the foundation for other items should be cloned first. In other words, work from the bottom up in terms of dependencies.  For example, a `Web Map` often contains multiple layers.  When cloning the Web Map, the software must first compile the definition of the Web Map, which cannot be completed until each Feature Layer definition within it is compiled. Then the software must clone each Feature Layer item before it clones the Web Map and wires it to the Feature Layers within the target. Instead, cloning the Feature Layer items first allows the `clone_items()` function to search through existing items and definitions and simply clone over the Web Map definitionn and and rewire it to read the target feature services which alread exist. This can save time."
   ]
  },
  {
   "cell_type": "markdown",
   "metadata": {},
   "source": [
    "We can return lists of specific item_types from our inventory.  First, let's print a list of the disctinct item types avaiable for this user:"
   ]
  },
  {
   "cell_type": "code",
   "execution_count": null,
   "metadata": {},
   "outputs": [],
   "source": [
    "for item_type in list(user_inventory.keys()):\n",
    "    print(item_type)"
   ]
  },
  {
   "cell_type": "markdown",
   "metadata": {},
   "source": [
    "We can create a list of the hosted feature services using the `typeKeywords` property for items on our Feature Services:"
   ]
  },
  {
   "cell_type": "markdown",
   "metadata": {},
   "source": [
    "### Feature Layers"
   ]
  },
  {
   "cell_type": "code",
   "execution_count": null,
   "metadata": {},
   "outputs": [],
   "source": [
    "hosted_fsvc = [fs \n",
    "               for fs in user_inventory[\"Feature Service\"]\n",
    "               if 'Hosted Service' in fs.typeKeywords]"
   ]
  },
  {
   "cell_type": "markdown",
   "metadata": {},
   "source": [
    "**Note:** This result includes `hosted feature layer views` created from hosted feature layers.  Use the `typeKeywords` `'View Service'` to isolate views."
   ]
  },
  {
   "cell_type": "code",
   "execution_count": null,
   "metadata": {},
   "outputs": [],
   "source": [
    "print(f\"{'Feature Layer':<30}{'Folder ID':<35}{'Folder Name':15}{'Item ID'}\\n\"\n",
    "      f\"{'-'*28:<30}{'-'*33:<35}{'-'*13:<15}{'-'*37}\")\n",
    "for hosted_fs in hosted_fsvc:\n",
    "    if not hosted_fs.ownerFolder:\n",
    "        print(f\"{hosted_fs.title[:28]:30}{' ':35}{'Root Folder':15}{hosted_fs.id}\")\n",
    "    else:\n",
    "        print(f\"{hosted_fs.title[:28]:30}{hosted_fs.ownerFolder:35}\"\n",
    "              f\"\"\"{next(f['title'] for f in source.users.me.folders \n",
    "                   if f['id'] == hosted_fs.ownerFolder):15}\"\"\"\n",
    "              f\"{hosted_fs.id}\")"
   ]
  },
  {
   "cell_type": "markdown",
   "metadata": {},
   "source": [
    "Let's run clone on this small set of hosted Feature Services, alloting for any failed cloning, and replicate the source folder structure as well."
   ]
  },
  {
   "cell_type": "code",
   "execution_count": null,
   "metadata": {},
   "outputs": [],
   "source": [
    "for hfs in hosted_fsvc:\n",
    "    try:\n",
    "        if hfs.ownerFolder:\n",
    "            folder = next((f['title'] \n",
    "                          for f in source.users.me.folders \n",
    "                          if f['id'] == hfs.ownerFolder))\n",
    "            if not folder in [fld['title']\n",
    "                              for fld in target.users.me.folders]:\n",
    "                target.content.create_folder(folder=folder)\n",
    "            print(f\"Cloning {hfs.title}...\")\n",
    "            target.content.clone_items([hfs], folder=folder)\n",
    "            print(f\"...completed\")\n",
    "        else:\n",
    "            print(f\"Cloning {hfs.title}...\")\n",
    "            target.content.clone_items([hfs])\n",
    "            print(f\"...completed\")\n",
    "    except Exception as e:\n",
    "        print(f\"...Failed to Clone {hfs.title}...\")\n",
    "        print(f\"\\tException Type: {sys.exc_info()[0]}\")\n",
    "        print(f\"\\tException Value: {sys.exc_info()[1]}\")\n",
    "        print(f\"\\tException Traceback line: {sys.exc_info()[2].tb_lineno}\")\n",
    "        print(f\"\\tException Traceback instruction: {sys.exc_info()[2].tb_lasti}\")\n",
    "        continue"
   ]
  },
  {
   "cell_type": "markdown",
   "metadata": {},
   "source": [
    "Let's see run a query in our target to see what resulted."
   ]
  },
  {
   "cell_type": "code",
   "execution_count": null,
   "metadata": {},
   "outputs": [],
   "source": [
    "trg_inventory = get_user_items(target.users.me, target)"
   ]
  },
  {
   "cell_type": "code",
   "execution_count": null,
   "metadata": {},
   "outputs": [],
   "source": [
    "for itype, ilist in trg_inventory.items():\n",
    "    try:\n",
    "        print(f\"{itype}\\n{'-'*50}\")\n",
    "        for i in ilist:\n",
    "            print(f\"{' ':3}{i.title:50}\")\n",
    "        print(\"\\n\")\n",
    "    except Exception as e:\n",
    "        print(f\"\\t\\tOperation failed on: {i.title}\")\n",
    "        print(f\"\\t\\tException: {sys.exc_info()[1]}\")\n",
    "        continue"
   ]
  },
  {
   "cell_type": "code",
   "execution_count": null,
   "metadata": {},
   "outputs": [],
   "source": [
    "t_hosted_fsvc = [fs \n",
    "               for fs in trg_inventory[\"Feature Service\"]\n",
    "               if 'Hosted Service' in fs.typeKeywords]"
   ]
  },
  {
   "cell_type": "code",
   "execution_count": null,
   "metadata": {},
   "outputs": [],
   "source": [
    "print(f\"{'Feature Layer':<30}{'Folder ID':<35}{'Folder Name'}\\n{'-'*28:<30}{'-'*33:<35}{'-'*15}\")\n",
    "for hosted_fs in t_hosted_fsvc:\n",
    "    if not hosted_fs.ownerFolder:\n",
    "        print(f\"{hosted_fs.title[:28]:30}{' ':35}{'Root Folder'}\")\n",
    "    else:\n",
    "        print(f\"{hosted_fs.title[:28]:30}{hosted_fs.ownerFolder:35}\"\n",
    "              f\"{next(f['title'] for f in target.users.me.folders if f['id'] == hosted_fs.ownerFolder)}\")"
   ]
  },
  {
   "cell_type": "markdown",
   "metadata": {},
   "source": [
    "### Web Maps\n",
    "\n",
    "We can see all the same `Feature Layers` with new item ids in the same folders as the source organization.\n",
    "\n",
    "Now, let's look at the `Web Maps` in our source organization and clone them to the target. We'll revisit the source administator's `get_user_inventory` results to examine the Web Maps:"
   ]
  },
  {
   "cell_type": "code",
   "execution_count": null,
   "metadata": {},
   "outputs": [],
   "source": [
    "for wm in user_inventory['Web Map']:\n",
    "    wm_obj = WebMap(wm)\n",
    "    print(wm_obj.item.title)"
   ]
  },
  {
   "cell_type": "markdown",
   "metadata": {},
   "source": [
    "Let's inspect what layers are in each Web Map."
   ]
  },
  {
   "cell_type": "code",
   "execution_count": null,
   "metadata": {},
   "outputs": [],
   "source": [
    "for wm in user_inventory['Web Map']:\n",
    "    wm_obj = WebMap(wm)\n",
    "    print(f\"{wm_obj.item.title}\\n{'-'*100}\")\n",
    "    for wm_layer in wm_obj.layers:\n",
    "        try:\n",
    "            print(f\"{' '*2}{wm_layer['title']:40}{wm_layer['url'].split('/')[2]:35}{dict(wm_layer)['itemId']}\")\n",
    "        except:\n",
    "            print(f\"{' '*2}{wm_layer['title']:40}{wm_layer['url'].split('/')[2]:35}{wm_layer.id}\")"
   ]
  },
  {
   "cell_type": "code",
   "execution_count": null,
   "metadata": {},
   "outputs": [],
   "source": [
    "for wm in user_inventory['Web Map']:\n",
    "    wm_obj = WebMap(wm)\n",
    "    print(f\"{wm_obj.item.title}\\n{'-'*50}\")\n",
    "    if wm_obj.item.ownerFolder:\n",
    "        folder_name = [f['title'] for f in source.users.me.folders \n",
    "                       if f['id'] == wm_obj.item.ownerFolder][0]\n",
    "        try:\n",
    "            print(f\"...cloning {wm_obj.item.title}\")\n",
    "            target.content.clone_items(items=[wm_obj.item], \n",
    "                                       folder=folder_name)           \n",
    "            print(f\"...completed\")\n",
    "        except Exception as e:\n",
    "            print(f\"....failed to clone {wm_obj.item.title}\")\n",
    "            print(str(e))"
   ]
  },
  {
   "cell_type": "code",
   "execution_count": null,
   "metadata": {},
   "outputs": [],
   "source": [
    "target.content.search(\"* AND owner:clonerator\", item_type=\"Web Map\")"
   ]
  },
  {
   "cell_type": "code",
   "execution_count": null,
   "metadata": {},
   "outputs": [],
   "source": [
    "target_inventory = get_user_items(target.users.me, target)"
   ]
  },
  {
   "cell_type": "code",
   "execution_count": null,
   "metadata": {},
   "outputs": [],
   "source": [
    "target_inventory"
   ]
  },
  {
   "cell_type": "code",
   "execution_count": null,
   "metadata": {},
   "outputs": [],
   "source": [
    "for wm in target_inventory['Web Map']:\n",
    "    wm_obj = WebMap(wm)\n",
    "    print(f\"{wm_obj.item.title}\\n{'-'*100}\")\n",
    "    for wm_layer in wm_obj.layers:\n",
    "        try:\n",
    "            print(f\"{' '*2}{wm_layer['title']:40}{wm_layer['url'].split('/')[2]:35}{dict(wm_layer)['itemId']}\")\n",
    "        except:\n",
    "            print(f\"{' '*2}{wm_layer['title']:40}{wm_layer['url'].split('/')[2]:35}{wm_layer.id}\")\n",
    "    print(\"\\n\")"
   ]
  },
  {
   "cell_type": "markdown",
   "metadata": {},
   "source": []
  },
  {
   "cell_type": "markdown",
   "metadata": {},
   "source": [
    "### Operations Dashboards"
   ]
  },
  {
   "cell_type": "code",
   "execution_count": 143,
   "metadata": {},
   "outputs": [
    {
     "data": {
      "text/html": [
       "<div class=\"item_container\" style=\"height: auto; overflow: hidden; border: 1px solid #cfcfcf; border-radius: 2px; background: #f6fafa; line-height: 1.21429em; padding: 10px;\">\n",
       "                    <div class=\"item_left\" style=\"width: 210px; float: left;\">\n",
       "                       <a href='https://pythonapi.playground.esri.com/portal/home/item.html?id=092e14069c0d4d00ae0c1982cefb076c' target='_blank'>\n",
       "                        <img src='data:image/png;base64,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' width='200' height='133' class=\"itemThumbnail\">\n",
       "                       </a>\n",
       "                    </div>\n",
       "\n",
       "                    <div class=\"item_right\"     style=\"float: none; width: auto; overflow: hidden;\">\n",
       "                        <a href='https://pythonapi.playground.esri.com/portal/home/item.html?id=092e14069c0d4d00ae0c1982cefb076c' target='_blank'><b>Kenya Conservation Efforts</b>\n",
       "                        </a>\n",
       "                        <br/>Dashboard illustrating the amount of wetlands in Kenya<img src='https://pythonapi.playground.esri.com/portal/home/js/jsapi/esri/css/images/item_type_icons/layers16.png' style=\"vertical-align:middle;\">Dashboard by arcgispyapibot\n",
       "                        <br/>Last Modified: April 23, 2020\n",
       "                        <br/>0 comments, 8 views\n",
       "                    </div>\n",
       "                </div>\n",
       "                "
      ],
      "text/plain": [
       "<Item title:\"Kenya Conservation Efforts\" type:Dashboard owner:arcgispyapibot>"
      ]
     },
     "execution_count": 143,
     "metadata": {},
     "output_type": "execute_result"
    }
   ],
   "source": [
    "ops_dash = user_inventory['Dashboard'][0]\n",
    "ops_dash"
   ]
  },
  {
   "cell_type": "code",
   "execution_count": 149,
   "metadata": {},
   "outputs": [
    {
     "data": {
      "text/html": [
       "<div class=\"item_container\" style=\"height: auto; overflow: hidden; border: 1px solid #cfcfcf; border-radius: 2px; background: #f6fafa; line-height: 1.21429em; padding: 10px;\">\n",
       "                    <div class=\"item_left\" style=\"width: 210px; float: left;\">\n",
       "                       <a href='https://pythonapi.playground.esri.com/portal/home/item.html?id=dc58bd365c714f0aa0499a2027755a40' target='_blank'>\n",
       "                        <img src='data:image/png;base64,/9j/4AAQSkZJRgABAgAAAQABAAD/2wBDAAgGBgcGBQgHBwcJCQgKDBQNDAsLDBkSEw8UHRofHh0aHBwgJC4nICIsIxwcKDcpLDAxNDQ0Hyc5PTgyPC4zNDL/2wBDAQkJCQwLDBgNDRgyIRwhMjIyMjIyMjIyMjIyMjIyMjIyMjIyMjIyMjIyMjIyMjIyMjIyMjIyMjIyMjIyMjIyMjL/wAARCACFAMgDASIAAhEBAxEB/8QAHwAAAQUBAQEBAQEAAAAAAAAAAAECAwQFBgcICQoL/8QAtRAAAgEDAwIEAwUFBAQAAAF9AQIDAAQRBRIhMUEGE1FhByJxFDKBkaEII0KxwRVS0fAkM2JyggkKFhcYGRolJicoKSo0NTY3ODk6Q0RFRkdISUpTVFVWV1hZWmNkZWZnaGlqc3R1dnd4eXqDhIWGh4iJipKTlJWWl5iZmqKjpKWmp6ipqrKztLW2t7i5usLDxMXGx8jJytLT1NXW19jZ2uHi4+Tl5ufo6erx8vP09fb3+Pn6/8QAHwEAAwEBAQEBAQEBAQAAAAAAAAECAwQFBgcICQoL/8QAtREAAgECBAQDBAcFBAQAAQJ3AAECAxEEBSExBhJBUQdhcRMiMoEIFEKRobHBCSMzUvAVYnLRChYkNOEl8RcYGRomJygpKjU2Nzg5OkNERUZHSElKU1RVVldYWVpjZGVmZ2hpanN0dXZ3eHl6goOEhYaHiImKkpOUlZaXmJmaoqOkpaanqKmqsrO0tba3uLm6wsPExcbHyMnK0tPU1dbX2Nna4uPk5ebn6Onq8vP09fb3+Pn6/9oADAMBAAIRAxEAPwDzdU5BB/KtOxu5IEOFZsdQWOKcskDMpVNuO+BUzy5bBClPQYH8q+cnPm0aPqYQ5XdMX7TazqDOZBzynm/r0p8bW0anbLAFbs4Zz+eKqLbCRzjaPbcBSra7XIcqf+B9Kzajtc1TlvYuxXwhcbJ4W2nONhUVv6ZqwddzxQSsOQGwxH0rnfs9rgAMNx45bofXNWreGEApKiS7eA6t/PHNc9WnCa2OinKez2Osm1SCNkDLbrMw4Eisij8cc1Xubya5jzHcackg4DHOfpyOKwpGMcO2JtgPB3StjFQR29yJQ4b5CeTuIWuWOGgtSpN3sLc3M82YpIrM46OEVeKqW2m3F0CY4ZWUHkohYD8q34b8wIF3OjdmLK+f0q/AfP3CDVFtW67UjVQT7gVq68qa0Vv69CJUU9bmDH4dZlZmkuABzk2rZ/nQNCtUB826ukI5/wCPNh+eTW819qMMbFLqxnCHJy7Bm9utY098dRuT9psI5Co6Ruy0oVa0nq9PK36ol04roZV1BYxOywzTvju0YXP61RZQTxWpLJamFY1sQjg8tvOTVN03N0xjtXZCTtqYTiuhVK0wrVkpzTCuO1aqRlykHI6cUEt/eP51KUppSqTJ5SLkHP60jSSEY8xvxY1IVpm2qTJaZEcj1plTFaYRVJkNEdJTytNwaohoN7/3j+dFJiimLU1BGacIjmrYj9qUR1w+0PUVMqiLjpThFVvy6URYqfaFezKnlUvle1W/LpwjApc4/ZlVVZfukj6VZW7vFXaLmbbjG3ccflQ/lxoXkYKo7msu51y2hQGNWkyccDFOMJVNlcJSjTXvOxqNcysgQiPA7iMA1KuoXClSPLJXp8gFcJeeJXlTERK/Nkseo9hjtUVt4jNvAEJkkPrnbj8K7P7Om43scf8AaVJStc9Ae/lZtzRwAg5ysQBpG1SdstwM98YIrhL3xQ9zGwiV4uOMP/nNVINfvkD/AL0sh7E4ojlkmrtIUs0pxlZNnefbmkfZJsPU4HFNS+iLFQEckH5S/vXIRXtpc+SMBWZlDqAQpHfvmrK3sNvGHgAGT8uOWx6e5FN4O2g1i7630OnimjjJZoFkP+1nA/Wpw1rJ85hixn7gYqf1rkj4i8srDJFlj0YdD71rJfw/Zw0jRqx+UAPuz71jUw046tGtPE05aLoaTQWpySkiDqMODUDwQk5jYj2dxUAuIGcRiUFj0B784/Olk2R43kLk4GT1NQoyWjLbi+g4WwZsedCv1aozb4JHmRn3DcVGrK7MFxwcZpWQVeq3M3yvZDjbAozLNGcduQT9KhMDNkgcevSlZajK1av3IlFdhuwu21Rz7GiSBkOMpn/eFIV/CmFT9atGTiIUKnBxn2NFJsoqiOU6gR4p2ypttKFryOY91QIwlV/Nfz/L2KwHUqelW5I90TDJA9RxXGX8V6b8rYzsAnzNtfPOa6MPSVVtN2OfETdJJpXNu/1y20/bvVm3d1IOPSsmTxjCsiKIcj+I4/zxXLXljdo29384kZLKS2Pc1UFtOYzIsbmNTywHH517FLAUFG71PCrZjiOa0VY2b7xHcy3DSQSPHGwxsUnA/wAayHndlwWcj3PFBiKoS4dW7AjrR5Ww4mDrjHykYruhThBWijgqValR3kyHdmjjqefetOSxt47SKZ5FPmNxtcEgepXr/KqTxFywhRnUHOcc49SBVKSexnKnKO4ilfL2gDdn7xNRscdgfrTljk84RhGD5wFxzn6VNBZXNxLsSF5McHaM/hTbS1YkpS0SIVlbHU+nWpFZiMllYDnBNacfhu/aMs8IXDFTlh+f0pk2iSQ5Z3xGpVGyuGDMM9Kz9tTbsmbrD1kruLM43LHgpGMDGQtRGVuuTn1z0rQu9LNvbrOJEaNjgHODn3Haq62qghXYhjgg44xVRlFq6M5QqJ2ZGl5cKFVZXAX7uGxj6VYk1WeYKJWLFRj5mJzUEtpLGu/Ydjcq2PvD1qAqw7GnyxetieepHS5tQavLsWNXkQjupGP0Ga37CWQlWnuA4ZARnjAA5Jz0NcVEjE1sxQC/lEasjPgDG4/yrlr0YNdjvw1ed9dWdWu2Rcod1BjrIttMv7KVHhnZlZvnUc4/A/zroRE20bhzjmvKqpQfuu6PXp8017ysyiY6aY6vGH2phhqFMt0yl5dFWzFRVc5HszoQtOC1IIZSxUITj0pfLZWKsCCK8ls9xRGGIN16U37KhXCogPuuasKjHtTwuOD1pc7WxXs09zGudHN2W/eyIg6jPEnsfb2GKLTw9HFEGinaMkAqFRcL9Ac8+9bhQMMEcGpFAA4GKt4uoo8qZn9Upc3M0Zn9hacw+e0ic5yWcbmJ+pqR9Is3hjga3iaFSWKsgIJxjJ9/etIClxWTxFR7yZfsaS2ijHTw3pCNIy2EQMilWIGOD6en4U/T9EtdN84QqSJCPvncQAMBcnnArWxRih4mq005OzFGhSi01FKxyXjTSFutHe6hTFxbN5oZV+bA68j8/wAKzNOMum6da6qk73ttdNm6Hlgurd2yBk4Oc5ruLuaO3hLyq7R9G2qWwD6gDpXlcl4YNF1G1s3HkwXu9CD1jYMvH5CvXwLnWo+zeyf4P/gnkY/ko1/ardr8V1+a0OtGs2WoIBY2FzfjPQRYQH/aLcfzrntQ1O4stSuALuK0ZlUfZ4QJsAH7pOMA8npxV5dU1HVdPhsNHs54dPjVYpLpF+cqBg4GR+XWty10ZFtBbW1oLGLHzSyBWlk/DkD8fyrRezw799fK938/8rXIftcUlyPbrayv5dfm3Y4PUrbUZkFzdx3Pnn54gUUfuwepA6HnrirV/pOsNbxXF5aROFby9i8EHoGOO3+FehLptmmT9nRmPBeQb2P1J5qVl5zj86h5ra3LHb+tC1kyfNzzev8AWvc85fwrfSrHOI4WXADfZ5NzY753cZ+nFXofCEgmRmeONQvzHPmEn8QAPrzXabApO0AZOTjufWmEVEszqvRGscooRd2c2PCdjvLTM8wPYgL/AOggVYTQrWEo1svkOv8AEnVh75rbIpuMVg8XWlvI2WCox2iisUGfuimlKskUwis1I0cCuUHpTCg9KskUhXNUpEOBVMdFWCvtRVcxHIbceqKj7thb0yBxUh1dieBj8axGuY26KVx04oEw9a5XQj2Ormi2br38cnV5cehApqz24bJR2HpwKxxMPWnrMPWp9jY0Uo2sa/mW7Z+V154wc09GiHUEj3rKS4wODU6XAyCeah02aKzNTdbOcBWjHr1zQVjH3ZCwP+zVMXAbGABUyPu6AGsXFoXI0TbYsD52z3+WkxFn77f98ineU23O0fhUDEDrSQo69SybVcZ81a8g8c2i23iecoRtlRZQcY5I5/UGvUjOVUqHIHoDXnHxCAbVrZs8NBtz9GP+Nevk7lHEW7o8zNqTeHu+jPRdLgWXS7VyYYEaJWWND9wEZAqeW2CyALKpB4yeMVQMqqNoPA4GKjMw9a8+UZOTlc9SEXGKVy9Jakc+fGfxqAwvnqn4MKqNKtMMgqlCXcfN5lqSCVOqHHqKj8qVuiE/jVcyE9zTPM960UWTzIsPFMvVGqMq/wDdY/hURfIz1FN3irUSG0SlX/ut+VNIf+635VHuBOOppC+PSqUSG0PIb+6fypuG/un8qj3+9IX96diG0Sc+h/KiofNPqfzoquVkXRjLqK5/iFTrqCFvlkbH+7/9essWyD+Mn8KkFsoGRJ+Ar0HTgedGdQ11vUP8bDHqvX9amW8hI+aR8+yf/XrIW3TAO9t3+7/9epUg5++fy/8Ar1i6cDeM59jZSeErzM2e2E/+vUomXHEo/EVkLCveUj8P/r1Okaj/AJaN/wB8/wD16xlTidMJy7Gyk8Q/5bZPoVwPz/8ArV1fhP8AsWa5Z9Vu1VAQETBw59z6VwSgdmb/AL5rsPCPheTX45WjvUi8tgHU/ewehA/Oso0ryXKrvsa15r2EvaScV3R6cdW8LJEIw1oU6YEX/wBauJ8VwaJ5QvNJu4cbtkkOSCM9xntW8vw2t0Ql9QnkPoAF/XBrnvF3hWw0DTFm+2XL3EjhY4yykEdz0HauvEQxEoWq00kuqW34nj4B4SFdKjVk2+ltH/Xc5KRic4ljP0auJ8dxkSWTlg3DLkH6V0jGMcqHJ9zXLeLseTaYXGGbPOewqcBDlrxa/rQ9PM3fDST8vzOrhlmltYZShO+NW6eooMj/AN1vyqhpl+82j2u1vlESrz14GKm80nlxuI6ZJrGVO0mmbRmpQTT3RP5p9DTTLUPmjdkonHtSGUHnYo+hNHIJvzJ/NpDJVcyL6A/jSeavp+VHIK/mWPN4x2pN9QGRfp9TUZmpqAnItmTtTDJVTzs96YZ8VapmbmXDJTTJVJrj0zTTPVKmQ6hc83miqH2j60VXsiPaDtyetOUx9eK4j+2Lz/nt+lH9sXn/AD2P4V6H1Gfc8xZrR7M7oFPUVIpT1FcCNYvAf9c1P/tu87yZqXl8+5azeh2Z6AJEHpT1lH979a89GtXhGPMIp661eAj95moeXT7m0c3o32PQhIMjLfrWnper3GlXIntJ3hkH8Sn+Y7/jXmUeu3SjqCfrUyeILpeOPzrJ4CotUzrhmtBq0loz3kfFLVvJ2eVZ7wMbth/PGa5DVdautVuTPeXLyyYxljwB6AdBXnA8SXee350yTxFdN02inLCYmppOVyaWMwFBuVKFn6HatKueornPFbK1lbsp6SH9R/8AWrGOvXnqtU7q/muoVjkYYVtwrfD4KdOakzlxmZ06tKUI9TqfDV0p0faxA8p2Bz6df61reen95fzrzmG8lt0dUY7W68046lcEk7zz71pUwHPNyT3Oehm8KdKMJLVI9BNwhOA65pDKp/iH5158NSnBzvP50/8AtW5/vVH9nSXU0/tqk+h3ZmXH3h1xTDKv97n61wo1O4x98/nSNqNwxB8wjAx1qv7Pfcl5xS7HcmUDrgZ96Y0wHcfnXE/2jc95WP40h1C4OMueKawD7kPN6fY7UygdWFN8wHkH9a446lcH+M/nQupzr/Fn8af1KXcX9qU2dc0oppkFcr/a1x6/rR/as/r2o+pyE8ypM6YzKO9FcudSnIwSKKr6oyHmNMpUUUV6B4YUUUUALmlD02igabRKHpwk96gopcpaqNFjzPemmTNQ0UuVDdVkpf3phY02inYhzbFzxSUUUyQooooAKKKKACiiigAooooAKKKKACiiigAooooAKKKKACiiigAooooAKKKKACiiigAooooAKKKKACiiigAooooAKKKKACiiigAooooA/9k=' width='200' height='133' class=\"itemThumbnail\">\n",
       "                       </a>\n",
       "                    </div>\n",
       "\n",
       "                    <div class=\"item_right\"     style=\"float: none; width: auto; overflow: hidden;\">\n",
       "                        <a href='https://pythonapi.playground.esri.com/portal/home/item.html?id=dc58bd365c714f0aa0499a2027755a40' target='_blank'><b>KEN_Administrative_Boundaries</b>\n",
       "                        </a>\n",
       "                        <br/>Three levels of administration boundaries in Kenya<img src='https://pythonapi.playground.esri.com/portal/home/js/jsapi/esri/css/images/item_type_icons/maps16.png' style=\"vertical-align:middle;\">Web Map by arcgispyapibot\n",
       "                        <br/>Last Modified: April 23, 2020\n",
       "                        <br/>0 comments, 51 views\n",
       "                    </div>\n",
       "                </div>\n",
       "                "
      ],
      "text/plain": [
       "<Item title:\"KEN_Administrative_Boundaries\" type:Web Map owner:arcgispyapibot>"
      ]
     },
     "execution_count": 149,
     "metadata": {},
     "output_type": "execute_result"
    }
   ],
   "source": [
    "for dash_widget in ops_dash.get_data()['widgets']:\n",
    "    if dash_widget['type'] == 'mapWidget':\n",
    "        dash_webmap = source.content.get(dash_widget['itemId'])\n",
    "dash_webmap"
   ]
  },
  {
   "cell_type": "code",
   "execution_count": null,
   "metadata": {},
   "outputs": [],
   "source": [
    "dash_webmap"
   ]
  },
  {
   "cell_type": "markdown",
   "metadata": {},
   "source": [
    "### Story Maps"
   ]
  },
  {
   "cell_type": "markdown",
   "metadata": {},
   "source": [
    "#### ArcGIS StoryMaps\n",
    "Released in July 2019, [`ArcGIS StoryMaps`](https://www.esri.com/en-us/arcgis/products/arcgis-storymaps/overview) are the next generation of storytelling with maps. Get the full scoop on why this new format [here](https://storymaps.arcgis.com/stories/0d565f8fb4874e4fb44c6cb7276c78fb)!\n",
    "\n",
    "Let's connect to our GIS to take a look"
   ]
  },
  {
   "cell_type": "code",
   "execution_count": null,
   "metadata": {},
   "outputs": [],
   "source": [
    "sm_source = GIS(profile=\"cloning_admin\")\n",
    "sm_target = GIS(profile=\"esrihax\")"
   ]
  },
  {
   "cell_type": "code",
   "execution_count": null,
   "metadata": {},
   "outputs": [],
   "source": [
    "storymap = sm_source.content.search(\"Conservation*\", item_type=\"StoryMap\")[0]\n",
    "storymap"
   ]
  },
  {
   "cell_type": "code",
   "execution_count": null,
   "metadata": {},
   "outputs": [],
   "source": [
    "for node, block in storymap.get_data()['nodes'].items():\n",
    "    if block['type'] == 'webmap':\n",
    "        sm_webmap = sm_source.content.get(block['data']['map'][2:])\n",
    "sm_webmap"
   ]
  },
  {
   "cell_type": "code",
   "execution_count": null,
   "metadata": {},
   "outputs": [],
   "source": [
    "wm_obj = WebMap(sm_webmap)\n",
    "print(f\"{wm_obj.item.title}\\n{'-'*115}\")\n",
    "for wm_layer in wm_obj.layers:\n",
    "    try:\n",
    "        wm_layer_item = sm_source.content.get(dict(wm_layer)['itemId'])\n",
    "        if \"Hosted Service\" in wm_layer_item.typeKeywords:\n",
    "            print(f\"{' '*2}{wm_layer['title']:30}{wm_layer['url'].split('/')[2]:33}\"\n",
    "                  f\"{sm_source.content.get(dict(wm_layer)['itemId']).type.upper():18}\"\n",
    "                  f\"{dict(wm_layer)['itemId']}\")\n",
    "        else:\n",
    "            print(f\"{' '*2}{wm_layer['title']:30}{wm_layer['url'].split('/')[2]:33}\"\n",
    "                  f\"{sm_source.content.get(dict(wm_layer)['itemId']).type:18}\"\n",
    "                  f\"{dict(wm_layer)['itemId']}\")\n",
    "            \n",
    "    except:\n",
    "        print(f\"{' '*2}{wm_layer['title']:30}{wm_layer['url'].split('/')[2]:35}{wm_layer.id}\")"
   ]
  },
  {
   "cell_type": "code",
   "execution_count": null,
   "metadata": {},
   "outputs": [],
   "source": [
    "sm_target.content.clone_items(items=[storymap])"
   ]
  },
  {
   "cell_type": "code",
   "execution_count": null,
   "metadata": {},
   "outputs": [],
   "source": [
    "sm_target_inventory = get_user_items(sm_target.users.me, sm_target)"
   ]
  },
  {
   "cell_type": "code",
   "execution_count": null,
   "metadata": {},
   "outputs": [],
   "source": [
    "cloned_sm = sm_target_inventory['StoryMap'][0]\n",
    "cloned_sm"
   ]
  },
  {
   "cell_type": "code",
   "execution_count": null,
   "metadata": {},
   "outputs": [],
   "source": [
    "for node, block in cloned_sm.get_data()['nodes'].items():\n",
    "    if block['type'] == 'webmap':\n",
    "        cloned_sm_webmap = sm_target.content.get(block['data']['map'][2:])\n",
    "cloned_sm_webmap"
   ]
  },
  {
   "cell_type": "code",
   "execution_count": null,
   "metadata": {},
   "outputs": [],
   "source": [
    "wm_obj = WebMap(cloned_sm_webmap)\n",
    "print(f\"{wm_obj.item.title}\\n{'-'*115}\")\n",
    "for wm_layer in wm_obj.layers:\n",
    "    try:\n",
    "        wm_layer_item = sm_target.content.get(dict(wm_layer)['itemId'])\n",
    "        if \"Hosted Service\" in wm_layer_item.typeKeywords:\n",
    "            print(f\"{' '*2}{wm_layer['title']:30}{wm_layer['url'].split('/')[2]:33}\"\n",
    "                  f\"{sm_target.content.get(dict(wm_layer)['itemId']).type.upper():18}\"\n",
    "                  f\"{dict(wm_layer)['itemId']}\")\n",
    "        else:\n",
    "            print(f\"{' '*2}{wm_layer['title']:30}{wm_layer['url'].split('/')[2]:33}\"\n",
    "                  f\"{sm_target.content.get(dict(wm_layer)['itemId']).type:18}\"\n",
    "                  f\"{dict(wm_layer)['itemId']}\")\n",
    "            \n",
    "    except:\n",
    "        print(f\"{' '*2}{wm_layer['title']:30}{wm_layer['url'].split('/')[2]:35}{wm_layer.id}\")"
   ]
  },
  {
   "cell_type": "code",
   "execution_count": null,
   "metadata": {},
   "outputs": [],
   "source": []
  },
  {
   "cell_type": "markdown",
   "metadata": {},
   "source": [
    "#### Classic Story Maps\n",
    "Classic story maps are stored in the portals as `Web Mapping Application` items."
   ]
  },
  {
   "cell_type": "code",
   "execution_count": null,
   "metadata": {},
   "outputs": [],
   "source": [
    "wma = user_inventory['Web Mapping Application'][0]\n",
    "wma"
   ]
  },
  {
   "cell_type": "code",
   "execution_count": null,
   "metadata": {},
   "outputs": [],
   "source": [
    "wma_webmap = source.content.get(wma.get_data()['values']['webmap'])\n",
    "wma_webmap"
   ]
  },
  {
   "cell_type": "code",
   "execution_count": null,
   "metadata": {},
   "outputs": [],
   "source": [
    "wm_obj = WebMap(wma_webmap)\n",
    "print(f\"{wm_obj.item.title}\\n{'-'*115}\")\n",
    "for wm_layer in wm_obj.layers:\n",
    "    try:\n",
    "        wm_layer_item = source.content.get(dict(wm_layer)['itemId'])\n",
    "        if \"Hosted Service\" in wm_layer_item.typeKeywords:\n",
    "            print(f\"{' '*2}{wm_layer['title']:30}{wm_layer['url'].split('/')[2]:33}\"\n",
    "                  f\"{source.content.get(dict(wm_layer)['itemId']).type.upper():18}\"\n",
    "                  f\"{dict(wm_layer)['itemId']}\")\n",
    "        else:\n",
    "            print(f\"{' '*2}{wm_layer['title']:30}{wm_layer['url'].split('/')[2]:33}\"\n",
    "                  f\"{source.content.get(dict(wm_layer)['itemId']).type:18}\"\n",
    "                  f\"{dict(wm_layer)['itemId']}\")\n",
    "            \n",
    "    except:\n",
    "        print(f\"{' '*2}{wm_layer['title']:30}{wm_layer['url'].split('/')[2]:35}{wm_layer.id}\")"
   ]
  },
  {
   "cell_type": "markdown",
   "metadata": {},
   "source": [
    "The original [`Web Map`](https://developers.arcgis.com/python/api-reference/arcgis.mapping.html#webmap) contained 3 layers from a `hosted Feature Layer` in the `Web GIS` as the web map, and 2 `Feature Layers` items sourced from am ArcGIS Online Feature Service. Let's inspect the result to see what happens with the `clone_items()` function and accepting the default values for the `copy_data` and `search_existing_items` parameters - both `True`."
   ]
  },
  {
   "cell_type": "code",
   "execution_count": null,
   "metadata": {},
   "outputs": [],
   "source": [
    "target.content.clone_items(items=[wma],\n",
    "                           folder=\"Africa_Storymap\")"
   ]
  },
  {
   "cell_type": "markdown",
   "metadata": {},
   "source": [
    "We can see that cloning output of the `Web Mapping Application` lists the application, the `Web Map` configured with the application, and the `Feature Layer Collection` layers consumed in the Web Map. As mentioned before, the original web map consumed 3 layers from a hosted feature service, and 2 feature layer items referencing ArcGIS Online layers.\n",
    "\n",
    "Let's examine the cloned application, web map, and layers to examine the results.\n",
    "\n",
    "First we'll get the inventory of items now owned by the user we're logged into the target Web GIS as:"
   ]
  },
  {
   "cell_type": "code",
   "execution_count": null,
   "metadata": {},
   "outputs": [],
   "source": [
    "target_inventory = get_user_items(target.users.me, target)"
   ]
  },
  {
   "cell_type": "code",
   "execution_count": null,
   "metadata": {},
   "outputs": [],
   "source": [
    "for itype, ilist in target_inventory.items():\n",
    "    try:\n",
    "        print(f\"{itype}\\n{'-'*50}\")\n",
    "        for i in ilist:\n",
    "            print(f\"{' ':3}{i.title:50}\")\n",
    "        print(\"\\n\")\n",
    "    except Exception as e:\n",
    "        print(f\"\\t\\tOperation failed on: {i.title}\")\n",
    "        print(f\"\\t\\tException: {sys.exc_info()[1]}\")\n",
    "        continue"
   ]
  },
  {
   "cell_type": "code",
   "execution_count": null,
   "metadata": {},
   "outputs": [],
   "source": [
    "cloned_wma = target_inventory['Web Mapping Application'][0]\n",
    "cloned_wma"
   ]
  },
  {
   "cell_type": "code",
   "execution_count": null,
   "metadata": {},
   "outputs": [],
   "source": [
    "cloned_wma_webmap = target.content.get(cloned_wma.get_data()['values']['webmap'])\n",
    "cloned_wma_webmap"
   ]
  },
  {
   "cell_type": "code",
   "execution_count": null,
   "metadata": {},
   "outputs": [],
   "source": [
    "wm_obj = WebMap(cloned_wma_webmap)\n",
    "print(f\"{wm_obj.item.title}\\n{'-'*115}\")\n",
    "for wm_layer in wm_obj.layers:\n",
    "    try:\n",
    "        wm_layer_item = target.content.get(dict(wm_layer)['itemId'])\n",
    "        if \"Hosted Service\" in wm_layer_item.typeKeywords:\n",
    "            print(f\"{' '*2}{wm_layer['title']:30}{wm_layer['url'].split('/')[2]:33}\"\n",
    "                  f\"{target.content.get(dict(wm_layer)['itemId']).type.upper():18}\"\n",
    "                  f\"{dict(wm_layer)['itemId']}\")\n",
    "        else:\n",
    "            print(f\"{' '*2}{wm_layer['title']:30}{wm_layer['url'].split('/')[2]:33}\"\n",
    "                  f\"{target.content.get(dict(wm_layer)['itemId']).type:18}\"\n",
    "                  f\"{dict(wm_layer)['itemId']}\")\n",
    "            \n",
    "    except:\n",
    "        print(f\"{' '*2}{wm_layer['title']:30}{wm_layer['url'].split('/')[2]:35}{wm_layer.id}\")"
   ]
  },
  {
   "cell_type": "markdown",
   "metadata": {},
   "source": [
    "We see that `clone_items()` cloned the feature service containing the layers the web map consumed and created a new hosted feature service in the target (evidenced by the `item id` above), the web map used to configure the web mapping application, and the web mapping application itself. It also cloned the `feature layer` items in the web map, but did not clone them `feature layer` items in the organization, so they do not as of yet have `item ids` in the organization."
   ]
  },
  {
   "cell_type": "code",
   "execution_count": null,
   "metadata": {},
   "outputs": [],
   "source": []
  },
  {
   "cell_type": "markdown",
   "metadata": {},
   "source": [
    "### One-offs"
   ]
  },
  {
   "cell_type": "code",
   "execution_count": null,
   "metadata": {},
   "outputs": [],
   "source": [
    "dsdev = GIS(profile=\"dev81\", verify_cert=False)"
   ]
  },
  {
   "cell_type": "code",
   "execution_count": null,
   "metadata": {},
   "outputs": [],
   "source": [
    "ds_clone = dsdev.content.clone_items(items=user_inventory['Web Map'][0],\n",
    "                                     folder=\"Africa_StoryMap\""
   ]
  },
  {
   "cell_type": "code",
   "execution_count": null,
   "metadata": {},
   "outputs": [],
   "source": []
  },
  {
   "cell_type": "markdown",
   "metadata": {},
   "source": [
    "Next, let's use our helper function to get an inventory of another user's items:"
   ]
  },
  {
   "cell_type": "code",
   "execution_count": null,
   "metadata": {},
   "outputs": [],
   "source": [
    "new_user = source.users.search(query=\"jy*geosaurus\")[0]\n",
    "new_user"
   ]
  },
  {
   "cell_type": "code",
   "execution_count": null,
   "metadata": {},
   "outputs": [],
   "source": [
    "user_item_inventory = item_inventory(new_user.username)"
   ]
  },
  {
   "cell_type": "code",
   "execution_count": null,
   "metadata": {},
   "outputs": [],
   "source": [
    "user_item_inventory"
   ]
  },
  {
   "cell_type": "code",
   "execution_count": null,
   "metadata": {},
   "outputs": [],
   "source": [
    "def get_all_items(portal_user):\n",
    "    gis = active_gis\n",
    "    user = gis.users.search(\"username:\" + portal_user)[0]\n",
    "    items = {\"root\": [i for i in user.items()]}    \n",
    "    if user.folders and [f for f in user.folders if user.items(folder=f)]:\n",
    "        for folder in user.folders:\n",
    "            if user.items(folder=folder):\n",
    "                folder_items = [i for i in user.items(folder=folder)]\n",
    "            items[folder['title']] = folder_items\n",
    "    return items"
   ]
  },
  {
   "cell_type": "code",
   "execution_count": null,
   "metadata": {},
   "outputs": [],
   "source": [
    "def owns_items(username):\n",
    "    gis = active_gis\n",
    "    portal_user = gis.users.search(\"username:\"+username)[0]\n",
    "    if portal_user.items():\n",
    "        return True\n",
    "    else:\n",
    "        if (portal_user.folders and \n",
    "            [f \n",
    "             for f in portal_user.folders \n",
    "             if portal_user.items(folder=f)]):\n",
    "            return True\n",
    "        else:\n",
    "            return False"
   ]
  },
  {
   "cell_type": "code",
   "execution_count": null,
   "metadata": {},
   "outputs": [],
   "source": [
    "item_owners = [u \n",
    "               for u in active_gis.users.search(\"NOT username:esri_*\")\n",
    "               if owns_items(u.username)]\n",
    "item_owners"
   ]
  },
  {
   "cell_type": "code",
   "execution_count": null,
   "metadata": {},
   "outputs": [],
   "source": [
    "org_types = []\n",
    "for user in item_owners:\n",
    "    try:\n",
    "        type_set = {item.type\n",
    "                    for folder, item_list in get_all_items(user.username).items()\n",
    "                    for item in item_list}\n",
    "        for t in type_set:\n",
    "            if not t in org_types:\n",
    "                org_types.append(t)\n",
    "    except Exception as e:\n",
    "        print(f\"Cannot process user {user.username}\")"
   ]
  },
  {
   "cell_type": "markdown",
   "metadata": {},
   "source": [
    "## Item Relationship and cloning"
   ]
  },
  {
   "cell_type": "code",
   "execution_count": null,
   "metadata": {},
   "outputs": [],
   "source": [
    "len(org_types)"
   ]
  },
  {
   "cell_type": "code",
   "execution_count": null,
   "metadata": {},
   "outputs": [],
   "source": [
    "if len(org_types) % 2 > 0:\n",
    "    for a,b in zip(org_types[0::2], org_types[1::2]):\n",
    "        print(f\"{a:25}{b:25}\")\n",
    "        print(f\"{org_types[-1]:25}\")\n",
    "else:\n",
    "    for a,b in zip(org_types[0::2], org_types[1::2]):\n",
    "        print(f\"{a:25}{b:25}\")      "
   ]
  },
  {
   "cell_type": "code",
   "execution_count": null,
   "metadata": {},
   "outputs": [],
   "source": [
    "def get_item_types(username, item_type):\n",
    "        item_list = [item\n",
    "                     for folder,item_list in get_all_items(username).items()\n",
    "                     for item in item_list\n",
    "                     if item.type.lower() == item_type.lower()]\n",
    "        if item_type.lower() in ['feature service', 'vector tile service',\n",
    "                        'image service', 'scene service', 'map service']:\n",
    "            non_hosted = [i \n",
    "                          for i in item_list\n",
    "                          if not 'Hosted Service' in i.typeKeywords]\n",
    "            hosted = [h \n",
    "                      for h in item_list\n",
    "                      if 'Hosted Service' in h.typeKeywords]\n",
    "            return {\"hosted_\" + item_type.lower().replace(' ','_'):hosted, \n",
    "                    \"non_hosted_\"+item_type.lower().replace(' ','_'):non_hosted}\n",
    "        else:\n",
    "            return {item_type.lower().replace(' ','_'):item_list}"
   ]
  },
  {
   "cell_type": "code",
   "execution_count": null,
   "metadata": {},
   "outputs": [],
   "source": [
    "hosted, non_hosted = get_item_types('ent_admin', 'feature service').items()"
   ]
  },
  {
   "cell_type": "code",
   "execution_count": null,
   "metadata": {},
   "outputs": [],
   "source": [
    "non_hosted_fs = non_hosted[1]"
   ]
  },
  {
   "cell_type": "code",
   "execution_count": null,
   "metadata": {},
   "outputs": [],
   "source": [
    "hosted_fs = hosted[1]"
   ]
  },
  {
   "cell_type": "code",
   "execution_count": null,
   "metadata": {},
   "outputs": [],
   "source": [
    "for fs_item in hosted_fs:\n",
    "    try:\n",
    "        if fs_item.related_items('Service2Data', 'forward'):\n",
    "            rel_items = fs_item.related_items('Service2Data', 'forward')\n",
    "            for item in rel_items:\n",
    "                print(f\"{fs_item.title}\\n{'-'*50}\\n\\t{item.title[:38]:40}{item.type}\")\n",
    "        else:\n",
    "            print(f\"{fs_item.title}\\n{'-'*50}\\n\\tNo related items\")\n",
    "    except Exception as e:\n",
    "        print(f\"{fs_item.title}\\n{'-'*50}\\n\\t{str(e)}\")"
   ]
  },
  {
   "cell_type": "code",
   "execution_count": null,
   "metadata": {},
   "outputs": [],
   "source": [
    "emb_item = hosted_fs[4]"
   ]
  },
  {
   "cell_type": "code",
   "execution_count": null,
   "metadata": {},
   "outputs": [],
   "source": [
    "result_items = ent.content.clone_items(items=[emb_item],\n",
    "                                       folder=\"cloned_from_ent\",\n",
    "                                       search_existing_items=False)"
   ]
  },
  {
   "cell_type": "code",
   "execution_count": null,
   "metadata": {},
   "outputs": [],
   "source": [
    "result_items"
   ]
  },
  {
   "cell_type": "code",
   "execution_count": null,
   "metadata": {},
   "outputs": [],
   "source": [
    "result_items[0].related_items(\"Service2Data\", \"forward\")"
   ]
  },
  {
   "cell_type": "code",
   "execution_count": null,
   "metadata": {},
   "outputs": [],
   "source": [
    "emb_item.related_items(\"Service2Data\", \"forward\")"
   ]
  },
  {
   "cell_type": "code",
   "execution_count": null,
   "metadata": {},
   "outputs": [],
   "source": [
    "emb_item.export(title=\"foreign_embassies_us\",\n",
    "               export_format=\"CSV\")"
   ]
  },
  {
   "cell_type": "code",
   "execution_count": null,
   "metadata": {},
   "outputs": [],
   "source": [
    "for map_service in non_hosted[1]:\n",
    "    print(f\"{map_service}\\n{'-'*90}\")\n",
    "    print(f\"{map_service['title']:45}{map_service['type']:20}{map_service.id}\")\n",
    "    print(f\"{' ':4}Service Name: {Path(map_service.url).parts[-2]}\")\n",
    "    if map_service.related_items('Service2Service', 'forward'):\n",
    "        ms_sd = map_service.related_items('Service2Service', 'forward')[0]\n",
    "        print(f\"{' ':2}{ms_sd.title:45}{ms_sd.type:20}{ms_sd.id}\")\n",
    "    else:\n",
    "       print(f\"{' ':4}{map_service.title} has {len(map_service.dependent_to()['list'])} items depending on it\")\n",
    "       print(f\"{' ':4}{map_service.title} is dependent upon {len(map_service.dependent_upon()['list'])} items\")\n",
    "       for item in map_service.dependent_upon()['list']:\n",
    "             print(f\"{' ':8}{item['dependencyType']:12}{item['id']}\")\n",
    "    print(\"\\n\")"
   ]
  },
  {
   "cell_type": "code",
   "execution_count": null,
   "metadata": {},
   "outputs": [],
   "source": [
    "for server in target.admin.federation.servers['servers']:\n",
    "    if not server['serverRole'] == 'FEDERATED_SERVER':\n",
    "        print(f\"{server['url']:50}{server['serverRole']:20}{server['id']}\")\n",
    "    else:\n",
    "        print(f\"{server['url']:50}{server['serverFunction'].upper():20}{server['id']}\")     "
   ]
  },
  {
   "cell_type": "markdown",
   "metadata": {},
   "source": [
    "### Advanced Search"
   ]
  },
  {
   "cell_type": "code",
   "execution_count": null,
   "metadata": {},
   "outputs": [],
   "source": [
    "sd_fs_name = \"Toronto\"\n",
    "user = source.users.me.username"
   ]
  },
  {
   "cell_type": "code",
   "execution_count": null,
   "metadata": {},
   "outputs": [],
   "source": [
    "for item in source.content.advanced_search(query=f\"title:{sd_fs_name} AND owner:{user}\")['results']:\n",
    "    print(f\"{item.title:25}{item.id:35}{item.type}\")"
   ]
  },
  {
   "cell_type": "code",
   "execution_count": null,
   "metadata": {},
   "outputs": [],
   "source": [
    "for folder, items in get_all_items('arcgis_python').items():\n",
    "    print(f\"{folder}\\n{'-'*50}\")\n",
    "    hosted = [i for \n",
    "              i in items \n",
    "              if \"Hosted Service\" in i.typeKeywords]\n",
    "    non_hosted = [i \n",
    "                  for i in items \n",
    "                  if not \"Hosted Service\" in i.typeKeywords and\n",
    "                 \"Service\" in i.typeKeywords]\n",
    "    others = [i\n",
    "             for i in items\n",
    "             if not \"Service\" in i.typeKeywords]\n",
    "    if hosted:\n",
    "          print(f\"{' ':2}Hosted Items\\n{'-'*50}\")\n",
    "          for h in hosted:\n",
    "                print(f\"\\t{h.title[:40]:45}{h.type:30}{h.id}\")\n",
    "          else:\n",
    "                pass\n",
    "    print(\"\\n\")\n",
    "    if non_hosted:\n",
    "          print(f\"{' ':2}Non Hosted Items\\n{'-'*50}\")\n",
    "          for nh in non_hosted:\n",
    "                print(f\"\\t{nh.title[:40]:45}{nh.type:30}{nh.id}\")\n",
    "          else:\n",
    "                pass\n",
    "    print(\"\\n\")\n",
    "    if others:\n",
    "          print(f\"{' ':2}Non Service Items\\n{'-'*50}\")\n",
    "          for o in others:\n",
    "                print(f\"\\t{o.title[:40]:45}{o.type:30}{o.id}\")"
   ]
  },
  {
   "cell_type": "code",
   "execution_count": null,
   "metadata": {},
   "outputs": [],
   "source": [
    "get_item_types('arcgis_python', 'web map')"
   ]
  },
  {
   "cell_type": "code",
   "execution_count": null,
   "metadata": {},
   "outputs": [],
   "source": [
    "active_gis"
   ]
  },
  {
   "cell_type": "code",
   "execution_count": null,
   "metadata": {},
   "outputs": [],
   "source": [
    "source_org_id = source.properties['user']['orgId']\n",
    "geo_org_id = geo.properties['user']['orgId']"
   ]
  },
  {
   "cell_type": "code",
   "execution_count": null,
   "metadata": {},
   "outputs": [],
   "source": [
    "active_gis = geo"
   ]
  },
  {
   "cell_type": "code",
   "execution_count": null,
   "metadata": {},
   "outputs": [],
   "source": [
    "print(f\"Web Maps\\n{'-'*50}\")\n",
    "for item_type,map_list in get_item_types('arcgis_python', 'web map').items():\n",
    "    for web_map_item in map_list:\n",
    "        print(f\"{' ':2}{web_map_item.title[:55]:60}{web_map_item.id}\\n{'='*25}\")\n",
    "        wm_obj = WebMap(web_map_item)\n",
    "        if not wm_obj.layers:\n",
    "            print(f\"{' ':4}-has no layers\")\n",
    "        else:\n",
    "            for wm_lyr in wm_obj.layers:\n",
    "                if not wm_lyr.get('url'):\n",
    "                    print(f\"{' ':4}{wm_lyr['title'][:40]:45}No url for layer\")\n",
    "                else:\n",
    "                    if Path(wm_lyr['url']).parts[2] == geo_org_id:\n",
    "                        print(f\"{' ':4}{wm_lyr['title'][:48]:50}\"\n",
    "                              f\"{wm_lyr['layerType']:25}Hosted\")\n",
    "                    else:\n",
    "                        print(f\"{' ':4}{wm_lyr['title'][:48]:50}\"\n",
    "                              f\"{wm_lyr['layerType']:30}Referenced\")\n",
    "        print(\"\\n\")"
   ]
  },
  {
   "cell_type": "code",
   "execution_count": null,
   "metadata": {},
   "outputs": [],
   "source": [
    "wm0 = geo.content.get(\"e11ea9d9356d489fbac333a32e02e350\")"
   ]
  },
  {
   "cell_type": "code",
   "execution_count": null,
   "metadata": {},
   "outputs": [],
   "source": [
    "cloned_items = target.content.clone_items(items=[wm0],\n",
    "                          folder=\"cloned_from_geos_no_urls\",\n",
    "                          search_existing_items=False)"
   ]
  },
  {
   "cell_type": "code",
   "execution_count": null,
   "metadata": {},
   "outputs": [],
   "source": [
    "cloned_items[0]['isOrgItem']"
   ]
  },
  {
   "cell_type": "code",
   "execution_count": null,
   "metadata": {},
   "outputs": [],
   "source": []
  },
  {
   "cell_type": "code",
   "execution_count": null,
   "metadata": {},
   "outputs": [],
   "source": []
  },
  {
   "cell_type": "code",
   "execution_count": null,
   "metadata": {},
   "outputs": [],
   "source": [
    "for lyr in set2_tpk_SD_map_svc.layers:\n",
    "    print(f\"{lyr.properties.name:50}\") "
   ]
  },
  {
   "cell_type": "code",
   "execution_count": null,
   "metadata": {},
   "outputs": [],
   "source": []
  },
  {
   "cell_type": "code",
   "execution_count": null,
   "metadata": {},
   "outputs": [],
   "source": [
    "for org_user in item_owners[0:2]:\n",
    "    print(f\"{org_user.username}\\n{'-'*50}\")\n",
    "    for org_type in org_types:\n",
    "          user_items = get_item_types(org_user.username, org_type)\n",
    "          if user_items and org_type.lower() == \"feature service\":\n",
    "              if not user_items[\"hosted_\" + org_type.lower().replace(' ', '_')]:\n",
    "                  pass\n",
    "              else:\n",
    "                  print(f\"\\tHosted Feature Services\")\n",
    "                  for fs_item in user_items[\"hosted_\" + org_type.lower().replace(' ', '_')]:\n",
    "                      print(f\"\\t\\t{fs_item.title}\")\n",
    "              if not user_items[\"non_hosted_\" + org_type.lower().replace(' ', '_')]:\n",
    "                  pass\n",
    "              else:\n",
    "                  print(f\"\\tReferenced Feature Services\")\n",
    "                  for rfs_item in user_items[\"non_hosted_\" + org_type.lower().replace(' ', '_')]:\n",
    "                      print(f\"\\t\\t{rfs_item.title[:35]:40}{Path(rfs_item.url).parts[1]}\")\n",
    "          else:\n",
    "              if user_items[org_type.lower().replace(' ', '_')]:\n",
    "                  print(f\"\\t{org_type}\")\n",
    "                  for item in user_items[org_type.lower().replace(' ','_')]:\n",
    "                      print(f\"\\t\\t{item.title}\")\n",
    "    print(\"\\n\")"
   ]
  },
  {
   "cell_type": "code",
   "execution_count": null,
   "metadata": {},
   "outputs": [],
   "source": [
    "geo.properties['user']['orgId']"
   ]
  },
  {
   "cell_type": "code",
   "execution_count": null,
   "metadata": {},
   "outputs": [],
   "source": []
  },
  {
   "cell_type": "code",
   "execution_count": null,
   "metadata": {},
   "outputs": [],
   "source": []
  },
  {
   "cell_type": "code",
   "execution_count": null,
   "metadata": {},
   "outputs": [],
   "source": []
  },
  {
   "cell_type": "code",
   "execution_count": null,
   "metadata": {},
   "outputs": [],
   "source": [
    "item = source.content.search(\"*\")[0]"
   ]
  },
  {
   "cell_type": "code",
   "execution_count": null,
   "metadata": {},
   "outputs": [],
   "source": []
  },
  {
   "cell_type": "code",
   "execution_count": null,
   "metadata": {},
   "outputs": [],
   "source": [
    "target.groups.search(\"*\")[0].categories"
   ]
  },
  {
   "cell_type": "code",
   "execution_count": null,
   "metadata": {},
   "outputs": [],
   "source": []
  },
  {
   "cell_type": "code",
   "execution_count": null,
   "metadata": {},
   "outputs": [],
   "source": []
  },
  {
   "cell_type": "code",
   "execution_count": null,
   "metadata": {},
   "outputs": [],
   "source": []
  },
  {
   "cell_type": "code",
   "execution_count": null,
   "metadata": {},
   "outputs": [],
   "source": []
  },
  {
   "cell_type": "code",
   "execution_count": null,
   "metadata": {},
   "outputs": [],
   "source": []
  },
  {
   "cell_type": "code",
   "execution_count": null,
   "metadata": {},
   "outputs": [],
   "source": []
  },
  {
   "cell_type": "code",
   "execution_count": null,
   "metadata": {},
   "outputs": [],
   "source": []
  },
  {
   "cell_type": "code",
   "execution_count": null,
   "metadata": {},
   "outputs": [],
   "source": []
  },
  {
   "cell_type": "code",
   "execution_count": null,
   "metadata": {},
   "outputs": [],
   "source": []
  },
  {
   "cell_type": "code",
   "execution_count": null,
   "metadata": {},
   "outputs": [],
   "source": []
  },
  {
   "cell_type": "code",
   "execution_count": null,
   "metadata": {},
   "outputs": [],
   "source": []
  },
  {
   "cell_type": "code",
   "execution_count": null,
   "metadata": {},
   "outputs": [],
   "source": []
  },
  {
   "cell_type": "code",
   "execution_count": null,
   "metadata": {},
   "outputs": [],
   "source": []
  },
  {
   "cell_type": "code",
   "execution_count": null,
   "metadata": {},
   "outputs": [],
   "source": []
  },
  {
   "cell_type": "code",
   "execution_count": null,
   "metadata": {},
   "outputs": [],
   "source": []
  },
  {
   "cell_type": "code",
   "execution_count": null,
   "metadata": {},
   "outputs": [],
   "source": []
  },
  {
   "cell_type": "code",
   "execution_count": null,
   "metadata": {},
   "outputs": [],
   "source": []
  },
  {
   "cell_type": "code",
   "execution_count": null,
   "metadata": {},
   "outputs": [],
   "source": []
  },
  {
   "cell_type": "code",
   "execution_count": null,
   "metadata": {},
   "outputs": [],
   "source": []
  },
  {
   "cell_type": "code",
   "execution_count": null,
   "metadata": {},
   "outputs": [],
   "source": []
  },
  {
   "cell_type": "code",
   "execution_count": null,
   "metadata": {},
   "outputs": [],
   "source": []
  },
  {
   "cell_type": "code",
   "execution_count": null,
   "metadata": {},
   "outputs": [],
   "source": []
  },
  {
   "cell_type": "code",
   "execution_count": null,
   "metadata": {},
   "outputs": [],
   "source": []
  },
  {
   "cell_type": "code",
   "execution_count": null,
   "metadata": {},
   "outputs": [],
   "source": []
  },
  {
   "cell_type": "code",
   "execution_count": null,
   "metadata": {},
   "outputs": [],
   "source": []
  },
  {
   "cell_type": "code",
   "execution_count": null,
   "metadata": {},
   "outputs": [],
   "source": []
  },
  {
   "cell_type": "code",
   "execution_count": null,
   "metadata": {},
   "outputs": [],
   "source": []
  },
  {
   "cell_type": "code",
   "execution_count": null,
   "metadata": {},
   "outputs": [],
   "source": []
  },
  {
   "cell_type": "code",
   "execution_count": null,
   "metadata": {},
   "outputs": [],
   "source": []
  },
  {
   "cell_type": "code",
   "execution_count": null,
   "metadata": {},
   "outputs": [],
   "source": []
  },
  {
   "cell_type": "code",
   "execution_count": null,
   "metadata": {},
   "outputs": [],
   "source": []
  },
  {
   "cell_type": "code",
   "execution_count": null,
   "metadata": {},
   "outputs": [],
   "source": []
  },
  {
   "cell_type": "code",
   "execution_count": null,
   "metadata": {},
   "outputs": [],
   "source": []
  },
  {
   "cell_type": "code",
   "execution_count": null,
   "metadata": {},
   "outputs": [],
   "source": []
  },
  {
   "cell_type": "code",
   "execution_count": null,
   "metadata": {},
   "outputs": [],
   "source": []
  },
  {
   "cell_type": "code",
   "execution_count": null,
   "metadata": {},
   "outputs": [],
   "source": []
  },
  {
   "cell_type": "code",
   "execution_count": null,
   "metadata": {},
   "outputs": [],
   "source": []
  },
  {
   "cell_type": "code",
   "execution_count": null,
   "metadata": {},
   "outputs": [],
   "source": []
  },
  {
   "cell_type": "code",
   "execution_count": null,
   "metadata": {},
   "outputs": [],
   "source": []
  },
  {
   "cell_type": "code",
   "execution_count": null,
   "metadata": {},
   "outputs": [],
   "source": []
  },
  {
   "cell_type": "code",
   "execution_count": null,
   "metadata": {},
   "outputs": [],
   "source": []
  },
  {
   "cell_type": "code",
   "execution_count": null,
   "metadata": {},
   "outputs": [],
   "source": []
  },
  {
   "cell_type": "code",
   "execution_count": null,
   "metadata": {},
   "outputs": [],
   "source": []
  },
  {
   "cell_type": "code",
   "execution_count": null,
   "metadata": {},
   "outputs": [],
   "source": []
  },
  {
   "cell_type": "code",
   "execution_count": null,
   "metadata": {},
   "outputs": [],
   "source": []
  },
  {
   "cell_type": "code",
   "execution_count": null,
   "metadata": {},
   "outputs": [],
   "source": []
  },
  {
   "cell_type": "code",
   "execution_count": null,
   "metadata": {},
   "outputs": [],
   "source": []
  },
  {
   "cell_type": "code",
   "execution_count": null,
   "metadata": {},
   "outputs": [],
   "source": []
  },
  {
   "cell_type": "code",
   "execution_count": null,
   "metadata": {},
   "outputs": [],
   "source": []
  },
  {
   "cell_type": "code",
   "execution_count": null,
   "metadata": {},
   "outputs": [],
   "source": []
  },
  {
   "cell_type": "code",
   "execution_count": null,
   "metadata": {},
   "outputs": [],
   "source": []
  },
  {
   "cell_type": "code",
   "execution_count": null,
   "metadata": {},
   "outputs": [],
   "source": []
  },
  {
   "cell_type": "code",
   "execution_count": null,
   "metadata": {},
   "outputs": [],
   "source": []
  },
  {
   "cell_type": "code",
   "execution_count": null,
   "metadata": {},
   "outputs": [],
   "source": []
  },
  {
   "cell_type": "code",
   "execution_count": null,
   "metadata": {},
   "outputs": [],
   "source": []
  },
  {
   "cell_type": "code",
   "execution_count": null,
   "metadata": {},
   "outputs": [],
   "source": []
  },
  {
   "cell_type": "code",
   "execution_count": null,
   "metadata": {},
   "outputs": [],
   "source": []
  },
  {
   "cell_type": "code",
   "execution_count": null,
   "metadata": {},
   "outputs": [],
   "source": []
  },
  {
   "cell_type": "code",
   "execution_count": null,
   "metadata": {},
   "outputs": [],
   "source": []
  },
  {
   "cell_type": "code",
   "execution_count": null,
   "metadata": {},
   "outputs": [],
   "source": []
  },
  {
   "cell_type": "code",
   "execution_count": null,
   "metadata": {},
   "outputs": [],
   "source": []
  },
  {
   "cell_type": "code",
   "execution_count": null,
   "metadata": {},
   "outputs": [],
   "source": []
  },
  {
   "cell_type": "code",
   "execution_count": null,
   "metadata": {},
   "outputs": [],
   "source": []
  },
  {
   "cell_type": "code",
   "execution_count": null,
   "metadata": {},
   "outputs": [],
   "source": []
  },
  {
   "cell_type": "code",
   "execution_count": null,
   "metadata": {},
   "outputs": [],
   "source": []
  },
  {
   "cell_type": "code",
   "execution_count": null,
   "metadata": {},
   "outputs": [],
   "source": []
  },
  {
   "cell_type": "code",
   "execution_count": null,
   "metadata": {},
   "outputs": [],
   "source": []
  },
  {
   "cell_type": "code",
   "execution_count": null,
   "metadata": {},
   "outputs": [],
   "source": []
  },
  {
   "cell_type": "code",
   "execution_count": null,
   "metadata": {},
   "outputs": [],
   "source": []
  },
  {
   "cell_type": "code",
   "execution_count": null,
   "metadata": {},
   "outputs": [],
   "source": []
  },
  {
   "cell_type": "code",
   "execution_count": null,
   "metadata": {},
   "outputs": [],
   "source": []
  },
  {
   "cell_type": "code",
   "execution_count": null,
   "metadata": {},
   "outputs": [],
   "source": []
  },
  {
   "cell_type": "code",
   "execution_count": null,
   "metadata": {},
   "outputs": [],
   "source": []
  },
  {
   "cell_type": "code",
   "execution_count": null,
   "metadata": {},
   "outputs": [],
   "source": []
  },
  {
   "cell_type": "code",
   "execution_count": null,
   "metadata": {},
   "outputs": [],
   "source": []
  },
  {
   "cell_type": "code",
   "execution_count": null,
   "metadata": {},
   "outputs": [],
   "source": []
  },
  {
   "cell_type": "code",
   "execution_count": null,
   "metadata": {},
   "outputs": [],
   "source": []
  },
  {
   "cell_type": "code",
   "execution_count": null,
   "metadata": {},
   "outputs": [],
   "source": []
  },
  {
   "cell_type": "code",
   "execution_count": null,
   "metadata": {},
   "outputs": [],
   "source": []
  },
  {
   "cell_type": "code",
   "execution_count": null,
   "metadata": {},
   "outputs": [],
   "source": []
  }
 ],
 "metadata": {
  "kernelspec": {
   "display_name": "Python 3",
   "language": "python",
   "name": "python3"
  },
  "language_info": {
   "codemirror_mode": {
    "name": "ipython",
    "version": 3
   },
   "file_extension": ".py",
   "mimetype": "text/x-python",
   "name": "python",
   "nbconvert_exporter": "python",
   "pygments_lexer": "ipython3",
   "version": "3.6.8"
  }
 },
 "nbformat": 4,
 "nbformat_minor": 2
}
