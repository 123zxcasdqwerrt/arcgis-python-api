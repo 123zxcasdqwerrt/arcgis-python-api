{
 "cells": [
  {
   "cell_type": "code",
   "execution_count": 47,
   "metadata": {},
   "outputs": [],
   "source": [
    "from arcgis.gis import GIS\n",
    "import datetime\n",
    "\n",
    "\"\"\"accounts to keep from user/groups/items deletion\"\"\"\n",
    "ignore_accounts_online = ['DavidJVitale', 'yjiang_geosaurus', 'amani_geosaurus', 'api_data_owner',\n",
    "                   'bmajor_geosaurus', 'rsingh_geosaurus', 'rohitgeo', 'andrew887',\n",
    "                   'cwhitmore_geosaurus', 'ArcGISPyAPIBot']\n",
    "\n",
    "ignore_accounts_playground = ['andrew', 'andrew.chapkowski', 'dvitale', 'david.vitale',\n",
    "                   'atma.mani', 'john.yaist', 'bill.major', 'YJiang',\n",
    "                   'rohit.singh', 'rohitgeo', 'gbochenek_python',\n",
    "                   'system_publisher', 'admin', 'portaladmin',\n",
    "                   'Demo_User', 'First_User', 'Second_User',\n",
    "                   'api_data_owner', 'arcgis_python', 'temp_execution']\n",
    "\n",
    "\"\"\"accounts that you want to delete groups and items, but keep user\"\"\"\n",
    "target_accounts_online = ['arcgis_python']\n",
    "target_accounts_playground = ['arcgis_python']\n",
    "\n",
    "\"\"\"data to publish\"\"\"\n",
    "data_paths = [r'\\\\archive\\crdata\\Geosaurus_datasets\\data_prep\\csv\\Trailheads.csv']\n",
    "\n",
    "\"\"\"create GIS connection via admin credentials\"\"\"\n",
    "# gis_online = GIS(profile=\"your_online_admin_profile\")\n",
    "# gis_playground = GIS(profile='your_ent_admin_profile')\n",
    "# gis_online = GIS(\"https://geosaurus.maps.arcgis.com\", \"ArcGISPyAPIBot\", \"geosaurus_automation123\", profile=\"your_online_admin_profile\")\n",
    "# gis_online = GIS(\"https://geosaurus.maps.arcgis.com\", \"yjiang_geosaurus\", \"Cody0924?\")"
   ]
  },
  {
   "cell_type": "code",
   "execution_count": 48,
   "metadata": {},
   "outputs": [],
   "source": [
    "def delete_depending_items(dependent_item):\n",
    "    \"\"\"deletes the item's depending items, and then the item\"\"\"\n",
    "    depending_items = None\n",
    "    try:\n",
    "        depending_items = dependent_item.dependent_to()\n",
    "        if depending_items['list']:\n",
    "            for item in depending_items['list']:\n",
    "                delete_depending_items(item)\n",
    "    except:\n",
    "        print(\"=== could not get item list %s\" % dependent_item.homepage)\n",
    "        \n",
    "    if dependent_item.protected:\n",
    "        dependent_item.protect(False)\n",
    "    try:\n",
    "        print(\"=== deleting the item: %s\" % dependent_item.homepage)\n",
    "        dependent_item.delete()\n",
    "    except:\n",
    "        print(\"=== could not delete non-dependent item %s\" % dependent_item.homepage)\n",
    "\n",
    "\n",
    "def delete_items(user):\n",
    "    \"\"\"deletes the user items\"\"\"\n",
    "    folders = [None] + user.folders\n",
    "    for folder in folders:\n",
    "        print(\"=== deleting inside folder: %s\" % folder)\n",
    "        for item in user.items(folder=folder, max_items=255):\n",
    "            delete_depending_items(item)\n",
    "    print(\"=== finished deleting items owned by \" + user.username)\n",
    "\n",
    "\n",
    "def delete_groups(gis, user):\n",
    "    \"\"\"deletes the user groups, and removes user from groups where user is a member of\"\"\"\n",
    "    groups_for_deletion = gis.groups.get('query=owner:' + user.username)\n",
    "    if groups_for_deletion is not None:\n",
    "        for group in groups_for_deletion:\n",
    "            try:\n",
    "                print(\"=== deleting group %s\" % group.groupid)\n",
    "                group.delete()\n",
    "            except:\n",
    "                print(\"=== could not delete group %s\" % group.groupid)\n",
    "\n",
    "    for grp in user.groups:\n",
    "        print(\"=== removing from group: %s\" % grp.id)\n",
    "        if grp.owner != user.username:\n",
    "            try:\n",
    "                grp.remove_users([user.username])\n",
    "            except:\n",
    "                print(\"=== User cannot be removed from group: %s\" % grp.id)\n",
    "    print(\"=== finished deleting groups owned by \" + user.username)\n",
    "\n",
    "\n",
    "def delete_for_users(gis, ignore_accounts, target_accounts):\n",
    "    \"\"\"deletes items and groups for users in target_accounts, and ignore others\"\"\"\n",
    "    for user in gis.users.search():\n",
    "        if user.username not in ignore_accounts and not user.username.startswith(\"esri_\"):\n",
    "            print(\"-*-*-*-*-*-*-Delete groups & items & user for %s -*-*-*-*-*-\" % user.username)\n",
    "            delete_items(user)\n",
    "            delete_groups(gis, user)\n",
    "            try:\n",
    "                user.delete()\n",
    "            except:\n",
    "                print(\"could not delete user %s\" % user.username)\n",
    "\n",
    "        elif user.username in target_accounts:\n",
    "            print(\"-*-*-*-*-*-*-Delete groups & items for %s -*-*-*-*-*-*-*-*-\" % user.username)\n",
    "            delete_items(user)\n",
    "            delete_groups(gis, user)\n",
    "\n",
    "        else:\n",
    "            print(\"-*-*-*-*-*-*-*-*-No Delete for %s -*-*-*-*-*-*-*-*-*-*-\" % user.username)\n",
    "\n",
    "def publish_data(gis, paths):\n",
    "    \"\"\"publish sample data\"\"\"\n",
    "    for path in paths:\n",
    "        item = gis.content.add({}, path)\n",
    "        item.share(everyone=True)\n",
    "        lyr = item.publish()"
   ]
  },
  {
   "cell_type": "code",
   "execution_count": 49,
   "metadata": {},
   "outputs": [],
   "source": [
    "# delete_for_users(gis_online, ignore_accounts_online, target_accounts_online)\n",
    "# delete_for_users(gis_playground, ignore_accounts_playground, target_accounts_playground)"
   ]
  },
  {
   "cell_type": "code",
   "execution_count": 52,
   "metadata": {},
   "outputs": [
    {
     "name": "stdout",
     "output_type": "stream",
     "text": [
      "<Item title:\"Trailheads\" type:CSV owner:yjiang_geosaurus>\n",
      "<Item title:\"Trailheads\" type:Feature Layer Collection owner:yjiang_geosaurus>\n"
     ]
    }
   ],
   "source": [
    "publish_data(gis_online, data_paths)"
   ]
  },
  {
   "cell_type": "code",
   "execution_count": 43,
   "metadata": {},
   "outputs": [],
   "source": [
    "# csv_file = './data/LA_Hub_Datasets/Trailheads.csv'\n",
    "csv_file = r'\\\\archive\\crdata\\Geosaurus_datasets\\data_prep\\csv\\Trailheads.csv'\n",
    "csv_item = gis_online.content.add({}, csv_file)"
   ]
  },
  {
   "cell_type": "code",
   "execution_count": 44,
   "metadata": {},
   "outputs": [
    {
     "data": {
      "text/html": [
       "<div class=\"item_container\" style=\"height: auto; overflow: hidden; border: 1px solid #cfcfcf; border-radius: 2px; background: #f6fafa; line-height: 1.21429em; padding: 10px;\">\n",
       "                    <div class=\"item_left\" style=\"width: 210px; float: left;\">\n",
       "                       <a href='https://geosaurus.maps.arcgis.com/home/item.html?id=42d33de5b59a42a8821bad3558294a0f' target='_blank'>\n",
       "                        <img src='http://static.arcgis.com/images/desktopapp.png' class=\"itemThumbnail\">\n",
       "                       </a>\n",
       "                    </div>\n",
       "\n",
       "                    <div class=\"item_right\"     style=\"float: none; width: auto; overflow: hidden;\">\n",
       "                        <a href='https://geosaurus.maps.arcgis.com/home/item.html?id=42d33de5b59a42a8821bad3558294a0f' target='_blank'><b>Trailheads</b>\n",
       "                        </a>\n",
       "                        <br/><img src='https://geosaurus.maps.arcgis.com/home/js/jsapi/esri/css/images/item_type_icons/layers16.png' style=\"vertical-align:middle;\">CSV by ArcGISPyAPIBot\n",
       "                        <br/>Last Modified: April 11, 2019\n",
       "                        <br/>0 comments, 0 views\n",
       "                    </div>\n",
       "                </div>\n",
       "                "
      ],
      "text/plain": [
       "<Item title:\"Trailheads\" type:CSV owner:ArcGISPyAPIBot>"
      ]
     },
     "execution_count": 44,
     "metadata": {},
     "output_type": "execute_result"
    }
   ],
   "source": [
    "csv_item"
   ]
  },
  {
   "cell_type": "code",
   "execution_count": 46,
   "metadata": {},
   "outputs": [
    {
     "ename": "KeyError",
     "evalue": "'error'",
     "output_type": "error",
     "traceback": [
      "\u001b[1;31m---------------------------------------------------------------------------\u001b[0m",
      "\u001b[1;31mKeyError\u001b[0m                                  Traceback (most recent call last)",
      "\u001b[1;32m~\\AppData\\Local\\Continuum\\anaconda3\\envs\\geosaurus_env\\lib\\site-packages\\arcgis\\gis\\__init__.py\u001b[0m in \u001b[0;36m_check_publish_status\u001b[1;34m(self, ret, folder)\u001b[0m\n\u001b[0;32m   8332\u001b[0m         \u001b[1;32mtry\u001b[0m\u001b[1;33m:\u001b[0m\u001b[1;33m\u001b[0m\u001b[0m\n\u001b[1;32m-> 8333\u001b[1;33m             \u001b[0mserviceitem_id\u001b[0m \u001b[1;33m=\u001b[0m \u001b[0mret\u001b[0m\u001b[1;33m[\u001b[0m\u001b[1;36m0\u001b[0m\u001b[1;33m]\u001b[0m\u001b[1;33m[\u001b[0m\u001b[1;34m'serviceItemId'\u001b[0m\u001b[1;33m]\u001b[0m\u001b[1;33m\u001b[0m\u001b[0m\n\u001b[0m\u001b[0;32m   8334\u001b[0m         \u001b[1;32mexcept\u001b[0m \u001b[0mKeyError\u001b[0m \u001b[1;32mas\u001b[0m \u001b[0mke\u001b[0m\u001b[1;33m:\u001b[0m\u001b[1;33m\u001b[0m\u001b[0m\n",
      "\u001b[1;31mKeyError\u001b[0m: 'serviceItemId'",
      "\nDuring handling of the above exception, another exception occurred:\n",
      "\u001b[1;31mKeyError\u001b[0m                                  Traceback (most recent call last)",
      "\u001b[1;32m<ipython-input-46-3beb846a7ed7>\u001b[0m in \u001b[0;36m<module>\u001b[1;34m\u001b[0m\n\u001b[1;32m----> 1\u001b[1;33m \u001b[0mcsv_lyr\u001b[0m \u001b[1;33m=\u001b[0m \u001b[0mcsv_item\u001b[0m\u001b[1;33m.\u001b[0m\u001b[0mpublish\u001b[0m\u001b[1;33m(\u001b[0m\u001b[1;32mNone\u001b[0m\u001b[1;33m)\u001b[0m\u001b[1;33m\u001b[0m\u001b[0m\n\u001b[0m",
      "\u001b[1;32m~\\AppData\\Local\\Continuum\\anaconda3\\envs\\geosaurus_env\\lib\\site-packages\\arcgis\\gis\\__init__.py\u001b[0m in \u001b[0;36mpublish\u001b[1;34m(self, publish_parameters, address_fields, output_type, overwrite, file_type, build_initial_cache)\u001b[0m\n\u001b[0;32m   8133\u001b[0m             \u001b[1;32mreturn\u001b[0m \u001b[0mItem\u001b[0m\u001b[1;33m(\u001b[0m\u001b[0mself\u001b[0m\u001b[1;33m.\u001b[0m\u001b[0m_gis\u001b[0m\u001b[1;33m,\u001b[0m \u001b[0mret\u001b[0m\u001b[1;33m[\u001b[0m\u001b[1;36m0\u001b[0m\u001b[1;33m]\u001b[0m\u001b[1;33m[\u001b[0m\u001b[1;34m'serviceItemId'\u001b[0m\u001b[1;33m]\u001b[0m\u001b[1;33m)\u001b[0m\u001b[1;33m\u001b[0m\u001b[0m\n\u001b[0;32m   8134\u001b[0m         \u001b[1;32melse\u001b[0m\u001b[1;33m:\u001b[0m\u001b[1;33m\u001b[0m\u001b[0m\n\u001b[1;32m-> 8135\u001b[1;33m             \u001b[0mserviceitem_id\u001b[0m \u001b[1;33m=\u001b[0m \u001b[0mself\u001b[0m\u001b[1;33m.\u001b[0m\u001b[0m_check_publish_status\u001b[0m\u001b[1;33m(\u001b[0m\u001b[0mret\u001b[0m\u001b[1;33m,\u001b[0m \u001b[0mfolder\u001b[0m\u001b[1;33m)\u001b[0m\u001b[1;33m\u001b[0m\u001b[0m\n\u001b[0m\u001b[0;32m   8136\u001b[0m         \u001b[1;32mreturn\u001b[0m \u001b[0mItem\u001b[0m\u001b[1;33m(\u001b[0m\u001b[0mself\u001b[0m\u001b[1;33m.\u001b[0m\u001b[0m_gis\u001b[0m\u001b[1;33m,\u001b[0m \u001b[0mserviceitem_id\u001b[0m\u001b[1;33m)\u001b[0m\u001b[1;33m\u001b[0m\u001b[0m\n\u001b[0;32m   8137\u001b[0m \u001b[1;33m\u001b[0m\u001b[0m\n",
      "\u001b[1;32m~\\AppData\\Local\\Continuum\\anaconda3\\envs\\geosaurus_env\\lib\\site-packages\\arcgis\\gis\\__init__.py\u001b[0m in \u001b[0;36m_check_publish_status\u001b[1;34m(self, ret, folder)\u001b[0m\n\u001b[0;32m   8333\u001b[0m             \u001b[0mserviceitem_id\u001b[0m \u001b[1;33m=\u001b[0m \u001b[0mret\u001b[0m\u001b[1;33m[\u001b[0m\u001b[1;36m0\u001b[0m\u001b[1;33m]\u001b[0m\u001b[1;33m[\u001b[0m\u001b[1;34m'serviceItemId'\u001b[0m\u001b[1;33m]\u001b[0m\u001b[1;33m\u001b[0m\u001b[0m\n\u001b[0;32m   8334\u001b[0m         \u001b[1;32mexcept\u001b[0m \u001b[0mKeyError\u001b[0m \u001b[1;32mas\u001b[0m \u001b[0mke\u001b[0m\u001b[1;33m:\u001b[0m\u001b[1;33m\u001b[0m\u001b[0m\n\u001b[1;32m-> 8335\u001b[1;33m             \u001b[1;32mraise\u001b[0m \u001b[0mRuntimeError\u001b[0m\u001b[1;33m(\u001b[0m\u001b[0mret\u001b[0m\u001b[1;33m[\u001b[0m\u001b[1;36m0\u001b[0m\u001b[1;33m]\u001b[0m\u001b[1;33m[\u001b[0m\u001b[1;34m'error'\u001b[0m\u001b[1;33m]\u001b[0m\u001b[1;33m[\u001b[0m\u001b[1;34m'message'\u001b[0m\u001b[1;33m]\u001b[0m\u001b[1;33m)\u001b[0m\u001b[1;33m\u001b[0m\u001b[0m\n\u001b[0m\u001b[0;32m   8336\u001b[0m \u001b[1;33m\u001b[0m\u001b[0m\n\u001b[0;32m   8337\u001b[0m         \u001b[1;32mif\u001b[0m \u001b[1;34m'jobId'\u001b[0m \u001b[1;32min\u001b[0m \u001b[0mret\u001b[0m\u001b[1;33m[\u001b[0m\u001b[1;36m0\u001b[0m\u001b[1;33m]\u001b[0m\u001b[1;33m:\u001b[0m\u001b[1;33m\u001b[0m\u001b[0m\n",
      "\u001b[1;31mKeyError\u001b[0m: 'error'"
     ]
    }
   ],
   "source": [
    "csv_lyr = csv_item.publish(None)"
   ]
  },
  {
   "cell_type": "code",
   "execution_count": 18,
   "metadata": {},
   "outputs": [
    {
     "data": {
      "text/html": [
       "<div class=\"item_container\" style=\"height: auto; overflow: hidden; border: 1px solid #cfcfcf; border-radius: 2px; background: #f6fafa; line-height: 1.21429em; padding: 10px;\">\n",
       "                    <div class=\"item_left\" style=\"width: 210px; float: left;\">\n",
       "                       <a href='https://geosaurus.maps.arcgis.com/home/item.html?id=c230692096154bad87f07c6e9d1c20a0' target='_blank'>\n",
       "                        <img src='http://static.arcgis.com/images/desktopapp.png' class=\"itemThumbnail\">\n",
       "                       </a>\n",
       "                    </div>\n",
       "\n",
       "                    <div class=\"item_right\"     style=\"float: none; width: auto; overflow: hidden;\">\n",
       "                        <a href='https://geosaurus.maps.arcgis.com/home/item.html?id=c230692096154bad87f07c6e9d1c20a0' target='_blank'><b>Trailheads</b>\n",
       "                        </a>\n",
       "                        <br/><img src='https://geosaurus.maps.arcgis.com/home/js/jsapi/esri/css/images/item_type_icons/featureshosted16.png' style=\"vertical-align:middle;\">Feature Layer Collection by yjiang_geosaurus\n",
       "                        <br/>Last Modified: April 11, 2019\n",
       "                        <br/>0 comments, 0 views\n",
       "                    </div>\n",
       "                </div>\n",
       "                "
      ],
      "text/plain": [
       "<Item title:\"Trailheads\" type:Feature Layer Collection owner:yjiang_geosaurus>"
      ]
     },
     "execution_count": 18,
     "metadata": {},
     "output_type": "execute_result"
    }
   ],
   "source": [
    "csv_lyr"
   ]
  },
  {
   "cell_type": "code",
   "execution_count": null,
   "metadata": {},
   "outputs": [],
   "source": []
  }
 ],
 "metadata": {
  "kernelspec": {
   "display_name": "Python 3",
   "language": "python",
   "name": "python3"
  },
  "language_info": {
   "codemirror_mode": {
    "name": "ipython",
    "version": 3
   },
   "file_extension": ".py",
   "mimetype": "text/x-python",
   "name": "python",
   "nbconvert_exporter": "python",
   "pygments_lexer": "ipython3",
   "version": "3.6.6"
  }
 },
 "nbformat": 4,
 "nbformat_minor": 2
}
