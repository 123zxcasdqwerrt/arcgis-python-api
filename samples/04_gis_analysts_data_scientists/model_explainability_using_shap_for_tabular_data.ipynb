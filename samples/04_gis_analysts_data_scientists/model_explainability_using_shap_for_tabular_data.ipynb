{
 "cells": [
  {
   "cell_type": "markdown",
   "metadata": {},
   "source": [
    "# Model explainability for ML Models"
   ]
  },
  {
   "cell_type": "markdown",
   "metadata": {},
   "source": [
    "# Table of contents"
   ]
  },
  {
   "cell_type": "markdown",
   "metadata": {},
   "source": [
    "- [Introduction](#Introduction)\n",
    "- [What is SHAP](#SHAP)\n",
    "- [Prepare Data](#prepare)\n",
    "- [Load a Trained ML model](#LoadModel)\n",
    "- [Local Prediction Interpretation](#Local)\n",
    "- [Global Interpretation](#Global)"
   ]
  },
  {
   "cell_type": "markdown",
   "metadata": {},
   "source": [
    "# Introduction \n",
    "<a id='Introduction'></a> "
   ]
  },
  {
   "cell_type": "markdown",
   "metadata": {},
   "source": [
    "Machine learning is growing at a fast pace. Researchers are coming up with new models and architectures that are taking the predictive power of these models to new heights everyday. Amidst this growing enthusiasm about the improving model performance, there is certain growing hesitancy among the users. This hesitancy is due to the \"black box\" nature of a lot of these models. A lack of transparency is definitely seen and the users are even now ready to sacrifice a bit of model performance in favour of using a model which is more \"explainable\". Tree based models have always been explainable due to their inherent nature. \n",
    "\n",
    "Keep in mind the growing uset need for explainability, `arcgis.learn` has now added explainability feature to all of its models that work with tabular data. This includes all the MLModels and the fully conneccted networks. `arcgis.learn` is now integrated with the model explainability that [SHAP](https://github.com/slundberg/shap) offers. "
   ]
  },
  {
   "cell_type": "markdown",
   "metadata": {},
   "source": [
    "# What is SHAP? \n",
    "<a id='SHAP'></a> "
   ]
  },
  {
   "cell_type": "markdown",
   "metadata": {},
   "source": [
    "SHAP (SHapley Additive exPlanations) is a game theoretic approach to explain the output of any machine learning model. It connects optimal credit allocation with local explanations using the classic Shapley values from game theory and their related extensions. More details about SHAP and its implementation can be found here. https://github.com/slundberg/shap"
   ]
  },
  {
   "cell_type": "markdown",
   "metadata": {},
   "source": [
    "# Prepare Data\n",
    "<a id='prepare'></a> "
   ]
  },
  {
   "cell_type": "markdown",
   "metadata": {},
   "source": [
    "In this guide, we will use a pretrained model to get the predictions of energy generation for Solar Photovoltaic power plants using weather variables. We will then see, how using model explainability we can get the explanations for individual predictions. Finally, we will also see global model interpretibility. To get more details of the use case and how to train such a model please refer https://developers.arcgis.com/python/sample-notebooks/solar-energy-prediction-using-weather-variables/"
   ]
  },
  {
   "cell_type": "code",
   "execution_count": 1,
   "metadata": {},
   "outputs": [],
   "source": [
    "import shap\n",
    "import arcgis\n",
    "from arcgis.gis import GIS\n",
    "from arcgis.learn import FullyConnectedNetwork, MLModel, prepare_tabulardata\n",
    "from sklearn.preprocessing import MinMaxScaler,RobustScaler\n",
    "import pandas as pd"
   ]
  },
  {
   "cell_type": "code",
   "execution_count": 2,
   "metadata": {},
   "outputs": [],
   "source": [
    "gis = GIS('https://geosaurus.maps.arcgis.com/', <<Your GIS profile User>>, <<Your GIS profile pwd>>)"
   ]
  },
  {
   "cell_type": "code",
   "execution_count": 3,
   "metadata": {},
   "outputs": [],
   "source": [
    "calgary_no_southland_solar = gis.content.search('calgary_no_southland_solar owner:api_data_owner', 'feature layer')[0]\n",
    "calgary_no_southland_solar\n",
    "calgary_no_southland_solar_layer = calgary_no_southland_solar.layers[0]\n",
    "m1 = gis.map('calgary', zoomlevel=10)\n",
    "m1.add_layer(calgary_no_southland_solar_layer)\n",
    "m1\n",
    "calgary_no_southland_solar_layer_sdf = calgary_no_southland_solar_layer.query().sdf\n",
    "calgary_no_southland_solar_layer_sdf=calgary_no_southland_solar_layer_sdf[['FID','date','ID','solar_plan','altitude_m',\n",
    "                                                                           'latitude','longitude','wind_speed','dayl__s_',\n",
    "                                                                           'prcp__mm_d','srad__W_m_','swe__kg_m_', 'tmax__deg',\n",
    "                                                                           'tmin__deg','vp__Pa_','kWh_filled','capacity_f',\n",
    "                                                                           'SHAPE']]\n",
    "X = ['altitude_m', 'wind_speed', 'dayl__s_', 'prcp__mm_d','srad__W_m_','swe__kg_m_','tmax__deg','tmin__deg','vp__Pa_']\n",
    "preprocessors =  [('altitude_m', 'wind_speed', 'dayl__s_', 'prcp__mm_d','srad__W_m_','swe__kg_m_','tmax__deg',\n",
    "                   'tmin__deg','vp__Pa_', RobustScaler())]"
   ]
  },
  {
   "cell_type": "code",
   "execution_count": 4,
   "metadata": {},
   "outputs": [],
   "source": [
    "data = prepare_tabulardata(calgary_no_southland_solar_layer,\n",
    "                           'capacity_f',\n",
    "                           explanatory_variables=X,                           \n",
    "                           preprocessors=preprocessors)"
   ]
  },
  {
   "cell_type": "markdown",
   "metadata": {},
   "source": [
    "# Load a Trained ML Model \n",
    "<a id='LoadModel'></a> "
   ]
  },
  {
   "cell_type": "markdown",
   "metadata": {},
   "source": [
    "Here we load a trained model which can predict the efficiency of the solar panels based on attributes like length of the day, weather , temperature etc."
   ]
  },
  {
   "cell_type": "code",
   "execution_count": 15,
   "metadata": {},
   "outputs": [],
   "source": [
    "model=MLModel.from_model('C:/Users/Karthik/Desktop/Base/MLModel/ML_Model_RF1/ML_Model_RF1.emd',data)"
   ]
  },
  {
   "cell_type": "code",
   "execution_count": null,
   "metadata": {},
   "outputs": [],
   "source": [
    "valid=data._dataframe.iloc[data._validation_indexes,:]\n",
    "train=data._dataframe.iloc[data._training_indexes,:]"
   ]
  },
  {
   "cell_type": "markdown",
   "metadata": {},
   "source": [
    "# Local Prediction interpretation\n",
    "<a id='Local'></a>"
   ]
  },
  {
   "cell_type": "markdown",
   "metadata": {},
   "source": [
    "Now we make a prediction on a sample row. The predict method in `arcgis.learn` MLModel and Fully connected network has been modified to accept two new parameters 'explain' and 'explain_index'. \n",
    "\n",
    "- The paramter explain is boolean and setting this parameter to True allows the user to get the explanation of the prediction. \n",
    "\n",
    "- The paramter explain_index is an int and it is the index of the row of the dataframe for which the user would like to get the explanation for. It is only possible to get explanation for one row/index/sample at a time. "
   ]
  },
  {
   "cell_type": "code",
   "execution_count": 16,
   "metadata": {},
   "outputs": [
    {
     "name": "stderr",
     "output_type": "stream",
     "text": [
      "Using 500 background data samples could cause slower run times. Consider using shap.sample(data, K) or shap.kmeans(data, K) to summarize the background as K samples.\n"
     ]
    },
    {
     "data": {
      "application/vnd.jupyter.widget-view+json": {
       "model_id": "f4530b1abb6b4a419caab2a7bc0485d4",
       "version_major": 2,
       "version_minor": 0
      },
      "text/plain": [
       "HBox(children=(HTML(value=''), FloatProgress(value=0.0, max=1.0), HTML(value='')))"
      ]
     },
     "metadata": {},
     "output_type": "display_data"
    },
    {
     "name": "stdout",
     "output_type": "stream",
     "text": [
      "\n"
     ]
    },
    {
     "data": {
      "image/png": "[encoded data removed]",
      "text/plain": [
       "<Figure size 1440x216 with 1 Axes>"
      ]
     },
     "metadata": {
      "needs_background": "light"
     },
     "output_type": "display_data"
    },
    {
     "data": {
      "text/html": [
       "<div>\n",
       "<style scoped>\n",
       "    .dataframe tbody tr th:only-of-type {\n",
       "        vertical-align: middle;\n",
       "    }\n",
       "\n",
       "    .dataframe tbody tr th {\n",
       "        vertical-align: top;\n",
       "    }\n",
       "\n",
       "    .dataframe thead th {\n",
       "        text-align: right;\n",
       "    }\n",
       "</style>\n",
       "<table border=\"1\" class=\"dataframe\">\n",
       "  <thead>\n",
       "    <tr style=\"text-align: right;\">\n",
       "      <th></th>\n",
       "      <th>altitude_m</th>\n",
       "      <th>wind_speed</th>\n",
       "      <th>dayl__s_</th>\n",
       "      <th>prcp__mm_d</th>\n",
       "      <th>srad__W_m_</th>\n",
       "      <th>swe__kg_m_</th>\n",
       "      <th>tmax__deg</th>\n",
       "      <th>tmin__deg</th>\n",
       "      <th>vp__Pa_</th>\n",
       "      <th>prediction_results</th>\n",
       "    </tr>\n",
       "  </thead>\n",
       "  <tbody>\n",
       "    <tr>\n",
       "      <th>0</th>\n",
       "      <td>1095</td>\n",
       "      <td>7.204670</td>\n",
       "      <td>27648.000000</td>\n",
       "      <td>1</td>\n",
       "      <td>108.800003</td>\n",
       "      <td>12</td>\n",
       "      <td>-10.5</td>\n",
       "      <td>-21.0</td>\n",
       "      <td>120</td>\n",
       "      <td>-0.012350</td>\n",
       "    </tr>\n",
       "    <tr>\n",
       "      <th>1</th>\n",
       "      <td>1095</td>\n",
       "      <td>3.385235</td>\n",
       "      <td>27648.000000</td>\n",
       "      <td>1</td>\n",
       "      <td>115.199997</td>\n",
       "      <td>12</td>\n",
       "      <td>-18.0</td>\n",
       "      <td>-29.5</td>\n",
       "      <td>40</td>\n",
       "      <td>-0.023367</td>\n",
       "    </tr>\n",
       "    <tr>\n",
       "      <th>2</th>\n",
       "      <td>1095</td>\n",
       "      <td>5.076316</td>\n",
       "      <td>27648.000000</td>\n",
       "      <td>0</td>\n",
       "      <td>118.400002</td>\n",
       "      <td>12</td>\n",
       "      <td>-20.0</td>\n",
       "      <td>-32.0</td>\n",
       "      <td>40</td>\n",
       "      <td>-0.033506</td>\n",
       "    </tr>\n",
       "    <tr>\n",
       "      <th>3</th>\n",
       "      <td>1095</td>\n",
       "      <td>5.617623</td>\n",
       "      <td>27648.000000</td>\n",
       "      <td>0</td>\n",
       "      <td>96.000000</td>\n",
       "      <td>12</td>\n",
       "      <td>-18.0</td>\n",
       "      <td>-26.5</td>\n",
       "      <td>80</td>\n",
       "      <td>-0.032795</td>\n",
       "    </tr>\n",
       "    <tr>\n",
       "      <th>4</th>\n",
       "      <td>1095</td>\n",
       "      <td>2.561512</td>\n",
       "      <td>27648.000000</td>\n",
       "      <td>0</td>\n",
       "      <td>118.400002</td>\n",
       "      <td>12</td>\n",
       "      <td>-17.0</td>\n",
       "      <td>-28.5</td>\n",
       "      <td>40</td>\n",
       "      <td>-0.019064</td>\n",
       "    </tr>\n",
       "    <tr>\n",
       "      <th>5</th>\n",
       "      <td>1095</td>\n",
       "      <td>3.362019</td>\n",
       "      <td>27993.599609</td>\n",
       "      <td>2</td>\n",
       "      <td>67.199997</td>\n",
       "      <td>16</td>\n",
       "      <td>-21.5</td>\n",
       "      <td>-27.0</td>\n",
       "      <td>80</td>\n",
       "      <td>-0.043717</td>\n",
       "    </tr>\n",
       "    <tr>\n",
       "      <th>6</th>\n",
       "      <td>1095</td>\n",
       "      <td>4.025039</td>\n",
       "      <td>27993.599609</td>\n",
       "      <td>5</td>\n",
       "      <td>48.000000</td>\n",
       "      <td>20</td>\n",
       "      <td>-25.5</td>\n",
       "      <td>-30.5</td>\n",
       "      <td>40</td>\n",
       "      <td>-0.060310</td>\n",
       "    </tr>\n",
       "    <tr>\n",
       "      <th>7</th>\n",
       "      <td>1095</td>\n",
       "      <td>4.275431</td>\n",
       "      <td>27993.599609</td>\n",
       "      <td>0</td>\n",
       "      <td>112.000000</td>\n",
       "      <td>20</td>\n",
       "      <td>-24.5</td>\n",
       "      <td>-34.5</td>\n",
       "      <td>40</td>\n",
       "      <td>-0.047935</td>\n",
       "    </tr>\n",
       "    <tr>\n",
       "      <th>8</th>\n",
       "      <td>1095</td>\n",
       "      <td>8.036874</td>\n",
       "      <td>27993.599609</td>\n",
       "      <td>0</td>\n",
       "      <td>150.399994</td>\n",
       "      <td>0</td>\n",
       "      <td>-5.0</td>\n",
       "      <td>-30.5</td>\n",
       "      <td>40</td>\n",
       "      <td>-0.000990</td>\n",
       "    </tr>\n",
       "    <tr>\n",
       "      <th>9</th>\n",
       "      <td>1095</td>\n",
       "      <td>9.595293</td>\n",
       "      <td>27993.599609</td>\n",
       "      <td>0</td>\n",
       "      <td>112.000000</td>\n",
       "      <td>0</td>\n",
       "      <td>0.0</td>\n",
       "      <td>-11.0</td>\n",
       "      <td>280</td>\n",
       "      <td>0.015096</td>\n",
       "    </tr>\n",
       "  </tbody>\n",
       "</table>\n",
       "</div>"
      ],
      "text/plain": [
       "   altitude_m  wind_speed      dayl__s_  prcp__mm_d  srad__W_m_  swe__kg_m_  \\\n",
       "0        1095    7.204670  27648.000000           1  108.800003          12   \n",
       "1        1095    3.385235  27648.000000           1  115.199997          12   \n",
       "2        1095    5.076316  27648.000000           0  118.400002          12   \n",
       "3        1095    5.617623  27648.000000           0   96.000000          12   \n",
       "4        1095    2.561512  27648.000000           0  118.400002          12   \n",
       "5        1095    3.362019  27993.599609           2   67.199997          16   \n",
       "6        1095    4.025039  27993.599609           5   48.000000          20   \n",
       "7        1095    4.275431  27993.599609           0  112.000000          20   \n",
       "8        1095    8.036874  27993.599609           0  150.399994           0   \n",
       "9        1095    9.595293  27993.599609           0  112.000000           0   \n",
       "\n",
       "   tmax__deg  tmin__deg  vp__Pa_  prediction_results  \n",
       "0      -10.5      -21.0      120           -0.012350  \n",
       "1      -18.0      -29.5       40           -0.023367  \n",
       "2      -20.0      -32.0       40           -0.033506  \n",
       "3      -18.0      -26.5       80           -0.032795  \n",
       "4      -17.0      -28.5       40           -0.019064  \n",
       "5      -21.5      -27.0       80           -0.043717  \n",
       "6      -25.5      -30.5       40           -0.060310  \n",
       "7      -24.5      -34.5       40           -0.047935  \n",
       "8       -5.0      -30.5       40           -0.000990  \n",
       "9        0.0      -11.0      280            0.015096  "
      ]
     },
     "execution_count": 16,
     "metadata": {},
     "output_type": "execute_result"
    }
   ],
   "source": [
    "out=model.predict(model._data._dataframe[X],prediction_type='dataframe',explain=True,explain_index=0 )\n",
    "out.head(10)"
   ]
  },
  {
   "cell_type": "markdown",
   "metadata": {},
   "source": [
    "Running the predictions with explain set to true will generate a plot which is shown above, along with the predictions for all the samples passed into the predict function. Note, that the prediction explanation is generated only for the first observation (With row 0) since 0 was passed as the value for the parameter explai_index"
   ]
  },
  {
   "cell_type": "markdown",
   "metadata": {},
   "source": [
    "The plot says that the mean average value of the entire dataset (denoted as base value in the plot) is 0.12 and the prediction for this specific observation is -0.01.\n",
    "Apart from this plot also says that the parameter srad_W_m has had the greatest influence on the model in getting the prediction of this specific record. This is represented by the length of the block srad_W_m_. \n",
    "All the parameters in Blue are making the model move away towards the left from the base prediction and the parameters in Red (In this case - None) are influencing the model positively. \n",
    "\n",
    "For more details , refer to https://github.com/slundberg/shap"
   ]
  },
  {
   "cell_type": "markdown",
   "metadata": {},
   "source": [
    "# Global Interpretation\n",
    "<a id='Global'></a>"
   ]
  },
  {
   "cell_type": "markdown",
   "metadata": {},
   "source": [
    "We can now also visualize the global interpretation (Similar to feature importance in sklearn). Unlike sklearn this plot can be generated for non tree models of sklearn as well.This plot tells the user the impact that each feature in the dataset has on the model as a whole. We can infer from the plot that the feature srad_W_m_ has the highest impact on the model decision making and the feature altitude_m has the least impact."
   ]
  },
  {
   "cell_type": "code",
   "execution_count": 10,
   "metadata": {},
   "outputs": [
    {
     "data": {
      "application/vnd.jupyter.widget-view+json": {
       "model_id": "f4416f56cdeb4cb7bba9446e94590c85",
       "version_major": 2,
       "version_minor": 0
      },
      "text/plain": [
       "HBox(children=(HTML(value=''), FloatProgress(value=0.0, max=500.0), HTML(value='')))"
      ]
     },
     "metadata": {},
     "output_type": "display_data"
    },
    {
     "name": "stdout",
     "output_type": "stream",
     "text": [
      "\n"
     ]
    },
    {
     "data": {
      "image/png": "[encoded data removed]",
      "text/plain": [
       "<Figure size 576x367.2 with 1 Axes>"
      ]
     },
     "metadata": {
      "needs_background": "light"
     },
     "output_type": "display_data"
    }
   ],
   "source": [
    "model_lin.feature_importances_"
   ]
  }
 ],
 "metadata": {
  "kernelspec": {
   "display_name": "Python 3",
   "language": "python",
   "name": "python3"
  },
  "language_info": {
   "codemirror_mode": {
    "name": "ipython",
    "version": 3
   },
   "file_extension": ".py",
   "mimetype": "text/x-python",
   "name": "python",
   "nbconvert_exporter": "python",
   "pygments_lexer": "ipython3",
   "version": "3.7.10"
  }
 },
 "nbformat": 4,
 "nbformat_minor": 4
}
