{
 "cells": [
  {
   "cell_type": "markdown",
   "metadata": {},
   "source": [
    "# Creating hurricane tracks using Geoanalytics\n",
    "\n",
    "The sample code below uses big data analytics ([GeoAnalytics](http://enterprise.arcgis.com/en/server/latest/get-started/windows/what-is-arcgis-geoanalytics-server-.htm)) to reconstruct hurricane tracks using data registered on a [big data file share](http://enterprise.arcgis.com/en/server/latest/get-started/windows/what-is-a-big-data-file-share.htm) in the GIS. \n",
    "> Note: This functionality is currently only available on ArcGIS Enterprise 10.5 and later and not yet with ArcGIS Online.\n",
    "\n",
    "## Reconstruct tracks\n",
    "Reconstruct tracks is a type of data aggregation tool available in the [`arcgis.geoanalytics`](https://esri.github.io/arcgis-python-api/apidoc/html/arcgis.geoanalytics.toc.html) module. This tool works with a layer of point features or polygon features that are [time enabled](http://enterprise.arcgis.com/en/portal/latest/use/configure-time.htm). It first determines which points belong to a track using an identification number or identification string. Using the time at each location, the tracks are ordered sequentially and transformed into a line representing the path of movement.\n",
    "\n",
    "## Data used\n",
    "This sample uses hurricane data collected from 1848 through 2010, totalling over 177,000 points stored as a shapefile. The [National Hurricane Center](http://www.nhc.noaa.gov/gis/) provides similar datasets that can be used for exploratory purposes.\n",
    "\n",
    "To illustrate the nature of the data, a subset was published as a feature layer so we can visualize it:"
   ]
  },
  {
   "cell_type": "code",
   "execution_count": 1,
   "metadata": {
    "scrolled": true
   },
   "outputs": [
    {
     "data": {
      "text/html": [
       "<div class=\"item_container\" style=\"height: auto; overflow: hidden; border: 1px solid #cfcfcf; border-radius: 2px; background: #f6fafa; line-height: 1.21429em; padding: 10px;\">\n",
       "                    <div class=\"item_left\" style=\"width: 210px; float: left;\">\n",
       "                       <a href='https://www.arcgis.com/home/item.html?id=8ebd08e3d0c04d249b29afba7a5e1b8f' target='_blank'>\n",
       "                        <img src='https://www.arcgis.com/sharing/rest//content/items/8ebd08e3d0c04d249b29afba7a5e1b8f/info/thumbnail/thumbnail.png' class=\"itemThumbnail\">\n",
       "                       </a>\n",
       "                    </div>\n",
       "\n",
       "                    <div class=\"item_right\"     style=\"float: none; width: auto; overflow: hidden;\">\n",
       "                        <a href='https://www.arcgis.com/home/item.html?id=8ebd08e3d0c04d249b29afba7a5e1b8f' target='_blank'><b>Hurricane_tracks_points</b>\n",
       "                        </a>\n",
       "                        <br/>Years 1932 - 1942<img src='https://www.arcgis.com/home/js/jsapi/esri/css/images/item_type_icons/featureshosted16.png' style=\"vertical-align:middle;\">Feature Layer Collection by atma.mani\n",
       "                        <br/>Last Modified: September 15, 2016\n",
       "                        <br/>0 comments, 780 views\n",
       "                    </div>\n",
       "                </div>\n",
       "                "
      ],
      "text/plain": [
       "<Item title:\"Hurricane_tracks_points\" type:Feature Layer Collection owner:atma.mani>"
      ]
     },
     "execution_count": 1,
     "metadata": {},
     "output_type": "execute_result"
    }
   ],
   "source": [
    "from arcgis.gis import GIS\n",
    "\n",
    "# Create an anonymous connection to ArcGIS Online\n",
    "arcgis_online = GIS()\n",
    "hurricane_pts = arcgis_online.content.search(\"Hurricane_tracks_points AND owner:atma.mani\", \"Feature Layer\")[0]\n",
    "hurricane_pts"
   ]
  },
  {
   "cell_type": "code",
<<<<<<< HEAD
   "execution_count": null,
   "metadata": {},
   "outputs": [
    {
     "data": {
      "application/vnd.jupyter.widget-view+json": {
       "model_id": "034bea83f1f74c438f5f46bc23d87878",
       "version_major": 2,
       "version_minor": 0
      },
      "text/plain": [
       "MapView(basemaps=['dark-gray', 'dark-gray-vector', 'gray', 'gray-vector', 'hybrid', 'national-geographic', 'oc…"
      ]
     },
     "metadata": {},
     "output_type": "display_data"
    }
   ],
=======
   "execution_count": 2,
   "metadata": {
    "collapsed": true
   },
   "outputs": [],
>>>>>>> upstream/dev_site_current
   "source": [
    "subset_map = arcgis_online.map(\"USA\")\n",
    "subset_map"
   ]
  },
  {
   "cell_type": "markdown",
   "metadata": {},
   "source": [
    "![subset_img](http://esri.github.io/arcgis-python-api/notebooks/nbimages/04_HurricaneGeoanalytics_01.PNG)"
   ]
  },
  {
   "cell_type": "code",
   "execution_count": 3,
   "metadata": {},
   "outputs": [],
   "source": [
    "subset_map.add_layer(hurricane_pts)"
   ]
  },
  {
   "cell_type": "markdown",
   "metadata": {},
   "source": [
    "## Inspect the data attributes\n",
    "Let us query the first layer in hurricane_pts and view its attribute table as a Pandas dataframe."
   ]
  },
  {
   "cell_type": "code",
   "execution_count": 4,
   "metadata": {},
   "outputs": [
    {
     "data": {
      "text/html": [
       "<div>\n",
       "<style>\n",
       "    .dataframe thead tr:only-child th {\n",
       "        text-align: right;\n",
       "    }\n",
       "\n",
       "    .dataframe thead th {\n",
       "        text-align: left;\n",
       "    }\n",
       "\n",
       "    .dataframe tbody tr th {\n",
       "        vertical-align: top;\n",
       "    }\n",
       "</style>\n",
       "<table border=\"1\" class=\"dataframe\">\n",
       "  <thead>\n",
       "    <tr style=\"text-align: right;\">\n",
       "      <th></th>\n",
       "      <th>ATC_eye</th>\n",
       "      <th>ATC_grade</th>\n",
       "      <th>ATC_poci</th>\n",
       "      <th>ATC_pres</th>\n",
       "      <th>ATC_rmw</th>\n",
       "      <th>ATC_roci</th>\n",
       "      <th>ATC_w34_r1</th>\n",
       "      <th>ATC_w34_r2</th>\n",
       "      <th>ATC_w34_r3</th>\n",
       "      <th>ATC_w34_r4</th>\n",
       "      <th>...</th>\n",
       "      <th>day</th>\n",
       "      <th>hour</th>\n",
       "      <th>min_</th>\n",
       "      <th>month</th>\n",
       "      <th>wmo_pres</th>\n",
       "      <th>wmo_pres__</th>\n",
       "      <th>wmo_wind</th>\n",
       "      <th>wmo_wind__</th>\n",
       "      <th>year</th>\n",
       "      <th>SHAPE</th>\n",
       "    </tr>\n",
       "  </thead>\n",
       "  <tbody>\n",
       "    <tr>\n",
       "      <th>0</th>\n",
       "      <td>-999</td>\n",
       "      <td>-999.</td>\n",
       "      <td>-999</td>\n",
       "      <td>-999</td>\n",
       "      <td>-999</td>\n",
       "      <td>-999</td>\n",
       "      <td>-999</td>\n",
       "      <td>-999</td>\n",
       "      <td>-999</td>\n",
       "      <td>-999</td>\n",
       "      <td>...</td>\n",
       "      <td>1</td>\n",
       "      <td>0</td>\n",
       "      <td>0</td>\n",
       "      <td>1</td>\n",
       "      <td>-999</td>\n",
       "      <td>-999.0</td>\n",
       "      <td>-999</td>\n",
       "      <td>-999.0</td>\n",
       "      <td>1932</td>\n",
       "      <td>{'x': 58.749999999600334, 'y': -18.07999992365...</td>\n",
       "    </tr>\n",
       "    <tr>\n",
       "      <th>1</th>\n",
       "      <td>-999</td>\n",
       "      <td>-999.</td>\n",
       "      <td>-999</td>\n",
       "      <td>-999</td>\n",
       "      <td>-999</td>\n",
       "      <td>-999</td>\n",
       "      <td>-999</td>\n",
       "      <td>-999</td>\n",
       "      <td>-999</td>\n",
       "      <td>-999</td>\n",
       "      <td>...</td>\n",
       "      <td>1</td>\n",
       "      <td>6</td>\n",
       "      <td>0</td>\n",
       "      <td>1</td>\n",
       "      <td>0</td>\n",
       "      <td>-100.0</td>\n",
       "      <td>0</td>\n",
       "      <td>-100.0</td>\n",
       "      <td>1932</td>\n",
       "      <td>{'x': 58.40000152555001, 'y': -18.499999999800...</td>\n",
       "    </tr>\n",
       "    <tr>\n",
       "      <th>2</th>\n",
       "      <td>-999</td>\n",
       "      <td>-999.</td>\n",
       "      <td>-999</td>\n",
       "      <td>-999</td>\n",
       "      <td>-999</td>\n",
       "      <td>-999</td>\n",
       "      <td>-999</td>\n",
       "      <td>-999</td>\n",
       "      <td>-999</td>\n",
       "      <td>-999</td>\n",
       "      <td>...</td>\n",
       "      <td>1</td>\n",
       "      <td>12</td>\n",
       "      <td>0</td>\n",
       "      <td>1</td>\n",
       "      <td>-999</td>\n",
       "      <td>-999.0</td>\n",
       "      <td>-999</td>\n",
       "      <td>-999.0</td>\n",
       "      <td>1932</td>\n",
       "      <td>{'x': 58.06999969483013, 'y': -18.899999618587...</td>\n",
       "    </tr>\n",
       "    <tr>\n",
       "      <th>3</th>\n",
       "      <td>-999</td>\n",
       "      <td>-999.</td>\n",
       "      <td>-999</td>\n",
       "      <td>-999</td>\n",
       "      <td>-999</td>\n",
       "      <td>-999</td>\n",
       "      <td>-999</td>\n",
       "      <td>-999</td>\n",
       "      <td>-999</td>\n",
       "      <td>-999</td>\n",
       "      <td>...</td>\n",
       "      <td>1</td>\n",
       "      <td>18</td>\n",
       "      <td>0</td>\n",
       "      <td>1</td>\n",
       "      <td>-999</td>\n",
       "      <td>-999.0</td>\n",
       "      <td>-999</td>\n",
       "      <td>-999.0</td>\n",
       "      <td>1932</td>\n",
       "      <td>{'x': 57.729999542445, 'y': -19.3099994656028,...</td>\n",
       "    </tr>\n",
       "    <tr>\n",
       "      <th>4</th>\n",
       "      <td>-999</td>\n",
       "      <td>-999.</td>\n",
       "      <td>-999</td>\n",
       "      <td>-999</td>\n",
       "      <td>-999</td>\n",
       "      <td>-999</td>\n",
       "      <td>-999</td>\n",
       "      <td>-999</td>\n",
       "      <td>-999</td>\n",
       "      <td>-999</td>\n",
       "      <td>...</td>\n",
       "      <td>2</td>\n",
       "      <td>0</td>\n",
       "      <td>0</td>\n",
       "      <td>1</td>\n",
       "      <td>-999</td>\n",
       "      <td>-999.0</td>\n",
       "      <td>-999</td>\n",
       "      <td>-999.0</td>\n",
       "      <td>1932</td>\n",
       "      <td>{'x': 57.3499984744501, 'y': -19.7600002291272...</td>\n",
       "    </tr>\n",
       "  </tbody>\n",
       "</table>\n",
       "<p>5 rows × 148 columns</p>\n",
       "</div>"
      ],
      "text/plain": [
       "   ATC_eye ATC_grade  ATC_poci  ATC_pres  ATC_rmw  ATC_roci  ATC_w34_r1  \\\n",
       "0     -999     -999.      -999      -999     -999      -999        -999   \n",
       "1     -999     -999.      -999      -999     -999      -999        -999   \n",
       "2     -999     -999.      -999      -999     -999      -999        -999   \n",
       "3     -999     -999.      -999      -999     -999      -999        -999   \n",
       "4     -999     -999.      -999      -999     -999      -999        -999   \n",
       "\n",
       "   ATC_w34_r2  ATC_w34_r3  ATC_w34_r4  \\\n",
       "0        -999        -999        -999   \n",
       "1        -999        -999        -999   \n",
       "2        -999        -999        -999   \n",
       "3        -999        -999        -999   \n",
       "4        -999        -999        -999   \n",
       "\n",
       "                         ...                          day  hour  min_  month  \\\n",
       "0                        ...                            1     0     0      1   \n",
       "1                        ...                            1     6     0      1   \n",
       "2                        ...                            1    12     0      1   \n",
       "3                        ...                            1    18     0      1   \n",
       "4                        ...                            2     0     0      1   \n",
       "\n",
       "   wmo_pres  wmo_pres__  wmo_wind  wmo_wind__  year  \\\n",
       "0      -999      -999.0      -999      -999.0  1932   \n",
       "1         0      -100.0         0      -100.0  1932   \n",
       "2      -999      -999.0      -999      -999.0  1932   \n",
       "3      -999      -999.0      -999      -999.0  1932   \n",
       "4      -999      -999.0      -999      -999.0  1932   \n",
       "\n",
       "                                               SHAPE  \n",
       "0  {'x': 58.749999999600334, 'y': -18.07999992365...  \n",
       "1  {'x': 58.40000152555001, 'y': -18.499999999800...  \n",
       "2  {'x': 58.06999969483013, 'y': -18.899999618587...  \n",
       "3  {'x': 57.729999542445, 'y': -19.3099994656028,...  \n",
       "4  {'x': 57.3499984744501, 'y': -19.7600002291272...  \n",
       "\n",
       "[5 rows x 148 columns]"
      ]
     },
     "execution_count": 4,
     "metadata": {},
     "output_type": "execute_result"
    }
   ],
   "source": [
    "hurricane_pts.layers[0].query().df.head()"
   ]
  },
  {
   "cell_type": "markdown",
   "metadata": {},
   "source": [
    "## Create a data store\n",
    "GeoAnalytics server processes big data through [big data file share](http://enterprise.arcgis.com/en/server/latest/get-started/windows/what-is-a-big-data-file-share.htm) items published on the portal. In our case, the source hurricane data is stored as a shapefile. We created the big data file share by [registering the folder](http://enterprise.arcgis.com/en/server/latest/get-started/windows/what-is-a-big-data-file-share.htm#ESRI_SECTION1_CC7720EEC36F47149C7F82E1FCEDF2F7) containing the shapefile as a data store of type `bigDataFileShare`. \n",
    "\n",
    "Let us connect to an ArcGIS Enterprise and use the [Datastore Manager](https://esri.github.io/arcgis-python-api/apidoc/html/arcgis.gis.toc.html#datastoremanager) to search for big data file shares:"
   ]
  },
  {
   "cell_type": "code",
   "execution_count": 5,
   "metadata": {
    "collapsed": true
   },
   "outputs": [],
   "source": [
    "gis = GIS(\"https://pythonapi.playground.esri.com/portal\", \"arcgis_python\", \"amazing_arcgis_123\")"
   ]
  },
  {
   "cell_type": "markdown",
   "metadata": {},
   "source": [
    "Get the geoanalytics datastores and search it for the registered datasets:"
   ]
  },
  {
   "cell_type": "code",
   "execution_count": 6,
   "metadata": {},
   "outputs": [
    {
     "data": {
      "text/plain": [
       "[<Datastore title:\"/bigDataFileShares/NYC_taxi_data15\" type:\"bigDataFileShare\">,\n",
       " <Datastore title:\"/bigDataFileShares/all_hurricanes\" type:\"bigDataFileShare\">,\n",
       " <Datastore title:\"/bigDataFileShares/hurricanes_1848_1900\" type:\"bigDataFileShare\">]"
      ]
     },
     "execution_count": 6,
     "metadata": {},
     "output_type": "execute_result"
    }
   ],
   "source": [
    "# Query the data stores available\n",
    "import arcgis\n",
    "datastores = arcgis.geoanalytics.get_datastores()\n",
    "bigdata_fileshares = datastores.search()\n",
    "bigdata_fileshares"
   ]
  },
  {
   "cell_type": "markdown",
   "metadata": {},
   "source": [
    "Using the `Datastore Manager.search()` method with no parameters returns all the datastores registered with the GeoAnalytics Server. We see the `all_hurricanes` big data file share in the list of datastores, so let's retrieve the [`datastore`](https://esri.github.io/arcgis-python-api/apidoc/html/arcgis.gis.toc.html#datastore):"
   ]
  },
  {
   "cell_type": "code",
<<<<<<< HEAD
   "execution_count": 15,
   "metadata": {},
=======
   "execution_count": 7,
   "metadata": {
    "collapsed": true
   },
>>>>>>> upstream/dev_site_current
   "outputs": [],
   "source": [
    "data_item = bigdata_fileshares[1]"
   ]
  },
  {
   "cell_type": "markdown",
   "metadata": {},
   "source": [
    "If there is no big data file share for hurricane track data, we can use the Datastore Manager [`add_bigdata()`](https://esri.github.io/arcgis-python-api/apidoc/html/arcgis.gis.toc.html#item) method to register a shared folder accessible by the GeoAnalytics Server (see [Making your data accessible](http://enterprise.arcgis.com/en/server/latest/install/linux/making-your-data-accessible-to-arcgis-server.htm) as a big data file share:"
   ]
  },
  {
   "cell_type": "code",
   "execution_count": 8,
   "metadata": {},
   "outputs": [
    {
     "name": "stdout",
     "output_type": "stream",
     "text": [
      "Created Big Data file share for hurricanes_1848_1900\n"
     ]
    }
   ],
   "source": [
    "data_item = datastores.add_bigdata(\"hurricanes_1848_1900\", \n",
    "                                   r\"\\\\path_to_hurricane_data\")"
   ]
  },
  {
   "cell_type": "markdown",
   "metadata": {},
   "source": [
<<<<<<< HEAD
    "Once a big data file share is registered, the GeoAnalytics server samples all the datasets within the share to discern the schema of the data, including information about the geometry in a dataset. If the dataset is time-enabled, as is required to use some GeoAnalytics Tools, the [`manifest`](http://enterprise.arcgis.com/en/server/latest/get-started/windows/understanding-the-big-data-file-share-manifest.htm) reports the necessary metadata about how time information is stored as well.\n",
    "\n",
    "This process can take a few minutes depending on the size of your data. Once processed, querying the [`manifest`](https://esri.github.io/arcgis-python-api/apidoc/html/arcgis.gis.toc.html#arcgis.gis.Datastore.manifest) property returns the schema as a dictionary. We can use the datasets key to retrieve information about the dataset. As you can see below, the schema is similar to the subset we observed earlier in this sample:"
=======
    "Once a big data file share is registered, the GeoAnalytics server processes all the valid file types to discern the schema of the data, including information about the geometry in a dataset. If the dataset is time-enabled, as is required to use some GeoAnalytics Tools, the manifest reports the necessary metadata about how time information is stored as well.\n",
    "\n",
    "This process can take a few minutes depending on the size of your data. Once processed, querying the manifest property returns the schema. As you can see from below, the schema is similar to the subset we observed earlier in this sample."
>>>>>>> upstream/dev_site_current
   ]
  },
  {
   "cell_type": "code",
   "execution_count": 9,
   "metadata": {},
   "outputs": [
    {
     "data": {
      "text/plain": [
       "{'format': {'extension': 'shp', 'type': 'shapefile'},\n",
       " 'geometry': {'geometryType': 'esriGeometryPoint',\n",
       "  'spatialReference': {'wkid': 4326}},\n",
       " 'name': 'hurricanes',\n",
       " 'schema': {'fields': [{'name': 'serial_num', 'type': 'esriFieldTypeString'},\n",
       "   {'name': 'season', 'type': 'esriFieldTypeBigInteger'},\n",
       "   {'name': 'num', 'type': 'esriFieldTypeBigInteger'},\n",
       "   {'name': 'basin', 'type': 'esriFieldTypeString'},\n",
       "   {'name': 'sub_basin', 'type': 'esriFieldTypeString'},\n",
       "   {'name': 'name', 'type': 'esriFieldTypeString'},\n",
       "   {'name': 'iso_time', 'type': 'esriFieldTypeString'},\n",
       "   {'name': 'nature', 'type': 'esriFieldTypeString'},\n",
       "   {'name': 'latitude', 'type': 'esriFieldTypeDouble'},\n",
       "   {'name': 'longitude', 'type': 'esriFieldTypeDouble'},\n",
       "   {'name': 'wind_wmo_', 'type': 'esriFieldTypeDouble'},\n",
       "   {'name': 'pres_wmo_', 'type': 'esriFieldTypeBigInteger'},\n",
       "   {'name': 'center', 'type': 'esriFieldTypeString'},\n",
       "   {'name': 'wind_wmo1', 'type': 'esriFieldTypeDouble'},\n",
       "   {'name': 'pres_wmo1', 'type': 'esriFieldTypeDouble'},\n",
       "   {'name': 'track_type', 'type': 'esriFieldTypeString'},\n",
       "   {'name': 'size', 'type': 'esriFieldTypeString'},\n",
       "   {'name': 'Wind', 'type': 'esriFieldTypeBigInteger'}]},\n",
       " 'time': {'fields': [{'formats': ['yyyy-MM-dd HH:mm:ss', 'MM/dd/yyyy HH:mm'],\n",
       "    'name': 'iso_time'}],\n",
       "  'timeReference': {'timeZone': 'UTC'},\n",
       "  'timeType': 'instant'}}"
      ]
     },
     "execution_count": 9,
     "metadata": {},
     "output_type": "execute_result"
    }
   ],
   "source": [
    "data_item.manifest['datasets'][0]"
   ]
  },
  {
   "cell_type": "markdown",
   "metadata": {},
   "source": [
    "## Perform data aggregation using reconstruct tracks tool\n",
    "\n",
    "When you add a big data file share, a corresponding item gets created in your GIS. You can search for it like a regular item and query its layers."
   ]
  },
  {
   "cell_type": "code",
   "execution_count": 10,
   "metadata": {},
   "outputs": [
    {
     "data": {
      "text/plain": [
       "[<Item title:\"bigDataFileShares_all_hurricanes\" type:Big Data File Share owner:api_data_owner>,\n",
       " <Item title:\"bigDataFileShares_hurricanes_1848_1900\" type:Big Data File Share owner:arcgis_python>,\n",
       " <Item title:\"bigDataFileShares_NYC_taxi_data15\" type:Big Data File Share owner:api_data_owner>]"
      ]
     },
     "execution_count": 10,
     "metadata": {},
     "output_type": "execute_result"
    }
   ],
   "source": [
    "search_result = gis.content.search(\"\", item_type = \"big data file share\")\n",
    "search_result"
   ]
  },
  {
   "cell_type": "code",
   "execution_count": 11,
   "metadata": {},
   "outputs": [
    {
     "data": {
      "text/html": [
       "<div class=\"item_container\" style=\"height: auto; overflow: hidden; border: 1px solid #cfcfcf; border-radius: 2px; background: #f6fafa; line-height: 1.21429em; padding: 10px;\">\n",
       "                    <div class=\"item_left\" style=\"width: 210px; float: left;\">\n",
       "                       <a href='https://pythonapi.playground.esri.com/portal/home/item.html?id=f00d3b06838b47c79809c71687f73c8a' target='_blank'>\n",
       "                        <img src='https://pythonapi.playground.esri.com/portal/portalimages/desktopapp.png' class=\"itemThumbnail\">\n",
       "                       </a>\n",
       "                    </div>\n",
       "\n",
       "                    <div class=\"item_right\"     style=\"float: none; width: auto; overflow: hidden;\">\n",
       "                        <a href='https://pythonapi.playground.esri.com/portal/home/item.html?id=f00d3b06838b47c79809c71687f73c8a' target='_blank'><b>bigDataFileShares_all_hurricanes</b>\n",
       "                        </a>\n",
       "                        <br/><img src='https://pythonapi.playground.esri.com/portal/home/js/jsapi/esri/css/images/item_type_icons/layers16.png' style=\"vertical-align:middle;\">Big Data File Share by api_data_owner\n",
       "                        <br/>Last Modified: May 01, 2018\n",
       "                        <br/>0 comments, 0 views\n",
       "                    </div>\n",
       "                </div>\n",
       "                "
      ],
      "text/plain": [
       "<Item title:\"bigDataFileShares_all_hurricanes\" type:Big Data File Share owner:api_data_owner>"
      ]
     },
     "execution_count": 11,
     "metadata": {},
     "output_type": "execute_result"
    }
   ],
   "source": [
    "data_item = search_result[0]\n",
    "data_item"
   ]
  },
  {
   "cell_type": "code",
   "execution_count": 12,
   "metadata": {},
   "outputs": [
    {
     "data": {
      "text/plain": [
       "<Layer url:\"https://pythonapi.playground.esri.com/ga/rest/services/DataStoreCatalogs/bigDataFileShares_all_hurricanes/BigDataCatalogServer/hurricanes\">"
      ]
     },
     "execution_count": 12,
     "metadata": {},
     "output_type": "execute_result"
    }
   ],
   "source": [
    "years_all = data_item.layers[0]\n",
    "years_all"
   ]
  },
  {
   "cell_type": "markdown",
   "metadata": {},
   "source": [
    "### Reconstruct tracks tool\n",
    "\n",
    "The [`arcgis.geoanalytics.summarize_data`](https://esri.github.io/arcgis-python-api/apidoc/html/arcgis.geoanalytics.summarize_data.html) module contains the [`reconstruct_tracks()`](https://esri.github.io/arcgis-python-api/apidoc/html/arcgis.geoanalytics.summarize_data.html#reconstruct-tracks). We will use this tool to aggregate the numerous points into line segments showing the tracks followed by the various hurricanes occurring between 1848 and 2010. The tool creates a [`feature layer`](https://esri.github.io/arcgis-python-api/apidoc/html/arcgis.features.toc.html#featurelayer) item as output which we'll visualize on a map and query to see the results."
   ]
  },
  {
   "cell_type": "code",
<<<<<<< HEAD
   "execution_count": 13,
   "metadata": {},
=======
   "execution_count": 12,
   "metadata": {
    "collapsed": true
   },
>>>>>>> upstream/dev_site_current
   "outputs": [],
   "source": [
    "from arcgis.geoanalytics.summarize_data import reconstruct_tracks"
   ]
  },
  {
   "cell_type": "markdown",
   "metadata": {},
   "source": [
    "We can use the [`arcgis.env`](https://esri.github.io/arcgis-python-api/apidoc/html/arcgis.env.html#) module to modify environment settings that geoprocessing and geoanalytics tools use during execution. Set [`verbose`](https://esri.github.io/arcgis-python-api/apidoc/html/arcgis.env.html#)to True to return detailed messaging when running tools. "
   ]
  },
  {
   "cell_type": "code",
   "execution_count": 14,
   "metadata": {},
   "outputs": [],
   "source": [
    "arcgis.env.verbose = True"
   ]
  },
  {
   "cell_type": "markdown",
   "metadata": {},
   "source": [
    "Run the tool"
   ]
  },
  {
   "cell_type": "code",
   "execution_count": 15,
   "metadata": {},
   "outputs": [
    {
     "name": "stdout",
     "output_type": "stream",
     "text": [
      "Submitted.\n",
      "Executing...\n",
      "Executing (ReconstructTracks): ReconstructTracks \"Feature Set\" Serial_Num Geodesic # # # # # # \"{\"serviceProperties\": {\"name\": \"Reconstructed_Tracks_I49893\", \"serviceUrl\": \"https://pythonapi.playground.esri.com/server/rest/services/Hosted/Reconstructed_Tracks_I49893/FeatureServer\"}, \"itemProperties\": {\"itemId\": \"dca4efc3f7da4dab966bdd9d34437b04\"}}\" #\n",
      "Start Time: Mon May 07 18:16:31 2018\n",
      "Using URL based GPRecordSet param: https://pythonapi.playground.esri.com/ga/rest/services/DataStoreCatalogs/bigDataFileShares_all_hurricanes/BigDataCatalogServer/hurricanes\n",
      "{\"messageCode\":\"BD_101028\",\"message\":\"Starting new distributed job with 8 tasks.\",\"params\":{\"totalTasks\":\"8\"}}\n",
      "{\"messageCode\":\"BD_101029\",\"message\":\"0/8 distributed tasks completed.\",\"params\":{\"completedTasks\":\"0\",\"totalTasks\":\"8\"}}\n",
      "{\"messageCode\":\"BD_101029\",\"message\":\"5/8 distributed tasks completed.\",\"params\":{\"completedTasks\":\"5\",\"totalTasks\":\"8\"}}\n",
      "{\"messageCode\":\"BD_101029\",\"message\":\"7/8 distributed tasks completed.\",\"params\":{\"completedTasks\":\"7\",\"totalTasks\":\"8\"}}\n",
      "{\"messageCode\":\"BD_101029\",\"message\":\"8/8 distributed tasks completed.\",\"params\":{\"completedTasks\":\"8\",\"totalTasks\":\"8\"}}\n",
      "{\"messageCode\":\"BD_101081\",\"message\":\"Finished writing results:\"}\n",
      "{\"messageCode\":\"BD_101082\",\"message\":\"* Count of features = 6647\",\"params\":{\"resultCount\":\"6647\"}}\n",
      "{\"messageCode\":\"BD_101083\",\"message\":\"* Spatial extent = {\\\"xmin\\\":-180,\\\"ymin\\\":-68.5,\\\"xmax\\\":180,\\\"ymax\\\":70.7}\",\"params\":{\"extent\":\"{\\\"xmin\\\":-180,\\\"ymin\\\":-68.5,\\\"xmax\\\":180,\\\"ymax\\\":70.7}\"}}\n",
      "{\"messageCode\":\"BD_101084\",\"message\":\"* Temporal extent = Interval(MutableInstant(1848-01-11 06:00:00.000),MutableInstant(2010-12-22 18:00:00.000))\",\"params\":{\"extent\":\"Interval(MutableInstant(1848-01-11 06:00:00.000),MutableInstant(2010-12-22 18:00:00.000))\"}}\n",
      "{\"messageCode\":\"BD_0\",\"message\":\"Feature service layer created: https://pythonapi.playground.esri.com/server/rest/services/Hosted/Reconstructed_Tracks_I49893/FeatureServer/0\",\"params\":{\"serviceUrl\":\"https://pythonapi.playground.esri.com/server/rest/services/Hosted/Reconstructed_Tracks_I49893/FeatureServer/0\"}}\n"
     ]
    }
   ],
   "source": [
    "agg_result = reconstruct_tracks(years_all, \n",
    "                                track_fields='Serial_Num',\n",
    "                                method='GEODESIC')"
   ]
  },
  {
   "cell_type": "markdown",
   "metadata": {},
   "source": [
    "## Inspect the results\n",
    "Let us create a map and load the processed result which is a feature service"
   ]
  },
  {
   "cell_type": "code",
   "execution_count": 16,
   "metadata": {},
   "outputs": [
    {
     "data": {
      "application/vnd.jupyter.widget-view+json": {
       "model_id": "fd0255b0347b4de3a5b8a9523faa1b59",
       "version_major": 2,
       "version_minor": 0
      },
      "text/plain": [
       "MapView(basemaps=['dark-gray', 'dark-gray-vector', 'gray', 'gray-vector', 'hybrid', 'national-geographic', 'oc…"
      ]
     },
     "metadata": {},
     "output_type": "display_data"
    }
   ],
   "source": [
    "processed_map = gis.map(\"USA\")\n",
    "processed_map"
   ]
  },
  {
   "cell_type": "markdown",
   "metadata": {},
   "source": [
    "![extent_1860_1879_img](http://esri.github.io/arcgis-python-api/notebooks/nbimages/04_HurricaneGeoanalytics_time.PNG)"
   ]
  },
  {
   "cell_type": "code",
   "execution_count": 17,
   "metadata": {},
   "outputs": [],
   "source": [
    "processed_map.add_layer(agg_result)"
   ]
  },
  {
   "cell_type": "markdown",
   "metadata": {},
   "source": [
    "Thus we transformed more than 175,000 points into more than 6600 tracks that represents paths taken by individual hurricanes spanning a time period of more than 150 years. "
   ]
  },
  {
   "cell_type": "markdown",
   "metadata": {},
   "source": [
    "Our input data and the map widget is time enabled, so we can filter these tracks using the `set_time_extent` method on the map widget, which accepts `start_time` and `end_time` parameters to inspect the results for a specific decade, 1860 - 1870:"
   ]
  },
  {
   "cell_type": "code",
   "execution_count": 18,
   "metadata": {},
   "outputs": [],
   "source": [
    "processed_map.set_time_extent('1860', '1870')"
   ]
  },
  {
   "cell_type": "markdown",
   "metadata": {},
   "source": [
    "## What can geoanalytics do for you?\n",
    "\n",
    "With this sample we just scratched the surface of what big data analysis can do for you. ArcGIS Enterprise at 10.5 packs a powerful set of tools that let you derive huge value from your data. You can do so by asking the right questions. For instance, the weather dataset we examined such could answer important questions such as:\n",
    " \n",
    " - did the number of hurricanes per season increase over the years?\n",
    " - which hurricanes travelled thelongest distance?\n",
    " - which hurricanes had the longest duration? Is there a trend?\n",
    " - how are wind speed and distance travelled correlated?\n",
    " - how many times in the past century did a hurricane occur within 50 miles of my assets?\n",
    " - my industry is dependent on tourism, which is heavily impacted by the vagaries of weather. From historical weather data, can I correlate my profits with major weather events? How well is my business insulated from freak weather events?\n",
    " - do we see any shifts in major hurricane events over the years? is there any shift in when the hurricane season starts?\n",
    " \n",
    "The ArcGIS API for Python gives you a gateway to easily access the big data tools from your ArcGIS Enterprise. By combining it with other powerful libraries from the pandas and scipy stack and the rich visualization capabilities of the Jupyter notebook, you can extract a huge amount of value from your data, big or small."
   ]
  }
 ],
 "metadata": {
  "anaconda-cloud": {},
  "kernelspec": {
   "display_name": "Python 3",
   "language": "python",
   "name": "python3"
  },
  "language_info": {
   "codemirror_mode": {
    "name": "ipython",
    "version": 3
   },
   "file_extension": ".py",
   "mimetype": "text/x-python",
   "name": "python",
   "nbconvert_exporter": "python",
   "pygments_lexer": "ipython3",
   "version": "3.6.2"
  }
 },
 "nbformat": 4,
 "nbformat_minor": 1
}
