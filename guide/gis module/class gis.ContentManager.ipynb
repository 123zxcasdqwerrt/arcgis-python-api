{
 "cells": [
  {
   "cell_type": "markdown",
   "metadata": {},
   "source": [
    "## The ContentManager class"
   ]
  },
  {
   "cell_type": "markdown",
   "metadata": {},
   "source": [
    "<hr/>"
   ]
  },
  {
   "cell_type": "markdown",
   "metadata": {},
   "source": [
    "## class gis.ContentManager(<i>portal</i>)"
   ]
  },
  {
   "cell_type": "markdown",
   "metadata": {},
   "source": [
    "Manager class for manipulating GIS content. This class is not created by users directly. An instance of this class, called ‘content’, is available as a property of the Gis object. Users call methods on this ‘content’ object to manipulate (create, get, search...) items."
   ]
  },
  {
   "cell_type": "markdown",
   "metadata": {},
   "source": [
    " <hr>"
   ]
  },
  {
   "cell_type": "markdown",
   "metadata": {
    "collapsed": false
   },
   "source": [
    "### add(<i>item_properties, data=None, thumbnail=None, metadata=None, owner=None, folder=None</i>)"
   ]
  },
  {
   "cell_type": "markdown",
   "metadata": {},
   "source": [
    "Adds content to a Portal by creating an item."
   ]
  },
  {
   "cell_type": "markdown",
   "metadata": {},
   "source": [
    "<div class=\"alert alert-success\">\n",
    "That content can be a file (such as a service definition, shapefile, CSV, layer package, geoprocessing package, map package) or it can be a URL (to an ArcGIS Server service, WMS service, or an application).\n",
    "<p>\n",
    "If you are uploading a package or other file, provide a path or URL to the file in the data argument.\n",
    "<p>\n",
    "From a technical perspective, none of the item properties below are required. However, it is strongly recommended that title, type, typeKeywords, tags, snippet, and description be provided.\n",
    "\n",
    "</div>"
   ]
  },
  {
   "cell_type": "markdown",
   "metadata": {},
   "source": [
    "**Arguments:**\n",
    "<table border=\"1\" class=\"docutils\">\n",
    "<colgroup>\n",
    "<col width=\"22%\">\n",
    "<col width=\"78%\">\n",
    "</colgroup>\n",
    "<tbody valign=\"top\">\n",
    "<tr class=\"row-odd\"><td><strong>Argument</strong></td>\n",
    "<td><strong>Description</strong></td>\n",
    "</tr>\n",
    "\n",
    "<tr class=\"row-even\"><td>item_properties</td>\n",
    "<td>required dictionary, see below for the keys and values</td>\n",
    "</tr>\n",
    "\n",
    "<tr class=\"row-odd\"><td>data</td>\n",
    "<td>optional string, either a path or URL to the data</td>\n",
    "</tr>\n",
    "\n",
    "<tr class=\"row-even\"><td>thumbnail</td>\n",
    "<td>optional string, either a path or URL to an image</td>\n",
    "</tr>\n",
    "\n",
    "<tr class=\"row-odd\"><td>metadata</td>\n",
    "<td>optional string, either a path or URL to metadata</td>\n",
    "</tr>\n",
    "\n",
    "<tr class=\"row-even\"><td>owner</td>\n",
    "<td>optional string, defaults to logged in user</td>\n",
    "</tr>\n",
    "\n",
    "<tr class=\"row-odd\"><td>folder</td>\n",
    "<td>optional string, content folder where placing item</td>\n",
    "</tr>\n",
    "\n",
    "</tbody>\n",
    "</table>\n",
    "\n",
    "item_properties dict can have the following keys and values:\n",
    "<table border=\"1\" class=\"docutils\">\n",
    "<colgroup>\n",
    "<col width=\"22%\">\n",
    "<col width=\"78%\">\n",
    "</colgroup>\n",
    "<tbody valign=\"top\">\n",
    "<tr class=\"row-odd\"><td><strong>Key</strong></td>\n",
    "<td><strong>Value</strong></td>\n",
    "</tr>\n",
    "<tr class=\"row-even\"><td>type</td>\n",
    "<td>optional string, indicates type of item.  See URL below for valid values.</td>\n",
    "</tr>\n",
    "<tr class=\"row-odd\"><td>typeKeywords</td>\n",
    "<td>optinal string list.  Lists all sub-types.  See URL for valid values.</td>\n",
    "</tr>\n",
    "<tr class=\"row-even\"><td>description</td>\n",
    "<td>optional string.  Description of the item.</td>\n",
    "</tr>\n",
    "<tr class=\"row-odd\"><td>title</td>\n",
    "<td>optional string.  Name of the item.</td>\n",
    "</tr>\n",
    "<tr class=\"row-odd\"><td>url</td>\n",
    "<td>optional string.  URL to item that are based on URLs.</td>\n",
    "</tr>\n",
    "<tr class=\"row-odd\"><td>tags</td>\n",
    "<td>optional string of comma-separated values.  Used for searches on items.</td>\n",
    "</tr>\n",
    "<tr class=\"row-odd\"><td>snippet</td>\n",
    "<td>optional string.  Provides a very short summary of the what the item is.</td>\n",
    "</tr>\n",
    "<tr class=\"row-odd\"><td>accessInformation</td>\n",
    "<td>optional string with comma separated values for min x, min y, max x, max y.</td>\n",
    "</tr>\n",
    "<tr class=\"row-odd\"><td>spatialReference</td>\n",
    "<td>optional string.  Coordinate system that the item is in.</td>\n",
    "</tr>\n",
    "<tr class=\"row-odd\"><td>accessInformation</td>\n",
    "<td>optional string.  Information on the source of the content.</td>\n",
    "</tr>\n",
    "<tr class=\"row-odd\"><td>licenseInfo</td>\n",
    "<td>optinal string, any license information or restrictions regarding the content.</td>\n",
    "</tr>\n",
    "<tr class=\"row-odd\"><td>culture</td>\n",
    "<td>optional string.  Locale, country and language information.</td>\n",
    "</tr>\n",
    "<tr class=\"row-odd\"><td>access</td>\n",
    "<td>optional string.  Valid values: private, shared, org, or public.</td>\n",
    "</tr>\n",
    "<tr class=\"row-odd\"><td>commentsEnabled</td>\n",
    "<td>optional boolean.  Default is true.  Controls whether comments are allowed.</td>\n",
    "</tr>\n",
    "<tr class=\"row-odd\"><td>culture</td>\n",
    "<td>optional string.  Language and country information.</td>\n",
    "</tr>\n",
    "</tbody>\n",
    "</table>\n",
    "\n",
    "URL: http://resources.arcgis.com/en/help/arcgis-rest-api/index.html#//02r3000000ms000000\n",
    "\n",
    "\n",
    "**Returns:**\tThe item if successfully added, None if unsuccessful."
   ]
  },
  {
   "cell_type": "markdown",
   "metadata": {
    "collapsed": false
   },
   "source": [
    "<hr>"
   ]
  },
  {
   "cell_type": "markdown",
   "metadata": {},
   "source": [
    "### create_folder(<i>owner, title</i>)"
   ]
  },
  {
   "cell_type": "markdown",
   "metadata": {},
   "source": [
    "Creates a folder for the given user with the given title."
   ]
  },
  {
   "cell_type": "markdown",
   "metadata": {},
   "source": [
    "**Arguments:**\n",
    "<table border=\"1\" class=\"docutils\">\n",
    "<colgroup>\n",
    "<col width=\"22%\">\n",
    "<col width=\"78%\">\n",
    "</colgroup>\n",
    "<tbody valign=\"top\">\n",
    "<tr class=\"row-odd\"><td><strong>Argument</strong></td>\n",
    "<td><strong>Description</strong></td>\n",
    "</tr>\n",
    "<tr class=\"row-even\"><td>owner</td>\n",
    "<td>required string, the name of the user</td>\n",
    "</tr>\n",
    "<tr class=\"row-even\"><td>title</td>\n",
    "<td>required string, the name of the folder to create for the owner</td>\n",
    "</tr>\n",
    "</tbody>\n",
    "</table>\n",
    "\n",
    "**Returns:**\ta python dict like the following: {“username” : “portaladmin”,”id” : “bff13218991c4485a62c81db3512396f”,”title” : “testcreate”}"
   ]
  },
  {
   "cell_type": "markdown",
   "metadata": {},
   "source": [
    "<hr>"
   ]
  },
  {
   "cell_type": "markdown",
   "metadata": {},
   "source": [
    "### create_service(<i>name, service_description='', has_static_data=False, max_record_count=1000, supported_query_formats='JSON', capabilities='Image, Catalog, Metadata, Download, Pixels, Edit, Mensuration, Uploads', description='', copyright_text='', wkid=102100, service_type='imageService', owner=None, folder=None</i>)"
   ]
  },
  {
   "cell_type": "markdown",
   "metadata": {},
   "source": [
    "Creates a service in the Portal\n",
    "\n",
    "<b>Returns</b>:\n",
    "The item for the service, if successfully added, None if unsuccessful. "
   ]
  },
  {
   "cell_type": "markdown",
   "metadata": {},
   "source": [
    "<hr>"
   ]
  },
  {
   "cell_type": "markdown",
   "metadata": {},
   "source": [
    "### get(<i>itemid</i>)"
   ]
  },
  {
   "cell_type": "markdown",
   "metadata": {},
   "source": [
    "Returns the item object for the specified itemid."
   ]
  },
  {
   "cell_type": "markdown",
   "metadata": {},
   "source": [
    "**Arguments:**\n",
    "<table border=\"1\" class=\"docutils\">\n",
    "<colgroup>\n",
    "<col width=\"22%\">\n",
    "<col width=\"78%\">\n",
    "</colgroup>\n",
    "<tbody valign=\"top\">\n",
    "<tr class=\"row-odd\"><td><strong>Argument</strong></td>\n",
    "<td><strong>Description</strong></td>\n",
    "</tr>\n",
    "<tr class=\"row-even\"><td>itemid</td>\n",
    "<td> required string, the item identifier</td>\n",
    "</tr>\n",
    "</tbody>\n",
    "</table>\n",
    "\n",
    "**Returns:**\tNone if the item is not found and returns an item object if the item is found"
   ]
  },
  {
   "cell_type": "markdown",
   "metadata": {
    "collapsed": false
   },
   "source": [
    "<hr>"
   ]
  },
  {
   "cell_type": "markdown",
   "metadata": {},
   "source": [
    "### get_folder_id(<i>owner, folder_name</i>)"
   ]
  },
  {
   "cell_type": "markdown",
   "metadata": {},
   "source": [
    "Finds the folder for a particular owner and returns its id.\n",
    "\n",
    "**Arguments:**\n",
    "<table border=\"1\" class=\"docutils\">\n",
    "<colgroup>\n",
    "<col width=\"22%\">\n",
    "<col width=\"78%\">\n",
    "</colgroup>\n",
    "<tbody valign=\"top\">\n",
    "<tr class=\"row-odd\"><td><strong>Argument</strong></td>\n",
    "<td><strong>Description</strong></td>\n",
    "</tr>\n",
    "<tr class=\"row-even\"><td>owner</td>\n",
    "<td>required string, the name of the user</td>\n",
    "</tr>\n",
    "<tr class=\"row-even\"><td>folder_name</td>\n",
    "<td>required string, the name of the folder to search for</td>\n",
    "</tr>\n",
    "</tbody>\n",
    "</table>\n",
    "\n",
    "**Returns:**\n",
    "the folder id, if the folder is found"
   ]
  },
  {
   "cell_type": "markdown",
   "metadata": {},
   "source": [
    "<hr>"
   ]
  },
  {
   "cell_type": "markdown",
   "metadata": {},
   "source": [
    "### import_data(<i>df, address_fields=None</i>)"
   ]
  },
  {
   "cell_type": "markdown",
   "metadata": {
    "collapsed": false
   },
   "source": [
    "Imports a Pandas data frame, that has an address column, as a feature collection\n",
    "\n",
    "**Arguments:**\n",
    "<table border=\"1\" class=\"docutils\">\n",
    "<colgroup>\n",
    "<col width=\"22%\">\n",
    "<col width=\"78%\">\n",
    "</colgroup>\n",
    "<tbody valign=\"top\">\n",
    "<tr class=\"row-odd\"><td><strong>Argument</strong></td>\n",
    "<td><strong>Description</strong></td>\n",
    "</tr>\n",
    "<tr class=\"row-even\"><td>df</td>\n",
    "<td>pandas dataframe </td>\n",
    "</tr>\n",
    "<tr class=\"row-even\"><td>address_fields</td>\n",
    "<td>dict containing mapping of df columns to address fields, eg: { “CountryCode” : “Country”} or { “Address” : “Address” }</td>\n",
    "</tr>\n",
    "</tbody>\n",
    "</table>\n",
    "\n",
    "**Returns:**\n",
    "Returns feature collection, that can be used for analysis, visualization or published to the GIS as an item"
   ]
  },
  {
   "cell_type": "markdown",
   "metadata": {},
   "source": [
    "<hr>"
   ]
  },
  {
   "cell_type": "markdown",
   "metadata": {},
   "source": [
    "### search(<i>query, item_type=None, sort_field='numViews', sort_order='desc', max_items=6, add_org=False</i>)"
   ]
  },
  {
   "cell_type": "markdown",
   "metadata": {
    "collapsed": false
   },
   "source": [
    "Searches for portal items.\n",
    "\n",
    "Returns a list of items matching the specified query"
   ]
  },
  {
   "cell_type": "markdown",
   "metadata": {},
   "source": [
    "<div class=\"alert alert-success\">\n",
    "A few things that will be helpful to know.\n",
    "<p>\n",
    "<ul>\n",
    "<li>The query syntax has quite a few features that can’t be adequately described here. The query syntax is available in ArcGIS help. A short version of that URL is http://bitly.com/1fJ8q31.\n",
    "</li>\n",
    "<li>\n",
    "Most of the time when searching groups you want to search within your organization in ArcGIS Online or within your Portal. As a convenience, the method automatically appends your organization id to the query by default. If you don’t want the API to append to your query set add_org to false. If you use this feature with an OR clause such as field=x or field=y you should put this into parenthesis when using add_org.\n",
    "</li>\n",
    "</ul>\n",
    "</div>"
   ]
  },
  {
   "cell_type": "markdown",
   "metadata": {},
   "source": [
    "**Arguments:**\n",
    "<table border=\"1\" class=\"docutils\">\n",
    "<colgroup>\n",
    "<col width=\"21%\">\n",
    "<col width=\"79%\">\n",
    "</colgroup>\n",
    "<tbody valign=\"top\">\n",
    "<tr class=\"row-odd\"><td><strong>Argument</strong></td>\n",
    "<td><strong>Description</strong></td>\n",
    "</tr>\n",
    "\n",
    "<tr class=\"row-even\"><td>query</td>\n",
    "<td>required string, query string. See notes.</td>\n",
    "</tr>\n",
    "\n",
    "\n",
    "<tr class=\"row-even\"><td>item_type</td>\n",
    "<td>Optional string, set type of item to search</td>\n",
    "</tr>\n",
    "\n",
    "<tr class=\"row-even\"><td>sort_field</td>\n",
    "<td>optional string, valid values can be title, uploaded, type, owner, modified, avgRating, numRatings, numComments, and numViews.</td>\n",
    "</tr>\n",
    "\n",
    "<tr class=\"row-even\"><td>sort_order</td>\n",
    "<td>optional string, valid values are asc or desc</td>\n",
    "</tr>\n",
    "\n",
    "<tr class=\"row-even\"><td>max_users</td>\n",
    "<td>optional int, maximum number of items returned<, default is 6/td>\n",
    "</tr>\n",
    "\n",
    "<tr class=\"row-even\"><td>add_org</td>\n",
    "<td>optional boolean, controls whether to search within your org (default is False)</td>\n",
    "</tr>\n",
    "\n",
    "</tbody>\n",
    "</table>\n",
    "\n",
    "**Returns:**\n",
    "\tReturns a list of items matching the specified query"
   ]
  },
  {
   "cell_type": "markdown",
   "metadata": {},
   "source": [
    "<hr>"
   ]
  }
 ],
 "metadata": {
  "kernelspec": {
   "display_name": "Python 3",
   "language": "python",
   "name": "python3"
  },
  "language_info": {
   "codemirror_mode": {
    "name": "ipython",
    "version": 3
   },
   "file_extension": ".py",
   "mimetype": "text/x-python",
   "name": "python",
   "nbconvert_exporter": "python",
   "pygments_lexer": "ipython3",
   "version": "3.5.1"
  },
  "widgets": {
   "state": {},
   "version": "1.1.2"
  }
 },
 "nbformat": 4,
 "nbformat_minor": 0
}
