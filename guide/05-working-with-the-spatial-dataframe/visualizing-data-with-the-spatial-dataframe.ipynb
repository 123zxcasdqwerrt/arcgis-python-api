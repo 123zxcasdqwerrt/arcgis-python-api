{
 "cells": [
  {
   "cell_type": "markdown",
   "metadata": {},
   "source": [
    "## Visualizing Spatial Data\n",
    "The Spatial Dataframe has a `plot` method that uses [`matplotlib`](https://matplotlib.org) syntax and symbology for visualizing features.\n",
    "\n",
    "Some unique characteristics of working with the visualization capabalities on the SDF:\n",
    "- Uses Pythonic syntax\n",
    "- Uses symbology familiar to users of matplotlib\n",
    "- Works on features and attributes simultaneously, eliminating to a great extent the need to iterate over all features (rows)\n",
    "- Handles reading and writing to multiple formats aiding data conversion\n",
    "\n",
    "Dataset symbology can be customized on a `Spatial DataFrame` or a `Pandas data frame`. You can easily create dataframes from the results of a [`FeatureLayer.query()`](https://esri.github.io/arcgis-python-api/apidoc/html/arcgis.features.toc.html#arcgis.features.FeatureLayer.query) operation. The resulting [`FeaturSet`](https://esri.github.io/arcgis-python-api/apidoc/html/arcgis.features.toc.html#arcgis.features.FeatureSet) object has a [`df`](https://esri.github.io/arcgis-python-api/apidoc/html/arcgis.features.toc.html#arcgis.features.FeatureSet.df) method from which you can visualize features. \n",
    "\n",
    "* [Visualizing Spatial Data](#Visualizing-Spatial-Data)\n",
    " * [Color Maps and Colors](#Color-Maps-and-Colors)\n",
    " * [Renderers](#Renderers)\n",
    " * [Symbology for Simple Renderers](#Symbology-for-Simple-Renderers)"
   ]
  },
  {
   "cell_type": "code",
   "execution_count": 2,
   "metadata": {},
   "outputs": [],
   "source": [
    "from arcgis.gis import GIS"
   ]
  },
  {
   "cell_type": "code",
   "execution_count": 9,
   "metadata": {},
   "outputs": [
    {
     "data": {
      "text/html": [
       "<div>\n",
       "<style scoped>\n",
       "    .dataframe tbody tr th:only-of-type {\n",
       "        vertical-align: middle;\n",
       "    }\n",
       "\n",
       "    .dataframe tbody tr th {\n",
       "        vertical-align: top;\n",
       "    }\n",
       "\n",
       "    .dataframe thead th {\n",
       "        text-align: right;\n",
       "    }\n",
       "</style>\n",
       "<table border=\"1\" class=\"dataframe\">\n",
       "  <thead>\n",
       "    <tr style=\"text-align: right;\">\n",
       "      <th></th>\n",
       "      <th>AGE_10_14</th>\n",
       "      <th>AGE_15_19</th>\n",
       "      <th>AGE_20_24</th>\n",
       "      <th>AGE_25_34</th>\n",
       "      <th>AGE_35_44</th>\n",
       "      <th>AGE_45_54</th>\n",
       "      <th>AGE_55_64</th>\n",
       "      <th>AGE_5_9</th>\n",
       "      <th>AGE_65_74</th>\n",
       "      <th>AGE_75_84</th>\n",
       "      <th>...</th>\n",
       "      <th>PLACEFIPS</th>\n",
       "      <th>POP2010</th>\n",
       "      <th>POPULATION</th>\n",
       "      <th>POP_CLASS</th>\n",
       "      <th>RENTER_OCC</th>\n",
       "      <th>ST</th>\n",
       "      <th>STFIPS</th>\n",
       "      <th>VACANT</th>\n",
       "      <th>WHITE</th>\n",
       "      <th>SHAPE</th>\n",
       "    </tr>\n",
       "  </thead>\n",
       "  <tbody>\n",
       "    <tr>\n",
       "      <th>0</th>\n",
       "      <td>1413</td>\n",
       "      <td>1381</td>\n",
       "      <td>1106</td>\n",
       "      <td>2138</td>\n",
       "      <td>1815</td>\n",
       "      <td>1411</td>\n",
       "      <td>979</td>\n",
       "      <td>1557</td>\n",
       "      <td>525</td>\n",
       "      <td>307</td>\n",
       "      <td>...</td>\n",
       "      <td>0468080</td>\n",
       "      <td>14287</td>\n",
       "      <td>14980</td>\n",
       "      <td>6</td>\n",
       "      <td>1074</td>\n",
       "      <td>AZ</td>\n",
       "      <td>04</td>\n",
       "      <td>261</td>\n",
       "      <td>9196</td>\n",
       "      <td>{'x': -12768343.256613126, 'y': 3842463.708135...</td>\n",
       "    </tr>\n",
       "    <tr>\n",
       "      <th>1</th>\n",
       "      <td>727</td>\n",
       "      <td>738</td>\n",
       "      <td>677</td>\n",
       "      <td>1380</td>\n",
       "      <td>1185</td>\n",
       "      <td>1333</td>\n",
       "      <td>1087</td>\n",
       "      <td>740</td>\n",
       "      <td>661</td>\n",
       "      <td>444</td>\n",
       "      <td>...</td>\n",
       "      <td>0602042</td>\n",
       "      <td>9932</td>\n",
       "      <td>10239</td>\n",
       "      <td>6</td>\n",
       "      <td>2056</td>\n",
       "      <td>CA</td>\n",
       "      <td>06</td>\n",
       "      <td>267</td>\n",
       "      <td>8273</td>\n",
       "      <td>{'x': -13613950.337588644, 'y': 4931686.754090...</td>\n",
       "    </tr>\n",
       "    <tr>\n",
       "      <th>2</th>\n",
       "      <td>593</td>\n",
       "      <td>511</td>\n",
       "      <td>2323</td>\n",
       "      <td>2767</td>\n",
       "      <td>746</td>\n",
       "      <td>127</td>\n",
       "      <td>34</td>\n",
       "      <td>1229</td>\n",
       "      <td>4</td>\n",
       "      <td>2</td>\n",
       "      <td>...</td>\n",
       "      <td>0610561</td>\n",
       "      <td>10616</td>\n",
       "      <td>11869</td>\n",
       "      <td>6</td>\n",
       "      <td>2558</td>\n",
       "      <td>CA</td>\n",
       "      <td>06</td>\n",
       "      <td>296</td>\n",
       "      <td>7530</td>\n",
       "      <td>{'x': -13066582.116550362, 'y': 3925650.676616...</td>\n",
       "    </tr>\n",
       "    <tr>\n",
       "      <th>3</th>\n",
       "      <td>888</td>\n",
       "      <td>988</td>\n",
       "      <td>900</td>\n",
       "      <td>1729</td>\n",
       "      <td>1479</td>\n",
       "      <td>1443</td>\n",
       "      <td>959</td>\n",
       "      <td>766</td>\n",
       "      <td>514</td>\n",
       "      <td>280</td>\n",
       "      <td>...</td>\n",
       "      <td>0613560</td>\n",
       "      <td>10866</td>\n",
       "      <td>11195</td>\n",
       "      <td>6</td>\n",
       "      <td>761</td>\n",
       "      <td>CA</td>\n",
       "      <td>06</td>\n",
       "      <td>86</td>\n",
       "      <td>5898</td>\n",
       "      <td>{'x': -13123874.446103057, 'y': 4044249.710416...</td>\n",
       "    </tr>\n",
       "    <tr>\n",
       "      <th>4</th>\n",
       "      <td>1086</td>\n",
       "      <td>1228</td>\n",
       "      <td>1013</td>\n",
       "      <td>1822</td>\n",
       "      <td>1759</td>\n",
       "      <td>1478</td>\n",
       "      <td>1112</td>\n",
       "      <td>925</td>\n",
       "      <td>687</td>\n",
       "      <td>477</td>\n",
       "      <td>...</td>\n",
       "      <td>0614974</td>\n",
       "      <td>12823</td>\n",
       "      <td>13009</td>\n",
       "      <td>6</td>\n",
       "      <td>1763</td>\n",
       "      <td>CA</td>\n",
       "      <td>06</td>\n",
       "      <td>88</td>\n",
       "      <td>6930</td>\n",
       "      <td>{'x': -13151212.145276317, 'y': 4027601.332347...</td>\n",
       "    </tr>\n",
       "  </tbody>\n",
       "</table>\n",
       "<p>5 rows × 51 columns</p>\n",
       "</div>"
      ],
      "text/plain": [
       "   AGE_10_14  AGE_15_19  AGE_20_24  AGE_25_34  AGE_35_44  AGE_45_54  \\\n",
       "0       1413       1381       1106       2138       1815       1411   \n",
       "1        727        738        677       1380       1185       1333   \n",
       "2        593        511       2323       2767        746        127   \n",
       "3        888        988        900       1729       1479       1443   \n",
       "4       1086       1228       1013       1822       1759       1478   \n",
       "\n",
       "   AGE_55_64  AGE_5_9  AGE_65_74  AGE_75_84  \\\n",
       "0        979     1557        525        307   \n",
       "1       1087      740        661        444   \n",
       "2         34     1229          4          2   \n",
       "3        959      766        514        280   \n",
       "4       1112      925        687        477   \n",
       "\n",
       "                         ...                          PLACEFIPS  POP2010  \\\n",
       "0                        ...                            0468080    14287   \n",
       "1                        ...                            0602042     9932   \n",
       "2                        ...                            0610561    10616   \n",
       "3                        ...                            0613560    10866   \n",
       "4                        ...                            0614974    12823   \n",
       "\n",
       "   POPULATION  POP_CLASS  RENTER_OCC  ST  STFIPS VACANT WHITE  \\\n",
       "0       14980          6        1074  AZ      04    261  9196   \n",
       "1       10239          6        2056  CA      06    267  8273   \n",
       "2       11869          6        2558  CA      06    296  7530   \n",
       "3       11195          6         761  CA      06     86  5898   \n",
       "4       13009          6        1763  CA      06     88  6930   \n",
       "\n",
       "                                               SHAPE  \n",
       "0  {'x': -12768343.256613126, 'y': 3842463.708135...  \n",
       "1  {'x': -13613950.337588644, 'y': 4931686.754090...  \n",
       "2  {'x': -13066582.116550362, 'y': 3925650.676616...  \n",
       "3  {'x': -13123874.446103057, 'y': 4044249.710416...  \n",
       "4  {'x': -13151212.145276317, 'y': 4027601.332347...  \n",
       "\n",
       "[5 rows x 51 columns]"
      ]
     },
     "execution_count": 9,
     "metadata": {},
     "output_type": "execute_result"
    }
   ],
   "source": [
    "from arcgis import GIS\n",
    "item = GIS().content.get(\"85d0ca4ea1ca4b9abf0c51b9bd34de2e\")\n",
    "flayer = item.layers[0]\n",
    "df = flayer.query(where=\"AGE_45_54 < 1500\").df\n",
    "df.head()"
   ]
  },
  {
   "cell_type": "code",
   "execution_count": null,
   "metadata": {},
   "outputs": [],
   "source": [
    "m = GIS().map('United States')\n",
    "m"
   ]
  },
  {
   "cell_type": "markdown",
   "metadata": {},
   "source": [
    "![map of US diamonds](http://esri.github.io/arcgis-python-api/notebooks/nbimages/13_3_map_dfplot1.png)"
   ]
  },
  {
   "cell_type": "code",
   "execution_count": 11,
   "metadata": {},
   "outputs": [],
   "source": [
    "m.zoom = 4"
   ]
  },
  {
   "cell_type": "code",
   "execution_count": 12,
   "metadata": {},
   "outputs": [],
   "source": [
    "m.center = [39, -98]"
   ]
  },
  {
   "cell_type": "markdown",
   "metadata": {},
   "source": [
    "#### Plotting the dataframe geometry\n",
    "The code below plots a set of points on the map above using a common structure used amongst many different Python packages for defining symbology. It is built off of the matplotlib libraries for simple, straightforward plotting. We'll explain some of the parameters below, and the [`plot() API Reference`](https://esri.github.io/arcgis-python-api/apidoc/html/arcgis.features.toc.html#arcgis.features.SpatialDataFrame.plot) outlines more options. \n",
    "\n",
    "See also the [`matplotlib.pyplot`](https://matplotlib.org/api/pyplot_summary.html) or Pandas dataframe [`plot`](https://pandas.pydata.org/pandas-docs/stable/generated/pandas.DataFrame.plot.html) documentation for further details."
   ]
  },
  {
   "cell_type": "code",
   "execution_count": 13,
   "metadata": {},
   "outputs": [
    {
     "data": {
      "text/plain": [
       "True"
      ]
     },
     "execution_count": 13,
     "metadata": {},
     "output_type": "execute_result"
    }
   ],
   "source": [
    "df.plot(kind='map', \n",
    "        map_widget=m,\n",
    "        symbol_type='simple',\n",
    "        symbol_style='d',\n",
    "        colors='Reds_r',\n",
    "        cstep=10,\n",
    "        outline_color='Blues',\n",
    "        marker_size=10)"
   ]
  },
  {
   "cell_type": "markdown",
   "metadata": {},
   "source": [
    "### Color Maps and Colors\n",
    "\n",
    "Color specifications can be input to the `plot` method in the `colors` paramater as:\n",
    " * a string representing [named colors](https://matplotlib.org/examples/color/named_colors.html)\n",
    " * an array of [RGB](http://www.tomjewett.com/colors/rgb.html) values\n",
    " * a named [color ramp](https://matplotlib.org/examples/color/colormaps_reference.html). \n",
    "\n",
    "#### Color Array\n",
    "\n",
    "RGB and Alpha values can be used to create colors for symbols called in the `plot` method.  RGB stands for red, green, and blue respectively. Each RGB value is a value between 0-255, and the alpha value is a number between 0-255.\n",
    "\n",
    "**Example to produce :**\n",
    "\n",
    "    color = [255,0,100,1]\n",
    "\n",
    "The above example produces a purplish color. Many websites provide details about using colors. For example, see [here](https://www.rapidtables.com/web/color/RGB_Color.html) for a color codes chart.\n",
    "\n",
    "#### Color Maps\n",
    "\n",
    "A color map is a collection of string values that can be given to generate a series of related colors from a defined set.\n",
    "\n",
    "Color maps can be viewed here: https://matplotlib.org/examples/color/colormaps_reference.html\n",
    "\n",
    "#### Color Map Helpers\n",
    "\n",
    "To better understand the syntax for each input type, the ArcGIS API for Python provides some helper functions:"
   ]
  },
  {
   "cell_type": "code",
   "execution_count": 14,
   "metadata": {},
   "outputs": [],
   "source": [
    "from arcgis.mapping import display_colormaps"
   ]
  },
  {
   "cell_type": "markdown",
   "metadata": {},
   "source": [
    "The **display_colormaps** function provides a quick, easy way to visualize the pre-defined set of colormaps you can use.  "
   ]
  },
  {
   "cell_type": "code",
   "execution_count": null,
   "metadata": {},
   "outputs": [],
   "source": [
    "display_colormaps()"
   ]
  },
  {
   "cell_type": "markdown",
   "metadata": {},
   "source": [
    "![named color ramps](http://esri.github.io/arcgis-python-api/notebooks/nbimages/13_display_colormaps.png)"
   ]
  },
  {
   "cell_type": "markdown",
   "metadata": {},
   "source": [
    "You can retrieve a list of colormaps as well:"
   ]
  },
  {
   "cell_type": "code",
   "execution_count": 15,
   "metadata": {},
   "outputs": [
    {
     "name": "stdout",
     "output_type": "stream",
     "text": [
      "Accent              Accent_r            Blues               Blues_r             BrBG\n",
      "BrBG_r              BuGn                BuGn_r              BuPu                BuPu_r\n",
      "CMRmap              CMRmap_r            Dark2               Dark2_r             GnBu\n",
      "GnBu_r              Greens              Greens_r            Greys               Greys_r\n",
      "OrRd                OrRd_r              Oranges             Oranges_r           PRGn\n",
      "PRGn_r              Paired              Paired_r            Pastel1             Pastel1_r\n",
      "Pastel2             Pastel2_r           PiYG                PiYG_r              PuBu\n",
      "PuBuGn              PuBuGn_r            PuBu_r              PuOr                PuOr_r\n",
      "PuRd                PuRd_r              Purples             Purples_r           RdBu\n",
      "RdBu_r              RdGy                RdGy_r              RdPu                RdPu_r\n",
      "RdYlBu              RdYlBu_r            RdYlGn              RdYlGn_r            Reds\n",
      "Reds_r              Set1                Set1_r              Set2                Set2_r\n",
      "Set3                Set3_r              Spectral            Spectral_r          Wistia\n",
      "Wistia_r            YlGn                YlGnBu              YlGnBu_r            YlGn_r\n",
      "YlOrBr              YlOrBr_r            YlOrRd              YlOrRd_r            afmhot\n",
      "afmhot_r            autumn              autumn_r            binary              binary_r\n",
      "bone                bone_r              brg                 brg_r               bwr\n",
      "bwr_r               cool                cool_r              coolwarm            coolwarm_r\n",
      "copper              copper_r            cubehelix           cubehelix_r         flag\n",
      "flag_r              gist_earth          gist_earth_r        gist_gray           gist_gray_r\n",
      "gist_heat           gist_heat_r         gist_ncar           gist_ncar_r         gist_rainbow\n",
      "gist_rainbow_r      gist_stern          gist_stern_r        gist_yarg           gist_yarg_r\n",
      "gnuplot             gnuplot2            gnuplot2_r          gnuplot_r           gray\n",
      "gray_r              hot                 hot_r               hsv                 hsv_r\n",
      "inferno             inferno_r           jet                 jet_r               magma\n",
      "magma_r             nipy_spectral       nipy_spectral_r     ocean               ocean_r\n",
      "pink                pink_r              plasma              plasma_r            prism\n",
      "prism_r             rainbow             rainbow_r           seismic             seismic_r\n",
      "spring              spring_r            summer              summer_r            terrain\n",
      "terrain_r           viridis             viridis_r           winter              winter_r\n"
     ]
    }
   ],
   "source": [
    "from arcgis.mapping import symbol\n",
    "\n",
    "colormaps = symbol.ALLOWED_CMAPS\n",
    "for a,b,c,d,e in zip(colormaps[::5], colormaps[1::5], colormaps[2::5], colormaps[3::5], colormaps[4::5]):\n",
    "    print(\"{:<20}{:<20}{:<20}{:<20}{:<}\".format(a,b,c,d,e))"
   ]
  },
  {
   "cell_type": "markdown",
   "metadata": {},
   "source": [
    "You can enter a list of color ramp names as input to the `display_colormaps` function to filter the output:"
   ]
  },
  {
   "cell_type": "code",
   "execution_count": null,
   "metadata": {},
   "outputs": [],
   "source": [
    "display_colormaps(['Greens_r', 'PRGn', 'Dark2', 'Set1'])"
   ]
  },
  {
   "cell_type": "markdown",
   "metadata": {},
   "source": [
    "![selected color ramps](http://esri.github.io/arcgis-python-api/notebooks/nbimages/13_selected_colormaps.png)"
   ]
  },
  {
   "cell_type": "markdown",
   "metadata": {},
   "source": [
    "### Renderers\n",
    "[`Renderers`](https://developers.arcgis.com/documentation/common-data-types/renderer-objects.htm) define how to visually represent a `feature layer` by defining [`symbols`](https://developers.arcgis.com/documentation/common-data-types/symbol-objects.htm) to represent individual features. The SDF provides you with functionality to control the way features appear by choosing the `symbol` the renderer uses.\n",
    "\n",
    "Previous versions of the ArcGIS API for Python provided a method to specify a renderer manually, but you had to know details about the renderer before you drew your data. The [`map.add_layer()`]() method did not provide access to all options avialble for rendering datasets. The new visualization capabilities provided by the SDF allow you to draw spatial data quickly and easily with access to more rendering options.\n",
    "\n",
    "#### Supported Renderers\n",
    "The renderering options below are documented in further detail in the [`Spatial DatFrame Reference`](https://esri.github.io/arcgis-python-api/apidoc/html/arcgis.features.toc.html#spatialdataframe):\n",
    "\n",
    "+ Simple - renders using one symbol only\n",
    "+ Unique - renders on one or more string attributes\n",
    "+ Class Breaks - renders on numeric data\n",
    "+ Heatmap- renders point data into raster visualization\n",
    "\n",
    "#### Renderer Syntax\n",
    "\n",
    "+ 's' - is a simple renderer that uses one symbol only.\n",
    "+ 'u' - unique renderer symbolizes features based on one or more matching string attributes.\n",
    "+ 'c' - A class breaks renderer symbolizes based on the value of some numeric attribute.\n",
    "+ 'h' - heatmap renders point data into a raster visualization that emphasizes areas of higher density or weighted values.\n",
    "\n",
    "#### Using Renderers\n",
    "\n",
    "Renderers are generated when on Spatial DataFrames when the [`plot`](https://esri.github.io/arcgis-python-api/apidoc/html/arcgis.features.toc.html#arcgis.features.SpatialDataFrame.plot) method is called.\n",
    "\n",
    "### Symbology for Simple Renderers\n",
    "\n",
    "The ArcGIS API for Python provides you the ability to set symbol types so you control data appearance. The  [`show_styles`]() function in the `arcgis.mapping` module assists developers with the syntax to define symbols.\n",
    "\n",
    "#### Getting the Symbol Style\n"
   ]
  },
  {
   "cell_type": "code",
   "execution_count": 17,
   "metadata": {},
   "outputs": [],
   "source": [
    "from arcgis.mapping import show_styles"
   ]
  },
  {
   "cell_type": "code",
   "execution_count": 18,
   "metadata": {},
   "outputs": [
    {
     "data": {
      "text/html": [
       "<div>\n",
       "<style scoped>\n",
       "    .dataframe tbody tr th:only-of-type {\n",
       "        vertical-align: middle;\n",
       "    }\n",
       "\n",
       "    .dataframe tbody tr th {\n",
       "        vertical-align: top;\n",
       "    }\n",
       "\n",
       "    .dataframe thead th {\n",
       "        text-align: right;\n",
       "    }\n",
       "</style>\n",
       "<table border=\"1\" class=\"dataframe\">\n",
       "  <thead>\n",
       "    <tr style=\"text-align: right;\">\n",
       "      <th></th>\n",
       "      <th>MARKER</th>\n",
       "      <th>ESRI_STYLE</th>\n",
       "    </tr>\n",
       "  </thead>\n",
       "  <tbody>\n",
       "    <tr>\n",
       "      <th>0</th>\n",
       "      <td>o</td>\n",
       "      <td>Circle (default)</td>\n",
       "    </tr>\n",
       "    <tr>\n",
       "      <th>1</th>\n",
       "      <td>+</td>\n",
       "      <td>Cross</td>\n",
       "    </tr>\n",
       "    <tr>\n",
       "      <th>2</th>\n",
       "      <td>d</td>\n",
       "      <td>Diamond</td>\n",
       "    </tr>\n",
       "    <tr>\n",
       "      <th>3</th>\n",
       "      <td>s</td>\n",
       "      <td>Square</td>\n",
       "    </tr>\n",
       "    <tr>\n",
       "      <th>4</th>\n",
       "      <td>x</td>\n",
       "      <td>X</td>\n",
       "    </tr>\n",
       "  </tbody>\n",
       "</table>\n",
       "</div>"
      ],
      "text/plain": [
       "  MARKER        ESRI_STYLE\n",
       "0      o  Circle (default)\n",
       "1      +             Cross\n",
       "2      d           Diamond\n",
       "3      s            Square\n",
       "4      x                 X"
      ]
     },
     "execution_count": 18,
     "metadata": {},
     "output_type": "execute_result"
    }
   ],
   "source": [
    "show_styles(df.geometry_type)"
   ]
  },
  {
   "cell_type": "code",
   "execution_count": 20,
   "metadata": {},
   "outputs": [
    {
     "data": {
      "application/vnd.jupyter.widget-view+json": {
       "model_id": "96a8ef6fbaae4dac8bd4e63237153314",
       "version_major": 2,
       "version_minor": 0
      },
      "text/plain": [
       "MapView(basemaps=['dark-gray', 'dark-gray-vector', 'gray', 'gray-vector', 'hybrid', 'national-geographic', 'oc…"
      ]
     },
     "metadata": {},
     "output_type": "display_data"
    }
   ],
   "source": [
    "m = GIS().map('United States', 4)\n",
    "m"
   ]
  },
  {
   "cell_type": "markdown",
   "metadata": {},
   "source": [
    "![map of US squares](http://esri.github.io/arcgis-python-api/notebooks/nbimages/13_4_map_dfplot2.png)"
   ]
  },
  {
   "cell_type": "code",
   "execution_count": 21,
   "metadata": {},
   "outputs": [
    {
     "data": {
      "text/plain": [
       "True"
      ]
     },
     "execution_count": 21,
     "metadata": {},
     "output_type": "execute_result"
    }
   ],
   "source": [
    "m.center = [39, -98]\n",
    "df.plot(map_widget=m,\n",
    "        kind='map',\n",
    "        symbol_type='simple',\n",
    "        symbol_style='s',\n",
    "        cmap='Greens_r',\n",
    "        cstep=35,\n",
    "        outline_color='binary',\n",
    "        marker_size=5,\n",
    "        line_width=.5,)"
   ]
  }
 ],
 "metadata": {
  "kernelspec": {
   "display_name": "Python 3",
   "language": "python",
   "name": "python3"
  },
  "language_info": {
   "codemirror_mode": {
    "name": "ipython",
    "version": 3
   },
   "file_extension": ".py",
   "mimetype": "text/x-python",
   "name": "python",
   "nbconvert_exporter": "python",
   "pygments_lexer": "ipython3",
   "version": "3.6.5"
  }
 },
 "nbformat": 4,
 "nbformat_minor": 2
}
